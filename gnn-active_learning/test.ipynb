{
 "cells": [
  {
   "cell_type": "code",
   "execution_count": 1,
   "metadata": {},
   "outputs": [],
   "source": [
    "import pytorch_lightning as pl\n",
    "from typing import Optional, Dict, List, Union\n",
    "from torchmetrics import Metric\n",
    "import copy\n",
    "from hydra.utils import instantiate\n",
    "from omegaconf import DictConfig, OmegaConf, open_dict\n",
    "from torch import nn\n",
    "import torch\n",
    "import hydra\n",
    "from e3nn import o3\n",
    "from curator.data import properties, Asap3NeighborList, AseDataReader\n",
    "from curator.model import LitNNP, NeuralNetworkPotential\n",
    "from curator.simulator import calculator\n",
    "from curator.layer import scatter_add\n",
    "from collections import OrderedDict\n",
    "from pathlib import Path\n",
    "import numpy as np\n",
    "from torchmetrics import Metric\n",
    "\n",
    "from ase.io import read, write\n",
    "import curator\n",
    "import mace\n",
    "from typing import Callable\n",
    "from dataclasses import dataclass\n",
    "from typing import Final, Dict, Set"
   ]
  },
  {
   "cell_type": "code",
   "execution_count": 2,
   "metadata": {},
   "outputs": [],
   "source": [
    "import os\n",
    "from hydra import initialize, initialize_config_module, initialize_config_dir, compose\n",
    "from e3nn.util.jit import compile, compile_mode, script\n",
    "from e3nn.util.test import assert_auto_jitable\n",
    "from PaiNN.model import PainnModel\n",
    "from PaiNN.data import AseDataset, collate_atomsdata\n",
    "import torchmetrics\n",
    "import logging\n",
    "\n",
    "from nequip.data import dataset_from_config, DataLoader, AtomicData, AtomicDataDict\n",
    "from torch_runstats.scatter import scatter\n",
    "import yaml\n",
    "from curator.utils import read_user_config\n",
    "from collections import defaultdict\n",
    "from ase.data import chemical_symbols"
   ]
  },
  {
   "cell_type": "code",
   "execution_count": 3,
   "metadata": {},
   "outputs": [],
   "source": [
    "from nequip.scripts.train import parse_command_line\n",
    "from nequip.train.trainer import Trainer\n",
    "from nequip.data import dataset_from_config\n",
    "from nequip.model import model_from_config\n",
    "import pickle\n",
    "from time import perf_counter\n",
    "from nequip.utils import atomic_write_group\n",
    "from nequip.data import AtomicData"
   ]
  },
  {
   "cell_type": "code",
   "execution_count": 4,
   "metadata": {},
   "outputs": [],
   "source": [
    "config = parse_command_line(['nequip_example.yaml'])"
   ]
  },
  {
   "cell_type": "code",
   "execution_count": 5,
   "metadata": {},
   "outputs": [
    {
     "name": "stderr",
     "output_type": "stream",
     "text": [
      "Torch device: cuda\n"
     ]
    },
    {
     "name": "stderr",
     "output_type": "stream",
     "text": [
      "/home/xinyang/miniconda3/lib/python3.11/site-packages/torch/jit/_check.py:172: UserWarning: The TorchScript type system doesn't support instance-level annotations on empty non-base types in `__init__`. Instead, either 1) use a type annotation in the class body, or 2) wrap the type in `torch.jit.Attribute`.\n",
      "  warnings.warn(\"The TorchScript type system doesn't support \"\n",
      "Atomic outputs are scaled by: [H, C, O: None], shifted by [H, C, O: None].\n",
      "!!!! Careful global_shift is set to dataset_total_energy_mean.The model for ['total_energy'] will no longer be size extensive\n",
      "Replace string dataset_forces_rms to 25.22938346862793\n",
      "Replace string dataset_total_energy_mean to tensor([-406740.3125])\n",
      "Initially outputs are globally scaled by: 25.22938346862793, total_energy are globally shifted by tensor([-406740.3125]).\n"
     ]
    }
   ],
   "source": [
    "trainer = Trainer(model=None, **dict(config))\n",
    "# dataset = dataset_from_config(config, prefix=\"dataset\")\n",
    "dataset = pickle.load(open('/home/xinyang/nequip_aspirin.pl', mode='rb'))\n",
    "trainer.set_dataset(dataset, None)\n",
    "final_model = model_from_config(\n",
    "    config=config, initialize=True, dataset=trainer.dataset_train\n",
    ")\n",
    "trainer.model = final_model"
   ]
  },
  {
   "cell_type": "code",
   "execution_count": 6,
   "metadata": {},
   "outputs": [],
   "source": [
    "config.update(trainer.params)\n",
    "trainer.update_kwargs(config)"
   ]
  },
  {
   "cell_type": "code",
   "execution_count": 7,
   "metadata": {},
   "outputs": [
    {
     "name": "stderr",
     "output_type": "stream",
     "text": [
      "Number of weights: 392824\n",
      "Number of trainable weights: 392824\n",
      "! Starting training ...\n"
     ]
    }
   ],
   "source": [
    "# train initialization\n",
    "trainer.init()\n",
    "for callback in trainer._init_callbacks:\n",
    "    callback(trainer)\n",
    "\n",
    "trainer.init_log()\n",
    "trainer.wall = perf_counter()\n",
    "trainer.previous_cumulative_wall = trainer.cumulative_wall\n",
    "\n",
    "with atomic_write_group():\n",
    "    if trainer.iepoch == -1:\n",
    "        trainer.save()\n",
    "    if trainer.iepoch in [-1, 0]:\n",
    "        trainer.save_config()\n",
    "        \n",
    "trainer.init_metrics()"
   ]
  },
  {
   "cell_type": "code",
   "execution_count": 14,
   "metadata": {},
   "outputs": [
    {
     "name": "stderr",
     "output_type": "stream",
     "text": [
      "\n",
      "training\n",
      "# Epoch batch         loss       loss_f       loss_e        f_mae       f_rmse      H_f_mae      C_f_mae      O_f_mae  psavg_f_mae     H_f_rmse     C_f_rmse     O_f_rmse psavg_f_rmse        e_mae      e/N_mae\n",
      "      1     1        0.472        0.352         0.12         9.97           15         5.15         10.3         18.9         11.4         7.23         14.5         24.5         15.4         8.73        0.416\n",
      "      1     2        0.505        0.474       0.0306         12.1         17.4         8.91         11.3         20.5         13.5         13.6         16.4         24.7         18.2         4.31        0.205\n",
      "      1     3        0.821        0.657        0.164         14.4         20.5         12.3         12.7         22.5         15.8         17.3         19.4         27.4         21.4         10.2        0.485\n",
      "      1     4        0.844        0.718        0.126         15.6         21.4         12.1         15.3         23.5         16.9         16.2         21.3         29.1         22.2         8.97        0.427\n",
      "      1     5        0.763        0.719       0.0442         15.9         21.4         10.1         18.1         22.9           17         13.3         23.4         28.5         21.7          5.3        0.252\n",
      "      1     6        0.765        0.755      0.00981         16.9         21.9         10.4         20.9         20.8         17.3         12.6           26         26.1         21.6         2.38        0.113\n",
      "      1     7        0.864        0.859       0.0044         18.5         23.4         13.3         23.2         18.2         18.2         16.1         27.9         24.5         22.8         1.33       0.0632\n",
      "      1     8        0.936        0.935      0.00116         19.4         24.4         15.9         23.9         16.5         18.8         19.3         28.8         22.8         23.6        0.656       0.0312\n",
      "      1     9        0.859        0.855       0.0045         18.5         23.3         14.8         23.4           15         17.7         18.2         28.7         18.5         21.8         1.69       0.0804\n",
      "      1    10        0.829        0.807       0.0225         17.8         22.7         12.7         23.1         16.1         17.3         15.4         28.3         20.5         21.4         3.77        0.179\n",
      "      1    11        0.983         0.97       0.0131         18.9         24.8         11.1         23.8         23.5         19.5         15.1         29.5         28.8         24.5         2.73         0.13\n",
      "      1    12         1.36         1.35      0.00586         21.6         29.3         12.9         26.2         28.6         22.6         18.7         33.7         35.5         29.3         1.42       0.0677\n",
      "      1    13         1.76         1.72       0.0391           24         33.1         15.9         28.3         30.4         24.9         22.7         37.9         38.5           33         4.94        0.235\n",
      "      1    14         1.67         1.65       0.0199         23.6         32.4         15.9         27.5         30.2         24.5         21.8         37.1           38         32.3         3.55        0.169\n",
      "      1    15         1.18         1.17      0.00385         20.4         27.3         12.9         23.5         28.2         21.5         16.5           31         34.8         27.4         1.42       0.0677\n",
      "      1    16        0.896        0.866       0.0295         17.2         23.5         12.1         18.3         25.1         18.5         15.9           24         33.1         24.3         4.33        0.206\n",
      "      1    17         1.01        0.989       0.0194         18.7         25.1         17.1         15.1         30.1         20.8         22.2         20.1         37.5         26.6          3.5        0.167\n",
      "      1    18          1.1         1.08       0.0183         19.8         26.2         18.1         15.8         32.3           22         23.4         20.4         39.7         27.8         3.38        0.161\n",
      "      1    19        0.999        0.954       0.0452         19.2         24.6         15.4         18.6         27.9         20.6         18.5           23         36.2         25.9          5.3        0.252\n",
      "      1    20         1.02         0.96       0.0595         19.5         24.7         13.7         21.4           27         20.7         16.1         25.8         34.5         25.5         6.14        0.292\n",
      "      1    21         1.06         1.02       0.0413         19.7         25.4         12.6         22.7           27         20.8         16.3         27.4         34.3           26         5.11        0.243\n",
      "      1    22         1.03         1.01       0.0174         18.3         25.4         10.3         22.6         24.9         19.3         16.4           28         32.7         25.7         3.31        0.158\n",
      "      1    23        0.986        0.984       0.0027         18.9           25         11.9           24         21.5         19.1         17.2         28.6         29.2           25         1.28        0.061\n",
      "      1    24        0.901        0.901     0.000367         18.5         23.9         12.3         24.5         17.5         18.1         16.9         28.5         24.8         23.4        0.453       0.0216\n",
      "      1    25        0.801        0.799      0.00221         17.3         22.6         11.1         22.2         18.6         17.3         14.4         26.8         25.2         22.1         1.16       0.0551\n",
      "      1    26        0.995        0.977       0.0178         18.4         24.9         12.1         21.5           24         19.2         16.4         26.5         33.9         25.6         3.36         0.16\n",
      "      1    27         1.26         1.22       0.0445           20         27.8         13.5         23.9         24.4         20.6         19.3         29.2         37.4         28.6         5.33        0.254\n",
      "      1    28         1.13          1.1       0.0362         19.6         26.4         12.8         26.8         17.1         18.9         16.1         32.9         26.9         25.3         4.78        0.228\n",
      "      1    29         1.02            1       0.0195         18.5         25.2         12.1           28         9.98         16.7         14.7         34.9         12.9         20.9         3.52        0.167\n",
      "      1    30         1.03         1.02      0.00858         18.7         25.5         13.1         27.3         10.5           17         17.1         34.5         12.5         21.4         2.33        0.111\n",
      "      1    31        0.963        0.962     0.000585         18.7         24.7         13.1         25.5         14.6         17.7         17.8         31.5         18.6         22.6        0.594       0.0283\n",
      "      1    32        0.794        0.773       0.0217         16.9         22.2         11.3         21.9         16.9         16.7         15.9         26.6         22.1         21.5         3.62        0.173\n",
      "      1    33        0.659        0.598       0.0605         15.3         19.5           11         18.3         17.4         15.6         13.5         22.5         22.3         19.4         6.19        0.295\n",
      "      1    34        0.649        0.597       0.0518         14.7         19.5         10.6         17.6         16.3         14.8         14.3         22.5         21.1         19.3         5.73        0.273\n",
      "      1    35        0.772        0.759       0.0128         15.8           22         12.9         18.5         15.4         15.6         17.3         25.1         22.7         21.7         2.81        0.134\n",
      "      1    36        0.883        0.883     3.72e-05         16.4         23.7         12.9         19.8         15.7         16.1         17.7         27.4         25.2         23.4        0.141       0.0067\n",
      "      1    37        0.874        0.869      0.00499         16.5         23.5         9.82         22.3         16.9         16.3           13         29.5         24.8         22.4         1.77       0.0841\n",
      "      1    38        0.973        0.944       0.0292         17.7         24.5         8.34         25.2         19.4         17.7         10.1         31.3         27.3         22.9         4.27        0.203\n",
      "      1    39         1.23         1.13       0.0943           20         26.9           11           27         22.2         20.1         13.7         32.4         32.6         26.2          7.7        0.367\n",
      "      1    40         1.43         1.28         0.15         21.3         28.5         13.2         26.5         25.7         21.8           17         32.4         36.4         28.6         9.75        0.464\n",
      "      1    41         1.39         1.28        0.115         21.4         28.5         13.8         25.5         27.4         22.2         17.6         31.6         37.6         28.9         8.53        0.406\n",
      "      1    42         1.17         1.14       0.0293           20         26.9         12.2           24         26.4         20.9           15         30.2         36.1         27.1         4.25        0.202\n",
      "      1    43        0.973        0.972     0.000275         16.9         24.9         8.36         22.3           22         17.5         10.6         29.8           32         24.1        0.312       0.0149\n",
      "      1    44         1.07         1.07      0.00337         18.5           26         10.3         25.7         19.1         18.3         13.6         32.4         28.9         24.9         1.27       0.0603\n",
      "      1    45         1.48         1.48      0.00241         23.1         30.7         15.9         28.7         24.8         23.1         21.8         36.4         31.8           30        0.906       0.0432\n",
      "      1    46         1.56         1.55      0.00104           23         31.5         15.9         28.9         24.2           23         21.9         38.4         30.4         30.2        0.766       0.0365\n",
      "      1    47         1.21         1.21      0.00673         18.7         27.7         10.5           27         16.2         17.9         13.8           38         20.1         23.9         2.05       0.0975\n",
      "      1    48         1.06         1.04       0.0123         16.6         25.8         8.81         25.6           12         15.5         11.2         36.7         14.6         20.8         2.77        0.132\n",
      "      1    49         1.07         1.06      0.00277         17.6           26         12.1         23.7           15           17         15.5         34.9         18.3         22.9          1.2       0.0573\n",
      "      1    50         1.06         1.06     0.000168         18.7         25.9         14.2         23.1         17.9         18.4           18         32.4         22.7         24.4        0.328       0.0156\n",
      "\n",
      "validation\n",
      "# Epoch batch         loss       loss_f       loss_e        f_mae       f_rmse      H_f_mae      C_f_mae      O_f_mae  psavg_f_mae     H_f_rmse     C_f_rmse     O_f_rmse psavg_f_rmse        e_mae      e/N_mae\n",
      "      1     1         1.01        0.998       0.0111         18.3         25.2         11.9         21.4           24         19.1         15.8         27.8         33.2         25.6         2.46        0.117\n",
      "      1     2          1.2         1.19       0.0159         19.6         27.5         11.3         27.4         18.9         19.2         15.1         35.7         25.3         25.4         2.72        0.129\n",
      "      1     3         1.15         1.14      0.00715         19.3           27           12         25.9         19.2           19         15.9         33.9         26.9         25.6         1.38       0.0655\n",
      "      1     4        0.851        0.779        0.072         16.6         22.3           12         21.3         15.3         16.2         15.7         26.8         22.3         21.6          6.7        0.319\n",
      "      1     5         1.01        0.978       0.0281         18.4           25         10.3         27.6         13.8         17.2         14.1         33.5         18.8         22.1         3.93        0.187\n",
      "\n",
      "\n",
      "  Train      #    Epoch      wal       LR       loss_f       loss_e         loss        f_mae       f_rmse      H_f_mae      C_f_mae      O_f_mae  psavg_f_mae     H_f_rmse     C_f_rmse     O_f_rmse psavg_f_rmse        e_mae      e/N_mae\n",
      "! Train               1  130.616    0.005         0.99       0.0314         1.02         18.4         25.1         12.4         22.4         21.2         18.7         16.6         29.3         28.8         24.9         3.59        0.171\n",
      "! Validation          1  130.616    0.005         1.02       0.0268         1.04         18.4         25.4         11.5         24.7         18.2         18.1         15.3         31.7         25.7         24.3         3.44        0.164\n",
      "Wall time: 130.62472380099643\n"
     ]
    }
   ],
   "source": [
    "trainer.epoch_step()"
   ]
  },
  {
   "cell_type": "code",
   "execution_count": 4,
   "metadata": {},
   "outputs": [],
   "source": [
    "from torch_ema import ExponentialMovingAverage\n",
    "from curator.utils import EarlyStopping\n",
    "import contextlib"
   ]
  },
  {
   "cell_type": "code",
   "execution_count": 5,
   "metadata": {},
   "outputs": [],
   "source": [
    "cfg = read_user_config(\"null.yaml\", config_path=\"../curator/configs\")"
   ]
  },
  {
   "cell_type": "code",
   "execution_count": 5,
   "metadata": {},
   "outputs": [
    {
     "name": "stderr",
     "output_type": "stream",
     "text": [
      "/home/xinyang/miniconda3/lib/python3.11/site-packages/torch/jit/_check.py:172: UserWarning: The TorchScript type system doesn't support instance-level annotations on empty non-base types in `__init__`. Instead, either 1) use a type annotation in the class body, or 2) wrap the type in `torch.jit.Attribute`.\n",
      "  warnings.warn(\"The TorchScript type system doesn't support \"\n"
     ]
    }
   ],
   "source": [
    "model = instantiate(cfg.model)"
   ]
  },
  {
   "cell_type": "code",
   "execution_count": 6,
   "metadata": {},
   "outputs": [],
   "source": [
    "task = instantiate(cfg.task, model=model)"
   ]
  },
  {
   "cell_type": "code",
   "execution_count": null,
   "metadata": {},
   "outputs": [],
   "source": []
  },
  {
   "cell_type": "code",
   "execution_count": null,
   "metadata": {},
   "outputs": [],
   "source": []
  },
  {
   "cell_type": "code",
   "execution_count": null,
   "metadata": {},
   "outputs": [],
   "source": []
  },
  {
   "cell_type": "code",
   "execution_count": 13,
   "metadata": {},
   "outputs": [],
   "source": [
    "atoms = read('/home/xinyang/Au-water_test.traj')"
   ]
  },
  {
   "cell_type": "code",
   "execution_count": 14,
   "metadata": {},
   "outputs": [],
   "source": [
    "from curator.data import TorchNeighborList, AseDataReader\n",
    "import curator"
   ]
  },
  {
   "cell_type": "code",
   "execution_count": 15,
   "metadata": {},
   "outputs": [],
   "source": [
    "ase_reader = AseDataReader(5.0, transforms=[TorchNeighborList(5.0, return_distance=True)])"
   ]
  },
  {
   "cell_type": "code",
   "execution_count": 17,
   "metadata": {},
   "outputs": [],
   "source": [
    "atoms_dict = ase_reader(atoms)\n",
    "edge_dist = atoms_dict['_edge_distance']"
   ]
  },
  {
   "cell_type": "code",
   "execution_count": null,
   "metadata": {},
   "outputs": [],
   "source": []
  },
  {
   "cell_type": "code",
   "execution_count": null,
   "metadata": {},
   "outputs": [],
   "source": []
  },
  {
   "cell_type": "code",
   "execution_count": 21,
   "metadata": {},
   "outputs": [],
   "source": [
    "from curator.layer import RadialBasisEdgeEncoding\n",
    "from curator.layer import CosineCutoff, SineBasis"
   ]
  },
  {
   "cell_type": "code",
   "execution_count": 22,
   "metadata": {},
   "outputs": [],
   "source": [
    "cutoff_fn = CosineCutoff(5.0)"
   ]
  },
  {
   "cell_type": "code",
   "execution_count": 23,
   "metadata": {},
   "outputs": [],
   "source": [
    "sine = SineBasis(cutoff=5.0, num_basis=6)"
   ]
  },
  {
   "cell_type": "code",
   "execution_count": 25,
   "metadata": {},
   "outputs": [],
   "source": [
    "filter = nn.Linear(6, 128 * 3)"
   ]
  },
  {
   "cell_type": "code",
   "execution_count": null,
   "metadata": {},
   "outputs": [],
   "source": []
  },
  {
   "cell_type": "code",
   "execution_count": 17,
   "metadata": {},
   "outputs": [
    {
     "data": {
      "text/plain": [
       "tensor([[ 0.1311, -0.2212,  0.2420, -0.1870,  0.0734,  0.0631],\n",
       "        [ 0.0204, -0.0407,  0.0605, -0.0798,  0.0982, -0.1157],\n",
       "        [ 0.0106, -0.0212,  0.0317, -0.0421,  0.0524, -0.0626],\n",
       "        ...,\n",
       "        [ 0.0685, -0.1304,  0.1795, -0.2112,  0.2222, -0.2115],\n",
       "        [ 0.0685, -0.1304,  0.1795, -0.2111,  0.2222, -0.2115],\n",
       "        [ 0.1324, -0.2227,  0.2419, -0.1841,  0.0676,  0.0705]])"
      ]
     },
     "execution_count": 17,
     "metadata": {},
     "output_type": "execute_result"
    }
   ],
   "source": [
    "sine(edge_dist)"
   ]
  },
  {
   "cell_type": "code",
   "execution_count": 26,
   "metadata": {},
   "outputs": [],
   "source": [
    "edge_dist = atoms_dict['_edge_distance']\n",
    "filter_weight = filter(sine(edge_dist))\n",
    "filter_weight = filter_weight * cutoff_fn(edge_dist).unsqueeze(-1)"
   ]
  },
  {
   "cell_type": "code",
   "execution_count": 27,
   "metadata": {},
   "outputs": [
    {
     "data": {
      "text/plain": [
       "tensor([[ 1.0266e-02, -1.7318e-02,  1.8945e-02, -1.4640e-02,  5.7498e-03,\n",
       "          4.9411e-03],\n",
       "        [ 5.0167e-05, -9.9841e-05,  1.4854e-04, -1.9577e-04,  2.4108e-04,\n",
       "         -2.8403e-04],\n",
       "        [ 7.1897e-06, -1.4360e-05,  2.1491e-05, -2.8564e-05,  3.5559e-05,\n",
       "         -4.2458e-05],\n",
       "        ...,\n",
       "        [ 1.6719e-03, -3.1806e-03,  4.3790e-03, -5.1503e-03,  5.4190e-03,\n",
       "         -5.1591e-03],\n",
       "        [ 1.6706e-03, -3.1784e-03,  4.3762e-03, -5.1472e-03,  5.4163e-03,\n",
       "         -5.1573e-03],\n",
       "        [ 1.0553e-02, -1.7743e-02,  1.9278e-02, -1.4668e-02,  5.3843e-03,\n",
       "          5.6158e-03]])"
      ]
     },
     "execution_count": 27,
     "metadata": {},
     "output_type": "execute_result"
    }
   ],
   "source": [
    "sine(edge_dist) * cutoff_fn(edge_dist)[:, None]"
   ]
  },
  {
   "cell_type": "code",
   "execution_count": 40,
   "metadata": {},
   "outputs": [
    {
     "data": {
      "text/plain": [
       "tensor([ 0.0103, -0.0173,  0.0189, -0.0146,  0.0057,  0.0049])"
      ]
     },
     "execution_count": 40,
     "metadata": {},
     "output_type": "execute_result"
    }
   ],
   "source": [
    "sine(edge_dist)[0,:] * cutoff_fn(edge_dist)[0]"
   ]
  },
  {
   "cell_type": "code",
   "execution_count": 28,
   "metadata": {},
   "outputs": [],
   "source": [
    "test_input = sine(edge_dist)"
   ]
  },
  {
   "cell_type": "code",
   "execution_count": 38,
   "metadata": {},
   "outputs": [
    {
     "data": {
      "text/plain": [
       "tensor([0.0783, 0.0025, 0.0007,  ..., 0.0244, 0.0244, 0.0797])"
      ]
     },
     "execution_count": 38,
     "metadata": {},
     "output_type": "execute_result"
    }
   ],
   "source": [
    "cutoff_fn(edge_dist)"
   ]
  },
  {
   "cell_type": "code",
   "execution_count": 36,
   "metadata": {},
   "outputs": [
    {
     "data": {
      "text/plain": [
       "tensor([[-2.1693e-03, -3.3071e-02, -1.3626e-02,  ...,  3.0264e-02,\n",
       "          3.9087e-03,  2.3733e-02],\n",
       "        [-1.2179e-04, -9.6975e-04, -6.2630e-04,  ...,  9.2199e-04,\n",
       "          5.5822e-04,  7.2841e-04],\n",
       "        [-3.3015e-06, -2.6811e-04, -1.5680e-04,  ...,  2.5786e-04,\n",
       "          1.6555e-04,  1.7821e-04],\n",
       "        ...,\n",
       "        [-4.0805e-03, -9.8653e-03, -7.3949e-03,  ...,  9.0350e-03,\n",
       "          3.4794e-03,  9.4409e-03],\n",
       "        [-4.0785e-03, -9.8605e-03, -7.3916e-03,  ...,  9.0307e-03,\n",
       "          3.4785e-03,  9.4364e-03],\n",
       "        [-1.7919e-03, -3.3655e-02, -1.3551e-02,  ...,  3.0806e-02,\n",
       "          3.8812e-03,  2.3921e-02]], grad_fn=<MulBackward0>)"
      ]
     },
     "execution_count": 36,
     "metadata": {},
     "output_type": "execute_result"
    }
   ],
   "source": [
    "filter(sine(edge_dist)) * cutoff_fn(edge_dist).unsqueeze(-1)"
   ]
  },
  {
   "cell_type": "code",
   "execution_count": 8,
   "metadata": {},
   "outputs": [],
   "source": [
    "irreps_in = o3.Irreps([(6, (0, 1))])\n",
    "irreps_out = o3.Irreps([(128, (0, 1))])"
   ]
  },
  {
   "cell_type": "code",
   "execution_count": null,
   "metadata": {},
   "outputs": [],
   "source": [
    "cutoff_fn(edge_dist)"
   ]
  },
  {
   "cell_type": "code",
   "execution_count": 10,
   "metadata": {},
   "outputs": [
    {
     "name": "stderr",
     "output_type": "stream",
     "text": [
      "/home/xinyang/miniconda3/lib/python3.11/site-packages/torch/jit/_check.py:172: UserWarning: The TorchScript type system doesn't support instance-level annotations on empty non-base types in `__init__`. Instead, either 1) use a type annotation in the class body, or 2) wrap the type in `torch.jit.Attribute`.\n",
      "  warnings.warn(\"The TorchScript type system doesn't support \"\n"
     ]
    }
   ],
   "source": [
    "linear = o3.Linear(irreps_in, irreps_out)"
   ]
  },
  {
   "cell_type": "code",
   "execution_count": 31,
   "metadata": {},
   "outputs": [
    {
     "data": {
      "text/plain": [
       "torch.Size([9838, 128])"
      ]
     },
     "execution_count": 31,
     "metadata": {},
     "output_type": "execute_result"
    }
   ],
   "source": [
    "linear(test_input).shape"
   ]
  },
  {
   "cell_type": "code",
   "execution_count": 32,
   "metadata": {},
   "outputs": [
    {
     "data": {
      "text/plain": [
       "OrderedDict([('weight',\n",
       "              tensor([ 9.9679e-01,  2.6505e-02,  1.9578e-01, -9.3789e-01,  5.7741e-01,\n",
       "                      -1.4304e-01,  2.0971e-01, -1.1517e-01, -4.1923e-01, -1.8534e+00,\n",
       "                       1.2301e+00, -6.4429e-01,  1.3929e-02, -1.2637e+00, -8.7034e-02,\n",
       "                       1.4234e+00,  4.5670e-01, -7.9674e-02,  3.9620e-01, -5.5135e-01,\n",
       "                       2.7207e-01, -1.8287e+00,  1.1931e+00,  5.1764e-01, -7.6357e-01,\n",
       "                       1.4704e-01, -1.5680e-01, -9.4827e-02,  5.3387e-01,  5.0387e-01,\n",
       "                       9.6885e-01,  1.1902e+00,  1.0256e+00, -7.7731e-01, -6.8786e-01,\n",
       "                       1.1444e+00,  6.3259e-01,  8.4692e-02, -1.3049e-01, -7.2595e-01,\n",
       "                       1.1002e+00, -6.0119e-01, -1.4631e-01, -8.1769e-01, -2.0363e+00,\n",
       "                      -3.6261e-01,  3.5445e-02, -6.1868e-01,  5.4913e-01, -2.8015e-01,\n",
       "                      -1.9248e+00,  9.6674e-01,  1.2315e-01,  1.0276e+00, -2.3247e-01,\n",
       "                      -6.3516e-01,  7.3543e-01, -1.8863e+00,  1.1965e+00, -1.1943e+00,\n",
       "                       2.7253e-01,  5.5100e-01,  1.9924e-01,  7.0007e-01, -2.0360e-01,\n",
       "                       1.1933e-01,  2.0249e+00,  1.8034e+00, -2.0850e+00,  1.7096e+00,\n",
       "                      -5.5690e-01,  4.0377e-01,  3.4755e-01, -6.2229e-02, -2.2794e-01,\n",
       "                       1.1312e+00, -1.1391e+00, -1.1336e-02, -5.1088e-01,  7.6918e-01,\n",
       "                       6.0519e-02,  2.9315e-01,  5.0767e-01, -8.7152e-01, -1.0196e+00,\n",
       "                      -8.1915e-02, -1.6823e+00,  1.1402e+00,  5.5716e-02, -4.9275e-01,\n",
       "                       1.8386e+00,  9.2475e-02,  1.3759e+00, -7.6116e-01,  2.6717e-01,\n",
       "                       5.2235e-01,  1.1463e+00,  6.7846e-01, -2.6361e-02, -7.1361e-03,\n",
       "                       1.4660e+00, -7.1102e-01, -6.4280e-01, -5.4332e-01,  4.2631e-01,\n",
       "                      -3.4089e-01, -8.6907e-01, -7.8755e-01, -2.1081e+00, -1.9007e+00,\n",
       "                       8.4881e-01,  8.1332e-01, -9.2949e-01, -1.0584e+00, -6.9427e-01,\n",
       "                       5.8147e-01, -8.0854e-01, -1.5856e+00, -1.2491e+00, -1.6324e-01,\n",
       "                      -1.7036e+00, -7.0063e-01,  7.4436e-01,  9.9118e-02, -2.1968e-01,\n",
       "                      -2.0282e-01,  4.9201e-01, -1.2767e+00, -4.1655e-01, -2.9083e-01,\n",
       "                       7.9727e-01,  8.8246e-01, -6.9889e-01,  1.8521e-01, -1.0831e+00,\n",
       "                       4.6280e-01, -4.3406e-01,  9.3790e-01, -1.7927e+00, -1.3502e+00,\n",
       "                       3.8079e-02,  2.6710e+00,  1.1582e+00, -7.3639e-01, -1.9933e-01,\n",
       "                       1.8104e+00,  1.5463e+00, -5.4169e-01,  6.0714e-01, -2.5144e-01,\n",
       "                      -1.3681e+00, -2.3893e-01, -2.0695e+00, -1.8795e-01, -1.7230e+00,\n",
       "                       1.7840e+00,  9.0776e-01, -8.3343e-02,  8.6468e-01, -1.0143e+00,\n",
       "                      -1.2076e+00,  7.2366e-01,  7.1448e-01,  1.0927e+00,  1.6002e-02,\n",
       "                       8.3528e-01,  5.7479e-01,  7.1298e-01, -7.6536e-01, -1.4555e+00,\n",
       "                       1.7718e+00,  1.7159e+00,  4.5185e-01,  4.3241e-02,  1.9081e+00,\n",
       "                       4.1993e-01, -1.0239e+00,  6.2155e-01,  3.5372e-01, -7.5608e-01,\n",
       "                       3.1487e-01,  3.1604e-01, -5.5472e-01,  3.0786e-01, -1.1071e+00,\n",
       "                       1.7953e-01,  1.8512e+00,  3.6296e-01,  4.5694e-02,  1.1712e-02,\n",
       "                      -1.2825e+00, -1.0211e+00,  1.4578e+00, -3.1465e-01, -4.5812e-01,\n",
       "                       1.7981e+00,  6.0841e-01, -4.3156e-01,  1.2597e+00, -1.1410e+00,\n",
       "                       5.9168e-01,  2.7116e-01, -9.2933e-01, -4.0198e-01, -3.1258e-01,\n",
       "                       4.4863e-01, -1.6836e+00, -7.8618e-01,  1.4302e-01,  1.2990e+00,\n",
       "                      -1.4751e+00, -1.4933e-01, -1.0933e+00,  4.2825e-01,  9.9657e-01,\n",
       "                       6.2431e-01,  1.0638e+00, -4.2953e-01, -2.0128e-01, -1.8177e-01,\n",
       "                      -1.0480e+00,  1.9350e-02, -5.3779e-01,  1.3549e+00,  6.3796e-01,\n",
       "                      -6.5489e-01, -5.4051e-01,  2.5462e-01,  9.7603e-02, -5.6710e-01,\n",
       "                       4.0788e-01,  4.0464e-01,  2.3446e+00, -7.5268e-01, -8.2457e-01,\n",
       "                       1.8968e+00,  6.3113e-01, -4.0906e-01,  1.6069e-01,  7.4861e-01,\n",
       "                      -4.7214e-01,  1.6395e+00,  8.7617e-01, -1.3430e+00,  3.7520e-01,\n",
       "                      -2.7053e-01, -4.0166e-01,  1.7622e+00, -1.2723e+00,  2.4071e-02,\n",
       "                       9.3594e-01,  4.8865e-01,  3.8821e-01, -5.3489e-01, -3.6327e-01,\n",
       "                      -3.2761e-01,  6.0449e-01,  8.1411e-01, -2.7057e-01, -5.3270e-01,\n",
       "                       5.3618e-02, -1.3321e+00, -4.3426e-01, -8.6948e-01, -1.2988e-01,\n",
       "                       1.2137e-02, -6.2927e-01,  4.8990e-01,  2.5136e-03, -8.8338e-01,\n",
       "                      -1.8721e-03, -9.0739e-01,  2.2024e-01, -1.3363e+00, -1.7149e-03,\n",
       "                      -5.1249e-01,  1.7476e+00, -1.3481e+00, -1.3483e+00, -5.9901e-01,\n",
       "                       1.5393e-01, -9.6160e-02,  7.1189e-01,  1.1828e+00, -3.6898e-01,\n",
       "                      -6.6117e-01, -1.7501e+00, -3.9685e-02, -9.0958e-01, -6.4532e-01,\n",
       "                       7.6497e-01,  2.2133e-01, -2.4147e-01,  8.0636e-01,  1.6423e+00,\n",
       "                      -1.1036e+00, -6.3068e-01,  4.7970e-01,  6.5009e-02,  6.9615e-01,\n",
       "                      -7.0111e-01,  1.4131e+00,  8.4798e-01, -3.6864e-01, -1.5131e-01,\n",
       "                      -6.4576e-01,  1.7513e-01,  6.7534e-01, -8.3585e-01,  1.0365e+00,\n",
       "                       4.5251e-01, -1.3836e+00, -1.0929e+00, -1.7625e+00,  3.1124e-01,\n",
       "                      -2.2772e-01, -6.3676e-01, -1.4984e+00, -1.0242e+00,  1.2704e+00,\n",
       "                       1.3116e-01, -3.9910e-01,  1.3601e-01,  1.1592e+00,  6.9188e-01,\n",
       "                      -8.8515e-01,  2.8930e-01, -1.4906e+00,  1.0193e+00, -2.0973e+00,\n",
       "                      -3.6498e-01,  8.1852e-01,  8.4348e-01, -1.6168e+00,  9.5946e-01,\n",
       "                       1.5122e+00, -2.2710e-01,  1.5006e+00,  1.9283e+00,  1.2466e+00,\n",
       "                      -1.1443e+00, -1.0551e+00, -1.1500e+00,  1.6234e+00,  1.1202e+00,\n",
       "                       8.6461e-01, -6.2810e-01,  1.4778e+00, -8.0157e-02,  1.3520e+00,\n",
       "                      -1.0721e+00,  6.4857e-01, -1.0865e-01,  1.8856e+00, -8.5274e-01,\n",
       "                      -6.2043e-01, -1.5155e-01, -1.5391e+00, -1.1973e-01,  7.5615e-02,\n",
       "                       3.9931e-01,  2.4889e-01,  1.6854e+00,  7.4116e-01, -1.3033e+00,\n",
       "                       1.1020e+00,  1.0545e+00,  5.1249e-01,  6.9400e-01, -2.6035e+00,\n",
       "                       1.7762e+00, -9.0541e-02, -5.6377e-01, -6.6363e-01, -1.0614e+00,\n",
       "                       3.6981e-01,  2.0206e+00, -3.0995e-01, -3.1343e-01,  9.9259e-02,\n",
       "                      -2.0012e+00,  8.3283e-02,  7.9457e-02,  1.2348e+00,  7.1195e-01,\n",
       "                       3.9031e-01,  7.9480e-02, -9.3913e-01, -2.5280e-01, -5.5431e-01,\n",
       "                      -1.5297e+00,  1.2879e-01,  1.7857e+00, -5.1310e-01, -2.3621e+00,\n",
       "                      -5.0157e-01, -4.1622e-01,  1.3124e+00,  9.3053e-01,  3.4237e-01,\n",
       "                      -2.3734e-01, -2.0629e-01, -1.1862e-01, -5.1999e-01, -8.4027e-02,\n",
       "                      -7.6286e-01, -1.5842e-02,  7.7529e-01,  1.7175e+00,  5.4148e-01,\n",
       "                      -9.3820e-01, -2.1232e-01,  2.1389e-01,  8.3862e-01,  1.7606e+00,\n",
       "                       1.8529e+00, -7.7735e-01,  1.0196e+00, -5.4854e-01,  1.2711e+00,\n",
       "                      -2.1235e+00,  4.9215e-01, -1.4886e+00, -1.0851e+00,  9.8878e-01,\n",
       "                      -2.7073e-01,  1.4658e-01, -3.7038e-01, -6.0278e-01,  6.7741e-01,\n",
       "                      -5.3607e-01,  6.7198e-01,  1.3487e+00, -1.8036e+00, -3.4763e-01,\n",
       "                      -1.9702e-01, -7.3976e-01, -1.3209e+00, -1.3655e+00,  1.4168e+00,\n",
       "                       1.6342e+00,  9.0929e-01, -5.3093e-01, -2.7733e-01, -1.8950e-01,\n",
       "                      -3.9704e-01, -3.0999e-01, -2.3812e-01, -5.0850e-01,  6.6746e-01,\n",
       "                      -1.5963e+00, -2.3743e-01, -1.0520e+00,  2.2230e+00, -4.8123e-02,\n",
       "                       1.2635e+00, -2.5670e-01, -4.6941e-01,  1.5473e+00, -2.0622e+00,\n",
       "                      -2.3822e-02, -6.2000e-01, -8.1136e-01, -1.0458e+00,  5.8680e-01,\n",
       "                      -1.3395e-02, -1.5003e+00, -5.2252e-01,  2.3462e-01, -3.7665e-01,\n",
       "                       1.4500e+00, -1.1155e+00, -8.0153e-01,  1.7047e+00,  3.2444e-02,\n",
       "                       4.3296e-01,  9.4993e-02,  8.6173e-01, -1.1940e-01, -2.9564e-01,\n",
       "                      -1.0626e+00,  2.8362e+00, -2.4527e-01, -9.0692e-02, -6.9856e-01,\n",
       "                       3.2830e-01,  6.9492e-01, -6.9122e-01, -1.4332e+00, -1.6686e-01,\n",
       "                      -1.9783e+00, -8.8761e-03,  5.7534e-02, -1.8055e-01, -1.0330e-01,\n",
       "                      -1.3581e-01,  1.0149e+00,  5.3553e-01, -7.2448e-01, -8.7008e-01,\n",
       "                      -6.4553e-01, -1.2067e+00,  1.4843e+00,  2.7680e-01, -4.7881e-01,\n",
       "                       7.3523e-01,  6.0778e-01,  6.0296e-01,  4.2471e-01, -1.2662e+00,\n",
       "                      -1.4416e+00, -4.6208e-01, -5.4636e-01, -7.0035e-01,  4.9620e-01,\n",
       "                       6.6707e-01, -3.1955e-02,  7.1842e-01, -8.1655e-01, -8.1256e-01,\n",
       "                      -7.8059e-01,  1.8003e+00,  9.8680e-01,  2.6220e-01, -1.1848e+00,\n",
       "                      -4.9906e-01, -8.2782e-01, -1.1542e+00, -4.4362e-01,  2.2651e-01,\n",
       "                      -3.2450e-01, -1.6254e-01, -1.1615e+00,  1.2738e+00,  2.5014e-02,\n",
       "                       1.0405e+00,  1.3889e+00,  1.5464e+00,  2.6681e-01,  7.0405e-01,\n",
       "                      -1.1971e+00,  1.5613e+00, -1.7985e-01,  3.0065e-01, -1.5924e-01,\n",
       "                      -4.9515e-01, -9.0250e-01, -4.4571e-01, -1.1521e-01, -3.4266e-01,\n",
       "                       1.9578e-01, -2.0022e+00, -1.3852e+00, -5.1027e-01, -6.2327e-01,\n",
       "                      -2.4667e+00,  3.6613e-01, -8.7341e-01, -2.2310e-01,  1.6921e+00,\n",
       "                       1.0229e+00, -9.6744e-01, -1.5639e-01,  5.0923e-01, -9.3571e-01,\n",
       "                      -1.2653e+00,  1.1523e-01,  1.2613e-01, -1.4860e+00,  6.6287e-01,\n",
       "                      -1.7055e+00,  2.9479e-01,  9.9177e-01, -8.4456e-01, -8.8797e-01,\n",
       "                      -8.1006e-01,  8.5220e-01,  1.8766e+00, -5.7603e-01,  1.0532e-01,\n",
       "                      -1.4404e+00, -1.7339e+00, -6.4687e-01, -4.4816e-01, -5.7959e-01,\n",
       "                      -7.9069e-01, -3.8293e-02,  1.5376e+00,  9.0562e-01,  1.0609e+00,\n",
       "                      -7.4895e-01,  1.2439e+00,  7.5373e-01,  4.0752e-01,  1.9204e-01,\n",
       "                       3.2710e-01,  1.0010e-01,  3.5172e-01, -3.5134e-01, -4.8184e-01,\n",
       "                       1.0277e+00,  6.4083e-01,  3.2272e-01,  1.4365e+00, -1.9710e-01,\n",
       "                       7.2647e-01,  1.8052e+00,  9.3733e-01,  9.9761e-01, -1.6675e+00,\n",
       "                      -4.6195e-01, -1.1446e+00,  5.2385e-01, -1.3042e-01, -1.4697e+00,\n",
       "                       7.1714e-01, -6.2048e-01, -4.9416e-01,  1.3993e+00, -7.1547e-01,\n",
       "                      -8.8000e-02,  1.1992e-01, -5.1404e-01, -1.4396e+00, -6.7303e-01,\n",
       "                      -4.0938e-01,  2.6956e-01,  1.2653e-01,  7.6019e-01, -8.0842e-01,\n",
       "                       6.3945e-01,  7.0607e-01,  3.5323e-01,  2.2379e+00, -9.9499e-01,\n",
       "                       1.0826e+00, -1.4685e-01,  3.9948e-01, -1.4493e-01, -1.0462e+00,\n",
       "                       5.5744e-02,  1.3374e+00,  2.8456e+00,  5.2720e-01, -6.5399e-01,\n",
       "                       7.9128e-01,  6.0392e-01, -1.9372e+00,  1.2165e+00, -5.7941e-01,\n",
       "                       4.7655e-01,  8.2818e-01, -1.7442e+00,  6.6042e-01,  5.0539e-01,\n",
       "                      -7.0983e-01,  9.2160e-02,  1.0396e+00, -3.9513e-01, -8.0983e-01,\n",
       "                      -6.2379e-01, -6.7507e-01,  6.3830e-02, -1.0731e+00,  3.7645e-01,\n",
       "                       5.4201e-01,  1.0390e+00, -1.2470e+00, -3.5245e-01, -2.9842e-01,\n",
       "                       2.4782e-01,  6.5698e-01,  7.7473e-01,  8.0060e-01, -6.0268e-01,\n",
       "                       5.9445e-03, -9.2637e-01, -1.0929e+00, -6.8372e-02, -1.2031e-01,\n",
       "                       1.8184e+00, -1.4529e-01,  2.0017e-01, -1.8222e-01, -2.7289e-01,\n",
       "                       8.5023e-01,  6.4342e-01, -1.8421e+00, -1.5550e+00, -6.3300e-01,\n",
       "                       1.0391e-01, -9.6647e-01,  2.2796e+00, -1.2513e-01,  1.9971e-01,\n",
       "                      -4.2401e-01,  1.7388e+00,  1.0270e+00,  1.0302e+00,  2.5412e-01,\n",
       "                       4.4094e-01,  4.9339e-01, -5.1580e-01, -9.8596e-01, -1.0638e+00,\n",
       "                       3.3504e-01,  1.9578e+00, -6.6718e-01, -1.3787e+00,  5.1804e-01,\n",
       "                       1.4587e+00, -4.6130e-02, -1.4599e+00,  1.5574e+00,  1.3450e+00,\n",
       "                       3.0115e-01,  1.3599e+00, -1.6919e+00,  3.5849e-01,  2.0435e-01,\n",
       "                      -2.1752e-01,  6.5570e-01, -1.6179e+00, -1.4754e-01, -5.5497e-01,\n",
       "                       1.3768e+00,  2.6349e+00,  1.6239e+00,  1.9301e+00, -9.7559e-02,\n",
       "                      -1.8412e-01, -2.0800e+00,  2.4033e+00, -1.2833e+00, -2.6627e-01,\n",
       "                      -1.5255e+00,  6.9359e-01,  1.9369e+00, -5.8275e-02, -1.8491e+00,\n",
       "                      -3.6628e-01,  7.4709e-01,  6.2929e-01,  1.5595e-01, -7.6913e-01,\n",
       "                      -9.5483e-01, -7.8607e-01, -8.7703e-04, -2.8206e-01, -1.0733e+00,\n",
       "                      -5.6775e-01, -6.3969e-01, -1.4050e+00, -7.4930e-01,  1.2844e-01,\n",
       "                       4.7797e-01, -1.0531e+00,  4.8214e-01,  6.9716e-01,  2.4346e-01,\n",
       "                       1.8144e-01, -6.7618e-01,  4.2109e-01,  5.4267e-01,  1.7035e-01,\n",
       "                       1.2539e-02,  1.7469e-01, -4.5720e-01])),\n",
       "             ('bias', tensor([])),\n",
       "             ('output_mask',\n",
       "              tensor([1., 1., 1., 1., 1., 1., 1., 1., 1., 1., 1., 1., 1., 1., 1., 1., 1., 1.,\n",
       "                      1., 1., 1., 1., 1., 1., 1., 1., 1., 1., 1., 1., 1., 1., 1., 1., 1., 1.,\n",
       "                      1., 1., 1., 1., 1., 1., 1., 1., 1., 1., 1., 1., 1., 1., 1., 1., 1., 1.,\n",
       "                      1., 1., 1., 1., 1., 1., 1., 1., 1., 1., 1., 1., 1., 1., 1., 1., 1., 1.,\n",
       "                      1., 1., 1., 1., 1., 1., 1., 1., 1., 1., 1., 1., 1., 1., 1., 1., 1., 1.,\n",
       "                      1., 1., 1., 1., 1., 1., 1., 1., 1., 1., 1., 1., 1., 1., 1., 1., 1., 1.,\n",
       "                      1., 1., 1., 1., 1., 1., 1., 1., 1., 1., 1., 1., 1., 1., 1., 1., 1., 1.,\n",
       "                      1., 1.]))])"
      ]
     },
     "execution_count": 32,
     "metadata": {},
     "output_type": "execute_result"
    }
   ],
   "source": [
    "linear.state_dict()"
   ]
  },
  {
   "cell_type": "code",
   "execution_count": null,
   "metadata": {},
   "outputs": [],
   "source": []
  },
  {
   "cell_type": "code",
   "execution_count": 11,
   "metadata": {},
   "outputs": [
    {
     "data": {
      "text/plain": [
       "Linear(6x0e -> 128x0e | 768 weights)"
      ]
     },
     "execution_count": 11,
     "metadata": {},
     "output_type": "execute_result"
    }
   ],
   "source": [
    "linear"
   ]
  },
  {
   "cell_type": "code",
   "execution_count": 41,
   "metadata": {},
   "outputs": [
    {
     "data": {
      "text/plain": [
       "tensor([[-2.1693e-03, -3.3071e-02, -1.3626e-02,  ...,  3.0264e-02,\n",
       "          3.9087e-03,  2.3733e-02],\n",
       "        [-1.2179e-04, -9.6975e-04, -6.2630e-04,  ...,  9.2199e-04,\n",
       "          5.5822e-04,  7.2841e-04],\n",
       "        [-3.3015e-06, -2.6811e-04, -1.5680e-04,  ...,  2.5786e-04,\n",
       "          1.6555e-04,  1.7821e-04],\n",
       "        ...,\n",
       "        [-4.0805e-03, -9.8653e-03, -7.3949e-03,  ...,  9.0350e-03,\n",
       "          3.4794e-03,  9.4409e-03],\n",
       "        [-4.0785e-03, -9.8605e-03, -7.3916e-03,  ...,  9.0307e-03,\n",
       "          3.4785e-03,  9.4364e-03],\n",
       "        [-1.7919e-03, -3.3655e-02, -1.3551e-02,  ...,  3.0806e-02,\n",
       "          3.8812e-03,  2.3921e-02]], grad_fn=<MulBackward0>)"
      ]
     },
     "execution_count": 41,
     "metadata": {},
     "output_type": "execute_result"
    }
   ],
   "source": [
    "filter(sine(edge_dist)) * cutoff_fn(edge_dist).unsqueeze(-1)"
   ]
  },
  {
   "cell_type": "code",
   "execution_count": 32,
   "metadata": {},
   "outputs": [
    {
     "data": {
      "text/plain": [
       "tensor([0.0783, 0.0025, 0.0007,  ..., 0.0244, 0.0244, 0.0797])"
      ]
     },
     "execution_count": 32,
     "metadata": {},
     "output_type": "execute_result"
    }
   ],
   "source": [
    "cutoff_fn(edge_dist)"
   ]
  },
  {
   "cell_type": "code",
   "execution_count": null,
   "metadata": {},
   "outputs": [],
   "source": [
    "filter"
   ]
  },
  {
   "cell_type": "code",
   "execution_count": 31,
   "metadata": {},
   "outputs": [
    {
     "data": {
      "text/plain": [
       "tensor([[-2.1693e-03, -3.3071e-02, -1.3626e-02,  ...,  3.0264e-02,\n",
       "          3.9087e-03,  2.3733e-02],\n",
       "        [-1.2179e-04, -9.6975e-04, -6.2630e-04,  ...,  9.2199e-04,\n",
       "          5.5822e-04,  7.2841e-04],\n",
       "        [-3.3015e-06, -2.6811e-04, -1.5680e-04,  ...,  2.5786e-04,\n",
       "          1.6555e-04,  1.7821e-04],\n",
       "        ...,\n",
       "        [-4.0805e-03, -9.8653e-03, -7.3949e-03,  ...,  9.0350e-03,\n",
       "          3.4794e-03,  9.4409e-03],\n",
       "        [-4.0785e-03, -9.8605e-03, -7.3916e-03,  ...,  9.0307e-03,\n",
       "          3.4785e-03,  9.4364e-03],\n",
       "        [-1.7919e-03, -3.3655e-02, -1.3551e-02,  ...,  3.0806e-02,\n",
       "          3.8812e-03,  2.3921e-02]], grad_fn=<MulBackward0>)"
      ]
     },
     "execution_count": 31,
     "metadata": {},
     "output_type": "execute_result"
    }
   ],
   "source": [
    "filter_weight"
   ]
  },
  {
   "cell_type": "code",
   "execution_count": 30,
   "metadata": {},
   "outputs": [
    {
     "data": {
      "text/plain": [
       "tensor([[ 0.0407, -0.3974, -0.2006,  ...,  0.3852,  0.2449,  0.2296],\n",
       "        [ 0.0462, -0.3953, -0.2030,  ...,  0.3851,  0.2614,  0.2235],\n",
       "        [ 0.0464, -0.3953, -0.2029,  ...,  0.3851,  0.2614,  0.2233],\n",
       "        ...,\n",
       "        [ 0.0413, -0.3955, -0.2053,  ...,  0.3847,  0.2585,  0.2273],\n",
       "        [ 0.0413, -0.3955, -0.2053,  ...,  0.3847,  0.2586,  0.2273],\n",
       "        [ 0.0410, -0.3975, -0.2002,  ...,  0.3852,  0.2445,  0.2294]],\n",
       "       grad_fn=<AddmmBackward0>)"
      ]
     },
     "execution_count": 30,
     "metadata": {},
     "output_type": "execute_result"
    }
   ],
   "source": [
    "filter(edge_dist_embedding)"
   ]
  },
  {
   "cell_type": "code",
   "execution_count": 20,
   "metadata": {},
   "outputs": [],
   "source": [
    "dist_embedding = RadialBasisEdgeEncoding(basis=sine, cutoff_fn=cutoff_fn)"
   ]
  },
  {
   "cell_type": "code",
   "execution_count": 24,
   "metadata": {},
   "outputs": [],
   "source": [
    "edge_dist_embedding = dist_embedding(atoms_dict)['_edge_dist_embedding']"
   ]
  },
  {
   "cell_type": "code",
   "execution_count": 25,
   "metadata": {},
   "outputs": [
    {
     "data": {
      "text/plain": [
       "tensor([[ 1.0266e-02, -1.7318e-02,  1.8945e-02, -1.4640e-02,  5.7498e-03,\n",
       "          4.9411e-03],\n",
       "        [ 5.0167e-05, -9.9841e-05,  1.4854e-04, -1.9577e-04,  2.4108e-04,\n",
       "         -2.8403e-04],\n",
       "        [ 7.1897e-06, -1.4360e-05,  2.1491e-05, -2.8564e-05,  3.5559e-05,\n",
       "         -4.2458e-05],\n",
       "        ...,\n",
       "        [ 1.6719e-03, -3.1806e-03,  4.3790e-03, -5.1503e-03,  5.4190e-03,\n",
       "         -5.1591e-03],\n",
       "        [ 1.6706e-03, -3.1784e-03,  4.3762e-03, -5.1472e-03,  5.4163e-03,\n",
       "         -5.1573e-03],\n",
       "        [ 1.0553e-02, -1.7743e-02,  1.9278e-02, -1.4668e-02,  5.3843e-03,\n",
       "          5.6158e-03]])"
      ]
     },
     "execution_count": 25,
     "metadata": {},
     "output_type": "execute_result"
    }
   ],
   "source": [
    "edge_dist_embedding"
   ]
  },
  {
   "cell_type": "code",
   "execution_count": 27,
   "metadata": {},
   "outputs": [
    {
     "data": {
      "text/plain": [
       "torch.Size([9838, 384])"
      ]
     },
     "execution_count": 27,
     "metadata": {},
     "output_type": "execute_result"
    }
   ],
   "source": [
    "filter(edge_dist_embedding).shape"
   ]
  },
  {
   "cell_type": "code",
   "execution_count": 41,
   "metadata": {},
   "outputs": [],
   "source": [
    "import abc"
   ]
  },
  {
   "cell_type": "code",
   "execution_count": 42,
   "metadata": {},
   "outputs": [],
   "source": [
    "class RadialBasis(torch.nn.Module, metaclass=abc.ABCMeta):\n",
    "    @abc.abstractmethod\n",
    "    def forward(self):\n",
    "        pass"
   ]
  },
  {
   "cell_type": "code",
   "execution_count": 44,
   "metadata": {},
   "outputs": [],
   "source": [
    "class SineBasis(RadialBasis):\n",
    "    \"\"\"\n",
    "    calculate sinc radial basis function:\n",
    "    \n",
    "    sin(n *pi*d/d_cut)/d\n",
    "    \"\"\"\n",
    "    def __init__(self, num_basis: int, cutoff: float):\n",
    "        super().__init__()\n",
    "        self.num_basis = num_basis\n",
    "        self.cutoff = cutoff\n",
    "        \n",
    "    def forward(self, edge_dist: torch.Tensor) -> torch.Tensor:\n",
    "        n = torch.arange(self.num_basis, device=edge_dist.device) + 1\n",
    "        radial_basis = torch.sin(edge_dist.unsqueeze(-1) * n * torch.pi / self.cutoff) / edge_dist.unsqueeze(-1)\n",
    "        return radial_basis"
   ]
  },
  {
   "cell_type": "code",
   "execution_count": 46,
   "metadata": {},
   "outputs": [],
   "source": [
    "sine = SineBasis(6, 5.0)"
   ]
  },
  {
   "cell_type": "code",
   "execution_count": 20,
   "metadata": {},
   "outputs": [],
   "source": [
    "atoms_dict = edge_dist_embedding(atoms_dict)"
   ]
  },
  {
   "cell_type": "code",
   "execution_count": 24,
   "metadata": {},
   "outputs": [
    {
     "data": {
      "text/plain": [
       "tensor([[ 8.4926e-03, -1.4326e-02,  1.5672e-02,  ...,  4.0875e-03,\n",
       "         -1.1651e-02,  1.5566e-02],\n",
       "        [ 1.2768e-05, -2.5411e-05,  3.7804e-05,  ..., -7.2290e-05,\n",
       "          8.2511e-05, -9.1921e-05],\n",
       "        [ 1.0118e-06, -2.0208e-06,  3.0243e-06,  ..., -5.9748e-06,\n",
       "          6.9294e-06, -7.8652e-06],\n",
       "        ...,\n",
       "        [ 1.0398e-03, -1.9782e-03,  2.7236e-03,  ..., -3.2088e-03,\n",
       "          2.7341e-03, -1.9926e-03],\n",
       "        [ 1.0389e-03, -1.9765e-03,  2.7214e-03,  ..., -3.2072e-03,\n",
       "          2.7333e-03, -1.9929e-03],\n",
       "        [ 8.7540e-03, -1.4718e-02,  1.5991e-02,  ...,  4.6585e-03,\n",
       "         -1.2299e-02,  1.6019e-02]], grad_fn=<MulBackward0>)"
      ]
     },
     "execution_count": 24,
     "metadata": {},
     "output_type": "execute_result"
    }
   ],
   "source": [
    "atoms_dict['_edge_dist_embedding']"
   ]
  },
  {
   "cell_type": "code",
   "execution_count": 22,
   "metadata": {},
   "outputs": [],
   "source": [
    "a = (1, 2, 3)"
   ]
  },
  {
   "cell_type": "code",
   "execution_count": 23,
   "metadata": {},
   "outputs": [
    {
     "ename": "AttributeError",
     "evalue": "'tuple' object has no attribute 'append'",
     "output_type": "error",
     "traceback": [
      "\u001b[0;31m---------------------------------------------------------------------------\u001b[0m",
      "\u001b[0;31mAttributeError\u001b[0m                            Traceback (most recent call last)",
      "Cell \u001b[0;32mIn[23], line 1\u001b[0m\n\u001b[0;32m----> 1\u001b[0m a\u001b[38;5;241m.\u001b[39mappend(\u001b[38;5;241m1\u001b[39m)\n",
      "\u001b[0;31mAttributeError\u001b[0m: 'tuple' object has no attribute 'append'"
     ]
    }
   ],
   "source": [
    "a."
   ]
  },
  {
   "cell_type": "code",
   "execution_count": 18,
   "metadata": {},
   "outputs": [
    {
     "ename": "KeyError",
     "evalue": "'_edge_dist'",
     "output_type": "error",
     "traceback": [
      "\u001b[0;31m---------------------------------------------------------------------------\u001b[0m",
      "\u001b[0;31mKeyError\u001b[0m                                  Traceback (most recent call last)",
      "Cell \u001b[0;32mIn[18], line 1\u001b[0m\n\u001b[0;32m----> 1\u001b[0m edge_dist_embedding(atoms_dict)\n",
      "File \u001b[0;32m~/miniconda3/lib/python3.11/site-packages/torch/nn/modules/module.py:1501\u001b[0m, in \u001b[0;36mModule._call_impl\u001b[0;34m(self, *args, **kwargs)\u001b[0m\n\u001b[1;32m   1496\u001b[0m \u001b[38;5;66;03m# If we don't have any hooks, we want to skip the rest of the logic in\u001b[39;00m\n\u001b[1;32m   1497\u001b[0m \u001b[38;5;66;03m# this function, and just call forward.\u001b[39;00m\n\u001b[1;32m   1498\u001b[0m \u001b[38;5;28;01mif\u001b[39;00m \u001b[38;5;129;01mnot\u001b[39;00m (\u001b[38;5;28mself\u001b[39m\u001b[38;5;241m.\u001b[39m_backward_hooks \u001b[38;5;129;01mor\u001b[39;00m \u001b[38;5;28mself\u001b[39m\u001b[38;5;241m.\u001b[39m_backward_pre_hooks \u001b[38;5;129;01mor\u001b[39;00m \u001b[38;5;28mself\u001b[39m\u001b[38;5;241m.\u001b[39m_forward_hooks \u001b[38;5;129;01mor\u001b[39;00m \u001b[38;5;28mself\u001b[39m\u001b[38;5;241m.\u001b[39m_forward_pre_hooks\n\u001b[1;32m   1499\u001b[0m         \u001b[38;5;129;01mor\u001b[39;00m _global_backward_pre_hooks \u001b[38;5;129;01mor\u001b[39;00m _global_backward_hooks\n\u001b[1;32m   1500\u001b[0m         \u001b[38;5;129;01mor\u001b[39;00m _global_forward_hooks \u001b[38;5;129;01mor\u001b[39;00m _global_forward_pre_hooks):\n\u001b[0;32m-> 1501\u001b[0m     \u001b[38;5;28;01mreturn\u001b[39;00m forward_call(\u001b[38;5;241m*\u001b[39margs, \u001b[38;5;241m*\u001b[39m\u001b[38;5;241m*\u001b[39mkwargs)\n\u001b[1;32m   1502\u001b[0m \u001b[38;5;66;03m# Do not call functions when jit is used\u001b[39;00m\n\u001b[1;32m   1503\u001b[0m full_backward_hooks, non_full_backward_hooks \u001b[38;5;241m=\u001b[39m [], []\n",
      "File \u001b[0;32m~/xin_test/Curator/curator/layer/radial_basis.py:135\u001b[0m, in \u001b[0;36mRadialBasisEdgeEncoding.forward\u001b[0;34m(self, data)\u001b[0m\n\u001b[1;32m    134\u001b[0m \u001b[38;5;28;01mdef\u001b[39;00m \u001b[38;5;21mforward\u001b[39m(\u001b[38;5;28mself\u001b[39m, data: properties\u001b[38;5;241m.\u001b[39mType) \u001b[38;5;241m-\u001b[39m\u001b[38;5;241m>\u001b[39m properties\u001b[38;5;241m.\u001b[39mType:\n\u001b[0;32m--> 135\u001b[0m     edge_dist \u001b[38;5;241m=\u001b[39m data[properties\u001b[38;5;241m.\u001b[39medge_dist]\n\u001b[1;32m    136\u001b[0m     data[properties\u001b[38;5;241m.\u001b[39medge_dist_embedding] \u001b[38;5;241m=\u001b[39m (\n\u001b[1;32m    137\u001b[0m         \u001b[38;5;28mself\u001b[39m\u001b[38;5;241m.\u001b[39mbasis(edge_dist) \u001b[38;5;241m*\u001b[39m \u001b[38;5;28mself\u001b[39m\u001b[38;5;241m.\u001b[39mcutoff_fn(edge_dist)[:, \u001b[38;5;28;01mNone\u001b[39;00m]\n\u001b[1;32m    138\u001b[0m     )\n\u001b[1;32m    140\u001b[0m     \u001b[38;5;28;01mreturn\u001b[39;00m data\n",
      "\u001b[0;31mKeyError\u001b[0m: '_edge_dist'"
     ]
    }
   ],
   "source": [
    "edge_dist_embedding(atoms_dict)"
   ]
  },
  {
   "cell_type": "code",
   "execution_count": null,
   "metadata": {},
   "outputs": [],
   "source": []
  },
  {
   "cell_type": "code",
   "execution_count": 47,
   "metadata": {},
   "outputs": [],
   "source": [
    "optim = instantiate(cfg.task.optimizer)"
   ]
  },
  {
   "cell_type": "code",
   "execution_count": 48,
   "metadata": {},
   "outputs": [
    {
     "data": {
      "text/plain": [
       "0.01"
      ]
     },
     "execution_count": 48,
     "metadata": {},
     "output_type": "execute_result"
    }
   ],
   "source": [
    "optim.keywords['weight_decay']"
   ]
  },
  {
   "cell_type": "code",
   "execution_count": 18,
   "metadata": {},
   "outputs": [],
   "source": [
    "from curator.model import MACE"
   ]
  },
  {
   "cell_type": "code",
   "execution_count": 19,
   "metadata": {},
   "outputs": [
    {
     "data": {
      "text/plain": [
       "True"
      ]
     },
     "execution_count": 19,
     "metadata": {},
     "output_type": "execute_result"
    }
   ],
   "source": [
    "type(model.representation) == MACE"
   ]
  },
  {
   "cell_type": "code",
   "execution_count": 16,
   "metadata": {},
   "outputs": [
    {
     "data": {
      "text/plain": [
       "curator.model.mace.MACE"
      ]
     },
     "execution_count": 16,
     "metadata": {},
     "output_type": "execute_result"
    }
   ],
   "source": [
    "type(model.representation)"
   ]
  },
  {
   "cell_type": "code",
   "execution_count": 58,
   "metadata": {},
   "outputs": [
    {
     "data": {
      "text/plain": [
       "{'_target_': 'curator.model.PainnModel', 'num_interactions': 3, 'num_features': 128, 'cutoff': '${data.cutoff}', 'num_basis': 20, 'cutoff_fn': {'_target_': 'curator.layer.CosineCutoff', 'cutoff': '${data.cutoff}'}, 'radial_basis': {'_target_': 'curator.layer.SineBasis', 'cutoff': '${data.cutoff}', 'num_basis': '${model.representation.num_basis}'}}"
      ]
     },
     "execution_count": 58,
     "metadata": {},
     "output_type": "execute_result"
    }
   ],
   "source": [
    "cfg.model.representation"
   ]
  },
  {
   "cell_type": "code",
   "execution_count": 59,
   "metadata": {},
   "outputs": [
    {
     "data": {
      "text/plain": [
       "{'_target_': 'torch.optim.AdamW', '_partial_': True, 'lr': 0.0005, 'eps': 1e-08, 'betas': [0.9, 0.999], 'weight_decay': 0.01}"
      ]
     },
     "execution_count": 59,
     "metadata": {},
     "output_type": "execute_result"
    }
   ],
   "source": [
    "cfg.task.optimizer"
   ]
  },
  {
   "cell_type": "code",
   "execution_count": null,
   "metadata": {},
   "outputs": [],
   "source": []
  },
  {
   "cell_type": "code",
   "execution_count": null,
   "metadata": {},
   "outputs": [],
   "source": []
  },
  {
   "cell_type": "code",
   "execution_count": null,
   "metadata": {},
   "outputs": [],
   "source": []
  },
  {
   "cell_type": "code",
   "execution_count": 5,
   "metadata": {},
   "outputs": [
    {
     "ename": "ConfigCompositionException",
     "evalue": "Error resolving interpolation '${model.representation}_optim', possible interpolation keys: data, model, model/representation, task, task/scheduler, task/optimizer",
     "output_type": "error",
     "traceback": [
      "\u001b[0;31m---------------------------------------------------------------------------\u001b[0m",
      "\u001b[0;31mInterpolationResolutionError\u001b[0m              Traceback (most recent call last)",
      "File \u001b[0;32m~/miniconda3/lib/python3.11/site-packages/hydra/core/default_element.py:238\u001b[0m, in \u001b[0;36mInputDefault._resolve_interpolation_impl\u001b[0;34m(self, known_choices, val)\u001b[0m\n\u001b[1;32m    237\u001b[0m \u001b[38;5;28;01mtry\u001b[39;00m:\n\u001b[0;32m--> 238\u001b[0m     ret \u001b[38;5;241m=\u001b[39m node[\u001b[38;5;124m\"\u001b[39m\u001b[38;5;124m_dummy_\u001b[39m\u001b[38;5;124m\"\u001b[39m]\n\u001b[1;32m    239\u001b[0m     \u001b[38;5;28;01massert\u001b[39;00m \u001b[38;5;28misinstance\u001b[39m(ret, \u001b[38;5;28mstr\u001b[39m)\n",
      "File \u001b[0;32m~/miniconda3/lib/python3.11/site-packages/omegaconf/dictconfig.py:375\u001b[0m, in \u001b[0;36mDictConfig.__getitem__\u001b[0;34m(self, key)\u001b[0m\n\u001b[1;32m    374\u001b[0m \u001b[38;5;28;01mexcept\u001b[39;00m \u001b[38;5;167;01mException\u001b[39;00m \u001b[38;5;28;01mas\u001b[39;00m e:\n\u001b[0;32m--> 375\u001b[0m     \u001b[38;5;28mself\u001b[39m\u001b[38;5;241m.\u001b[39m_format_and_raise(key\u001b[38;5;241m=\u001b[39mkey, value\u001b[38;5;241m=\u001b[39m\u001b[38;5;28;01mNone\u001b[39;00m, cause\u001b[38;5;241m=\u001b[39me)\n",
      "File \u001b[0;32m~/miniconda3/lib/python3.11/site-packages/omegaconf/base.py:231\u001b[0m, in \u001b[0;36mNode._format_and_raise\u001b[0;34m(self, key, value, cause, msg, type_override)\u001b[0m\n\u001b[1;32m    223\u001b[0m \u001b[38;5;28;01mdef\u001b[39;00m \u001b[38;5;21m_format_and_raise\u001b[39m(\n\u001b[1;32m    224\u001b[0m     \u001b[38;5;28mself\u001b[39m,\n\u001b[1;32m    225\u001b[0m     key: Any,\n\u001b[0;32m   (...)\u001b[0m\n\u001b[1;32m    229\u001b[0m     type_override: Any \u001b[38;5;241m=\u001b[39m \u001b[38;5;28;01mNone\u001b[39;00m,\n\u001b[1;32m    230\u001b[0m ) \u001b[38;5;241m-\u001b[39m\u001b[38;5;241m>\u001b[39m \u001b[38;5;28;01mNone\u001b[39;00m:\n\u001b[0;32m--> 231\u001b[0m     format_and_raise(\n\u001b[1;32m    232\u001b[0m         node\u001b[38;5;241m=\u001b[39m\u001b[38;5;28mself\u001b[39m,\n\u001b[1;32m    233\u001b[0m         key\u001b[38;5;241m=\u001b[39mkey,\n\u001b[1;32m    234\u001b[0m         value\u001b[38;5;241m=\u001b[39mvalue,\n\u001b[1;32m    235\u001b[0m         msg\u001b[38;5;241m=\u001b[39m\u001b[38;5;28mstr\u001b[39m(cause) \u001b[38;5;28;01mif\u001b[39;00m msg \u001b[38;5;129;01mis\u001b[39;00m \u001b[38;5;28;01mNone\u001b[39;00m \u001b[38;5;28;01melse\u001b[39;00m msg,\n\u001b[1;32m    236\u001b[0m         cause\u001b[38;5;241m=\u001b[39mcause,\n\u001b[1;32m    237\u001b[0m         type_override\u001b[38;5;241m=\u001b[39mtype_override,\n\u001b[1;32m    238\u001b[0m     )\n\u001b[1;32m    239\u001b[0m     \u001b[38;5;28;01massert\u001b[39;00m \u001b[38;5;28;01mFalse\u001b[39;00m\n",
      "File \u001b[0;32m~/miniconda3/lib/python3.11/site-packages/omegaconf/_utils.py:899\u001b[0m, in \u001b[0;36mformat_and_raise\u001b[0;34m(node, key, value, msg, cause, type_override)\u001b[0m\n\u001b[1;32m    897\u001b[0m     ex\u001b[38;5;241m.\u001b[39mref_type_str \u001b[38;5;241m=\u001b[39m ref_type_str\n\u001b[0;32m--> 899\u001b[0m _raise(ex, cause)\n",
      "File \u001b[0;32m~/miniconda3/lib/python3.11/site-packages/omegaconf/_utils.py:797\u001b[0m, in \u001b[0;36m_raise\u001b[0;34m(ex, cause)\u001b[0m\n\u001b[1;32m    796\u001b[0m     ex\u001b[38;5;241m.\u001b[39m__cause__ \u001b[38;5;241m=\u001b[39m \u001b[38;5;28;01mNone\u001b[39;00m\n\u001b[0;32m--> 797\u001b[0m \u001b[38;5;28;01mraise\u001b[39;00m ex\u001b[38;5;241m.\u001b[39mwith_traceback(sys\u001b[38;5;241m.\u001b[39mexc_info()[\u001b[38;5;241m2\u001b[39m])\n",
      "File \u001b[0;32m~/miniconda3/lib/python3.11/site-packages/omegaconf/dictconfig.py:369\u001b[0m, in \u001b[0;36mDictConfig.__getitem__\u001b[0;34m(self, key)\u001b[0m\n\u001b[1;32m    368\u001b[0m \u001b[38;5;28;01mtry\u001b[39;00m:\n\u001b[0;32m--> 369\u001b[0m     \u001b[38;5;28;01mreturn\u001b[39;00m \u001b[38;5;28mself\u001b[39m\u001b[38;5;241m.\u001b[39m_get_impl(key\u001b[38;5;241m=\u001b[39mkey, default_value\u001b[38;5;241m=\u001b[39m_DEFAULT_MARKER_)\n\u001b[1;32m    370\u001b[0m \u001b[38;5;28;01mexcept\u001b[39;00m \u001b[38;5;167;01mAttributeError\u001b[39;00m \u001b[38;5;28;01mas\u001b[39;00m e:\n",
      "File \u001b[0;32m~/miniconda3/lib/python3.11/site-packages/omegaconf/dictconfig.py:451\u001b[0m, in \u001b[0;36mDictConfig._get_impl\u001b[0;34m(self, key, default_value, validate_key)\u001b[0m\n\u001b[1;32m    450\u001b[0m \u001b[38;5;28;01massert\u001b[39;00m \u001b[38;5;28misinstance\u001b[39m(node, Node)\n\u001b[0;32m--> 451\u001b[0m \u001b[38;5;28;01mreturn\u001b[39;00m \u001b[38;5;28mself\u001b[39m\u001b[38;5;241m.\u001b[39m_resolve_with_default(\n\u001b[1;32m    452\u001b[0m     key\u001b[38;5;241m=\u001b[39mkey, value\u001b[38;5;241m=\u001b[39mnode, default_value\u001b[38;5;241m=\u001b[39mdefault_value\n\u001b[1;32m    453\u001b[0m )\n",
      "File \u001b[0;32m~/miniconda3/lib/python3.11/site-packages/omegaconf/basecontainer.py:98\u001b[0m, in \u001b[0;36mBaseContainer._resolve_with_default\u001b[0;34m(self, key, value, default_value)\u001b[0m\n\u001b[1;32m     96\u001b[0m     \u001b[38;5;28;01mraise\u001b[39;00m MissingMandatoryValue(\u001b[38;5;124m\"\u001b[39m\u001b[38;5;124mMissing mandatory value: $FULL_KEY\u001b[39m\u001b[38;5;124m\"\u001b[39m)\n\u001b[0;32m---> 98\u001b[0m resolved_node \u001b[38;5;241m=\u001b[39m \u001b[38;5;28mself\u001b[39m\u001b[38;5;241m.\u001b[39m_maybe_resolve_interpolation(\n\u001b[1;32m     99\u001b[0m     parent\u001b[38;5;241m=\u001b[39m\u001b[38;5;28mself\u001b[39m,\n\u001b[1;32m    100\u001b[0m     key\u001b[38;5;241m=\u001b[39mkey,\n\u001b[1;32m    101\u001b[0m     value\u001b[38;5;241m=\u001b[39mvalue,\n\u001b[1;32m    102\u001b[0m     throw_on_resolution_failure\u001b[38;5;241m=\u001b[39m\u001b[38;5;28;01mTrue\u001b[39;00m,\n\u001b[1;32m    103\u001b[0m )\n\u001b[1;32m    105\u001b[0m \u001b[38;5;28;01mreturn\u001b[39;00m _get_value(resolved_node)\n",
      "File \u001b[0;32m~/miniconda3/lib/python3.11/site-packages/omegaconf/base.py:719\u001b[0m, in \u001b[0;36mContainer._maybe_resolve_interpolation\u001b[0;34m(self, parent, key, value, throw_on_resolution_failure, memo)\u001b[0m\n\u001b[1;32m    718\u001b[0m parse_tree \u001b[38;5;241m=\u001b[39m parse(_get_value(value))\n\u001b[0;32m--> 719\u001b[0m \u001b[38;5;28;01mreturn\u001b[39;00m \u001b[38;5;28mself\u001b[39m\u001b[38;5;241m.\u001b[39m_resolve_interpolation_from_parse_tree(\n\u001b[1;32m    720\u001b[0m     parent\u001b[38;5;241m=\u001b[39mparent,\n\u001b[1;32m    721\u001b[0m     value\u001b[38;5;241m=\u001b[39mvalue,\n\u001b[1;32m    722\u001b[0m     key\u001b[38;5;241m=\u001b[39mkey,\n\u001b[1;32m    723\u001b[0m     parse_tree\u001b[38;5;241m=\u001b[39mparse_tree,\n\u001b[1;32m    724\u001b[0m     throw_on_resolution_failure\u001b[38;5;241m=\u001b[39mthrow_on_resolution_failure,\n\u001b[1;32m    725\u001b[0m     memo\u001b[38;5;241m=\u001b[39mmemo \u001b[38;5;28;01mif\u001b[39;00m memo \u001b[38;5;129;01mis\u001b[39;00m \u001b[38;5;129;01mnot\u001b[39;00m \u001b[38;5;28;01mNone\u001b[39;00m \u001b[38;5;28;01melse\u001b[39;00m \u001b[38;5;28mset\u001b[39m(),\n\u001b[1;32m    726\u001b[0m )\n",
      "File \u001b[0;32m~/miniconda3/lib/python3.11/site-packages/omegaconf/base.py:584\u001b[0m, in \u001b[0;36mContainer._resolve_interpolation_from_parse_tree\u001b[0;34m(self, parent, value, key, parse_tree, throw_on_resolution_failure, memo)\u001b[0m\n\u001b[1;32m    583\u001b[0m \u001b[38;5;28;01mtry\u001b[39;00m:\n\u001b[0;32m--> 584\u001b[0m     resolved \u001b[38;5;241m=\u001b[39m \u001b[38;5;28mself\u001b[39m\u001b[38;5;241m.\u001b[39mresolve_parse_tree(\n\u001b[1;32m    585\u001b[0m         parse_tree\u001b[38;5;241m=\u001b[39mparse_tree, node\u001b[38;5;241m=\u001b[39mvalue, key\u001b[38;5;241m=\u001b[39mkey, memo\u001b[38;5;241m=\u001b[39mmemo\n\u001b[1;32m    586\u001b[0m     )\n\u001b[1;32m    587\u001b[0m \u001b[38;5;28;01mexcept\u001b[39;00m InterpolationResolutionError:\n",
      "File \u001b[0;32m~/miniconda3/lib/python3.11/site-packages/omegaconf/base.py:769\u001b[0m, in \u001b[0;36mContainer.resolve_parse_tree\u001b[0;34m(self, parse_tree, node, memo, key)\u001b[0m\n\u001b[1;32m    767\u001b[0m \u001b[38;5;28;01mexcept\u001b[39;00m \u001b[38;5;167;01mException\u001b[39;00m \u001b[38;5;28;01mas\u001b[39;00m exc:\n\u001b[1;32m    768\u001b[0m     \u001b[38;5;66;03m# Other kinds of exceptions are wrapped in an `InterpolationResolutionError`.\u001b[39;00m\n\u001b[0;32m--> 769\u001b[0m     \u001b[38;5;28;01mraise\u001b[39;00m InterpolationResolutionError(\n\u001b[1;32m    770\u001b[0m         \u001b[38;5;124mf\u001b[39m\u001b[38;5;124m\"\u001b[39m\u001b[38;5;132;01m{\u001b[39;00m\u001b[38;5;28mtype\u001b[39m(exc)\u001b[38;5;241m.\u001b[39m\u001b[38;5;18m__name__\u001b[39m\u001b[38;5;132;01m}\u001b[39;00m\u001b[38;5;124m raised while resolving interpolation: \u001b[39m\u001b[38;5;132;01m{\u001b[39;00mexc\u001b[38;5;132;01m}\u001b[39;00m\u001b[38;5;124m\"\u001b[39m\n\u001b[1;32m    771\u001b[0m     )\u001b[38;5;241m.\u001b[39mwith_traceback(sys\u001b[38;5;241m.\u001b[39mexc_info()[\u001b[38;5;241m2\u001b[39m])\n",
      "File \u001b[0;32m~/miniconda3/lib/python3.11/site-packages/omegaconf/base.py:764\u001b[0m, in \u001b[0;36mContainer.resolve_parse_tree\u001b[0;34m(self, parse_tree, node, memo, key)\u001b[0m\n\u001b[1;32m    763\u001b[0m \u001b[38;5;28;01mtry\u001b[39;00m:\n\u001b[0;32m--> 764\u001b[0m     \u001b[38;5;28;01mreturn\u001b[39;00m visitor\u001b[38;5;241m.\u001b[39mvisit(parse_tree)\n\u001b[1;32m    765\u001b[0m \u001b[38;5;28;01mexcept\u001b[39;00m InterpolationResolutionError:\n",
      "File \u001b[0;32m~/miniconda3/lib/python3.11/site-packages/antlr4/tree/Tree.py:34\u001b[0m, in \u001b[0;36mParseTreeVisitor.visit\u001b[0;34m(self, tree)\u001b[0m\n\u001b[1;32m     33\u001b[0m \u001b[38;5;28;01mdef\u001b[39;00m \u001b[38;5;21mvisit\u001b[39m(\u001b[38;5;28mself\u001b[39m, tree):\n\u001b[0;32m---> 34\u001b[0m     \u001b[38;5;28;01mreturn\u001b[39;00m tree\u001b[38;5;241m.\u001b[39maccept(\u001b[38;5;28mself\u001b[39m)\n",
      "File \u001b[0;32m~/miniconda3/lib/python3.11/site-packages/omegaconf/grammar/gen/OmegaConfGrammarParser.py:206\u001b[0m, in \u001b[0;36mOmegaConfGrammarParser.ConfigValueContext.accept\u001b[0;34m(self, visitor)\u001b[0m\n\u001b[1;32m    205\u001b[0m \u001b[38;5;28;01mif\u001b[39;00m \u001b[38;5;28mhasattr\u001b[39m( visitor, \u001b[38;5;124m\"\u001b[39m\u001b[38;5;124mvisitConfigValue\u001b[39m\u001b[38;5;124m\"\u001b[39m ):\n\u001b[0;32m--> 206\u001b[0m     \u001b[38;5;28;01mreturn\u001b[39;00m visitor\u001b[38;5;241m.\u001b[39mvisitConfigValue(\u001b[38;5;28mself\u001b[39m)\n\u001b[1;32m    207\u001b[0m \u001b[38;5;28;01melse\u001b[39;00m:\n",
      "File \u001b[0;32m~/miniconda3/lib/python3.11/site-packages/omegaconf/grammar_visitor.py:101\u001b[0m, in \u001b[0;36mGrammarVisitor.visitConfigValue\u001b[0;34m(self, ctx)\u001b[0m\n\u001b[1;32m    100\u001b[0m \u001b[38;5;28;01massert\u001b[39;00m ctx\u001b[38;5;241m.\u001b[39mgetChildCount() \u001b[38;5;241m==\u001b[39m \u001b[38;5;241m2\u001b[39m\n\u001b[0;32m--> 101\u001b[0m \u001b[38;5;28;01mreturn\u001b[39;00m \u001b[38;5;28mself\u001b[39m\u001b[38;5;241m.\u001b[39mvisit(ctx\u001b[38;5;241m.\u001b[39mgetChild(\u001b[38;5;241m0\u001b[39m))\n",
      "File \u001b[0;32m~/miniconda3/lib/python3.11/site-packages/antlr4/tree/Tree.py:34\u001b[0m, in \u001b[0;36mParseTreeVisitor.visit\u001b[0;34m(self, tree)\u001b[0m\n\u001b[1;32m     33\u001b[0m \u001b[38;5;28;01mdef\u001b[39;00m \u001b[38;5;21mvisit\u001b[39m(\u001b[38;5;28mself\u001b[39m, tree):\n\u001b[0;32m---> 34\u001b[0m     \u001b[38;5;28;01mreturn\u001b[39;00m tree\u001b[38;5;241m.\u001b[39maccept(\u001b[38;5;28mself\u001b[39m)\n",
      "File \u001b[0;32m~/miniconda3/lib/python3.11/site-packages/omegaconf/grammar/gen/OmegaConfGrammarParser.py:342\u001b[0m, in \u001b[0;36mOmegaConfGrammarParser.TextContext.accept\u001b[0;34m(self, visitor)\u001b[0m\n\u001b[1;32m    341\u001b[0m \u001b[38;5;28;01mif\u001b[39;00m \u001b[38;5;28mhasattr\u001b[39m( visitor, \u001b[38;5;124m\"\u001b[39m\u001b[38;5;124mvisitText\u001b[39m\u001b[38;5;124m\"\u001b[39m ):\n\u001b[0;32m--> 342\u001b[0m     \u001b[38;5;28;01mreturn\u001b[39;00m visitor\u001b[38;5;241m.\u001b[39mvisitText(\u001b[38;5;28mself\u001b[39m)\n\u001b[1;32m    343\u001b[0m \u001b[38;5;28;01melse\u001b[39;00m:\n",
      "File \u001b[0;32m~/miniconda3/lib/python3.11/site-packages/omegaconf/grammar_visitor.py:301\u001b[0m, in \u001b[0;36mGrammarVisitor.visitText\u001b[0;34m(self, ctx)\u001b[0m\n\u001b[1;32m    300\u001b[0m \u001b[38;5;66;03m# Otherwise, concatenate string representations together.\u001b[39;00m\n\u001b[0;32m--> 301\u001b[0m \u001b[38;5;28;01mreturn\u001b[39;00m \u001b[38;5;28mself\u001b[39m\u001b[38;5;241m.\u001b[39m_unescape(\u001b[38;5;28mlist\u001b[39m(ctx\u001b[38;5;241m.\u001b[39mgetChildren()))\n",
      "File \u001b[0;32m~/miniconda3/lib/python3.11/site-packages/omegaconf/grammar_visitor.py:389\u001b[0m, in \u001b[0;36mGrammarVisitor._unescape\u001b[0;34m(self, seq)\u001b[0m\n\u001b[1;32m    388\u001b[0m     \u001b[38;5;28;01massert\u001b[39;00m \u001b[38;5;28misinstance\u001b[39m(node, OmegaConfGrammarParser\u001b[38;5;241m.\u001b[39mInterpolationContext)\n\u001b[0;32m--> 389\u001b[0m     text \u001b[38;5;241m=\u001b[39m \u001b[38;5;28mstr\u001b[39m(\u001b[38;5;28mself\u001b[39m\u001b[38;5;241m.\u001b[39mvisitInterpolation(node))\n\u001b[1;32m    390\u001b[0m chrs\u001b[38;5;241m.\u001b[39mappend(text)\n",
      "File \u001b[0;32m~/miniconda3/lib/python3.11/site-packages/omegaconf/grammar_visitor.py:125\u001b[0m, in \u001b[0;36mGrammarVisitor.visitInterpolation\u001b[0;34m(self, ctx)\u001b[0m\n\u001b[1;32m    124\u001b[0m \u001b[38;5;28;01massert\u001b[39;00m ctx\u001b[38;5;241m.\u001b[39mgetChildCount() \u001b[38;5;241m==\u001b[39m \u001b[38;5;241m1\u001b[39m  \u001b[38;5;66;03m# interpolationNode | interpolationResolver\u001b[39;00m\n\u001b[0;32m--> 125\u001b[0m \u001b[38;5;28;01mreturn\u001b[39;00m \u001b[38;5;28mself\u001b[39m\u001b[38;5;241m.\u001b[39mvisit(ctx\u001b[38;5;241m.\u001b[39mgetChild(\u001b[38;5;241m0\u001b[39m))\n",
      "File \u001b[0;32m~/miniconda3/lib/python3.11/site-packages/antlr4/tree/Tree.py:34\u001b[0m, in \u001b[0;36mParseTreeVisitor.visit\u001b[0;34m(self, tree)\u001b[0m\n\u001b[1;32m     33\u001b[0m \u001b[38;5;28;01mdef\u001b[39;00m \u001b[38;5;21mvisit\u001b[39m(\u001b[38;5;28mself\u001b[39m, tree):\n\u001b[0;32m---> 34\u001b[0m     \u001b[38;5;28;01mreturn\u001b[39;00m tree\u001b[38;5;241m.\u001b[39maccept(\u001b[38;5;28mself\u001b[39m)\n",
      "File \u001b[0;32m~/miniconda3/lib/python3.11/site-packages/omegaconf/grammar/gen/OmegaConfGrammarParser.py:921\u001b[0m, in \u001b[0;36mOmegaConfGrammarParser.InterpolationNodeContext.accept\u001b[0;34m(self, visitor)\u001b[0m\n\u001b[1;32m    920\u001b[0m \u001b[38;5;28;01mif\u001b[39;00m \u001b[38;5;28mhasattr\u001b[39m( visitor, \u001b[38;5;124m\"\u001b[39m\u001b[38;5;124mvisitInterpolationNode\u001b[39m\u001b[38;5;124m\"\u001b[39m ):\n\u001b[0;32m--> 921\u001b[0m     \u001b[38;5;28;01mreturn\u001b[39;00m visitor\u001b[38;5;241m.\u001b[39mvisitInterpolationNode(\u001b[38;5;28mself\u001b[39m)\n\u001b[1;32m    922\u001b[0m \u001b[38;5;28;01melse\u001b[39;00m:\n",
      "File \u001b[0;32m~/miniconda3/lib/python3.11/site-packages/omegaconf/grammar_visitor.py:158\u001b[0m, in \u001b[0;36mGrammarVisitor.visitInterpolationNode\u001b[0;34m(self, ctx)\u001b[0m\n\u001b[1;32m    157\u001b[0m inter_key \u001b[38;5;241m=\u001b[39m \u001b[38;5;124m\"\u001b[39m\u001b[38;5;124m\"\u001b[39m\u001b[38;5;241m.\u001b[39mjoin(inter_key_tokens)\n\u001b[0;32m--> 158\u001b[0m \u001b[38;5;28;01mreturn\u001b[39;00m \u001b[38;5;28mself\u001b[39m\u001b[38;5;241m.\u001b[39mnode_interpolation_callback(inter_key, \u001b[38;5;28mself\u001b[39m\u001b[38;5;241m.\u001b[39mmemo)\n",
      "File \u001b[0;32m~/miniconda3/lib/python3.11/site-packages/omegaconf/base.py:745\u001b[0m, in \u001b[0;36mContainer.resolve_parse_tree.<locals>.node_interpolation_callback\u001b[0;34m(inter_key, memo)\u001b[0m\n\u001b[1;32m    742\u001b[0m \u001b[38;5;28;01mdef\u001b[39;00m \u001b[38;5;21mnode_interpolation_callback\u001b[39m(\n\u001b[1;32m    743\u001b[0m     inter_key: \u001b[38;5;28mstr\u001b[39m, memo: Optional[Set[\u001b[38;5;28mint\u001b[39m]]\n\u001b[1;32m    744\u001b[0m ) \u001b[38;5;241m-\u001b[39m\u001b[38;5;241m>\u001b[39m Optional[\u001b[38;5;124m\"\u001b[39m\u001b[38;5;124mNode\u001b[39m\u001b[38;5;124m\"\u001b[39m]:\n\u001b[0;32m--> 745\u001b[0m     \u001b[38;5;28;01mreturn\u001b[39;00m \u001b[38;5;28mself\u001b[39m\u001b[38;5;241m.\u001b[39m_resolve_node_interpolation(inter_key\u001b[38;5;241m=\u001b[39minter_key, memo\u001b[38;5;241m=\u001b[39mmemo)\n",
      "File \u001b[0;32m~/miniconda3/lib/python3.11/site-packages/omegaconf/base.py:664\u001b[0m, in \u001b[0;36mContainer._resolve_node_interpolation\u001b[0;34m(self, inter_key, memo)\u001b[0m\n\u001b[1;32m    663\u001b[0m \u001b[38;5;28;01mtry\u001b[39;00m:\n\u001b[0;32m--> 664\u001b[0m     parent, last_key, value \u001b[38;5;241m=\u001b[39m root_node\u001b[38;5;241m.\u001b[39m_select_impl(\n\u001b[1;32m    665\u001b[0m         inter_key,\n\u001b[1;32m    666\u001b[0m         throw_on_missing\u001b[38;5;241m=\u001b[39m\u001b[38;5;28;01mTrue\u001b[39;00m,\n\u001b[1;32m    667\u001b[0m         throw_on_resolution_failure\u001b[38;5;241m=\u001b[39m\u001b[38;5;28;01mTrue\u001b[39;00m,\n\u001b[1;32m    668\u001b[0m         memo\u001b[38;5;241m=\u001b[39mmemo,\n\u001b[1;32m    669\u001b[0m     )\n\u001b[1;32m    670\u001b[0m \u001b[38;5;28;01mexcept\u001b[39;00m MissingMandatoryValue \u001b[38;5;28;01mas\u001b[39;00m exc:\n",
      "File \u001b[0;32m~/miniconda3/lib/python3.11/site-packages/omegaconf/base.py:504\u001b[0m, in \u001b[0;36mContainer._select_impl\u001b[0;34m(self, key, throw_on_missing, throw_on_resolution_failure, memo)\u001b[0m\n\u001b[1;32m    503\u001b[0m     child_key \u001b[38;5;241m=\u001b[39m split[i \u001b[38;5;241m+\u001b[39m \u001b[38;5;241m1\u001b[39m]\n\u001b[0;32m--> 504\u001b[0m     \u001b[38;5;28;01mraise\u001b[39;00m ConfigTypeError(\n\u001b[1;32m    505\u001b[0m         \u001b[38;5;124mf\u001b[39m\u001b[38;5;124m\"\u001b[39m\u001b[38;5;124mError trying to access \u001b[39m\u001b[38;5;132;01m{\u001b[39;00mkey\u001b[38;5;132;01m}\u001b[39;00m\u001b[38;5;124m: node `\u001b[39m\u001b[38;5;132;01m{\u001b[39;00mparent_key\u001b[38;5;132;01m}\u001b[39;00m\u001b[38;5;124m` \u001b[39m\u001b[38;5;124m\"\u001b[39m\n\u001b[1;32m    506\u001b[0m         \u001b[38;5;124mf\u001b[39m\u001b[38;5;124m\"\u001b[39m\u001b[38;5;124mis not a container and thus cannot contain `\u001b[39m\u001b[38;5;132;01m{\u001b[39;00mchild_key\u001b[38;5;132;01m}\u001b[39;00m\u001b[38;5;124m`\u001b[39m\u001b[38;5;124m\"\u001b[39m\n\u001b[1;32m    507\u001b[0m     )\n\u001b[1;32m    508\u001b[0m root \u001b[38;5;241m=\u001b[39m ret\n",
      "\u001b[0;31mInterpolationResolutionError\u001b[0m: ConfigTypeError raised while resolving interpolation: Error trying to access model.representation: node `model` is not a container and thus cannot contain `representation`\n    full_key: _dummy_\n    object_type=dict",
      "\nDuring handling of the above exception, another exception occurred:\n",
      "\u001b[0;31mConfigCompositionException\u001b[0m                Traceback (most recent call last)",
      "Cell \u001b[0;32mIn[5], line 2\u001b[0m\n\u001b[1;32m      1\u001b[0m \u001b[38;5;66;03m# Set up datamodule and load training and validation set\u001b[39;00m\n\u001b[0;32m----> 2\u001b[0m cfg \u001b[38;5;241m=\u001b[39m read_user_config(\u001b[38;5;124m\"\u001b[39m\u001b[38;5;124mnequip.yaml\u001b[39m\u001b[38;5;124m\"\u001b[39m, config_path\u001b[38;5;241m=\u001b[39m\u001b[38;5;124m\"\u001b[39m\u001b[38;5;124m../curator/configs\u001b[39m\u001b[38;5;124m\"\u001b[39m)\n\u001b[1;32m      3\u001b[0m \u001b[38;5;28mprint\u001b[39m(cfg\u001b[38;5;241m.\u001b[39mdata\u001b[38;5;241m.\u001b[39mdatapath)\n\u001b[1;32m      4\u001b[0m \u001b[38;5;28;01mif\u001b[39;00m \u001b[38;5;129;01mnot\u001b[39;00m os\u001b[38;5;241m.\u001b[39mpath\u001b[38;5;241m.\u001b[39misfile(cfg\u001b[38;5;241m.\u001b[39mdata\u001b[38;5;241m.\u001b[39mdatapath):\n",
      "File \u001b[0;32m~/xin_test/Curator/curator/utils.py:78\u001b[0m, in \u001b[0;36mread_user_config\u001b[0;34m(filepath, config_path, config_name)\u001b[0m\n\u001b[1;32m     76\u001b[0m hydra\u001b[38;5;241m.\u001b[39mcore\u001b[38;5;241m.\u001b[39mglobal_hydra\u001b[38;5;241m.\u001b[39mGlobalHydra\u001b[38;5;241m.\u001b[39minstance()\u001b[38;5;241m.\u001b[39mclear()\n\u001b[1;32m     77\u001b[0m \u001b[38;5;28;01mwith\u001b[39;00m initialize(version_base\u001b[38;5;241m=\u001b[39m\u001b[38;5;28;01mNone\u001b[39;00m, config_path\u001b[38;5;241m=\u001b[39mconfig_path):\n\u001b[0;32m---> 78\u001b[0m     cfg \u001b[38;5;241m=\u001b[39m compose(config_name\u001b[38;5;241m=\u001b[39mconfig_name, overrides\u001b[38;5;241m=\u001b[39moverride_list)\n\u001b[1;32m     80\u001b[0m \u001b[38;5;66;03m# Allow write access to unknown fields\u001b[39;00m\n\u001b[1;32m     81\u001b[0m OmegaConf\u001b[38;5;241m.\u001b[39mset_struct(cfg, \u001b[38;5;28;01mFalse\u001b[39;00m)\n",
      "File \u001b[0;32m~/miniconda3/lib/python3.11/site-packages/hydra/compose.py:38\u001b[0m, in \u001b[0;36mcompose\u001b[0;34m(config_name, overrides, return_hydra_config, strict)\u001b[0m\n\u001b[1;32m     36\u001b[0m gh \u001b[38;5;241m=\u001b[39m GlobalHydra\u001b[38;5;241m.\u001b[39minstance()\n\u001b[1;32m     37\u001b[0m \u001b[38;5;28;01massert\u001b[39;00m gh\u001b[38;5;241m.\u001b[39mhydra \u001b[38;5;129;01mis\u001b[39;00m \u001b[38;5;129;01mnot\u001b[39;00m \u001b[38;5;28;01mNone\u001b[39;00m\n\u001b[0;32m---> 38\u001b[0m cfg \u001b[38;5;241m=\u001b[39m gh\u001b[38;5;241m.\u001b[39mhydra\u001b[38;5;241m.\u001b[39mcompose_config(\n\u001b[1;32m     39\u001b[0m     config_name\u001b[38;5;241m=\u001b[39mconfig_name,\n\u001b[1;32m     40\u001b[0m     overrides\u001b[38;5;241m=\u001b[39moverrides,\n\u001b[1;32m     41\u001b[0m     run_mode\u001b[38;5;241m=\u001b[39mRunMode\u001b[38;5;241m.\u001b[39mRUN,\n\u001b[1;32m     42\u001b[0m     from_shell\u001b[38;5;241m=\u001b[39m\u001b[38;5;28;01mFalse\u001b[39;00m,\n\u001b[1;32m     43\u001b[0m     with_log_configuration\u001b[38;5;241m=\u001b[39m\u001b[38;5;28;01mFalse\u001b[39;00m,\n\u001b[1;32m     44\u001b[0m )\n\u001b[1;32m     45\u001b[0m \u001b[38;5;28;01massert\u001b[39;00m \u001b[38;5;28misinstance\u001b[39m(cfg, DictConfig)\n\u001b[1;32m     47\u001b[0m \u001b[38;5;28;01mif\u001b[39;00m \u001b[38;5;129;01mnot\u001b[39;00m return_hydra_config:\n",
      "File \u001b[0;32m~/miniconda3/lib/python3.11/site-packages/hydra/_internal/hydra.py:594\u001b[0m, in \u001b[0;36mHydra.compose_config\u001b[0;34m(self, config_name, overrides, run_mode, with_log_configuration, from_shell, validate_sweep_overrides)\u001b[0m\n\u001b[1;32m    576\u001b[0m \u001b[38;5;28;01mdef\u001b[39;00m \u001b[38;5;21mcompose_config\u001b[39m(\n\u001b[1;32m    577\u001b[0m     \u001b[38;5;28mself\u001b[39m,\n\u001b[1;32m    578\u001b[0m     config_name: Optional[\u001b[38;5;28mstr\u001b[39m],\n\u001b[0;32m   (...)\u001b[0m\n\u001b[1;32m    583\u001b[0m     validate_sweep_overrides: \u001b[38;5;28mbool\u001b[39m \u001b[38;5;241m=\u001b[39m \u001b[38;5;28;01mTrue\u001b[39;00m,\n\u001b[1;32m    584\u001b[0m ) \u001b[38;5;241m-\u001b[39m\u001b[38;5;241m>\u001b[39m DictConfig:\n\u001b[1;32m    585\u001b[0m \u001b[38;5;250m    \u001b[39m\u001b[38;5;124;03m\"\"\"\u001b[39;00m\n\u001b[1;32m    586\u001b[0m \u001b[38;5;124;03m    :param config_name:\u001b[39;00m\n\u001b[1;32m    587\u001b[0m \u001b[38;5;124;03m    :param overrides:\u001b[39;00m\n\u001b[0;32m   (...)\u001b[0m\n\u001b[1;32m    591\u001b[0m \u001b[38;5;124;03m    :return:\u001b[39;00m\n\u001b[1;32m    592\u001b[0m \u001b[38;5;124;03m    \"\"\"\u001b[39;00m\n\u001b[0;32m--> 594\u001b[0m     cfg \u001b[38;5;241m=\u001b[39m \u001b[38;5;28mself\u001b[39m\u001b[38;5;241m.\u001b[39mconfig_loader\u001b[38;5;241m.\u001b[39mload_configuration(\n\u001b[1;32m    595\u001b[0m         config_name\u001b[38;5;241m=\u001b[39mconfig_name,\n\u001b[1;32m    596\u001b[0m         overrides\u001b[38;5;241m=\u001b[39moverrides,\n\u001b[1;32m    597\u001b[0m         run_mode\u001b[38;5;241m=\u001b[39mrun_mode,\n\u001b[1;32m    598\u001b[0m         from_shell\u001b[38;5;241m=\u001b[39mfrom_shell,\n\u001b[1;32m    599\u001b[0m         validate_sweep_overrides\u001b[38;5;241m=\u001b[39mvalidate_sweep_overrides,\n\u001b[1;32m    600\u001b[0m     )\n\u001b[1;32m    601\u001b[0m     \u001b[38;5;28;01mif\u001b[39;00m with_log_configuration:\n\u001b[1;32m    602\u001b[0m         configure_log(cfg\u001b[38;5;241m.\u001b[39mhydra\u001b[38;5;241m.\u001b[39mhydra_logging, cfg\u001b[38;5;241m.\u001b[39mhydra\u001b[38;5;241m.\u001b[39mverbose)\n",
      "File \u001b[0;32m~/miniconda3/lib/python3.11/site-packages/hydra/_internal/config_loader_impl.py:142\u001b[0m, in \u001b[0;36mConfigLoaderImpl.load_configuration\u001b[0;34m(self, config_name, overrides, run_mode, from_shell, validate_sweep_overrides)\u001b[0m\n\u001b[1;32m    133\u001b[0m \u001b[38;5;28;01mdef\u001b[39;00m \u001b[38;5;21mload_configuration\u001b[39m(\n\u001b[1;32m    134\u001b[0m     \u001b[38;5;28mself\u001b[39m,\n\u001b[1;32m    135\u001b[0m     config_name: Optional[\u001b[38;5;28mstr\u001b[39m],\n\u001b[0;32m   (...)\u001b[0m\n\u001b[1;32m    139\u001b[0m     validate_sweep_overrides: \u001b[38;5;28mbool\u001b[39m \u001b[38;5;241m=\u001b[39m \u001b[38;5;28;01mTrue\u001b[39;00m,\n\u001b[1;32m    140\u001b[0m ) \u001b[38;5;241m-\u001b[39m\u001b[38;5;241m>\u001b[39m DictConfig:\n\u001b[1;32m    141\u001b[0m     \u001b[38;5;28;01mtry\u001b[39;00m:\n\u001b[0;32m--> 142\u001b[0m         \u001b[38;5;28;01mreturn\u001b[39;00m \u001b[38;5;28mself\u001b[39m\u001b[38;5;241m.\u001b[39m_load_configuration_impl(\n\u001b[1;32m    143\u001b[0m             config_name\u001b[38;5;241m=\u001b[39mconfig_name,\n\u001b[1;32m    144\u001b[0m             overrides\u001b[38;5;241m=\u001b[39moverrides,\n\u001b[1;32m    145\u001b[0m             run_mode\u001b[38;5;241m=\u001b[39mrun_mode,\n\u001b[1;32m    146\u001b[0m             from_shell\u001b[38;5;241m=\u001b[39mfrom_shell,\n\u001b[1;32m    147\u001b[0m             validate_sweep_overrides\u001b[38;5;241m=\u001b[39mvalidate_sweep_overrides,\n\u001b[1;32m    148\u001b[0m         )\n\u001b[1;32m    149\u001b[0m     \u001b[38;5;28;01mexcept\u001b[39;00m OmegaConfBaseException \u001b[38;5;28;01mas\u001b[39;00m e:\n\u001b[1;32m    150\u001b[0m         \u001b[38;5;28;01mraise\u001b[39;00m ConfigCompositionException()\u001b[38;5;241m.\u001b[39mwith_traceback(sys\u001b[38;5;241m.\u001b[39mexc_info()[\u001b[38;5;241m2\u001b[39m]) \u001b[38;5;28;01mfrom\u001b[39;00m \u001b[38;5;21;01me\u001b[39;00m\n",
      "File \u001b[0;32m~/miniconda3/lib/python3.11/site-packages/hydra/_internal/config_loader_impl.py:253\u001b[0m, in \u001b[0;36mConfigLoaderImpl._load_configuration_impl\u001b[0;34m(self, config_name, overrides, run_mode, from_shell, validate_sweep_overrides)\u001b[0m\n\u001b[1;32m    248\u001b[0m \u001b[38;5;28;01mif\u001b[39;00m validate_sweep_overrides:\n\u001b[1;32m    249\u001b[0m     \u001b[38;5;28mself\u001b[39m\u001b[38;5;241m.\u001b[39mvalidate_sweep_overrides_legal(\n\u001b[1;32m    250\u001b[0m         overrides\u001b[38;5;241m=\u001b[39mparsed_overrides, run_mode\u001b[38;5;241m=\u001b[39mrun_mode, from_shell\u001b[38;5;241m=\u001b[39mfrom_shell\n\u001b[1;32m    251\u001b[0m     )\n\u001b[0;32m--> 253\u001b[0m defaults_list \u001b[38;5;241m=\u001b[39m create_defaults_list(\n\u001b[1;32m    254\u001b[0m     repo\u001b[38;5;241m=\u001b[39mcaching_repo,\n\u001b[1;32m    255\u001b[0m     config_name\u001b[38;5;241m=\u001b[39mconfig_name,\n\u001b[1;32m    256\u001b[0m     overrides_list\u001b[38;5;241m=\u001b[39mparsed_overrides,\n\u001b[1;32m    257\u001b[0m     prepend_hydra\u001b[38;5;241m=\u001b[39m\u001b[38;5;28;01mTrue\u001b[39;00m,\n\u001b[1;32m    258\u001b[0m     skip_missing\u001b[38;5;241m=\u001b[39mrun_mode \u001b[38;5;241m==\u001b[39m RunMode\u001b[38;5;241m.\u001b[39mMULTIRUN,\n\u001b[1;32m    259\u001b[0m )\n\u001b[1;32m    261\u001b[0m config_overrides \u001b[38;5;241m=\u001b[39m defaults_list\u001b[38;5;241m.\u001b[39mconfig_overrides\n\u001b[1;32m    263\u001b[0m cfg \u001b[38;5;241m=\u001b[39m \u001b[38;5;28mself\u001b[39m\u001b[38;5;241m.\u001b[39m_compose_config_from_defaults_list(\n\u001b[1;32m    264\u001b[0m     defaults\u001b[38;5;241m=\u001b[39mdefaults_list\u001b[38;5;241m.\u001b[39mdefaults, repo\u001b[38;5;241m=\u001b[39mcaching_repo\n\u001b[1;32m    265\u001b[0m )\n",
      "File \u001b[0;32m~/miniconda3/lib/python3.11/site-packages/hydra/_internal/defaults_list.py:745\u001b[0m, in \u001b[0;36mcreate_defaults_list\u001b[0;34m(repo, config_name, overrides_list, prepend_hydra, skip_missing)\u001b[0m\n\u001b[1;32m    736\u001b[0m \u001b[38;5;250m\u001b[39m\u001b[38;5;124;03m\"\"\"\u001b[39;00m\n\u001b[1;32m    737\u001b[0m \u001b[38;5;124;03m:param repo:\u001b[39;00m\n\u001b[1;32m    738\u001b[0m \u001b[38;5;124;03m:param config_name:\u001b[39;00m\n\u001b[0;32m   (...)\u001b[0m\n\u001b[1;32m    742\u001b[0m \u001b[38;5;124;03m:return:\u001b[39;00m\n\u001b[1;32m    743\u001b[0m \u001b[38;5;124;03m\"\"\"\u001b[39;00m\n\u001b[1;32m    744\u001b[0m overrides \u001b[38;5;241m=\u001b[39m Overrides(repo\u001b[38;5;241m=\u001b[39mrepo, overrides_list\u001b[38;5;241m=\u001b[39moverrides_list)\n\u001b[0;32m--> 745\u001b[0m defaults, tree \u001b[38;5;241m=\u001b[39m _create_defaults_list(\n\u001b[1;32m    746\u001b[0m     repo,\n\u001b[1;32m    747\u001b[0m     config_name,\n\u001b[1;32m    748\u001b[0m     overrides,\n\u001b[1;32m    749\u001b[0m     prepend_hydra\u001b[38;5;241m=\u001b[39mprepend_hydra,\n\u001b[1;32m    750\u001b[0m     skip_missing\u001b[38;5;241m=\u001b[39mskip_missing,\n\u001b[1;32m    751\u001b[0m )\n\u001b[1;32m    752\u001b[0m overrides\u001b[38;5;241m.\u001b[39mensure_overrides_used()\n\u001b[1;32m    753\u001b[0m overrides\u001b[38;5;241m.\u001b[39mensure_deletions_used()\n",
      "File \u001b[0;32m~/miniconda3/lib/python3.11/site-packages/hydra/_internal/defaults_list.py:715\u001b[0m, in \u001b[0;36m_create_defaults_list\u001b[0;34m(repo, config_name, overrides, prepend_hydra, skip_missing)\u001b[0m\n\u001b[1;32m    706\u001b[0m \u001b[38;5;28;01mdef\u001b[39;00m \u001b[38;5;21m_create_defaults_list\u001b[39m(\n\u001b[1;32m    707\u001b[0m     repo: IConfigRepository,\n\u001b[1;32m    708\u001b[0m     config_name: Optional[\u001b[38;5;28mstr\u001b[39m],\n\u001b[0;32m   (...)\u001b[0m\n\u001b[1;32m    711\u001b[0m     skip_missing: \u001b[38;5;28mbool\u001b[39m,\n\u001b[1;32m    712\u001b[0m ) \u001b[38;5;241m-\u001b[39m\u001b[38;5;241m>\u001b[39m Tuple[List[ResultDefault], DefaultsTreeNode]:\n\u001b[1;32m    713\u001b[0m     root \u001b[38;5;241m=\u001b[39m _create_root(config_name\u001b[38;5;241m=\u001b[39mconfig_name, with_hydra\u001b[38;5;241m=\u001b[39mprepend_hydra)\n\u001b[0;32m--> 715\u001b[0m     defaults_tree \u001b[38;5;241m=\u001b[39m _create_defaults_tree(\n\u001b[1;32m    716\u001b[0m         repo\u001b[38;5;241m=\u001b[39mrepo,\n\u001b[1;32m    717\u001b[0m         root\u001b[38;5;241m=\u001b[39mroot,\n\u001b[1;32m    718\u001b[0m         overrides\u001b[38;5;241m=\u001b[39moverrides,\n\u001b[1;32m    719\u001b[0m         is_root_config\u001b[38;5;241m=\u001b[39m\u001b[38;5;28;01mTrue\u001b[39;00m,\n\u001b[1;32m    720\u001b[0m         interpolated_subtree\u001b[38;5;241m=\u001b[39m\u001b[38;5;28;01mFalse\u001b[39;00m,\n\u001b[1;32m    721\u001b[0m         skip_missing\u001b[38;5;241m=\u001b[39mskip_missing,\n\u001b[1;32m    722\u001b[0m     )\n\u001b[1;32m    724\u001b[0m     output \u001b[38;5;241m=\u001b[39m _tree_to_list(tree\u001b[38;5;241m=\u001b[39mdefaults_tree)\n\u001b[1;32m    725\u001b[0m     ensure_no_duplicates_in_list(output)\n",
      "File \u001b[0;32m~/miniconda3/lib/python3.11/site-packages/hydra/_internal/defaults_list.py:356\u001b[0m, in \u001b[0;36m_create_defaults_tree\u001b[0;34m(repo, root, is_root_config, skip_missing, interpolated_subtree, overrides)\u001b[0m\n\u001b[1;32m    348\u001b[0m \u001b[38;5;28;01mdef\u001b[39;00m \u001b[38;5;21m_create_defaults_tree\u001b[39m(\n\u001b[1;32m    349\u001b[0m     repo: IConfigRepository,\n\u001b[1;32m    350\u001b[0m     root: DefaultsTreeNode,\n\u001b[0;32m   (...)\u001b[0m\n\u001b[1;32m    354\u001b[0m     overrides: Overrides,\n\u001b[1;32m    355\u001b[0m ) \u001b[38;5;241m-\u001b[39m\u001b[38;5;241m>\u001b[39m DefaultsTreeNode:\n\u001b[0;32m--> 356\u001b[0m     ret \u001b[38;5;241m=\u001b[39m _create_defaults_tree_impl(\n\u001b[1;32m    357\u001b[0m         repo\u001b[38;5;241m=\u001b[39mrepo,\n\u001b[1;32m    358\u001b[0m         root\u001b[38;5;241m=\u001b[39mroot,\n\u001b[1;32m    359\u001b[0m         is_root_config\u001b[38;5;241m=\u001b[39mis_root_config,\n\u001b[1;32m    360\u001b[0m         skip_missing\u001b[38;5;241m=\u001b[39mskip_missing,\n\u001b[1;32m    361\u001b[0m         interpolated_subtree\u001b[38;5;241m=\u001b[39minterpolated_subtree,\n\u001b[1;32m    362\u001b[0m         overrides\u001b[38;5;241m=\u001b[39moverrides,\n\u001b[1;32m    363\u001b[0m     )\n\u001b[1;32m    365\u001b[0m     \u001b[38;5;28;01mreturn\u001b[39;00m ret\n",
      "File \u001b[0;32m~/miniconda3/lib/python3.11/site-packages/hydra/_internal/defaults_list.py:457\u001b[0m, in \u001b[0;36m_create_defaults_tree_impl\u001b[0;34m(repo, root, is_root_config, skip_missing, interpolated_subtree, overrides)\u001b[0m\n\u001b[1;32m    455\u001b[0m \u001b[38;5;28;01mif\u001b[39;00m parent\u001b[38;5;241m.\u001b[39mis_virtual():\n\u001b[1;32m    456\u001b[0m     \u001b[38;5;28;01mif\u001b[39;00m is_root_config:\n\u001b[0;32m--> 457\u001b[0m         \u001b[38;5;28;01mreturn\u001b[39;00m _expand_virtual_root(repo, root, overrides, skip_missing)\n\u001b[1;32m    458\u001b[0m     \u001b[38;5;28;01melse\u001b[39;00m:\n\u001b[1;32m    459\u001b[0m         \u001b[38;5;28;01mreturn\u001b[39;00m root\n",
      "File \u001b[0;32m~/miniconda3/lib/python3.11/site-packages/hydra/_internal/defaults_list.py:280\u001b[0m, in \u001b[0;36m_expand_virtual_root\u001b[0;34m(repo, root, overrides, skip_missing)\u001b[0m\n\u001b[1;32m    277\u001b[0m new_root \u001b[38;5;241m=\u001b[39m DefaultsTreeNode(node\u001b[38;5;241m=\u001b[39md, parent\u001b[38;5;241m=\u001b[39mroot)\n\u001b[1;32m    278\u001b[0m d\u001b[38;5;241m.\u001b[39mupdate_parent(\u001b[38;5;124m\"\u001b[39m\u001b[38;5;124m\"\u001b[39m, \u001b[38;5;124m\"\u001b[39m\u001b[38;5;124m\"\u001b[39m)\n\u001b[0;32m--> 280\u001b[0m subtree \u001b[38;5;241m=\u001b[39m _create_defaults_tree_impl(\n\u001b[1;32m    281\u001b[0m     repo\u001b[38;5;241m=\u001b[39mrepo,\n\u001b[1;32m    282\u001b[0m     root\u001b[38;5;241m=\u001b[39mnew_root,\n\u001b[1;32m    283\u001b[0m     is_root_config\u001b[38;5;241m=\u001b[39md\u001b[38;5;241m.\u001b[39mprimary,\n\u001b[1;32m    284\u001b[0m     skip_missing\u001b[38;5;241m=\u001b[39mskip_missing,\n\u001b[1;32m    285\u001b[0m     interpolated_subtree\u001b[38;5;241m=\u001b[39m\u001b[38;5;28;01mFalse\u001b[39;00m,\n\u001b[1;32m    286\u001b[0m     overrides\u001b[38;5;241m=\u001b[39moverrides,\n\u001b[1;32m    287\u001b[0m )\n\u001b[1;32m    288\u001b[0m \u001b[38;5;28;01mif\u001b[39;00m subtree\u001b[38;5;241m.\u001b[39mchildren \u001b[38;5;129;01mis\u001b[39;00m \u001b[38;5;28;01mNone\u001b[39;00m:\n\u001b[1;32m    289\u001b[0m     children\u001b[38;5;241m.\u001b[39mappend(d)\n",
      "File \u001b[0;32m~/miniconda3/lib/python3.11/site-packages/hydra/_internal/defaults_list.py:573\u001b[0m, in \u001b[0;36m_create_defaults_tree_impl\u001b[0;34m(repo, root, is_root_config, skip_missing, interpolated_subtree, overrides)\u001b[0m\n\u001b[1;32m    570\u001b[0m                 \u001b[38;5;28;01mcontinue\u001b[39;00m\n\u001b[1;32m    572\u001b[0m             new_root \u001b[38;5;241m=\u001b[39m DefaultsTreeNode(node\u001b[38;5;241m=\u001b[39md, parent\u001b[38;5;241m=\u001b[39mroot)\n\u001b[0;32m--> 573\u001b[0m             add_child(children, new_root)\n\u001b[1;32m    575\u001b[0m \u001b[38;5;66;03m# processed deferred interpolations\u001b[39;00m\n\u001b[1;32m    576\u001b[0m known_choices \u001b[38;5;241m=\u001b[39m _create_interpolation_map(overrides, defaults_list, self_added)\n",
      "File \u001b[0;32m~/miniconda3/lib/python3.11/site-packages/hydra/_internal/defaults_list.py:520\u001b[0m, in \u001b[0;36m_create_defaults_tree_impl.<locals>.add_child\u001b[0;34m(child_list, new_root_)\u001b[0m\n\u001b[1;32m    516\u001b[0m \u001b[38;5;28;01mdef\u001b[39;00m \u001b[38;5;21madd_child\u001b[39m(\n\u001b[1;32m    517\u001b[0m     child_list: List[Union[InputDefault, DefaultsTreeNode]],\n\u001b[1;32m    518\u001b[0m     new_root_: DefaultsTreeNode,\n\u001b[1;32m    519\u001b[0m ) \u001b[38;5;241m-\u001b[39m\u001b[38;5;241m>\u001b[39m \u001b[38;5;28;01mNone\u001b[39;00m:\n\u001b[0;32m--> 520\u001b[0m     subtree_ \u001b[38;5;241m=\u001b[39m _create_defaults_tree_impl(\n\u001b[1;32m    521\u001b[0m         repo\u001b[38;5;241m=\u001b[39mrepo,\n\u001b[1;32m    522\u001b[0m         root\u001b[38;5;241m=\u001b[39mnew_root_,\n\u001b[1;32m    523\u001b[0m         is_root_config\u001b[38;5;241m=\u001b[39m\u001b[38;5;28;01mFalse\u001b[39;00m,\n\u001b[1;32m    524\u001b[0m         interpolated_subtree\u001b[38;5;241m=\u001b[39minterpolated_subtree,\n\u001b[1;32m    525\u001b[0m         skip_missing\u001b[38;5;241m=\u001b[39mskip_missing,\n\u001b[1;32m    526\u001b[0m         overrides\u001b[38;5;241m=\u001b[39moverrides,\n\u001b[1;32m    527\u001b[0m     )\n\u001b[1;32m    528\u001b[0m     \u001b[38;5;28;01mif\u001b[39;00m subtree_\u001b[38;5;241m.\u001b[39mchildren \u001b[38;5;129;01mis\u001b[39;00m \u001b[38;5;28;01mNone\u001b[39;00m:\n\u001b[1;32m    529\u001b[0m         child_list\u001b[38;5;241m.\u001b[39mappend(new_root_\u001b[38;5;241m.\u001b[39mnode)\n",
      "File \u001b[0;32m~/miniconda3/lib/python3.11/site-packages/hydra/_internal/defaults_list.py:580\u001b[0m, in \u001b[0;36m_create_defaults_tree_impl\u001b[0;34m(repo, root, is_root_config, skip_missing, interpolated_subtree, overrides)\u001b[0m\n\u001b[1;32m    578\u001b[0m \u001b[38;5;28;01mfor\u001b[39;00m idx, dd \u001b[38;5;129;01min\u001b[39;00m \u001b[38;5;28menumerate\u001b[39m(children):\n\u001b[1;32m    579\u001b[0m     \u001b[38;5;28;01mif\u001b[39;00m \u001b[38;5;28misinstance\u001b[39m(dd, InputDefault) \u001b[38;5;129;01mand\u001b[39;00m dd\u001b[38;5;241m.\u001b[39mis_interpolation():\n\u001b[0;32m--> 580\u001b[0m         dd\u001b[38;5;241m.\u001b[39mresolve_interpolation(known_choices)\n\u001b[1;32m    581\u001b[0m         new_root \u001b[38;5;241m=\u001b[39m DefaultsTreeNode(node\u001b[38;5;241m=\u001b[39mdd, parent\u001b[38;5;241m=\u001b[39mroot)\n\u001b[1;32m    582\u001b[0m         dd\u001b[38;5;241m.\u001b[39mupdate_parent(parent\u001b[38;5;241m.\u001b[39mget_group_path(), parent\u001b[38;5;241m.\u001b[39mget_final_package())\n",
      "File \u001b[0;32m~/miniconda3/lib/python3.11/site-packages/hydra/core/default_element.py:558\u001b[0m, in \u001b[0;36mGroupDefault.resolve_interpolation\u001b[0;34m(self, known_choices)\u001b[0m\n\u001b[1;32m    555\u001b[0m     \u001b[38;5;28;01melse\u001b[39;00m:\n\u001b[1;32m    556\u001b[0m         \u001b[38;5;28;01mraise\u001b[39;00m ConfigCompositionException(msg)\n\u001b[0;32m--> 558\u001b[0m \u001b[38;5;28mself\u001b[39m\u001b[38;5;241m.\u001b[39mvalue \u001b[38;5;241m=\u001b[39m \u001b[38;5;28mself\u001b[39m\u001b[38;5;241m.\u001b[39m_resolve_interpolation_impl(known_choices, name)\n",
      "File \u001b[0;32m~/miniconda3/lib/python3.11/site-packages/hydra/core/default_element.py:252\u001b[0m, in \u001b[0;36mInputDefault._resolve_interpolation_impl\u001b[0;34m(self, known_choices, val)\u001b[0m\n\u001b[1;32m    250\u001b[0m \u001b[38;5;28;01melse\u001b[39;00m:\n\u001b[1;32m    251\u001b[0m     msg \u001b[38;5;241m=\u001b[39m \u001b[38;5;124mf\u001b[39m\u001b[38;5;124m\"\u001b[39m\u001b[38;5;124mError resolving interpolation \u001b[39m\u001b[38;5;124m'\u001b[39m\u001b[38;5;132;01m{\u001b[39;00mval\u001b[38;5;132;01m}\u001b[39;00m\u001b[38;5;124m'\u001b[39m\u001b[38;5;124m\"\u001b[39m\n\u001b[0;32m--> 252\u001b[0m \u001b[38;5;28;01mraise\u001b[39;00m ConfigCompositionException(msg)\n",
      "\u001b[0;31mConfigCompositionException\u001b[0m: Error resolving interpolation '${model.representation}_optim', possible interpolation keys: data, model, model/representation, task, task/scheduler, task/optimizer"
     ]
    }
   ],
   "source": [
    "# Set up datamodule and load training and validation set\n",
    "cfg = read_user_config(\"nequip.yaml\", config_path=\"../curator/configs\")\n",
    "print(cfg.data.datapath)\n",
    "if not os.path.isfile(cfg.data.datapath):\n",
    "    raise RuntimeError(\"Please provide valid data path!\")\n",
    "datamodule = instantiate(cfg.data)\n",
    "datamodule.setup()\n",
    "train_loader = datamodule.train_dataloader\n",
    "val_loader = datamodule.val_dataloader\n",
    "\n",
    "# Set up the model, the optimizer and  the scheduler\n",
    "model = instantiate(cfg.model)\n",
    "model.initialize_modules(datamodule)\n",
    "outputs = instantiate(cfg.task.outputs)\n",
    "model.to(cfg.device)\n",
    "for output in outputs:\n",
    "    output.to(cfg.device)\n",
    "optimizer = instantiate(cfg.task.optimizer)(model.parameters())\n",
    "scheduler = instantiate(cfg.task.scheduler)(optimizer=optimizer)\n",
    "\n",
    "# If you use exponentialmovingaverage, you need to update the model parameters\n",
    "ema = ExponentialMovingAverage(model.parameters(), decay=0.995)\n",
    "\n",
    "# Setup early stopping and inital training param  \n",
    "early_stop = EarlyStopping(patience=cfg.patience) \n",
    "epoch = cfg.trainer.max_epochs\n",
    "best_val_loss = torch.inf\n",
    "prev_loss = None\n",
    "rescale_layers = []\n",
    "for layer in model.output_modules:\n",
    "    if hasattr(layer, \"unscale\"):\n",
    "        rescale_layers.append(layer)\n",
    "\n",
    "e = 0"
   ]
  },
  {
   "cell_type": "code",
   "execution_count": 11,
   "metadata": {},
   "outputs": [],
   "source": [
    "model.representation.embeddings.chemical_embedding.load_state_dict(trainer.model.model.func.chemical_embedding.state_dict())\n",
    "model.representation.interactions[0].load_state_dict(trainer.model.model.func.layer0_convnet.state_dict(), strict=False)\n",
    "model.representation.interactions[1].load_state_dict(trainer.model.model.func.layer1_convnet.state_dict(), strict=False)\n",
    "model.representation.interactions[2].load_state_dict(trainer.model.model.func.layer2_convnet.state_dict(), strict=False)\n",
    "model.representation.interactions[3].load_state_dict(trainer.model.model.func.layer3_convnet.state_dict(), strict=False)\n",
    "\n",
    "model.representation.interactions[1].conv.avg_num_neighbors[0] = trainer.model.model.func.layer1_convnet.conv.avg_num_neighbors\n",
    "model.representation.interactions[2].conv.avg_num_neighbors[0] = trainer.model.model.func.layer2_convnet.conv.avg_num_neighbors\n",
    "model.representation.interactions[3].conv.avg_num_neighbors[0] = trainer.model.model.func.layer3_convnet.conv.avg_num_neighbors\n",
    "\n",
    "model.representation.readout_mlp[0].load_state_dict(trainer.model.model.func.conv_to_output_hidden.linear.state_dict())\n",
    "model.representation.readout_mlp[1].load_state_dict(trainer.model.model.func.output_hidden_to_scalar.linear.state_dict())\n",
    "\n",
    "model.output_modules[2].scale_by[0] = trainer.model.scale_by\n",
    "model.output_modules[2].shift_by = trainer.model.shift_by"
   ]
  },
  {
   "cell_type": "code",
   "execution_count": 13,
   "metadata": {},
   "outputs": [
    {
     "name": "stderr",
     "output_type": "stream",
     "text": [
      "Training step: 0 energy_loss:    0.120 ,forces_loss:    0.352 ,energy_mae:    8.734 ,energy_rmse:    8.738 ,forces_mae:    9.975 ,forces_rmse:   14.978 \n",
      "Training step: 10 energy_loss:    0.013 ,forces_loss:    0.970 ,energy_mae:    2.734 ,energy_rmse:    2.876 ,forces_mae:   18.932 ,forces_rmse:   24.844 \n",
      "Training step: 20 energy_loss:    0.041 ,forces_loss:    1.016 ,energy_mae:    5.109 ,energy_rmse:    5.122 ,forces_mae:   19.690 ,forces_rmse:   25.431 \n",
      "Training step: 30 energy_loss:    0.001 ,forces_loss:    0.962 ,energy_mae:    0.594 ,energy_rmse:    0.601 ,forces_mae:   18.699 ,forces_rmse:   24.746 \n",
      "Training step: 40 energy_loss:    0.115 ,forces_loss:    1.280 ,energy_mae:    8.531 ,energy_rmse:    8.535 ,forces_mae:   21.401 ,forces_rmse:   28.539 \n",
      "Validation epoch: 1, energy_loss: 0.026    ,energy_mae: 3.421    ,energy_rmse: 4.053    ,forces_loss: 1.011    ,forces_mae: 18.267   ,forces_rmse: 25.369   , patience: 0\n"
     ]
    }
   ],
   "source": [
    "# train\n",
    "if e > 0:\n",
    "    model.train()\n",
    "    for i, batch in enumerate(train_loader):\n",
    "        # Initialize the batch, targets and loss\n",
    "        batch = {k: v.to(config.device) for k, v in batch.items()}\n",
    "        targets = {\n",
    "            output.target_property: batch[output.target_property]\n",
    "            for output in outputs\n",
    "        }\n",
    "        atoms_dict = {k: v for k, v in batch.items() if k not in targets}\n",
    "        optimizer.zero_grad()\n",
    "        unscaled_targets = targets.copy()\n",
    "        unscaled_targets.update(atoms_dict)\n",
    "        for layer in rescale_layers:\n",
    "            unscaled_targets = layer.unscale(unscaled_targets, force_process=True)\n",
    "        pred = model(batch)\n",
    "        loss = 0.0\n",
    "        \n",
    "        # Calculate the loss and metrics\n",
    "        metrics = {}\n",
    "        for output in outputs:\n",
    "            tmp_loss, _ = output.calculate_loss(unscaled_targets, pred)\n",
    "            metrics[f\"{output.target_property}_loss\"] = tmp_loss.detach()\n",
    "            loss += tmp_loss\n",
    "        \n",
    "        # Backpropagation\n",
    "        loss.backward()\n",
    "        optimizer.step()\n",
    "        ema.update()\n",
    "        \n",
    "        # Log the training metrics\n",
    "        scaled_pred = pred.copy()\n",
    "        scaled_pred.update(atoms_dict)\n",
    "        for layer in rescale_layers:\n",
    "            scaled_pred = layer.scale(scaled_pred, force_process=True)\n",
    "        if i % cfg.trainer.log_every_n_steps == 0:\n",
    "            for output in outputs:\n",
    "                for k, v in output.metrics['train'].items():\n",
    "                    metrics[f\"{output.name}_{k}\"] = v(scaled_pred[output.name], targets[output.name]).detach()\n",
    "            log_outputs = \",\".join([f\"{k}: {v:8.3f} \" for k, v in metrics.items()])\n",
    "            logging.info(f\"Training step: {i} {log_outputs}\")\n",
    "\n",
    "# validation for each epoch\n",
    "model.eval()\n",
    "metrics = {}\n",
    "a_counts = 0\n",
    "s_counts = 0\n",
    "cm = ema.average_parameters()\n",
    "with cm:\n",
    "    for i, batch in enumerate(val_loader):\n",
    "        # Initialize the batch, targets and loss\n",
    "        batch = {k: v.to(config.device) for k, v in batch.items()}\n",
    "        targets = {\n",
    "            output.target_property: batch[output.target_property]\n",
    "            for output in outputs\n",
    "        }\n",
    "        atoms_dict = {k: v for k, v in batch.items() if k not in targets}\n",
    "            \n",
    "        a = batch[\"forces\"].shape[0]\n",
    "        s = batch[\"energy\"].shape[0]\n",
    "        a_counts += a\n",
    "        s_counts += s\n",
    "        pred = model(batch)\n",
    "        \n",
    "        unscaled_targets, unscaled_pred = targets.copy(), pred.copy()\n",
    "        unscaled_pred.update(atoms_dict)\n",
    "        unscaled_targets.update(atoms_dict)\n",
    "        for layer in rescale_layers:\n",
    "            unscaled_targets = layer.unscale(unscaled_targets, force_process=True)\n",
    "            unscaled_pred = layer.unscale(unscaled_pred, force_process=True)\n",
    "            \n",
    "        # calculate loss\n",
    "        for output in outputs:\n",
    "            tmp_loss = output.calculate_loss(unscaled_targets, unscaled_pred, return_num_obs=False).detach()\n",
    "            # metrics\n",
    "            if i == 0:\n",
    "                metrics[f\"{output.target_property}_loss\"] = tmp_loss\n",
    "            else:\n",
    "                metrics[f\"{output.target_property}_loss\"] += tmp_loss\n",
    "                \n",
    "            for k, v in output.metrics['train'].items():\n",
    "                m = v(pred[output.name], targets[output.name]).detach()\n",
    "                if \"rmse\" in k:\n",
    "                    m = m ** 2\n",
    "                if i == 0:\n",
    "                    metrics[f\"{output.name}_{k}\"] = m\n",
    "                else:\n",
    "                    metrics[f\"{output.name}_{k}\"] += m\n",
    "    \n",
    "# postprocess validation metrics    \n",
    "for k in metrics:\n",
    "    metrics[k] /= i+1\n",
    "    if \"rmse\" in k:\n",
    "        metrics[k] = torch.sqrt(metrics[k])\n",
    "\n",
    "val_loss = metrics[\"energy_loss\"] + metrics[\"forces_loss\"]\n",
    "smooth_loss = val_loss if prev_loss is None else 0.9 * val_loss + 0.1 * prev_loss\n",
    "prev_loss = val_loss\n",
    "\n",
    "log_outputs = \",\".join([f\"{k}: {v:<8.3f} \" for k, v in metrics.items()])\n",
    "logging.info(f\"Validation epoch: {e}, {log_outputs}, patience: {early_stop.counter}\")\n",
    "e += 1"
   ]
  },
  {
   "cell_type": "code",
   "execution_count": null,
   "metadata": {},
   "outputs": [],
   "source": []
  },
  {
   "cell_type": "code",
   "execution_count": 14,
   "metadata": {},
   "outputs": [],
   "source": [
    "cr_test = next(iter(datamodule.train_dataloader))\n",
    "np_test = AtomicData.to_AtomicDataDict(next(iter(trainer.dl_train)))\n",
    "\n",
    "cr_test = {k: v.to(\"cuda\") for k, v in cr_test.items()}\n",
    "np_test = {k: v.to(\"cuda\") for k, v in np_test.items()}"
   ]
  },
  {
   "cell_type": "code",
   "execution_count": 15,
   "metadata": {},
   "outputs": [
    {
     "data": {
      "text/plain": [
       "RescaleOutput(\n",
       "  (model): GradientOutput(\n",
       "    (func): SequentialGraphNetwork(\n",
       "      (one_hot): OneHotAtomEncoding()\n",
       "      (spharm_edges): SphericalHarmonicEdgeAttrs(\n",
       "        (sh): SphericalHarmonics()\n",
       "      )\n",
       "      (radial_basis): RadialBasisEdgeEncoding(\n",
       "        (basis): BesselBasis()\n",
       "        (cutoff): PolynomialCutoff()\n",
       "      )\n",
       "      (chemical_embedding): AtomwiseLinear(\n",
       "        (linear): Linear(3x0e -> 32x0e | 96 weights)\n",
       "      )\n",
       "      (layer0_convnet): ConvNetLayer(\n",
       "        (equivariant_nonlin): Gate (96x0e+32x1o+32x2e -> 32x0e+32x2e+32x1o)\n",
       "        (conv): InteractionBlock(\n",
       "          (linear_1): Linear(32x0e -> 32x0e | 1024 weights)\n",
       "          (fc): FullyConnectedNet[8, 64, 64, 96]\n",
       "          (tp): TensorProduct(32x0e x 1x0e+1x1o+1x2e -> 32x0e+32x1o+32x2e | 96 paths | 96 weights)\n",
       "          (linear_2): Linear(32x0e+32x1o+32x2e -> 96x0e+32x1o+32x2e | 5120 weights)\n",
       "          (sc): FullyConnectedTensorProduct(32x0e x 3x0e -> 96x0e+32x1o+32x2e | 9216 paths | 9216 weights)\n",
       "        )\n",
       "      )\n",
       "      (layer1_convnet): ConvNetLayer(\n",
       "        (equivariant_nonlin): Gate (160x0e+32x1o+32x1e+32x2o+32x2e -> 32x0e+32x1e+32x2e+32x1o+32x2o)\n",
       "        (conv): InteractionBlock(\n",
       "          (linear_1): Linear(32x0e+32x2e+32x1o -> 32x0e+32x2e+32x1o | 3072 weights)\n",
       "          (fc): FullyConnectedNet[8, 64, 64, 480]\n",
       "          (tp): TensorProduct(32x0e+32x2e+32x1o x 1x0e+1x1o+1x2e -> 96x0e+128x1o+64x1e+64x2o+128x2e | 480 paths | 480 weights)\n",
       "          (linear_2): Linear(96x0e+128x1o+64x1e+64x2o+128x2e -> 160x0e+32x1o+32x1e+32x2o+32x2e | 27648 weights)\n",
       "          (sc): FullyConnectedTensorProduct(32x0e+32x2e+32x1o x 3x0e -> 160x0e+32x1o+32x1e+32x2o+32x2e | 21504 paths | 21504 weights)\n",
       "        )\n",
       "      )\n",
       "      (layer2_convnet): ConvNetLayer(\n",
       "        (equivariant_nonlin): Gate (32x0o+160x0e+32x1o+32x1e+32x2o+32x2e -> 32x0e+32x0o+32x1e+32x2e+32x1o+32x2o)\n",
       "        (conv): InteractionBlock(\n",
       "          (linear_1): Linear(32x0e+32x1e+32x2e+32x1o+32x2o -> 32x0e+32x1e+32x2e+32x1o+32x2o | 5120 weights)\n",
       "          (fc): FullyConnectedNet[8, 64, 64, 864]\n",
       "          (tp): TensorProduct(32x0e+32x1e+32x2e+32x1o+32x2o x 1x0e+1x1o+1x2e -> 64x0o+96x0e+192x1o+160x1e+160x2o+192x2e | 864 paths | 864 weights)\n",
       "          (linear_2): Linear(64x0o+96x0e+192x1o+160x1e+160x2o+192x2e -> 32x0o+160x0e+32x1o+32x1e+32x2o+32x2e | 39936 weights)\n",
       "          (sc): FullyConnectedTensorProduct(32x0e+32x1e+32x2e+32x1o+32x2o x 3x0e -> 32x0o+160x0e+32x1o+32x1e+32x2o+32x2e | 27648 paths | 27648 weights)\n",
       "        )\n",
       "      )\n",
       "      (layer3_convnet): ConvNetLayer(\n",
       "        (equivariant_nonlin): Gate (32x0o+160x0e+32x1o+32x1e+32x2o+32x2e -> 32x0e+32x0o+32x1e+32x2e+32x1o+32x2o)\n",
       "        (conv): InteractionBlock(\n",
       "          (linear_1): Linear(32x0e+32x0o+32x1e+32x2e+32x1o+32x2o -> 32x0e+32x0o+32x1e+32x2e+32x1o+32x2o | 6144 weights)\n",
       "          (fc): FullyConnectedNet[8, 64, 64, 960]\n",
       "          (tp): TensorProduct(32x0e+32x0o+32x1e+32x2e+32x1o+32x2o x 1x0e+1x1o+1x2e -> 96x0o+96x0e+192x1o+192x1e+192x2o+192x2e | 960 paths | 960 weights)\n",
       "          (linear_2): Linear(96x0o+96x0e+192x1o+192x1e+192x2o+192x2e -> 32x0o+160x0e+32x1o+32x1e+32x2o+32x2e | 43008 weights)\n",
       "          (sc): FullyConnectedTensorProduct(32x0e+32x0o+32x1e+32x2e+32x1o+32x2o x 3x0e -> 32x0o+160x0e+32x1o+32x1e+32x2o+32x2e | 30720 paths | 30720 weights)\n",
       "        )\n",
       "      )\n",
       "      (conv_to_output_hidden): AtomwiseLinear(\n",
       "        (linear): Linear(32x0e+32x0o+32x1e+32x2e+32x1o+32x2o -> 16x0e | 512 weights)\n",
       "      )\n",
       "      (output_hidden_to_scalar): AtomwiseLinear(\n",
       "        (linear): Linear(16x0e -> 1x0e | 16 weights)\n",
       "      )\n",
       "      (per_species_rescale): PerSpeciesScaleShift()\n",
       "      (total_energy_sum): AtomwiseReduce()\n",
       "    )\n",
       "  )\n",
       ")"
      ]
     },
     "execution_count": 15,
     "metadata": {},
     "output_type": "execute_result"
    }
   ],
   "source": [
    "model.to(\"cuda\")\n",
    "trainer.model.to(\"cuda\")"
   ]
  },
  {
   "cell_type": "code",
   "execution_count": 16,
   "metadata": {},
   "outputs": [],
   "source": [
    "np_rescale = []\n",
    "outer_layer = trainer.model\n",
    "while hasattr(outer_layer, \"unscale\"):\n",
    "    np_rescale.append(outer_layer)\n",
    "    outer_layer = getattr(outer_layer, \"model\", None)\n",
    "    \n",
    "cr_rescale = [model.output_modules[2]]"
   ]
  },
  {
   "cell_type": "code",
   "execution_count": 17,
   "metadata": {},
   "outputs": [
    {
     "data": {
      "text/plain": [
       "RescaleOutput(\n",
       "  (model): GradientOutput(\n",
       "    (func): SequentialGraphNetwork(\n",
       "      (one_hot): OneHotAtomEncoding()\n",
       "      (spharm_edges): SphericalHarmonicEdgeAttrs(\n",
       "        (sh): SphericalHarmonics()\n",
       "      )\n",
       "      (radial_basis): RadialBasisEdgeEncoding(\n",
       "        (basis): BesselBasis()\n",
       "        (cutoff): PolynomialCutoff()\n",
       "      )\n",
       "      (chemical_embedding): AtomwiseLinear(\n",
       "        (linear): Linear(3x0e -> 32x0e | 96 weights)\n",
       "      )\n",
       "      (layer0_convnet): ConvNetLayer(\n",
       "        (equivariant_nonlin): Gate (96x0e+32x1o+32x2e -> 32x0e+32x2e+32x1o)\n",
       "        (conv): InteractionBlock(\n",
       "          (linear_1): Linear(32x0e -> 32x0e | 1024 weights)\n",
       "          (fc): FullyConnectedNet[8, 64, 64, 96]\n",
       "          (tp): TensorProduct(32x0e x 1x0e+1x1o+1x2e -> 32x0e+32x1o+32x2e | 96 paths | 96 weights)\n",
       "          (linear_2): Linear(32x0e+32x1o+32x2e -> 96x0e+32x1o+32x2e | 5120 weights)\n",
       "          (sc): FullyConnectedTensorProduct(32x0e x 3x0e -> 96x0e+32x1o+32x2e | 9216 paths | 9216 weights)\n",
       "        )\n",
       "      )\n",
       "      (layer1_convnet): ConvNetLayer(\n",
       "        (equivariant_nonlin): Gate (160x0e+32x1o+32x1e+32x2o+32x2e -> 32x0e+32x1e+32x2e+32x1o+32x2o)\n",
       "        (conv): InteractionBlock(\n",
       "          (linear_1): Linear(32x0e+32x2e+32x1o -> 32x0e+32x2e+32x1o | 3072 weights)\n",
       "          (fc): FullyConnectedNet[8, 64, 64, 480]\n",
       "          (tp): TensorProduct(32x0e+32x2e+32x1o x 1x0e+1x1o+1x2e -> 96x0e+128x1o+64x1e+64x2o+128x2e | 480 paths | 480 weights)\n",
       "          (linear_2): Linear(96x0e+128x1o+64x1e+64x2o+128x2e -> 160x0e+32x1o+32x1e+32x2o+32x2e | 27648 weights)\n",
       "          (sc): FullyConnectedTensorProduct(32x0e+32x2e+32x1o x 3x0e -> 160x0e+32x1o+32x1e+32x2o+32x2e | 21504 paths | 21504 weights)\n",
       "        )\n",
       "      )\n",
       "      (layer2_convnet): ConvNetLayer(\n",
       "        (equivariant_nonlin): Gate (32x0o+160x0e+32x1o+32x1e+32x2o+32x2e -> 32x0e+32x0o+32x1e+32x2e+32x1o+32x2o)\n",
       "        (conv): InteractionBlock(\n",
       "          (linear_1): Linear(32x0e+32x1e+32x2e+32x1o+32x2o -> 32x0e+32x1e+32x2e+32x1o+32x2o | 5120 weights)\n",
       "          (fc): FullyConnectedNet[8, 64, 64, 864]\n",
       "          (tp): TensorProduct(32x0e+32x1e+32x2e+32x1o+32x2o x 1x0e+1x1o+1x2e -> 64x0o+96x0e+192x1o+160x1e+160x2o+192x2e | 864 paths | 864 weights)\n",
       "          (linear_2): Linear(64x0o+96x0e+192x1o+160x1e+160x2o+192x2e -> 32x0o+160x0e+32x1o+32x1e+32x2o+32x2e | 39936 weights)\n",
       "          (sc): FullyConnectedTensorProduct(32x0e+32x1e+32x2e+32x1o+32x2o x 3x0e -> 32x0o+160x0e+32x1o+32x1e+32x2o+32x2e | 27648 paths | 27648 weights)\n",
       "        )\n",
       "      )\n",
       "      (layer3_convnet): ConvNetLayer(\n",
       "        (equivariant_nonlin): Gate (32x0o+160x0e+32x1o+32x1e+32x2o+32x2e -> 32x0e+32x0o+32x1e+32x2e+32x1o+32x2o)\n",
       "        (conv): InteractionBlock(\n",
       "          (linear_1): Linear(32x0e+32x0o+32x1e+32x2e+32x1o+32x2o -> 32x0e+32x0o+32x1e+32x2e+32x1o+32x2o | 6144 weights)\n",
       "          (fc): FullyConnectedNet[8, 64, 64, 960]\n",
       "          (tp): TensorProduct(32x0e+32x0o+32x1e+32x2e+32x1o+32x2o x 1x0e+1x1o+1x2e -> 96x0o+96x0e+192x1o+192x1e+192x2o+192x2e | 960 paths | 960 weights)\n",
       "          (linear_2): Linear(96x0o+96x0e+192x1o+192x1e+192x2o+192x2e -> 32x0o+160x0e+32x1o+32x1e+32x2o+32x2e | 43008 weights)\n",
       "          (sc): FullyConnectedTensorProduct(32x0e+32x0o+32x1e+32x2e+32x1o+32x2o x 3x0e -> 32x0o+160x0e+32x1o+32x1e+32x2o+32x2e | 30720 paths | 30720 weights)\n",
       "        )\n",
       "      )\n",
       "      (conv_to_output_hidden): AtomwiseLinear(\n",
       "        (linear): Linear(32x0e+32x0o+32x1e+32x2e+32x1o+32x2o -> 16x0e | 512 weights)\n",
       "      )\n",
       "      (output_hidden_to_scalar): AtomwiseLinear(\n",
       "        (linear): Linear(16x0e -> 1x0e | 16 weights)\n",
       "      )\n",
       "      (per_species_rescale): PerSpeciesScaleShift()\n",
       "      (total_energy_sum): AtomwiseReduce()\n",
       "    )\n",
       "  )\n",
       ")"
      ]
     },
     "execution_count": 17,
     "metadata": {},
     "output_type": "execute_result"
    }
   ],
   "source": [
    "unscaled_np = np_test.copy()\n",
    "unscaled_cr = cr_test.copy()\n",
    "trainer.model.train()"
   ]
  },
  {
   "cell_type": "code",
   "execution_count": 26,
   "metadata": {},
   "outputs": [
    {
     "data": {
      "text/plain": [
       "Adam (\n",
       "Parameter Group 0\n",
       "    amsgrad: True\n",
       "    betas: (0.9, 0.999)\n",
       "    capturable: False\n",
       "    differentiable: False\n",
       "    eps: 1e-08\n",
       "    foreach: None\n",
       "    fused: None\n",
       "    lr: 0.005\n",
       "    maximize: False\n",
       "    weight_decay: 0\n",
       ")"
      ]
     },
     "execution_count": 26,
     "metadata": {},
     "output_type": "execute_result"
    }
   ],
   "source": [
    "trainer.optim"
   ]
  },
  {
   "cell_type": "code",
   "execution_count": 27,
   "metadata": {},
   "outputs": [
    {
     "data": {
      "text/plain": [
       "AdamW (\n",
       "Parameter Group 0\n",
       "    amsgrad: True\n",
       "    betas: [0.9, 0.999]\n",
       "    capturable: False\n",
       "    differentiable: False\n",
       "    eps: 1e-08\n",
       "    foreach: None\n",
       "    fused: None\n",
       "    lr: 0.01\n",
       "    maximize: False\n",
       "    weight_decay: 0.01\n",
       ")"
      ]
     },
     "execution_count": 27,
     "metadata": {},
     "output_type": "execute_result"
    }
   ],
   "source": [
    "optimizer"
   ]
  },
  {
   "cell_type": "code",
   "execution_count": 18,
   "metadata": {},
   "outputs": [],
   "source": [
    "for layer in np_rescale:\n",
    "    unscaled_np = layer.unscale(unscaled_np, force_process=True)\n",
    "\n",
    "for layer in cr_rescale:\n",
    "    unscaled_cr = layer.unscale(unscaled_cr, force_process=True)"
   ]
  },
  {
   "cell_type": "code",
   "execution_count": 19,
   "metadata": {},
   "outputs": [],
   "source": [
    "outputs = instantiate(cfg.task.outputs)\n",
    "for output in outputs:\n",
    "    output.to(\"cuda\")"
   ]
  },
  {
   "cell_type": "code",
   "execution_count": 20,
   "metadata": {},
   "outputs": [],
   "source": [
    "np_result = trainer.model(np_test)\n",
    "cr_result = model(cr_test)"
   ]
  },
  {
   "cell_type": "code",
   "execution_count": 21,
   "metadata": {},
   "outputs": [],
   "source": [
    "loss, loss_contrib = trainer.loss(unscaled_np, np_result)"
   ]
  },
  {
   "cell_type": "code",
   "execution_count": 22,
   "metadata": {},
   "outputs": [
    {
     "data": {
      "text/plain": [
       "tensor(0.5325, device='cuda:0', grad_fn=<AddBackward0>)"
      ]
     },
     "execution_count": 22,
     "metadata": {},
     "output_type": "execute_result"
    }
   ],
   "source": [
    "loss"
   ]
  },
  {
   "cell_type": "code",
   "execution_count": 23,
   "metadata": {},
   "outputs": [
    {
     "data": {
      "text/plain": [
       "{'forces': tensor(0.4559, device='cuda:0', grad_fn=<MeanBackward0>),\n",
       " 'total_energy': tensor(0.0766, device='cuda:0', grad_fn=<MeanBackward0>)}"
      ]
     },
     "execution_count": 23,
     "metadata": {},
     "output_type": "execute_result"
    }
   ],
   "source": [
    "loss_contrib"
   ]
  },
  {
   "cell_type": "code",
   "execution_count": 24,
   "metadata": {},
   "outputs": [
    {
     "data": {
      "text/plain": [
       "tensor(0.0766, device='cuda:0')"
      ]
     },
     "execution_count": 24,
     "metadata": {},
     "output_type": "execute_result"
    }
   ],
   "source": [
    "outputs[0].calculate_loss(unscaled_cr, cr_result, return_num_obs=False).detach()"
   ]
  },
  {
   "cell_type": "code",
   "execution_count": 25,
   "metadata": {},
   "outputs": [
    {
     "data": {
      "text/plain": [
       "tensor(0.4559, device='cuda:0')"
      ]
     },
     "execution_count": 25,
     "metadata": {},
     "output_type": "execute_result"
    }
   ],
   "source": [
    "outputs[1].calculate_loss(unscaled_cr, cr_result, return_num_obs=False).detach()"
   ]
  },
  {
   "cell_type": "code",
   "execution_count": 42,
   "metadata": {},
   "outputs": [
    {
     "data": {
      "text/plain": [
       "tensor([-0.6850, -0.6627, -0.6082, -0.5363, -0.4645], device='cuda:0')"
      ]
     },
     "execution_count": 42,
     "metadata": {},
     "output_type": "execute_result"
    }
   ],
   "source": [
    "unscaled_cr['energy']"
   ]
  },
  {
   "cell_type": "code",
   "execution_count": 46,
   "metadata": {},
   "outputs": [
    {
     "data": {
      "text/plain": [
       "tensor([[-406750.6875],\n",
       "        [-406750.6562],\n",
       "        [-406750.6562],\n",
       "        [-406750.6250],\n",
       "        [-406750.6250]], device='cuda:0', grad_fn=<AddBackward0>)"
      ]
     },
     "execution_count": 46,
     "metadata": {},
     "output_type": "execute_result"
    }
   ],
   "source": [
    "np_result['total_energy']"
   ]
  },
  {
   "cell_type": "code",
   "execution_count": 43,
   "metadata": {},
   "outputs": [
    {
     "data": {
      "text/plain": [
       "tensor([[-0.6850],\n",
       "        [-0.6627],\n",
       "        [-0.6082],\n",
       "        [-0.5363],\n",
       "        [-0.4645]], device='cuda:0')"
      ]
     },
     "execution_count": 43,
     "metadata": {},
     "output_type": "execute_result"
    }
   ],
   "source": [
    "unscaled_np['total_energy']"
   ]
  },
  {
   "cell_type": "code",
   "execution_count": 115,
   "metadata": {},
   "outputs": [
    {
     "ename": "AttributeError",
     "evalue": "'Trainer' object has no attribute 'optimizer'",
     "output_type": "error",
     "traceback": [
      "\u001b[0;31m---------------------------------------------------------------------------\u001b[0m",
      "\u001b[0;31mAttributeError\u001b[0m                            Traceback (most recent call last)",
      "Cell \u001b[0;32mIn[115], line 1\u001b[0m\n\u001b[0;32m----> 1\u001b[0m trainer\u001b[38;5;241m.\u001b[39moptimizer\n",
      "\u001b[0;31mAttributeError\u001b[0m: 'Trainer' object has no attribute 'optimizer'"
     ]
    }
   ],
   "source": [
    "trainer"
   ]
  },
  {
   "cell_type": "code",
   "execution_count": 89,
   "metadata": {},
   "outputs": [
    {
     "data": {
      "text/plain": [
       "tensor([-0.7405], device='cuda:0')"
      ]
     },
     "execution_count": 89,
     "metadata": {},
     "output_type": "execute_result"
    }
   ],
   "source": [
    "unscaled_cr['energy']"
   ]
  },
  {
   "cell_type": "code",
   "execution_count": 91,
   "metadata": {},
   "outputs": [
    {
     "data": {
      "text/plain": [
       "tensor([-0.6227], device='cuda:0')"
      ]
     },
     "execution_count": 91,
     "metadata": {},
     "output_type": "execute_result"
    }
   ],
   "source": [
    "unscaled_np['total_energy']"
   ]
  },
  {
   "cell_type": "code",
   "execution_count": 92,
   "metadata": {},
   "outputs": [
    {
     "data": {
      "text/plain": [
       "tensor([[-7.2516e-02,  4.0498e-02, -8.9127e-02],\n",
       "        [-2.2105e-01,  1.3086e-01, -1.7203e-01],\n",
       "        [ 4.1190e-01,  7.1826e-02,  1.2072e-01],\n",
       "        [ 1.7269e-01,  1.0772e-01, -2.6124e-02],\n",
       "        [ 5.0346e-01,  2.4314e-01, -8.9178e-01],\n",
       "        [ 6.7509e-01, -8.5078e-01,  2.5630e-01],\n",
       "        [ 6.9867e-01, -9.9943e-02,  4.0456e-01],\n",
       "        [-8.6034e-01, -5.1414e-01, -1.3998e-01],\n",
       "        [ 2.6646e-01,  1.4698e-01,  9.8090e-01],\n",
       "        [ 2.2210e+00,  4.7495e-01,  5.1323e-01],\n",
       "        [-1.4480e+00, -3.6098e-01, -3.0402e-01],\n",
       "        [-7.6281e-01,  9.2996e-02,  1.5675e+00],\n",
       "        [-8.9484e-01,  3.6686e-01, -1.9045e+00],\n",
       "        [-8.0178e-01,  1.9299e-01, -2.3867e-01],\n",
       "        [ 5.5745e-02, -3.0974e-01,  6.0622e-02],\n",
       "        [-2.7871e-01,  2.0410e-01, -6.5777e-02],\n",
       "        [ 3.3964e-01,  2.4596e-02,  9.7423e-02],\n",
       "        [ 1.3444e-01,  3.2541e-01, -1.0568e-04],\n",
       "        [ 1.5653e-02, -2.4224e-01, -4.4820e-02],\n",
       "        [ 8.2317e-02,  3.9407e-02,  1.5965e-01],\n",
       "        [-2.3704e-01, -8.4513e-02, -2.8386e-01]], device='cuda:0')"
      ]
     },
     "execution_count": 92,
     "metadata": {},
     "output_type": "execute_result"
    }
   ],
   "source": [
    "unscaled_np['forces']"
   ]
  },
  {
   "cell_type": "code",
   "execution_count": 96,
   "metadata": {},
   "outputs": [
    {
     "data": {
      "text/plain": [
       "tensor([28.5284], device='cuda:0')"
      ]
     },
     "execution_count": 96,
     "metadata": {},
     "output_type": "execute_result"
    }
   ],
   "source": [
    "cr_rescale[0].scale_by"
   ]
  },
  {
   "cell_type": "code",
   "execution_count": 97,
   "metadata": {},
   "outputs": [
    {
     "data": {
      "text/plain": [
       "tensor(25.2939, device='cuda:0')"
      ]
     },
     "execution_count": 97,
     "metadata": {},
     "output_type": "execute_result"
    }
   ],
   "source": [
    "np_rescale[0].scale_by"
   ]
  },
  {
   "cell_type": "code",
   "execution_count": 103,
   "metadata": {},
   "outputs": [
    {
     "data": {
      "text/plain": [
       "tensor([25.2939], device='cuda:0')"
      ]
     },
     "execution_count": 103,
     "metadata": {},
     "output_type": "execute_result"
    }
   ],
   "source": [
    "cr_model.output_modules[2].scale_by"
   ]
  },
  {
   "cell_type": "code",
   "execution_count": 93,
   "metadata": {},
   "outputs": [
    {
     "data": {
      "text/plain": [
       "tensor([-0.7405], device='cuda:0')"
      ]
     },
     "execution_count": 93,
     "metadata": {},
     "output_type": "execute_result"
    }
   ],
   "source": [
    "unscaled_cr['energy']"
   ]
  },
  {
   "cell_type": "code",
   "execution_count": 94,
   "metadata": {},
   "outputs": [
    {
     "data": {
      "text/plain": [
       "tensor([[-6.4295e-02,  3.5906e-02, -7.9022e-02],\n",
       "        [-1.9599e-01,  1.1602e-01, -1.5252e-01],\n",
       "        [ 3.6520e-01,  6.3683e-02,  1.0703e-01],\n",
       "        [ 1.5311e-01,  9.5507e-02, -2.3162e-02],\n",
       "        [ 4.4638e-01,  2.1558e-01, -7.9067e-01],\n",
       "        [ 5.9855e-01, -7.5432e-01,  2.2724e-01],\n",
       "        [ 6.1946e-01, -8.8612e-02,  3.5869e-01],\n",
       "        [-7.6280e-01, -4.5585e-01, -1.2411e-01],\n",
       "        [ 2.3625e-01,  1.3031e-01,  8.6969e-01],\n",
       "        [ 1.9692e+00,  4.2110e-01,  4.5504e-01],\n",
       "        [-1.2838e+00, -3.2006e-01, -2.6955e-01],\n",
       "        [-6.7632e-01,  8.2452e-02,  1.3897e+00],\n",
       "        [-7.9338e-01,  3.2527e-01, -1.6886e+00],\n",
       "        [-7.1087e-01,  1.7111e-01, -2.1161e-01],\n",
       "        [ 4.9425e-02, -2.7462e-01,  5.3749e-02],\n",
       "        [-2.4711e-01,  1.8096e-01, -5.8320e-02],\n",
       "        [ 3.0113e-01,  2.1807e-02,  8.6378e-02],\n",
       "        [ 1.1920e-01,  2.8852e-01, -9.3697e-05],\n",
       "        [ 1.3878e-02, -2.1478e-01, -3.9738e-02],\n",
       "        [ 7.2984e-02,  3.4939e-02,  1.4155e-01],\n",
       "        [-2.1017e-01, -7.4931e-02, -2.5168e-01]], device='cuda:0')"
      ]
     },
     "execution_count": 94,
     "metadata": {},
     "output_type": "execute_result"
    }
   ],
   "source": [
    "unscaled_cr['forces']"
   ]
  },
  {
   "cell_type": "code",
   "execution_count": 80,
   "metadata": {},
   "outputs": [],
   "source": [
    "import copy"
   ]
  },
  {
   "cell_type": "code",
   "execution_count": 81,
   "metadata": {},
   "outputs": [],
   "source": [
    "cr_loss = copy.copy(trainer.loss)"
   ]
  },
  {
   "cell_type": "code",
   "execution_count": 108,
   "metadata": {},
   "outputs": [],
   "source": [
    "cr_loss.keys = ['forces', 'total_energy']\n",
    "cr_loss.coeffs['total_energy'] =  cr_loss.coeffs.pop('energy')\n",
    "cr_loss.funcs['total_energy'] = cr_loss.funcs.pop('energy')"
   ]
  },
  {
   "cell_type": "code",
   "execution_count": 88,
   "metadata": {},
   "outputs": [
    {
     "data": {
      "text/plain": [
       "(tensor(0.4475, device='cuda:0', grad_fn=<AddBackward0>),\n",
       " {'forces': tensor(0.2772, device='cuda:0', grad_fn=<MeanBackward0>),\n",
       "  'energy': tensor(0.1703, device='cuda:0', grad_fn=<MeanBackward0>)})"
      ]
     },
     "execution_count": 88,
     "metadata": {},
     "output_type": "execute_result"
    }
   ],
   "source": [
    "cr_loss(unscaled_cr, cr_result)"
   ]
  },
  {
   "cell_type": "code",
   "execution_count": 34,
   "metadata": {},
   "outputs": [],
   "source": [
    "cr_result = cr_model(cr_test)\n",
    "np_result = trainer.model(np_test)"
   ]
  },
  {
   "cell_type": "code",
   "execution_count": 35,
   "metadata": {},
   "outputs": [
    {
     "data": {
      "text/plain": [
       "{'forces': tensor([[-1.8028e-02,  4.5311e-03, -5.5574e-03],\n",
       "         [ 1.7407e-02, -9.1300e-03,  4.3322e-03],\n",
       "         [-1.9957e-02, -6.1250e-04, -5.3755e-03],\n",
       "         [-1.1042e-02, -1.9254e-02, -4.7222e-04],\n",
       "         [-1.0571e-02, -3.4560e-03, -7.7775e-03],\n",
       "         [ 3.3908e-02,  3.6720e-02,  1.9644e-03],\n",
       "         [-1.6152e-02, -1.3114e-02,  6.4452e-03],\n",
       "         [-4.1041e-02, -1.3427e-02, -1.1256e-02],\n",
       "         [ 1.8837e-02,  1.6667e-02,  5.5576e-02],\n",
       "         [ 1.2808e-02,  5.7524e-04,  3.4341e-03],\n",
       "         [ 2.9525e-02, -2.2228e-03,  8.6335e-03],\n",
       "         [ 3.3773e-02, -6.0120e-03, -3.9171e-02],\n",
       "         [ 2.7731e-03, -1.2917e-03, -4.0038e-03],\n",
       "         [-7.9645e-03,  1.9352e-02, -4.7437e-03],\n",
       "         [ 9.1247e-03, -8.4660e-03,  3.6157e-03],\n",
       "         [-1.8233e-04,  4.9967e-03,  8.4954e-05],\n",
       "         [ 2.9934e-03, -3.1448e-04,  8.4308e-04],\n",
       "         [ 9.3691e-04,  2.7873e-03, -1.1192e-04],\n",
       "         [-2.1421e-02, -4.3765e-02,  2.1222e-03],\n",
       "         [-1.2655e-02,  2.1952e-02,  3.0647e-02],\n",
       "         [-3.0707e-03,  1.3484e-02, -3.9230e-02]], device='cuda:0',\n",
       "        grad_fn=<NegBackward0>),\n",
       " 'energy': tensor([-0.3278], device='cuda:0', grad_fn=<IndexAddBackward0>)}"
      ]
     },
     "execution_count": 35,
     "metadata": {},
     "output_type": "execute_result"
    }
   ],
   "source": [
    "cr_result"
   ]
  },
  {
   "cell_type": "code",
   "execution_count": null,
   "metadata": {},
   "outputs": [],
   "source": []
  },
  {
   "cell_type": "code",
   "execution_count": null,
   "metadata": {},
   "outputs": [],
   "source": []
  },
  {
   "cell_type": "code",
   "execution_count": null,
   "metadata": {},
   "outputs": [],
   "source": []
  },
  {
   "cell_type": "code",
   "execution_count": null,
   "metadata": {},
   "outputs": [],
   "source": []
  },
  {
   "cell_type": "code",
   "execution_count": 55,
   "metadata": {},
   "outputs": [],
   "source": [
    "cr_model.representation.embeddings.chemical_embedding.load_state_dict(trainer.model.model.func.chemical_embedding.state_dict())\n",
    "cr_model.representation.interactions[0].load_state_dict(trainer.model.model.func.layer0_convnet.state_dict(), strict=False)\n",
    "cr_model.representation.interactions[1].load_state_dict(trainer.model.model.func.layer1_convnet.state_dict(), strict=False)\n",
    "cr_model.representation.interactions[2].load_state_dict(trainer.model.model.func.layer2_convnet.state_dict(), strict=False)\n",
    "cr_model.representation.interactions[3].load_state_dict(trainer.model.model.func.layer3_convnet.state_dict(), strict=False)\n",
    "\n",
    "cr_model.representation.interactions[0].conv.avg_num_neighbors[0] = trainer.model.model.func.layer0_convnet.conv.avg_num_neighbors\n",
    "cr_model.representation.interactions[1].conv.avg_num_neighbors[0] = trainer.model.model.func.layer1_convnet.conv.avg_num_neighbors\n",
    "cr_model.representation.interactions[2].conv.avg_num_neighbors[0] = trainer.model.model.func.layer2_convnet.conv.avg_num_neighbors\n",
    "cr_model.representation.interactions[3].conv.avg_num_neighbors[0] = trainer.model.model.func.layer3_convnet.conv.avg_num_neighbors\n",
    "\n",
    "cr_model.representation.readout_mlp[0].load_state_dict(trainer.model.model.func.conv_to_output_hidden.linear.state_dict())\n",
    "cr_model.representation.readout_mlp[1].load_state_dict(trainer.model.model.func.output_hidden_to_scalar.linear.state_dict())\n",
    "\n",
    "cr_model.output_modules[2].scale_by[0] = trainer.model.scale_by\n",
    "cr_model.output_modules[2].shift_by = trainer.model.shift_by"
   ]
  },
  {
   "cell_type": "code",
   "execution_count": 10,
   "metadata": {},
   "outputs": [
    {
     "name": "stderr",
     "output_type": "stream",
     "text": [
      "/home/xinyang/miniconda3/lib/python3.11/site-packages/torch/jit/_check.py:172: UserWarning: The TorchScript type system doesn't support instance-level annotations on empty non-base types in `__init__`. Instead, either 1) use a type annotation in the class body, or 2) wrap the type in `torch.jit.Attribute`.\n",
      "  warnings.warn(\"The TorchScript type system doesn't support \"\n",
      "GPU available: True (cuda), used: True\n",
      "TPU available: False, using: 0 TPU cores\n",
      "IPU available: False, using: 0 IPUs\n",
      "HPU available: False, using: 0 HPUs\n",
      "`Trainer(limit_train_batches=1.0)` was configured so 100% of the batches per epoch will be used..\n",
      "`Trainer(limit_val_batches=1.0)` was configured so 100% of the batches will be used..\n",
      "`Trainer(limit_test_batches=1.0)` was configured so 100% of the batches will be used..\n",
      "`Trainer(val_check_interval=1.0)` was configured so validation will run at the end of the training epoch..\n",
      "Initiating console logger\n",
      "Initiating console logger\n"
     ]
    }
   ],
   "source": [
    "cfg = read_user_config(\"nequip.yaml\", config_path=\"../curator/configs\")\n",
    "OmegaConf.save(cfg, 'config.yaml', resolve=True)\n",
    "\n",
    "data = instantiate(cfg.data)\n",
    "cr_model = instantiate(cfg.model)\n",
    "task = instantiate(cfg.task, model=cr_model)\n",
    "cr_trainer = instantiate(cfg.trainer)\n",
    "task.save_configuration(cfg)\n",
    "# set up logger\n",
    "console_logger = logging.getLogger(\"console\")\n",
    "console_logger.setLevel(logging.DEBUG)\n",
    "fh = logging.FileHandler(os.path.join(cfg.run_path, \"test_training.log\"), mode=\"w\")\n",
    "fh.setFormatter(logging.Formatter(\"%(message)s\"))\n",
    "sh = logging.StreamHandler()\n",
    "sh.setFormatter(logging.Formatter(\"%(message)s\"))\n",
    "\n",
    "data.setup()\n",
    "console_logger.addHandler(fh)\n",
    "console_logger.addHandler(sh)\n",
    "console_logger.info(\"Initiating console logger\")"
   ]
  },
  {
   "cell_type": "code",
   "execution_count": 6,
   "metadata": {},
   "outputs": [
    {
     "name": "stderr",
     "output_type": "stream",
     "text": [
      "/home/xinyang/miniconda3/lib/python3.11/site-packages/pytorch_lightning/callbacks/model_checkpoint.py:615: UserWarning: Checkpoint directory /home/xinyang/xin_test/Curator/gnn-active_learning/model_path exists and is not empty.\n",
      "  rank_zero_warn(f\"Checkpoint directory {dirpath} exists and is not empty.\")\n",
      "LOCAL_RANK: 0 - CUDA_VISIBLE_DEVICES: [0]\n",
      "\n",
      "  | Name    | Type                   | Params\n",
      "---------------------------------------------------\n",
      "0 | model   | NeuralNetworkPotential | 392 K \n",
      "1 | outputs | ModuleList             | 0     \n",
      "---------------------------------------------------\n",
      "392 K     Trainable params\n",
      "0         Non-trainable params\n",
      "392 K     Total params\n",
      "1.571     Total estimated model params size (MB)\n",
      "/home/xinyang/miniconda3/lib/python3.11/site-packages/pytorch_lightning/trainer/connectors/data_connector.py:432: PossibleUserWarning: The dataloader, train_dataloader, does not have many workers which may be a bottleneck. Consider increasing the value of the `num_workers` argument` (try 12 which is the number of cpus on this machine) in the `DataLoader` init to improve performance.\n",
      "  rank_zero_warn(\n",
      "/home/xinyang/miniconda3/lib/python3.11/site-packages/pytorch_lightning/trainer/connectors/data_connector.py:432: PossibleUserWarning: The dataloader, val_dataloader, does not have many workers which may be a bottleneck. Consider increasing the value of the `num_workers` argument` (try 12 which is the number of cpus on this machine) in the `DataLoader` init to improve performance.\n",
      "  rank_zero_warn(\n"
     ]
    },
    {
     "name": "stdout",
     "output_type": "stream",
     "text": [
      "Epoch 3:   5%|▌         | 1/20 [00:00<00:06,  2.84it/s, v_num=3, train_total_loss_step=9.81e+5, train_energy_loss_step=7.47e+5, train_forces_loss_step=2.34e+5, val_total_loss_step=1.65e+11, val_energy_loss_step=1.65e+11, val_forces_loss_step=545.0, val_total_loss_epoch=1.65e+11, val_energy_loss_epoch=1.65e+11, val_forces_loss_epoch=618.0, train_total_loss_epoch=1.6e+6, train_energy_loss_epoch=1.28e+6, train_forces_loss_epoch=3.16e+5]     "
     ]
    },
    {
     "ename": "RuntimeError",
     "evalue": "DataLoader worker (pid 15403) is killed by signal: Aborted. ",
     "output_type": "error",
     "traceback": [
      "\u001b[0;31m---------------------------------------------------------------------------\u001b[0m",
      "\u001b[0;31mRuntimeError\u001b[0m                              Traceback (most recent call last)",
      "Cell \u001b[0;32mIn[6], line 1\u001b[0m\n\u001b[0;32m----> 1\u001b[0m cr_trainer\u001b[38;5;241m.\u001b[39mfit(task, data)\n",
      "File \u001b[0;32m~/miniconda3/lib/python3.11/site-packages/pytorch_lightning/trainer/trainer.py:529\u001b[0m, in \u001b[0;36mTrainer.fit\u001b[0;34m(self, model, train_dataloaders, val_dataloaders, datamodule, ckpt_path)\u001b[0m\n\u001b[1;32m    527\u001b[0m model \u001b[38;5;241m=\u001b[39m _maybe_unwrap_optimized(model)\n\u001b[1;32m    528\u001b[0m \u001b[38;5;28mself\u001b[39m\u001b[38;5;241m.\u001b[39mstrategy\u001b[38;5;241m.\u001b[39m_lightning_module \u001b[38;5;241m=\u001b[39m model\n\u001b[0;32m--> 529\u001b[0m call\u001b[38;5;241m.\u001b[39m_call_and_handle_interrupt(\n\u001b[1;32m    530\u001b[0m     \u001b[38;5;28mself\u001b[39m, \u001b[38;5;28mself\u001b[39m\u001b[38;5;241m.\u001b[39m_fit_impl, model, train_dataloaders, val_dataloaders, datamodule, ckpt_path\n\u001b[1;32m    531\u001b[0m )\n",
      "File \u001b[0;32m~/miniconda3/lib/python3.11/site-packages/pytorch_lightning/trainer/call.py:42\u001b[0m, in \u001b[0;36m_call_and_handle_interrupt\u001b[0;34m(trainer, trainer_fn, *args, **kwargs)\u001b[0m\n\u001b[1;32m     40\u001b[0m     \u001b[38;5;28;01mif\u001b[39;00m trainer\u001b[38;5;241m.\u001b[39mstrategy\u001b[38;5;241m.\u001b[39mlauncher \u001b[38;5;129;01mis\u001b[39;00m \u001b[38;5;129;01mnot\u001b[39;00m \u001b[38;5;28;01mNone\u001b[39;00m:\n\u001b[1;32m     41\u001b[0m         \u001b[38;5;28;01mreturn\u001b[39;00m trainer\u001b[38;5;241m.\u001b[39mstrategy\u001b[38;5;241m.\u001b[39mlauncher\u001b[38;5;241m.\u001b[39mlaunch(trainer_fn, \u001b[38;5;241m*\u001b[39margs, trainer\u001b[38;5;241m=\u001b[39mtrainer, \u001b[38;5;241m*\u001b[39m\u001b[38;5;241m*\u001b[39mkwargs)\n\u001b[0;32m---> 42\u001b[0m     \u001b[38;5;28;01mreturn\u001b[39;00m trainer_fn(\u001b[38;5;241m*\u001b[39margs, \u001b[38;5;241m*\u001b[39m\u001b[38;5;241m*\u001b[39mkwargs)\n\u001b[1;32m     44\u001b[0m \u001b[38;5;28;01mexcept\u001b[39;00m _TunerExitException:\n\u001b[1;32m     45\u001b[0m     _call_teardown_hook(trainer)\n",
      "File \u001b[0;32m~/miniconda3/lib/python3.11/site-packages/pytorch_lightning/trainer/trainer.py:568\u001b[0m, in \u001b[0;36mTrainer._fit_impl\u001b[0;34m(self, model, train_dataloaders, val_dataloaders, datamodule, ckpt_path)\u001b[0m\n\u001b[1;32m    558\u001b[0m \u001b[38;5;28mself\u001b[39m\u001b[38;5;241m.\u001b[39m_data_connector\u001b[38;5;241m.\u001b[39mattach_data(\n\u001b[1;32m    559\u001b[0m     model, train_dataloaders\u001b[38;5;241m=\u001b[39mtrain_dataloaders, val_dataloaders\u001b[38;5;241m=\u001b[39mval_dataloaders, datamodule\u001b[38;5;241m=\u001b[39mdatamodule\n\u001b[1;32m    560\u001b[0m )\n\u001b[1;32m    562\u001b[0m ckpt_path \u001b[38;5;241m=\u001b[39m \u001b[38;5;28mself\u001b[39m\u001b[38;5;241m.\u001b[39m_checkpoint_connector\u001b[38;5;241m.\u001b[39m_select_ckpt_path(\n\u001b[1;32m    563\u001b[0m     \u001b[38;5;28mself\u001b[39m\u001b[38;5;241m.\u001b[39mstate\u001b[38;5;241m.\u001b[39mfn,\n\u001b[1;32m    564\u001b[0m     ckpt_path,\n\u001b[1;32m    565\u001b[0m     model_provided\u001b[38;5;241m=\u001b[39m\u001b[38;5;28;01mTrue\u001b[39;00m,\n\u001b[1;32m    566\u001b[0m     model_connected\u001b[38;5;241m=\u001b[39m\u001b[38;5;28mself\u001b[39m\u001b[38;5;241m.\u001b[39mlightning_module \u001b[38;5;129;01mis\u001b[39;00m \u001b[38;5;129;01mnot\u001b[39;00m \u001b[38;5;28;01mNone\u001b[39;00m,\n\u001b[1;32m    567\u001b[0m )\n\u001b[0;32m--> 568\u001b[0m \u001b[38;5;28mself\u001b[39m\u001b[38;5;241m.\u001b[39m_run(model, ckpt_path\u001b[38;5;241m=\u001b[39mckpt_path)\n\u001b[1;32m    570\u001b[0m \u001b[38;5;28;01massert\u001b[39;00m \u001b[38;5;28mself\u001b[39m\u001b[38;5;241m.\u001b[39mstate\u001b[38;5;241m.\u001b[39mstopped\n\u001b[1;32m    571\u001b[0m \u001b[38;5;28mself\u001b[39m\u001b[38;5;241m.\u001b[39mtraining \u001b[38;5;241m=\u001b[39m \u001b[38;5;28;01mFalse\u001b[39;00m\n",
      "File \u001b[0;32m~/miniconda3/lib/python3.11/site-packages/pytorch_lightning/trainer/trainer.py:973\u001b[0m, in \u001b[0;36mTrainer._run\u001b[0;34m(self, model, ckpt_path)\u001b[0m\n\u001b[1;32m    968\u001b[0m \u001b[38;5;28mself\u001b[39m\u001b[38;5;241m.\u001b[39m_signal_connector\u001b[38;5;241m.\u001b[39mregister_signal_handlers()\n\u001b[1;32m    970\u001b[0m \u001b[38;5;66;03m# ----------------------------\u001b[39;00m\n\u001b[1;32m    971\u001b[0m \u001b[38;5;66;03m# RUN THE TRAINER\u001b[39;00m\n\u001b[1;32m    972\u001b[0m \u001b[38;5;66;03m# ----------------------------\u001b[39;00m\n\u001b[0;32m--> 973\u001b[0m results \u001b[38;5;241m=\u001b[39m \u001b[38;5;28mself\u001b[39m\u001b[38;5;241m.\u001b[39m_run_stage()\n\u001b[1;32m    975\u001b[0m \u001b[38;5;66;03m# ----------------------------\u001b[39;00m\n\u001b[1;32m    976\u001b[0m \u001b[38;5;66;03m# POST-Training CLEAN UP\u001b[39;00m\n\u001b[1;32m    977\u001b[0m \u001b[38;5;66;03m# ----------------------------\u001b[39;00m\n\u001b[1;32m    978\u001b[0m log\u001b[38;5;241m.\u001b[39mdebug(\u001b[38;5;124mf\u001b[39m\u001b[38;5;124m\"\u001b[39m\u001b[38;5;132;01m{\u001b[39;00m\u001b[38;5;28mself\u001b[39m\u001b[38;5;241m.\u001b[39m\u001b[38;5;18m__class__\u001b[39m\u001b[38;5;241m.\u001b[39m\u001b[38;5;18m__name__\u001b[39m\u001b[38;5;132;01m}\u001b[39;00m\u001b[38;5;124m: trainer tearing down\u001b[39m\u001b[38;5;124m\"\u001b[39m)\n",
      "File \u001b[0;32m~/miniconda3/lib/python3.11/site-packages/pytorch_lightning/trainer/trainer.py:1016\u001b[0m, in \u001b[0;36mTrainer._run_stage\u001b[0;34m(self)\u001b[0m\n\u001b[1;32m   1014\u001b[0m         \u001b[38;5;28mself\u001b[39m\u001b[38;5;241m.\u001b[39m_run_sanity_check()\n\u001b[1;32m   1015\u001b[0m     \u001b[38;5;28;01mwith\u001b[39;00m torch\u001b[38;5;241m.\u001b[39mautograd\u001b[38;5;241m.\u001b[39mset_detect_anomaly(\u001b[38;5;28mself\u001b[39m\u001b[38;5;241m.\u001b[39m_detect_anomaly):\n\u001b[0;32m-> 1016\u001b[0m         \u001b[38;5;28mself\u001b[39m\u001b[38;5;241m.\u001b[39mfit_loop\u001b[38;5;241m.\u001b[39mrun()\n\u001b[1;32m   1017\u001b[0m     \u001b[38;5;28;01mreturn\u001b[39;00m \u001b[38;5;28;01mNone\u001b[39;00m\n\u001b[1;32m   1018\u001b[0m \u001b[38;5;28;01mraise\u001b[39;00m \u001b[38;5;167;01mRuntimeError\u001b[39;00m(\u001b[38;5;124mf\u001b[39m\u001b[38;5;124m\"\u001b[39m\u001b[38;5;124mUnexpected state \u001b[39m\u001b[38;5;132;01m{\u001b[39;00m\u001b[38;5;28mself\u001b[39m\u001b[38;5;241m.\u001b[39mstate\u001b[38;5;132;01m}\u001b[39;00m\u001b[38;5;124m\"\u001b[39m)\n",
      "File \u001b[0;32m~/miniconda3/lib/python3.11/site-packages/pytorch_lightning/loops/fit_loop.py:201\u001b[0m, in \u001b[0;36m_FitLoop.run\u001b[0;34m(self)\u001b[0m\n\u001b[1;32m    199\u001b[0m \u001b[38;5;28;01mtry\u001b[39;00m:\n\u001b[1;32m    200\u001b[0m     \u001b[38;5;28mself\u001b[39m\u001b[38;5;241m.\u001b[39mon_advance_start()\n\u001b[0;32m--> 201\u001b[0m     \u001b[38;5;28mself\u001b[39m\u001b[38;5;241m.\u001b[39madvance()\n\u001b[1;32m    202\u001b[0m     \u001b[38;5;28mself\u001b[39m\u001b[38;5;241m.\u001b[39mon_advance_end()\n\u001b[1;32m    203\u001b[0m     \u001b[38;5;28mself\u001b[39m\u001b[38;5;241m.\u001b[39m_restarting \u001b[38;5;241m=\u001b[39m \u001b[38;5;28;01mFalse\u001b[39;00m\n",
      "File \u001b[0;32m~/miniconda3/lib/python3.11/site-packages/pytorch_lightning/loops/fit_loop.py:354\u001b[0m, in \u001b[0;36m_FitLoop.advance\u001b[0;34m(self)\u001b[0m\n\u001b[1;32m    352\u001b[0m \u001b[38;5;28mself\u001b[39m\u001b[38;5;241m.\u001b[39m_data_fetcher\u001b[38;5;241m.\u001b[39msetup(combined_loader)\n\u001b[1;32m    353\u001b[0m \u001b[38;5;28;01mwith\u001b[39;00m \u001b[38;5;28mself\u001b[39m\u001b[38;5;241m.\u001b[39mtrainer\u001b[38;5;241m.\u001b[39mprofiler\u001b[38;5;241m.\u001b[39mprofile(\u001b[38;5;124m\"\u001b[39m\u001b[38;5;124mrun_training_epoch\u001b[39m\u001b[38;5;124m\"\u001b[39m):\n\u001b[0;32m--> 354\u001b[0m     \u001b[38;5;28mself\u001b[39m\u001b[38;5;241m.\u001b[39mepoch_loop\u001b[38;5;241m.\u001b[39mrun(\u001b[38;5;28mself\u001b[39m\u001b[38;5;241m.\u001b[39m_data_fetcher)\n",
      "File \u001b[0;32m~/miniconda3/lib/python3.11/site-packages/pytorch_lightning/loops/training_epoch_loop.py:133\u001b[0m, in \u001b[0;36m_TrainingEpochLoop.run\u001b[0;34m(self, data_fetcher)\u001b[0m\n\u001b[1;32m    131\u001b[0m \u001b[38;5;28;01mwhile\u001b[39;00m \u001b[38;5;129;01mnot\u001b[39;00m \u001b[38;5;28mself\u001b[39m\u001b[38;5;241m.\u001b[39mdone:\n\u001b[1;32m    132\u001b[0m     \u001b[38;5;28;01mtry\u001b[39;00m:\n\u001b[0;32m--> 133\u001b[0m         \u001b[38;5;28mself\u001b[39m\u001b[38;5;241m.\u001b[39madvance(data_fetcher)\n\u001b[1;32m    134\u001b[0m         \u001b[38;5;28mself\u001b[39m\u001b[38;5;241m.\u001b[39mon_advance_end()\n\u001b[1;32m    135\u001b[0m         \u001b[38;5;28mself\u001b[39m\u001b[38;5;241m.\u001b[39m_restarting \u001b[38;5;241m=\u001b[39m \u001b[38;5;28;01mFalse\u001b[39;00m\n",
      "File \u001b[0;32m~/miniconda3/lib/python3.11/site-packages/pytorch_lightning/loops/training_epoch_loop.py:218\u001b[0m, in \u001b[0;36m_TrainingEpochLoop.advance\u001b[0;34m(self, data_fetcher)\u001b[0m\n\u001b[1;32m    215\u001b[0m \u001b[38;5;28;01mwith\u001b[39;00m trainer\u001b[38;5;241m.\u001b[39mprofiler\u001b[38;5;241m.\u001b[39mprofile(\u001b[38;5;124m\"\u001b[39m\u001b[38;5;124mrun_training_batch\u001b[39m\u001b[38;5;124m\"\u001b[39m):\n\u001b[1;32m    216\u001b[0m     \u001b[38;5;28;01mif\u001b[39;00m trainer\u001b[38;5;241m.\u001b[39mlightning_module\u001b[38;5;241m.\u001b[39mautomatic_optimization:\n\u001b[1;32m    217\u001b[0m         \u001b[38;5;66;03m# in automatic optimization, there can only be one optimizer\u001b[39;00m\n\u001b[0;32m--> 218\u001b[0m         batch_output \u001b[38;5;241m=\u001b[39m \u001b[38;5;28mself\u001b[39m\u001b[38;5;241m.\u001b[39mautomatic_optimization\u001b[38;5;241m.\u001b[39mrun(trainer\u001b[38;5;241m.\u001b[39moptimizers[\u001b[38;5;241m0\u001b[39m], kwargs)\n\u001b[1;32m    219\u001b[0m     \u001b[38;5;28;01melse\u001b[39;00m:\n\u001b[1;32m    220\u001b[0m         batch_output \u001b[38;5;241m=\u001b[39m \u001b[38;5;28mself\u001b[39m\u001b[38;5;241m.\u001b[39mmanual_optimization\u001b[38;5;241m.\u001b[39mrun(kwargs)\n",
      "File \u001b[0;32m~/miniconda3/lib/python3.11/site-packages/pytorch_lightning/loops/optimization/automatic.py:185\u001b[0m, in \u001b[0;36m_AutomaticOptimization.run\u001b[0;34m(self, optimizer, kwargs)\u001b[0m\n\u001b[1;32m    178\u001b[0m         closure()\n\u001b[1;32m    180\u001b[0m \u001b[38;5;66;03m# ------------------------------\u001b[39;00m\n\u001b[1;32m    181\u001b[0m \u001b[38;5;66;03m# BACKWARD PASS\u001b[39;00m\n\u001b[1;32m    182\u001b[0m \u001b[38;5;66;03m# ------------------------------\u001b[39;00m\n\u001b[1;32m    183\u001b[0m \u001b[38;5;66;03m# gradient update with accumulated gradients\u001b[39;00m\n\u001b[1;32m    184\u001b[0m \u001b[38;5;28;01melse\u001b[39;00m:\n\u001b[0;32m--> 185\u001b[0m     \u001b[38;5;28mself\u001b[39m\u001b[38;5;241m.\u001b[39m_optimizer_step(kwargs\u001b[38;5;241m.\u001b[39mget(\u001b[38;5;124m\"\u001b[39m\u001b[38;5;124mbatch_idx\u001b[39m\u001b[38;5;124m\"\u001b[39m, \u001b[38;5;241m0\u001b[39m), closure)\n\u001b[1;32m    187\u001b[0m result \u001b[38;5;241m=\u001b[39m closure\u001b[38;5;241m.\u001b[39mconsume_result()\n\u001b[1;32m    188\u001b[0m \u001b[38;5;28;01mif\u001b[39;00m result\u001b[38;5;241m.\u001b[39mloss \u001b[38;5;129;01mis\u001b[39;00m \u001b[38;5;28;01mNone\u001b[39;00m:\n",
      "File \u001b[0;32m~/miniconda3/lib/python3.11/site-packages/pytorch_lightning/loops/optimization/automatic.py:260\u001b[0m, in \u001b[0;36m_AutomaticOptimization._optimizer_step\u001b[0;34m(self, batch_idx, train_step_and_backward_closure)\u001b[0m\n\u001b[1;32m    257\u001b[0m     \u001b[38;5;28mself\u001b[39m\u001b[38;5;241m.\u001b[39moptim_progress\u001b[38;5;241m.\u001b[39moptimizer\u001b[38;5;241m.\u001b[39mstep\u001b[38;5;241m.\u001b[39mincrement_ready()\n\u001b[1;32m    259\u001b[0m \u001b[38;5;66;03m# model hook\u001b[39;00m\n\u001b[0;32m--> 260\u001b[0m call\u001b[38;5;241m.\u001b[39m_call_lightning_module_hook(\n\u001b[1;32m    261\u001b[0m     trainer,\n\u001b[1;32m    262\u001b[0m     \u001b[38;5;124m\"\u001b[39m\u001b[38;5;124moptimizer_step\u001b[39m\u001b[38;5;124m\"\u001b[39m,\n\u001b[1;32m    263\u001b[0m     trainer\u001b[38;5;241m.\u001b[39mcurrent_epoch,\n\u001b[1;32m    264\u001b[0m     batch_idx,\n\u001b[1;32m    265\u001b[0m     optimizer,\n\u001b[1;32m    266\u001b[0m     train_step_and_backward_closure,\n\u001b[1;32m    267\u001b[0m )\n\u001b[1;32m    269\u001b[0m \u001b[38;5;28;01mif\u001b[39;00m \u001b[38;5;129;01mnot\u001b[39;00m should_accumulate:\n\u001b[1;32m    270\u001b[0m     \u001b[38;5;28mself\u001b[39m\u001b[38;5;241m.\u001b[39moptim_progress\u001b[38;5;241m.\u001b[39moptimizer\u001b[38;5;241m.\u001b[39mstep\u001b[38;5;241m.\u001b[39mincrement_completed()\n",
      "File \u001b[0;32m~/miniconda3/lib/python3.11/site-packages/pytorch_lightning/trainer/call.py:144\u001b[0m, in \u001b[0;36m_call_lightning_module_hook\u001b[0;34m(trainer, hook_name, pl_module, *args, **kwargs)\u001b[0m\n\u001b[1;32m    141\u001b[0m pl_module\u001b[38;5;241m.\u001b[39m_current_fx_name \u001b[38;5;241m=\u001b[39m hook_name\n\u001b[1;32m    143\u001b[0m \u001b[38;5;28;01mwith\u001b[39;00m trainer\u001b[38;5;241m.\u001b[39mprofiler\u001b[38;5;241m.\u001b[39mprofile(\u001b[38;5;124mf\u001b[39m\u001b[38;5;124m\"\u001b[39m\u001b[38;5;124m[LightningModule]\u001b[39m\u001b[38;5;132;01m{\u001b[39;00mpl_module\u001b[38;5;241m.\u001b[39m\u001b[38;5;18m__class__\u001b[39m\u001b[38;5;241m.\u001b[39m\u001b[38;5;18m__name__\u001b[39m\u001b[38;5;132;01m}\u001b[39;00m\u001b[38;5;124m.\u001b[39m\u001b[38;5;132;01m{\u001b[39;00mhook_name\u001b[38;5;132;01m}\u001b[39;00m\u001b[38;5;124m\"\u001b[39m):\n\u001b[0;32m--> 144\u001b[0m     output \u001b[38;5;241m=\u001b[39m fn(\u001b[38;5;241m*\u001b[39margs, \u001b[38;5;241m*\u001b[39m\u001b[38;5;241m*\u001b[39mkwargs)\n\u001b[1;32m    146\u001b[0m \u001b[38;5;66;03m# restore current_fx when nested context\u001b[39;00m\n\u001b[1;32m    147\u001b[0m pl_module\u001b[38;5;241m.\u001b[39m_current_fx_name \u001b[38;5;241m=\u001b[39m prev_fx_name\n",
      "File \u001b[0;32m~/miniconda3/lib/python3.11/site-packages/pytorch_lightning/core/module.py:1256\u001b[0m, in \u001b[0;36mLightningModule.optimizer_step\u001b[0;34m(self, epoch, batch_idx, optimizer, optimizer_closure)\u001b[0m\n\u001b[1;32m   1218\u001b[0m \u001b[38;5;28;01mdef\u001b[39;00m \u001b[38;5;21moptimizer_step\u001b[39m(\n\u001b[1;32m   1219\u001b[0m     \u001b[38;5;28mself\u001b[39m,\n\u001b[1;32m   1220\u001b[0m     epoch: \u001b[38;5;28mint\u001b[39m,\n\u001b[0;32m   (...)\u001b[0m\n\u001b[1;32m   1223\u001b[0m     optimizer_closure: Optional[Callable[[], Any]] \u001b[38;5;241m=\u001b[39m \u001b[38;5;28;01mNone\u001b[39;00m,\n\u001b[1;32m   1224\u001b[0m ) \u001b[38;5;241m-\u001b[39m\u001b[38;5;241m>\u001b[39m \u001b[38;5;28;01mNone\u001b[39;00m:\n\u001b[1;32m   1225\u001b[0m \u001b[38;5;250m    \u001b[39m\u001b[38;5;124mr\u001b[39m\u001b[38;5;124;03m\"\"\"Override this method to adjust the default way the :class:`~pytorch_lightning.trainer.trainer.Trainer`\u001b[39;00m\n\u001b[1;32m   1226\u001b[0m \u001b[38;5;124;03m    calls the optimizer.\u001b[39;00m\n\u001b[1;32m   1227\u001b[0m \n\u001b[0;32m   (...)\u001b[0m\n\u001b[1;32m   1254\u001b[0m \u001b[38;5;124;03m                    pg[\"lr\"] = lr_scale * self.learning_rate\u001b[39;00m\n\u001b[1;32m   1255\u001b[0m \u001b[38;5;124;03m    \"\"\"\u001b[39;00m\n\u001b[0;32m-> 1256\u001b[0m     optimizer\u001b[38;5;241m.\u001b[39mstep(closure\u001b[38;5;241m=\u001b[39moptimizer_closure)\n",
      "File \u001b[0;32m~/miniconda3/lib/python3.11/site-packages/pytorch_lightning/core/optimizer.py:155\u001b[0m, in \u001b[0;36mLightningOptimizer.step\u001b[0;34m(self, closure, **kwargs)\u001b[0m\n\u001b[1;32m    152\u001b[0m     \u001b[38;5;28;01mraise\u001b[39;00m MisconfigurationException(\u001b[38;5;124m\"\u001b[39m\u001b[38;5;124mWhen `optimizer.step(closure)` is called, the closure should be callable\u001b[39m\u001b[38;5;124m\"\u001b[39m)\n\u001b[1;32m    154\u001b[0m \u001b[38;5;28;01massert\u001b[39;00m \u001b[38;5;28mself\u001b[39m\u001b[38;5;241m.\u001b[39m_strategy \u001b[38;5;129;01mis\u001b[39;00m \u001b[38;5;129;01mnot\u001b[39;00m \u001b[38;5;28;01mNone\u001b[39;00m\n\u001b[0;32m--> 155\u001b[0m step_output \u001b[38;5;241m=\u001b[39m \u001b[38;5;28mself\u001b[39m\u001b[38;5;241m.\u001b[39m_strategy\u001b[38;5;241m.\u001b[39moptimizer_step(\u001b[38;5;28mself\u001b[39m\u001b[38;5;241m.\u001b[39m_optimizer, closure, \u001b[38;5;241m*\u001b[39m\u001b[38;5;241m*\u001b[39mkwargs)\n\u001b[1;32m    157\u001b[0m \u001b[38;5;28mself\u001b[39m\u001b[38;5;241m.\u001b[39m_on_after_step()\n\u001b[1;32m    159\u001b[0m \u001b[38;5;28;01mreturn\u001b[39;00m step_output\n",
      "File \u001b[0;32m~/miniconda3/lib/python3.11/site-packages/pytorch_lightning/strategies/strategy.py:225\u001b[0m, in \u001b[0;36mStrategy.optimizer_step\u001b[0;34m(self, optimizer, closure, model, **kwargs)\u001b[0m\n\u001b[1;32m    223\u001b[0m \u001b[38;5;66;03m# TODO(fabric): remove assertion once strategy's optimizer_step typing is fixed\u001b[39;00m\n\u001b[1;32m    224\u001b[0m \u001b[38;5;28;01massert\u001b[39;00m \u001b[38;5;28misinstance\u001b[39m(model, pl\u001b[38;5;241m.\u001b[39mLightningModule)\n\u001b[0;32m--> 225\u001b[0m \u001b[38;5;28;01mreturn\u001b[39;00m \u001b[38;5;28mself\u001b[39m\u001b[38;5;241m.\u001b[39mprecision_plugin\u001b[38;5;241m.\u001b[39moptimizer_step(optimizer, model\u001b[38;5;241m=\u001b[39mmodel, closure\u001b[38;5;241m=\u001b[39mclosure, \u001b[38;5;241m*\u001b[39m\u001b[38;5;241m*\u001b[39mkwargs)\n",
      "File \u001b[0;32m~/miniconda3/lib/python3.11/site-packages/pytorch_lightning/plugins/precision/precision_plugin.py:114\u001b[0m, in \u001b[0;36mPrecisionPlugin.optimizer_step\u001b[0;34m(self, optimizer, model, closure, **kwargs)\u001b[0m\n\u001b[1;32m    112\u001b[0m \u001b[38;5;250m\u001b[39m\u001b[38;5;124;03m\"\"\"Hook to run the optimizer step.\"\"\"\u001b[39;00m\n\u001b[1;32m    113\u001b[0m closure \u001b[38;5;241m=\u001b[39m partial(\u001b[38;5;28mself\u001b[39m\u001b[38;5;241m.\u001b[39m_wrap_closure, model, optimizer, closure)\n\u001b[0;32m--> 114\u001b[0m \u001b[38;5;28;01mreturn\u001b[39;00m optimizer\u001b[38;5;241m.\u001b[39mstep(closure\u001b[38;5;241m=\u001b[39mclosure, \u001b[38;5;241m*\u001b[39m\u001b[38;5;241m*\u001b[39mkwargs)\n",
      "File \u001b[0;32m~/miniconda3/lib/python3.11/site-packages/torch/optim/optimizer.py:280\u001b[0m, in \u001b[0;36mOptimizer.profile_hook_step.<locals>.wrapper\u001b[0;34m(*args, **kwargs)\u001b[0m\n\u001b[1;32m    276\u001b[0m         \u001b[38;5;28;01melse\u001b[39;00m:\n\u001b[1;32m    277\u001b[0m             \u001b[38;5;28;01mraise\u001b[39;00m \u001b[38;5;167;01mRuntimeError\u001b[39;00m(\u001b[38;5;124mf\u001b[39m\u001b[38;5;124m\"\u001b[39m\u001b[38;5;132;01m{\u001b[39;00mfunc\u001b[38;5;132;01m}\u001b[39;00m\u001b[38;5;124m must return None or a tuple of (new_args, new_kwargs),\u001b[39m\u001b[38;5;124m\"\u001b[39m\n\u001b[1;32m    278\u001b[0m                                \u001b[38;5;124mf\u001b[39m\u001b[38;5;124m\"\u001b[39m\u001b[38;5;124mbut got \u001b[39m\u001b[38;5;132;01m{\u001b[39;00mresult\u001b[38;5;132;01m}\u001b[39;00m\u001b[38;5;124m.\u001b[39m\u001b[38;5;124m\"\u001b[39m)\n\u001b[0;32m--> 280\u001b[0m out \u001b[38;5;241m=\u001b[39m func(\u001b[38;5;241m*\u001b[39margs, \u001b[38;5;241m*\u001b[39m\u001b[38;5;241m*\u001b[39mkwargs)\n\u001b[1;32m    281\u001b[0m \u001b[38;5;28mself\u001b[39m\u001b[38;5;241m.\u001b[39m_optimizer_step_code()\n\u001b[1;32m    283\u001b[0m \u001b[38;5;66;03m# call optimizer step post hooks\u001b[39;00m\n",
      "File \u001b[0;32m~/miniconda3/lib/python3.11/site-packages/torch/optim/optimizer.py:33\u001b[0m, in \u001b[0;36m_use_grad_for_differentiable.<locals>._use_grad\u001b[0;34m(self, *args, **kwargs)\u001b[0m\n\u001b[1;32m     31\u001b[0m \u001b[38;5;28;01mtry\u001b[39;00m:\n\u001b[1;32m     32\u001b[0m     torch\u001b[38;5;241m.\u001b[39mset_grad_enabled(\u001b[38;5;28mself\u001b[39m\u001b[38;5;241m.\u001b[39mdefaults[\u001b[38;5;124m'\u001b[39m\u001b[38;5;124mdifferentiable\u001b[39m\u001b[38;5;124m'\u001b[39m])\n\u001b[0;32m---> 33\u001b[0m     ret \u001b[38;5;241m=\u001b[39m func(\u001b[38;5;28mself\u001b[39m, \u001b[38;5;241m*\u001b[39margs, \u001b[38;5;241m*\u001b[39m\u001b[38;5;241m*\u001b[39mkwargs)\n\u001b[1;32m     34\u001b[0m \u001b[38;5;28;01mfinally\u001b[39;00m:\n\u001b[1;32m     35\u001b[0m     torch\u001b[38;5;241m.\u001b[39mset_grad_enabled(prev_grad)\n",
      "File \u001b[0;32m~/miniconda3/lib/python3.11/site-packages/torch/optim/adamw.py:148\u001b[0m, in \u001b[0;36mAdamW.step\u001b[0;34m(self, closure)\u001b[0m\n\u001b[1;32m    146\u001b[0m \u001b[38;5;28;01mif\u001b[39;00m closure \u001b[38;5;129;01mis\u001b[39;00m \u001b[38;5;129;01mnot\u001b[39;00m \u001b[38;5;28;01mNone\u001b[39;00m:\n\u001b[1;32m    147\u001b[0m     \u001b[38;5;28;01mwith\u001b[39;00m torch\u001b[38;5;241m.\u001b[39menable_grad():\n\u001b[0;32m--> 148\u001b[0m         loss \u001b[38;5;241m=\u001b[39m closure()\n\u001b[1;32m    150\u001b[0m \u001b[38;5;28;01mfor\u001b[39;00m group \u001b[38;5;129;01min\u001b[39;00m \u001b[38;5;28mself\u001b[39m\u001b[38;5;241m.\u001b[39mparam_groups:\n\u001b[1;32m    151\u001b[0m     params_with_grad \u001b[38;5;241m=\u001b[39m []\n",
      "File \u001b[0;32m~/miniconda3/lib/python3.11/site-packages/pytorch_lightning/plugins/precision/precision_plugin.py:101\u001b[0m, in \u001b[0;36mPrecisionPlugin._wrap_closure\u001b[0;34m(self, model, optimizer, closure)\u001b[0m\n\u001b[1;32m     89\u001b[0m \u001b[38;5;28;01mdef\u001b[39;00m \u001b[38;5;21m_wrap_closure\u001b[39m(\n\u001b[1;32m     90\u001b[0m     \u001b[38;5;28mself\u001b[39m,\n\u001b[1;32m     91\u001b[0m     model: \u001b[38;5;124m\"\u001b[39m\u001b[38;5;124mpl.LightningModule\u001b[39m\u001b[38;5;124m\"\u001b[39m,\n\u001b[1;32m     92\u001b[0m     optimizer: Optimizer,\n\u001b[1;32m     93\u001b[0m     closure: Callable[[], Any],\n\u001b[1;32m     94\u001b[0m ) \u001b[38;5;241m-\u001b[39m\u001b[38;5;241m>\u001b[39m Any:\n\u001b[1;32m     95\u001b[0m \u001b[38;5;250m    \u001b[39m\u001b[38;5;124;03m\"\"\"This double-closure allows makes sure the ``closure`` is executed before the\u001b[39;00m\n\u001b[1;32m     96\u001b[0m \u001b[38;5;124;03m    ``on_before_optimizer_step`` hook is called.\u001b[39;00m\n\u001b[1;32m     97\u001b[0m \n\u001b[1;32m     98\u001b[0m \u001b[38;5;124;03m    The closure (generally) runs ``backward`` so this allows inspecting gradients in this hook. This structure is\u001b[39;00m\n\u001b[1;32m     99\u001b[0m \u001b[38;5;124;03m    consistent with the ``PrecisionPlugin`` subclasses that cannot pass ``optimizer.step(closure)`` directly.\u001b[39;00m\n\u001b[1;32m    100\u001b[0m \u001b[38;5;124;03m    \"\"\"\u001b[39;00m\n\u001b[0;32m--> 101\u001b[0m     closure_result \u001b[38;5;241m=\u001b[39m closure()\n\u001b[1;32m    102\u001b[0m     \u001b[38;5;28mself\u001b[39m\u001b[38;5;241m.\u001b[39m_after_closure(model, optimizer)\n\u001b[1;32m    103\u001b[0m     \u001b[38;5;28;01mreturn\u001b[39;00m closure_result\n",
      "File \u001b[0;32m~/miniconda3/lib/python3.11/site-packages/pytorch_lightning/loops/optimization/automatic.py:140\u001b[0m, in \u001b[0;36mClosure.__call__\u001b[0;34m(self, *args, **kwargs)\u001b[0m\n\u001b[1;32m    139\u001b[0m \u001b[38;5;28;01mdef\u001b[39;00m \u001b[38;5;21m__call__\u001b[39m(\u001b[38;5;28mself\u001b[39m, \u001b[38;5;241m*\u001b[39margs: Any, \u001b[38;5;241m*\u001b[39m\u001b[38;5;241m*\u001b[39mkwargs: Any) \u001b[38;5;241m-\u001b[39m\u001b[38;5;241m>\u001b[39m Optional[Tensor]:\n\u001b[0;32m--> 140\u001b[0m     \u001b[38;5;28mself\u001b[39m\u001b[38;5;241m.\u001b[39m_result \u001b[38;5;241m=\u001b[39m \u001b[38;5;28mself\u001b[39m\u001b[38;5;241m.\u001b[39mclosure(\u001b[38;5;241m*\u001b[39margs, \u001b[38;5;241m*\u001b[39m\u001b[38;5;241m*\u001b[39mkwargs)\n\u001b[1;32m    141\u001b[0m     \u001b[38;5;28;01mreturn\u001b[39;00m \u001b[38;5;28mself\u001b[39m\u001b[38;5;241m.\u001b[39m_result\u001b[38;5;241m.\u001b[39mloss\n",
      "File \u001b[0;32m~/miniconda3/lib/python3.11/site-packages/pytorch_lightning/loops/optimization/automatic.py:126\u001b[0m, in \u001b[0;36mClosure.closure\u001b[0;34m(self, *args, **kwargs)\u001b[0m\n\u001b[1;32m    125\u001b[0m \u001b[38;5;28;01mdef\u001b[39;00m \u001b[38;5;21mclosure\u001b[39m(\u001b[38;5;28mself\u001b[39m, \u001b[38;5;241m*\u001b[39margs: Any, \u001b[38;5;241m*\u001b[39m\u001b[38;5;241m*\u001b[39mkwargs: Any) \u001b[38;5;241m-\u001b[39m\u001b[38;5;241m>\u001b[39m ClosureResult:\n\u001b[0;32m--> 126\u001b[0m     step_output \u001b[38;5;241m=\u001b[39m \u001b[38;5;28mself\u001b[39m\u001b[38;5;241m.\u001b[39m_step_fn()\n\u001b[1;32m    128\u001b[0m     \u001b[38;5;28;01mif\u001b[39;00m step_output\u001b[38;5;241m.\u001b[39mclosure_loss \u001b[38;5;129;01mis\u001b[39;00m \u001b[38;5;28;01mNone\u001b[39;00m:\n\u001b[1;32m    129\u001b[0m         \u001b[38;5;28mself\u001b[39m\u001b[38;5;241m.\u001b[39mwarning_cache\u001b[38;5;241m.\u001b[39mwarn(\u001b[38;5;124m\"\u001b[39m\u001b[38;5;124m`training_step` returned `None`. If this was on purpose, ignore this warning...\u001b[39m\u001b[38;5;124m\"\u001b[39m)\n",
      "File \u001b[0;32m~/miniconda3/lib/python3.11/site-packages/pytorch_lightning/loops/optimization/automatic.py:307\u001b[0m, in \u001b[0;36m_AutomaticOptimization._training_step\u001b[0;34m(self, kwargs)\u001b[0m\n\u001b[1;32m    304\u001b[0m trainer \u001b[38;5;241m=\u001b[39m \u001b[38;5;28mself\u001b[39m\u001b[38;5;241m.\u001b[39mtrainer\n\u001b[1;32m    306\u001b[0m \u001b[38;5;66;03m# manually capture logged metrics\u001b[39;00m\n\u001b[0;32m--> 307\u001b[0m training_step_output \u001b[38;5;241m=\u001b[39m call\u001b[38;5;241m.\u001b[39m_call_strategy_hook(trainer, \u001b[38;5;124m\"\u001b[39m\u001b[38;5;124mtraining_step\u001b[39m\u001b[38;5;124m\"\u001b[39m, \u001b[38;5;241m*\u001b[39mkwargs\u001b[38;5;241m.\u001b[39mvalues())\n\u001b[1;32m    308\u001b[0m \u001b[38;5;28mself\u001b[39m\u001b[38;5;241m.\u001b[39mtrainer\u001b[38;5;241m.\u001b[39mstrategy\u001b[38;5;241m.\u001b[39mpost_training_step()\n\u001b[1;32m    310\u001b[0m \u001b[38;5;28;01mreturn\u001b[39;00m \u001b[38;5;28mself\u001b[39m\u001b[38;5;241m.\u001b[39moutput_result_cls\u001b[38;5;241m.\u001b[39mfrom_training_step_output(training_step_output, trainer\u001b[38;5;241m.\u001b[39maccumulate_grad_batches)\n",
      "File \u001b[0;32m~/miniconda3/lib/python3.11/site-packages/pytorch_lightning/trainer/call.py:291\u001b[0m, in \u001b[0;36m_call_strategy_hook\u001b[0;34m(trainer, hook_name, *args, **kwargs)\u001b[0m\n\u001b[1;32m    288\u001b[0m     \u001b[38;5;28;01mreturn\u001b[39;00m \u001b[38;5;28;01mNone\u001b[39;00m\n\u001b[1;32m    290\u001b[0m \u001b[38;5;28;01mwith\u001b[39;00m trainer\u001b[38;5;241m.\u001b[39mprofiler\u001b[38;5;241m.\u001b[39mprofile(\u001b[38;5;124mf\u001b[39m\u001b[38;5;124m\"\u001b[39m\u001b[38;5;124m[Strategy]\u001b[39m\u001b[38;5;132;01m{\u001b[39;00mtrainer\u001b[38;5;241m.\u001b[39mstrategy\u001b[38;5;241m.\u001b[39m\u001b[38;5;18m__class__\u001b[39m\u001b[38;5;241m.\u001b[39m\u001b[38;5;18m__name__\u001b[39m\u001b[38;5;132;01m}\u001b[39;00m\u001b[38;5;124m.\u001b[39m\u001b[38;5;132;01m{\u001b[39;00mhook_name\u001b[38;5;132;01m}\u001b[39;00m\u001b[38;5;124m\"\u001b[39m):\n\u001b[0;32m--> 291\u001b[0m     output \u001b[38;5;241m=\u001b[39m fn(\u001b[38;5;241m*\u001b[39margs, \u001b[38;5;241m*\u001b[39m\u001b[38;5;241m*\u001b[39mkwargs)\n\u001b[1;32m    293\u001b[0m \u001b[38;5;66;03m# restore current_fx when nested context\u001b[39;00m\n\u001b[1;32m    294\u001b[0m pl_module\u001b[38;5;241m.\u001b[39m_current_fx_name \u001b[38;5;241m=\u001b[39m prev_fx_name\n",
      "File \u001b[0;32m~/miniconda3/lib/python3.11/site-packages/pytorch_lightning/strategies/strategy.py:367\u001b[0m, in \u001b[0;36mStrategy.training_step\u001b[0;34m(self, *args, **kwargs)\u001b[0m\n\u001b[1;32m    365\u001b[0m \u001b[38;5;28;01mwith\u001b[39;00m \u001b[38;5;28mself\u001b[39m\u001b[38;5;241m.\u001b[39mprecision_plugin\u001b[38;5;241m.\u001b[39mtrain_step_context():\n\u001b[1;32m    366\u001b[0m     \u001b[38;5;28;01massert\u001b[39;00m \u001b[38;5;28misinstance\u001b[39m(\u001b[38;5;28mself\u001b[39m\u001b[38;5;241m.\u001b[39mmodel, TrainingStep)\n\u001b[0;32m--> 367\u001b[0m     \u001b[38;5;28;01mreturn\u001b[39;00m \u001b[38;5;28mself\u001b[39m\u001b[38;5;241m.\u001b[39mmodel\u001b[38;5;241m.\u001b[39mtraining_step(\u001b[38;5;241m*\u001b[39margs, \u001b[38;5;241m*\u001b[39m\u001b[38;5;241m*\u001b[39mkwargs)\n",
      "File \u001b[0;32m~/xin_test/Curator/curator/model/base.py:302\u001b[0m, in \u001b[0;36mLitNNP.training_step\u001b[0;34m(self, batch, batch_idx)\u001b[0m\n\u001b[1;32m    300\u001b[0m \u001b[38;5;28;01mdef\u001b[39;00m \u001b[38;5;21mtraining_step\u001b[39m(\u001b[38;5;28mself\u001b[39m, batch: Dict, batch_idx: List[\u001b[38;5;28mint\u001b[39m]) \u001b[38;5;241m-\u001b[39m\u001b[38;5;241m>\u001b[39m torch\u001b[38;5;241m.\u001b[39mTensor:\n\u001b[1;32m    301\u001b[0m     targets \u001b[38;5;241m=\u001b[39m batch\u001b[38;5;241m.\u001b[39mcopy()\n\u001b[0;32m--> 302\u001b[0m     pred \u001b[38;5;241m=\u001b[39m \u001b[38;5;28mself\u001b[39m\u001b[38;5;241m.\u001b[39mmodel(batch)\n\u001b[1;32m    304\u001b[0m     \u001b[38;5;66;03m# calculate loss, metrics\u001b[39;00m\n\u001b[1;32m    305\u001b[0m     \u001b[38;5;66;03m# unscale targets because loss will be calculated with normalized units\u001b[39;00m\n\u001b[1;32m    306\u001b[0m     unscaled_targets \u001b[38;5;241m=\u001b[39m targets\u001b[38;5;241m.\u001b[39mcopy()\n",
      "File \u001b[0;32m~/miniconda3/lib/python3.11/site-packages/torch/nn/modules/module.py:1501\u001b[0m, in \u001b[0;36mModule._call_impl\u001b[0;34m(self, *args, **kwargs)\u001b[0m\n\u001b[1;32m   1496\u001b[0m \u001b[38;5;66;03m# If we don't have any hooks, we want to skip the rest of the logic in\u001b[39;00m\n\u001b[1;32m   1497\u001b[0m \u001b[38;5;66;03m# this function, and just call forward.\u001b[39;00m\n\u001b[1;32m   1498\u001b[0m \u001b[38;5;28;01mif\u001b[39;00m \u001b[38;5;129;01mnot\u001b[39;00m (\u001b[38;5;28mself\u001b[39m\u001b[38;5;241m.\u001b[39m_backward_hooks \u001b[38;5;129;01mor\u001b[39;00m \u001b[38;5;28mself\u001b[39m\u001b[38;5;241m.\u001b[39m_backward_pre_hooks \u001b[38;5;129;01mor\u001b[39;00m \u001b[38;5;28mself\u001b[39m\u001b[38;5;241m.\u001b[39m_forward_hooks \u001b[38;5;129;01mor\u001b[39;00m \u001b[38;5;28mself\u001b[39m\u001b[38;5;241m.\u001b[39m_forward_pre_hooks\n\u001b[1;32m   1499\u001b[0m         \u001b[38;5;129;01mor\u001b[39;00m _global_backward_pre_hooks \u001b[38;5;129;01mor\u001b[39;00m _global_backward_hooks\n\u001b[1;32m   1500\u001b[0m         \u001b[38;5;129;01mor\u001b[39;00m _global_forward_hooks \u001b[38;5;129;01mor\u001b[39;00m _global_forward_pre_hooks):\n\u001b[0;32m-> 1501\u001b[0m     \u001b[38;5;28;01mreturn\u001b[39;00m forward_call(\u001b[38;5;241m*\u001b[39margs, \u001b[38;5;241m*\u001b[39m\u001b[38;5;241m*\u001b[39mkwargs)\n\u001b[1;32m   1502\u001b[0m \u001b[38;5;66;03m# Do not call functions when jit is used\u001b[39;00m\n\u001b[1;32m   1503\u001b[0m full_backward_hooks, non_full_backward_hooks \u001b[38;5;241m=\u001b[39m [], []\n",
      "File \u001b[0;32m~/xin_test/Curator/curator/model/base.py:48\u001b[0m, in \u001b[0;36mNeuralNetworkPotential.forward\u001b[0;34m(self, data)\u001b[0m\n\u001b[1;32m     45\u001b[0m data \u001b[38;5;241m=\u001b[39m \u001b[38;5;28mself\u001b[39m\u001b[38;5;241m.\u001b[39mrepresentation(data)\n\u001b[1;32m     47\u001b[0m \u001b[38;5;28;01mfor\u001b[39;00m m \u001b[38;5;129;01min\u001b[39;00m \u001b[38;5;28mself\u001b[39m\u001b[38;5;241m.\u001b[39moutput_modules:\n\u001b[0;32m---> 48\u001b[0m     data \u001b[38;5;241m=\u001b[39m m(data)\n\u001b[1;32m     50\u001b[0m results \u001b[38;5;241m=\u001b[39m \u001b[38;5;28mself\u001b[39m\u001b[38;5;241m.\u001b[39mextract_outputs(data)\n\u001b[1;32m     51\u001b[0m \u001b[38;5;28;01mreturn\u001b[39;00m results\n",
      "File \u001b[0;32m~/miniconda3/lib/python3.11/site-packages/torch/nn/modules/module.py:1501\u001b[0m, in \u001b[0;36mModule._call_impl\u001b[0;34m(self, *args, **kwargs)\u001b[0m\n\u001b[1;32m   1496\u001b[0m \u001b[38;5;66;03m# If we don't have any hooks, we want to skip the rest of the logic in\u001b[39;00m\n\u001b[1;32m   1497\u001b[0m \u001b[38;5;66;03m# this function, and just call forward.\u001b[39;00m\n\u001b[1;32m   1498\u001b[0m \u001b[38;5;28;01mif\u001b[39;00m \u001b[38;5;129;01mnot\u001b[39;00m (\u001b[38;5;28mself\u001b[39m\u001b[38;5;241m.\u001b[39m_backward_hooks \u001b[38;5;129;01mor\u001b[39;00m \u001b[38;5;28mself\u001b[39m\u001b[38;5;241m.\u001b[39m_backward_pre_hooks \u001b[38;5;129;01mor\u001b[39;00m \u001b[38;5;28mself\u001b[39m\u001b[38;5;241m.\u001b[39m_forward_hooks \u001b[38;5;129;01mor\u001b[39;00m \u001b[38;5;28mself\u001b[39m\u001b[38;5;241m.\u001b[39m_forward_pre_hooks\n\u001b[1;32m   1499\u001b[0m         \u001b[38;5;129;01mor\u001b[39;00m _global_backward_pre_hooks \u001b[38;5;129;01mor\u001b[39;00m _global_backward_hooks\n\u001b[1;32m   1500\u001b[0m         \u001b[38;5;129;01mor\u001b[39;00m _global_forward_hooks \u001b[38;5;129;01mor\u001b[39;00m _global_forward_pre_hooks):\n\u001b[0;32m-> 1501\u001b[0m     \u001b[38;5;28;01mreturn\u001b[39;00m forward_call(\u001b[38;5;241m*\u001b[39margs, \u001b[38;5;241m*\u001b[39m\u001b[38;5;241m*\u001b[39mkwargs)\n\u001b[1;32m   1502\u001b[0m \u001b[38;5;66;03m# Do not call functions when jit is used\u001b[39;00m\n\u001b[1;32m   1503\u001b[0m full_backward_hooks, non_full_backward_hooks \u001b[38;5;241m=\u001b[39m [], []\n",
      "File \u001b[0;32m~/xin_test/Curator/curator/layer/_grad_output.py:78\u001b[0m, in \u001b[0;36mGradientOutput.forward\u001b[0;34m(self, data, training)\u001b[0m\n\u001b[1;32m     76\u001b[0m \u001b[38;5;28;01mif\u001b[39;00m \u001b[38;5;28mself\u001b[39m\u001b[38;5;241m.\u001b[39mcompute_stress:\n\u001b[1;32m     77\u001b[0m     grad_inputs\u001b[38;5;241m.\u001b[39mappend(data[properties\u001b[38;5;241m.\u001b[39mstrain])\n\u001b[0;32m---> 78\u001b[0m grads \u001b[38;5;241m=\u001b[39m torch\u001b[38;5;241m.\u001b[39mautograd\u001b[38;5;241m.\u001b[39mgrad(\n\u001b[1;32m     79\u001b[0m     [energy,],\n\u001b[1;32m     80\u001b[0m     grad_inputs,\n\u001b[1;32m     81\u001b[0m     grad_outputs\u001b[38;5;241m=\u001b[39mgrad_outputs,\n\u001b[1;32m     82\u001b[0m     retain_graph\u001b[38;5;241m=\u001b[39mtraining,\n\u001b[1;32m     83\u001b[0m     create_graph\u001b[38;5;241m=\u001b[39mtraining,\n\u001b[1;32m     84\u001b[0m )\n\u001b[1;32m     85\u001b[0m dEdR \u001b[38;5;241m=\u001b[39m grads[\u001b[38;5;241m0\u001b[39m]\n\u001b[1;32m     86\u001b[0m \u001b[38;5;28;01mif\u001b[39;00m dEdR \u001b[38;5;129;01mis\u001b[39;00m \u001b[38;5;28;01mNone\u001b[39;00m:\n",
      "File \u001b[0;32m~/miniconda3/lib/python3.11/site-packages/torch/autograd/__init__.py:303\u001b[0m, in \u001b[0;36mgrad\u001b[0;34m(outputs, inputs, grad_outputs, retain_graph, create_graph, only_inputs, allow_unused, is_grads_batched)\u001b[0m\n\u001b[1;32m    301\u001b[0m     \u001b[38;5;28;01mreturn\u001b[39;00m _vmap_internals\u001b[38;5;241m.\u001b[39m_vmap(vjp, \u001b[38;5;241m0\u001b[39m, \u001b[38;5;241m0\u001b[39m, allow_none_pass_through\u001b[38;5;241m=\u001b[39m\u001b[38;5;28;01mTrue\u001b[39;00m)(grad_outputs_)\n\u001b[1;32m    302\u001b[0m \u001b[38;5;28;01melse\u001b[39;00m:\n\u001b[0;32m--> 303\u001b[0m     \u001b[38;5;28;01mreturn\u001b[39;00m Variable\u001b[38;5;241m.\u001b[39m_execution_engine\u001b[38;5;241m.\u001b[39mrun_backward(  \u001b[38;5;66;03m# Calls into the C++ engine to run the backward pass\u001b[39;00m\n\u001b[1;32m    304\u001b[0m         t_outputs, grad_outputs_, retain_graph, create_graph, t_inputs,\n\u001b[1;32m    305\u001b[0m         allow_unused, accumulate_grad\u001b[38;5;241m=\u001b[39m\u001b[38;5;28;01mFalse\u001b[39;00m)\n",
      "File \u001b[0;32m~/miniconda3/lib/python3.11/site-packages/torch/utils/data/_utils/signal_handling.py:66\u001b[0m, in \u001b[0;36m_set_SIGCHLD_handler.<locals>.handler\u001b[0;34m(signum, frame)\u001b[0m\n\u001b[1;32m     63\u001b[0m \u001b[38;5;28;01mdef\u001b[39;00m \u001b[38;5;21mhandler\u001b[39m(signum, frame):\n\u001b[1;32m     64\u001b[0m     \u001b[38;5;66;03m# This following call uses `waitid` with WNOHANG from C side. Therefore,\u001b[39;00m\n\u001b[1;32m     65\u001b[0m     \u001b[38;5;66;03m# Python can still get and update the process status successfully.\u001b[39;00m\n\u001b[0;32m---> 66\u001b[0m     _error_if_any_worker_fails()\n\u001b[1;32m     67\u001b[0m     \u001b[38;5;28;01mif\u001b[39;00m previous_handler \u001b[38;5;129;01mis\u001b[39;00m \u001b[38;5;129;01mnot\u001b[39;00m \u001b[38;5;28;01mNone\u001b[39;00m:\n\u001b[1;32m     68\u001b[0m         \u001b[38;5;28;01massert\u001b[39;00m \u001b[38;5;28mcallable\u001b[39m(previous_handler)\n",
      "\u001b[0;31mRuntimeError\u001b[0m: DataLoader worker (pid 15403) is killed by signal: Aborted. "
     ]
    }
   ],
   "source": [
    "cr_trainer.fit(task, data)"
   ]
  },
  {
   "cell_type": "code",
   "execution_count": 15,
   "metadata": {},
   "outputs": [
    {
     "data": {
      "text/plain": [
       "tensor([21, 21, 21, 21, 21])"
      ]
     },
     "execution_count": 15,
     "metadata": {},
     "output_type": "execute_result"
    }
   ],
   "source": [
    "next(iter(data.train_dataloader()))['_n_atoms']"
   ]
  },
  {
   "cell_type": "code",
   "execution_count": null,
   "metadata": {},
   "outputs": [],
   "source": []
  },
  {
   "cell_type": "code",
   "execution_count": 4,
   "metadata": {},
   "outputs": [
    {
     "name": "stderr",
     "output_type": "stream",
     "text": [
      "/home/xinyang/miniconda3/lib/python3.11/site-packages/pytorch_lightning/callbacks/model_checkpoint.py:615: UserWarning: Checkpoint directory /home/xinyang/xin_test/Curator/gnn-active_learning/model_path exists and is not empty.\n",
      "  rank_zero_warn(f\"Checkpoint directory {dirpath} exists and is not empty.\")\n",
      "LOCAL_RANK: 0 - CUDA_VISIBLE_DEVICES: [0]\n",
      "\n",
      "  | Name    | Type                   | Params\n",
      "---------------------------------------------------\n",
      "0 | model   | NeuralNetworkPotential | 1.1 M \n",
      "1 | outputs | ModuleList             | 0     \n",
      "---------------------------------------------------\n",
      "1.1 M     Trainable params\n",
      "0         Non-trainable params\n",
      "1.1 M     Total params\n",
      "4.224     Total estimated model params size (MB)\n",
      "/home/xinyang/miniconda3/lib/python3.11/site-packages/pytorch_lightning/trainer/connectors/data_connector.py:432: PossibleUserWarning: The dataloader, train_dataloader, does not have many workers which may be a bottleneck. Consider increasing the value of the `num_workers` argument` (try 12 which is the number of cpus on this machine) in the `DataLoader` init to improve performance.\n",
      "  rank_zero_warn(\n",
      "/home/xinyang/miniconda3/lib/python3.11/site-packages/pytorch_lightning/trainer/connectors/data_connector.py:432: PossibleUserWarning: The dataloader, val_dataloader, does not have many workers which may be a bottleneck. Consider increasing the value of the `num_workers` argument` (try 12 which is the number of cpus on this machine) in the `DataLoader` init to improve performance.\n",
      "  rank_zero_warn(\n"
     ]
    },
    {
     "name": "stdout",
     "output_type": "stream",
     "text": [
      "Training: 0it [00:00, ?it/s]"
     ]
    },
    {
     "name": "stderr",
     "output_type": "stream",
     "text": [
      "\n",
      "\n",
      "Start training model\n"
     ]
    },
    {
     "name": "stdout",
     "output_type": "stream",
     "text": [
      "Epoch 0:   0%|          | 0/200 [00:00<?, ?it/s] "
     ]
    },
    {
     "name": "stderr",
     "output_type": "stream",
     "text": [
      "\n",
      "\n",
      "Training\n",
      "# epoch      batch      total_loss     energy_loss     forces_loss      energy_mae     energy_rmse      forces_mae     forces_rmse\n",
      "      0          0       68717.312        7225.017       61492.297          37.944          38.013          19.216          25.442\n"
     ]
    },
    {
     "name": "stdout",
     "output_type": "stream",
     "text": [
      "Epoch 0:   5%|▌         | 10/200 [00:21<06:56,  2.19s/it, v_num=32, train_total_loss_step=2.02e+5, train_energy_loss_step=1.34e+5, train_forces_loss_step=6.79e+4]"
     ]
    },
    {
     "name": "stderr",
     "output_type": "stream",
     "text": [
      "      0         10      218777.812      155798.594       62979.215         176.381         176.521          19.272          25.748\n"
     ]
    },
    {
     "name": "stdout",
     "output_type": "stream",
     "text": [
      "Epoch 0:  10%|█         | 20/200 [00:24<03:37,  1.21s/it, v_num=32, train_total_loss_step=1.03e+5, train_energy_loss_step=2.77e+4, train_forces_loss_step=7.53e+4]"
     ]
    },
    {
     "name": "stderr",
     "output_type": "stream",
     "text": [
      "      0         20       68945.234        7558.393       61386.840          38.688          38.880          19.006          25.420\n"
     ]
    },
    {
     "name": "stdout",
     "output_type": "stream",
     "text": [
      "Epoch 0:  15%|█▌        | 30/200 [00:26<02:29,  1.13it/s, v_num=32, train_total_loss_step=5.54e+4, train_energy_loss_step=2.3e+3, train_forces_loss_step=5.31e+4] "
     ]
    },
    {
     "name": "stderr",
     "output_type": "stream",
     "text": [
      "      0         30       66602.773        7990.948       58611.828          39.919          39.977          18.863          24.839\n"
     ]
    },
    {
     "name": "stdout",
     "output_type": "stream",
     "text": [
      "Epoch 0:  20%|██        | 40/200 [00:28<01:54,  1.40it/s, v_num=32, train_total_loss_step=6.52e+4, train_energy_loss_step=8.24e+3, train_forces_loss_step=5.69e+4]"
     ]
    },
    {
     "name": "stderr",
     "output_type": "stream",
     "text": [
      "      0         40       53743.914        7444.497       46299.418          38.138          38.586          16.513          22.076\n"
     ]
    },
    {
     "name": "stdout",
     "output_type": "stream",
     "text": [
      "Epoch 0:  25%|██▌       | 50/200 [00:30<01:32,  1.63it/s, v_num=32, train_total_loss_step=4.64e+4, train_energy_loss_step=159.0, train_forces_loss_step=4.62e+4]  "
     ]
    },
    {
     "name": "stderr",
     "output_type": "stream",
     "text": [
      "      0         50       53122.289         756.760       52365.527          11.600          12.303          16.640          23.478\n"
     ]
    },
    {
     "name": "stdout",
     "output_type": "stream",
     "text": [
      "Epoch 0:  30%|███       | 60/200 [00:32<01:16,  1.83it/s, v_num=32, train_total_loss_step=4.11e+4, train_energy_loss_step=1.21e+3, train_forces_loss_step=3.99e+4]"
     ]
    },
    {
     "name": "stderr",
     "output_type": "stream",
     "text": [
      "      0         60       45478.457         229.982       45248.473           6.162           6.782          15.412          21.824\n"
     ]
    },
    {
     "name": "stdout",
     "output_type": "stream",
     "text": [
      "Epoch 0:  35%|███▌      | 70/200 [00:34<01:04,  2.00it/s, v_num=32, train_total_loss_step=3.47e+4, train_energy_loss_step=849.0, train_forces_loss_step=3.38e+4]  "
     ]
    },
    {
     "name": "stderr",
     "output_type": "stream",
     "text": [
      "      0         70       31910.629         511.281       31399.348           9.875          10.112          12.304          18.180\n"
     ]
    },
    {
     "name": "stdout",
     "output_type": "stream",
     "text": [
      "Epoch 0:  40%|████      | 80/200 [00:37<00:55,  2.16it/s, v_num=32, train_total_loss_step=2.48e+4, train_energy_loss_step=93.80, train_forces_loss_step=2.47e+4]  "
     ]
    },
    {
     "name": "stderr",
     "output_type": "stream",
     "text": [
      "      0         80       22700.045         264.438       22435.607           6.325           7.272          11.123          15.368\n"
     ]
    },
    {
     "name": "stdout",
     "output_type": "stream",
     "text": [
      "Epoch 0:  45%|████▌     | 90/200 [00:39<00:48,  2.29it/s, v_num=32, train_total_loss_step=2.65e+4, train_energy_loss_step=976.0, train_forces_loss_step=2.55e+4]  "
     ]
    },
    {
     "name": "stderr",
     "output_type": "stream",
     "text": [
      "      0         90       29014.996          80.757       28934.240           3.644           4.019          12.376          17.452\n"
     ]
    },
    {
     "name": "stdout",
     "output_type": "stream",
     "text": [
      "Epoch 0:  50%|█████     | 100/200 [00:41<00:41,  2.40it/s, v_num=32, train_total_loss_step=2.36e+4, train_energy_loss_step=286.0, train_forces_loss_step=2.33e+4] "
     ]
    },
    {
     "name": "stderr",
     "output_type": "stream",
     "text": [
      "      0        100       30506.738         311.071       30195.666           7.494           7.888          12.147          17.828\n"
     ]
    },
    {
     "name": "stdout",
     "output_type": "stream",
     "text": [
      "Epoch 0:  55%|█████▌    | 110/200 [00:43<00:35,  2.51it/s, v_num=32, train_total_loss_step=1.42e+4, train_energy_loss_step=247.0, train_forces_loss_step=1.39e+4]"
     ]
    },
    {
     "name": "stderr",
     "output_type": "stream",
     "text": [
      "      0        110       17455.535          30.562       17424.973           2.219           2.472           9.738          13.543\n"
     ]
    },
    {
     "name": "stdout",
     "output_type": "stream",
     "text": [
      "Epoch 0:  60%|██████    | 120/200 [00:45<00:30,  2.61it/s, v_num=32, train_total_loss_step=9.39e+3, train_energy_loss_step=96.00, train_forces_loss_step=9.29e+3]"
     ]
    },
    {
     "name": "stderr",
     "output_type": "stream",
     "text": [
      "      0        120       13017.529         251.561       12765.969           5.825           7.093           8.716          11.592\n"
     ]
    },
    {
     "name": "stdout",
     "output_type": "stream",
     "text": [
      "Epoch 0:  65%|██████▌   | 130/200 [00:48<00:25,  2.69it/s, v_num=32, train_total_loss_step=1.04e+4, train_energy_loss_step=132.0, train_forces_loss_step=1.03e+4]"
     ]
    },
    {
     "name": "stderr",
     "output_type": "stream",
     "text": [
      "      0        130       11476.680         199.459       11277.221           4.363           6.316           8.058          10.895\n"
     ]
    },
    {
     "name": "stdout",
     "output_type": "stream",
     "text": [
      "Epoch 0:  70%|███████   | 140/200 [00:50<00:21,  2.77it/s, v_num=32, train_total_loss_step=1.15e+4, train_energy_loss_step=711.0, train_forces_loss_step=1.07e+4]"
     ]
    },
    {
     "name": "stderr",
     "output_type": "stream",
     "text": [
      "      0        140       11720.362         363.074       11357.288           7.387           8.521           8.409          10.934\n"
     ]
    },
    {
     "name": "stdout",
     "output_type": "stream",
     "text": [
      "Epoch 0:  75%|███████▌  | 150/200 [00:52<00:17,  2.85it/s, v_num=32, train_total_loss_step=1e+4, train_energy_loss_step=734.0, train_forces_loss_step=9.3e+3]    "
     ]
    },
    {
     "name": "stderr",
     "output_type": "stream",
     "text": [
      "      0        150        7175.489          68.760        7106.729           2.987           3.708           6.796           8.649\n"
     ]
    },
    {
     "name": "stdout",
     "output_type": "stream",
     "text": [
      "Epoch 0:  80%|████████  | 160/200 [00:54<00:13,  2.92it/s, v_num=32, train_total_loss_step=7.99e+3, train_energy_loss_step=1.01e+3, train_forces_loss_step=6.97e+3]"
     ]
    },
    {
     "name": "stderr",
     "output_type": "stream",
     "text": [
      "      0        160       10652.676          64.150       10588.525           2.775           3.582           7.875          10.557\n"
     ]
    },
    {
     "name": "stdout",
     "output_type": "stream",
     "text": [
      "Epoch 0:  85%|████████▌ | 170/200 [00:57<00:10,  2.98it/s, v_num=32, train_total_loss_step=9.27e+3, train_energy_loss_step=140.0, train_forces_loss_step=9.13e+3]  "
     ]
    },
    {
     "name": "stderr",
     "output_type": "stream",
     "text": [
      "      0        170        7485.576         144.916        7340.660           4.550           5.384           6.170           8.790\n"
     ]
    },
    {
     "name": "stdout",
     "output_type": "stream",
     "text": [
      "Epoch 0:  90%|█████████ | 180/200 [00:59<00:06,  3.04it/s, v_num=32, train_total_loss_step=7.98e+3, train_energy_loss_step=81.30, train_forces_loss_step=7.9e+3] "
     ]
    },
    {
     "name": "stderr",
     "output_type": "stream",
     "text": [
      "      0        180       10232.000         136.250       10095.750           4.175           5.220           7.582          10.309\n"
     ]
    },
    {
     "name": "stdout",
     "output_type": "stream",
     "text": [
      "Epoch 0:  95%|█████████▌| 190/200 [01:01<00:03,  3.10it/s, v_num=32, train_total_loss_step=7.55e+3, train_energy_loss_step=16.60, train_forces_loss_step=7.53e+3]"
     ]
    },
    {
     "name": "stderr",
     "output_type": "stream",
     "text": [
      "      0        190        6489.359         225.638        6263.722           6.469           6.718           6.310           8.120\n"
     ]
    },
    {
     "name": "stdout",
     "output_type": "stream",
     "text": [
      "Epoch 0: 100%|██████████| 200/200 [01:03<00:00,  3.15it/s, v_num=32, train_total_loss_step=5.45e+3, train_energy_loss_step=94.90, train_forces_loss_step=5.35e+3]"
     ]
    },
    {
     "name": "stderr",
     "output_type": "stream",
     "text": [
      "\n",
      "\n",
      "Validating\n",
      "# epoch      batch      total_loss     energy_loss     forces_loss      energy_mae     energy_rmse      forces_mae     forces_rmse\n"
     ]
    },
    {
     "name": "stdout",
     "output_type": "stream",
     "text": []
    },
    {
     "name": "stderr",
     "output_type": "stream",
     "text": [
      "      0          0        6346.813          58.534        6288.280           2.750           3.422           6.132           8.136\n"
     ]
    },
    {
     "name": "stdout",
     "output_type": "stream",
     "text": []
    },
    {
     "name": "stderr",
     "output_type": "stream",
     "text": [
      "      0         10        5078.939          44.977        5033.963           2.695           2.999           5.414           7.279\n"
     ]
    },
    {
     "name": "stdout",
     "output_type": "stream",
     "text": []
    },
    {
     "name": "stderr",
     "output_type": "stream",
     "text": [
      "      0         20        5515.433          40.145        5475.289           2.527           2.834           5.857           7.592\n"
     ]
    },
    {
     "name": "stdout",
     "output_type": "stream",
     "text": []
    },
    {
     "name": "stderr",
     "output_type": "stream",
     "text": [
      "      0         30        5413.983          24.539        5389.444           1.676           2.215           5.608           7.532\n"
     ]
    },
    {
     "name": "stdout",
     "output_type": "stream",
     "text": []
    },
    {
     "name": "stderr",
     "output_type": "stream",
     "text": [
      "      0         40        6698.566          71.801        6626.765           3.176           3.789           6.166           8.352\n"
     ]
    },
    {
     "name": "stdout",
     "output_type": "stream",
     "text": []
    },
    {
     "name": "stderr",
     "output_type": "stream",
     "text": [
      "      0         50        6002.738         113.047        5889.691           4.094           4.755           5.811           7.874\n"
     ]
    },
    {
     "name": "stdout",
     "output_type": "stream",
     "text": []
    },
    {
     "name": "stderr",
     "output_type": "stream",
     "text": [
      "      0         60        5520.717          83.707        5437.010           3.574           4.092           5.706           7.565\n"
     ]
    },
    {
     "name": "stdout",
     "output_type": "stream",
     "text": []
    },
    {
     "name": "stderr",
     "output_type": "stream",
     "text": [
      "      0         70        5410.139         105.992        5304.147           3.762           4.604           5.707           7.472\n"
     ]
    },
    {
     "name": "stdout",
     "output_type": "stream",
     "text": []
    },
    {
     "name": "stderr",
     "output_type": "stream",
     "text": [
      "      0         80        5246.372          68.107        5178.266           3.172           3.691           5.292           7.383\n"
     ]
    },
    {
     "name": "stdout",
     "output_type": "stream",
     "text": []
    },
    {
     "name": "stderr",
     "output_type": "stream",
     "text": [
      "      0         90        5498.877          46.591        5452.286           2.699           3.053           5.757           7.576\n"
     ]
    },
    {
     "name": "stdout",
     "output_type": "stream",
     "text": []
    },
    {
     "name": "stderr",
     "output_type": "stream",
     "text": [
      "      0        100        4856.872         134.021        4722.851           3.938           5.177           5.191           7.051\n"
     ]
    },
    {
     "name": "stdout",
     "output_type": "stream",
     "text": []
    },
    {
     "name": "stderr",
     "output_type": "stream",
     "text": [
      "      0        110        4976.349          92.714        4883.635           3.738           4.306           5.261           7.170\n"
     ]
    },
    {
     "name": "stdout",
     "output_type": "stream",
     "text": []
    },
    {
     "name": "stderr",
     "output_type": "stream",
     "text": [
      "      0        120        5702.337         126.244        5576.093           4.266           5.025           5.811           7.661\n"
     ]
    },
    {
     "name": "stdout",
     "output_type": "stream",
     "text": []
    },
    {
     "name": "stderr",
     "output_type": "stream",
     "text": [
      "\n",
      "\n",
      "Epoch summary:\n",
      "Validation  # epoch      total_loss     energy_loss     forces_loss      energy_mae     energy_rmse      forces_mae     forces_rmse\n",
      "                  0        5777.107          67.055        5710.051           2.922           3.662           5.742           7.753\n"
     ]
    },
    {
     "name": "stdout",
     "output_type": "stream",
     "text": [
      "Epoch 0: 100%|██████████| 200/200 [01:31<00:00,  2.19it/s, v_num=32, train_total_loss_step=5.45e+3, train_energy_loss_step=94.90, train_forces_loss_step=5.35e+3, val_total_loss_step=5.98e+3, val_energy_loss_step=47.30, val_forces_loss_step=5.93e+3, val_total_loss_epoch=5.78e+3, val_energy_loss_epoch=67.10, val_forces_loss_epoch=5.71e+3, train_total_loss_epoch=4.38e+4, train_energy_loss_epoch=1.41e+4, train_forces_loss_epoch=2.97e+4]"
     ]
    },
    {
     "name": "stderr",
     "output_type": "stream",
     "text": [
      "Train       # epoch      total_loss     energy_loss     forces_loss      energy_mae     energy_rmse      forces_mae     forces_rmse\n",
      "                  0       43842.578       14128.166       29714.414          23.164          53.157          11.935          17.686\n"
     ]
    },
    {
     "name": "stdout",
     "output_type": "stream",
     "text": [
      "Epoch 1:   0%|          | 0/200 [00:00<?, ?it/s, v_num=32, train_total_loss_step=5.45e+3, train_energy_loss_step=94.90, train_forces_loss_step=5.35e+3, val_total_loss_step=5.98e+3, val_energy_loss_step=47.30, val_forces_loss_step=5.93e+3, val_total_loss_epoch=5.78e+3, val_energy_loss_epoch=67.10, val_forces_loss_epoch=5.71e+3, train_total_loss_epoch=4.38e+4, train_energy_loss_epoch=1.41e+4, train_forces_loss_epoch=2.97e+4]          "
     ]
    },
    {
     "name": "stderr",
     "output_type": "stream",
     "text": [
      "\n",
      "\n",
      "Training\n",
      "# epoch      batch      total_loss     energy_loss     forces_loss      energy_mae     energy_rmse      forces_mae     forces_rmse\n",
      "      1          0        6200.362          62.269        6138.094           2.706           3.529           6.171           8.038\n"
     ]
    },
    {
     "name": "stdout",
     "output_type": "stream",
     "text": [
      "Epoch 1:   5%|▌         | 10/200 [00:02<00:43,  4.36it/s, v_num=32, train_total_loss_step=5.41e+3, train_energy_loss_step=79.60, train_forces_loss_step=5.33e+3, val_total_loss_step=5.98e+3, val_energy_loss_step=47.30, val_forces_loss_step=5.93e+3, val_total_loss_epoch=5.78e+3, val_energy_loss_epoch=67.10, val_forces_loss_epoch=5.71e+3, train_total_loss_epoch=4.38e+4, train_energy_loss_epoch=1.41e+4, train_forces_loss_epoch=2.97e+4]"
     ]
    },
    {
     "name": "stderr",
     "output_type": "stream",
     "text": [
      "      1         10        5676.903          62.398        5614.505           3.037           3.533           5.732           7.688\n"
     ]
    },
    {
     "name": "stdout",
     "output_type": "stream",
     "text": [
      "Epoch 1:  10%|█         | 20/200 [00:04<00:39,  4.57it/s, v_num=32, train_total_loss_step=4.75e+3, train_energy_loss_step=213.0, train_forces_loss_step=4.54e+3, val_total_loss_step=5.98e+3, val_energy_loss_step=47.30, val_forces_loss_step=5.93e+3, val_total_loss_epoch=5.78e+3, val_energy_loss_epoch=67.10, val_forces_loss_epoch=5.71e+3, train_total_loss_epoch=4.38e+4, train_energy_loss_epoch=1.41e+4, train_forces_loss_epoch=2.97e+4]"
     ]
    },
    {
     "name": "stderr",
     "output_type": "stream",
     "text": [
      "      1         20        4940.974         272.522        4668.451           6.569           7.383           5.328           7.010\n"
     ]
    },
    {
     "name": "stdout",
     "output_type": "stream",
     "text": [
      "Epoch 1:  15%|█▌        | 30/200 [00:06<00:37,  4.57it/s, v_num=32, train_total_loss_step=4.92e+3, train_energy_loss_step=87.30, train_forces_loss_step=4.84e+3, val_total_loss_step=5.98e+3, val_energy_loss_step=47.30, val_forces_loss_step=5.93e+3, val_total_loss_epoch=5.78e+3, val_energy_loss_epoch=67.10, val_forces_loss_epoch=5.71e+3, train_total_loss_epoch=4.38e+4, train_energy_loss_epoch=1.41e+4, train_forces_loss_epoch=2.97e+4]"
     ]
    },
    {
     "name": "stderr",
     "output_type": "stream",
     "text": [
      "      1         30        5144.668          67.380        5077.289           2.181           3.671           5.091           7.311\n"
     ]
    },
    {
     "name": "stdout",
     "output_type": "stream",
     "text": [
      "Epoch 1:  20%|██        | 40/200 [00:08<00:34,  4.62it/s, v_num=32, train_total_loss_step=3.33e+3, train_energy_loss_step=71.90, train_forces_loss_step=3.26e+3, val_total_loss_step=5.98e+3, val_energy_loss_step=47.30, val_forces_loss_step=5.93e+3, val_total_loss_epoch=5.78e+3, val_energy_loss_epoch=67.10, val_forces_loss_epoch=5.71e+3, train_total_loss_epoch=4.38e+4, train_energy_loss_epoch=1.41e+4, train_forces_loss_epoch=2.97e+4]"
     ]
    },
    {
     "name": "stderr",
     "output_type": "stream",
     "text": [
      "      1         40        4563.244         113.639        4449.605           3.800           4.767           5.128           6.844\n"
     ]
    },
    {
     "name": "stdout",
     "output_type": "stream",
     "text": [
      "Epoch 1:  25%|██▌       | 50/200 [00:10<00:32,  4.65it/s, v_num=32, train_total_loss_step=5.97e+3, train_energy_loss_step=282.0, train_forces_loss_step=5.69e+3, val_total_loss_step=5.98e+3, val_energy_loss_step=47.30, val_forces_loss_step=5.93e+3, val_total_loss_epoch=5.78e+3, val_energy_loss_epoch=67.10, val_forces_loss_epoch=5.71e+3, train_total_loss_epoch=4.38e+4, train_energy_loss_epoch=1.41e+4, train_forces_loss_epoch=2.97e+4]"
     ]
    },
    {
     "name": "stderr",
     "output_type": "stream",
     "text": [
      "      1         50        4731.831          40.608        4691.222           2.569           2.850           5.178           7.027\n"
     ]
    },
    {
     "name": "stdout",
     "output_type": "stream",
     "text": [
      "Epoch 1:  30%|███       | 60/200 [00:12<00:29,  4.68it/s, v_num=32, train_total_loss_step=3.85e+3, train_energy_loss_step=58.60, train_forces_loss_step=3.79e+3, val_total_loss_step=5.98e+3, val_energy_loss_step=47.30, val_forces_loss_step=5.93e+3, val_total_loss_epoch=5.78e+3, val_energy_loss_epoch=67.10, val_forces_loss_epoch=5.71e+3, train_total_loss_epoch=4.38e+4, train_energy_loss_epoch=1.41e+4, train_forces_loss_epoch=2.97e+4]"
     ]
    },
    {
     "name": "stderr",
     "output_type": "stream",
     "text": [
      "      1         60        3717.749          95.636        3622.114           3.581           4.373           4.508           6.175\n"
     ]
    },
    {
     "name": "stdout",
     "output_type": "stream",
     "text": [
      "Epoch 1:  35%|███▌      | 70/200 [00:14<00:27,  4.70it/s, v_num=32, train_total_loss_step=5.81e+3, train_energy_loss_step=652.0, train_forces_loss_step=5.16e+3, val_total_loss_step=5.98e+3, val_energy_loss_step=47.30, val_forces_loss_step=5.93e+3, val_total_loss_epoch=5.78e+3, val_energy_loss_epoch=67.10, val_forces_loss_epoch=5.71e+3, train_total_loss_epoch=4.38e+4, train_energy_loss_epoch=1.41e+4, train_forces_loss_epoch=2.97e+4]"
     ]
    },
    {
     "name": "stderr",
     "output_type": "stream",
     "text": [
      "      1         70        3542.112          85.825        3456.286           3.144           4.143           4.845           6.032\n"
     ]
    },
    {
     "name": "stdout",
     "output_type": "stream",
     "text": [
      "Epoch 1:  40%|████      | 80/200 [00:16<00:25,  4.72it/s, v_num=32, train_total_loss_step=4.79e+3, train_energy_loss_step=50.50, train_forces_loss_step=4.74e+3, val_total_loss_step=5.98e+3, val_energy_loss_step=47.30, val_forces_loss_step=5.93e+3, val_total_loss_epoch=5.78e+3, val_energy_loss_epoch=67.10, val_forces_loss_epoch=5.71e+3, train_total_loss_epoch=4.38e+4, train_energy_loss_epoch=1.41e+4, train_forces_loss_epoch=2.97e+4]"
     ]
    },
    {
     "name": "stderr",
     "output_type": "stream",
     "text": [
      "      1         80        3643.154         660.944        2982.210          11.306          11.497           4.308           5.603\n"
     ]
    },
    {
     "name": "stdout",
     "output_type": "stream",
     "text": [
      "Epoch 1:  45%|████▌     | 90/200 [00:19<00:23,  4.73it/s, v_num=32, train_total_loss_step=3.54e+3, train_energy_loss_step=96.30, train_forces_loss_step=3.44e+3, val_total_loss_step=5.98e+3, val_energy_loss_step=47.30, val_forces_loss_step=5.93e+3, val_total_loss_epoch=5.78e+3, val_energy_loss_epoch=67.10, val_forces_loss_epoch=5.71e+3, train_total_loss_epoch=4.38e+4, train_energy_loss_epoch=1.41e+4, train_forces_loss_epoch=2.97e+4] "
     ]
    },
    {
     "name": "stderr",
     "output_type": "stream",
     "text": [
      "      1         90        4173.055        1126.061        3046.995          14.875          15.007           4.392           5.663\n"
     ]
    },
    {
     "name": "stdout",
     "output_type": "stream",
     "text": [
      "Epoch 1:  50%|█████     | 100/200 [00:21<00:21,  4.74it/s, v_num=32, train_total_loss_step=4.46e+3, train_energy_loss_step=55.70, train_forces_loss_step=4.41e+3, val_total_loss_step=5.98e+3, val_energy_loss_step=47.30, val_forces_loss_step=5.93e+3, val_total_loss_epoch=5.78e+3, val_energy_loss_epoch=67.10, val_forces_loss_epoch=5.71e+3, train_total_loss_epoch=4.38e+4, train_energy_loss_epoch=1.41e+4, train_forces_loss_epoch=2.97e+4] "
     ]
    },
    {
     "name": "stderr",
     "output_type": "stream",
     "text": [
      "      1        100        4330.317         377.600        3952.718           8.500           8.690           4.790           6.450\n"
     ]
    },
    {
     "name": "stdout",
     "output_type": "stream",
     "text": [
      "Epoch 1:  55%|█████▌    | 110/200 [00:23<00:18,  4.75it/s, v_num=32, train_total_loss_step=3.51e+3, train_energy_loss_step=95.50, train_forces_loss_step=3.41e+3, val_total_loss_step=5.98e+3, val_energy_loss_step=47.30, val_forces_loss_step=5.93e+3, val_total_loss_epoch=5.78e+3, val_energy_loss_epoch=67.10, val_forces_loss_epoch=5.71e+3, train_total_loss_epoch=4.38e+4, train_energy_loss_epoch=1.41e+4, train_forces_loss_epoch=2.97e+4]"
     ]
    },
    {
     "name": "stderr",
     "output_type": "stream",
     "text": [
      "      1        110        4004.714          20.135        3984.579           1.663           2.007           4.812           6.476\n"
     ]
    },
    {
     "name": "stdout",
     "output_type": "stream",
     "text": [
      "Epoch 1:  60%|██████    | 120/200 [00:25<00:16,  4.75it/s, v_num=32, train_total_loss_step=3.21e+3, train_energy_loss_step=58.80, train_forces_loss_step=3.15e+3, val_total_loss_step=5.98e+3, val_energy_loss_step=47.30, val_forces_loss_step=5.93e+3, val_total_loss_epoch=5.78e+3, val_energy_loss_epoch=67.10, val_forces_loss_epoch=5.71e+3, train_total_loss_epoch=4.38e+4, train_energy_loss_epoch=1.41e+4, train_forces_loss_epoch=2.97e+4]"
     ]
    },
    {
     "name": "stderr",
     "output_type": "stream",
     "text": [
      "      1        120        3326.162         151.975        3174.188           4.662           5.513           4.390           5.780\n"
     ]
    },
    {
     "name": "stdout",
     "output_type": "stream",
     "text": [
      "Epoch 1:  65%|██████▌   | 130/200 [00:27<00:14,  4.76it/s, v_num=32, train_total_loss_step=3.01e+3, train_energy_loss_step=87.80, train_forces_loss_step=2.92e+3, val_total_loss_step=5.98e+3, val_energy_loss_step=47.30, val_forces_loss_step=5.93e+3, val_total_loss_epoch=5.78e+3, val_energy_loss_epoch=67.10, val_forces_loss_epoch=5.71e+3, train_total_loss_epoch=4.38e+4, train_energy_loss_epoch=1.41e+4, train_forces_loss_epoch=2.97e+4]"
     ]
    },
    {
     "name": "stderr",
     "output_type": "stream",
     "text": [
      "      1        130        4479.898         110.281        4369.617           3.287           4.696           5.140           6.782\n"
     ]
    },
    {
     "name": "stdout",
     "output_type": "stream",
     "text": [
      "Epoch 1:  70%|███████   | 140/200 [00:29<00:12,  4.76it/s, v_num=32, train_total_loss_step=3.54e+3, train_energy_loss_step=20.50, train_forces_loss_step=3.52e+3, val_total_loss_step=5.98e+3, val_energy_loss_step=47.30, val_forces_loss_step=5.93e+3, val_total_loss_epoch=5.78e+3, val_energy_loss_epoch=67.10, val_forces_loss_epoch=5.71e+3, train_total_loss_epoch=4.38e+4, train_energy_loss_epoch=1.41e+4, train_forces_loss_epoch=2.97e+4]"
     ]
    },
    {
     "name": "stderr",
     "output_type": "stream",
     "text": [
      "      1        140        3983.023         276.283        3706.740           7.350           7.433           4.751           6.246\n"
     ]
    },
    {
     "name": "stdout",
     "output_type": "stream",
     "text": [
      "Epoch 1:  75%|███████▌  | 150/200 [00:31<00:10,  4.77it/s, v_num=32, train_total_loss_step=3.64e+3, train_energy_loss_step=868.0, train_forces_loss_step=2.77e+3, val_total_loss_step=5.98e+3, val_energy_loss_step=47.30, val_forces_loss_step=5.93e+3, val_total_loss_epoch=5.78e+3, val_energy_loss_epoch=67.10, val_forces_loss_epoch=5.71e+3, train_total_loss_epoch=4.38e+4, train_energy_loss_epoch=1.41e+4, train_forces_loss_epoch=2.97e+4]"
     ]
    },
    {
     "name": "stderr",
     "output_type": "stream",
     "text": [
      "      1        150        2423.306         164.254        2259.052           5.387           5.732           3.708           4.876\n"
     ]
    },
    {
     "name": "stdout",
     "output_type": "stream",
     "text": [
      "Epoch 1:  80%|████████  | 160/200 [00:33<00:08,  4.77it/s, v_num=32, train_total_loss_step=3.11e+3, train_energy_loss_step=291.0, train_forces_loss_step=2.82e+3, val_total_loss_step=5.98e+3, val_energy_loss_step=47.30, val_forces_loss_step=5.93e+3, val_total_loss_epoch=5.78e+3, val_energy_loss_epoch=67.10, val_forces_loss_epoch=5.71e+3, train_total_loss_epoch=4.38e+4, train_energy_loss_epoch=1.41e+4, train_forces_loss_epoch=2.97e+4]"
     ]
    },
    {
     "name": "stderr",
     "output_type": "stream",
     "text": [
      "      1        160        3178.282          84.575        3093.707           3.656           4.113           4.470           5.707\n"
     ]
    },
    {
     "name": "stdout",
     "output_type": "stream",
     "text": [
      "Epoch 1:  85%|████████▌ | 170/200 [00:35<00:06,  4.77it/s, v_num=32, train_total_loss_step=3.93e+3, train_energy_loss_step=246.0, train_forces_loss_step=3.68e+3, val_total_loss_step=5.98e+3, val_energy_loss_step=47.30, val_forces_loss_step=5.93e+3, val_total_loss_epoch=5.78e+3, val_energy_loss_epoch=67.10, val_forces_loss_epoch=5.71e+3, train_total_loss_epoch=4.38e+4, train_energy_loss_epoch=1.41e+4, train_forces_loss_epoch=2.97e+4]"
     ]
    },
    {
     "name": "stderr",
     "output_type": "stream",
     "text": [
      "      1        170        2339.960          62.894        2277.066           2.881           3.547           3.831           4.896\n"
     ]
    },
    {
     "name": "stdout",
     "output_type": "stream",
     "text": [
      "Epoch 1:  90%|█████████ | 180/200 [00:37<00:04,  4.77it/s, v_num=32, train_total_loss_step=2.43e+3, train_energy_loss_step=39.80, train_forces_loss_step=2.39e+3, val_total_loss_step=5.98e+3, val_energy_loss_step=47.30, val_forces_loss_step=5.93e+3, val_total_loss_epoch=5.78e+3, val_energy_loss_epoch=67.10, val_forces_loss_epoch=5.71e+3, train_total_loss_epoch=4.38e+4, train_energy_loss_epoch=1.41e+4, train_forces_loss_epoch=2.97e+4]"
     ]
    },
    {
     "name": "stderr",
     "output_type": "stream",
     "text": [
      "      1        180        3122.972         200.434        2922.539           6.000           6.331           4.063           5.546\n"
     ]
    },
    {
     "name": "stdout",
     "output_type": "stream",
     "text": [
      "Epoch 1:  95%|█████████▌| 190/200 [00:39<00:02,  4.78it/s, v_num=32, train_total_loss_step=3.8e+3, train_energy_loss_step=191.0, train_forces_loss_step=3.61e+3, val_total_loss_step=5.98e+3, val_energy_loss_step=47.30, val_forces_loss_step=5.93e+3, val_total_loss_epoch=5.78e+3, val_energy_loss_epoch=67.10, val_forces_loss_epoch=5.71e+3, train_total_loss_epoch=4.38e+4, train_energy_loss_epoch=1.41e+4, train_forces_loss_epoch=2.97e+4] "
     ]
    },
    {
     "name": "stderr",
     "output_type": "stream",
     "text": [
      "      1        190        2822.324         136.045        2686.279           4.713           5.216           3.975           5.318\n"
     ]
    },
    {
     "name": "stdout",
     "output_type": "stream",
     "text": [
      "Epoch 1: 100%|██████████| 200/200 [00:41<00:00,  4.77it/s, v_num=32, train_total_loss_step=2.66e+3, train_energy_loss_step=181.0, train_forces_loss_step=2.48e+3, val_total_loss_step=5.98e+3, val_energy_loss_step=47.30, val_forces_loss_step=5.93e+3, val_total_loss_epoch=5.78e+3, val_energy_loss_epoch=67.10, val_forces_loss_epoch=5.71e+3, train_total_loss_epoch=4.38e+4, train_energy_loss_epoch=1.41e+4, train_forces_loss_epoch=2.97e+4]"
     ]
    },
    {
     "name": "stderr",
     "output_type": "stream",
     "text": [
      "\n",
      "\n",
      "Validating\n",
      "# epoch      batch      total_loss     energy_loss     forces_loss      energy_mae     energy_rmse      forces_mae     forces_rmse\n"
     ]
    },
    {
     "name": "stdout",
     "output_type": "stream",
     "text": []
    },
    {
     "name": "stderr",
     "output_type": "stream",
     "text": [
      "      1          0        3107.041          37.329        3069.712           2.203           2.732           4.241           5.684\n"
     ]
    },
    {
     "name": "stdout",
     "output_type": "stream",
     "text": []
    },
    {
     "name": "stderr",
     "output_type": "stream",
     "text": [
      "      1         10        2161.671          21.908        2139.763           1.867           2.093           3.524           4.746\n"
     ]
    },
    {
     "name": "stdout",
     "output_type": "stream",
     "text": []
    },
    {
     "name": "stderr",
     "output_type": "stream",
     "text": [
      "      1         20        2075.180          36.561        2038.619           2.285           2.704           3.630           4.632\n"
     ]
    },
    {
     "name": "stdout",
     "output_type": "stream",
     "text": []
    },
    {
     "name": "stderr",
     "output_type": "stream",
     "text": [
      "      1         30        2491.765          12.635        2479.130           1.223           1.590           3.821           5.108\n"
     ]
    },
    {
     "name": "stdout",
     "output_type": "stream",
     "text": []
    },
    {
     "name": "stderr",
     "output_type": "stream",
     "text": [
      "      1         40        2839.403          30.026        2809.377           2.137           2.451           3.989           5.438\n"
     ]
    },
    {
     "name": "stdout",
     "output_type": "stream",
     "text": []
    },
    {
     "name": "stderr",
     "output_type": "stream",
     "text": [
      "      1         50        3077.972          40.530        3037.443           2.383           2.847           4.089           5.654\n"
     ]
    },
    {
     "name": "stdout",
     "output_type": "stream",
     "text": []
    },
    {
     "name": "stderr",
     "output_type": "stream",
     "text": [
      "      1         60        2861.828          48.107        2813.720           2.785           3.102           3.917           5.442\n"
     ]
    },
    {
     "name": "stdout",
     "output_type": "stream",
     "text": []
    },
    {
     "name": "stderr",
     "output_type": "stream",
     "text": [
      "      1         70        2459.948          66.179        2393.769           3.117           3.638           3.809           5.020\n"
     ]
    },
    {
     "name": "stdout",
     "output_type": "stream",
     "text": []
    },
    {
     "name": "stderr",
     "output_type": "stream",
     "text": [
      "      1         80        2402.385          22.341        2380.044           1.945           2.114           3.731           5.005\n"
     ]
    },
    {
     "name": "stdout",
     "output_type": "stream",
     "text": []
    },
    {
     "name": "stderr",
     "output_type": "stream",
     "text": [
      "      1         90        2339.348           8.716        2330.632           1.211           1.320           3.718           4.953\n"
     ]
    },
    {
     "name": "stdout",
     "output_type": "stream",
     "text": []
    },
    {
     "name": "stderr",
     "output_type": "stream",
     "text": [
      "      1        100        2742.299         146.511        2595.788           3.859           5.413           3.681           5.227\n"
     ]
    },
    {
     "name": "stdout",
     "output_type": "stream",
     "text": []
    },
    {
     "name": "stderr",
     "output_type": "stream",
     "text": [
      "      1        110        2230.704          67.812        2162.892           3.375           3.683           3.594           4.772\n"
     ]
    },
    {
     "name": "stdout",
     "output_type": "stream",
     "text": []
    },
    {
     "name": "stderr",
     "output_type": "stream",
     "text": [
      "      1        120        2461.802          83.262        2378.540           3.559           4.081           3.863           5.004\n"
     ]
    },
    {
     "name": "stdout",
     "output_type": "stream",
     "text": []
    },
    {
     "name": "stderr",
     "output_type": "stream",
     "text": [
      "\n",
      "\n",
      "Epoch summary:\n",
      "Validation  # epoch      total_loss     energy_loss     forces_loss      energy_mae     energy_rmse      forces_mae     forces_rmse\n",
      "                  1        2611.390          37.001        2574.390           2.165           2.720           3.854           5.206\n"
     ]
    },
    {
     "name": "stdout",
     "output_type": "stream",
     "text": [
      "Epoch 1: 100%|██████████| 200/200 [01:01<00:00,  3.25it/s, v_num=32, train_total_loss_step=2.66e+3, train_energy_loss_step=181.0, train_forces_loss_step=2.48e+3, val_total_loss_step=2.96e+3, val_energy_loss_step=37.10, val_forces_loss_step=2.92e+3, val_total_loss_epoch=2.61e+3, val_energy_loss_epoch=37.00, val_forces_loss_epoch=2.57e+3, train_total_loss_epoch=3.91e+3, train_energy_loss_epoch=185.0, train_forces_loss_epoch=3.73e+3]  "
     ]
    },
    {
     "name": "stderr",
     "output_type": "stream",
     "text": [
      "Train       # epoch      total_loss     energy_loss     forces_loss      energy_mae     energy_rmse      forces_mae     forces_rmse\n",
      "                  1        3914.780         184.638        3730.140           4.761           6.077           4.677           6.266\n"
     ]
    },
    {
     "name": "stdout",
     "output_type": "stream",
     "text": [
      "Epoch 2:   0%|          | 0/200 [00:00<?, ?it/s, v_num=32, train_total_loss_step=2.66e+3, train_energy_loss_step=181.0, train_forces_loss_step=2.48e+3, val_total_loss_step=2.96e+3, val_energy_loss_step=37.10, val_forces_loss_step=2.92e+3, val_total_loss_epoch=2.61e+3, val_energy_loss_epoch=37.00, val_forces_loss_epoch=2.57e+3, train_total_loss_epoch=3.91e+3, train_energy_loss_epoch=185.0, train_forces_loss_epoch=3.73e+3]          "
     ]
    },
    {
     "name": "stderr",
     "output_type": "stream",
     "text": [
      "\n",
      "\n",
      "Training\n",
      "# epoch      batch      total_loss     energy_loss     forces_loss      energy_mae     energy_rmse      forces_mae     forces_rmse\n",
      "      2          0        2823.215          86.068        2737.147           3.062           4.149           3.801           5.368\n"
     ]
    },
    {
     "name": "stdout",
     "output_type": "stream",
     "text": [
      "Epoch 2:   5%|▌         | 10/200 [00:02<00:44,  4.31it/s, v_num=32, train_total_loss_step=3.26e+3, train_energy_loss_step=340.0, train_forces_loss_step=2.92e+3, val_total_loss_step=2.96e+3, val_energy_loss_step=37.10, val_forces_loss_step=2.92e+3, val_total_loss_epoch=2.61e+3, val_energy_loss_epoch=37.00, val_forces_loss_epoch=2.57e+3, train_total_loss_epoch=3.91e+3, train_energy_loss_epoch=185.0, train_forces_loss_epoch=3.73e+3]"
     ]
    },
    {
     "name": "stderr",
     "output_type": "stream",
     "text": [
      "      2         10        3683.184          38.749        3644.435           2.456           2.784           4.621           6.194\n"
     ]
    },
    {
     "name": "stdout",
     "output_type": "stream",
     "text": [
      "Epoch 2:  10%|█         | 20/200 [00:04<00:40,  4.44it/s, v_num=32, train_total_loss_step=1.99e+3, train_energy_loss_step=25.60, train_forces_loss_step=1.97e+3, val_total_loss_step=2.96e+3, val_energy_loss_step=37.10, val_forces_loss_step=2.92e+3, val_total_loss_epoch=2.61e+3, val_energy_loss_epoch=37.00, val_forces_loss_epoch=2.57e+3, train_total_loss_epoch=3.91e+3, train_energy_loss_epoch=185.0, train_forces_loss_epoch=3.73e+3]"
     ]
    },
    {
     "name": "stderr",
     "output_type": "stream",
     "text": [
      "      2         20        3105.815         363.162        2742.653           7.863           8.522           4.014           5.373\n"
     ]
    },
    {
     "name": "stdout",
     "output_type": "stream",
     "text": [
      "Epoch 2:  15%|█▌        | 30/200 [00:06<00:37,  4.49it/s, v_num=32, train_total_loss_step=2.98e+3, train_energy_loss_step=289.0, train_forces_loss_step=2.69e+3, val_total_loss_step=2.96e+3, val_energy_loss_step=37.10, val_forces_loss_step=2.92e+3, val_total_loss_epoch=2.61e+3, val_energy_loss_epoch=37.00, val_forces_loss_epoch=2.57e+3, train_total_loss_epoch=3.91e+3, train_energy_loss_epoch=185.0, train_forces_loss_epoch=3.73e+3]"
     ]
    },
    {
     "name": "stderr",
     "output_type": "stream",
     "text": [
      "      2         30        2637.277          46.942        2590.335           2.669           3.064           4.075           5.222\n"
     ]
    },
    {
     "name": "stdout",
     "output_type": "stream",
     "text": [
      "Epoch 2:  20%|██        | 40/200 [00:08<00:35,  4.50it/s, v_num=32, train_total_loss_step=2.26e+3, train_energy_loss_step=56.30, train_forces_loss_step=2.21e+3, val_total_loss_step=2.96e+3, val_energy_loss_step=37.10, val_forces_loss_step=2.92e+3, val_total_loss_epoch=2.61e+3, val_energy_loss_epoch=37.00, val_forces_loss_epoch=2.57e+3, train_total_loss_epoch=3.91e+3, train_energy_loss_epoch=185.0, train_forces_loss_epoch=3.73e+3]"
     ]
    },
    {
     "name": "stderr",
     "output_type": "stream",
     "text": [
      "      2         40        2687.149         274.793        2412.356           7.225           7.413           3.826           5.039\n"
     ]
    },
    {
     "name": "stdout",
     "output_type": "stream",
     "text": [
      "Epoch 2:  25%|██▌       | 50/200 [00:11<00:33,  4.52it/s, v_num=32, train_total_loss_step=2.64e+3, train_energy_loss_step=14.10, train_forces_loss_step=2.63e+3, val_total_loss_step=2.96e+3, val_energy_loss_step=37.10, val_forces_loss_step=2.92e+3, val_total_loss_epoch=2.61e+3, val_energy_loss_epoch=37.00, val_forces_loss_epoch=2.57e+3, train_total_loss_epoch=3.91e+3, train_energy_loss_epoch=185.0, train_forces_loss_epoch=3.73e+3]"
     ]
    },
    {
     "name": "stderr",
     "output_type": "stream",
     "text": [
      "      2         50        2493.808          14.660        2479.148           1.500           1.712           3.827           5.108\n"
     ]
    },
    {
     "name": "stdout",
     "output_type": "stream",
     "text": [
      "Epoch 2:  30%|███       | 60/200 [00:13<00:30,  4.52it/s, v_num=32, train_total_loss_step=2.46e+3, train_energy_loss_step=10.20, train_forces_loss_step=2.45e+3, val_total_loss_step=2.96e+3, val_energy_loss_step=37.10, val_forces_loss_step=2.92e+3, val_total_loss_epoch=2.61e+3, val_energy_loss_epoch=37.00, val_forces_loss_epoch=2.57e+3, train_total_loss_epoch=3.91e+3, train_energy_loss_epoch=185.0, train_forces_loss_epoch=3.73e+3]"
     ]
    },
    {
     "name": "stderr",
     "output_type": "stream",
     "text": [
      "      2         60        1824.727          92.006        1732.721           3.450           4.290           3.352           4.271\n"
     ]
    },
    {
     "name": "stdout",
     "output_type": "stream",
     "text": [
      "Epoch 2:  35%|███▌      | 70/200 [00:15<00:28,  4.52it/s, v_num=32, train_total_loss_step=2.69e+3, train_energy_loss_step=121.0, train_forces_loss_step=2.57e+3, val_total_loss_step=2.96e+3, val_energy_loss_step=37.10, val_forces_loss_step=2.92e+3, val_total_loss_epoch=2.61e+3, val_energy_loss_epoch=37.00, val_forces_loss_epoch=2.57e+3, train_total_loss_epoch=3.91e+3, train_energy_loss_epoch=185.0, train_forces_loss_epoch=3.73e+3]"
     ]
    },
    {
     "name": "stderr",
     "output_type": "stream",
     "text": [
      "      2         70        2234.896          36.092        2198.804           2.013           2.687           3.580           4.811\n"
     ]
    },
    {
     "name": "stdout",
     "output_type": "stream",
     "text": [
      "Epoch 2:  40%|████      | 80/200 [00:17<00:26,  4.53it/s, v_num=32, train_total_loss_step=1.57e+3, train_energy_loss_step=87.80, train_forces_loss_step=1.48e+3, val_total_loss_step=2.96e+3, val_energy_loss_step=37.10, val_forces_loss_step=2.92e+3, val_total_loss_epoch=2.61e+3, val_energy_loss_epoch=37.00, val_forces_loss_epoch=2.57e+3, train_total_loss_epoch=3.91e+3, train_energy_loss_epoch=185.0, train_forces_loss_epoch=3.73e+3]"
     ]
    },
    {
     "name": "stderr",
     "output_type": "stream",
     "text": [
      "      2         80        2086.816         109.581        1977.235           4.569           4.681           3.338           4.562\n"
     ]
    },
    {
     "name": "stdout",
     "output_type": "stream",
     "text": [
      "Epoch 2:  45%|████▌     | 90/200 [00:19<00:24,  4.53it/s, v_num=32, train_total_loss_step=2.35e+3, train_energy_loss_step=30.90, train_forces_loss_step=2.32e+3, val_total_loss_step=2.96e+3, val_energy_loss_step=37.10, val_forces_loss_step=2.92e+3, val_total_loss_epoch=2.61e+3, val_energy_loss_epoch=37.00, val_forces_loss_epoch=2.57e+3, train_total_loss_epoch=3.91e+3, train_energy_loss_epoch=185.0, train_forces_loss_epoch=3.73e+3]"
     ]
    },
    {
     "name": "stderr",
     "output_type": "stream",
     "text": [
      "      2         90        2950.198          11.847        2938.351           1.294           1.539           4.379           5.561\n"
     ]
    },
    {
     "name": "stdout",
     "output_type": "stream",
     "text": [
      "Epoch 2:  50%|█████     | 100/200 [00:22<00:22,  4.53it/s, v_num=32, train_total_loss_step=4.16e+3, train_energy_loss_step=44.40, train_forces_loss_step=4.11e+3, val_total_loss_step=2.96e+3, val_energy_loss_step=37.10, val_forces_loss_step=2.92e+3, val_total_loss_epoch=2.61e+3, val_energy_loss_epoch=37.00, val_forces_loss_epoch=2.57e+3, train_total_loss_epoch=3.91e+3, train_energy_loss_epoch=185.0, train_forces_loss_epoch=3.73e+3]"
     ]
    },
    {
     "name": "stderr",
     "output_type": "stream",
     "text": [
      "      2        100        2297.288         198.889        2098.399           6.200           6.307           3.529           4.700\n"
     ]
    },
    {
     "name": "stdout",
     "output_type": "stream",
     "text": [
      "Epoch 2:  55%|█████▌    | 110/200 [00:24<00:19,  4.53it/s, v_num=32, train_total_loss_step=1.88e+3, train_energy_loss_step=129.0, train_forces_loss_step=1.75e+3, val_total_loss_step=2.96e+3, val_energy_loss_step=37.10, val_forces_loss_step=2.92e+3, val_total_loss_epoch=2.61e+3, val_energy_loss_epoch=37.00, val_forces_loss_epoch=2.57e+3, train_total_loss_epoch=3.91e+3, train_energy_loss_epoch=185.0, train_forces_loss_epoch=3.73e+3]"
     ]
    },
    {
     "name": "stderr",
     "output_type": "stream",
     "text": [
      "      2        110        3040.082         583.662        2456.420          10.675          10.804           3.996           5.085\n"
     ]
    },
    {
     "name": "stdout",
     "output_type": "stream",
     "text": [
      "Epoch 2:  60%|██████    | 120/200 [00:26<00:17,  4.54it/s, v_num=32, train_total_loss_step=2.25e+3, train_energy_loss_step=49.40, train_forces_loss_step=2.2e+3, val_total_loss_step=2.96e+3, val_energy_loss_step=37.10, val_forces_loss_step=2.92e+3, val_total_loss_epoch=2.61e+3, val_energy_loss_epoch=37.00, val_forces_loss_epoch=2.57e+3, train_total_loss_epoch=3.91e+3, train_energy_loss_epoch=185.0, train_forces_loss_epoch=3.73e+3] "
     ]
    },
    {
     "name": "stderr",
     "output_type": "stream",
     "text": [
      "      2        120        2533.402         202.567        2330.835           5.931           6.365           3.738           4.953\n"
     ]
    },
    {
     "name": "stdout",
     "output_type": "stream",
     "text": [
      "Epoch 2:  65%|██████▌   | 130/200 [00:28<00:15,  4.54it/s, v_num=32, train_total_loss_step=2.75e+3, train_energy_loss_step=40.70, train_forces_loss_step=2.71e+3, val_total_loss_step=2.96e+3, val_energy_loss_step=37.10, val_forces_loss_step=2.92e+3, val_total_loss_epoch=2.61e+3, val_energy_loss_epoch=37.00, val_forces_loss_epoch=2.57e+3, train_total_loss_epoch=3.91e+3, train_energy_loss_epoch=185.0, train_forces_loss_epoch=3.73e+3]"
     ]
    },
    {
     "name": "stderr",
     "output_type": "stream",
     "text": [
      "      2        130        2416.086         286.496        2129.590           7.287           7.570           3.414           4.735\n"
     ]
    },
    {
     "name": "stdout",
     "output_type": "stream",
     "text": [
      "Epoch 2:  70%|███████   | 140/200 [00:30<00:13,  4.54it/s, v_num=32, train_total_loss_step=2.35e+3, train_energy_loss_step=299.0, train_forces_loss_step=2.05e+3, val_total_loss_step=2.96e+3, val_energy_loss_step=37.10, val_forces_loss_step=2.92e+3, val_total_loss_epoch=2.61e+3, val_energy_loss_epoch=37.00, val_forces_loss_epoch=2.57e+3, train_total_loss_epoch=3.91e+3, train_energy_loss_epoch=185.0, train_forces_loss_epoch=3.73e+3]"
     ]
    },
    {
     "name": "stderr",
     "output_type": "stream",
     "text": [
      "      2        140        1981.647          70.814        1910.833           3.612           3.763           3.357           4.485\n"
     ]
    },
    {
     "name": "stdout",
     "output_type": "stream",
     "text": [
      "Epoch 2:  75%|███████▌  | 150/200 [00:33<00:11,  4.54it/s, v_num=32, train_total_loss_step=2.89e+3, train_energy_loss_step=137.0, train_forces_loss_step=2.75e+3, val_total_loss_step=2.96e+3, val_energy_loss_step=37.10, val_forces_loss_step=2.92e+3, val_total_loss_epoch=2.61e+3, val_energy_loss_epoch=37.00, val_forces_loss_epoch=2.57e+3, train_total_loss_epoch=3.91e+3, train_energy_loss_epoch=185.0, train_forces_loss_epoch=3.73e+3]"
     ]
    },
    {
     "name": "stderr",
     "output_type": "stream",
     "text": [
      "      2        150        2388.552         101.272        2287.280           4.106           4.500           3.676           4.907\n"
     ]
    },
    {
     "name": "stdout",
     "output_type": "stream",
     "text": [
      "Epoch 2:  80%|████████  | 160/200 [00:35<00:08,  4.54it/s, v_num=32, train_total_loss_step=1.61e+3, train_energy_loss_step=90.60, train_forces_loss_step=1.52e+3, val_total_loss_step=2.96e+3, val_energy_loss_step=37.10, val_forces_loss_step=2.92e+3, val_total_loss_epoch=2.61e+3, val_energy_loss_epoch=37.00, val_forces_loss_epoch=2.57e+3, train_total_loss_epoch=3.91e+3, train_energy_loss_epoch=185.0, train_forces_loss_epoch=3.73e+3]"
     ]
    },
    {
     "name": "stderr",
     "output_type": "stream",
     "text": [
      "      2        160        1980.065          80.522        1899.542           3.319           4.013           3.280           4.472\n"
     ]
    },
    {
     "name": "stdout",
     "output_type": "stream",
     "text": [
      "Epoch 2:  85%|████████▌ | 170/200 [00:37<00:06,  4.54it/s, v_num=32, train_total_loss_step=1.83e+3, train_energy_loss_step=29.90, train_forces_loss_step=1.8e+3, val_total_loss_step=2.96e+3, val_energy_loss_step=37.10, val_forces_loss_step=2.92e+3, val_total_loss_epoch=2.61e+3, val_energy_loss_epoch=37.00, val_forces_loss_epoch=2.57e+3, train_total_loss_epoch=3.91e+3, train_energy_loss_epoch=185.0, train_forces_loss_epoch=3.73e+3] "
     ]
    },
    {
     "name": "stderr",
     "output_type": "stream",
     "text": [
      "      2        170        1784.730          45.156        1739.574           2.275           3.005           3.325           4.279\n"
     ]
    },
    {
     "name": "stdout",
     "output_type": "stream",
     "text": [
      "Epoch 2:  90%|█████████ | 180/200 [00:39<00:04,  4.54it/s, v_num=32, train_total_loss_step=1.71e+3, train_energy_loss_step=73.50, train_forces_loss_step=1.64e+3, val_total_loss_step=2.96e+3, val_energy_loss_step=37.10, val_forces_loss_step=2.92e+3, val_total_loss_epoch=2.61e+3, val_energy_loss_epoch=37.00, val_forces_loss_epoch=2.57e+3, train_total_loss_epoch=3.91e+3, train_energy_loss_epoch=185.0, train_forces_loss_epoch=3.73e+3]"
     ]
    },
    {
     "name": "stderr",
     "output_type": "stream",
     "text": [
      "      2        180        1755.519          89.867        1665.651           4.125           4.240           3.255           4.187\n"
     ]
    },
    {
     "name": "stdout",
     "output_type": "stream",
     "text": [
      "Epoch 2:  95%|█████████▌| 190/200 [00:41<00:02,  4.55it/s, v_num=32, train_total_loss_step=1.49e+3, train_energy_loss_step=12.20, train_forces_loss_step=1.47e+3, val_total_loss_step=2.96e+3, val_energy_loss_step=37.10, val_forces_loss_step=2.92e+3, val_total_loss_epoch=2.61e+3, val_energy_loss_epoch=37.00, val_forces_loss_epoch=2.57e+3, train_total_loss_epoch=3.91e+3, train_energy_loss_epoch=185.0, train_forces_loss_epoch=3.73e+3]"
     ]
    },
    {
     "name": "stderr",
     "output_type": "stream",
     "text": [
      "      2        190        1455.451         177.745        1277.706           5.931           5.962           2.711           3.667\n"
     ]
    },
    {
     "name": "stdout",
     "output_type": "stream",
     "text": [
      "Epoch 2: 100%|██████████| 200/200 [00:43<00:00,  4.55it/s, v_num=32, train_total_loss_step=1.63e+3, train_energy_loss_step=150.0, train_forces_loss_step=1.48e+3, val_total_loss_step=2.96e+3, val_energy_loss_step=37.10, val_forces_loss_step=2.92e+3, val_total_loss_epoch=2.61e+3, val_energy_loss_epoch=37.00, val_forces_loss_epoch=2.57e+3, train_total_loss_epoch=3.91e+3, train_energy_loss_epoch=185.0, train_forces_loss_epoch=3.73e+3]"
     ]
    },
    {
     "name": "stderr",
     "output_type": "stream",
     "text": [
      "\n",
      "\n",
      "Validating\n",
      "# epoch      batch      total_loss     energy_loss     forces_loss      energy_mae     energy_rmse      forces_mae     forces_rmse\n"
     ]
    },
    {
     "name": "stdout",
     "output_type": "stream",
     "text": []
    },
    {
     "name": "stderr",
     "output_type": "stream",
     "text": [
      "      2          0        2846.338         354.454        2491.884           8.113           8.420           3.835           5.122\n"
     ]
    },
    {
     "name": "stdout",
     "output_type": "stream",
     "text": []
    },
    {
     "name": "stderr",
     "output_type": "stream",
     "text": [
      "      2         10        2447.849         600.633        1847.216          10.926          10.960           3.331           4.410\n"
     ]
    },
    {
     "name": "stdout",
     "output_type": "stream",
     "text": []
    },
    {
     "name": "stderr",
     "output_type": "stream",
     "text": [
      "      2         20        2298.156         502.285        1795.870           9.648          10.023           3.296           4.348\n"
     ]
    },
    {
     "name": "stdout",
     "output_type": "stream",
     "text": []
    },
    {
     "name": "stderr",
     "output_type": "stream",
     "text": [
      "      2         30        2606.091         514.124        2091.968          10.031          10.140           3.547           4.693\n"
     ]
    },
    {
     "name": "stdout",
     "output_type": "stream",
     "text": []
    },
    {
     "name": "stderr",
     "output_type": "stream",
     "text": [
      "      2         40        2951.366         604.707        2346.659          10.914          10.997           3.622           4.970\n"
     ]
    },
    {
     "name": "stdout",
     "output_type": "stream",
     "text": []
    },
    {
     "name": "stderr",
     "output_type": "stream",
     "text": [
      "      2         50        3063.666         597.515        2466.152          10.633          10.932           3.641           5.095\n"
     ]
    },
    {
     "name": "stdout",
     "output_type": "stream",
     "text": []
    },
    {
     "name": "stderr",
     "output_type": "stream",
     "text": [
      "      2         60        2988.558         599.154        2389.404          10.867          10.947           3.662           5.015\n"
     ]
    },
    {
     "name": "stdout",
     "output_type": "stream",
     "text": []
    },
    {
     "name": "stderr",
     "output_type": "stream",
     "text": [
      "      2         70        2744.698         595.693        2149.004          10.617          10.915           3.569           4.756\n"
     ]
    },
    {
     "name": "stdout",
     "output_type": "stream",
     "text": []
    },
    {
     "name": "stderr",
     "output_type": "stream",
     "text": [
      "      2         80        2517.097         514.165        2002.932           9.922          10.141           3.519           4.592\n"
     ]
    },
    {
     "name": "stdout",
     "output_type": "stream",
     "text": []
    },
    {
     "name": "stderr",
     "output_type": "stream",
     "text": [
      "      2         90        2459.528         521.282        1938.247          10.102          10.211           3.448           4.517\n"
     ]
    },
    {
     "name": "stdout",
     "output_type": "stream",
     "text": []
    },
    {
     "name": "stderr",
     "output_type": "stream",
     "text": [
      "      2        100        3023.454         849.533        2173.921          12.566          13.035           3.504           4.784\n"
     ]
    },
    {
     "name": "stdout",
     "output_type": "stream",
     "text": []
    },
    {
     "name": "stderr",
     "output_type": "stream",
     "text": [
      "      2        110        2325.590         677.804        1647.786          11.445          11.643           3.197           4.165\n"
     ]
    },
    {
     "name": "stdout",
     "output_type": "stream",
     "text": []
    },
    {
     "name": "stderr",
     "output_type": "stream",
     "text": [
      "      2        120        2284.806         542.464        1742.342           9.863          10.416           3.331           4.283\n"
     ]
    },
    {
     "name": "stdout",
     "output_type": "stream",
     "text": []
    },
    {
     "name": "stderr",
     "output_type": "stream",
     "text": [
      "\n",
      "\n",
      "Epoch summary:\n",
      "Validation  # epoch      total_loss     energy_loss     forces_loss      energy_mae     energy_rmse      forces_mae     forces_rmse\n",
      "                  2        2684.178         568.562        2115.616          10.425          10.664           3.540           4.719\n"
     ]
    },
    {
     "name": "stdout",
     "output_type": "stream",
     "text": [
      "Epoch 2: 100%|██████████| 200/200 [01:03<00:00,  3.14it/s, v_num=32, train_total_loss_step=1.63e+3, train_energy_loss_step=150.0, train_forces_loss_step=1.48e+3, val_total_loss_step=2.86e+3, val_energy_loss_step=598.0, val_forces_loss_step=2.26e+3, val_total_loss_epoch=2.68e+3, val_energy_loss_epoch=569.0, val_forces_loss_epoch=2.12e+3, train_total_loss_epoch=2.33e+3, train_energy_loss_epoch=114.0, train_forces_loss_epoch=2.21e+3]"
     ]
    },
    {
     "name": "stderr",
     "output_type": "stream",
     "text": [
      "Train       # epoch      total_loss     energy_loss     forces_loss      energy_mae     energy_rmse      forces_mae     forces_rmse\n",
      "                  2        2326.523         113.995        2212.528           3.786           4.775           3.610           4.826\n"
     ]
    },
    {
     "name": "stdout",
     "output_type": "stream",
     "text": [
      "Epoch 3:   0%|          | 0/200 [00:00<?, ?it/s, v_num=32, train_total_loss_step=1.63e+3, train_energy_loss_step=150.0, train_forces_loss_step=1.48e+3, val_total_loss_step=2.86e+3, val_energy_loss_step=598.0, val_forces_loss_step=2.26e+3, val_total_loss_epoch=2.68e+3, val_energy_loss_epoch=569.0, val_forces_loss_epoch=2.12e+3, train_total_loss_epoch=2.33e+3, train_energy_loss_epoch=114.0, train_forces_loss_epoch=2.21e+3]          "
     ]
    },
    {
     "name": "stderr",
     "output_type": "stream",
     "text": [
      "\n",
      "\n",
      "Training\n",
      "# epoch      batch      total_loss     energy_loss     forces_loss      energy_mae     energy_rmse      forces_mae     forces_rmse\n",
      "      3          0        2823.954         731.679        2092.275          11.969          12.097           3.618           4.693\n"
     ]
    },
    {
     "name": "stdout",
     "output_type": "stream",
     "text": [
      "Epoch 3:   5%|▌         | 10/200 [00:02<00:44,  4.25it/s, v_num=32, train_total_loss_step=2.64e+3, train_energy_loss_step=58.10, train_forces_loss_step=2.59e+3, val_total_loss_step=2.86e+3, val_energy_loss_step=598.0, val_forces_loss_step=2.26e+3, val_total_loss_epoch=2.68e+3, val_energy_loss_epoch=569.0, val_forces_loss_epoch=2.12e+3, train_total_loss_epoch=2.33e+3, train_energy_loss_epoch=114.0, train_forces_loss_epoch=2.21e+3] "
     ]
    },
    {
     "name": "stderr",
     "output_type": "stream",
     "text": [
      "      3         10        1970.314         306.897        1663.417           7.419           7.835           3.041           4.184\n"
     ]
    },
    {
     "name": "stdout",
     "output_type": "stream",
     "text": [
      "Epoch 3:  10%|█         | 20/200 [00:04<00:40,  4.40it/s, v_num=32, train_total_loss_step=2.52e+3, train_energy_loss_step=81.40, train_forces_loss_step=2.44e+3, val_total_loss_step=2.86e+3, val_energy_loss_step=598.0, val_forces_loss_step=2.26e+3, val_total_loss_epoch=2.68e+3, val_energy_loss_epoch=569.0, val_forces_loss_epoch=2.12e+3, train_total_loss_epoch=2.33e+3, train_energy_loss_epoch=114.0, train_forces_loss_epoch=2.21e+3]"
     ]
    },
    {
     "name": "stderr",
     "output_type": "stream",
     "text": [
      "      3         20        3385.514        1263.818        2121.696          15.675          15.899           3.520           4.726\n"
     ]
    },
    {
     "name": "stdout",
     "output_type": "stream",
     "text": [
      "Epoch 3:  15%|█▌        | 30/200 [00:06<00:38,  4.44it/s, v_num=32, train_total_loss_step=2.16e+3, train_energy_loss_step=51.40, train_forces_loss_step=2.11e+3, val_total_loss_step=2.86e+3, val_energy_loss_step=598.0, val_forces_loss_step=2.26e+3, val_total_loss_epoch=2.68e+3, val_energy_loss_epoch=569.0, val_forces_loss_epoch=2.12e+3, train_total_loss_epoch=2.33e+3, train_energy_loss_epoch=114.0, train_forces_loss_epoch=2.21e+3]  "
     ]
    },
    {
     "name": "stderr",
     "output_type": "stream",
     "text": [
      "      3         30        2077.525         421.843        1655.682           8.781           9.185           3.218           4.175\n"
     ]
    },
    {
     "name": "stdout",
     "output_type": "stream",
     "text": [
      "Epoch 3:  20%|██        | 40/200 [00:08<00:35,  4.47it/s, v_num=32, train_total_loss_step=2.16e+3, train_energy_loss_step=137.0, train_forces_loss_step=2.02e+3, val_total_loss_step=2.86e+3, val_energy_loss_step=598.0, val_forces_loss_step=2.26e+3, val_total_loss_epoch=2.68e+3, val_energy_loss_epoch=569.0, val_forces_loss_epoch=2.12e+3, train_total_loss_epoch=2.33e+3, train_energy_loss_epoch=114.0, train_forces_loss_epoch=2.21e+3]"
     ]
    },
    {
     "name": "stderr",
     "output_type": "stream",
     "text": [
      "      3         40        2024.074          28.367        1995.707           2.100           2.382           3.416           4.583\n"
     ]
    },
    {
     "name": "stdout",
     "output_type": "stream",
     "text": [
      "Epoch 3:  25%|██▌       | 50/200 [00:11<00:33,  4.49it/s, v_num=32, train_total_loss_step=1.66e+3, train_energy_loss_step=13.10, train_forces_loss_step=1.65e+3, val_total_loss_step=2.86e+3, val_energy_loss_step=598.0, val_forces_loss_step=2.26e+3, val_total_loss_epoch=2.68e+3, val_energy_loss_epoch=569.0, val_forces_loss_epoch=2.12e+3, train_total_loss_epoch=2.33e+3, train_energy_loss_epoch=114.0, train_forces_loss_epoch=2.21e+3]"
     ]
    },
    {
     "name": "stderr",
     "output_type": "stream",
     "text": [
      "      3         50        1618.888         125.563        1493.325           4.769           5.011           3.094           3.965\n"
     ]
    },
    {
     "name": "stdout",
     "output_type": "stream",
     "text": [
      "Epoch 3:  30%|███       | 60/200 [00:13<00:31,  4.50it/s, v_num=32, train_total_loss_step=1.71e+3, train_energy_loss_step=17.90, train_forces_loss_step=1.69e+3, val_total_loss_step=2.86e+3, val_energy_loss_step=598.0, val_forces_loss_step=2.26e+3, val_total_loss_epoch=2.68e+3, val_energy_loss_epoch=569.0, val_forces_loss_epoch=2.12e+3, train_total_loss_epoch=2.33e+3, train_energy_loss_epoch=114.0, train_forces_loss_epoch=2.21e+3]"
     ]
    },
    {
     "name": "stderr",
     "output_type": "stream",
     "text": [
      "      3         60        2215.215          79.374        2135.841           3.794           3.984           3.533           4.742\n"
     ]
    },
    {
     "name": "stdout",
     "output_type": "stream",
     "text": [
      "Epoch 3:  35%|███▌      | 70/200 [00:15<00:28,  4.51it/s, v_num=32, train_total_loss_step=1.97e+3, train_energy_loss_step=59.10, train_forces_loss_step=1.91e+3, val_total_loss_step=2.86e+3, val_energy_loss_step=598.0, val_forces_loss_step=2.26e+3, val_total_loss_epoch=2.68e+3, val_energy_loss_epoch=569.0, val_forces_loss_epoch=2.12e+3, train_total_loss_epoch=2.33e+3, train_energy_loss_epoch=114.0, train_forces_loss_epoch=2.21e+3]"
     ]
    },
    {
     "name": "stderr",
     "output_type": "stream",
     "text": [
      "      3         70        1484.529          45.412        1439.117           2.888           3.014           2.958           3.892\n"
     ]
    },
    {
     "name": "stdout",
     "output_type": "stream",
     "text": [
      "Epoch 3:  40%|████      | 80/200 [00:17<00:26,  4.52it/s, v_num=32, train_total_loss_step=1.55e+3, train_energy_loss_step=22.80, train_forces_loss_step=1.52e+3, val_total_loss_step=2.86e+3, val_energy_loss_step=598.0, val_forces_loss_step=2.26e+3, val_total_loss_epoch=2.68e+3, val_energy_loss_epoch=569.0, val_forces_loss_epoch=2.12e+3, train_total_loss_epoch=2.33e+3, train_energy_loss_epoch=114.0, train_forces_loss_epoch=2.21e+3]"
     ]
    },
    {
     "name": "stderr",
     "output_type": "stream",
     "text": [
      "      3         80        2002.531         170.851        1831.680           5.369           5.846           2.975           4.391\n"
     ]
    },
    {
     "name": "stdout",
     "output_type": "stream",
     "text": [
      "Epoch 3:  45%|████▌     | 90/200 [00:20<00:24,  4.48it/s, v_num=32, train_total_loss_step=1.39e+3, train_energy_loss_step=27.20, train_forces_loss_step=1.37e+3, val_total_loss_step=2.86e+3, val_energy_loss_step=598.0, val_forces_loss_step=2.26e+3, val_total_loss_epoch=2.68e+3, val_energy_loss_epoch=569.0, val_forces_loss_epoch=2.12e+3, train_total_loss_epoch=2.33e+3, train_energy_loss_epoch=114.0, train_forces_loss_epoch=2.21e+3]"
     ]
    },
    {
     "name": "stderr",
     "output_type": "stream",
     "text": [
      "      3         90        2338.578         151.157        2187.421           4.506           5.498           3.316           4.798\n"
     ]
    },
    {
     "name": "stdout",
     "output_type": "stream",
     "text": [
      "Epoch 3:  50%|█████     | 100/200 [00:22<00:22,  4.35it/s, v_num=32, train_total_loss_step=1.25e+3, train_energy_loss_step=8.580, train_forces_loss_step=1.25e+3, val_total_loss_step=2.86e+3, val_energy_loss_step=598.0, val_forces_loss_step=2.26e+3, val_total_loss_epoch=2.68e+3, val_energy_loss_epoch=569.0, val_forces_loss_epoch=2.12e+3, train_total_loss_epoch=2.33e+3, train_energy_loss_epoch=114.0, train_forces_loss_epoch=2.21e+3]"
     ]
    },
    {
     "name": "stderr",
     "output_type": "stream",
     "text": [
      "      3        100        1454.021          48.373        1405.647           2.650           3.110           2.884           3.847\n"
     ]
    },
    {
     "name": "stdout",
     "output_type": "stream",
     "text": [
      "Epoch 3:  55%|█████▌    | 110/200 [00:25<00:21,  4.27it/s, v_num=32, train_total_loss_step=1.64e+3, train_energy_loss_step=34.50, train_forces_loss_step=1.61e+3, val_total_loss_step=2.86e+3, val_energy_loss_step=598.0, val_forces_loss_step=2.26e+3, val_total_loss_epoch=2.68e+3, val_energy_loss_epoch=569.0, val_forces_loss_epoch=2.12e+3, train_total_loss_epoch=2.33e+3, train_energy_loss_epoch=114.0, train_forces_loss_epoch=2.21e+3]"
     ]
    },
    {
     "name": "stderr",
     "output_type": "stream",
     "text": [
      "      3        110        1594.960         315.068        1279.891           7.688           7.938           2.813           3.670\n"
     ]
    },
    {
     "name": "stdout",
     "output_type": "stream",
     "text": [
      "Epoch 3:  60%|██████    | 120/200 [00:28<00:19,  4.21it/s, v_num=32, train_total_loss_step=2.38e+3, train_energy_loss_step=34.20, train_forces_loss_step=2.35e+3, val_total_loss_step=2.86e+3, val_energy_loss_step=598.0, val_forces_loss_step=2.26e+3, val_total_loss_epoch=2.68e+3, val_energy_loss_epoch=569.0, val_forces_loss_epoch=2.12e+3, train_total_loss_epoch=2.33e+3, train_energy_loss_epoch=114.0, train_forces_loss_epoch=2.21e+3]"
     ]
    },
    {
     "name": "stderr",
     "output_type": "stream",
     "text": [
      "      3        120        1747.038         248.344        1498.694           6.900           7.048           2.993           3.972\n"
     ]
    },
    {
     "name": "stdout",
     "output_type": "stream",
     "text": [
      "Epoch 3:  65%|██████▌   | 130/200 [00:30<00:16,  4.21it/s, v_num=32, train_total_loss_step=1.21e+3, train_energy_loss_step=8.060, train_forces_loss_step=1.21e+3, val_total_loss_step=2.86e+3, val_energy_loss_step=598.0, val_forces_loss_step=2.26e+3, val_total_loss_epoch=2.68e+3, val_energy_loss_epoch=569.0, val_forces_loss_epoch=2.12e+3, train_total_loss_epoch=2.33e+3, train_energy_loss_epoch=114.0, train_forces_loss_epoch=2.21e+3]"
     ]
    },
    {
     "name": "stderr",
     "output_type": "stream",
     "text": [
      "      3        130        1455.376          13.171        1442.205           1.269           1.623           2.940           3.896\n"
     ]
    },
    {
     "name": "stdout",
     "output_type": "stream",
     "text": [
      "Epoch 3:  70%|███████   | 140/200 [00:33<00:14,  4.23it/s, v_num=32, train_total_loss_step=1.39e+3, train_energy_loss_step=155.0, train_forces_loss_step=1.23e+3, val_total_loss_step=2.86e+3, val_energy_loss_step=598.0, val_forces_loss_step=2.26e+3, val_total_loss_epoch=2.68e+3, val_energy_loss_epoch=569.0, val_forces_loss_epoch=2.12e+3, train_total_loss_epoch=2.33e+3, train_energy_loss_epoch=114.0, train_forces_loss_epoch=2.21e+3]"
     ]
    },
    {
     "name": "stderr",
     "output_type": "stream",
     "text": [
      "      3        140        1920.256         127.192        1793.064           4.994           5.044           3.223           4.344\n"
     ]
    },
    {
     "name": "stdout",
     "output_type": "stream",
     "text": [
      "Epoch 3:  75%|███████▌  | 150/200 [00:35<00:11,  4.24it/s, v_num=32, train_total_loss_step=1.92e+3, train_energy_loss_step=477.0, train_forces_loss_step=1.45e+3, val_total_loss_step=2.86e+3, val_energy_loss_step=598.0, val_forces_loss_step=2.26e+3, val_total_loss_epoch=2.68e+3, val_energy_loss_epoch=569.0, val_forces_loss_epoch=2.12e+3, train_total_loss_epoch=2.33e+3, train_energy_loss_epoch=114.0, train_forces_loss_epoch=2.21e+3]"
     ]
    },
    {
     "name": "stderr",
     "output_type": "stream",
     "text": [
      "      3        150        1243.477          29.922        1213.555           2.175           2.446           2.614           3.574\n"
     ]
    },
    {
     "name": "stdout",
     "output_type": "stream",
     "text": [
      "Epoch 3:  80%|████████  | 160/200 [00:37<00:09,  4.25it/s, v_num=32, train_total_loss_step=1.48e+3, train_energy_loss_step=66.10, train_forces_loss_step=1.41e+3, val_total_loss_step=2.86e+3, val_energy_loss_step=598.0, val_forces_loss_step=2.26e+3, val_total_loss_epoch=2.68e+3, val_energy_loss_epoch=569.0, val_forces_loss_epoch=2.12e+3, train_total_loss_epoch=2.33e+3, train_energy_loss_epoch=114.0, train_forces_loss_epoch=2.21e+3]  "
     ]
    },
    {
     "name": "stderr",
     "output_type": "stream",
     "text": [
      "      3        160        2133.097         602.216        1530.881          10.719          10.975           2.949           4.014\n"
     ]
    },
    {
     "name": "stdout",
     "output_type": "stream",
     "text": [
      "Epoch 3:  85%|████████▌ | 170/200 [00:39<00:07,  4.26it/s, v_num=32, train_total_loss_step=1.7e+3, train_energy_loss_step=98.60, train_forces_loss_step=1.6e+3, val_total_loss_step=2.86e+3, val_energy_loss_step=598.0, val_forces_loss_step=2.26e+3, val_total_loss_epoch=2.68e+3, val_energy_loss_epoch=569.0, val_forces_loss_epoch=2.12e+3, train_total_loss_epoch=2.33e+3, train_energy_loss_epoch=114.0, train_forces_loss_epoch=2.21e+3]  "
     ]
    },
    {
     "name": "stderr",
     "output_type": "stream",
     "text": [
      "      3        170        1673.119          25.768        1647.352           1.938           2.270           3.272           4.164\n"
     ]
    },
    {
     "name": "stdout",
     "output_type": "stream",
     "text": [
      "Epoch 3:  90%|█████████ | 180/200 [00:42<00:04,  4.27it/s, v_num=32, train_total_loss_step=2.06e+3, train_energy_loss_step=46.30, train_forces_loss_step=2.02e+3, val_total_loss_step=2.86e+3, val_energy_loss_step=598.0, val_forces_loss_step=2.26e+3, val_total_loss_epoch=2.68e+3, val_energy_loss_epoch=569.0, val_forces_loss_epoch=2.12e+3, train_total_loss_epoch=2.33e+3, train_energy_loss_epoch=114.0, train_forces_loss_epoch=2.21e+3]"
     ]
    },
    {
     "name": "stderr",
     "output_type": "stream",
     "text": [
      "      3        180        1655.523          78.613        1576.910           3.938           3.965           3.145           4.074\n"
     ]
    },
    {
     "name": "stdout",
     "output_type": "stream",
     "text": [
      "Epoch 3:  95%|█████████▌| 190/200 [00:44<00:02,  4.29it/s, v_num=32, train_total_loss_step=2e+3, train_energy_loss_step=24.70, train_forces_loss_step=1.97e+3, val_total_loss_step=2.86e+3, val_energy_loss_step=598.0, val_forces_loss_step=2.26e+3, val_total_loss_epoch=2.68e+3, val_energy_loss_epoch=569.0, val_forces_loss_epoch=2.12e+3, train_total_loss_epoch=2.33e+3, train_energy_loss_epoch=114.0, train_forces_loss_epoch=2.21e+3]   "
     ]
    },
    {
     "name": "stderr",
     "output_type": "stream",
     "text": [
      "      3        190        1635.541         255.006        1380.535           6.500           7.142           2.986           3.812\n"
     ]
    },
    {
     "name": "stdout",
     "output_type": "stream",
     "text": [
      "Epoch 3: 100%|██████████| 200/200 [00:46<00:00,  4.30it/s, v_num=32, train_total_loss_step=1.47e+3, train_energy_loss_step=66.60, train_forces_loss_step=1.4e+3, val_total_loss_step=2.86e+3, val_energy_loss_step=598.0, val_forces_loss_step=2.26e+3, val_total_loss_epoch=2.68e+3, val_energy_loss_epoch=569.0, val_forces_loss_epoch=2.12e+3, train_total_loss_epoch=2.33e+3, train_energy_loss_epoch=114.0, train_forces_loss_epoch=2.21e+3] "
     ]
    },
    {
     "name": "stderr",
     "output_type": "stream",
     "text": [
      "\n",
      "\n",
      "Validating\n",
      "# epoch      batch      total_loss     energy_loss     forces_loss      energy_mae     energy_rmse      forces_mae     forces_rmse\n"
     ]
    },
    {
     "name": "stdout",
     "output_type": "stream",
     "text": []
    },
    {
     "name": "stderr",
     "output_type": "stream",
     "text": [
      "      3          0        1770.674         121.592        1649.081           4.707           4.931           3.068           4.166\n"
     ]
    },
    {
     "name": "stdout",
     "output_type": "stream",
     "text": []
    },
    {
     "name": "stderr",
     "output_type": "stream",
     "text": [
      "      3         10        1460.633          21.322        1439.311           1.922           2.065           2.838           3.892\n"
     ]
    },
    {
     "name": "stdout",
     "output_type": "stream",
     "text": []
    },
    {
     "name": "stderr",
     "output_type": "stream",
     "text": [
      "      3         20        1512.301          75.110        1437.191           3.203           3.876           2.927           3.890\n"
     ]
    },
    {
     "name": "stdout",
     "output_type": "stream",
     "text": []
    },
    {
     "name": "stderr",
     "output_type": "stream",
     "text": [
      "      3         30        1721.083          53.827        1667.256           2.750           3.281           3.166           4.189\n"
     ]
    },
    {
     "name": "stdout",
     "output_type": "stream",
     "text": []
    },
    {
     "name": "stderr",
     "output_type": "stream",
     "text": [
      "      3         40        1691.480          36.046        1655.434           2.578           2.685           3.014           4.174\n"
     ]
    },
    {
     "name": "stdout",
     "output_type": "stream",
     "text": []
    },
    {
     "name": "stderr",
     "output_type": "stream",
     "text": [
      "      3         50        2038.002          37.828        2000.173           2.438           2.751           3.223           4.589\n"
     ]
    },
    {
     "name": "stdout",
     "output_type": "stream",
     "text": []
    },
    {
     "name": "stderr",
     "output_type": "stream",
     "text": [
      "      3         60        1932.699          48.817        1883.881           2.852           3.125           3.266           4.453\n"
     ]
    },
    {
     "name": "stdout",
     "output_type": "stream",
     "text": []
    },
    {
     "name": "stderr",
     "output_type": "stream",
     "text": [
      "      3         70        1536.649          79.104        1457.545           3.008           3.978           2.831           3.917\n"
     ]
    },
    {
     "name": "stdout",
     "output_type": "stream",
     "text": []
    },
    {
     "name": "stderr",
     "output_type": "stream",
     "text": [
      "      3         80        1545.834          53.634        1492.200           2.742           3.275           2.950           3.963\n"
     ]
    },
    {
     "name": "stdout",
     "output_type": "stream",
     "text": []
    },
    {
     "name": "stderr",
     "output_type": "stream",
     "text": [
      "      3         90        1574.205          48.160        1526.045           2.930           3.104           2.967           4.008\n"
     ]
    },
    {
     "name": "stdout",
     "output_type": "stream",
     "text": []
    },
    {
     "name": "stderr",
     "output_type": "stream",
     "text": [
      "      3        100        1862.047          54.131        1807.916           2.855           3.290           2.974           4.362\n"
     ]
    },
    {
     "name": "stdout",
     "output_type": "stream",
     "text": []
    },
    {
     "name": "stderr",
     "output_type": "stream",
     "text": [
      "      3        110        1527.409          39.507        1487.902           2.043           2.811           2.911           3.958\n"
     ]
    },
    {
     "name": "stdout",
     "output_type": "stream",
     "text": []
    },
    {
     "name": "stderr",
     "output_type": "stream",
     "text": [
      "      3        120        1405.987          98.427        1307.559           3.816           4.437           2.842           3.710\n"
     ]
    },
    {
     "name": "stdout",
     "output_type": "stream",
     "text": []
    },
    {
     "name": "stderr",
     "output_type": "stream",
     "text": [
      "\n",
      "\n",
      "Epoch summary:\n",
      "Validation  # epoch      total_loss     energy_loss     forces_loss      energy_mae     energy_rmse      forces_mae     forces_rmse\n",
      "                  3        1674.713          51.316        1623.397           2.691           3.204           3.038           4.134\n"
     ]
    },
    {
     "name": "stdout",
     "output_type": "stream",
     "text": [
      "Epoch 3: 100%|██████████| 200/200 [01:06<00:00,  3.01it/s, v_num=32, train_total_loss_step=1.47e+3, train_energy_loss_step=66.60, train_forces_loss_step=1.4e+3, val_total_loss_step=2.08e+3, val_energy_loss_step=50.40, val_forces_loss_step=2.03e+3, val_total_loss_epoch=1.67e+3, val_energy_loss_epoch=51.30, val_forces_loss_epoch=1.62e+3, train_total_loss_epoch=1.86e+3, train_energy_loss_epoch=184.0, train_forces_loss_epoch=1.67e+3]"
     ]
    },
    {
     "name": "stderr",
     "output_type": "stream",
     "text": [
      "Train       # epoch      total_loss     energy_loss     forces_loss      energy_mae     energy_rmse      forces_mae     forces_rmse\n",
      "                  3        1857.377         183.944        1673.432           4.835           6.065           3.126           4.197\n"
     ]
    },
    {
     "name": "stdout",
     "output_type": "stream",
     "text": [
      "Epoch 4:   0%|          | 0/200 [00:00<?, ?it/s, v_num=32, train_total_loss_step=1.47e+3, train_energy_loss_step=66.60, train_forces_loss_step=1.4e+3, val_total_loss_step=2.08e+3, val_energy_loss_step=50.40, val_forces_loss_step=2.03e+3, val_total_loss_epoch=1.67e+3, val_energy_loss_epoch=51.30, val_forces_loss_epoch=1.62e+3, train_total_loss_epoch=1.86e+3, train_energy_loss_epoch=184.0, train_forces_loss_epoch=1.67e+3]          "
     ]
    },
    {
     "name": "stderr",
     "output_type": "stream",
     "text": [
      "\n",
      "\n",
      "Training\n",
      "# epoch      batch      total_loss     energy_loss     forces_loss      energy_mae     energy_rmse      forces_mae     forces_rmse\n",
      "      4          0        1138.896          43.760        1095.136           2.750           2.958           2.548           3.395\n"
     ]
    },
    {
     "name": "stdout",
     "output_type": "stream",
     "text": [
      "Epoch 4:   5%|▌         | 10/200 [00:02<00:44,  4.31it/s, v_num=32, train_total_loss_step=1.72e+3, train_energy_loss_step=43.40, train_forces_loss_step=1.67e+3, val_total_loss_step=2.08e+3, val_energy_loss_step=50.40, val_forces_loss_step=2.03e+3, val_total_loss_epoch=1.67e+3, val_energy_loss_epoch=51.30, val_forces_loss_epoch=1.62e+3, train_total_loss_epoch=1.86e+3, train_energy_loss_epoch=184.0, train_forces_loss_epoch=1.67e+3]"
     ]
    },
    {
     "name": "stderr",
     "output_type": "stream",
     "text": [
      "      4         10        1399.977          45.733        1354.243           2.731           3.024           2.752           3.776\n"
     ]
    },
    {
     "name": "stdout",
     "output_type": "stream",
     "text": [
      "Epoch 4:  10%|█         | 20/200 [00:04<00:39,  4.51it/s, v_num=32, train_total_loss_step=1.48e+3, train_energy_loss_step=121.0, train_forces_loss_step=1.36e+3, val_total_loss_step=2.08e+3, val_energy_loss_step=50.40, val_forces_loss_step=2.03e+3, val_total_loss_epoch=1.67e+3, val_energy_loss_epoch=51.30, val_forces_loss_epoch=1.62e+3, train_total_loss_epoch=1.86e+3, train_energy_loss_epoch=184.0, train_forces_loss_epoch=1.67e+3]"
     ]
    },
    {
     "name": "stderr",
     "output_type": "stream",
     "text": [
      "      4         20        2388.749         747.663        1641.086          12.156          12.228           3.047           4.156\n"
     ]
    },
    {
     "name": "stdout",
     "output_type": "stream",
     "text": [
      "Epoch 4:  15%|█▌        | 30/200 [00:06<00:37,  4.58it/s, v_num=32, train_total_loss_step=1.87e+3, train_energy_loss_step=252.0, train_forces_loss_step=1.61e+3, val_total_loss_step=2.08e+3, val_energy_loss_step=50.40, val_forces_loss_step=2.03e+3, val_total_loss_epoch=1.67e+3, val_energy_loss_epoch=51.30, val_forces_loss_epoch=1.62e+3, train_total_loss_epoch=1.86e+3, train_energy_loss_epoch=184.0, train_forces_loss_epoch=1.67e+3]"
     ]
    },
    {
     "name": "stderr",
     "output_type": "stream",
     "text": [
      "      4         30        1484.018          53.878        1430.140           2.881           3.283           2.903           3.880\n"
     ]
    },
    {
     "name": "stdout",
     "output_type": "stream",
     "text": [
      "Epoch 4:  20%|██        | 40/200 [00:08<00:34,  4.62it/s, v_num=32, train_total_loss_step=1.33e+3, train_energy_loss_step=158.0, train_forces_loss_step=1.18e+3, val_total_loss_step=2.08e+3, val_energy_loss_step=50.40, val_forces_loss_step=2.03e+3, val_total_loss_epoch=1.67e+3, val_energy_loss_epoch=51.30, val_forces_loss_epoch=1.62e+3, train_total_loss_epoch=1.86e+3, train_energy_loss_epoch=184.0, train_forces_loss_epoch=1.67e+3]"
     ]
    },
    {
     "name": "stderr",
     "output_type": "stream",
     "text": [
      "      4         40        1409.461         157.717        1251.744           5.150           5.616           2.722           3.630\n"
     ]
    },
    {
     "name": "stdout",
     "output_type": "stream",
     "text": [
      "Epoch 4:  25%|██▌       | 50/200 [00:10<00:32,  4.63it/s, v_num=32, train_total_loss_step=1.66e+3, train_energy_loss_step=275.0, train_forces_loss_step=1.39e+3, val_total_loss_step=2.08e+3, val_energy_loss_step=50.40, val_forces_loss_step=2.03e+3, val_total_loss_epoch=1.67e+3, val_energy_loss_epoch=51.30, val_forces_loss_epoch=1.62e+3, train_total_loss_epoch=1.86e+3, train_energy_loss_epoch=184.0, train_forces_loss_epoch=1.67e+3]"
     ]
    },
    {
     "name": "stderr",
     "output_type": "stream",
     "text": [
      "      4         50        1560.095         133.363        1426.732           5.062           5.165           2.812           3.875\n"
     ]
    },
    {
     "name": "stdout",
     "output_type": "stream",
     "text": [
      "Epoch 4:  30%|███       | 60/200 [00:12<00:30,  4.64it/s, v_num=32, train_total_loss_step=1.83e+3, train_energy_loss_step=208.0, train_forces_loss_step=1.63e+3, val_total_loss_step=2.08e+3, val_energy_loss_step=50.40, val_forces_loss_step=2.03e+3, val_total_loss_epoch=1.67e+3, val_energy_loss_epoch=51.30, val_forces_loss_epoch=1.62e+3, train_total_loss_epoch=1.86e+3, train_energy_loss_epoch=184.0, train_forces_loss_epoch=1.67e+3]"
     ]
    },
    {
     "name": "stderr",
     "output_type": "stream",
     "text": [
      "      4         60         838.674          15.346         823.328           1.562           1.752           2.227           2.944\n"
     ]
    },
    {
     "name": "stdout",
     "output_type": "stream",
     "text": [
      "Epoch 4:  35%|███▌      | 70/200 [00:15<00:27,  4.66it/s, v_num=32, train_total_loss_step=1.64e+3, train_energy_loss_step=20.30, train_forces_loss_step=1.62e+3, val_total_loss_step=2.08e+3, val_energy_loss_step=50.40, val_forces_loss_step=2.03e+3, val_total_loss_epoch=1.67e+3, val_energy_loss_epoch=51.30, val_forces_loss_epoch=1.62e+3, train_total_loss_epoch=1.86e+3, train_energy_loss_epoch=184.0, train_forces_loss_epoch=1.67e+3]"
     ]
    },
    {
     "name": "stderr",
     "output_type": "stream",
     "text": [
      "      4         70        1806.419          46.940        1759.479           2.706           3.064           3.166           4.304\n"
     ]
    },
    {
     "name": "stdout",
     "output_type": "stream",
     "text": [
      "Epoch 4:  40%|████      | 80/200 [00:17<00:25,  4.67it/s, v_num=32, train_total_loss_step=1.45e+3, train_energy_loss_step=12.40, train_forces_loss_step=1.44e+3, val_total_loss_step=2.08e+3, val_energy_loss_step=50.40, val_forces_loss_step=2.03e+3, val_total_loss_epoch=1.67e+3, val_energy_loss_epoch=51.30, val_forces_loss_epoch=1.62e+3, train_total_loss_epoch=1.86e+3, train_energy_loss_epoch=184.0, train_forces_loss_epoch=1.67e+3]"
     ]
    },
    {
     "name": "stderr",
     "output_type": "stream",
     "text": [
      "      4         80        1124.378          40.609        1083.769           2.575           2.850           2.595           3.378\n"
     ]
    },
    {
     "name": "stdout",
     "output_type": "stream",
     "text": [
      "Epoch 4:  45%|████▌     | 90/200 [00:19<00:23,  4.68it/s, v_num=32, train_total_loss_step=1.86e+3, train_energy_loss_step=23.70, train_forces_loss_step=1.84e+3, val_total_loss_step=2.08e+3, val_energy_loss_step=50.40, val_forces_loss_step=2.03e+3, val_total_loss_epoch=1.67e+3, val_energy_loss_epoch=51.30, val_forces_loss_epoch=1.62e+3, train_total_loss_epoch=1.86e+3, train_energy_loss_epoch=184.0, train_forces_loss_epoch=1.67e+3]"
     ]
    },
    {
     "name": "stderr",
     "output_type": "stream",
     "text": [
      "      4         90        1493.036          22.581        1470.455           1.669           2.125           2.876           3.934\n"
     ]
    },
    {
     "name": "stdout",
     "output_type": "stream",
     "text": [
      "Epoch 4:  50%|█████     | 100/200 [00:21<00:21,  4.68it/s, v_num=32, train_total_loss_step=1.23e+3, train_energy_loss_step=31.10, train_forces_loss_step=1.2e+3, val_total_loss_step=2.08e+3, val_energy_loss_step=50.40, val_forces_loss_step=2.03e+3, val_total_loss_epoch=1.67e+3, val_energy_loss_epoch=51.30, val_forces_loss_epoch=1.62e+3, train_total_loss_epoch=1.86e+3, train_energy_loss_epoch=184.0, train_forces_loss_epoch=1.67e+3] "
     ]
    },
    {
     "name": "stderr",
     "output_type": "stream",
     "text": [
      "      4        100        1562.970          29.960        1533.010           2.044           2.448           2.933           4.017\n"
     ]
    },
    {
     "name": "stdout",
     "output_type": "stream",
     "text": [
      "Epoch 4:  55%|█████▌    | 110/200 [00:23<00:19,  4.68it/s, v_num=32, train_total_loss_step=1.44e+3, train_energy_loss_step=8.380, train_forces_loss_step=1.43e+3, val_total_loss_step=2.08e+3, val_energy_loss_step=50.40, val_forces_loss_step=2.03e+3, val_total_loss_epoch=1.67e+3, val_energy_loss_epoch=51.30, val_forces_loss_epoch=1.62e+3, train_total_loss_epoch=1.86e+3, train_energy_loss_epoch=184.0, train_forces_loss_epoch=1.67e+3]"
     ]
    },
    {
     "name": "stderr",
     "output_type": "stream",
     "text": [
      "      4        110        2138.404          39.122        2099.282           2.244           2.797           3.285           4.701\n"
     ]
    },
    {
     "name": "stdout",
     "output_type": "stream",
     "text": [
      "Epoch 4:  60%|██████    | 120/200 [00:25<00:17,  4.69it/s, v_num=32, train_total_loss_step=1.7e+3, train_energy_loss_step=198.0, train_forces_loss_step=1.5e+3, val_total_loss_step=2.08e+3, val_energy_loss_step=50.40, val_forces_loss_step=2.03e+3, val_total_loss_epoch=1.67e+3, val_energy_loss_epoch=51.30, val_forces_loss_epoch=1.62e+3, train_total_loss_epoch=1.86e+3, train_energy_loss_epoch=184.0, train_forces_loss_epoch=1.67e+3]  "
     ]
    },
    {
     "name": "stderr",
     "output_type": "stream",
     "text": [
      "      4        120        1267.296         227.632        1039.665           6.631           6.747           2.491           3.308\n"
     ]
    },
    {
     "name": "stdout",
     "output_type": "stream",
     "text": [
      "Epoch 4:  65%|██████▌   | 130/200 [00:27<00:14,  4.69it/s, v_num=32, train_total_loss_step=1.13e+3, train_energy_loss_step=49.90, train_forces_loss_step=1.08e+3, val_total_loss_step=2.08e+3, val_energy_loss_step=50.40, val_forces_loss_step=2.03e+3, val_total_loss_epoch=1.67e+3, val_energy_loss_epoch=51.30, val_forces_loss_epoch=1.62e+3, train_total_loss_epoch=1.86e+3, train_energy_loss_epoch=184.0, train_forces_loss_epoch=1.67e+3]"
     ]
    },
    {
     "name": "stderr",
     "output_type": "stream",
     "text": [
      "      4        130        1117.560          52.905        1064.654           2.906           3.253           2.462           3.348\n"
     ]
    },
    {
     "name": "stdout",
     "output_type": "stream",
     "text": [
      "Epoch 4:  70%|███████   | 140/200 [00:29<00:12,  4.69it/s, v_num=32, train_total_loss_step=1.32e+3, train_energy_loss_step=27.90, train_forces_loss_step=1.29e+3, val_total_loss_step=2.08e+3, val_energy_loss_step=50.40, val_forces_loss_step=2.03e+3, val_total_loss_epoch=1.67e+3, val_energy_loss_epoch=51.30, val_forces_loss_epoch=1.62e+3, train_total_loss_epoch=1.86e+3, train_energy_loss_epoch=184.0, train_forces_loss_epoch=1.67e+3]"
     ]
    },
    {
     "name": "stderr",
     "output_type": "stream",
     "text": [
      "      4        140        1403.047          51.622        1351.425           2.606           3.213           2.740           3.772\n"
     ]
    },
    {
     "name": "stdout",
     "output_type": "stream",
     "text": [
      "Epoch 4:  75%|███████▌  | 150/200 [00:31<00:10,  4.70it/s, v_num=32, train_total_loss_step=1.38e+3, train_energy_loss_step=107.0, train_forces_loss_step=1.27e+3, val_total_loss_step=2.08e+3, val_energy_loss_step=50.40, val_forces_loss_step=2.03e+3, val_total_loss_epoch=1.67e+3, val_energy_loss_epoch=51.30, val_forces_loss_epoch=1.62e+3, train_total_loss_epoch=1.86e+3, train_energy_loss_epoch=184.0, train_forces_loss_epoch=1.67e+3]"
     ]
    },
    {
     "name": "stderr",
     "output_type": "stream",
     "text": [
      "      4        150        1538.652         166.976        1371.677           5.569           5.779           2.899           3.800\n"
     ]
    },
    {
     "name": "stdout",
     "output_type": "stream",
     "text": [
      "Epoch 4:  80%|████████  | 160/200 [00:34<00:08,  4.70it/s, v_num=32, train_total_loss_step=1.44e+3, train_energy_loss_step=33.20, train_forces_loss_step=1.41e+3, val_total_loss_step=2.08e+3, val_energy_loss_step=50.40, val_forces_loss_step=2.03e+3, val_total_loss_epoch=1.67e+3, val_energy_loss_epoch=51.30, val_forces_loss_epoch=1.62e+3, train_total_loss_epoch=1.86e+3, train_energy_loss_epoch=184.0, train_forces_loss_epoch=1.67e+3]"
     ]
    },
    {
     "name": "stderr",
     "output_type": "stream",
     "text": [
      "      4        160        1331.525         117.896        1213.629           4.450           4.856           2.663           3.574\n"
     ]
    },
    {
     "name": "stdout",
     "output_type": "stream",
     "text": [
      "Epoch 4:  85%|████████▌ | 170/200 [00:36<00:06,  4.70it/s, v_num=32, train_total_loss_step=1.25e+3, train_energy_loss_step=184.0, train_forces_loss_step=1.07e+3, val_total_loss_step=2.08e+3, val_energy_loss_step=50.40, val_forces_loss_step=2.03e+3, val_total_loss_epoch=1.67e+3, val_energy_loss_epoch=51.30, val_forces_loss_epoch=1.62e+3, train_total_loss_epoch=1.86e+3, train_energy_loss_epoch=184.0, train_forces_loss_epoch=1.67e+3]"
     ]
    },
    {
     "name": "stderr",
     "output_type": "stream",
     "text": [
      "      4        170        1515.924          38.170        1477.754           2.287           2.763           2.897           3.944\n"
     ]
    },
    {
     "name": "stdout",
     "output_type": "stream",
     "text": [
      "Epoch 4:  90%|█████████ | 180/200 [00:38<00:04,  4.70it/s, v_num=32, train_total_loss_step=2.03e+3, train_energy_loss_step=607.0, train_forces_loss_step=1.43e+3, val_total_loss_step=2.08e+3, val_energy_loss_step=50.40, val_forces_loss_step=2.03e+3, val_total_loss_epoch=1.67e+3, val_energy_loss_epoch=51.30, val_forces_loss_epoch=1.62e+3, train_total_loss_epoch=1.86e+3, train_energy_loss_epoch=184.0, train_forces_loss_epoch=1.67e+3]"
     ]
    },
    {
     "name": "stderr",
     "output_type": "stream",
     "text": [
      "      4        180        1329.225         146.064        1183.160           4.975           5.405           2.690           3.529\n"
     ]
    },
    {
     "name": "stdout",
     "output_type": "stream",
     "text": [
      "Epoch 4:  95%|█████████▌| 190/200 [00:40<00:02,  4.70it/s, v_num=32, train_total_loss_step=1.57e+3, train_energy_loss_step=338.0, train_forces_loss_step=1.23e+3, val_total_loss_step=2.08e+3, val_energy_loss_step=50.40, val_forces_loss_step=2.03e+3, val_total_loss_epoch=1.67e+3, val_energy_loss_epoch=51.30, val_forces_loss_epoch=1.62e+3, train_total_loss_epoch=1.86e+3, train_energy_loss_epoch=184.0, train_forces_loss_epoch=1.67e+3]"
     ]
    },
    {
     "name": "stderr",
     "output_type": "stream",
     "text": [
      "      4        190        1461.599         151.417        1310.182           5.344           5.503           2.820           3.714\n"
     ]
    },
    {
     "name": "stdout",
     "output_type": "stream",
     "text": [
      "Epoch 4: 100%|██████████| 200/200 [00:42<00:00,  4.70it/s, v_num=32, train_total_loss_step=2e+3, train_energy_loss_step=696.0, train_forces_loss_step=1.31e+3, val_total_loss_step=2.08e+3, val_energy_loss_step=50.40, val_forces_loss_step=2.03e+3, val_total_loss_epoch=1.67e+3, val_energy_loss_epoch=51.30, val_forces_loss_epoch=1.62e+3, train_total_loss_epoch=1.86e+3, train_energy_loss_epoch=184.0, train_forces_loss_epoch=1.67e+3]   "
     ]
    },
    {
     "name": "stderr",
     "output_type": "stream",
     "text": [
      "\n",
      "\n",
      "Validating\n",
      "# epoch      batch      total_loss     energy_loss     forces_loss      energy_mae     energy_rmse      forces_mae     forces_rmse\n"
     ]
    },
    {
     "name": "stdout",
     "output_type": "stream",
     "text": []
    },
    {
     "name": "stderr",
     "output_type": "stream",
     "text": [
      "      4          0        1523.363         153.808        1369.555           5.473           5.546           2.789           3.797\n"
     ]
    },
    {
     "name": "stdout",
     "output_type": "stream",
     "text": []
    },
    {
     "name": "stderr",
     "output_type": "stream",
     "text": [
      "      4         10        1033.869          48.872         984.997           3.070           3.126           2.360           3.220\n"
     ]
    },
    {
     "name": "stdout",
     "output_type": "stream",
     "text": []
    },
    {
     "name": "stderr",
     "output_type": "stream",
     "text": [
      "      4         20        1039.340         110.300         929.040           4.285           4.697           2.370           3.127\n"
     ]
    },
    {
     "name": "stdout",
     "output_type": "stream",
     "text": []
    },
    {
     "name": "stderr",
     "output_type": "stream",
     "text": [
      "      4         30        1194.653          88.260        1106.392           3.906           4.201           2.599           3.413\n"
     ]
    },
    {
     "name": "stdout",
     "output_type": "stream",
     "text": []
    },
    {
     "name": "stderr",
     "output_type": "stream",
     "text": [
      "      4         40        1319.956          59.856        1260.100           3.391           3.460           2.614           3.642\n"
     ]
    },
    {
     "name": "stdout",
     "output_type": "stream",
     "text": []
    },
    {
     "name": "stderr",
     "output_type": "stream",
     "text": [
      "      4         50        1575.319          69.176        1506.143           3.320           3.720           2.769           3.982\n"
     ]
    },
    {
     "name": "stdout",
     "output_type": "stream",
     "text": []
    },
    {
     "name": "stderr",
     "output_type": "stream",
     "text": [
      "      4         60        1405.635          72.193        1333.442           3.559           3.800           2.727           3.746\n"
     ]
    },
    {
     "name": "stdout",
     "output_type": "stream",
     "text": []
    },
    {
     "name": "stderr",
     "output_type": "stream",
     "text": [
      "      4         70        1163.642          85.392        1078.251           3.727           4.133           2.511           3.369\n"
     ]
    },
    {
     "name": "stdout",
     "output_type": "stream",
     "text": []
    },
    {
     "name": "stderr",
     "output_type": "stream",
     "text": [
      "      4         80        1138.323          94.221        1044.102           4.039           4.341           2.448           3.315\n"
     ]
    },
    {
     "name": "stdout",
     "output_type": "stream",
     "text": []
    },
    {
     "name": "stderr",
     "output_type": "stream",
     "text": [
      "      4         90        1235.898          73.570        1162.328           3.707           3.836           2.620           3.498\n"
     ]
    },
    {
     "name": "stdout",
     "output_type": "stream",
     "text": []
    },
    {
     "name": "stderr",
     "output_type": "stream",
     "text": [
      "      4        100        1555.158          59.772        1495.386           2.914           3.458           2.759           3.967\n"
     ]
    },
    {
     "name": "stdout",
     "output_type": "stream",
     "text": []
    },
    {
     "name": "stderr",
     "output_type": "stream",
     "text": [
      "      4        110         924.064          51.911         872.153           2.918           3.222           2.292           3.030\n"
     ]
    },
    {
     "name": "stdout",
     "output_type": "stream",
     "text": []
    },
    {
     "name": "stderr",
     "output_type": "stream",
     "text": [
      "      4        120        1035.746         116.828         918.918           4.301           4.834           2.424           3.110\n"
     ]
    },
    {
     "name": "stdout",
     "output_type": "stream",
     "text": []
    },
    {
     "name": "stderr",
     "output_type": "stream",
     "text": [
      "\n",
      "\n",
      "Epoch summary:\n",
      "Validation  # epoch      total_loss     energy_loss     forces_loss      energy_mae     energy_rmse      forces_mae     forces_rmse\n",
      "                  4        1227.480          75.959        1151.521           3.550           3.898           2.574           3.482\n"
     ]
    },
    {
     "name": "stdout",
     "output_type": "stream",
     "text": [
      "Epoch 4: 100%|██████████| 200/200 [01:02<00:00,  3.22it/s, v_num=32, train_total_loss_step=2e+3, train_energy_loss_step=696.0, train_forces_loss_step=1.31e+3, val_total_loss_step=1.38e+3, val_energy_loss_step=60.50, val_forces_loss_step=1.32e+3, val_total_loss_epoch=1.23e+3, val_energy_loss_epoch=76.00, val_forces_loss_epoch=1.15e+3, train_total_loss_epoch=1.49e+3, train_energy_loss_epoch=125.0, train_forces_loss_epoch=1.36e+3]"
     ]
    },
    {
     "name": "stderr",
     "output_type": "stream",
     "text": [
      "Train       # epoch      total_loss     energy_loss     forces_loss      energy_mae     energy_rmse      forces_mae     forces_rmse\n",
      "                  4        1489.444         125.149        1364.295           3.991           5.003           2.813           3.790\n"
     ]
    },
    {
     "name": "stdout",
     "output_type": "stream",
     "text": [
      "Epoch 5:   0%|          | 0/200 [00:00<?, ?it/s, v_num=32, train_total_loss_step=2e+3, train_energy_loss_step=696.0, train_forces_loss_step=1.31e+3, val_total_loss_step=1.38e+3, val_energy_loss_step=60.50, val_forces_loss_step=1.32e+3, val_total_loss_epoch=1.23e+3, val_energy_loss_epoch=76.00, val_forces_loss_epoch=1.15e+3, train_total_loss_epoch=1.49e+3, train_energy_loss_epoch=125.0, train_forces_loss_epoch=1.36e+3]          "
     ]
    },
    {
     "name": "stderr",
     "output_type": "stream",
     "text": [
      "\n",
      "\n",
      "Training\n",
      "# epoch      batch      total_loss     energy_loss     forces_loss      energy_mae     energy_rmse      forces_mae     forces_rmse\n",
      "      5          0        1259.425         126.545        1132.880           4.725           5.031           2.664           3.453\n"
     ]
    },
    {
     "name": "stdout",
     "output_type": "stream",
     "text": [
      "Epoch 5:   5%|▌         | 10/200 [00:02<00:42,  4.43it/s, v_num=32, train_total_loss_step=1.13e+3, train_energy_loss_step=157.0, train_forces_loss_step=976.0, val_total_loss_step=1.38e+3, val_energy_loss_step=60.50, val_forces_loss_step=1.32e+3, val_total_loss_epoch=1.23e+3, val_energy_loss_epoch=76.00, val_forces_loss_epoch=1.15e+3, train_total_loss_epoch=1.49e+3, train_energy_loss_epoch=125.0, train_forces_loss_epoch=1.36e+3]  "
     ]
    },
    {
     "name": "stderr",
     "output_type": "stream",
     "text": [
      "      5         10        1177.605          93.184        1084.421           3.787           4.317           2.534           3.379\n"
     ]
    },
    {
     "name": "stdout",
     "output_type": "stream",
     "text": [
      "Epoch 5:  10%|█         | 20/200 [00:04<00:39,  4.56it/s, v_num=32, train_total_loss_step=829.0, train_energy_loss_step=61.30, train_forces_loss_step=768.0, val_total_loss_step=1.38e+3, val_energy_loss_step=60.50, val_forces_loss_step=1.32e+3, val_total_loss_epoch=1.23e+3, val_energy_loss_epoch=76.00, val_forces_loss_epoch=1.15e+3, train_total_loss_epoch=1.49e+3, train_energy_loss_epoch=125.0, train_forces_loss_epoch=1.36e+3]    "
     ]
    },
    {
     "name": "stderr",
     "output_type": "stream",
     "text": [
      "      5         20        1254.659         109.522        1145.137           4.381           4.680           2.594           3.472\n"
     ]
    },
    {
     "name": "stdout",
     "output_type": "stream",
     "text": [
      "Epoch 5:  15%|█▌        | 30/200 [00:06<00:36,  4.61it/s, v_num=32, train_total_loss_step=1.09e+3, train_energy_loss_step=7.870, train_forces_loss_step=1.09e+3, val_total_loss_step=1.38e+3, val_energy_loss_step=60.50, val_forces_loss_step=1.32e+3, val_total_loss_epoch=1.23e+3, val_energy_loss_epoch=76.00, val_forces_loss_epoch=1.15e+3, train_total_loss_epoch=1.49e+3, train_energy_loss_epoch=125.0, train_forces_loss_epoch=1.36e+3]"
     ]
    },
    {
     "name": "stderr",
     "output_type": "stream",
     "text": [
      "      5         30        1232.217          52.421        1179.796           2.969           3.238           2.720           3.524\n"
     ]
    },
    {
     "name": "stdout",
     "output_type": "stream",
     "text": [
      "Epoch 5:  20%|██        | 40/200 [00:08<00:34,  4.64it/s, v_num=32, train_total_loss_step=870.0, train_energy_loss_step=27.10, train_forces_loss_step=843.0, val_total_loss_step=1.38e+3, val_energy_loss_step=60.50, val_forces_loss_step=1.32e+3, val_total_loss_epoch=1.23e+3, val_energy_loss_epoch=76.00, val_forces_loss_epoch=1.15e+3, train_total_loss_epoch=1.49e+3, train_energy_loss_epoch=125.0, train_forces_loss_epoch=1.36e+3]    "
     ]
    },
    {
     "name": "stderr",
     "output_type": "stream",
     "text": [
      "      5         40        1492.781           8.967        1483.815           1.125           1.339           2.759           3.952\n"
     ]
    },
    {
     "name": "stdout",
     "output_type": "stream",
     "text": [
      "Epoch 5:  25%|██▌       | 50/200 [00:10<00:32,  4.65it/s, v_num=32, train_total_loss_step=1.17e+3, train_energy_loss_step=40.60, train_forces_loss_step=1.13e+3, val_total_loss_step=1.38e+3, val_energy_loss_step=60.50, val_forces_loss_step=1.32e+3, val_total_loss_epoch=1.23e+3, val_energy_loss_epoch=76.00, val_forces_loss_epoch=1.15e+3, train_total_loss_epoch=1.49e+3, train_energy_loss_epoch=125.0, train_forces_loss_epoch=1.36e+3]"
     ]
    },
    {
     "name": "stderr",
     "output_type": "stream",
     "text": [
      "      5         50        1068.838          40.878        1027.960           2.681           2.859           2.495           3.289\n"
     ]
    },
    {
     "name": "stdout",
     "output_type": "stream",
     "text": [
      "Epoch 5:  30%|███       | 60/200 [00:12<00:30,  4.66it/s, v_num=32, train_total_loss_step=937.0, train_energy_loss_step=11.70, train_forces_loss_step=925.0, val_total_loss_step=1.38e+3, val_energy_loss_step=60.50, val_forces_loss_step=1.32e+3, val_total_loss_epoch=1.23e+3, val_energy_loss_epoch=76.00, val_forces_loss_epoch=1.15e+3, train_total_loss_epoch=1.49e+3, train_energy_loss_epoch=125.0, train_forces_loss_epoch=1.36e+3]    "
     ]
    },
    {
     "name": "stderr",
     "output_type": "stream",
     "text": [
      "      5         60         957.015          39.342         917.673           2.475           2.805           2.282           3.108\n"
     ]
    },
    {
     "name": "stdout",
     "output_type": "stream",
     "text": [
      "Epoch 5:  35%|███▌      | 70/200 [00:15<00:27,  4.67it/s, v_num=32, train_total_loss_step=1.37e+3, train_energy_loss_step=7.640, train_forces_loss_step=1.36e+3, val_total_loss_step=1.38e+3, val_energy_loss_step=60.50, val_forces_loss_step=1.32e+3, val_total_loss_epoch=1.23e+3, val_energy_loss_epoch=76.00, val_forces_loss_epoch=1.15e+3, train_total_loss_epoch=1.49e+3, train_energy_loss_epoch=125.0, train_forces_loss_epoch=1.36e+3]"
     ]
    },
    {
     "name": "stderr",
     "output_type": "stream",
     "text": [
      "      5         70        1019.393         143.608         875.785           5.256           5.359           2.280           3.036\n"
     ]
    },
    {
     "name": "stdout",
     "output_type": "stream",
     "text": [
      "Epoch 5:  40%|████      | 80/200 [00:17<00:25,  4.66it/s, v_num=32, train_total_loss_step=1.14e+3, train_energy_loss_step=3.070, train_forces_loss_step=1.13e+3, val_total_loss_step=1.38e+3, val_energy_loss_step=60.50, val_forces_loss_step=1.32e+3, val_total_loss_epoch=1.23e+3, val_energy_loss_epoch=76.00, val_forces_loss_epoch=1.15e+3, train_total_loss_epoch=1.49e+3, train_energy_loss_epoch=125.0, train_forces_loss_epoch=1.36e+3]"
     ]
    },
    {
     "name": "stderr",
     "output_type": "stream",
     "text": [
      "      5         80        1107.971          79.400        1028.571           3.688           3.985           2.582           3.290\n"
     ]
    },
    {
     "name": "stdout",
     "output_type": "stream",
     "text": [
      "Epoch 5:  45%|████▌     | 90/200 [00:19<00:23,  4.67it/s, v_num=32, train_total_loss_step=1.11e+3, train_energy_loss_step=12.70, train_forces_loss_step=1.1e+3, val_total_loss_step=1.38e+3, val_energy_loss_step=60.50, val_forces_loss_step=1.32e+3, val_total_loss_epoch=1.23e+3, val_energy_loss_epoch=76.00, val_forces_loss_epoch=1.15e+3, train_total_loss_epoch=1.49e+3, train_energy_loss_epoch=125.0, train_forces_loss_epoch=1.36e+3] "
     ]
    },
    {
     "name": "stderr",
     "output_type": "stream",
     "text": [
      "      5         90        1282.048          24.800        1257.249           1.931           2.227           2.718           3.638\n"
     ]
    },
    {
     "name": "stdout",
     "output_type": "stream",
     "text": [
      "Epoch 5:  50%|█████     | 100/200 [00:21<00:21,  4.67it/s, v_num=32, train_total_loss_step=1.38e+3, train_energy_loss_step=23.70, train_forces_loss_step=1.36e+3, val_total_loss_step=1.38e+3, val_energy_loss_step=60.50, val_forces_loss_step=1.32e+3, val_total_loss_epoch=1.23e+3, val_energy_loss_epoch=76.00, val_forces_loss_epoch=1.15e+3, train_total_loss_epoch=1.49e+3, train_energy_loss_epoch=125.0, train_forces_loss_epoch=1.36e+3]"
     ]
    },
    {
     "name": "stderr",
     "output_type": "stream",
     "text": [
      "      5        100        1553.291          24.504        1528.787           1.800           2.214           3.026           4.012\n"
     ]
    },
    {
     "name": "stdout",
     "output_type": "stream",
     "text": [
      "Epoch 5:  55%|█████▌    | 110/200 [00:23<00:19,  4.68it/s, v_num=32, train_total_loss_step=1.5e+3, train_energy_loss_step=210.0, train_forces_loss_step=1.29e+3, val_total_loss_step=1.38e+3, val_energy_loss_step=60.50, val_forces_loss_step=1.32e+3, val_total_loss_epoch=1.23e+3, val_energy_loss_epoch=76.00, val_forces_loss_epoch=1.15e+3, train_total_loss_epoch=1.49e+3, train_energy_loss_epoch=125.0, train_forces_loss_epoch=1.36e+3] "
     ]
    },
    {
     "name": "stderr",
     "output_type": "stream",
     "text": [
      "      5        110        1026.816         154.317         872.498           5.444           5.555           2.260           3.031\n"
     ]
    },
    {
     "name": "stdout",
     "output_type": "stream",
     "text": [
      "Epoch 5:  60%|██████    | 120/200 [00:25<00:17,  4.68it/s, v_num=32, train_total_loss_step=1.17e+3, train_energy_loss_step=93.70, train_forces_loss_step=1.08e+3, val_total_loss_step=1.38e+3, val_energy_loss_step=60.50, val_forces_loss_step=1.32e+3, val_total_loss_epoch=1.23e+3, val_energy_loss_epoch=76.00, val_forces_loss_epoch=1.15e+3, train_total_loss_epoch=1.49e+3, train_energy_loss_epoch=125.0, train_forces_loss_epoch=1.36e+3]"
     ]
    },
    {
     "name": "stderr",
     "output_type": "stream",
     "text": [
      "      5        120        1252.079          14.516        1237.564           1.525           1.704           2.570           3.609\n"
     ]
    },
    {
     "name": "stdout",
     "output_type": "stream",
     "text": [
      "Epoch 5:  65%|██████▌   | 130/200 [00:27<00:14,  4.68it/s, v_num=32, train_total_loss_step=1.16e+3, train_energy_loss_step=42.90, train_forces_loss_step=1.12e+3, val_total_loss_step=1.38e+3, val_energy_loss_step=60.50, val_forces_loss_step=1.32e+3, val_total_loss_epoch=1.23e+3, val_energy_loss_epoch=76.00, val_forces_loss_epoch=1.15e+3, train_total_loss_epoch=1.49e+3, train_energy_loss_epoch=125.0, train_forces_loss_epoch=1.36e+3]"
     ]
    },
    {
     "name": "stderr",
     "output_type": "stream",
     "text": [
      "      5        130        1033.144          69.744         963.400           3.575           3.735           2.394           3.185\n"
     ]
    },
    {
     "name": "stdout",
     "output_type": "stream",
     "text": [
      "Epoch 5:  70%|███████   | 140/200 [00:29<00:12,  4.68it/s, v_num=32, train_total_loss_step=2.02e+3, train_energy_loss_step=52.50, train_forces_loss_step=1.97e+3, val_total_loss_step=1.38e+3, val_energy_loss_step=60.50, val_forces_loss_step=1.32e+3, val_total_loss_epoch=1.23e+3, val_energy_loss_epoch=76.00, val_forces_loss_epoch=1.15e+3, train_total_loss_epoch=1.49e+3, train_energy_loss_epoch=125.0, train_forces_loss_epoch=1.36e+3]"
     ]
    },
    {
     "name": "stderr",
     "output_type": "stream",
     "text": [
      "      5        140        1164.105          68.733        1095.372           3.519           3.708           2.518           3.396\n"
     ]
    },
    {
     "name": "stdout",
     "output_type": "stream",
     "text": [
      "Epoch 5:  75%|███████▌  | 150/200 [00:32<00:10,  4.69it/s, v_num=32, train_total_loss_step=1.85e+3, train_energy_loss_step=81.10, train_forces_loss_step=1.77e+3, val_total_loss_step=1.38e+3, val_energy_loss_step=60.50, val_forces_loss_step=1.32e+3, val_total_loss_epoch=1.23e+3, val_energy_loss_epoch=76.00, val_forces_loss_epoch=1.15e+3, train_total_loss_epoch=1.49e+3, train_energy_loss_epoch=125.0, train_forces_loss_epoch=1.36e+3]"
     ]
    },
    {
     "name": "stderr",
     "output_type": "stream",
     "text": [
      "      5        150        1493.708          21.163        1472.545           1.731           2.057           2.832           3.937\n"
     ]
    },
    {
     "name": "stdout",
     "output_type": "stream",
     "text": [
      "Epoch 5:  80%|████████  | 160/200 [00:34<00:08,  4.69it/s, v_num=32, train_total_loss_step=1.82e+3, train_energy_loss_step=199.0, train_forces_loss_step=1.62e+3, val_total_loss_step=1.38e+3, val_energy_loss_step=60.50, val_forces_loss_step=1.32e+3, val_total_loss_epoch=1.23e+3, val_energy_loss_epoch=76.00, val_forces_loss_epoch=1.15e+3, train_total_loss_epoch=1.49e+3, train_energy_loss_epoch=125.0, train_forces_loss_epoch=1.36e+3]"
     ]
    },
    {
     "name": "stderr",
     "output_type": "stream",
     "text": [
      "      5        160        1381.861          26.385        1355.477           1.625           2.297           2.715           3.777\n"
     ]
    },
    {
     "name": "stdout",
     "output_type": "stream",
     "text": [
      "Epoch 5:  85%|████████▌ | 170/200 [00:36<00:06,  4.69it/s, v_num=32, train_total_loss_step=1.7e+3, train_energy_loss_step=312.0, train_forces_loss_step=1.39e+3, val_total_loss_step=1.38e+3, val_energy_loss_step=60.50, val_forces_loss_step=1.32e+3, val_total_loss_epoch=1.23e+3, val_energy_loss_epoch=76.00, val_forces_loss_epoch=1.15e+3, train_total_loss_epoch=1.49e+3, train_energy_loss_epoch=125.0, train_forces_loss_epoch=1.36e+3] "
     ]
    },
    {
     "name": "stderr",
     "output_type": "stream",
     "text": [
      "      5        170        1492.006         157.695        1334.311           5.250           5.616           2.763           3.748\n"
     ]
    },
    {
     "name": "stdout",
     "output_type": "stream",
     "text": [
      "Epoch 5:  90%|█████████ | 180/200 [00:38<00:04,  4.69it/s, v_num=32, train_total_loss_step=1.08e+3, train_energy_loss_step=19.90, train_forces_loss_step=1.06e+3, val_total_loss_step=1.38e+3, val_energy_loss_step=60.50, val_forces_loss_step=1.32e+3, val_total_loss_epoch=1.23e+3, val_energy_loss_epoch=76.00, val_forces_loss_epoch=1.15e+3, train_total_loss_epoch=1.49e+3, train_energy_loss_epoch=125.0, train_forces_loss_epoch=1.36e+3]"
     ]
    },
    {
     "name": "stderr",
     "output_type": "stream",
     "text": [
      "      5        180        1222.796          20.034        1202.761           1.569           2.002           2.599           3.558\n"
     ]
    },
    {
     "name": "stdout",
     "output_type": "stream",
     "text": [
      "Epoch 5:  95%|█████████▌| 190/200 [00:40<00:02,  4.69it/s, v_num=32, train_total_loss_step=868.0, train_energy_loss_step=4.750, train_forces_loss_step=863.0, val_total_loss_step=1.38e+3, val_energy_loss_step=60.50, val_forces_loss_step=1.32e+3, val_total_loss_epoch=1.23e+3, val_energy_loss_epoch=76.00, val_forces_loss_epoch=1.15e+3, train_total_loss_epoch=1.49e+3, train_energy_loss_epoch=125.0, train_forces_loss_epoch=1.36e+3]    "
     ]
    },
    {
     "name": "stderr",
     "output_type": "stream",
     "text": [
      "      5        190        1317.576          20.330        1297.246           1.837           2.016           2.761           3.695\n"
     ]
    },
    {
     "name": "stdout",
     "output_type": "stream",
     "text": [
      "Epoch 5: 100%|██████████| 200/200 [00:42<00:00,  4.69it/s, v_num=32, train_total_loss_step=687.0, train_energy_loss_step=30.50, train_forces_loss_step=656.0, val_total_loss_step=1.38e+3, val_energy_loss_step=60.50, val_forces_loss_step=1.32e+3, val_total_loss_epoch=1.23e+3, val_energy_loss_epoch=76.00, val_forces_loss_epoch=1.15e+3, train_total_loss_epoch=1.49e+3, train_energy_loss_epoch=125.0, train_forces_loss_epoch=1.36e+3]    "
     ]
    },
    {
     "name": "stderr",
     "output_type": "stream",
     "text": [
      "\n",
      "\n",
      "Validating\n",
      "# epoch      batch      total_loss     energy_loss     forces_loss      energy_mae     energy_rmse      forces_mae     forces_rmse\n"
     ]
    },
    {
     "name": "stdout",
     "output_type": "stream",
     "text": []
    },
    {
     "name": "stderr",
     "output_type": "stream",
     "text": [
      "      5          0        1426.765          88.607        1338.158           4.141           4.210           2.756           3.753\n"
     ]
    },
    {
     "name": "stdout",
     "output_type": "stream",
     "text": []
    },
    {
     "name": "stderr",
     "output_type": "stream",
     "text": [
      "      5         10         924.900          15.028         909.872           1.492           1.734           2.297           3.095\n"
     ]
    },
    {
     "name": "stdout",
     "output_type": "stream",
     "text": []
    },
    {
     "name": "stderr",
     "output_type": "stream",
     "text": [
      "      5         20         963.676          62.707         900.969           3.199           3.541           2.330           3.080\n"
     ]
    },
    {
     "name": "stdout",
     "output_type": "stream",
     "text": []
    },
    {
     "name": "stderr",
     "output_type": "stream",
     "text": [
      "      5         30        1078.967          51.938        1027.029           2.848           3.223           2.510           3.288\n"
     ]
    },
    {
     "name": "stdout",
     "output_type": "stream",
     "text": []
    },
    {
     "name": "stderr",
     "output_type": "stream",
     "text": [
      "      5         40        1035.520          30.845        1004.675           2.395           2.484           2.482           3.252\n"
     ]
    },
    {
     "name": "stdout",
     "output_type": "stream",
     "text": []
    },
    {
     "name": "stderr",
     "output_type": "stream",
     "text": [
      "      5         50        1442.493          36.755        1405.738           2.188           2.711           2.743           3.847\n"
     ]
    },
    {
     "name": "stdout",
     "output_type": "stream",
     "text": []
    },
    {
     "name": "stderr",
     "output_type": "stream",
     "text": [
      "      5         60        1343.339          44.809        1298.530           2.598           2.994           2.733           3.697\n"
     ]
    },
    {
     "name": "stdout",
     "output_type": "stream",
     "text": []
    },
    {
     "name": "stderr",
     "output_type": "stream",
     "text": [
      "      5         70        1288.376          39.968        1248.407           2.430           2.827           2.713           3.625\n"
     ]
    },
    {
     "name": "stdout",
     "output_type": "stream",
     "text": []
    },
    {
     "name": "stderr",
     "output_type": "stream",
     "text": [
      "      5         80        1179.414          40.611        1138.803           2.309           2.850           2.579           3.462\n"
     ]
    },
    {
     "name": "stdout",
     "output_type": "stream",
     "text": []
    },
    {
     "name": "stderr",
     "output_type": "stream",
     "text": [
      "      5         90        1115.203          31.885        1083.318           2.340           2.525           2.539           3.377\n"
     ]
    },
    {
     "name": "stdout",
     "output_type": "stream",
     "text": []
    },
    {
     "name": "stderr",
     "output_type": "stream",
     "text": [
      "      5        100        1507.048          27.431        1479.617           1.707           2.342           2.673           3.947\n"
     ]
    },
    {
     "name": "stdout",
     "output_type": "stream",
     "text": []
    },
    {
     "name": "stderr",
     "output_type": "stream",
     "text": [
      "      5        110        1059.468          26.307        1033.161           1.863           2.294           2.486           3.298\n"
     ]
    },
    {
     "name": "stdout",
     "output_type": "stream",
     "text": []
    },
    {
     "name": "stderr",
     "output_type": "stream",
     "text": [
      "      5        120        1100.832          65.799        1035.033           2.965           3.628           2.540           3.301\n"
     ]
    },
    {
     "name": "stdout",
     "output_type": "stream",
     "text": []
    },
    {
     "name": "stderr",
     "output_type": "stream",
     "text": [
      "\n",
      "\n",
      "Epoch summary:\n",
      "Validation  # epoch      total_loss     energy_loss     forces_loss      energy_mae     energy_rmse      forces_mae     forces_rmse\n",
      "                  5        1210.183          39.242        1170.941           2.366           2.801           2.592           3.511\n"
     ]
    },
    {
     "name": "stdout",
     "output_type": "stream",
     "text": [
      "Epoch 5: 100%|██████████| 200/200 [01:02<00:00,  3.21it/s, v_num=32, train_total_loss_step=687.0, train_energy_loss_step=30.50, train_forces_loss_step=656.0, val_total_loss_step=1.34e+3, val_energy_loss_step=35.30, val_forces_loss_step=1.31e+3, val_total_loss_epoch=1.21e+3, val_energy_loss_epoch=39.20, val_forces_loss_epoch=1.17e+3, train_total_loss_epoch=1.25e+3, train_energy_loss_epoch=72.60, train_forces_loss_epoch=1.18e+3]"
     ]
    },
    {
     "name": "stderr",
     "output_type": "stream",
     "text": [
      "Train       # epoch      total_loss     energy_loss     forces_loss      energy_mae     energy_rmse      forces_mae     forces_rmse\n",
      "                  5        1248.338          72.629        1175.708           3.006           3.811           2.596           3.518\n"
     ]
    },
    {
     "name": "stdout",
     "output_type": "stream",
     "text": [
      "Epoch 6:   0%|          | 0/200 [00:00<?, ?it/s, v_num=32, train_total_loss_step=687.0, train_energy_loss_step=30.50, train_forces_loss_step=656.0, val_total_loss_step=1.34e+3, val_energy_loss_step=35.30, val_forces_loss_step=1.31e+3, val_total_loss_epoch=1.21e+3, val_energy_loss_epoch=39.20, val_forces_loss_epoch=1.17e+3, train_total_loss_epoch=1.25e+3, train_energy_loss_epoch=72.60, train_forces_loss_epoch=1.18e+3]          "
     ]
    },
    {
     "name": "stderr",
     "output_type": "stream",
     "text": [
      "\n",
      "\n",
      "Training\n",
      "# epoch      batch      total_loss     energy_loss     forces_loss      energy_mae     energy_rmse      forces_mae     forces_rmse\n",
      "      6          0        1000.233          42.918         957.315           2.588           2.930           2.342           3.174\n"
     ]
    },
    {
     "name": "stdout",
     "output_type": "stream",
     "text": [
      "Epoch 6:   5%|▌         | 10/200 [00:02<00:42,  4.44it/s, v_num=32, train_total_loss_step=1.01e+3, train_energy_loss_step=18.10, train_forces_loss_step=997.0, val_total_loss_step=1.34e+3, val_energy_loss_step=35.30, val_forces_loss_step=1.31e+3, val_total_loss_epoch=1.21e+3, val_energy_loss_epoch=39.20, val_forces_loss_epoch=1.17e+3, train_total_loss_epoch=1.25e+3, train_energy_loss_epoch=72.60, train_forces_loss_epoch=1.18e+3] "
     ]
    },
    {
     "name": "stderr",
     "output_type": "stream",
     "text": [
      "      6         10        1285.122         127.761        1157.361           4.494           5.055           2.715           3.490\n"
     ]
    },
    {
     "name": "stdout",
     "output_type": "stream",
     "text": [
      "Epoch 6:  10%|█         | 20/200 [00:04<00:39,  4.57it/s, v_num=32, train_total_loss_step=1.55e+3, train_energy_loss_step=27.60, train_forces_loss_step=1.52e+3, val_total_loss_step=1.34e+3, val_energy_loss_step=35.30, val_forces_loss_step=1.31e+3, val_total_loss_epoch=1.21e+3, val_energy_loss_epoch=39.20, val_forces_loss_epoch=1.17e+3, train_total_loss_epoch=1.25e+3, train_energy_loss_epoch=72.60, train_forces_loss_epoch=1.18e+3]"
     ]
    },
    {
     "name": "stderr",
     "output_type": "stream",
     "text": [
      "      6         20        1284.884         180.768        1104.116           5.575           6.013           2.513           3.409\n"
     ]
    },
    {
     "name": "stdout",
     "output_type": "stream",
     "text": [
      "Epoch 6:  15%|█▌        | 30/200 [00:06<00:36,  4.61it/s, v_num=32, train_total_loss_step=1.18e+3, train_energy_loss_step=442.0, train_forces_loss_step=737.0, val_total_loss_step=1.34e+3, val_energy_loss_step=35.30, val_forces_loss_step=1.31e+3, val_total_loss_epoch=1.21e+3, val_energy_loss_epoch=39.20, val_forces_loss_epoch=1.17e+3, train_total_loss_epoch=1.25e+3, train_energy_loss_epoch=72.60, train_forces_loss_epoch=1.18e+3]  "
     ]
    },
    {
     "name": "stderr",
     "output_type": "stream",
     "text": [
      "      6         30         887.343         118.365         768.978           4.662           4.865           2.148           2.845\n"
     ]
    },
    {
     "name": "stdout",
     "output_type": "stream",
     "text": [
      "Epoch 6:  20%|██        | 40/200 [00:08<00:34,  4.64it/s, v_num=32, train_total_loss_step=1.41e+3, train_energy_loss_step=111.0, train_forces_loss_step=1.29e+3, val_total_loss_step=1.34e+3, val_energy_loss_step=35.30, val_forces_loss_step=1.31e+3, val_total_loss_epoch=1.21e+3, val_energy_loss_epoch=39.20, val_forces_loss_epoch=1.17e+3, train_total_loss_epoch=1.25e+3, train_energy_loss_epoch=72.60, train_forces_loss_epoch=1.18e+3]"
     ]
    },
    {
     "name": "stderr",
     "output_type": "stream",
     "text": [
      "      6         40        1589.961         344.691        1245.270           8.050           8.303           2.601           3.621\n"
     ]
    },
    {
     "name": "stdout",
     "output_type": "stream",
     "text": [
      "Epoch 6:  25%|██▌       | 50/200 [00:10<00:32,  4.66it/s, v_num=32, train_total_loss_step=864.0, train_energy_loss_step=25.40, train_forces_loss_step=839.0, val_total_loss_step=1.34e+3, val_energy_loss_step=35.30, val_forces_loss_step=1.31e+3, val_total_loss_epoch=1.21e+3, val_energy_loss_epoch=39.20, val_forces_loss_epoch=1.17e+3, train_total_loss_epoch=1.25e+3, train_energy_loss_epoch=72.60, train_forces_loss_epoch=1.18e+3]    "
     ]
    },
    {
     "name": "stderr",
     "output_type": "stream",
     "text": [
      "      6         50        1221.021          11.784        1209.237           1.169           1.535           2.541           3.568\n"
     ]
    },
    {
     "name": "stdout",
     "output_type": "stream",
     "text": [
      "Epoch 6:  30%|███       | 60/200 [00:12<00:30,  4.66it/s, v_num=32, train_total_loss_step=1.12e+3, train_energy_loss_step=19.90, train_forces_loss_step=1.1e+3, val_total_loss_step=1.34e+3, val_energy_loss_step=35.30, val_forces_loss_step=1.31e+3, val_total_loss_epoch=1.21e+3, val_energy_loss_epoch=39.20, val_forces_loss_epoch=1.17e+3, train_total_loss_epoch=1.25e+3, train_energy_loss_epoch=72.60, train_forces_loss_epoch=1.18e+3] "
     ]
    },
    {
     "name": "stderr",
     "output_type": "stream",
     "text": [
      "      6         60        1308.345          30.332        1278.013           2.412           2.463           2.777           3.668\n"
     ]
    },
    {
     "name": "stdout",
     "output_type": "stream",
     "text": [
      "Epoch 6:  35%|███▌      | 70/200 [00:14<00:27,  4.67it/s, v_num=32, train_total_loss_step=948.0, train_energy_loss_step=19.80, train_forces_loss_step=928.0, val_total_loss_step=1.34e+3, val_energy_loss_step=35.30, val_forces_loss_step=1.31e+3, val_total_loss_epoch=1.21e+3, val_energy_loss_epoch=39.20, val_forces_loss_epoch=1.17e+3, train_total_loss_epoch=1.25e+3, train_energy_loss_epoch=72.60, train_forces_loss_epoch=1.18e+3]    "
     ]
    },
    {
     "name": "stderr",
     "output_type": "stream",
     "text": [
      "      6         70        1306.882          31.743        1275.139           1.881           2.520           2.787           3.664\n"
     ]
    },
    {
     "name": "stdout",
     "output_type": "stream",
     "text": [
      "Epoch 6:  40%|████      | 80/200 [00:17<00:25,  4.68it/s, v_num=32, train_total_loss_step=831.0, train_energy_loss_step=37.50, train_forces_loss_step=793.0, val_total_loss_step=1.34e+3, val_energy_loss_step=35.30, val_forces_loss_step=1.31e+3, val_total_loss_epoch=1.21e+3, val_energy_loss_epoch=39.20, val_forces_loss_epoch=1.17e+3, train_total_loss_epoch=1.25e+3, train_energy_loss_epoch=72.60, train_forces_loss_epoch=1.18e+3]    "
     ]
    },
    {
     "name": "stderr",
     "output_type": "stream",
     "text": [
      "      6         80         778.064           8.705         769.359           1.013           1.319           2.099           2.846\n"
     ]
    },
    {
     "name": "stdout",
     "output_type": "stream",
     "text": [
      "Epoch 6:  45%|████▌     | 90/200 [00:19<00:23,  4.68it/s, v_num=32, train_total_loss_step=1.35e+3, train_energy_loss_step=154.0, train_forces_loss_step=1.2e+3, val_total_loss_step=1.34e+3, val_energy_loss_step=35.30, val_forces_loss_step=1.31e+3, val_total_loss_epoch=1.21e+3, val_energy_loss_epoch=39.20, val_forces_loss_epoch=1.17e+3, train_total_loss_epoch=1.25e+3, train_energy_loss_epoch=72.60, train_forces_loss_epoch=1.18e+3] "
     ]
    },
    {
     "name": "stderr",
     "output_type": "stream",
     "text": [
      "      6         90        1380.407         117.230        1263.177           3.963           4.842           2.649           3.646\n"
     ]
    },
    {
     "name": "stdout",
     "output_type": "stream",
     "text": [
      "Epoch 6:  50%|█████     | 100/200 [00:21<00:21,  4.69it/s, v_num=32, train_total_loss_step=1.1e+3, train_energy_loss_step=212.0, train_forces_loss_step=888.0, val_total_loss_step=1.34e+3, val_energy_loss_step=35.30, val_forces_loss_step=1.31e+3, val_total_loss_epoch=1.21e+3, val_energy_loss_epoch=39.20, val_forces_loss_epoch=1.17e+3, train_total_loss_epoch=1.25e+3, train_energy_loss_epoch=72.60, train_forces_loss_epoch=1.18e+3]  "
     ]
    },
    {
     "name": "stderr",
     "output_type": "stream",
     "text": [
      "      6        100         719.354           3.971         715.383           0.688           0.891           2.105           2.744\n"
     ]
    },
    {
     "name": "stdout",
     "output_type": "stream",
     "text": [
      "Epoch 6:  55%|█████▌    | 110/200 [00:23<00:19,  4.69it/s, v_num=32, train_total_loss_step=669.0, train_energy_loss_step=12.60, train_forces_loss_step=656.0, val_total_loss_step=1.34e+3, val_energy_loss_step=35.30, val_forces_loss_step=1.31e+3, val_total_loss_epoch=1.21e+3, val_energy_loss_epoch=39.20, val_forces_loss_epoch=1.17e+3, train_total_loss_epoch=1.25e+3, train_energy_loss_epoch=72.60, train_forces_loss_epoch=1.18e+3]    "
     ]
    },
    {
     "name": "stderr",
     "output_type": "stream",
     "text": [
      "      6        110        1451.727         276.380        1175.347           7.156           7.435           2.568           3.517\n"
     ]
    },
    {
     "name": "stdout",
     "output_type": "stream",
     "text": [
      "Epoch 6:  60%|██████    | 120/200 [00:25<00:17,  4.69it/s, v_num=32, train_total_loss_step=944.0, train_energy_loss_step=50.70, train_forces_loss_step=893.0, val_total_loss_step=1.34e+3, val_energy_loss_step=35.30, val_forces_loss_step=1.31e+3, val_total_loss_epoch=1.21e+3, val_energy_loss_epoch=39.20, val_forces_loss_epoch=1.17e+3, train_total_loss_epoch=1.25e+3, train_energy_loss_epoch=72.60, train_forces_loss_epoch=1.18e+3]    "
     ]
    },
    {
     "name": "stderr",
     "output_type": "stream",
     "text": [
      "      6        120         759.063          52.181         706.883           3.119           3.231           2.030           2.728\n"
     ]
    },
    {
     "name": "stdout",
     "output_type": "stream",
     "text": [
      "Epoch 6:  65%|██████▌   | 130/200 [00:27<00:14,  4.69it/s, v_num=32, train_total_loss_step=928.0, train_energy_loss_step=4.110, train_forces_loss_step=924.0, val_total_loss_step=1.34e+3, val_energy_loss_step=35.30, val_forces_loss_step=1.31e+3, val_total_loss_epoch=1.21e+3, val_energy_loss_epoch=39.20, val_forces_loss_epoch=1.17e+3, train_total_loss_epoch=1.25e+3, train_energy_loss_epoch=72.60, train_forces_loss_epoch=1.18e+3]    "
     ]
    },
    {
     "name": "stderr",
     "output_type": "stream",
     "text": [
      "      6        130         892.208          29.232         862.976           1.600           2.418           2.247           3.014\n"
     ]
    },
    {
     "name": "stdout",
     "output_type": "stream",
     "text": [
      "Epoch 6:  70%|███████   | 140/200 [00:29<00:12,  4.69it/s, v_num=32, train_total_loss_step=910.0, train_energy_loss_step=17.90, train_forces_loss_step=892.0, val_total_loss_step=1.34e+3, val_energy_loss_step=35.30, val_forces_loss_step=1.31e+3, val_total_loss_epoch=1.21e+3, val_energy_loss_epoch=39.20, val_forces_loss_epoch=1.17e+3, train_total_loss_epoch=1.25e+3, train_energy_loss_epoch=72.60, train_forces_loss_epoch=1.18e+3]    "
     ]
    },
    {
     "name": "stderr",
     "output_type": "stream",
     "text": [
      "      6        140         841.531          15.213         826.318           1.725           1.744           2.246           2.949\n"
     ]
    },
    {
     "name": "stdout",
     "output_type": "stream",
     "text": [
      "Epoch 6:  75%|███████▌  | 150/200 [00:32<00:10,  4.69it/s, v_num=32, train_total_loss_step=885.0, train_energy_loss_step=34.80, train_forces_loss_step=851.0, val_total_loss_step=1.34e+3, val_energy_loss_step=35.30, val_forces_loss_step=1.31e+3, val_total_loss_epoch=1.21e+3, val_energy_loss_epoch=39.20, val_forces_loss_epoch=1.17e+3, train_total_loss_epoch=1.25e+3, train_energy_loss_epoch=72.60, train_forces_loss_epoch=1.18e+3]    "
     ]
    },
    {
     "name": "stderr",
     "output_type": "stream",
     "text": [
      "      6        150        1123.940         155.646         968.293           5.375           5.579           2.361           3.193\n"
     ]
    },
    {
     "name": "stdout",
     "output_type": "stream",
     "text": [
      "Epoch 6:  80%|████████  | 160/200 [00:34<00:08,  4.69it/s, v_num=32, train_total_loss_step=2.27e+3, train_energy_loss_step=1.26e+3, train_forces_loss_step=1.01e+3, val_total_loss_step=1.34e+3, val_energy_loss_step=35.30, val_forces_loss_step=1.31e+3, val_total_loss_epoch=1.21e+3, val_energy_loss_epoch=39.20, val_forces_loss_epoch=1.17e+3, train_total_loss_epoch=1.25e+3, train_energy_loss_epoch=72.60, train_forces_loss_epoch=1.18e+3]"
     ]
    },
    {
     "name": "stderr",
     "output_type": "stream",
     "text": [
      "      6        160        1905.243         714.051        1191.193          11.850          11.950           2.634           3.541\n"
     ]
    },
    {
     "name": "stdout",
     "output_type": "stream",
     "text": [
      "Epoch 6:  85%|████████▌ | 170/200 [00:36<00:06,  4.69it/s, v_num=32, train_total_loss_step=886.0, train_energy_loss_step=69.10, train_forces_loss_step=817.0, val_total_loss_step=1.34e+3, val_energy_loss_step=35.30, val_forces_loss_step=1.31e+3, val_total_loss_epoch=1.21e+3, val_energy_loss_epoch=39.20, val_forces_loss_epoch=1.17e+3, train_total_loss_epoch=1.25e+3, train_energy_loss_epoch=72.60, train_forces_loss_epoch=1.18e+3]      "
     ]
    },
    {
     "name": "stderr",
     "output_type": "stream",
     "text": [
      "      6        170        1259.273         254.131        1005.142           7.000           7.129           2.450           3.253\n"
     ]
    },
    {
     "name": "stdout",
     "output_type": "stream",
     "text": [
      "Epoch 6:  90%|█████████ | 180/200 [00:38<00:04,  4.69it/s, v_num=32, train_total_loss_step=1.57e+3, train_energy_loss_step=186.0, train_forces_loss_step=1.38e+3, val_total_loss_step=1.34e+3, val_energy_loss_step=35.30, val_forces_loss_step=1.31e+3, val_total_loss_epoch=1.21e+3, val_energy_loss_epoch=39.20, val_forces_loss_epoch=1.17e+3, train_total_loss_epoch=1.25e+3, train_energy_loss_epoch=72.60, train_forces_loss_epoch=1.18e+3]"
     ]
    },
    {
     "name": "stderr",
     "output_type": "stream",
     "text": [
      "      6        180        1420.571         169.550        1251.021           5.619           5.823           2.642           3.629\n"
     ]
    },
    {
     "name": "stdout",
     "output_type": "stream",
     "text": [
      "Epoch 6:  95%|█████████▌| 190/200 [00:40<00:02,  4.69it/s, v_num=32, train_total_loss_step=977.0, train_energy_loss_step=354.0, train_forces_loss_step=623.0, val_total_loss_step=1.34e+3, val_energy_loss_step=35.30, val_forces_loss_step=1.31e+3, val_total_loss_epoch=1.21e+3, val_energy_loss_epoch=39.20, val_forces_loss_epoch=1.17e+3, train_total_loss_epoch=1.25e+3, train_energy_loss_epoch=72.60, train_forces_loss_epoch=1.18e+3]    "
     ]
    },
    {
     "name": "stderr",
     "output_type": "stream",
     "text": [
      "      6        190         853.044          13.640         839.404           1.469           1.652           2.316           2.973\n"
     ]
    },
    {
     "name": "stdout",
     "output_type": "stream",
     "text": [
      "Epoch 6: 100%|██████████| 200/200 [00:42<00:00,  4.69it/s, v_num=32, train_total_loss_step=1.03e+3, train_energy_loss_step=150.0, train_forces_loss_step=883.0, val_total_loss_step=1.34e+3, val_energy_loss_step=35.30, val_forces_loss_step=1.31e+3, val_total_loss_epoch=1.21e+3, val_energy_loss_epoch=39.20, val_forces_loss_epoch=1.17e+3, train_total_loss_epoch=1.25e+3, train_energy_loss_epoch=72.60, train_forces_loss_epoch=1.18e+3]  "
     ]
    },
    {
     "name": "stderr",
     "output_type": "stream",
     "text": [
      "\n",
      "\n",
      "Validating\n",
      "# epoch      batch      total_loss     energy_loss     forces_loss      energy_mae     energy_rmse      forces_mae     forces_rmse\n"
     ]
    },
    {
     "name": "stdout",
     "output_type": "stream",
     "text": []
    },
    {
     "name": "stderr",
     "output_type": "stream",
     "text": [
      "      6          0        1015.115          25.328         989.787           1.977           2.251           2.366           3.228\n"
     ]
    },
    {
     "name": "stdout",
     "output_type": "stream",
     "text": []
    },
    {
     "name": "stderr",
     "output_type": "stream",
     "text": [
      "      6         10         788.334           2.423         785.911           0.570           0.696           2.100           2.876\n"
     ]
    },
    {
     "name": "stdout",
     "output_type": "stream",
     "text": []
    },
    {
     "name": "stderr",
     "output_type": "stream",
     "text": [
      "      6         20         816.664          18.271         798.392           1.547           1.912           2.217           2.899\n"
     ]
    },
    {
     "name": "stdout",
     "output_type": "stream",
     "text": []
    },
    {
     "name": "stderr",
     "output_type": "stream",
     "text": [
      "      6         30         898.155          16.048         882.107           1.480           1.792           2.279           3.047\n"
     ]
    },
    {
     "name": "stdout",
     "output_type": "stream",
     "text": []
    },
    {
     "name": "stderr",
     "output_type": "stream",
     "text": [
      "      6         40         909.533           4.253         905.280           0.633           0.922           2.235           3.087\n"
     ]
    },
    {
     "name": "stdout",
     "output_type": "stream",
     "text": []
    },
    {
     "name": "stderr",
     "output_type": "stream",
     "text": [
      "      6         50        1129.603          13.236        1116.367           1.383           1.627           2.439           3.428\n"
     ]
    },
    {
     "name": "stdout",
     "output_type": "stream",
     "text": []
    },
    {
     "name": "stderr",
     "output_type": "stream",
     "text": [
      "      6         60        1034.468           9.103        1025.364           1.105           1.349           2.389           3.285\n"
     ]
    },
    {
     "name": "stdout",
     "output_type": "stream",
     "text": []
    },
    {
     "name": "stderr",
     "output_type": "stream",
     "text": [
      "      6         70         813.208           7.236         805.972           0.789           1.203           2.136           2.913\n"
     ]
    },
    {
     "name": "stdout",
     "output_type": "stream",
     "text": []
    },
    {
     "name": "stderr",
     "output_type": "stream",
     "text": [
      "      6         80         825.635          20.142         805.493           1.395           2.007           2.194           2.912\n"
     ]
    },
    {
     "name": "stdout",
     "output_type": "stream",
     "text": []
    },
    {
     "name": "stderr",
     "output_type": "stream",
     "text": [
      "      6         90         867.293           7.271         860.022           1.020           1.206           2.245           3.009\n"
     ]
    },
    {
     "name": "stdout",
     "output_type": "stream",
     "text": []
    },
    {
     "name": "stderr",
     "output_type": "stream",
     "text": [
      "      6        100        1237.694          17.880        1219.813           1.613           1.891           2.399           3.583\n"
     ]
    },
    {
     "name": "stdout",
     "output_type": "stream",
     "text": []
    },
    {
     "name": "stderr",
     "output_type": "stream",
     "text": [
      "      6        110         786.626           7.505         779.121           1.023           1.225           2.070           2.864\n"
     ]
    },
    {
     "name": "stdout",
     "output_type": "stream",
     "text": []
    },
    {
     "name": "stderr",
     "output_type": "stream",
     "text": [
      "      6        120         897.815          18.854         878.961           1.609           1.942           2.327           3.042\n"
     ]
    },
    {
     "name": "stdout",
     "output_type": "stream",
     "text": []
    },
    {
     "name": "stderr",
     "output_type": "stream",
     "text": [
      "\n",
      "\n",
      "Epoch summary:\n",
      "Validation  # epoch      total_loss     energy_loss     forces_loss      energy_mae     energy_rmse      forces_mae     forces_rmse\n",
      "                  6         921.438          11.174         910.264           1.175           1.495           2.268           3.095\n"
     ]
    },
    {
     "name": "stdout",
     "output_type": "stream",
     "text": [
      "Epoch 6: 100%|██████████| 200/200 [01:02<00:00,  3.20it/s, v_num=32, train_total_loss_step=1.03e+3, train_energy_loss_step=150.0, train_forces_loss_step=883.0, val_total_loss_step=1.06e+3, val_energy_loss_step=12.60, val_forces_loss_step=1.04e+3, val_total_loss_epoch=921.0, val_energy_loss_epoch=11.20, val_forces_loss_epoch=910.0, train_total_loss_epoch=1.14e+3, train_energy_loss_epoch=131.0, train_forces_loss_epoch=1.01e+3]    "
     ]
    },
    {
     "name": "stderr",
     "output_type": "stream",
     "text": [
      "Train       # epoch      total_loss     energy_loss     forces_loss      energy_mae     energy_rmse      forces_mae     forces_rmse\n",
      "                  6        1142.151         130.694        1011.457           4.137           5.113           2.414           3.263\n"
     ]
    },
    {
     "name": "stdout",
     "output_type": "stream",
     "text": [
      "Epoch 7:   0%|          | 0/200 [00:00<?, ?it/s, v_num=32, train_total_loss_step=1.03e+3, train_energy_loss_step=150.0, train_forces_loss_step=883.0, val_total_loss_step=1.06e+3, val_energy_loss_step=12.60, val_forces_loss_step=1.04e+3, val_total_loss_epoch=921.0, val_energy_loss_epoch=11.20, val_forces_loss_epoch=910.0, train_total_loss_epoch=1.14e+3, train_energy_loss_epoch=131.0, train_forces_loss_epoch=1.01e+3]          "
     ]
    },
    {
     "name": "stderr",
     "output_type": "stream",
     "text": [
      "\n",
      "\n",
      "Training\n",
      "# epoch      batch      total_loss     energy_loss     forces_loss      energy_mae     energy_rmse      forces_mae     forces_rmse\n",
      "      7          0         903.071           8.556         894.516           1.169           1.308           2.291           3.069\n"
     ]
    },
    {
     "name": "stdout",
     "output_type": "stream",
     "text": [
      "Epoch 7:   5%|▌         | 10/200 [00:02<00:42,  4.44it/s, v_num=32, train_total_loss_step=747.0, train_energy_loss_step=19.70, train_forces_loss_step=728.0, val_total_loss_step=1.06e+3, val_energy_loss_step=12.60, val_forces_loss_step=1.04e+3, val_total_loss_epoch=921.0, val_energy_loss_epoch=11.20, val_forces_loss_epoch=910.0, train_total_loss_epoch=1.14e+3, train_energy_loss_epoch=131.0, train_forces_loss_epoch=1.01e+3] "
     ]
    },
    {
     "name": "stderr",
     "output_type": "stream",
     "text": [
      "      7         10         934.501          12.377         922.124           1.375           1.573           2.278           3.116\n"
     ]
    },
    {
     "name": "stdout",
     "output_type": "stream",
     "text": [
      "Epoch 7:  10%|█         | 20/200 [00:04<00:39,  4.57it/s, v_num=32, train_total_loss_step=1.61e+3, train_energy_loss_step=355.0, train_forces_loss_step=1.25e+3, val_total_loss_step=1.06e+3, val_energy_loss_step=12.60, val_forces_loss_step=1.04e+3, val_total_loss_epoch=921.0, val_energy_loss_epoch=11.20, val_forces_loss_epoch=910.0, train_total_loss_epoch=1.14e+3, train_energy_loss_epoch=131.0, train_forces_loss_epoch=1.01e+3]"
     ]
    },
    {
     "name": "stderr",
     "output_type": "stream",
     "text": [
      "      7         20         928.218          83.065         845.153           3.869           4.076           2.201           2.983\n"
     ]
    },
    {
     "name": "stdout",
     "output_type": "stream",
     "text": [
      "Epoch 7:  15%|█▌        | 30/200 [00:06<00:36,  4.62it/s, v_num=32, train_total_loss_step=1.13e+3, train_energy_loss_step=15.90, train_forces_loss_step=1.11e+3, val_total_loss_step=1.06e+3, val_energy_loss_step=12.60, val_forces_loss_step=1.04e+3, val_total_loss_epoch=921.0, val_energy_loss_epoch=11.20, val_forces_loss_epoch=910.0, train_total_loss_epoch=1.14e+3, train_energy_loss_epoch=131.0, train_forces_loss_epoch=1.01e+3]"
     ]
    },
    {
     "name": "stderr",
     "output_type": "stream",
     "text": [
      "      7         30         751.621         128.311         623.311           4.988           5.066           1.893           2.561\n"
     ]
    },
    {
     "name": "stdout",
     "output_type": "stream",
     "text": [
      "Epoch 7:  20%|██        | 40/200 [00:08<00:34,  4.64it/s, v_num=32, train_total_loss_step=1.05e+3, train_energy_loss_step=23.60, train_forces_loss_step=1.03e+3, val_total_loss_step=1.06e+3, val_energy_loss_step=12.60, val_forces_loss_step=1.04e+3, val_total_loss_epoch=921.0, val_energy_loss_epoch=11.20, val_forces_loss_epoch=910.0, train_total_loss_epoch=1.14e+3, train_energy_loss_epoch=131.0, train_forces_loss_epoch=1.01e+3]"
     ]
    },
    {
     "name": "stderr",
     "output_type": "stream",
     "text": [
      "      7         40        1023.569          36.266         987.303           2.350           2.693           2.323           3.224\n"
     ]
    },
    {
     "name": "stdout",
     "output_type": "stream",
     "text": [
      "Epoch 7:  25%|██▌       | 50/200 [00:10<00:32,  4.67it/s, v_num=32, train_total_loss_step=1.01e+3, train_energy_loss_step=98.50, train_forces_loss_step=913.0, val_total_loss_step=1.06e+3, val_energy_loss_step=12.60, val_forces_loss_step=1.04e+3, val_total_loss_epoch=921.0, val_energy_loss_epoch=11.20, val_forces_loss_epoch=910.0, train_total_loss_epoch=1.14e+3, train_energy_loss_epoch=131.0, train_forces_loss_epoch=1.01e+3]  "
     ]
    },
    {
     "name": "stderr",
     "output_type": "stream",
     "text": [
      "      7         50         962.236           2.259         959.977           0.581           0.672           2.306           3.179\n"
     ]
    },
    {
     "name": "stdout",
     "output_type": "stream",
     "text": [
      "Epoch 7:  30%|███       | 60/200 [00:12<00:29,  4.67it/s, v_num=32, train_total_loss_step=955.0, train_energy_loss_step=151.0, train_forces_loss_step=804.0, val_total_loss_step=1.06e+3, val_energy_loss_step=12.60, val_forces_loss_step=1.04e+3, val_total_loss_epoch=921.0, val_energy_loss_epoch=11.20, val_forces_loss_epoch=910.0, train_total_loss_epoch=1.14e+3, train_energy_loss_epoch=131.0, train_forces_loss_epoch=1.01e+3]    "
     ]
    },
    {
     "name": "stderr",
     "output_type": "stream",
     "text": [
      "      7         60         900.598         148.471         752.127           5.375           5.449           2.111           2.814\n"
     ]
    },
    {
     "name": "stdout",
     "output_type": "stream",
     "text": [
      "Epoch 7:  35%|███▌      | 70/200 [00:14<00:27,  4.68it/s, v_num=32, train_total_loss_step=644.0, train_energy_loss_step=81.00, train_forces_loss_step=563.0, val_total_loss_step=1.06e+3, val_energy_loss_step=12.60, val_forces_loss_step=1.04e+3, val_total_loss_epoch=921.0, val_energy_loss_epoch=11.20, val_forces_loss_epoch=910.0, train_total_loss_epoch=1.14e+3, train_energy_loss_epoch=131.0, train_forces_loss_epoch=1.01e+3]    "
     ]
    },
    {
     "name": "stderr",
     "output_type": "stream",
     "text": [
      "      7         70         911.106          30.655         880.451           1.819           2.476           2.185           3.044\n"
     ]
    },
    {
     "name": "stdout",
     "output_type": "stream",
     "text": [
      "Epoch 7:  40%|████      | 80/200 [00:17<00:25,  4.68it/s, v_num=32, train_total_loss_step=1.31e+3, train_energy_loss_step=528.0, train_forces_loss_step=780.0, val_total_loss_step=1.06e+3, val_energy_loss_step=12.60, val_forces_loss_step=1.04e+3, val_total_loss_epoch=921.0, val_energy_loss_epoch=11.20, val_forces_loss_epoch=910.0, train_total_loss_epoch=1.14e+3, train_energy_loss_epoch=131.0, train_forces_loss_epoch=1.01e+3] "
     ]
    },
    {
     "name": "stderr",
     "output_type": "stream",
     "text": [
      "      7         80         953.358         206.431         746.927           6.331           6.425           2.145           2.804\n"
     ]
    },
    {
     "name": "stdout",
     "output_type": "stream",
     "text": [
      "Epoch 7:  45%|████▌     | 90/200 [00:19<00:23,  4.69it/s, v_num=32, train_total_loss_step=1.02e+3, train_energy_loss_step=288.0, train_forces_loss_step=736.0, val_total_loss_step=1.06e+3, val_energy_loss_step=12.60, val_forces_loss_step=1.04e+3, val_total_loss_epoch=921.0, val_energy_loss_epoch=11.20, val_forces_loss_epoch=910.0, train_total_loss_epoch=1.14e+3, train_energy_loss_epoch=131.0, train_forces_loss_epoch=1.01e+3] "
     ]
    },
    {
     "name": "stderr",
     "output_type": "stream",
     "text": [
      "      7         90         785.134         184.037         601.097           5.975           6.067           1.832           2.515\n"
     ]
    },
    {
     "name": "stdout",
     "output_type": "stream",
     "text": [
      "Epoch 7:  50%|█████     | 100/200 [00:21<00:21,  4.68it/s, v_num=32, train_total_loss_step=974.0, train_energy_loss_step=229.0, train_forces_loss_step=745.0, val_total_loss_step=1.06e+3, val_energy_loss_step=12.60, val_forces_loss_step=1.04e+3, val_total_loss_epoch=921.0, val_energy_loss_epoch=11.20, val_forces_loss_epoch=910.0, train_total_loss_epoch=1.14e+3, train_energy_loss_epoch=131.0, train_forces_loss_epoch=1.01e+3]   "
     ]
    },
    {
     "name": "stderr",
     "output_type": "stream",
     "text": [
      "      7        100        1216.184         186.717        1029.467           5.787           6.111           2.349           3.292\n"
     ]
    },
    {
     "name": "stdout",
     "output_type": "stream",
     "text": [
      "Epoch 7:  55%|█████▌    | 110/200 [00:23<00:19,  4.64it/s, v_num=32, train_total_loss_step=844.0, train_energy_loss_step=22.00, train_forces_loss_step=821.0, val_total_loss_step=1.06e+3, val_energy_loss_step=12.60, val_forces_loss_step=1.04e+3, val_total_loss_epoch=921.0, val_energy_loss_epoch=11.20, val_forces_loss_epoch=910.0, train_total_loss_epoch=1.14e+3, train_energy_loss_epoch=131.0, train_forces_loss_epoch=1.01e+3]    "
     ]
    },
    {
     "name": "stderr",
     "output_type": "stream",
     "text": [
      "      7        110         990.803          84.650         906.153           3.963           4.115           2.338           3.088\n"
     ]
    },
    {
     "name": "stdout",
     "output_type": "stream",
     "text": [
      "Epoch 7:  60%|██████    | 120/200 [00:25<00:17,  4.64it/s, v_num=32, train_total_loss_step=770.0, train_energy_loss_step=65.70, train_forces_loss_step=704.0, val_total_loss_step=1.06e+3, val_energy_loss_step=12.60, val_forces_loss_step=1.04e+3, val_total_loss_epoch=921.0, val_energy_loss_epoch=11.20, val_forces_loss_epoch=910.0, train_total_loss_epoch=1.14e+3, train_energy_loss_epoch=131.0, train_forces_loss_epoch=1.01e+3]"
     ]
    },
    {
     "name": "stderr",
     "output_type": "stream",
     "text": [
      "      7        120         897.127           9.377         887.750           1.150           1.369           2.301           3.057\n"
     ]
    },
    {
     "name": "stdout",
     "output_type": "stream",
     "text": [
      "Epoch 7:  65%|██████▌   | 130/200 [00:28<00:15,  4.64it/s, v_num=32, train_total_loss_step=1.06e+3, train_energy_loss_step=87.70, train_forces_loss_step=973.0, val_total_loss_step=1.06e+3, val_energy_loss_step=12.60, val_forces_loss_step=1.04e+3, val_total_loss_epoch=921.0, val_energy_loss_epoch=11.20, val_forces_loss_epoch=910.0, train_total_loss_epoch=1.14e+3, train_energy_loss_epoch=131.0, train_forces_loss_epoch=1.01e+3]  "
     ]
    },
    {
     "name": "stderr",
     "output_type": "stream",
     "text": [
      "      7        130         803.390          52.402         750.987           3.200           3.237           2.144           2.812\n"
     ]
    },
    {
     "name": "stdout",
     "output_type": "stream",
     "text": [
      "Epoch 7:  70%|███████   | 140/200 [00:30<00:12,  4.65it/s, v_num=32, train_total_loss_step=1.29e+3, train_energy_loss_step=220.0, train_forces_loss_step=1.07e+3, val_total_loss_step=1.06e+3, val_energy_loss_step=12.60, val_forces_loss_step=1.04e+3, val_total_loss_epoch=921.0, val_energy_loss_epoch=11.20, val_forces_loss_epoch=910.0, train_total_loss_epoch=1.14e+3, train_energy_loss_epoch=131.0, train_forces_loss_epoch=1.01e+3]"
     ]
    },
    {
     "name": "stderr",
     "output_type": "stream",
     "text": [
      "      7        140        1161.673         135.614        1026.059           5.119           5.208           2.256           3.286\n"
     ]
    },
    {
     "name": "stdout",
     "output_type": "stream",
     "text": [
      "Epoch 7:  75%|███████▌  | 150/200 [00:32<00:10,  4.63it/s, v_num=32, train_total_loss_step=1.29e+3, train_energy_loss_step=280.0, train_forces_loss_step=1.01e+3, val_total_loss_step=1.06e+3, val_energy_loss_step=12.60, val_forces_loss_step=1.04e+3, val_total_loss_epoch=921.0, val_energy_loss_epoch=11.20, val_forces_loss_epoch=910.0, train_total_loss_epoch=1.14e+3, train_energy_loss_epoch=131.0, train_forces_loss_epoch=1.01e+3]"
     ]
    },
    {
     "name": "stderr",
     "output_type": "stream",
     "text": [
      "      7        150         929.079         142.884         786.195           5.281           5.346           2.157           2.877\n"
     ]
    },
    {
     "name": "stdout",
     "output_type": "stream",
     "text": [
      "Epoch 7:  80%|████████  | 160/200 [00:34<00:08,  4.62it/s, v_num=32, train_total_loss_step=799.0, train_energy_loss_step=29.10, train_forces_loss_step=770.0, val_total_loss_step=1.06e+3, val_energy_loss_step=12.60, val_forces_loss_step=1.04e+3, val_total_loss_epoch=921.0, val_energy_loss_epoch=11.20, val_forces_loss_epoch=910.0, train_total_loss_epoch=1.14e+3, train_energy_loss_epoch=131.0, train_forces_loss_epoch=1.01e+3]    "
     ]
    },
    {
     "name": "stderr",
     "output_type": "stream",
     "text": [
      "      7        160         763.126          24.162         738.964           1.913           2.198           2.122           2.789\n"
     ]
    },
    {
     "name": "stdout",
     "output_type": "stream",
     "text": [
      "Epoch 7:  85%|████████▌ | 170/200 [00:36<00:06,  4.63it/s, v_num=32, train_total_loss_step=743.0, train_energy_loss_step=2.130, train_forces_loss_step=740.0, val_total_loss_step=1.06e+3, val_energy_loss_step=12.60, val_forces_loss_step=1.04e+3, val_total_loss_epoch=921.0, val_energy_loss_epoch=11.20, val_forces_loss_epoch=910.0, train_total_loss_epoch=1.14e+3, train_energy_loss_epoch=131.0, train_forces_loss_epoch=1.01e+3]    "
     ]
    },
    {
     "name": "stderr",
     "output_type": "stream",
     "text": [
      "      7        170         476.087          18.643         457.444           1.850           1.931           1.617           2.194\n"
     ]
    },
    {
     "name": "stdout",
     "output_type": "stream",
     "text": [
      "Epoch 7:  90%|█████████ | 180/200 [00:38<00:04,  4.63it/s, v_num=32, train_total_loss_step=873.0, train_energy_loss_step=40.00, train_forces_loss_step=833.0, val_total_loss_step=1.06e+3, val_energy_loss_step=12.60, val_forces_loss_step=1.04e+3, val_total_loss_epoch=921.0, val_energy_loss_epoch=11.20, val_forces_loss_epoch=910.0, train_total_loss_epoch=1.14e+3, train_energy_loss_epoch=131.0, train_forces_loss_epoch=1.01e+3]"
     ]
    },
    {
     "name": "stderr",
     "output_type": "stream",
     "text": [
      "      7        180         958.232          50.776         907.455           2.806           3.187           2.187           3.091\n"
     ]
    },
    {
     "name": "stdout",
     "output_type": "stream",
     "text": [
      "Epoch 7:  95%|█████████▌| 190/200 [00:40<00:02,  4.64it/s, v_num=32, train_total_loss_step=875.0, train_energy_loss_step=19.70, train_forces_loss_step=855.0, val_total_loss_step=1.06e+3, val_energy_loss_step=12.60, val_forces_loss_step=1.04e+3, val_total_loss_epoch=921.0, val_energy_loss_epoch=11.20, val_forces_loss_epoch=910.0, train_total_loss_epoch=1.14e+3, train_energy_loss_epoch=131.0, train_forces_loss_epoch=1.01e+3]"
     ]
    },
    {
     "name": "stderr",
     "output_type": "stream",
     "text": [
      "      7        190         658.246          47.247         610.999           2.969           3.074           1.775           2.536\n"
     ]
    },
    {
     "name": "stdout",
     "output_type": "stream",
     "text": [
      "Epoch 7: 100%|██████████| 200/200 [00:43<00:00,  4.64it/s, v_num=32, train_total_loss_step=1.62e+3, train_energy_loss_step=716.0, train_forces_loss_step=901.0, val_total_loss_step=1.06e+3, val_energy_loss_step=12.60, val_forces_loss_step=1.04e+3, val_total_loss_epoch=921.0, val_energy_loss_epoch=11.20, val_forces_loss_epoch=910.0, train_total_loss_epoch=1.14e+3, train_energy_loss_epoch=131.0, train_forces_loss_epoch=1.01e+3]  "
     ]
    },
    {
     "name": "stderr",
     "output_type": "stream",
     "text": [
      "\n",
      "\n",
      "Validating\n",
      "# epoch      batch      total_loss     energy_loss     forces_loss      energy_mae     energy_rmse      forces_mae     forces_rmse\n"
     ]
    },
    {
     "name": "stdout",
     "output_type": "stream",
     "text": []
    },
    {
     "name": "stderr",
     "output_type": "stream",
     "text": [
      "      7          0         916.261         104.773         811.488           4.484           4.578           2.162           2.923\n"
     ]
    },
    {
     "name": "stdout",
     "output_type": "stream",
     "text": []
    },
    {
     "name": "stderr",
     "output_type": "stream",
     "text": [
      "      7         10         832.948          41.602         791.346           2.703           2.884           2.081           2.886\n"
     ]
    },
    {
     "name": "stdout",
     "output_type": "stream",
     "text": []
    },
    {
     "name": "stderr",
     "output_type": "stream",
     "text": [
      "      7         20         862.339          81.717         780.622           3.840           4.043           2.117           2.867\n"
     ]
    },
    {
     "name": "stdout",
     "output_type": "stream",
     "text": []
    },
    {
     "name": "stderr",
     "output_type": "stream",
     "text": [
      "      7         30         888.744          87.412         801.332           3.984           4.181           2.185           2.904\n"
     ]
    },
    {
     "name": "stdout",
     "output_type": "stream",
     "text": []
    },
    {
     "name": "stderr",
     "output_type": "stream",
     "text": [
      "      7         40         852.169          43.359         808.809           2.828           2.945           2.141           2.918\n"
     ]
    },
    {
     "name": "stdout",
     "output_type": "stream",
     "text": []
    },
    {
     "name": "stderr",
     "output_type": "stream",
     "text": [
      "      7         50         992.860          55.429         937.431           2.973           3.330           2.307           3.141\n"
     ]
    },
    {
     "name": "stdout",
     "output_type": "stream",
     "text": []
    },
    {
     "name": "stderr",
     "output_type": "stream",
     "text": [
      "      7         60         907.430          61.840         845.589           3.355           3.517           2.278           2.983\n"
     ]
    },
    {
     "name": "stdout",
     "output_type": "stream",
     "text": []
    },
    {
     "name": "stderr",
     "output_type": "stream",
     "text": [
      "      7         70         813.477          48.608         764.869           3.027           3.118           2.116           2.837\n"
     ]
    },
    {
     "name": "stdout",
     "output_type": "stream",
     "text": []
    },
    {
     "name": "stderr",
     "output_type": "stream",
     "text": [
      "      7         80         849.302          56.891         792.410           2.871           3.373           2.138           2.888\n"
     ]
    },
    {
     "name": "stdout",
     "output_type": "stream",
     "text": []
    },
    {
     "name": "stderr",
     "output_type": "stream",
     "text": [
      "      7         90         921.537          45.587         875.951           2.855           3.019           2.173           3.037\n"
     ]
    },
    {
     "name": "stdout",
     "output_type": "stream",
     "text": []
    },
    {
     "name": "stderr",
     "output_type": "stream",
     "text": [
      "      7        100        1041.802          50.769         991.033           2.773           3.187           2.293           3.230\n"
     ]
    },
    {
     "name": "stdout",
     "output_type": "stream",
     "text": []
    },
    {
     "name": "stderr",
     "output_type": "stream",
     "text": [
      "      7        110         701.864          43.784         658.080           2.773           2.959           1.974           2.632\n"
     ]
    },
    {
     "name": "stdout",
     "output_type": "stream",
     "text": []
    },
    {
     "name": "stderr",
     "output_type": "stream",
     "text": [
      "      7        120         848.683          73.361         775.322           3.641           3.830           2.186           2.857\n"
     ]
    },
    {
     "name": "stdout",
     "output_type": "stream",
     "text": []
    },
    {
     "name": "stderr",
     "output_type": "stream",
     "text": [
      "\n",
      "\n",
      "Epoch summary:\n",
      "Validation  # epoch      total_loss     energy_loss     forces_loss      energy_mae     energy_rmse      forces_mae     forces_rmse\n",
      "                  7         862.752          53.260         809.492           2.978           3.264           2.146           2.919\n"
     ]
    },
    {
     "name": "stdout",
     "output_type": "stream",
     "text": [
      "Epoch 7: 100%|██████████| 200/200 [01:03<00:00,  3.16it/s, v_num=32, train_total_loss_step=1.62e+3, train_energy_loss_step=716.0, train_forces_loss_step=901.0, val_total_loss_step=933.0, val_energy_loss_step=45.90, val_forces_loss_step=887.0, val_total_loss_epoch=863.0, val_energy_loss_epoch=53.30, val_forces_loss_epoch=809.0, train_total_loss_epoch=949.0, train_energy_loss_epoch=90.70, train_forces_loss_epoch=858.0]        "
     ]
    },
    {
     "name": "stderr",
     "output_type": "stream",
     "text": [
      "Train       # epoch      total_loss     energy_loss     forces_loss      energy_mae     energy_rmse      forces_mae     forces_rmse\n",
      "                  7         948.550          90.721         857.829           3.431           4.260           2.208           3.005\n"
     ]
    },
    {
     "name": "stdout",
     "output_type": "stream",
     "text": [
      "Epoch 8:   0%|          | 0/200 [00:00<?, ?it/s, v_num=32, train_total_loss_step=1.62e+3, train_energy_loss_step=716.0, train_forces_loss_step=901.0, val_total_loss_step=933.0, val_energy_loss_step=45.90, val_forces_loss_step=887.0, val_total_loss_epoch=863.0, val_energy_loss_epoch=53.30, val_forces_loss_epoch=809.0, train_total_loss_epoch=949.0, train_energy_loss_epoch=90.70, train_forces_loss_epoch=858.0]          "
     ]
    },
    {
     "name": "stderr",
     "output_type": "stream",
     "text": [
      "\n",
      "\n",
      "Training\n",
      "# epoch      batch      total_loss     energy_loss     forces_loss      energy_mae     energy_rmse      forces_mae     forces_rmse\n",
      "      8          0         837.736          52.524         785.211           3.081           3.241           2.120           2.875\n"
     ]
    },
    {
     "name": "stdout",
     "output_type": "stream",
     "text": [
      "Epoch 8:   5%|▌         | 10/200 [00:02<00:42,  4.49it/s, v_num=32, train_total_loss_step=953.0, train_energy_loss_step=156.0, train_forces_loss_step=797.0, val_total_loss_step=933.0, val_energy_loss_step=45.90, val_forces_loss_step=887.0, val_total_loss_epoch=863.0, val_energy_loss_epoch=53.30, val_forces_loss_epoch=809.0, train_total_loss_epoch=949.0, train_energy_loss_epoch=90.70, train_forces_loss_epoch=858.0]    "
     ]
    },
    {
     "name": "stderr",
     "output_type": "stream",
     "text": [
      "      8         10         729.436          88.571         640.865           3.981           4.209           1.888           2.597\n"
     ]
    },
    {
     "name": "stdout",
     "output_type": "stream",
     "text": [
      "Epoch 8:  10%|█         | 20/200 [00:04<00:39,  4.60it/s, v_num=32, train_total_loss_step=521.0, train_energy_loss_step=2.530, train_forces_loss_step=519.0, val_total_loss_step=933.0, val_energy_loss_step=45.90, val_forces_loss_step=887.0, val_total_loss_epoch=863.0, val_energy_loss_epoch=53.30, val_forces_loss_epoch=809.0, train_total_loss_epoch=949.0, train_energy_loss_epoch=90.70, train_forces_loss_epoch=858.0]    "
     ]
    },
    {
     "name": "stderr",
     "output_type": "stream",
     "text": [
      "      8         20        1006.520          64.253         942.267           3.219           3.585           2.357           3.149\n"
     ]
    },
    {
     "name": "stdout",
     "output_type": "stream",
     "text": [
      "Epoch 8:  15%|█▌        | 30/200 [00:06<00:36,  4.64it/s, v_num=32, train_total_loss_step=773.0, train_energy_loss_step=16.10, train_forces_loss_step=757.0, val_total_loss_step=933.0, val_energy_loss_step=45.90, val_forces_loss_step=887.0, val_total_loss_epoch=863.0, val_energy_loss_epoch=53.30, val_forces_loss_epoch=809.0, train_total_loss_epoch=949.0, train_energy_loss_epoch=90.70, train_forces_loss_epoch=858.0]   "
     ]
    },
    {
     "name": "stderr",
     "output_type": "stream",
     "text": [
      "      8         30         674.865          10.639         664.227           1.212           1.459           2.042           2.644\n"
     ]
    },
    {
     "name": "stdout",
     "output_type": "stream",
     "text": [
      "Epoch 8:  20%|██        | 40/200 [00:08<00:34,  4.66it/s, v_num=32, train_total_loss_step=1.1e+3, train_energy_loss_step=10.70, train_forces_loss_step=1.09e+3, val_total_loss_step=933.0, val_energy_loss_step=45.90, val_forces_loss_step=887.0, val_total_loss_epoch=863.0, val_energy_loss_epoch=53.30, val_forces_loss_epoch=809.0, train_total_loss_epoch=949.0, train_energy_loss_epoch=90.70, train_forces_loss_epoch=858.0]"
     ]
    },
    {
     "name": "stderr",
     "output_type": "stream",
     "text": [
      "      8         40         969.398         182.062         787.337           5.869           6.034           2.070           2.879\n"
     ]
    },
    {
     "name": "stdout",
     "output_type": "stream",
     "text": [
      "Epoch 8:  25%|██▌       | 50/200 [00:10<00:32,  4.67it/s, v_num=32, train_total_loss_step=835.0, train_energy_loss_step=32.50, train_forces_loss_step=802.0, val_total_loss_step=933.0, val_energy_loss_step=45.90, val_forces_loss_step=887.0, val_total_loss_epoch=863.0, val_energy_loss_epoch=53.30, val_forces_loss_epoch=809.0, train_total_loss_epoch=949.0, train_energy_loss_epoch=90.70, train_forces_loss_epoch=858.0]    "
     ]
    },
    {
     "name": "stderr",
     "output_type": "stream",
     "text": [
      "      8         50         978.475         125.833         852.642           4.656           5.017           2.198           2.996\n"
     ]
    },
    {
     "name": "stdout",
     "output_type": "stream",
     "text": [
      "Epoch 8:  30%|███       | 60/200 [00:12<00:29,  4.68it/s, v_num=32, train_total_loss_step=1.07e+3, train_energy_loss_step=27.90, train_forces_loss_step=1.04e+3, val_total_loss_step=933.0, val_energy_loss_step=45.90, val_forces_loss_step=887.0, val_total_loss_epoch=863.0, val_energy_loss_epoch=53.30, val_forces_loss_epoch=809.0, train_total_loss_epoch=949.0, train_energy_loss_epoch=90.70, train_forces_loss_epoch=858.0]"
     ]
    },
    {
     "name": "stderr",
     "output_type": "stream",
     "text": [
      "      8         60         870.786           3.374         867.412           0.719           0.821           2.287           3.022\n"
     ]
    },
    {
     "name": "stdout",
     "output_type": "stream",
     "text": [
      "Epoch 8:  35%|███▌      | 70/200 [00:14<00:27,  4.67it/s, v_num=32, train_total_loss_step=774.0, train_energy_loss_step=65.30, train_forces_loss_step=709.0, val_total_loss_step=933.0, val_energy_loss_step=45.90, val_forces_loss_step=887.0, val_total_loss_epoch=863.0, val_energy_loss_epoch=53.30, val_forces_loss_epoch=809.0, train_total_loss_epoch=949.0, train_energy_loss_epoch=90.70, train_forces_loss_epoch=858.0]    "
     ]
    },
    {
     "name": "stderr",
     "output_type": "stream",
     "text": [
      "      8         70        1469.377          63.153        1406.224           3.081           3.554           2.809           3.847\n"
     ]
    },
    {
     "name": "stdout",
     "output_type": "stream",
     "text": [
      "Epoch 8:  40%|████      | 80/200 [00:17<00:25,  4.67it/s, v_num=32, train_total_loss_step=989.0, train_energy_loss_step=6.770, train_forces_loss_step=982.0, val_total_loss_step=933.0, val_energy_loss_step=45.90, val_forces_loss_step=887.0, val_total_loss_epoch=863.0, val_energy_loss_epoch=53.30, val_forces_loss_epoch=809.0, train_total_loss_epoch=949.0, train_energy_loss_epoch=90.70, train_forces_loss_epoch=858.0]    "
     ]
    },
    {
     "name": "stderr",
     "output_type": "stream",
     "text": [
      "      8         80         660.199          22.241         637.957           1.906           2.109           1.971           2.591\n"
     ]
    },
    {
     "name": "stdout",
     "output_type": "stream",
     "text": [
      "Epoch 8:  45%|████▌     | 90/200 [00:19<00:23,  4.68it/s, v_num=32, train_total_loss_step=817.0, train_energy_loss_step=61.50, train_forces_loss_step=756.0, val_total_loss_step=933.0, val_energy_loss_step=45.90, val_forces_loss_step=887.0, val_total_loss_epoch=863.0, val_energy_loss_epoch=53.30, val_forces_loss_epoch=809.0, train_total_loss_epoch=949.0, train_energy_loss_epoch=90.70, train_forces_loss_epoch=858.0]    "
     ]
    },
    {
     "name": "stderr",
     "output_type": "stream",
     "text": [
      "      8         90         971.180           5.467         965.713           0.938           1.046           2.444           3.188\n"
     ]
    },
    {
     "name": "stdout",
     "output_type": "stream",
     "text": [
      "Epoch 8:  50%|█████     | 100/200 [00:21<00:21,  4.68it/s, v_num=32, train_total_loss_step=769.0, train_energy_loss_step=45.20, train_forces_loss_step=724.0, val_total_loss_step=933.0, val_energy_loss_step=45.90, val_forces_loss_step=887.0, val_total_loss_epoch=863.0, val_energy_loss_epoch=53.30, val_forces_loss_epoch=809.0, train_total_loss_epoch=949.0, train_energy_loss_epoch=90.70, train_forces_loss_epoch=858.0]   "
     ]
    },
    {
     "name": "stderr",
     "output_type": "stream",
     "text": [
      "      8        100         992.415          11.104         981.312           1.175           1.490           2.396           3.214\n"
     ]
    },
    {
     "name": "stdout",
     "output_type": "stream",
     "text": [
      "Epoch 8:  55%|█████▌    | 110/200 [00:23<00:19,  4.67it/s, v_num=32, train_total_loss_step=1.13e+3, train_energy_loss_step=34.40, train_forces_loss_step=1.09e+3, val_total_loss_step=933.0, val_energy_loss_step=45.90, val_forces_loss_step=887.0, val_total_loss_epoch=863.0, val_energy_loss_epoch=53.30, val_forces_loss_epoch=809.0, train_total_loss_epoch=949.0, train_energy_loss_epoch=90.70, train_forces_loss_epoch=858.0]"
     ]
    },
    {
     "name": "stderr",
     "output_type": "stream",
     "text": [
      "      8        110         993.456          17.054         976.402           1.394           1.847           2.339           3.206\n"
     ]
    },
    {
     "name": "stdout",
     "output_type": "stream",
     "text": [
      "Epoch 8:  60%|██████    | 120/200 [00:25<00:17,  4.67it/s, v_num=32, train_total_loss_step=1.37e+3, train_energy_loss_step=44.00, train_forces_loss_step=1.32e+3, val_total_loss_step=933.0, val_energy_loss_step=45.90, val_forces_loss_step=887.0, val_total_loss_epoch=863.0, val_energy_loss_epoch=53.30, val_forces_loss_epoch=809.0, train_total_loss_epoch=949.0, train_energy_loss_epoch=90.70, train_forces_loss_epoch=858.0]"
     ]
    },
    {
     "name": "stderr",
     "output_type": "stream",
     "text": [
      "      8        120        1048.755          21.502        1027.253           1.800           2.074           2.359           3.288\n"
     ]
    },
    {
     "name": "stdout",
     "output_type": "stream",
     "text": [
      "Epoch 8:  65%|██████▌   | 130/200 [00:27<00:14,  4.67it/s, v_num=32, train_total_loss_step=1.19e+3, train_energy_loss_step=165.0, train_forces_loss_step=1.03e+3, val_total_loss_step=933.0, val_energy_loss_step=45.90, val_forces_loss_step=887.0, val_total_loss_epoch=863.0, val_energy_loss_epoch=53.30, val_forces_loss_epoch=809.0, train_total_loss_epoch=949.0, train_energy_loss_epoch=90.70, train_forces_loss_epoch=858.0]"
     ]
    },
    {
     "name": "stderr",
     "output_type": "stream",
     "text": [
      "      8        130        1365.910         112.164        1253.746           4.688           4.736           2.685           3.633\n"
     ]
    },
    {
     "name": "stdout",
     "output_type": "stream",
     "text": [
      "Epoch 8:  70%|███████   | 140/200 [00:29<00:12,  4.68it/s, v_num=32, train_total_loss_step=1.1e+3, train_energy_loss_step=21.60, train_forces_loss_step=1.08e+3, val_total_loss_step=933.0, val_energy_loss_step=45.90, val_forces_loss_step=887.0, val_total_loss_epoch=863.0, val_energy_loss_epoch=53.30, val_forces_loss_epoch=809.0, train_total_loss_epoch=949.0, train_energy_loss_epoch=90.70, train_forces_loss_epoch=858.0] "
     ]
    },
    {
     "name": "stderr",
     "output_type": "stream",
     "text": [
      "      8        140        1325.957         352.457         973.500           8.337           8.396           2.292           3.201\n"
     ]
    },
    {
     "name": "stdout",
     "output_type": "stream",
     "text": [
      "Epoch 8:  75%|███████▌  | 150/200 [00:32<00:10,  4.67it/s, v_num=32, train_total_loss_step=963.0, train_energy_loss_step=35.30, train_forces_loss_step=928.0, val_total_loss_step=933.0, val_energy_loss_step=45.90, val_forces_loss_step=887.0, val_total_loss_epoch=863.0, val_energy_loss_epoch=53.30, val_forces_loss_epoch=809.0, train_total_loss_epoch=949.0, train_energy_loss_epoch=90.70, train_forces_loss_epoch=858.0]    "
     ]
    },
    {
     "name": "stderr",
     "output_type": "stream",
     "text": [
      "      8        150         826.655          44.189         782.465           2.688           2.973           2.083           2.870\n"
     ]
    },
    {
     "name": "stdout",
     "output_type": "stream",
     "text": [
      "Epoch 8:  80%|████████  | 160/200 [00:34<00:08,  4.67it/s, v_num=32, train_total_loss_step=887.0, train_energy_loss_step=13.70, train_forces_loss_step=874.0, val_total_loss_step=933.0, val_energy_loss_step=45.90, val_forces_loss_step=887.0, val_total_loss_epoch=863.0, val_energy_loss_epoch=53.30, val_forces_loss_epoch=809.0, train_total_loss_epoch=949.0, train_energy_loss_epoch=90.70, train_forces_loss_epoch=858.0]"
     ]
    },
    {
     "name": "stderr",
     "output_type": "stream",
     "text": [
      "      8        160        1018.927           7.490        1011.437           1.150           1.224           2.402           3.263\n"
     ]
    },
    {
     "name": "stdout",
     "output_type": "stream",
     "text": [
      "Epoch 8:  85%|████████▌ | 170/200 [00:36<00:06,  4.68it/s, v_num=32, train_total_loss_step=743.0, train_energy_loss_step=7.470, train_forces_loss_step=735.0, val_total_loss_step=933.0, val_energy_loss_step=45.90, val_forces_loss_step=887.0, val_total_loss_epoch=863.0, val_energy_loss_epoch=53.30, val_forces_loss_epoch=809.0, train_total_loss_epoch=949.0, train_energy_loss_epoch=90.70, train_forces_loss_epoch=858.0]    "
     ]
    },
    {
     "name": "stderr",
     "output_type": "stream",
     "text": [
      "      8        170         962.348          10.771         951.577           0.988           1.468           2.295           3.165\n"
     ]
    },
    {
     "name": "stdout",
     "output_type": "stream",
     "text": [
      "Epoch 8:  90%|█████████ | 180/200 [00:38<00:04,  4.68it/s, v_num=32, train_total_loss_step=1.01e+3, train_energy_loss_step=22.40, train_forces_loss_step=991.0, val_total_loss_step=933.0, val_energy_loss_step=45.90, val_forces_loss_step=887.0, val_total_loss_epoch=863.0, val_energy_loss_epoch=53.30, val_forces_loss_epoch=809.0, train_total_loss_epoch=949.0, train_energy_loss_epoch=90.70, train_forces_loss_epoch=858.0]  "
     ]
    },
    {
     "name": "stderr",
     "output_type": "stream",
     "text": [
      "      8        180         915.203          25.682         889.521           1.975           2.266           2.290           3.060\n"
     ]
    },
    {
     "name": "stdout",
     "output_type": "stream",
     "text": [
      "Epoch 8:  95%|█████████▌| 190/200 [00:40<00:02,  4.68it/s, v_num=32, train_total_loss_step=882.0, train_energy_loss_step=64.90, train_forces_loss_step=817.0, val_total_loss_step=933.0, val_energy_loss_step=45.90, val_forces_loss_step=887.0, val_total_loss_epoch=863.0, val_energy_loss_epoch=53.30, val_forces_loss_epoch=809.0, train_total_loss_epoch=949.0, train_energy_loss_epoch=90.70, train_forces_loss_epoch=858.0]  "
     ]
    },
    {
     "name": "stderr",
     "output_type": "stream",
     "text": [
      "      8        190         863.953          25.828         838.124           2.075           2.273           2.248           2.970\n"
     ]
    },
    {
     "name": "stdout",
     "output_type": "stream",
     "text": [
      "Epoch 8: 100%|██████████| 200/200 [00:42<00:00,  4.68it/s, v_num=32, train_total_loss_step=978.0, train_energy_loss_step=28.80, train_forces_loss_step=949.0, val_total_loss_step=933.0, val_energy_loss_step=45.90, val_forces_loss_step=887.0, val_total_loss_epoch=863.0, val_energy_loss_epoch=53.30, val_forces_loss_epoch=809.0, train_total_loss_epoch=949.0, train_energy_loss_epoch=90.70, train_forces_loss_epoch=858.0]"
     ]
    },
    {
     "name": "stderr",
     "output_type": "stream",
     "text": [
      "\n",
      "\n",
      "Validating\n",
      "# epoch      batch      total_loss     energy_loss     forces_loss      energy_mae     energy_rmse      forces_mae     forces_rmse\n"
     ]
    },
    {
     "name": "stdout",
     "output_type": "stream",
     "text": []
    },
    {
     "name": "stderr",
     "output_type": "stream",
     "text": [
      "      8          0         847.884          32.740         815.144           2.367           2.559           2.214           2.929\n"
     ]
    },
    {
     "name": "stdout",
     "output_type": "stream",
     "text": []
    },
    {
     "name": "stderr",
     "output_type": "stream",
     "text": [
      "      8         10         765.879           5.532         760.348           0.762           1.052           2.075           2.829\n"
     ]
    },
    {
     "name": "stdout",
     "output_type": "stream",
     "text": []
    },
    {
     "name": "stderr",
     "output_type": "stream",
     "text": [
      "      8         20         791.603          27.382         764.221           1.949           2.340           2.153           2.836\n"
     ]
    },
    {
     "name": "stdout",
     "output_type": "stream",
     "text": []
    },
    {
     "name": "stderr",
     "output_type": "stream",
     "text": [
      "      8         30         822.823          25.920         796.903           2.000           2.277           2.189           2.896\n"
     ]
    },
    {
     "name": "stdout",
     "output_type": "stream",
     "text": []
    },
    {
     "name": "stderr",
     "output_type": "stream",
     "text": [
      "      8         40         830.530           9.951         820.580           1.285           1.411           2.186           2.939\n"
     ]
    },
    {
     "name": "stdout",
     "output_type": "stream",
     "text": []
    },
    {
     "name": "stderr",
     "output_type": "stream",
     "text": [
      "      8         50         980.263          13.915         966.348           1.469           1.668           2.377           3.189\n"
     ]
    },
    {
     "name": "stdout",
     "output_type": "stream",
     "text": []
    },
    {
     "name": "stderr",
     "output_type": "stream",
     "text": [
      "      8         60         840.944          15.599         825.345           1.590           1.766           2.241           2.948\n"
     ]
    },
    {
     "name": "stdout",
     "output_type": "stream",
     "text": []
    },
    {
     "name": "stderr",
     "output_type": "stream",
     "text": [
      "      8         70         691.961          12.043         679.919           1.098           1.552           2.011           2.675\n"
     ]
    },
    {
     "name": "stdout",
     "output_type": "stream",
     "text": []
    },
    {
     "name": "stderr",
     "output_type": "stream",
     "text": [
      "      8         80         903.777          19.182         884.595           1.328           1.959           2.300           3.051\n"
     ]
    },
    {
     "name": "stdout",
     "output_type": "stream",
     "text": []
    },
    {
     "name": "stderr",
     "output_type": "stream",
     "text": [
      "      8         90         879.508          10.812         868.696           1.312           1.470           2.194           3.024\n"
     ]
    },
    {
     "name": "stdout",
     "output_type": "stream",
     "text": []
    },
    {
     "name": "stderr",
     "output_type": "stream",
     "text": [
      "      8        100        1009.640          16.329         993.311           1.504           1.807           2.251           3.234\n"
     ]
    },
    {
     "name": "stdout",
     "output_type": "stream",
     "text": []
    },
    {
     "name": "stderr",
     "output_type": "stream",
     "text": [
      "      8        110         709.133          12.515         696.618           1.035           1.582           2.013           2.708\n"
     ]
    },
    {
     "name": "stdout",
     "output_type": "stream",
     "text": []
    },
    {
     "name": "stderr",
     "output_type": "stream",
     "text": [
      "      8        120         752.440          24.656         727.784           1.773           2.221           2.116           2.768\n"
     ]
    },
    {
     "name": "stdout",
     "output_type": "stream",
     "text": []
    },
    {
     "name": "stderr",
     "output_type": "stream",
     "text": [
      "\n",
      "\n",
      "Epoch summary:\n",
      "Validation  # epoch      total_loss     energy_loss     forces_loss      energy_mae     energy_rmse      forces_mae     forces_rmse\n",
      "                  8         814.297          14.204         800.093           1.344           1.685           2.152           2.902\n"
     ]
    },
    {
     "name": "stdout",
     "output_type": "stream",
     "text": [
      "Epoch 8: 100%|██████████| 200/200 [01:02<00:00,  3.18it/s, v_num=32, train_total_loss_step=978.0, train_energy_loss_step=28.80, train_forces_loss_step=949.0, val_total_loss_step=843.0, val_energy_loss_step=11.60, val_forces_loss_step=832.0, val_total_loss_epoch=814.0, val_energy_loss_epoch=14.20, val_forces_loss_epoch=800.0, train_total_loss_epoch=940.0, train_energy_loss_epoch=59.70, train_forces_loss_epoch=880.0]"
     ]
    },
    {
     "name": "stderr",
     "output_type": "stream",
     "text": [
      "Train       # epoch      total_loss     energy_loss     forces_loss      energy_mae     energy_rmse      forces_mae     forces_rmse\n",
      "                  8         940.024          59.666         880.359           2.722           3.454           2.241           3.044\n"
     ]
    },
    {
     "name": "stdout",
     "output_type": "stream",
     "text": [
      "Epoch 9:   0%|          | 0/200 [00:00<?, ?it/s, v_num=32, train_total_loss_step=978.0, train_energy_loss_step=28.80, train_forces_loss_step=949.0, val_total_loss_step=843.0, val_energy_loss_step=11.60, val_forces_loss_step=832.0, val_total_loss_epoch=814.0, val_energy_loss_epoch=14.20, val_forces_loss_epoch=800.0, train_total_loss_epoch=940.0, train_energy_loss_epoch=59.70, train_forces_loss_epoch=880.0]          "
     ]
    },
    {
     "name": "stderr",
     "output_type": "stream",
     "text": [
      "\n",
      "\n",
      "Training\n",
      "# epoch      batch      total_loss     energy_loss     forces_loss      energy_mae     energy_rmse      forces_mae     forces_rmse\n",
      "      9          0         660.955           3.647         657.308           0.719           0.854           1.889           2.630\n"
     ]
    },
    {
     "name": "stdout",
     "output_type": "stream",
     "text": [
      "Epoch 9:   5%|▌         | 10/200 [00:02<00:42,  4.49it/s, v_num=32, train_total_loss_step=656.0, train_energy_loss_step=75.60, train_forces_loss_step=580.0, val_total_loss_step=843.0, val_energy_loss_step=11.60, val_forces_loss_step=832.0, val_total_loss_epoch=814.0, val_energy_loss_epoch=14.20, val_forces_loss_epoch=800.0, train_total_loss_epoch=940.0, train_energy_loss_epoch=59.70, train_forces_loss_epoch=880.0]  "
     ]
    },
    {
     "name": "stderr",
     "output_type": "stream",
     "text": [
      "      9         10         808.829          73.256         735.573           3.688           3.828           2.024           2.783\n"
     ]
    },
    {
     "name": "stdout",
     "output_type": "stream",
     "text": [
      "Epoch 9:  10%|█         | 20/200 [00:04<00:39,  4.60it/s, v_num=32, train_total_loss_step=824.0, train_energy_loss_step=152.0, train_forces_loss_step=672.0, val_total_loss_step=843.0, val_energy_loss_step=11.60, val_forces_loss_step=832.0, val_total_loss_epoch=814.0, val_energy_loss_epoch=14.20, val_forces_loss_epoch=800.0, train_total_loss_epoch=940.0, train_energy_loss_epoch=59.70, train_forces_loss_epoch=880.0]  "
     ]
    },
    {
     "name": "stderr",
     "output_type": "stream",
     "text": [
      "      9         20         734.180         101.263         632.917           4.444           4.500           1.933           2.581\n"
     ]
    },
    {
     "name": "stdout",
     "output_type": "stream",
     "text": [
      "Epoch 9:  15%|█▌        | 30/200 [00:06<00:36,  4.65it/s, v_num=32, train_total_loss_step=836.0, train_energy_loss_step=8.830, train_forces_loss_step=827.0, val_total_loss_step=843.0, val_energy_loss_step=11.60, val_forces_loss_step=832.0, val_total_loss_epoch=814.0, val_energy_loss_epoch=14.20, val_forces_loss_epoch=800.0, train_total_loss_epoch=940.0, train_energy_loss_epoch=59.70, train_forces_loss_epoch=880.0]    "
     ]
    },
    {
     "name": "stderr",
     "output_type": "stream",
     "text": [
      "      9         30         959.300          27.539         931.761           2.075           2.347           2.280           3.132\n"
     ]
    },
    {
     "name": "stdout",
     "output_type": "stream",
     "text": [
      "Epoch 9:  20%|██        | 40/200 [00:08<00:34,  4.66it/s, v_num=32, train_total_loss_step=649.0, train_energy_loss_step=35.70, train_forces_loss_step=613.0, val_total_loss_step=843.0, val_energy_loss_step=11.60, val_forces_loss_step=832.0, val_total_loss_epoch=814.0, val_energy_loss_epoch=14.20, val_forces_loss_epoch=800.0, train_total_loss_epoch=940.0, train_energy_loss_epoch=59.70, train_forces_loss_epoch=880.0]    "
     ]
    },
    {
     "name": "stderr",
     "output_type": "stream",
     "text": [
      "      9         40        1225.695         355.279         870.416           8.325           8.429           2.221           3.027\n"
     ]
    },
    {
     "name": "stdout",
     "output_type": "stream",
     "text": [
      "Epoch 9:  25%|██▌       | 50/200 [00:10<00:32,  4.68it/s, v_num=32, train_total_loss_step=948.0, train_energy_loss_step=118.0, train_forces_loss_step=829.0, val_total_loss_step=843.0, val_energy_loss_step=11.60, val_forces_loss_step=832.0, val_total_loss_epoch=814.0, val_energy_loss_epoch=14.20, val_forces_loss_epoch=800.0, train_total_loss_epoch=940.0, train_energy_loss_epoch=59.70, train_forces_loss_epoch=880.0]    "
     ]
    },
    {
     "name": "stderr",
     "output_type": "stream",
     "text": [
      "      9         50         786.188           6.628         779.560           1.019           1.151           2.155           2.865\n"
     ]
    },
    {
     "name": "stdout",
     "output_type": "stream",
     "text": [
      "Epoch 9:  30%|███       | 60/200 [00:12<00:29,  4.69it/s, v_num=32, train_total_loss_step=697.0, train_energy_loss_step=74.30, train_forces_loss_step=622.0, val_total_loss_step=843.0, val_energy_loss_step=11.60, val_forces_loss_step=832.0, val_total_loss_epoch=814.0, val_energy_loss_epoch=14.20, val_forces_loss_epoch=800.0, train_total_loss_epoch=940.0, train_energy_loss_epoch=59.70, train_forces_loss_epoch=880.0]"
     ]
    },
    {
     "name": "stderr",
     "output_type": "stream",
     "text": [
      "      9         60         707.539          16.717         690.823           1.525           1.828           2.043           2.697\n"
     ]
    },
    {
     "name": "stdout",
     "output_type": "stream",
     "text": [
      "Epoch 9:  35%|███▌      | 70/200 [00:14<00:27,  4.69it/s, v_num=32, train_total_loss_step=807.0, train_energy_loss_step=3.690, train_forces_loss_step=803.0, val_total_loss_step=843.0, val_energy_loss_step=11.60, val_forces_loss_step=832.0, val_total_loss_epoch=814.0, val_energy_loss_epoch=14.20, val_forces_loss_epoch=800.0, train_total_loss_epoch=940.0, train_energy_loss_epoch=59.70, train_forces_loss_epoch=880.0]    "
     ]
    },
    {
     "name": "stderr",
     "output_type": "stream",
     "text": [
      "      9         70         831.337          52.984         778.353           2.963           3.255           2.054           2.862\n"
     ]
    },
    {
     "name": "stdout",
     "output_type": "stream",
     "text": [
      "Epoch 9:  40%|████      | 80/200 [00:17<00:25,  4.69it/s, v_num=32, train_total_loss_step=1.04e+3, train_energy_loss_step=61.40, train_forces_loss_step=975.0, val_total_loss_step=843.0, val_energy_loss_step=11.60, val_forces_loss_step=832.0, val_total_loss_epoch=814.0, val_energy_loss_epoch=14.20, val_forces_loss_epoch=800.0, train_total_loss_epoch=940.0, train_energy_loss_epoch=59.70, train_forces_loss_epoch=880.0] "
     ]
    },
    {
     "name": "stderr",
     "output_type": "stream",
     "text": [
      "      9         80         887.394         224.866         662.528           6.619           6.706           1.959           2.641\n"
     ]
    },
    {
     "name": "stdout",
     "output_type": "stream",
     "text": [
      "Epoch 9:  45%|████▌     | 90/200 [00:19<00:23,  4.69it/s, v_num=32, train_total_loss_step=785.0, train_energy_loss_step=24.30, train_forces_loss_step=761.0, val_total_loss_step=843.0, val_energy_loss_step=11.60, val_forces_loss_step=832.0, val_total_loss_epoch=814.0, val_energy_loss_epoch=14.20, val_forces_loss_epoch=800.0, train_total_loss_epoch=940.0, train_energy_loss_epoch=59.70, train_forces_loss_epoch=880.0]  "
     ]
    },
    {
     "name": "stderr",
     "output_type": "stream",
     "text": [
      "      9         90         689.415          18.555         670.860           1.800           1.926           2.071           2.657\n"
     ]
    },
    {
     "name": "stdout",
     "output_type": "stream",
     "text": [
      "Epoch 9:  50%|█████     | 100/200 [00:21<00:21,  4.70it/s, v_num=32, train_total_loss_step=693.0, train_energy_loss_step=12.40, train_forces_loss_step=680.0, val_total_loss_step=843.0, val_energy_loss_step=11.60, val_forces_loss_step=832.0, val_total_loss_epoch=814.0, val_energy_loss_epoch=14.20, val_forces_loss_epoch=800.0, train_total_loss_epoch=940.0, train_energy_loss_epoch=59.70, train_forces_loss_epoch=880.0]"
     ]
    },
    {
     "name": "stderr",
     "output_type": "stream",
     "text": [
      "      9        100         616.208          68.836         547.372           3.688           3.710           1.789           2.400\n"
     ]
    },
    {
     "name": "stdout",
     "output_type": "stream",
     "text": [
      "Epoch 9:  55%|█████▌    | 110/200 [00:23<00:19,  4.70it/s, v_num=32, train_total_loss_step=736.0, train_energy_loss_step=156.0, train_forces_loss_step=580.0, val_total_loss_step=843.0, val_energy_loss_step=11.60, val_forces_loss_step=832.0, val_total_loss_epoch=814.0, val_energy_loss_epoch=14.20, val_forces_loss_epoch=800.0, train_total_loss_epoch=940.0, train_energy_loss_epoch=59.70, train_forces_loss_epoch=880.0]  "
     ]
    },
    {
     "name": "stderr",
     "output_type": "stream",
     "text": [
      "      9        110         815.149         105.418         709.731           4.262           4.592           1.983           2.733\n"
     ]
    },
    {
     "name": "stdout",
     "output_type": "stream",
     "text": [
      "Epoch 9:  60%|██████    | 120/200 [00:25<00:17,  4.70it/s, v_num=32, train_total_loss_step=793.0, train_energy_loss_step=229.0, train_forces_loss_step=564.0, val_total_loss_step=843.0, val_energy_loss_step=11.60, val_forces_loss_step=832.0, val_total_loss_epoch=814.0, val_energy_loss_epoch=14.20, val_forces_loss_epoch=800.0, train_total_loss_epoch=940.0, train_energy_loss_epoch=59.70, train_forces_loss_epoch=880.0]    "
     ]
    },
    {
     "name": "stderr",
     "output_type": "stream",
     "text": [
      "      9        120        1542.889         519.101        1023.788          10.156          10.189           2.251           3.283\n"
     ]
    },
    {
     "name": "stdout",
     "output_type": "stream",
     "text": [
      "Epoch 9:  65%|██████▌   | 130/200 [00:27<00:14,  4.70it/s, v_num=32, train_total_loss_step=804.0, train_energy_loss_step=190.0, train_forces_loss_step=614.0, val_total_loss_step=843.0, val_energy_loss_step=11.60, val_forces_loss_step=832.0, val_total_loss_epoch=814.0, val_energy_loss_epoch=14.20, val_forces_loss_epoch=800.0, train_total_loss_epoch=940.0, train_energy_loss_epoch=59.70, train_forces_loss_epoch=880.0]    "
     ]
    },
    {
     "name": "stderr",
     "output_type": "stream",
     "text": [
      "      9        130         616.038          13.623         602.415           1.562           1.651           1.839           2.518\n"
     ]
    },
    {
     "name": "stdout",
     "output_type": "stream",
     "text": [
      "Epoch 9:  70%|███████   | 140/200 [00:29<00:12,  4.70it/s, v_num=32, train_total_loss_step=794.0, train_energy_loss_step=247.0, train_forces_loss_step=546.0, val_total_loss_step=843.0, val_energy_loss_step=11.60, val_forces_loss_step=832.0, val_total_loss_epoch=814.0, val_energy_loss_epoch=14.20, val_forces_loss_epoch=800.0, train_total_loss_epoch=940.0, train_energy_loss_epoch=59.70, train_forces_loss_epoch=880.0]  "
     ]
    },
    {
     "name": "stderr",
     "output_type": "stream",
     "text": [
      "      9        140         690.634          52.866         637.768           2.931           3.252           1.925           2.591\n"
     ]
    },
    {
     "name": "stdout",
     "output_type": "stream",
     "text": [
      "Epoch 9:  75%|███████▌  | 150/200 [00:31<00:10,  4.70it/s, v_num=32, train_total_loss_step=939.0, train_energy_loss_step=357.0, train_forces_loss_step=582.0, val_total_loss_step=843.0, val_energy_loss_step=11.60, val_forces_loss_step=832.0, val_total_loss_epoch=814.0, val_energy_loss_epoch=14.20, val_forces_loss_epoch=800.0, train_total_loss_epoch=940.0, train_energy_loss_epoch=59.70, train_forces_loss_epoch=880.0]  "
     ]
    },
    {
     "name": "stderr",
     "output_type": "stream",
     "text": [
      "      9        150        1104.014         275.755         828.259           7.406           7.426           2.162           2.953\n"
     ]
    },
    {
     "name": "stdout",
     "output_type": "stream",
     "text": [
      "Epoch 9:  80%|████████  | 160/200 [00:34<00:08,  4.70it/s, v_num=32, train_total_loss_step=999.0, train_energy_loss_step=330.0, train_forces_loss_step=669.0, val_total_loss_step=843.0, val_energy_loss_step=11.60, val_forces_loss_step=832.0, val_total_loss_epoch=814.0, val_energy_loss_epoch=14.20, val_forces_loss_epoch=800.0, train_total_loss_epoch=940.0, train_energy_loss_epoch=59.70, train_forces_loss_epoch=880.0]  "
     ]
    },
    {
     "name": "stderr",
     "output_type": "stream",
     "text": [
      "      9        160         824.147         272.916         551.231           7.250           7.388           1.784           2.409\n"
     ]
    },
    {
     "name": "stdout",
     "output_type": "stream",
     "text": [
      "Epoch 9:  85%|████████▌ | 170/200 [00:36<00:06,  4.70it/s, v_num=32, train_total_loss_step=988.0, train_energy_loss_step=382.0, train_forces_loss_step=606.0, val_total_loss_step=843.0, val_energy_loss_step=11.60, val_forces_loss_step=832.0, val_total_loss_epoch=814.0, val_energy_loss_epoch=14.20, val_forces_loss_epoch=800.0, train_total_loss_epoch=940.0, train_energy_loss_epoch=59.70, train_forces_loss_epoch=880.0]    "
     ]
    },
    {
     "name": "stderr",
     "output_type": "stream",
     "text": [
      "      9        170         664.281          30.125         634.156           2.275           2.455           1.964           2.584\n"
     ]
    },
    {
     "name": "stdout",
     "output_type": "stream",
     "text": [
      "Epoch 9:  90%|█████████ | 180/200 [00:38<00:04,  4.70it/s, v_num=32, train_total_loss_step=897.0, train_energy_loss_step=81.10, train_forces_loss_step=815.0, val_total_loss_step=843.0, val_energy_loss_step=11.60, val_forces_loss_step=832.0, val_total_loss_epoch=814.0, val_energy_loss_epoch=14.20, val_forces_loss_epoch=800.0, train_total_loss_epoch=940.0, train_energy_loss_epoch=59.70, train_forces_loss_epoch=880.0]  "
     ]
    },
    {
     "name": "stderr",
     "output_type": "stream",
     "text": [
      "      9        180         680.516           8.129         672.387           0.950           1.275           1.987           2.660\n"
     ]
    },
    {
     "name": "stdout",
     "output_type": "stream",
     "text": [
      "Epoch 9:  95%|█████████▌| 190/200 [00:40<00:02,  4.70it/s, v_num=32, train_total_loss_step=755.0, train_energy_loss_step=34.60, train_forces_loss_step=721.0, val_total_loss_step=843.0, val_energy_loss_step=11.60, val_forces_loss_step=832.0, val_total_loss_epoch=814.0, val_energy_loss_epoch=14.20, val_forces_loss_epoch=800.0, train_total_loss_epoch=940.0, train_energy_loss_epoch=59.70, train_forces_loss_epoch=880.0]"
     ]
    },
    {
     "name": "stderr",
     "output_type": "stream",
     "text": [
      "      9        190         767.314          22.337         744.977           1.694           2.114           1.998           2.800\n"
     ]
    },
    {
     "name": "stdout",
     "output_type": "stream",
     "text": [
      "Epoch 9: 100%|██████████| 200/200 [00:42<00:00,  4.70it/s, v_num=32, train_total_loss_step=942.0, train_energy_loss_step=46.70, train_forces_loss_step=895.0, val_total_loss_step=843.0, val_energy_loss_step=11.60, val_forces_loss_step=832.0, val_total_loss_epoch=814.0, val_energy_loss_epoch=14.20, val_forces_loss_epoch=800.0, train_total_loss_epoch=940.0, train_energy_loss_epoch=59.70, train_forces_loss_epoch=880.0]"
     ]
    },
    {
     "name": "stderr",
     "output_type": "stream",
     "text": [
      "\n",
      "\n",
      "Validating\n",
      "# epoch      batch      total_loss     energy_loss     forces_loss      energy_mae     energy_rmse      forces_mae     forces_rmse\n"
     ]
    },
    {
     "name": "stdout",
     "output_type": "stream",
     "text": []
    },
    {
     "name": "stderr",
     "output_type": "stream",
     "text": [
      "      9          0         605.881          25.417         580.464           2.094           2.255           1.836           2.472\n"
     ]
    },
    {
     "name": "stdout",
     "output_type": "stream",
     "text": []
    },
    {
     "name": "stderr",
     "output_type": "stream",
     "text": [
      "      9         10         639.532          61.547         577.986           3.438           3.508           1.822           2.467\n"
     ]
    },
    {
     "name": "stdout",
     "output_type": "stream",
     "text": []
    },
    {
     "name": "stderr",
     "output_type": "stream",
     "text": [
      "      9         20         659.105          37.856         621.248           2.523           2.752           1.906           2.557\n"
     ]
    },
    {
     "name": "stdout",
     "output_type": "stream",
     "text": []
    },
    {
     "name": "stderr",
     "output_type": "stream",
     "text": [
      "      9         30         713.372          45.633         667.739           2.793           3.021           1.950           2.651\n"
     ]
    },
    {
     "name": "stdout",
     "output_type": "stream",
     "text": []
    },
    {
     "name": "stderr",
     "output_type": "stream",
     "text": [
      "      9         40         794.564          61.853         732.711           3.352           3.517           2.003           2.777\n"
     ]
    },
    {
     "name": "stdout",
     "output_type": "stream",
     "text": []
    },
    {
     "name": "stderr",
     "output_type": "stream",
     "text": [
      "      9         50         800.379          67.841         732.538           3.410           3.684           1.949           2.777\n"
     ]
    },
    {
     "name": "stdout",
     "output_type": "stream",
     "text": []
    },
    {
     "name": "stderr",
     "output_type": "stream",
     "text": [
      "      9         60         742.591          56.794         685.796           3.148           3.370           2.000           2.687\n"
     ]
    },
    {
     "name": "stdout",
     "output_type": "stream",
     "text": []
    },
    {
     "name": "stderr",
     "output_type": "stream",
     "text": [
      "      9         70         702.563          54.237         648.326           3.133           3.294           1.893           2.612\n"
     ]
    },
    {
     "name": "stdout",
     "output_type": "stream",
     "text": []
    },
    {
     "name": "stderr",
     "output_type": "stream",
     "text": [
      "      9         80         745.998          63.666         682.332           3.199           3.568           1.986           2.680\n"
     ]
    },
    {
     "name": "stdout",
     "output_type": "stream",
     "text": []
    },
    {
     "name": "stderr",
     "output_type": "stream",
     "text": [
      "      9         90         637.170          57.342         579.828           3.238           3.387           1.792           2.471\n"
     ]
    },
    {
     "name": "stdout",
     "output_type": "stream",
     "text": []
    },
    {
     "name": "stderr",
     "output_type": "stream",
     "text": [
      "      9        100        1015.683          66.710         948.973           3.398           3.653           2.176           3.161\n"
     ]
    },
    {
     "name": "stdout",
     "output_type": "stream",
     "text": []
    },
    {
     "name": "stderr",
     "output_type": "stream",
     "text": [
      "      9        110         642.481          70.082         572.400           3.617           3.744           1.763           2.455\n"
     ]
    },
    {
     "name": "stdout",
     "output_type": "stream",
     "text": []
    },
    {
     "name": "stderr",
     "output_type": "stream",
     "text": [
      "      9        120         658.577          42.130         616.447           2.633           2.903           1.893           2.547\n"
     ]
    },
    {
     "name": "stdout",
     "output_type": "stream",
     "text": []
    },
    {
     "name": "stderr",
     "output_type": "stream",
     "text": [
      "\n",
      "\n",
      "Epoch summary:\n",
      "Validation  # epoch      total_loss     energy_loss     forces_loss      energy_mae     energy_rmse      forces_mae     forces_rmse\n",
      "                  9         761.488          63.662         697.826           3.347           3.568           1.936           2.710\n"
     ]
    },
    {
     "name": "stdout",
     "output_type": "stream",
     "text": [
      "Epoch 9: 100%|██████████| 200/200 [01:02<00:00,  3.18it/s, v_num=32, train_total_loss_step=942.0, train_energy_loss_step=46.70, train_forces_loss_step=895.0, val_total_loss_step=727.0, val_energy_loss_step=66.00, val_forces_loss_step=661.0, val_total_loss_epoch=761.0, val_energy_loss_epoch=63.70, val_forces_loss_epoch=698.0, train_total_loss_epoch=841.0, train_energy_loss_epoch=110.0, train_forces_loss_epoch=730.0]"
     ]
    },
    {
     "name": "stderr",
     "output_type": "stream",
     "text": [
      "Train       # epoch      total_loss     energy_loss     forces_loss      energy_mae     energy_rmse      forces_mae     forces_rmse\n",
      "                  9         840.833         110.497         730.337           3.827           4.701           2.031           2.773\n"
     ]
    },
    {
     "name": "stdout",
     "output_type": "stream",
     "text": [
      "Epoch 10:   0%|          | 0/200 [00:00<?, ?it/s, v_num=32, train_total_loss_step=942.0, train_energy_loss_step=46.70, train_forces_loss_step=895.0, val_total_loss_step=727.0, val_energy_loss_step=66.00, val_forces_loss_step=661.0, val_total_loss_epoch=761.0, val_energy_loss_epoch=63.70, val_forces_loss_epoch=698.0, train_total_loss_epoch=841.0, train_energy_loss_epoch=110.0, train_forces_loss_epoch=730.0]         "
     ]
    },
    {
     "name": "stderr",
     "output_type": "stream",
     "text": [
      "\n",
      "\n",
      "Training\n",
      "# epoch      batch      total_loss     energy_loss     forces_loss      energy_mae     energy_rmse      forces_mae     forces_rmse\n",
      "     10          0         569.807          34.953         534.854           2.575           2.644           1.761           2.373\n"
     ]
    },
    {
     "name": "stdout",
     "output_type": "stream",
     "text": [
      "Epoch 10:   5%|▌         | 10/200 [00:02<00:42,  4.45it/s, v_num=32, train_total_loss_step=664.0, train_energy_loss_step=18.10, train_forces_loss_step=646.0, val_total_loss_step=727.0, val_energy_loss_step=66.00, val_forces_loss_step=661.0, val_total_loss_epoch=761.0, val_energy_loss_epoch=63.70, val_forces_loss_epoch=698.0, train_total_loss_epoch=841.0, train_energy_loss_epoch=110.0, train_forces_loss_epoch=730.0]"
     ]
    },
    {
     "name": "stderr",
     "output_type": "stream",
     "text": [
      "     10         10         598.384          12.190         586.194           1.394           1.561           1.846           2.484\n"
     ]
    },
    {
     "name": "stdout",
     "output_type": "stream",
     "text": [
      "Epoch 10:  10%|█         | 20/200 [00:04<00:39,  4.58it/s, v_num=32, train_total_loss_step=658.0, train_energy_loss_step=8.520, train_forces_loss_step=650.0, val_total_loss_step=727.0, val_energy_loss_step=66.00, val_forces_loss_step=661.0, val_total_loss_epoch=761.0, val_energy_loss_epoch=63.70, val_forces_loss_epoch=698.0, train_total_loss_epoch=841.0, train_energy_loss_epoch=110.0, train_forces_loss_epoch=730.0]"
     ]
    },
    {
     "name": "stderr",
     "output_type": "stream",
     "text": [
      "     10         20         632.041          11.404         620.637           1.188           1.510           1.863           2.556\n"
     ]
    },
    {
     "name": "stdout",
     "output_type": "stream",
     "text": [
      "Epoch 10:  15%|█▌        | 30/200 [00:06<00:36,  4.64it/s, v_num=32, train_total_loss_step=795.0, train_energy_loss_step=30.60, train_forces_loss_step=764.0, val_total_loss_step=727.0, val_energy_loss_step=66.00, val_forces_loss_step=661.0, val_total_loss_epoch=761.0, val_energy_loss_epoch=63.70, val_forces_loss_epoch=698.0, train_total_loss_epoch=841.0, train_energy_loss_epoch=110.0, train_forces_loss_epoch=730.0]"
     ]
    },
    {
     "name": "stderr",
     "output_type": "stream",
     "text": [
      "     10         30         833.563          22.471         811.092           1.800           2.120           2.217           2.922\n"
     ]
    },
    {
     "name": "stdout",
     "output_type": "stream",
     "text": [
      "Epoch 10:  20%|██        | 40/200 [00:08<00:34,  4.65it/s, v_num=32, train_total_loss_step=736.0, train_energy_loss_step=18.20, train_forces_loss_step=718.0, val_total_loss_step=727.0, val_energy_loss_step=66.00, val_forces_loss_step=661.0, val_total_loss_epoch=761.0, val_energy_loss_epoch=63.70, val_forces_loss_epoch=698.0, train_total_loss_epoch=841.0, train_energy_loss_epoch=110.0, train_forces_loss_epoch=730.0]    "
     ]
    },
    {
     "name": "stderr",
     "output_type": "stream",
     "text": [
      "     10         40         602.017          15.566         586.450           1.612           1.764           1.881           2.485\n"
     ]
    },
    {
     "name": "stdout",
     "output_type": "stream",
     "text": [
      "Epoch 10:  25%|██▌       | 50/200 [00:10<00:32,  4.67it/s, v_num=32, train_total_loss_step=443.0, train_energy_loss_step=4.070, train_forces_loss_step=438.0, val_total_loss_step=727.0, val_energy_loss_step=66.00, val_forces_loss_step=661.0, val_total_loss_epoch=761.0, val_energy_loss_epoch=63.70, val_forces_loss_epoch=698.0, train_total_loss_epoch=841.0, train_energy_loss_epoch=110.0, train_forces_loss_epoch=730.0]"
     ]
    },
    {
     "name": "stderr",
     "output_type": "stream",
     "text": [
      "     10         50         594.288          20.975         573.313           1.938           2.048           1.910           2.457\n"
     ]
    },
    {
     "name": "stdout",
     "output_type": "stream",
     "text": [
      "Epoch 10:  30%|███       | 60/200 [00:12<00:29,  4.68it/s, v_num=32, train_total_loss_step=881.0, train_energy_loss_step=3.520, train_forces_loss_step=878.0, val_total_loss_step=727.0, val_energy_loss_step=66.00, val_forces_loss_step=661.0, val_total_loss_epoch=761.0, val_energy_loss_epoch=63.70, val_forces_loss_epoch=698.0, train_total_loss_epoch=841.0, train_energy_loss_epoch=110.0, train_forces_loss_epoch=730.0]"
     ]
    },
    {
     "name": "stderr",
     "output_type": "stream",
     "text": [
      "     10         60         482.898          39.196         443.701           2.694           2.800           1.616           2.161\n"
     ]
    },
    {
     "name": "stdout",
     "output_type": "stream",
     "text": [
      "Epoch 10:  35%|███▌      | 70/200 [00:14<00:27,  4.68it/s, v_num=32, train_total_loss_step=525.0, train_energy_loss_step=44.90, train_forces_loss_step=480.0, val_total_loss_step=727.0, val_energy_loss_step=66.00, val_forces_loss_step=661.0, val_total_loss_epoch=761.0, val_energy_loss_epoch=63.70, val_forces_loss_epoch=698.0, train_total_loss_epoch=841.0, train_energy_loss_epoch=110.0, train_forces_loss_epoch=730.0]    "
     ]
    },
    {
     "name": "stderr",
     "output_type": "stream",
     "text": [
      "     10         70         510.124           7.743         502.381           1.044           1.244           1.769           2.300\n"
     ]
    },
    {
     "name": "stdout",
     "output_type": "stream",
     "text": [
      "Epoch 10:  40%|████      | 80/200 [00:17<00:25,  4.68it/s, v_num=32, train_total_loss_step=570.0, train_energy_loss_step=17.30, train_forces_loss_step=553.0, val_total_loss_step=727.0, val_energy_loss_step=66.00, val_forces_loss_step=661.0, val_total_loss_epoch=761.0, val_energy_loss_epoch=63.70, val_forces_loss_epoch=698.0, train_total_loss_epoch=841.0, train_energy_loss_epoch=110.0, train_forces_loss_epoch=730.0]"
     ]
    },
    {
     "name": "stderr",
     "output_type": "stream",
     "text": [
      "     10         80         665.126          23.300         641.826           2.056           2.159           1.837           2.599\n"
     ]
    },
    {
     "name": "stdout",
     "output_type": "stream",
     "text": [
      "Epoch 10:  45%|████▌     | 90/200 [00:19<00:23,  4.68it/s, v_num=32, train_total_loss_step=668.0, train_energy_loss_step=11.60, train_forces_loss_step=656.0, val_total_loss_step=727.0, val_energy_loss_step=66.00, val_forces_loss_step=661.0, val_total_loss_epoch=761.0, val_energy_loss_epoch=63.70, val_forces_loss_epoch=698.0, train_total_loss_epoch=841.0, train_energy_loss_epoch=110.0, train_forces_loss_epoch=730.0]"
     ]
    },
    {
     "name": "stderr",
     "output_type": "stream",
     "text": [
      "     10         90         887.379         167.257         720.123           5.669           5.784           1.995           2.753\n"
     ]
    },
    {
     "name": "stdout",
     "output_type": "stream",
     "text": [
      "Epoch 10:  50%|█████     | 100/200 [00:21<00:21,  4.68it/s, v_num=32, train_total_loss_step=646.0, train_energy_loss_step=66.10, train_forces_loss_step=580.0, val_total_loss_step=727.0, val_energy_loss_step=66.00, val_forces_loss_step=661.0, val_total_loss_epoch=761.0, val_energy_loss_epoch=63.70, val_forces_loss_epoch=698.0, train_total_loss_epoch=841.0, train_energy_loss_epoch=110.0, train_forces_loss_epoch=730.0]   "
     ]
    },
    {
     "name": "stderr",
     "output_type": "stream",
     "text": [
      "     10        100         490.083           6.937         483.146           0.881           1.178           1.669           2.255\n"
     ]
    },
    {
     "name": "stdout",
     "output_type": "stream",
     "text": [
      "Epoch 10:  55%|█████▌    | 110/200 [00:23<00:19,  4.68it/s, v_num=32, train_total_loss_step=817.0, train_energy_loss_step=5.970, train_forces_loss_step=811.0, val_total_loss_step=727.0, val_energy_loss_step=66.00, val_forces_loss_step=661.0, val_total_loss_epoch=761.0, val_energy_loss_epoch=63.70, val_forces_loss_epoch=698.0, train_total_loss_epoch=841.0, train_energy_loss_epoch=110.0, train_forces_loss_epoch=730.0]"
     ]
    },
    {
     "name": "stderr",
     "output_type": "stream",
     "text": [
      "     10        110         492.352          28.803         463.549           2.100           2.400           1.618           2.209\n"
     ]
    },
    {
     "name": "stdout",
     "output_type": "stream",
     "text": [
      "Epoch 10:  60%|██████    | 120/200 [00:25<00:17,  4.68it/s, v_num=32, train_total_loss_step=516.0, train_energy_loss_step=56.00, train_forces_loss_step=460.0, val_total_loss_step=727.0, val_energy_loss_step=66.00, val_forces_loss_step=661.0, val_total_loss_epoch=761.0, val_energy_loss_epoch=63.70, val_forces_loss_epoch=698.0, train_total_loss_epoch=841.0, train_energy_loss_epoch=110.0, train_forces_loss_epoch=730.0]"
     ]
    },
    {
     "name": "stderr",
     "output_type": "stream",
     "text": [
      "     10        120         576.382          19.979         556.402           1.594           1.999           1.761           2.420\n"
     ]
    },
    {
     "name": "stdout",
     "output_type": "stream",
     "text": [
      "Epoch 10:  65%|██████▌   | 130/200 [00:27<00:14,  4.68it/s, v_num=32, train_total_loss_step=735.0, train_energy_loss_step=24.90, train_forces_loss_step=710.0, val_total_loss_step=727.0, val_energy_loss_step=66.00, val_forces_loss_step=661.0, val_total_loss_epoch=761.0, val_energy_loss_epoch=63.70, val_forces_loss_epoch=698.0, train_total_loss_epoch=841.0, train_energy_loss_epoch=110.0, train_forces_loss_epoch=730.0]"
     ]
    },
    {
     "name": "stderr",
     "output_type": "stream",
     "text": [
      "     10        130         752.296          17.559         734.737           1.712           1.874           2.056           2.781\n"
     ]
    },
    {
     "name": "stdout",
     "output_type": "stream",
     "text": [
      "Epoch 10:  70%|███████   | 140/200 [00:29<00:12,  4.68it/s, v_num=32, train_total_loss_step=559.0, train_energy_loss_step=3.330, train_forces_loss_step=556.0, val_total_loss_step=727.0, val_energy_loss_step=66.00, val_forces_loss_step=661.0, val_total_loss_epoch=761.0, val_energy_loss_epoch=63.70, val_forces_loss_epoch=698.0, train_total_loss_epoch=841.0, train_energy_loss_epoch=110.0, train_forces_loss_epoch=730.0]"
     ]
    },
    {
     "name": "stderr",
     "output_type": "stream",
     "text": [
      "     10        140         919.338          20.136         899.202           1.756           2.007           2.089           3.077\n"
     ]
    },
    {
     "name": "stdout",
     "output_type": "stream",
     "text": [
      "Epoch 10:  75%|███████▌  | 150/200 [00:32<00:10,  4.68it/s, v_num=32, train_total_loss_step=656.0, train_energy_loss_step=16.30, train_forces_loss_step=639.0, val_total_loss_step=727.0, val_energy_loss_step=66.00, val_forces_loss_step=661.0, val_total_loss_epoch=761.0, val_energy_loss_epoch=63.70, val_forces_loss_epoch=698.0, train_total_loss_epoch=841.0, train_energy_loss_epoch=110.0, train_forces_loss_epoch=730.0]"
     ]
    },
    {
     "name": "stderr",
     "output_type": "stream",
     "text": [
      "     10        150         686.612          18.264         668.348           1.825           1.911           1.972           2.652\n"
     ]
    },
    {
     "name": "stdout",
     "output_type": "stream",
     "text": [
      "Epoch 10:  80%|████████  | 160/200 [00:34<00:08,  4.68it/s, v_num=32, train_total_loss_step=689.0, train_energy_loss_step=95.40, train_forces_loss_step=594.0, val_total_loss_step=727.0, val_energy_loss_step=66.00, val_forces_loss_step=661.0, val_total_loss_epoch=761.0, val_energy_loss_epoch=63.70, val_forces_loss_epoch=698.0, train_total_loss_epoch=841.0, train_energy_loss_epoch=110.0, train_forces_loss_epoch=730.0]    "
     ]
    },
    {
     "name": "stderr",
     "output_type": "stream",
     "text": [
      "     10        160        1268.147         102.394        1165.753           4.131           4.525           2.471           3.503\n"
     ]
    },
    {
     "name": "stdout",
     "output_type": "stream",
     "text": [
      "Epoch 10:  85%|████████▌ | 170/200 [00:36<00:06,  4.69it/s, v_num=32, train_total_loss_step=911.0, train_energy_loss_step=11.50, train_forces_loss_step=900.0, val_total_loss_step=727.0, val_energy_loss_step=66.00, val_forces_loss_step=661.0, val_total_loss_epoch=761.0, val_energy_loss_epoch=63.70, val_forces_loss_epoch=698.0, train_total_loss_epoch=841.0, train_energy_loss_epoch=110.0, train_forces_loss_epoch=730.0]    "
     ]
    },
    {
     "name": "stderr",
     "output_type": "stream",
     "text": [
      "     10        170         930.420         183.271         747.149           5.838           6.054           2.014           2.804\n"
     ]
    },
    {
     "name": "stdout",
     "output_type": "stream",
     "text": [
      "Epoch 10:  90%|█████████ | 180/200 [00:38<00:04,  4.69it/s, v_num=32, train_total_loss_step=864.0, train_energy_loss_step=20.40, train_forces_loss_step=843.0, val_total_loss_step=727.0, val_energy_loss_step=66.00, val_forces_loss_step=661.0, val_total_loss_epoch=761.0, val_energy_loss_epoch=63.70, val_forces_loss_epoch=698.0, train_total_loss_epoch=841.0, train_energy_loss_epoch=110.0, train_forces_loss_epoch=730.0]"
     ]
    },
    {
     "name": "stderr",
     "output_type": "stream",
     "text": [
      "     10        180         693.471           4.012         689.460           0.725           0.896           2.015           2.694\n"
     ]
    },
    {
     "name": "stdout",
     "output_type": "stream",
     "text": [
      "Epoch 10:  95%|█████████▌| 190/200 [00:40<00:02,  4.69it/s, v_num=32, train_total_loss_step=733.0, train_energy_loss_step=34.70, train_forces_loss_step=698.0, val_total_loss_step=727.0, val_energy_loss_step=66.00, val_forces_loss_step=661.0, val_total_loss_epoch=761.0, val_energy_loss_epoch=63.70, val_forces_loss_epoch=698.0, train_total_loss_epoch=841.0, train_energy_loss_epoch=110.0, train_forces_loss_epoch=730.0]    "
     ]
    },
    {
     "name": "stderr",
     "output_type": "stream",
     "text": [
      "     10        190         627.575          14.846         612.730           1.500           1.723           1.874           2.540\n"
     ]
    },
    {
     "name": "stdout",
     "output_type": "stream",
     "text": [
      "Epoch 10: 100%|██████████| 200/200 [00:42<00:00,  4.69it/s, v_num=32, train_total_loss_step=836.0, train_energy_loss_step=107.0, train_forces_loss_step=729.0, val_total_loss_step=727.0, val_energy_loss_step=66.00, val_forces_loss_step=661.0, val_total_loss_epoch=761.0, val_energy_loss_epoch=63.70, val_forces_loss_epoch=698.0, train_total_loss_epoch=841.0, train_energy_loss_epoch=110.0, train_forces_loss_epoch=730.0]    "
     ]
    },
    {
     "name": "stderr",
     "output_type": "stream",
     "text": [
      "\n",
      "\n",
      "Validating\n",
      "# epoch      batch      total_loss     energy_loss     forces_loss      energy_mae     energy_rmse      forces_mae     forces_rmse\n"
     ]
    },
    {
     "name": "stdout",
     "output_type": "stream",
     "text": []
    },
    {
     "name": "stderr",
     "output_type": "stream",
     "text": [
      "     10          0        1085.441          10.593        1074.849           1.316           1.456           2.542           3.364\n"
     ]
    },
    {
     "name": "stdout",
     "output_type": "stream",
     "text": []
    },
    {
     "name": "stderr",
     "output_type": "stream",
     "text": [
      "     10         10        1078.128           1.319        1076.809           0.418           0.514           2.670           3.367\n"
     ]
    },
    {
     "name": "stdout",
     "output_type": "stream",
     "text": []
    },
    {
     "name": "stderr",
     "output_type": "stream",
     "text": [
      "     10         20         966.890          10.378         956.512           1.230           1.441           2.491           3.173\n"
     ]
    },
    {
     "name": "stdout",
     "output_type": "stream",
     "text": []
    },
    {
     "name": "stderr",
     "output_type": "stream",
     "text": [
      "     10         30        1005.853           5.913         999.940           0.945           1.087           2.517           3.244\n"
     ]
    },
    {
     "name": "stdout",
     "output_type": "stream",
     "text": []
    },
    {
     "name": "stderr",
     "output_type": "stream",
     "text": [
      "     10         40        1098.504          12.535        1085.969           1.277           1.583           2.547           3.381\n"
     ]
    },
    {
     "name": "stdout",
     "output_type": "stream",
     "text": []
    },
    {
     "name": "stderr",
     "output_type": "stream",
     "text": [
      "     10         50        1168.650           9.705        1158.945           1.059           1.393           2.684           3.493\n"
     ]
    },
    {
     "name": "stdout",
     "output_type": "stream",
     "text": []
    },
    {
     "name": "stderr",
     "output_type": "stream",
     "text": [
      "     10         60        1103.748           6.281        1097.467           1.000           1.121           2.645           3.399\n"
     ]
    },
    {
     "name": "stdout",
     "output_type": "stream",
     "text": []
    },
    {
     "name": "stderr",
     "output_type": "stream",
     "text": [
      "     10         70         947.993           4.341         943.651           0.652           0.932           2.472           3.152\n"
     ]
    },
    {
     "name": "stdout",
     "output_type": "stream",
     "text": []
    },
    {
     "name": "stderr",
     "output_type": "stream",
     "text": [
      "     10         80        1056.469           9.004        1047.465           0.977           1.342           2.656           3.321\n"
     ]
    },
    {
     "name": "stdout",
     "output_type": "stream",
     "text": []
    },
    {
     "name": "stderr",
     "output_type": "stream",
     "text": [
      "     10         90         997.669           4.253         993.416           0.688           0.922           2.480           3.234\n"
     ]
    },
    {
     "name": "stdout",
     "output_type": "stream",
     "text": []
    },
    {
     "name": "stderr",
     "output_type": "stream",
     "text": [
      "     10        100        1190.354           9.510        1180.844           1.191           1.379           2.631           3.526\n"
     ]
    },
    {
     "name": "stdout",
     "output_type": "stream",
     "text": []
    },
    {
     "name": "stderr",
     "output_type": "stream",
     "text": [
      "     10        110        1045.870           4.458        1041.412           0.664           0.944           2.551           3.311\n"
     ]
    },
    {
     "name": "stdout",
     "output_type": "stream",
     "text": []
    },
    {
     "name": "stderr",
     "output_type": "stream",
     "text": [
      "     10        120         936.852           9.343         927.510           1.051           1.367           2.485           3.125\n"
     ]
    },
    {
     "name": "stdout",
     "output_type": "stream",
     "text": []
    },
    {
     "name": "stderr",
     "output_type": "stream",
     "text": [
      "\n",
      "\n",
      "Epoch summary:\n",
      "Validation  # epoch      total_loss     energy_loss     forces_loss      energy_mae     energy_rmse      forces_mae     forces_rmse\n",
      "                 10        1041.727           7.611        1034.117           0.965           1.234           2.544           3.299\n"
     ]
    },
    {
     "name": "stdout",
     "output_type": "stream",
     "text": [
      "Epoch 10: 100%|██████████| 200/200 [01:03<00:00,  3.17it/s, v_num=32, train_total_loss_step=836.0, train_energy_loss_step=107.0, train_forces_loss_step=729.0, val_total_loss_step=974.0, val_energy_loss_step=3.520, val_forces_loss_step=971.0, val_total_loss_epoch=1.04e+3, val_energy_loss_epoch=7.610, val_forces_loss_epoch=1.03e+3, train_total_loss_epoch=720.0, train_energy_loss_epoch=41.80, train_forces_loss_epoch=678.0]"
     ]
    },
    {
     "name": "stderr",
     "output_type": "stream",
     "text": [
      "Train       # epoch      total_loss     energy_loss     forces_loss      energy_mae     energy_rmse      forces_mae     forces_rmse\n",
      "                 10         719.568          41.809         677.760           2.289           2.892           1.956           2.671\n"
     ]
    },
    {
     "name": "stdout",
     "output_type": "stream",
     "text": [
      "Epoch 11:   0%|          | 0/200 [00:00<?, ?it/s, v_num=32, train_total_loss_step=836.0, train_energy_loss_step=107.0, train_forces_loss_step=729.0, val_total_loss_step=974.0, val_energy_loss_step=3.520, val_forces_loss_step=971.0, val_total_loss_epoch=1.04e+3, val_energy_loss_epoch=7.610, val_forces_loss_epoch=1.03e+3, train_total_loss_epoch=720.0, train_energy_loss_epoch=41.80, train_forces_loss_epoch=678.0]          "
     ]
    },
    {
     "name": "stderr",
     "output_type": "stream",
     "text": [
      "\n",
      "\n",
      "Training\n",
      "# epoch      batch      total_loss     energy_loss     forces_loss      energy_mae     energy_rmse      forces_mae     forces_rmse\n",
      "     11          0         953.340           9.538         943.802           1.244           1.381           2.390           3.152\n"
     ]
    },
    {
     "name": "stdout",
     "output_type": "stream",
     "text": [
      "Epoch 11:   5%|▌         | 10/200 [00:02<00:42,  4.49it/s, v_num=32, train_total_loss_step=1.03e+3, train_energy_loss_step=276.0, train_forces_loss_step=757.0, val_total_loss_step=974.0, val_energy_loss_step=3.520, val_forces_loss_step=971.0, val_total_loss_epoch=1.04e+3, val_energy_loss_epoch=7.610, val_forces_loss_epoch=1.03e+3, train_total_loss_epoch=720.0, train_energy_loss_epoch=41.80, train_forces_loss_epoch=678.0]"
     ]
    },
    {
     "name": "stderr",
     "output_type": "stream",
     "text": [
      "     11         10         563.965          19.082         544.883           1.525           1.954           1.728           2.395\n"
     ]
    },
    {
     "name": "stdout",
     "output_type": "stream",
     "text": [
      "Epoch 11:  10%|█         | 20/200 [00:04<00:38,  4.64it/s, v_num=32, train_total_loss_step=894.0, train_energy_loss_step=27.80, train_forces_loss_step=867.0, val_total_loss_step=974.0, val_energy_loss_step=3.520, val_forces_loss_step=971.0, val_total_loss_epoch=1.04e+3, val_energy_loss_epoch=7.610, val_forces_loss_epoch=1.03e+3, train_total_loss_epoch=720.0, train_energy_loss_epoch=41.80, train_forces_loss_epoch=678.0]  "
     ]
    },
    {
     "name": "stderr",
     "output_type": "stream",
     "text": [
      "     11         20         655.862          33.689         622.173           2.475           2.596           1.910           2.559\n"
     ]
    },
    {
     "name": "stdout",
     "output_type": "stream",
     "text": [
      "Epoch 11:  15%|█▌        | 30/200 [00:06<00:36,  4.69it/s, v_num=32, train_total_loss_step=890.0, train_energy_loss_step=215.0, train_forces_loss_step=676.0, val_total_loss_step=974.0, val_energy_loss_step=3.520, val_forces_loss_step=971.0, val_total_loss_epoch=1.04e+3, val_energy_loss_epoch=7.610, val_forces_loss_epoch=1.03e+3, train_total_loss_epoch=720.0, train_energy_loss_epoch=41.80, train_forces_loss_epoch=678.0]"
     ]
    },
    {
     "name": "stderr",
     "output_type": "stream",
     "text": [
      "     11         30         734.518         200.912         533.606           6.325           6.339           1.849           2.370\n"
     ]
    },
    {
     "name": "stdout",
     "output_type": "stream",
     "text": [
      "Epoch 11:  20%|██        | 40/200 [00:08<00:33,  4.71it/s, v_num=32, train_total_loss_step=667.0, train_energy_loss_step=82.60, train_forces_loss_step=584.0, val_total_loss_step=974.0, val_energy_loss_step=3.520, val_forces_loss_step=971.0, val_total_loss_epoch=1.04e+3, val_energy_loss_epoch=7.610, val_forces_loss_epoch=1.03e+3, train_total_loss_epoch=720.0, train_energy_loss_epoch=41.80, train_forces_loss_epoch=678.0]  "
     ]
    },
    {
     "name": "stderr",
     "output_type": "stream",
     "text": [
      "     11         40         591.611          40.588         551.023           2.588           2.849           1.789           2.408\n"
     ]
    },
    {
     "name": "stdout",
     "output_type": "stream",
     "text": [
      "Epoch 11:  25%|██▌       | 50/200 [00:10<00:31,  4.72it/s, v_num=32, train_total_loss_step=922.0, train_energy_loss_step=160.0, train_forces_loss_step=762.0, val_total_loss_step=974.0, val_energy_loss_step=3.520, val_forces_loss_step=971.0, val_total_loss_epoch=1.04e+3, val_energy_loss_epoch=7.610, val_forces_loss_epoch=1.03e+3, train_total_loss_epoch=720.0, train_energy_loss_epoch=41.80, train_forces_loss_epoch=678.0]"
     ]
    },
    {
     "name": "stderr",
     "output_type": "stream",
     "text": [
      "     11         50         473.887           4.239         469.648           0.794           0.921           1.672           2.223\n"
     ]
    },
    {
     "name": "stdout",
     "output_type": "stream",
     "text": [
      "Epoch 11:  30%|███       | 60/200 [00:12<00:29,  4.73it/s, v_num=32, train_total_loss_step=850.0, train_energy_loss_step=103.0, train_forces_loss_step=747.0, val_total_loss_step=974.0, val_energy_loss_step=3.520, val_forces_loss_step=971.0, val_total_loss_epoch=1.04e+3, val_energy_loss_epoch=7.610, val_forces_loss_epoch=1.03e+3, train_total_loss_epoch=720.0, train_energy_loss_epoch=41.80, train_forces_loss_epoch=678.0]  "
     ]
    },
    {
     "name": "stderr",
     "output_type": "stream",
     "text": [
      "     11         60         840.475          17.256         823.219           1.450           1.858           2.146           2.944\n"
     ]
    },
    {
     "name": "stdout",
     "output_type": "stream",
     "text": [
      "Epoch 11:  35%|███▌      | 70/200 [00:14<00:27,  4.74it/s, v_num=32, train_total_loss_step=614.0, train_energy_loss_step=72.60, train_forces_loss_step=542.0, val_total_loss_step=974.0, val_energy_loss_step=3.520, val_forces_loss_step=971.0, val_total_loss_epoch=1.04e+3, val_energy_loss_epoch=7.610, val_forces_loss_epoch=1.03e+3, train_total_loss_epoch=720.0, train_energy_loss_epoch=41.80, train_forces_loss_epoch=678.0]"
     ]
    },
    {
     "name": "stderr",
     "output_type": "stream",
     "text": [
      "     11         70         740.470         142.558         597.912           5.294           5.340           1.907           2.509\n"
     ]
    },
    {
     "name": "stdout",
     "output_type": "stream",
     "text": [
      "Epoch 11:  40%|████      | 80/200 [00:16<00:25,  4.74it/s, v_num=32, train_total_loss_step=735.0, train_energy_loss_step=24.60, train_forces_loss_step=710.0, val_total_loss_step=974.0, val_energy_loss_step=3.520, val_forces_loss_step=971.0, val_total_loss_epoch=1.04e+3, val_energy_loss_epoch=7.610, val_forces_loss_epoch=1.03e+3, train_total_loss_epoch=720.0, train_energy_loss_epoch=41.80, train_forces_loss_epoch=678.0]"
     ]
    },
    {
     "name": "stderr",
     "output_type": "stream",
     "text": [
      "     11         80         486.650          16.264         470.386           1.513           1.804           1.654           2.225\n"
     ]
    },
    {
     "name": "stdout",
     "output_type": "stream",
     "text": [
      "Epoch 11:  45%|████▌     | 90/200 [00:18<00:23,  4.74it/s, v_num=32, train_total_loss_step=454.0, train_energy_loss_step=5.220, train_forces_loss_step=449.0, val_total_loss_step=974.0, val_energy_loss_step=3.520, val_forces_loss_step=971.0, val_total_loss_epoch=1.04e+3, val_energy_loss_epoch=7.610, val_forces_loss_epoch=1.03e+3, train_total_loss_epoch=720.0, train_energy_loss_epoch=41.80, train_forces_loss_epoch=678.0]"
     ]
    },
    {
     "name": "stderr",
     "output_type": "stream",
     "text": [
      "     11         90         702.822         184.609         518.212           6.012           6.076           1.711           2.336\n"
     ]
    },
    {
     "name": "stdout",
     "output_type": "stream",
     "text": [
      "Epoch 11:  50%|█████     | 100/200 [00:21<00:21,  4.75it/s, v_num=32, train_total_loss_step=548.0, train_energy_loss_step=5.150, train_forces_loss_step=543.0, val_total_loss_step=974.0, val_energy_loss_step=3.520, val_forces_loss_step=971.0, val_total_loss_epoch=1.04e+3, val_energy_loss_epoch=7.610, val_forces_loss_epoch=1.03e+3, train_total_loss_epoch=720.0, train_energy_loss_epoch=41.80, train_forces_loss_epoch=678.0]   "
     ]
    },
    {
     "name": "stderr",
     "output_type": "stream",
     "text": [
      "     11        100         682.492          31.718         650.775           2.294           2.519           1.869           2.617\n"
     ]
    },
    {
     "name": "stdout",
     "output_type": "stream",
     "text": [
      "Epoch 11:  55%|█████▌    | 110/200 [00:23<00:18,  4.75it/s, v_num=32, train_total_loss_step=611.0, train_energy_loss_step=155.0, train_forces_loss_step=456.0, val_total_loss_step=974.0, val_energy_loss_step=3.520, val_forces_loss_step=971.0, val_total_loss_epoch=1.04e+3, val_energy_loss_epoch=7.610, val_forces_loss_epoch=1.03e+3, train_total_loss_epoch=720.0, train_energy_loss_epoch=41.80, train_forces_loss_epoch=678.0]"
     ]
    },
    {
     "name": "stderr",
     "output_type": "stream",
     "text": [
      "     11        110         693.460          10.885         682.575           1.400           1.475           1.985           2.680\n"
     ]
    },
    {
     "name": "stdout",
     "output_type": "stream",
     "text": [
      "Epoch 11:  60%|██████    | 120/200 [00:25<00:16,  4.75it/s, v_num=32, train_total_loss_step=716.0, train_energy_loss_step=22.30, train_forces_loss_step=693.0, val_total_loss_step=974.0, val_energy_loss_step=3.520, val_forces_loss_step=971.0, val_total_loss_epoch=1.04e+3, val_energy_loss_epoch=7.610, val_forces_loss_epoch=1.03e+3, train_total_loss_epoch=720.0, train_energy_loss_epoch=41.80, train_forces_loss_epoch=678.0]"
     ]
    },
    {
     "name": "stderr",
     "output_type": "stream",
     "text": [
      "     11        120         743.883          30.788         713.095           2.369           2.481           1.941           2.740\n"
     ]
    },
    {
     "name": "stdout",
     "output_type": "stream",
     "text": [
      "Epoch 11:  65%|██████▌   | 130/200 [00:27<00:14,  4.75it/s, v_num=32, train_total_loss_step=739.0, train_energy_loss_step=160.0, train_forces_loss_step=579.0, val_total_loss_step=974.0, val_energy_loss_step=3.520, val_forces_loss_step=971.0, val_total_loss_epoch=1.04e+3, val_energy_loss_epoch=7.610, val_forces_loss_epoch=1.03e+3, train_total_loss_epoch=720.0, train_energy_loss_epoch=41.80, train_forces_loss_epoch=678.0]"
     ]
    },
    {
     "name": "stderr",
     "output_type": "stream",
     "text": [
      "     11        130         499.471          14.138         485.333           1.144           1.682           1.668           2.260\n"
     ]
    },
    {
     "name": "stdout",
     "output_type": "stream",
     "text": [
      "Epoch 11:  70%|███████   | 140/200 [00:29<00:12,  4.75it/s, v_num=32, train_total_loss_step=810.0, train_energy_loss_step=11.40, train_forces_loss_step=799.0, val_total_loss_step=974.0, val_energy_loss_step=3.520, val_forces_loss_step=971.0, val_total_loss_epoch=1.04e+3, val_energy_loss_epoch=7.610, val_forces_loss_epoch=1.03e+3, train_total_loss_epoch=720.0, train_energy_loss_epoch=41.80, train_forces_loss_epoch=678.0]    "
     ]
    },
    {
     "name": "stderr",
     "output_type": "stream",
     "text": [
      "     11        140         661.959          27.393         634.567           1.850           2.341           1.883           2.585\n"
     ]
    },
    {
     "name": "stdout",
     "output_type": "stream",
     "text": [
      "Epoch 11:  75%|███████▌  | 150/200 [00:31<00:10,  4.76it/s, v_num=32, train_total_loss_step=732.0, train_energy_loss_step=10.50, train_forces_loss_step=721.0, val_total_loss_step=974.0, val_energy_loss_step=3.520, val_forces_loss_step=971.0, val_total_loss_epoch=1.04e+3, val_energy_loss_epoch=7.610, val_forces_loss_epoch=1.03e+3, train_total_loss_epoch=720.0, train_energy_loss_epoch=41.80, train_forces_loss_epoch=678.0]"
     ]
    },
    {
     "name": "stderr",
     "output_type": "stream",
     "text": [
      "     11        150         718.236           2.151         716.084           0.481           0.656           2.038           2.745\n"
     ]
    },
    {
     "name": "stdout",
     "output_type": "stream",
     "text": [
      "Epoch 11:  80%|████████  | 160/200 [00:33<00:08,  4.76it/s, v_num=32, train_total_loss_step=722.0, train_energy_loss_step=52.40, train_forces_loss_step=670.0, val_total_loss_step=974.0, val_energy_loss_step=3.520, val_forces_loss_step=971.0, val_total_loss_epoch=1.04e+3, val_energy_loss_epoch=7.610, val_forces_loss_epoch=1.03e+3, train_total_loss_epoch=720.0, train_energy_loss_epoch=41.80, train_forces_loss_epoch=678.0]"
     ]
    },
    {
     "name": "stderr",
     "output_type": "stream",
     "text": [
      "     11        160         608.201          21.177         587.024           1.794           2.058           1.855           2.486\n"
     ]
    },
    {
     "name": "stdout",
     "output_type": "stream",
     "text": [
      "Epoch 11:  85%|████████▌ | 170/200 [00:35<00:06,  4.76it/s, v_num=32, train_total_loss_step=619.0, train_energy_loss_step=38.10, train_forces_loss_step=581.0, val_total_loss_step=974.0, val_energy_loss_step=3.520, val_forces_loss_step=971.0, val_total_loss_epoch=1.04e+3, val_energy_loss_epoch=7.610, val_forces_loss_epoch=1.03e+3, train_total_loss_epoch=720.0, train_energy_loss_epoch=41.80, train_forces_loss_epoch=678.0]"
     ]
    },
    {
     "name": "stderr",
     "output_type": "stream",
     "text": [
      "     11        170         517.258           1.768         515.490           0.575           0.595           1.710           2.329\n"
     ]
    },
    {
     "name": "stdout",
     "output_type": "stream",
     "text": [
      "Epoch 11:  90%|█████████ | 180/200 [00:37<00:04,  4.76it/s, v_num=32, train_total_loss_step=653.0, train_energy_loss_step=47.90, train_forces_loss_step=605.0, val_total_loss_step=974.0, val_energy_loss_step=3.520, val_forces_loss_step=971.0, val_total_loss_epoch=1.04e+3, val_energy_loss_epoch=7.610, val_forces_loss_epoch=1.03e+3, train_total_loss_epoch=720.0, train_energy_loss_epoch=41.80, train_forces_loss_epoch=678.0]"
     ]
    },
    {
     "name": "stderr",
     "output_type": "stream",
     "text": [
      "     11        180         841.975         204.038         637.937           6.206           6.388           1.901           2.591\n"
     ]
    },
    {
     "name": "stdout",
     "output_type": "stream",
     "text": [
      "Epoch 11:  95%|█████████▌| 190/200 [00:39<00:02,  4.76it/s, v_num=32, train_total_loss_step=457.0, train_energy_loss_step=14.20, train_forces_loss_step=443.0, val_total_loss_step=974.0, val_energy_loss_step=3.520, val_forces_loss_step=971.0, val_total_loss_epoch=1.04e+3, val_energy_loss_epoch=7.610, val_forces_loss_epoch=1.03e+3, train_total_loss_epoch=720.0, train_energy_loss_epoch=41.80, train_forces_loss_epoch=678.0]"
     ]
    },
    {
     "name": "stderr",
     "output_type": "stream",
     "text": [
      "     11        190         706.331           6.184         700.147           1.087           1.112           2.061           2.715\n"
     ]
    },
    {
     "name": "stdout",
     "output_type": "stream",
     "text": [
      "Epoch 11: 100%|██████████| 200/200 [00:41<00:00,  4.76it/s, v_num=32, train_total_loss_step=544.0, train_energy_loss_step=10.60, train_forces_loss_step=534.0, val_total_loss_step=974.0, val_energy_loss_step=3.520, val_forces_loss_step=971.0, val_total_loss_epoch=1.04e+3, val_energy_loss_epoch=7.610, val_forces_loss_epoch=1.03e+3, train_total_loss_epoch=720.0, train_energy_loss_epoch=41.80, train_forces_loss_epoch=678.0]"
     ]
    },
    {
     "name": "stderr",
     "output_type": "stream",
     "text": [
      "\n",
      "\n",
      "Validating\n",
      "# epoch      batch      total_loss     energy_loss     forces_loss      energy_mae     energy_rmse      forces_mae     forces_rmse\n"
     ]
    },
    {
     "name": "stdout",
     "output_type": "stream",
     "text": []
    },
    {
     "name": "stderr",
     "output_type": "stream",
     "text": [
      "     11          0         615.721          49.731         565.990           3.000           3.154           1.810           2.441\n"
     ]
    },
    {
     "name": "stdout",
     "output_type": "stream",
     "text": []
    },
    {
     "name": "stderr",
     "output_type": "stream",
     "text": [
      "     11         10         567.722          86.667         481.054           4.070           4.163           1.637           2.250\n"
     ]
    },
    {
     "name": "stdout",
     "output_type": "stream",
     "text": []
    },
    {
     "name": "stderr",
     "output_type": "stream",
     "text": [
      "     11         20         603.429          55.671         547.758           3.199           3.337           1.818           2.401\n"
     ]
    },
    {
     "name": "stdout",
     "output_type": "stream",
     "text": []
    },
    {
     "name": "stderr",
     "output_type": "stream",
     "text": [
      "     11         30         609.759          69.329         540.430           3.605           3.724           1.780           2.385\n"
     ]
    },
    {
     "name": "stdout",
     "output_type": "stream",
     "text": []
    },
    {
     "name": "stderr",
     "output_type": "stream",
     "text": [
      "     11         40         696.215          87.294         608.921           4.012           4.178           1.865           2.532\n"
     ]
    },
    {
     "name": "stdout",
     "output_type": "stream",
     "text": []
    },
    {
     "name": "stderr",
     "output_type": "stream",
     "text": [
      "     11         50         737.212          96.646         640.566           4.184           4.397           1.848           2.597\n"
     ]
    },
    {
     "name": "stdout",
     "output_type": "stream",
     "text": []
    },
    {
     "name": "stderr",
     "output_type": "stream",
     "text": [
      "     11         60         712.917          72.661         640.256           3.625           3.812           1.917           2.596\n"
     ]
    },
    {
     "name": "stdout",
     "output_type": "stream",
     "text": []
    },
    {
     "name": "stderr",
     "output_type": "stream",
     "text": [
      "     11         70         653.781          85.379         568.402           4.020           4.132           1.805           2.446\n"
     ]
    },
    {
     "name": "stdout",
     "output_type": "stream",
     "text": []
    },
    {
     "name": "stderr",
     "output_type": "stream",
     "text": [
      "     11         80         649.611          87.027         562.584           3.910           4.172           1.769           2.434\n"
     ]
    },
    {
     "name": "stdout",
     "output_type": "stream",
     "text": []
    },
    {
     "name": "stderr",
     "output_type": "stream",
     "text": [
      "     11         90         585.401          69.449         515.952           3.609           3.727           1.681           2.330\n"
     ]
    },
    {
     "name": "stdout",
     "output_type": "stream",
     "text": []
    },
    {
     "name": "stderr",
     "output_type": "stream",
     "text": [
      "     11        100         913.360          79.184         834.176           3.824           3.980           2.002           2.963\n"
     ]
    },
    {
     "name": "stdout",
     "output_type": "stream",
     "text": []
    },
    {
     "name": "stderr",
     "output_type": "stream",
     "text": [
      "     11        110         607.286          88.046         519.240           4.086           4.196           1.660           2.338\n"
     ]
    },
    {
     "name": "stdout",
     "output_type": "stream",
     "text": []
    },
    {
     "name": "stderr",
     "output_type": "stream",
     "text": [
      "     11        120         635.319          55.850         579.469           3.137           3.342           1.854           2.470\n"
     ]
    },
    {
     "name": "stdout",
     "output_type": "stream",
     "text": []
    },
    {
     "name": "stderr",
     "output_type": "stream",
     "text": [
      "\n",
      "\n",
      "Epoch summary:\n",
      "Validation  # epoch      total_loss     energy_loss     forces_loss      energy_mae     energy_rmse      forces_mae     forces_rmse\n",
      "                 11         703.690          88.543         615.146           4.036           4.208           1.814           2.545\n"
     ]
    },
    {
     "name": "stdout",
     "output_type": "stream",
     "text": [
      "Epoch 11: 100%|██████████| 200/200 [01:02<00:00,  3.20it/s, v_num=32, train_total_loss_step=544.0, train_energy_loss_step=10.60, train_forces_loss_step=534.0, val_total_loss_step=761.0, val_energy_loss_step=85.40, val_forces_loss_step=676.0, val_total_loss_epoch=704.0, val_energy_loss_epoch=88.50, val_forces_loss_epoch=615.0, train_total_loss_epoch=701.0, train_energy_loss_epoch=63.60, train_forces_loss_epoch=637.0]    "
     ]
    },
    {
     "name": "stderr",
     "output_type": "stream",
     "text": [
      "Train       # epoch      total_loss     energy_loss     forces_loss      energy_mae     energy_rmse      forces_mae     forces_rmse\n",
      "                 11         701.119          63.647         637.472           2.898           3.568           1.903           2.590\n"
     ]
    },
    {
     "name": "stdout",
     "output_type": "stream",
     "text": [
      "Epoch 12:   0%|          | 0/200 [00:00<?, ?it/s, v_num=32, train_total_loss_step=544.0, train_energy_loss_step=10.60, train_forces_loss_step=534.0, val_total_loss_step=761.0, val_energy_loss_step=85.40, val_forces_loss_step=676.0, val_total_loss_epoch=704.0, val_energy_loss_epoch=88.50, val_forces_loss_epoch=615.0, train_total_loss_epoch=701.0, train_energy_loss_epoch=63.60, train_forces_loss_epoch=637.0]          "
     ]
    },
    {
     "name": "stderr",
     "output_type": "stream",
     "text": [
      "\n",
      "\n",
      "Training\n",
      "# epoch      batch      total_loss     energy_loss     forces_loss      energy_mae     energy_rmse      forces_mae     forces_rmse\n",
      "     12          0         810.581          76.827         733.754           3.669           3.920           1.911           2.779\n"
     ]
    },
    {
     "name": "stdout",
     "output_type": "stream",
     "text": [
      "Epoch 12:   5%|▌         | 10/200 [00:02<00:41,  4.54it/s, v_num=32, train_total_loss_step=647.0, train_energy_loss_step=47.60, train_forces_loss_step=600.0, val_total_loss_step=761.0, val_energy_loss_step=85.40, val_forces_loss_step=676.0, val_total_loss_epoch=704.0, val_energy_loss_epoch=88.50, val_forces_loss_epoch=615.0, train_total_loss_epoch=701.0, train_energy_loss_epoch=63.60, train_forces_loss_epoch=637.0]"
     ]
    },
    {
     "name": "stderr",
     "output_type": "stream",
     "text": [
      "     12         10         566.603          30.985         535.617           2.206           2.489           1.815           2.374\n"
     ]
    },
    {
     "name": "stdout",
     "output_type": "stream",
     "text": [
      "Epoch 12:  10%|█         | 20/200 [00:04<00:38,  4.65it/s, v_num=32, train_total_loss_step=715.0, train_energy_loss_step=195.0, train_forces_loss_step=520.0, val_total_loss_step=761.0, val_energy_loss_step=85.40, val_forces_loss_step=676.0, val_total_loss_epoch=704.0, val_energy_loss_epoch=88.50, val_forces_loss_epoch=615.0, train_total_loss_epoch=701.0, train_energy_loss_epoch=63.60, train_forces_loss_epoch=637.0]    "
     ]
    },
    {
     "name": "stderr",
     "output_type": "stream",
     "text": [
      "     12         20         471.489           8.660         462.829           1.138           1.316           1.671           2.207\n"
     ]
    },
    {
     "name": "stdout",
     "output_type": "stream",
     "text": [
      "Epoch 12:  15%|█▌        | 30/200 [00:06<00:36,  4.70it/s, v_num=32, train_total_loss_step=760.0, train_energy_loss_step=23.10, train_forces_loss_step=737.0, val_total_loss_step=761.0, val_energy_loss_step=85.40, val_forces_loss_step=676.0, val_total_loss_epoch=704.0, val_energy_loss_epoch=88.50, val_forces_loss_epoch=615.0, train_total_loss_epoch=701.0, train_energy_loss_epoch=63.60, train_forces_loss_epoch=637.0]"
     ]
    },
    {
     "name": "stderr",
     "output_type": "stream",
     "text": [
      "     12         30         664.932          19.708         645.224           1.656           1.985           1.804           2.606\n"
     ]
    },
    {
     "name": "stdout",
     "output_type": "stream",
     "text": [
      "Epoch 12:  20%|██        | 40/200 [00:08<00:33,  4.71it/s, v_num=32, train_total_loss_step=651.0, train_energy_loss_step=228.0, train_forces_loss_step=423.0, val_total_loss_step=761.0, val_energy_loss_step=85.40, val_forces_loss_step=676.0, val_total_loss_epoch=704.0, val_energy_loss_epoch=88.50, val_forces_loss_epoch=615.0, train_total_loss_epoch=701.0, train_energy_loss_epoch=63.60, train_forces_loss_epoch=637.0]"
     ]
    },
    {
     "name": "stderr",
     "output_type": "stream",
     "text": [
      "     12         40        1000.646         455.496         545.150           9.488           9.545           1.734           2.395\n"
     ]
    },
    {
     "name": "stdout",
     "output_type": "stream",
     "text": [
      "Epoch 12:  25%|██▌       | 50/200 [00:10<00:31,  4.72it/s, v_num=32, train_total_loss_step=699.0, train_energy_loss_step=75.60, train_forces_loss_step=624.0, val_total_loss_step=761.0, val_energy_loss_step=85.40, val_forces_loss_step=676.0, val_total_loss_epoch=704.0, val_energy_loss_epoch=88.50, val_forces_loss_epoch=615.0, train_total_loss_epoch=701.0, train_energy_loss_epoch=63.60, train_forces_loss_epoch=637.0]"
     ]
    },
    {
     "name": "stderr",
     "output_type": "stream",
     "text": [
      "     12         50         734.551          13.268         721.284           1.438           1.629           2.024           2.755\n"
     ]
    },
    {
     "name": "stdout",
     "output_type": "stream",
     "text": [
      "Epoch 12:  30%|███       | 60/200 [00:12<00:29,  4.73it/s, v_num=32, train_total_loss_step=579.0, train_energy_loss_step=26.20, train_forces_loss_step=552.0, val_total_loss_step=761.0, val_energy_loss_step=85.40, val_forces_loss_step=676.0, val_total_loss_epoch=704.0, val_energy_loss_epoch=88.50, val_forces_loss_epoch=615.0, train_total_loss_epoch=701.0, train_energy_loss_epoch=63.60, train_forces_loss_epoch=637.0]"
     ]
    },
    {
     "name": "stderr",
     "output_type": "stream",
     "text": [
      "     12         60         713.881         181.949         531.932           5.938           6.032           1.737           2.366\n"
     ]
    },
    {
     "name": "stdout",
     "output_type": "stream",
     "text": [
      "Epoch 12:  35%|███▌      | 70/200 [00:14<00:27,  4.73it/s, v_num=32, train_total_loss_step=793.0, train_energy_loss_step=182.0, train_forces_loss_step=610.0, val_total_loss_step=761.0, val_energy_loss_step=85.40, val_forces_loss_step=676.0, val_total_loss_epoch=704.0, val_energy_loss_epoch=88.50, val_forces_loss_epoch=615.0, train_total_loss_epoch=701.0, train_energy_loss_epoch=63.60, train_forces_loss_epoch=637.0]"
     ]
    },
    {
     "name": "stderr",
     "output_type": "stream",
     "text": [
      "     12         70         512.500          38.221         474.279           2.713           2.765           1.683           2.234\n"
     ]
    },
    {
     "name": "stdout",
     "output_type": "stream",
     "text": [
      "Epoch 12:  40%|████      | 80/200 [00:16<00:25,  4.74it/s, v_num=32, train_total_loss_step=662.0, train_energy_loss_step=19.40, train_forces_loss_step=642.0, val_total_loss_step=761.0, val_energy_loss_step=85.40, val_forces_loss_step=676.0, val_total_loss_epoch=704.0, val_energy_loss_epoch=88.50, val_forces_loss_epoch=615.0, train_total_loss_epoch=701.0, train_energy_loss_epoch=63.60, train_forces_loss_epoch=637.0]"
     ]
    },
    {
     "name": "stderr",
     "output_type": "stream",
     "text": [
      "     12         80         858.159         171.525         686.634           5.725           5.857           1.951           2.688\n"
     ]
    },
    {
     "name": "stdout",
     "output_type": "stream",
     "text": [
      "Epoch 12:  45%|████▌     | 90/200 [00:18<00:23,  4.75it/s, v_num=32, train_total_loss_step=786.0, train_energy_loss_step=21.70, train_forces_loss_step=764.0, val_total_loss_step=761.0, val_energy_loss_step=85.40, val_forces_loss_step=676.0, val_total_loss_epoch=704.0, val_energy_loss_epoch=88.50, val_forces_loss_epoch=615.0, train_total_loss_epoch=701.0, train_energy_loss_epoch=63.60, train_forces_loss_epoch=637.0]"
     ]
    },
    {
     "name": "stderr",
     "output_type": "stream",
     "text": [
      "     12         90         675.060          11.783         663.276           1.175           1.535           1.963           2.642\n"
     ]
    },
    {
     "name": "stdout",
     "output_type": "stream",
     "text": [
      "Epoch 12:  50%|█████     | 100/200 [00:21<00:21,  4.75it/s, v_num=32, train_total_loss_step=519.0, train_energy_loss_step=6.220, train_forces_loss_step=512.0, val_total_loss_step=761.0, val_energy_loss_step=85.40, val_forces_loss_step=676.0, val_total_loss_epoch=704.0, val_energy_loss_epoch=88.50, val_forces_loss_epoch=615.0, train_total_loss_epoch=701.0, train_energy_loss_epoch=63.60, train_forces_loss_epoch=637.0]"
     ]
    },
    {
     "name": "stderr",
     "output_type": "stream",
     "text": [
      "     12        100         734.975         145.354         589.621           5.331           5.392           1.849           2.491\n"
     ]
    },
    {
     "name": "stdout",
     "output_type": "stream",
     "text": [
      "Epoch 12:  55%|█████▌    | 110/200 [00:23<00:18,  4.75it/s, v_num=32, train_total_loss_step=655.0, train_energy_loss_step=42.90, train_forces_loss_step=612.0, val_total_loss_step=761.0, val_energy_loss_step=85.40, val_forces_loss_step=676.0, val_total_loss_epoch=704.0, val_energy_loss_epoch=88.50, val_forces_loss_epoch=615.0, train_total_loss_epoch=701.0, train_energy_loss_epoch=63.60, train_forces_loss_epoch=637.0]  "
     ]
    },
    {
     "name": "stderr",
     "output_type": "stream",
     "text": [
      "     12        110         709.023          20.927         688.096           1.856           2.046           1.964           2.691\n"
     ]
    },
    {
     "name": "stdout",
     "output_type": "stream",
     "text": [
      "Epoch 12:  60%|██████    | 120/200 [00:25<00:16,  4.75it/s, v_num=32, train_total_loss_step=674.0, train_energy_loss_step=7.910, train_forces_loss_step=666.0, val_total_loss_step=761.0, val_energy_loss_step=85.40, val_forces_loss_step=676.0, val_total_loss_epoch=704.0, val_energy_loss_epoch=88.50, val_forces_loss_epoch=615.0, train_total_loss_epoch=701.0, train_energy_loss_epoch=63.60, train_forces_loss_epoch=637.0]"
     ]
    },
    {
     "name": "stderr",
     "output_type": "stream",
     "text": [
      "     12        120         646.555          16.061         630.495           1.663           1.792           1.912           2.576\n"
     ]
    },
    {
     "name": "stdout",
     "output_type": "stream",
     "text": [
      "Epoch 12:  65%|██████▌   | 130/200 [00:27<00:14,  4.74it/s, v_num=32, train_total_loss_step=576.0, train_energy_loss_step=7.150, train_forces_loss_step=569.0, val_total_loss_step=761.0, val_energy_loss_step=85.40, val_forces_loss_step=676.0, val_total_loss_epoch=704.0, val_energy_loss_epoch=88.50, val_forces_loss_epoch=615.0, train_total_loss_epoch=701.0, train_energy_loss_epoch=63.60, train_forces_loss_epoch=637.0]"
     ]
    },
    {
     "name": "stderr",
     "output_type": "stream",
     "text": [
      "     12        130         637.709          49.411         588.298           2.719           3.144           1.809           2.488\n"
     ]
    },
    {
     "name": "stdout",
     "output_type": "stream",
     "text": [
      "Epoch 12:  70%|███████   | 140/200 [00:29<00:12,  4.75it/s, v_num=32, train_total_loss_step=644.0, train_energy_loss_step=10.10, train_forces_loss_step=633.0, val_total_loss_step=761.0, val_energy_loss_step=85.40, val_forces_loss_step=676.0, val_total_loss_epoch=704.0, val_energy_loss_epoch=88.50, val_forces_loss_epoch=615.0, train_total_loss_epoch=701.0, train_energy_loss_epoch=63.60, train_forces_loss_epoch=637.0]"
     ]
    },
    {
     "name": "stderr",
     "output_type": "stream",
     "text": [
      "     12        140         613.920          24.104         589.816           1.919           2.196           1.805           2.492\n"
     ]
    },
    {
     "name": "stdout",
     "output_type": "stream",
     "text": [
      "Epoch 12:  75%|███████▌  | 150/200 [00:31<00:10,  4.75it/s, v_num=32, train_total_loss_step=901.0, train_energy_loss_step=63.60, train_forces_loss_step=837.0, val_total_loss_step=761.0, val_energy_loss_step=85.40, val_forces_loss_step=676.0, val_total_loss_epoch=704.0, val_energy_loss_epoch=88.50, val_forces_loss_epoch=615.0, train_total_loss_epoch=701.0, train_energy_loss_epoch=63.60, train_forces_loss_epoch=637.0]"
     ]
    },
    {
     "name": "stderr",
     "output_type": "stream",
     "text": [
      "     12        150         636.620          48.106         588.514           2.831           3.102           1.746           2.489\n"
     ]
    },
    {
     "name": "stdout",
     "output_type": "stream",
     "text": [
      "Epoch 12:  80%|████████  | 160/200 [00:33<00:08,  4.75it/s, v_num=32, train_total_loss_step=610.0, train_energy_loss_step=50.40, train_forces_loss_step=560.0, val_total_loss_step=761.0, val_energy_loss_step=85.40, val_forces_loss_step=676.0, val_total_loss_epoch=704.0, val_energy_loss_epoch=88.50, val_forces_loss_epoch=615.0, train_total_loss_epoch=701.0, train_energy_loss_epoch=63.60, train_forces_loss_epoch=637.0]"
     ]
    },
    {
     "name": "stderr",
     "output_type": "stream",
     "text": [
      "     12        160         711.230          16.294         694.936           1.606           1.805           1.998           2.705\n"
     ]
    },
    {
     "name": "stdout",
     "output_type": "stream",
     "text": [
      "Epoch 12:  85%|████████▌ | 170/200 [00:35<00:06,  4.75it/s, v_num=32, train_total_loss_step=679.0, train_energy_loss_step=4.430, train_forces_loss_step=674.0, val_total_loss_step=761.0, val_energy_loss_step=85.40, val_forces_loss_step=676.0, val_total_loss_epoch=704.0, val_energy_loss_epoch=88.50, val_forces_loss_epoch=615.0, train_total_loss_epoch=701.0, train_energy_loss_epoch=63.60, train_forces_loss_epoch=637.0]"
     ]
    },
    {
     "name": "stderr",
     "output_type": "stream",
     "text": [
      "     12        170         477.791           0.893         476.899           0.387           0.423           1.678           2.241\n"
     ]
    },
    {
     "name": "stdout",
     "output_type": "stream",
     "text": [
      "Epoch 12:  90%|█████████ | 180/200 [00:37<00:04,  4.75it/s, v_num=32, train_total_loss_step=613.0, train_energy_loss_step=11.50, train_forces_loss_step=602.0, val_total_loss_step=761.0, val_energy_loss_step=85.40, val_forces_loss_step=676.0, val_total_loss_epoch=704.0, val_energy_loss_epoch=88.50, val_forces_loss_epoch=615.0, train_total_loss_epoch=701.0, train_energy_loss_epoch=63.60, train_forces_loss_epoch=637.0]"
     ]
    },
    {
     "name": "stderr",
     "output_type": "stream",
     "text": [
      "     12        180         551.143           1.816         549.327           0.550           0.603           1.713           2.405\n"
     ]
    },
    {
     "name": "stdout",
     "output_type": "stream",
     "text": [
      "Epoch 12:  95%|█████████▌| 190/200 [00:39<00:02,  4.75it/s, v_num=32, train_total_loss_step=643.0, train_energy_loss_step=44.40, train_forces_loss_step=598.0, val_total_loss_step=761.0, val_energy_loss_step=85.40, val_forces_loss_step=676.0, val_total_loss_epoch=704.0, val_energy_loss_epoch=88.50, val_forces_loss_epoch=615.0, train_total_loss_epoch=701.0, train_energy_loss_epoch=63.60, train_forces_loss_epoch=637.0]"
     ]
    },
    {
     "name": "stderr",
     "output_type": "stream",
     "text": [
      "     12        190         904.713         472.330         432.383           9.675           9.719           1.691           2.133\n"
     ]
    },
    {
     "name": "stdout",
     "output_type": "stream",
     "text": [
      "Epoch 12: 100%|██████████| 200/200 [00:42<00:00,  4.75it/s, v_num=32, train_total_loss_step=657.0, train_energy_loss_step=104.0, train_forces_loss_step=553.0, val_total_loss_step=761.0, val_energy_loss_step=85.40, val_forces_loss_step=676.0, val_total_loss_epoch=704.0, val_energy_loss_epoch=88.50, val_forces_loss_epoch=615.0, train_total_loss_epoch=701.0, train_energy_loss_epoch=63.60, train_forces_loss_epoch=637.0]"
     ]
    },
    {
     "name": "stderr",
     "output_type": "stream",
     "text": [
      "\n",
      "\n",
      "Validating\n",
      "# epoch      batch      total_loss     energy_loss     forces_loss      energy_mae     energy_rmse      forces_mae     forces_rmse\n"
     ]
    },
    {
     "name": "stdout",
     "output_type": "stream",
     "text": []
    },
    {
     "name": "stderr",
     "output_type": "stream",
     "text": [
      "     12          0         612.716           6.345         606.370           1.000           1.127           1.840           2.526\n"
     ]
    },
    {
     "name": "stdout",
     "output_type": "stream",
     "text": []
    },
    {
     "name": "stderr",
     "output_type": "stream",
     "text": [
      "     12         10         428.811           2.978         425.833           0.551           0.772           1.585           2.117\n"
     ]
    },
    {
     "name": "stdout",
     "output_type": "stream",
     "text": []
    },
    {
     "name": "stderr",
     "output_type": "stream",
     "text": [
      "     12         20         498.122           6.085         492.038           1.020           1.103           1.659           2.276\n"
     ]
    },
    {
     "name": "stdout",
     "output_type": "stream",
     "text": []
    },
    {
     "name": "stderr",
     "output_type": "stream",
     "text": [
      "     12         30         606.361           3.276         603.084           0.711           0.809           1.863           2.520\n"
     ]
    },
    {
     "name": "stdout",
     "output_type": "stream",
     "text": []
    },
    {
     "name": "stderr",
     "output_type": "stream",
     "text": [
      "     12         40         633.237          15.720         617.517           1.074           1.773           1.818           2.550\n"
     ]
    },
    {
     "name": "stdout",
     "output_type": "stream",
     "text": []
    },
    {
     "name": "stderr",
     "output_type": "stream",
     "text": [
      "     12         50         600.780           7.560         593.220           1.047           1.230           1.821           2.499\n"
     ]
    },
    {
     "name": "stdout",
     "output_type": "stream",
     "text": []
    },
    {
     "name": "stderr",
     "output_type": "stream",
     "text": [
      "     12         60         546.800           6.187         540.613           0.887           1.112           1.784           2.386\n"
     ]
    },
    {
     "name": "stdout",
     "output_type": "stream",
     "text": []
    },
    {
     "name": "stderr",
     "output_type": "stream",
     "text": [
      "     12         70         522.090           4.232         517.858           0.754           0.920           1.702           2.335\n"
     ]
    },
    {
     "name": "stdout",
     "output_type": "stream",
     "text": []
    },
    {
     "name": "stderr",
     "output_type": "stream",
     "text": [
      "     12         80         575.072          10.283         564.789           1.125           1.434           1.776           2.438\n"
     ]
    },
    {
     "name": "stdout",
     "output_type": "stream",
     "text": []
    },
    {
     "name": "stderr",
     "output_type": "stream",
     "text": [
      "     12         90         464.626           7.690         456.936           0.879           1.240           1.594           2.193\n"
     ]
    },
    {
     "name": "stdout",
     "output_type": "stream",
     "text": []
    },
    {
     "name": "stderr",
     "output_type": "stream",
     "text": [
      "     12        100         823.040           6.251         816.789           0.863           1.118           2.003           2.932\n"
     ]
    },
    {
     "name": "stdout",
     "output_type": "stream",
     "text": []
    },
    {
     "name": "stderr",
     "output_type": "stream",
     "text": [
      "     12        110         583.474           8.005         575.468           1.125           1.265           1.706           2.461\n"
     ]
    },
    {
     "name": "stdout",
     "output_type": "stream",
     "text": []
    },
    {
     "name": "stderr",
     "output_type": "stream",
     "text": [
      "     12        120         527.057           7.764         519.292           1.121           1.246           1.698           2.338\n"
     ]
    },
    {
     "name": "stdout",
     "output_type": "stream",
     "text": []
    },
    {
     "name": "stderr",
     "output_type": "stream",
     "text": [
      "\n",
      "\n",
      "Epoch summary:\n",
      "Validation  # epoch      total_loss     energy_loss     forces_loss      energy_mae     energy_rmse      forces_mae     forces_rmse\n",
      "                 12         592.738           7.884         584.854           0.994           1.256           1.778           2.481\n"
     ]
    },
    {
     "name": "stdout",
     "output_type": "stream",
     "text": [
      "Epoch 12: 100%|██████████| 200/200 [01:02<00:00,  3.19it/s, v_num=32, train_total_loss_step=657.0, train_energy_loss_step=104.0, train_forces_loss_step=553.0, val_total_loss_step=562.0, val_energy_loss_step=6.310, val_forces_loss_step=555.0, val_total_loss_epoch=593.0, val_energy_loss_epoch=7.880, val_forces_loss_epoch=585.0, train_total_loss_epoch=657.0, train_energy_loss_epoch=61.30, train_forces_loss_epoch=596.0]"
     ]
    },
    {
     "name": "stderr",
     "output_type": "stream",
     "text": [
      "Train       # epoch      total_loss     energy_loss     forces_loss      energy_mae     energy_rmse      forces_mae     forces_rmse\n",
      "                 12         656.958          61.288         595.671           2.803           3.501           1.842           2.504\n"
     ]
    },
    {
     "name": "stdout",
     "output_type": "stream",
     "text": [
      "Epoch 13:   0%|          | 0/200 [00:00<?, ?it/s, v_num=32, train_total_loss_step=657.0, train_energy_loss_step=104.0, train_forces_loss_step=553.0, val_total_loss_step=562.0, val_energy_loss_step=6.310, val_forces_loss_step=555.0, val_total_loss_epoch=593.0, val_energy_loss_epoch=7.880, val_forces_loss_epoch=585.0, train_total_loss_epoch=657.0, train_energy_loss_epoch=61.30, train_forces_loss_epoch=596.0]          "
     ]
    },
    {
     "name": "stderr",
     "output_type": "stream",
     "text": [
      "\n",
      "\n",
      "Training\n",
      "# epoch      batch      total_loss     energy_loss     forces_loss      energy_mae     energy_rmse      forces_mae     forces_rmse\n",
      "     13          0         472.826           5.500         467.326           0.837           1.049           1.536           2.218\n"
     ]
    },
    {
     "name": "stdout",
     "output_type": "stream",
     "text": [
      "Epoch 13:   5%|▌         | 10/200 [00:02<00:42,  4.51it/s, v_num=32, train_total_loss_step=638.0, train_energy_loss_step=13.50, train_forces_loss_step=624.0, val_total_loss_step=562.0, val_energy_loss_step=6.310, val_forces_loss_step=555.0, val_total_loss_epoch=593.0, val_energy_loss_epoch=7.880, val_forces_loss_epoch=585.0, train_total_loss_epoch=657.0, train_energy_loss_epoch=61.30, train_forces_loss_epoch=596.0]"
     ]
    },
    {
     "name": "stderr",
     "output_type": "stream",
     "text": [
      "     13         10         573.609         124.934         448.675           4.950           4.999           1.553           2.173\n"
     ]
    },
    {
     "name": "stdout",
     "output_type": "stream",
     "text": [
      "Epoch 13:  10%|█         | 20/200 [00:04<00:38,  4.63it/s, v_num=32, train_total_loss_step=682.0, train_energy_loss_step=49.70, train_forces_loss_step=632.0, val_total_loss_step=562.0, val_energy_loss_step=6.310, val_forces_loss_step=555.0, val_total_loss_epoch=593.0, val_energy_loss_epoch=7.880, val_forces_loss_epoch=585.0, train_total_loss_epoch=657.0, train_energy_loss_epoch=61.30, train_forces_loss_epoch=596.0]"
     ]
    },
    {
     "name": "stderr",
     "output_type": "stream",
     "text": [
      "     13         20         850.840          31.511         819.329           2.044           2.510           2.066           2.937\n"
     ]
    },
    {
     "name": "stdout",
     "output_type": "stream",
     "text": [
      "Epoch 13:  15%|█▌        | 30/200 [00:06<00:36,  4.68it/s, v_num=32, train_total_loss_step=569.0, train_energy_loss_step=48.80, train_forces_loss_step=520.0, val_total_loss_step=562.0, val_energy_loss_step=6.310, val_forces_loss_step=555.0, val_total_loss_epoch=593.0, val_energy_loss_epoch=7.880, val_forces_loss_epoch=585.0, train_total_loss_epoch=657.0, train_energy_loss_epoch=61.30, train_forces_loss_epoch=596.0]"
     ]
    },
    {
     "name": "stderr",
     "output_type": "stream",
     "text": [
      "     13         30         684.451          21.737         662.714           1.856           2.085           1.988           2.641\n"
     ]
    },
    {
     "name": "stdout",
     "output_type": "stream",
     "text": [
      "Epoch 13:  20%|██        | 40/200 [00:08<00:34,  4.70it/s, v_num=32, train_total_loss_step=480.0, train_energy_loss_step=23.60, train_forces_loss_step=456.0, val_total_loss_step=562.0, val_energy_loss_step=6.310, val_forces_loss_step=555.0, val_total_loss_epoch=593.0, val_energy_loss_epoch=7.880, val_forces_loss_epoch=585.0, train_total_loss_epoch=657.0, train_energy_loss_epoch=61.30, train_forces_loss_epoch=596.0]"
     ]
    },
    {
     "name": "stderr",
     "output_type": "stream",
     "text": [
      "     13         40         605.247          53.283         551.964           3.175           3.264           1.826           2.410\n"
     ]
    },
    {
     "name": "stdout",
     "output_type": "stream",
     "text": [
      "Epoch 13:  25%|██▌       | 50/200 [00:10<00:31,  4.71it/s, v_num=32, train_total_loss_step=573.0, train_energy_loss_step=21.80, train_forces_loss_step=551.0, val_total_loss_step=562.0, val_energy_loss_step=6.310, val_forces_loss_step=555.0, val_total_loss_epoch=593.0, val_energy_loss_epoch=7.880, val_forces_loss_epoch=585.0, train_total_loss_epoch=657.0, train_energy_loss_epoch=61.30, train_forces_loss_epoch=596.0]"
     ]
    },
    {
     "name": "stderr",
     "output_type": "stream",
     "text": [
      "     13         50         431.141           3.889         427.252           0.775           0.882           1.552           2.121\n"
     ]
    },
    {
     "name": "stdout",
     "output_type": "stream",
     "text": [
      "Epoch 13:  30%|███       | 60/200 [00:12<00:29,  4.72it/s, v_num=32, train_total_loss_step=626.0, train_energy_loss_step=62.10, train_forces_loss_step=564.0, val_total_loss_step=562.0, val_energy_loss_step=6.310, val_forces_loss_step=555.0, val_total_loss_epoch=593.0, val_energy_loss_epoch=7.880, val_forces_loss_epoch=585.0, train_total_loss_epoch=657.0, train_energy_loss_epoch=61.30, train_forces_loss_epoch=596.0]"
     ]
    },
    {
     "name": "stderr",
     "output_type": "stream",
     "text": [
      "     13         60         552.262          16.463         535.799           1.650           1.815           1.799           2.375\n"
     ]
    },
    {
     "name": "stdout",
     "output_type": "stream",
     "text": [
      "Epoch 13:  35%|███▌      | 70/200 [00:14<00:27,  4.73it/s, v_num=32, train_total_loss_step=720.0, train_energy_loss_step=18.00, train_forces_loss_step=702.0, val_total_loss_step=562.0, val_energy_loss_step=6.310, val_forces_loss_step=555.0, val_total_loss_epoch=593.0, val_energy_loss_epoch=7.880, val_forces_loss_epoch=585.0, train_total_loss_epoch=657.0, train_energy_loss_epoch=61.30, train_forces_loss_epoch=596.0]"
     ]
    },
    {
     "name": "stderr",
     "output_type": "stream",
     "text": [
      "     13         70         892.108          81.294         810.814           3.969           4.032           2.044           2.921\n"
     ]
    },
    {
     "name": "stdout",
     "output_type": "stream",
     "text": [
      "Epoch 13:  40%|████      | 80/200 [00:16<00:25,  4.73it/s, v_num=32, train_total_loss_step=533.0, train_energy_loss_step=8.530, train_forces_loss_step=524.0, val_total_loss_step=562.0, val_energy_loss_step=6.310, val_forces_loss_step=555.0, val_total_loss_epoch=593.0, val_energy_loss_epoch=7.880, val_forces_loss_epoch=585.0, train_total_loss_epoch=657.0, train_energy_loss_epoch=61.30, train_forces_loss_epoch=596.0]  "
     ]
    },
    {
     "name": "stderr",
     "output_type": "stream",
     "text": [
      "     13         80        1254.843         600.554         654.289          10.931          10.960           1.896           2.624\n"
     ]
    },
    {
     "name": "stdout",
     "output_type": "stream",
     "text": [
      "Epoch 13:  45%|████▌     | 90/200 [00:19<00:23,  4.73it/s, v_num=32, train_total_loss_step=1.03e+3, train_energy_loss_step=356.0, train_forces_loss_step=674.0, val_total_loss_step=562.0, val_energy_loss_step=6.310, val_forces_loss_step=555.0, val_total_loss_epoch=593.0, val_energy_loss_epoch=7.880, val_forces_loss_epoch=585.0, train_total_loss_epoch=657.0, train_energy_loss_epoch=61.30, train_forces_loss_epoch=596.0]  "
     ]
    },
    {
     "name": "stderr",
     "output_type": "stream",
     "text": [
      "     13         90         571.175          22.212         548.963           1.781           2.108           1.830           2.404\n"
     ]
    },
    {
     "name": "stdout",
     "output_type": "stream",
     "text": [
      "Epoch 13:  50%|█████     | 100/200 [00:21<00:21,  4.74it/s, v_num=32, train_total_loss_step=671.0, train_energy_loss_step=13.60, train_forces_loss_step=658.0, val_total_loss_step=562.0, val_energy_loss_step=6.310, val_forces_loss_step=555.0, val_total_loss_epoch=593.0, val_energy_loss_epoch=7.880, val_forces_loss_epoch=585.0, train_total_loss_epoch=657.0, train_energy_loss_epoch=61.30, train_forces_loss_epoch=596.0] "
     ]
    },
    {
     "name": "stderr",
     "output_type": "stream",
     "text": [
      "     13        100         397.136           7.229         389.907           1.013           1.202           1.564           2.026\n"
     ]
    },
    {
     "name": "stdout",
     "output_type": "stream",
     "text": [
      "Epoch 13:  55%|█████▌    | 110/200 [00:23<00:19,  4.74it/s, v_num=32, train_total_loss_step=458.0, train_energy_loss_step=9.280, train_forces_loss_step=448.0, val_total_loss_step=562.0, val_energy_loss_step=6.310, val_forces_loss_step=555.0, val_total_loss_epoch=593.0, val_energy_loss_epoch=7.880, val_forces_loss_epoch=585.0, train_total_loss_epoch=657.0, train_energy_loss_epoch=61.30, train_forces_loss_epoch=596.0]"
     ]
    },
    {
     "name": "stderr",
     "output_type": "stream",
     "text": [
      "     13        110         652.890          19.917         632.973           1.644           1.996           1.901           2.581\n"
     ]
    },
    {
     "name": "stdout",
     "output_type": "stream",
     "text": [
      "Epoch 13:  60%|██████    | 120/200 [00:25<00:16,  4.74it/s, v_num=32, train_total_loss_step=769.0, train_energy_loss_step=45.50, train_forces_loss_step=723.0, val_total_loss_step=562.0, val_energy_loss_step=6.310, val_forces_loss_step=555.0, val_total_loss_epoch=593.0, val_energy_loss_epoch=7.880, val_forces_loss_epoch=585.0, train_total_loss_epoch=657.0, train_energy_loss_epoch=61.30, train_forces_loss_epoch=596.0]"
     ]
    },
    {
     "name": "stderr",
     "output_type": "stream",
     "text": [
      "     13        120         572.779           8.030         564.749           0.944           1.267           1.830           2.438\n"
     ]
    },
    {
     "name": "stdout",
     "output_type": "stream",
     "text": [
      "Epoch 13:  65%|██████▌   | 130/200 [00:27<00:14,  4.74it/s, v_num=32, train_total_loss_step=796.0, train_energy_loss_step=36.80, train_forces_loss_step=759.0, val_total_loss_step=562.0, val_energy_loss_step=6.310, val_forces_loss_step=555.0, val_total_loss_epoch=593.0, val_energy_loss_epoch=7.880, val_forces_loss_epoch=585.0, train_total_loss_epoch=657.0, train_energy_loss_epoch=61.30, train_forces_loss_epoch=596.0]"
     ]
    },
    {
     "name": "stderr",
     "output_type": "stream",
     "text": [
      "     13        130        1459.892          17.666        1442.226           1.688           1.880           2.798           3.896\n"
     ]
    },
    {
     "name": "stdout",
     "output_type": "stream",
     "text": [
      "Epoch 13:  70%|███████   | 140/200 [00:29<00:12,  4.74it/s, v_num=32, train_total_loss_step=589.0, train_energy_loss_step=17.70, train_forces_loss_step=572.0, val_total_loss_step=562.0, val_energy_loss_step=6.310, val_forces_loss_step=555.0, val_total_loss_epoch=593.0, val_energy_loss_epoch=7.880, val_forces_loss_epoch=585.0, train_total_loss_epoch=657.0, train_energy_loss_epoch=61.30, train_forces_loss_epoch=596.0]    "
     ]
    },
    {
     "name": "stderr",
     "output_type": "stream",
     "text": [
      "     13        140         861.697         327.375         534.322           8.075           8.092           1.725           2.372\n"
     ]
    },
    {
     "name": "stdout",
     "output_type": "stream",
     "text": [
      "Epoch 13:  75%|███████▌  | 150/200 [00:31<00:10,  4.74it/s, v_num=32, train_total_loss_step=967.0, train_energy_loss_step=118.0, train_forces_loss_step=849.0, val_total_loss_step=562.0, val_energy_loss_step=6.310, val_forces_loss_step=555.0, val_total_loss_epoch=593.0, val_energy_loss_epoch=7.880, val_forces_loss_epoch=585.0, train_total_loss_epoch=657.0, train_energy_loss_epoch=61.30, train_forces_loss_epoch=596.0]"
     ]
    },
    {
     "name": "stderr",
     "output_type": "stream",
     "text": [
      "     13        150         504.459          21.162         483.297           1.925           2.057           1.651           2.256\n"
     ]
    },
    {
     "name": "stdout",
     "output_type": "stream",
     "text": [
      "Epoch 13:  80%|████████  | 160/200 [00:33<00:08,  4.75it/s, v_num=32, train_total_loss_step=1.19e+3, train_energy_loss_step=242.0, train_forces_loss_step=951.0, val_total_loss_step=562.0, val_energy_loss_step=6.310, val_forces_loss_step=555.0, val_total_loss_epoch=593.0, val_energy_loss_epoch=7.880, val_forces_loss_epoch=585.0, train_total_loss_epoch=657.0, train_energy_loss_epoch=61.30, train_forces_loss_epoch=596.0]"
     ]
    },
    {
     "name": "stderr",
     "output_type": "stream",
     "text": [
      "     13        160         830.816          18.008         812.808           1.750           1.898           2.124           2.925\n"
     ]
    },
    {
     "name": "stdout",
     "output_type": "stream",
     "text": [
      "Epoch 13:  85%|████████▌ | 170/200 [00:35<00:06,  4.75it/s, v_num=32, train_total_loss_step=740.0, train_energy_loss_step=132.0, train_forces_loss_step=608.0, val_total_loss_step=562.0, val_energy_loss_step=6.310, val_forces_loss_step=555.0, val_total_loss_epoch=593.0, val_energy_loss_epoch=7.880, val_forces_loss_epoch=585.0, train_total_loss_epoch=657.0, train_energy_loss_epoch=61.30, train_forces_loss_epoch=596.0]  "
     ]
    },
    {
     "name": "stderr",
     "output_type": "stream",
     "text": [
      "     13        170         629.662          76.740         552.922           3.763           3.918           1.832           2.413\n"
     ]
    },
    {
     "name": "stdout",
     "output_type": "stream",
     "text": [
      "Epoch 13:  90%|█████████ | 180/200 [00:37<00:04,  4.75it/s, v_num=32, train_total_loss_step=682.0, train_energy_loss_step=5.980, train_forces_loss_step=676.0, val_total_loss_step=562.0, val_energy_loss_step=6.310, val_forces_loss_step=555.0, val_total_loss_epoch=593.0, val_energy_loss_epoch=7.880, val_forces_loss_epoch=585.0, train_total_loss_epoch=657.0, train_energy_loss_epoch=61.30, train_forces_loss_epoch=596.0]"
     ]
    },
    {
     "name": "stderr",
     "output_type": "stream",
     "text": [
      "     13        180         672.291          90.635         581.656           4.200           4.258           1.846           2.474\n"
     ]
    },
    {
     "name": "stdout",
     "output_type": "stream",
     "text": [
      "Epoch 13:  95%|█████████▌| 190/200 [00:39<00:02,  4.75it/s, v_num=32, train_total_loss_step=715.0, train_energy_loss_step=8.190, train_forces_loss_step=707.0, val_total_loss_step=562.0, val_energy_loss_step=6.310, val_forces_loss_step=555.0, val_total_loss_epoch=593.0, val_energy_loss_epoch=7.880, val_forces_loss_epoch=585.0, train_total_loss_epoch=657.0, train_energy_loss_epoch=61.30, train_forces_loss_epoch=596.0]"
     ]
    },
    {
     "name": "stderr",
     "output_type": "stream",
     "text": [
      "     13        190         598.455          11.102         587.353           1.325           1.490           1.782           2.486\n"
     ]
    },
    {
     "name": "stdout",
     "output_type": "stream",
     "text": [
      "Epoch 13: 100%|██████████| 200/200 [00:42<00:00,  4.75it/s, v_num=32, train_total_loss_step=720.0, train_energy_loss_step=52.80, train_forces_loss_step=668.0, val_total_loss_step=562.0, val_energy_loss_step=6.310, val_forces_loss_step=555.0, val_total_loss_epoch=593.0, val_energy_loss_epoch=7.880, val_forces_loss_epoch=585.0, train_total_loss_epoch=657.0, train_energy_loss_epoch=61.30, train_forces_loss_epoch=596.0]"
     ]
    },
    {
     "name": "stderr",
     "output_type": "stream",
     "text": [
      "\n",
      "\n",
      "Validating\n",
      "# epoch      batch      total_loss     energy_loss     forces_loss      energy_mae     energy_rmse      forces_mae     forces_rmse\n"
     ]
    },
    {
     "name": "stdout",
     "output_type": "stream",
     "text": []
    },
    {
     "name": "stderr",
     "output_type": "stream",
     "text": [
      "     13          0         845.135          50.260         794.875           3.055           3.170           2.174           2.893\n"
     ]
    },
    {
     "name": "stdout",
     "output_type": "stream",
     "text": []
    },
    {
     "name": "stderr",
     "output_type": "stream",
     "text": [
      "     13         10         740.668          45.359         695.310           2.867           3.012           2.038           2.705\n"
     ]
    },
    {
     "name": "stdout",
     "output_type": "stream",
     "text": []
    },
    {
     "name": "stderr",
     "output_type": "stream",
     "text": [
      "     13         20         724.349          53.974         670.375           3.074           3.286           2.015           2.656\n"
     ]
    },
    {
     "name": "stdout",
     "output_type": "stream",
     "text": []
    },
    {
     "name": "stderr",
     "output_type": "stream",
     "text": [
      "     13         30         711.410          38.261         673.149           2.629           2.766           1.996           2.662\n"
     ]
    },
    {
     "name": "stdout",
     "output_type": "stream",
     "text": []
    },
    {
     "name": "stderr",
     "output_type": "stream",
     "text": [
      "     13         40         784.930          33.911         751.020           2.496           2.604           2.071           2.812\n"
     ]
    },
    {
     "name": "stdout",
     "output_type": "stream",
     "text": []
    },
    {
     "name": "stderr",
     "output_type": "stream",
     "text": [
      "     13         50         855.687          39.434         816.253           2.570           2.808           2.177           2.931\n"
     ]
    },
    {
     "name": "stdout",
     "output_type": "stream",
     "text": []
    },
    {
     "name": "stderr",
     "output_type": "stream",
     "text": [
      "     13         60         916.496          38.952         877.544           2.520           2.791           2.293           3.039\n"
     ]
    },
    {
     "name": "stdout",
     "output_type": "stream",
     "text": []
    },
    {
     "name": "stderr",
     "output_type": "stream",
     "text": [
      "     13         70         784.756          27.601         757.155           2.188           2.350           2.066           2.823\n"
     ]
    },
    {
     "name": "stdout",
     "output_type": "stream",
     "text": []
    },
    {
     "name": "stderr",
     "output_type": "stream",
     "text": [
      "     13         80         768.914          47.334         721.580           2.719           3.077           2.038           2.756\n"
     ]
    },
    {
     "name": "stdout",
     "output_type": "stream",
     "text": []
    },
    {
     "name": "stderr",
     "output_type": "stream",
     "text": [
      "     13         90         670.525          43.970         626.555           2.828           2.965           1.951           2.568\n"
     ]
    },
    {
     "name": "stdout",
     "output_type": "stream",
     "text": []
    },
    {
     "name": "stderr",
     "output_type": "stream",
     "text": [
      "     13        100        1074.268          35.509        1038.759           2.336           2.665           2.289           3.307\n"
     ]
    },
    {
     "name": "stdout",
     "output_type": "stream",
     "text": []
    },
    {
     "name": "stderr",
     "output_type": "stream",
     "text": [
      "     13        110         714.606          26.694         687.912           2.191           2.311           2.008           2.691\n"
     ]
    },
    {
     "name": "stdout",
     "output_type": "stream",
     "text": []
    },
    {
     "name": "stderr",
     "output_type": "stream",
     "text": [
      "     13        120         785.004          53.211         731.793           3.082           3.262           2.129           2.775\n"
     ]
    },
    {
     "name": "stdout",
     "output_type": "stream",
     "text": []
    },
    {
     "name": "stderr",
     "output_type": "stream",
     "text": [
      "\n",
      "\n",
      "Epoch summary:\n",
      "Validation  # epoch      total_loss     energy_loss     forces_loss      energy_mae     energy_rmse      forces_mae     forces_rmse\n",
      "                 13         822.503          34.235         788.268           2.362           2.617           2.124           2.881\n"
     ]
    },
    {
     "name": "stdout",
     "output_type": "stream",
     "text": [
      "Epoch 13: 100%|██████████| 200/200 [01:02<00:00,  3.18it/s, v_num=32, train_total_loss_step=720.0, train_energy_loss_step=52.80, train_forces_loss_step=668.0, val_total_loss_step=798.0, val_energy_loss_step=28.30, val_forces_loss_step=769.0, val_total_loss_epoch=823.0, val_energy_loss_epoch=34.20, val_forces_loss_epoch=788.0, train_total_loss_epoch=696.0, train_energy_loss_epoch=78.10, train_forces_loss_epoch=618.0]"
     ]
    },
    {
     "name": "stderr",
     "output_type": "stream",
     "text": [
      "Train       # epoch      total_loss     energy_loss     forces_loss      energy_mae     energy_rmse      forces_mae     forces_rmse\n",
      "                 13         696.344          78.071         618.273           3.091           3.951           1.873           2.551\n"
     ]
    },
    {
     "name": "stdout",
     "output_type": "stream",
     "text": [
      "Epoch 14:   0%|          | 0/200 [00:00<?, ?it/s, v_num=32, train_total_loss_step=720.0, train_energy_loss_step=52.80, train_forces_loss_step=668.0, val_total_loss_step=798.0, val_energy_loss_step=28.30, val_forces_loss_step=769.0, val_total_loss_epoch=823.0, val_energy_loss_epoch=34.20, val_forces_loss_epoch=788.0, train_total_loss_epoch=696.0, train_energy_loss_epoch=78.10, train_forces_loss_epoch=618.0]          "
     ]
    },
    {
     "name": "stderr",
     "output_type": "stream",
     "text": [
      "\n",
      "\n",
      "Training\n",
      "# epoch      batch      total_loss     energy_loss     forces_loss      energy_mae     energy_rmse      forces_mae     forces_rmse\n",
      "     14          0         738.437          26.485         711.952           2.244           2.302           2.034           2.738\n"
     ]
    },
    {
     "name": "stdout",
     "output_type": "stream",
     "text": [
      "Epoch 14:   5%|▌         | 10/200 [00:02<00:41,  4.53it/s, v_num=32, train_total_loss_step=1.16e+3, train_energy_loss_step=135.0, train_forces_loss_step=1.03e+3, val_total_loss_step=798.0, val_energy_loss_step=28.30, val_forces_loss_step=769.0, val_total_loss_epoch=823.0, val_energy_loss_epoch=34.20, val_forces_loss_epoch=788.0, train_total_loss_epoch=696.0, train_energy_loss_epoch=78.10, train_forces_loss_epoch=618.0]"
     ]
    },
    {
     "name": "stderr",
     "output_type": "stream",
     "text": [
      "     14         10        1009.137         379.337         629.800           8.694           8.710           1.837           2.575\n"
     ]
    },
    {
     "name": "stdout",
     "output_type": "stream",
     "text": [
      "Epoch 14:  10%|█         | 20/200 [00:04<00:38,  4.65it/s, v_num=32, train_total_loss_step=835.0, train_energy_loss_step=128.0, train_forces_loss_step=707.0, val_total_loss_step=798.0, val_energy_loss_step=28.30, val_forces_loss_step=769.0, val_total_loss_epoch=823.0, val_energy_loss_epoch=34.20, val_forces_loss_epoch=788.0, train_total_loss_epoch=696.0, train_energy_loss_epoch=78.10, train_forces_loss_epoch=618.0]    "
     ]
    },
    {
     "name": "stderr",
     "output_type": "stream",
     "text": [
      "     14         20         645.936          54.345         591.591           2.906           3.297           1.917           2.495\n"
     ]
    },
    {
     "name": "stdout",
     "output_type": "stream",
     "text": [
      "Epoch 14:  15%|█▌        | 30/200 [00:06<00:36,  4.69it/s, v_num=32, train_total_loss_step=577.0, train_energy_loss_step=18.60, train_forces_loss_step=559.0, val_total_loss_step=798.0, val_energy_loss_step=28.30, val_forces_loss_step=769.0, val_total_loss_epoch=823.0, val_energy_loss_epoch=34.20, val_forces_loss_epoch=788.0, train_total_loss_epoch=696.0, train_energy_loss_epoch=78.10, train_forces_loss_epoch=618.0]"
     ]
    },
    {
     "name": "stderr",
     "output_type": "stream",
     "text": [
      "     14         30         607.546           7.377         600.169           0.950           1.215           1.838           2.513\n"
     ]
    },
    {
     "name": "stdout",
     "output_type": "stream",
     "text": [
      "Epoch 14:  20%|██        | 40/200 [00:08<00:34,  4.71it/s, v_num=32, train_total_loss_step=477.0, train_energy_loss_step=7.320, train_forces_loss_step=469.0, val_total_loss_step=798.0, val_energy_loss_step=28.30, val_forces_loss_step=769.0, val_total_loss_epoch=823.0, val_energy_loss_epoch=34.20, val_forces_loss_epoch=788.0, train_total_loss_epoch=696.0, train_energy_loss_epoch=78.10, train_forces_loss_epoch=618.0]"
     ]
    },
    {
     "name": "stderr",
     "output_type": "stream",
     "text": [
      "     14         40         553.660          29.850         523.811           2.287           2.443           1.724           2.348\n"
     ]
    },
    {
     "name": "stdout",
     "output_type": "stream",
     "text": [
      "Epoch 14:  25%|██▌       | 50/200 [00:10<00:31,  4.72it/s, v_num=32, train_total_loss_step=498.0, train_energy_loss_step=4.760, train_forces_loss_step=494.0, val_total_loss_step=798.0, val_energy_loss_step=28.30, val_forces_loss_step=769.0, val_total_loss_epoch=823.0, val_energy_loss_epoch=34.20, val_forces_loss_epoch=788.0, train_total_loss_epoch=696.0, train_energy_loss_epoch=78.10, train_forces_loss_epoch=618.0]"
     ]
    },
    {
     "name": "stderr",
     "output_type": "stream",
     "text": [
      "     14         50         572.728          29.604         543.125           1.950           2.433           1.807           2.391\n"
     ]
    },
    {
     "name": "stdout",
     "output_type": "stream",
     "text": [
      "Epoch 14:  30%|███       | 60/200 [00:12<00:29,  4.73it/s, v_num=32, train_total_loss_step=630.0, train_energy_loss_step=48.80, train_forces_loss_step=581.0, val_total_loss_step=798.0, val_energy_loss_step=28.30, val_forces_loss_step=769.0, val_total_loss_epoch=823.0, val_energy_loss_epoch=34.20, val_forces_loss_epoch=788.0, train_total_loss_epoch=696.0, train_energy_loss_epoch=78.10, train_forces_loss_epoch=618.0]"
     ]
    },
    {
     "name": "stderr",
     "output_type": "stream",
     "text": [
      "     14         60         460.387          14.697         445.690           1.625           1.714           1.669           2.166\n"
     ]
    },
    {
     "name": "stdout",
     "output_type": "stream",
     "text": [
      "Epoch 14:  35%|███▌      | 70/200 [00:14<00:27,  4.73it/s, v_num=32, train_total_loss_step=675.0, train_energy_loss_step=184.0, train_forces_loss_step=491.0, val_total_loss_step=798.0, val_energy_loss_step=28.30, val_forces_loss_step=769.0, val_total_loss_epoch=823.0, val_energy_loss_epoch=34.20, val_forces_loss_epoch=788.0, train_total_loss_epoch=696.0, train_energy_loss_epoch=78.10, train_forces_loss_epoch=618.0]"
     ]
    },
    {
     "name": "stderr",
     "output_type": "stream",
     "text": [
      "     14         70         543.457          22.929         520.528           1.956           2.141           1.799           2.341\n"
     ]
    },
    {
     "name": "stdout",
     "output_type": "stream",
     "text": [
      "Epoch 14:  40%|████      | 80/200 [00:16<00:25,  4.73it/s, v_num=32, train_total_loss_step=643.0, train_energy_loss_step=13.10, train_forces_loss_step=630.0, val_total_loss_step=798.0, val_energy_loss_step=28.30, val_forces_loss_step=769.0, val_total_loss_epoch=823.0, val_energy_loss_epoch=34.20, val_forces_loss_epoch=788.0, train_total_loss_epoch=696.0, train_energy_loss_epoch=78.10, train_forces_loss_epoch=618.0]"
     ]
    },
    {
     "name": "stderr",
     "output_type": "stream",
     "text": [
      "     14         80         536.913          30.495         506.418           2.319           2.470           1.664           2.309\n"
     ]
    },
    {
     "name": "stdout",
     "output_type": "stream",
     "text": [
      "Epoch 14:  45%|████▌     | 90/200 [00:18<00:23,  4.74it/s, v_num=32, train_total_loss_step=487.0, train_energy_loss_step=44.00, train_forces_loss_step=443.0, val_total_loss_step=798.0, val_energy_loss_step=28.30, val_forces_loss_step=769.0, val_total_loss_epoch=823.0, val_energy_loss_epoch=34.20, val_forces_loss_epoch=788.0, train_total_loss_epoch=696.0, train_energy_loss_epoch=78.10, train_forces_loss_epoch=618.0]"
     ]
    },
    {
     "name": "stderr",
     "output_type": "stream",
     "text": [
      "     14         90         788.063          54.600         733.464           2.987           3.305           2.087           2.779\n"
     ]
    },
    {
     "name": "stdout",
     "output_type": "stream",
     "text": [
      "Epoch 14:  50%|█████     | 100/200 [00:21<00:21,  4.74it/s, v_num=32, train_total_loss_step=776.0, train_energy_loss_step=142.0, train_forces_loss_step=634.0, val_total_loss_step=798.0, val_energy_loss_step=28.30, val_forces_loss_step=769.0, val_total_loss_epoch=823.0, val_energy_loss_epoch=34.20, val_forces_loss_epoch=788.0, train_total_loss_epoch=696.0, train_energy_loss_epoch=78.10, train_forces_loss_epoch=618.0]  "
     ]
    },
    {
     "name": "stderr",
     "output_type": "stream",
     "text": [
      "     14        100         691.230         144.425         546.806           5.331           5.374           1.808           2.399\n"
     ]
    },
    {
     "name": "stdout",
     "output_type": "stream",
     "text": [
      "Epoch 14:  55%|█████▌    | 110/200 [00:23<00:19,  4.74it/s, v_num=32, train_total_loss_step=827.0, train_energy_loss_step=332.0, train_forces_loss_step=495.0, val_total_loss_step=798.0, val_energy_loss_step=28.30, val_forces_loss_step=769.0, val_total_loss_epoch=823.0, val_energy_loss_epoch=34.20, val_forces_loss_epoch=788.0, train_total_loss_epoch=696.0, train_energy_loss_epoch=78.10, train_forces_loss_epoch=618.0]    "
     ]
    },
    {
     "name": "stderr",
     "output_type": "stream",
     "text": [
      "     14        110         864.511          25.145         839.366           1.650           2.243           2.241           2.972\n"
     ]
    },
    {
     "name": "stdout",
     "output_type": "stream",
     "text": [
      "Epoch 14:  60%|██████    | 120/200 [00:25<00:16,  4.74it/s, v_num=32, train_total_loss_step=919.0, train_energy_loss_step=166.0, train_forces_loss_step=752.0, val_total_loss_step=798.0, val_energy_loss_step=28.30, val_forces_loss_step=769.0, val_total_loss_epoch=823.0, val_energy_loss_epoch=34.20, val_forces_loss_epoch=788.0, train_total_loss_epoch=696.0, train_energy_loss_epoch=78.10, train_forces_loss_epoch=618.0]"
     ]
    },
    {
     "name": "stderr",
     "output_type": "stream",
     "text": [
      "     14        120         686.393           4.597         681.796           0.706           0.959           2.013           2.679\n"
     ]
    },
    {
     "name": "stdout",
     "output_type": "stream",
     "text": [
      "Epoch 14:  65%|██████▌   | 130/200 [00:27<00:14,  4.74it/s, v_num=32, train_total_loss_step=661.0, train_energy_loss_step=143.0, train_forces_loss_step=517.0, val_total_loss_step=798.0, val_energy_loss_step=28.30, val_forces_loss_step=769.0, val_total_loss_epoch=823.0, val_energy_loss_epoch=34.20, val_forces_loss_epoch=788.0, train_total_loss_epoch=696.0, train_energy_loss_epoch=78.10, train_forces_loss_epoch=618.0]"
     ]
    },
    {
     "name": "stderr",
     "output_type": "stream",
     "text": [
      "     14        130         475.980          32.771         443.209           2.300           2.560           1.616           2.160\n"
     ]
    },
    {
     "name": "stdout",
     "output_type": "stream",
     "text": [
      "Epoch 14:  70%|███████   | 140/200 [00:29<00:12,  4.75it/s, v_num=32, train_total_loss_step=456.0, train_energy_loss_step=116.0, train_forces_loss_step=340.0, val_total_loss_step=798.0, val_energy_loss_step=28.30, val_forces_loss_step=769.0, val_total_loss_epoch=823.0, val_energy_loss_epoch=34.20, val_forces_loss_epoch=788.0, train_total_loss_epoch=696.0, train_energy_loss_epoch=78.10, train_forces_loss_epoch=618.0]"
     ]
    },
    {
     "name": "stderr",
     "output_type": "stream",
     "text": [
      "     14        140         548.731           2.866         545.865           0.669           0.757           1.692           2.397\n"
     ]
    },
    {
     "name": "stdout",
     "output_type": "stream",
     "text": [
      "Epoch 14:  75%|███████▌  | 150/200 [00:31<00:10,  4.75it/s, v_num=32, train_total_loss_step=633.0, train_energy_loss_step=3.250, train_forces_loss_step=630.0, val_total_loss_step=798.0, val_energy_loss_step=28.30, val_forces_loss_step=769.0, val_total_loss_epoch=823.0, val_energy_loss_epoch=34.20, val_forces_loss_epoch=788.0, train_total_loss_epoch=696.0, train_energy_loss_epoch=78.10, train_forces_loss_epoch=618.0]"
     ]
    },
    {
     "name": "stderr",
     "output_type": "stream",
     "text": [
      "     14        150         769.135         105.799         663.336           4.512           4.600           1.949           2.642\n"
     ]
    },
    {
     "name": "stdout",
     "output_type": "stream",
     "text": [
      "Epoch 14:  80%|████████  | 160/200 [00:33<00:08,  4.75it/s, v_num=32, train_total_loss_step=887.0, train_energy_loss_step=20.70, train_forces_loss_step=867.0, val_total_loss_step=798.0, val_energy_loss_step=28.30, val_forces_loss_step=769.0, val_total_loss_epoch=823.0, val_energy_loss_epoch=34.20, val_forces_loss_epoch=788.0, train_total_loss_epoch=696.0, train_energy_loss_epoch=78.10, train_forces_loss_epoch=618.0]"
     ]
    },
    {
     "name": "stderr",
     "output_type": "stream",
     "text": [
      "     14        160         648.687          27.216         621.471           1.919           2.333           1.859           2.558\n"
     ]
    },
    {
     "name": "stdout",
     "output_type": "stream",
     "text": [
      "Epoch 14:  85%|████████▌ | 170/200 [00:35<00:06,  4.75it/s, v_num=32, train_total_loss_step=566.0, train_energy_loss_step=11.70, train_forces_loss_step=554.0, val_total_loss_step=798.0, val_energy_loss_step=28.30, val_forces_loss_step=769.0, val_total_loss_epoch=823.0, val_energy_loss_epoch=34.20, val_forces_loss_epoch=788.0, train_total_loss_epoch=696.0, train_energy_loss_epoch=78.10, train_forces_loss_epoch=618.0]"
     ]
    },
    {
     "name": "stderr",
     "output_type": "stream",
     "text": [
      "     14        170         620.159           8.119         612.040           1.112           1.274           1.886           2.538\n"
     ]
    },
    {
     "name": "stdout",
     "output_type": "stream",
     "text": [
      "Epoch 14:  90%|█████████ | 180/200 [00:37<00:04,  4.75it/s, v_num=32, train_total_loss_step=425.0, train_energy_loss_step=34.80, train_forces_loss_step=390.0, val_total_loss_step=798.0, val_energy_loss_step=28.30, val_forces_loss_step=769.0, val_total_loss_epoch=823.0, val_energy_loss_epoch=34.20, val_forces_loss_epoch=788.0, train_total_loss_epoch=696.0, train_energy_loss_epoch=78.10, train_forces_loss_epoch=618.0]"
     ]
    },
    {
     "name": "stderr",
     "output_type": "stream",
     "text": [
      "     14        180         662.782          11.494         651.288           1.400           1.516           1.879           2.618\n"
     ]
    },
    {
     "name": "stdout",
     "output_type": "stream",
     "text": [
      "Epoch 14:  95%|█████████▌| 190/200 [00:39<00:02,  4.75it/s, v_num=32, train_total_loss_step=547.0, train_energy_loss_step=9.430, train_forces_loss_step=538.0, val_total_loss_step=798.0, val_energy_loss_step=28.30, val_forces_loss_step=769.0, val_total_loss_epoch=823.0, val_energy_loss_epoch=34.20, val_forces_loss_epoch=788.0, train_total_loss_epoch=696.0, train_energy_loss_epoch=78.10, train_forces_loss_epoch=618.0]"
     ]
    },
    {
     "name": "stderr",
     "output_type": "stream",
     "text": [
      "     14        190         483.352          47.193         436.159           2.975           3.072           1.622           2.143\n"
     ]
    },
    {
     "name": "stdout",
     "output_type": "stream",
     "text": [
      "Epoch 14: 100%|██████████| 200/200 [00:42<00:00,  4.75it/s, v_num=32, train_total_loss_step=643.0, train_energy_loss_step=287.0, train_forces_loss_step=356.0, val_total_loss_step=798.0, val_energy_loss_step=28.30, val_forces_loss_step=769.0, val_total_loss_epoch=823.0, val_energy_loss_epoch=34.20, val_forces_loss_epoch=788.0, train_total_loss_epoch=696.0, train_energy_loss_epoch=78.10, train_forces_loss_epoch=618.0]"
     ]
    },
    {
     "name": "stderr",
     "output_type": "stream",
     "text": [
      "\n",
      "\n",
      "Validating\n",
      "# epoch      batch      total_loss     energy_loss     forces_loss      energy_mae     energy_rmse      forces_mae     forces_rmse\n"
     ]
    },
    {
     "name": "stdout",
     "output_type": "stream",
     "text": []
    },
    {
     "name": "stderr",
     "output_type": "stream",
     "text": [
      "     14          0         932.774         314.644         618.130           7.883           7.933           1.908           2.551\n"
     ]
    },
    {
     "name": "stdout",
     "output_type": "stream",
     "text": []
    },
    {
     "name": "stderr",
     "output_type": "stream",
     "text": [
      "     14         10         800.371         272.075         528.296           7.340           7.377           1.724           2.358\n"
     ]
    },
    {
     "name": "stdout",
     "output_type": "stream",
     "text": []
    },
    {
     "name": "stderr",
     "output_type": "stream",
     "text": [
      "     14         20         817.952         304.800         513.151           7.770           7.808           1.758           2.324\n"
     ]
    },
    {
     "name": "stdout",
     "output_type": "stream",
     "text": []
    },
    {
     "name": "stderr",
     "output_type": "stream",
     "text": [
      "     14         30         976.140         276.373         699.767           7.383           7.435           2.015           2.714\n"
     ]
    },
    {
     "name": "stdout",
     "output_type": "stream",
     "text": []
    },
    {
     "name": "stderr",
     "output_type": "stream",
     "text": [
      "     14         40         964.140         270.550         693.590           7.238           7.356           2.030           2.702\n"
     ]
    },
    {
     "name": "stdout",
     "output_type": "stream",
     "text": []
    },
    {
     "name": "stderr",
     "output_type": "stream",
     "text": [
      "     14         50         896.210         231.490         664.720           6.738           6.804           1.942           2.645\n"
     ]
    },
    {
     "name": "stdout",
     "output_type": "stream",
     "text": []
    },
    {
     "name": "stderr",
     "output_type": "stream",
     "text": [
      "     14         60         972.084         261.151         710.934           7.113           7.227           2.014           2.736\n"
     ]
    },
    {
     "name": "stdout",
     "output_type": "stream",
     "text": []
    },
    {
     "name": "stderr",
     "output_type": "stream",
     "text": [
      "     14         70         858.283         247.871         610.412           7.000           7.041           1.913           2.535\n"
     ]
    },
    {
     "name": "stdout",
     "output_type": "stream",
     "text": []
    },
    {
     "name": "stderr",
     "output_type": "stream",
     "text": [
      "     14         80         852.048         277.686         574.362           7.301           7.452           1.829           2.459\n"
     ]
    },
    {
     "name": "stdout",
     "output_type": "stream",
     "text": []
    },
    {
     "name": "stderr",
     "output_type": "stream",
     "text": [
      "     14         90         857.971         300.012         557.958           7.695           7.746           1.800           2.423\n"
     ]
    },
    {
     "name": "stdout",
     "output_type": "stream",
     "text": []
    },
    {
     "name": "stderr",
     "output_type": "stream",
     "text": [
      "     14        100        1152.502         267.029         885.474           7.219           7.308           1.986           3.053\n"
     ]
    },
    {
     "name": "stdout",
     "output_type": "stream",
     "text": []
    },
    {
     "name": "stderr",
     "output_type": "stream",
     "text": [
      "     14        110         776.219         230.616         545.603           6.742           6.791           1.772           2.396\n"
     ]
    },
    {
     "name": "stdout",
     "output_type": "stream",
     "text": []
    },
    {
     "name": "stderr",
     "output_type": "stream",
     "text": [
      "     14        120         933.425         314.999         618.426           7.848           7.937           1.967           2.551\n"
     ]
    },
    {
     "name": "stdout",
     "output_type": "stream",
     "text": []
    },
    {
     "name": "stderr",
     "output_type": "stream",
     "text": [
      "\n",
      "\n",
      "Epoch summary:\n",
      "Validation  # epoch      total_loss     energy_loss     forces_loss      energy_mae     energy_rmse      forces_mae     forces_rmse\n",
      "                 14         905.009         253.978         651.031           7.039           7.127           1.902           2.618\n"
     ]
    },
    {
     "name": "stdout",
     "output_type": "stream",
     "text": [
      "Epoch 14: 100%|██████████| 200/200 [01:03<00:00,  3.16it/s, v_num=32, train_total_loss_step=643.0, train_energy_loss_step=287.0, train_forces_loss_step=356.0, val_total_loss_step=904.0, val_energy_loss_step=248.0, val_forces_loss_step=656.0, val_total_loss_epoch=905.0, val_energy_loss_epoch=254.0, val_forces_loss_epoch=651.0, train_total_loss_epoch=650.0, train_energy_loss_epoch=66.20, train_forces_loss_epoch=583.0]"
     ]
    },
    {
     "name": "stderr",
     "output_type": "stream",
     "text": [
      "Train       # epoch      total_loss     energy_loss     forces_loss      energy_mae     energy_rmse      forces_mae     forces_rmse\n",
      "                 14         649.561          66.244         583.317           2.918           3.640           1.815           2.478\n"
     ]
    },
    {
     "name": "stdout",
     "output_type": "stream",
     "text": [
      "Epoch 15:   0%|          | 0/200 [00:00<?, ?it/s, v_num=32, train_total_loss_step=643.0, train_energy_loss_step=287.0, train_forces_loss_step=356.0, val_total_loss_step=904.0, val_energy_loss_step=248.0, val_forces_loss_step=656.0, val_total_loss_epoch=905.0, val_energy_loss_epoch=254.0, val_forces_loss_epoch=651.0, train_total_loss_epoch=650.0, train_energy_loss_epoch=66.20, train_forces_loss_epoch=583.0]          "
     ]
    },
    {
     "name": "stderr",
     "output_type": "stream",
     "text": [
      "\n",
      "\n",
      "Training\n",
      "# epoch      batch      total_loss     energy_loss     forces_loss      energy_mae     energy_rmse      forces_mae     forces_rmse\n",
      "     15          0         782.901         314.043         468.858           7.825           7.925           1.735           2.222\n"
     ]
    },
    {
     "name": "stdout",
     "output_type": "stream",
     "text": [
      "Epoch 15:   5%|▌         | 10/200 [00:02<00:42,  4.48it/s, v_num=32, train_total_loss_step=423.0, train_energy_loss_step=16.00, train_forces_loss_step=407.0, val_total_loss_step=904.0, val_energy_loss_step=248.0, val_forces_loss_step=656.0, val_total_loss_epoch=905.0, val_energy_loss_epoch=254.0, val_forces_loss_epoch=651.0, train_total_loss_epoch=650.0, train_energy_loss_epoch=66.20, train_forces_loss_epoch=583.0]"
     ]
    },
    {
     "name": "stderr",
     "output_type": "stream",
     "text": [
      "     15         10         457.028          70.673         386.355           3.719           3.760           1.479           2.017\n"
     ]
    },
    {
     "name": "stdout",
     "output_type": "stream",
     "text": [
      "Epoch 15:  10%|█         | 20/200 [00:04<00:39,  4.60it/s, v_num=32, train_total_loss_step=352.0, train_energy_loss_step=10.10, train_forces_loss_step=342.0, val_total_loss_step=904.0, val_energy_loss_step=248.0, val_forces_loss_step=656.0, val_total_loss_epoch=905.0, val_energy_loss_epoch=254.0, val_forces_loss_epoch=651.0, train_total_loss_epoch=650.0, train_energy_loss_epoch=66.20, train_forces_loss_epoch=583.0]"
     ]
    },
    {
     "name": "stderr",
     "output_type": "stream",
     "text": [
      "     15         20         549.390          55.269         494.121           3.256           3.325           1.728           2.281\n"
     ]
    },
    {
     "name": "stdout",
     "output_type": "stream",
     "text": [
      "Epoch 15:  15%|█▌        | 30/200 [00:06<00:36,  4.65it/s, v_num=32, train_total_loss_step=609.0, train_energy_loss_step=10.30, train_forces_loss_step=599.0, val_total_loss_step=904.0, val_energy_loss_step=248.0, val_forces_loss_step=656.0, val_total_loss_epoch=905.0, val_energy_loss_epoch=254.0, val_forces_loss_epoch=651.0, train_total_loss_epoch=650.0, train_energy_loss_epoch=66.20, train_forces_loss_epoch=583.0]"
     ]
    },
    {
     "name": "stderr",
     "output_type": "stream",
     "text": [
      "     15         30        1103.362         435.441         667.921           9.050           9.332           1.928           2.652\n"
     ]
    },
    {
     "name": "stdout",
     "output_type": "stream",
     "text": [
      "Epoch 15:  20%|██        | 40/200 [00:08<00:34,  4.67it/s, v_num=32, train_total_loss_step=566.0, train_energy_loss_step=14.70, train_forces_loss_step=552.0, val_total_loss_step=904.0, val_energy_loss_step=248.0, val_forces_loss_step=656.0, val_total_loss_epoch=905.0, val_energy_loss_epoch=254.0, val_forces_loss_epoch=651.0, train_total_loss_epoch=650.0, train_energy_loss_epoch=66.20, train_forces_loss_epoch=583.0] "
     ]
    },
    {
     "name": "stderr",
     "output_type": "stream",
     "text": [
      "     15         40        1415.644          26.684        1388.960           2.088           2.310           2.648           3.824\n"
     ]
    },
    {
     "name": "stdout",
     "output_type": "stream",
     "text": [
      "Epoch 15:  25%|██▌       | 50/200 [00:10<00:32,  4.68it/s, v_num=32, train_total_loss_step=552.0, train_energy_loss_step=16.70, train_forces_loss_step=536.0, val_total_loss_step=904.0, val_energy_loss_step=248.0, val_forces_loss_step=656.0, val_total_loss_epoch=905.0, val_energy_loss_epoch=254.0, val_forces_loss_epoch=651.0, train_total_loss_epoch=650.0, train_energy_loss_epoch=66.20, train_forces_loss_epoch=583.0]    "
     ]
    },
    {
     "name": "stderr",
     "output_type": "stream",
     "text": [
      "     15         50         705.050          74.201         630.849           3.475           3.852           1.889           2.577\n"
     ]
    },
    {
     "name": "stdout",
     "output_type": "stream",
     "text": [
      "Epoch 15:  30%|███       | 60/200 [00:12<00:29,  4.68it/s, v_num=32, train_total_loss_step=596.0, train_energy_loss_step=31.20, train_forces_loss_step=564.0, val_total_loss_step=904.0, val_energy_loss_step=248.0, val_forces_loss_step=656.0, val_total_loss_epoch=905.0, val_energy_loss_epoch=254.0, val_forces_loss_epoch=651.0, train_total_loss_epoch=650.0, train_energy_loss_epoch=66.20, train_forces_loss_epoch=583.0]"
     ]
    },
    {
     "name": "stderr",
     "output_type": "stream",
     "text": [
      "     15         60         543.003          53.446         489.557           2.844           3.269           1.652           2.270\n"
     ]
    },
    {
     "name": "stdout",
     "output_type": "stream",
     "text": [
      "Epoch 15:  35%|███▌      | 70/200 [00:15<00:28,  4.61it/s, v_num=32, train_total_loss_step=569.0, train_energy_loss_step=66.90, train_forces_loss_step=502.0, val_total_loss_step=904.0, val_energy_loss_step=248.0, val_forces_loss_step=656.0, val_total_loss_epoch=905.0, val_energy_loss_epoch=254.0, val_forces_loss_epoch=651.0, train_total_loss_epoch=650.0, train_energy_loss_epoch=66.20, train_forces_loss_epoch=583.0]"
     ]
    },
    {
     "name": "stderr",
     "output_type": "stream",
     "text": [
      "     15         70         439.672          15.759         423.913           1.556           1.775           1.568           2.112\n"
     ]
    },
    {
     "name": "stdout",
     "output_type": "stream",
     "text": [
      "Epoch 15:  40%|████      | 80/200 [00:17<00:26,  4.60it/s, v_num=32, train_total_loss_step=503.0, train_energy_loss_step=7.690, train_forces_loss_step=496.0, val_total_loss_step=904.0, val_energy_loss_step=248.0, val_forces_loss_step=656.0, val_total_loss_epoch=905.0, val_energy_loss_epoch=254.0, val_forces_loss_epoch=651.0, train_total_loss_epoch=650.0, train_energy_loss_epoch=66.20, train_forces_loss_epoch=583.0]"
     ]
    },
    {
     "name": "stderr",
     "output_type": "stream",
     "text": [
      "     15         80         544.790           4.203         540.587           0.762           0.917           1.829           2.385\n"
     ]
    },
    {
     "name": "stdout",
     "output_type": "stream",
     "text": [
      "Epoch 15:  45%|████▌     | 90/200 [00:19<00:24,  4.57it/s, v_num=32, train_total_loss_step=536.0, train_energy_loss_step=39.30, train_forces_loss_step=496.0, val_total_loss_step=904.0, val_energy_loss_step=248.0, val_forces_loss_step=656.0, val_total_loss_epoch=905.0, val_energy_loss_epoch=254.0, val_forces_loss_epoch=651.0, train_total_loss_epoch=650.0, train_energy_loss_epoch=66.20, train_forces_loss_epoch=583.0]"
     ]
    },
    {
     "name": "stderr",
     "output_type": "stream",
     "text": [
      "     15         90         416.481          11.726         404.755           1.356           1.531           1.537           2.064\n"
     ]
    },
    {
     "name": "stdout",
     "output_type": "stream",
     "text": [
      "Epoch 15:  50%|█████     | 100/200 [00:22<00:22,  4.54it/s, v_num=32, train_total_loss_step=428.0, train_energy_loss_step=8.460, train_forces_loss_step=419.0, val_total_loss_step=904.0, val_energy_loss_step=248.0, val_forces_loss_step=656.0, val_total_loss_epoch=905.0, val_energy_loss_epoch=254.0, val_forces_loss_epoch=651.0, train_total_loss_epoch=650.0, train_energy_loss_epoch=66.20, train_forces_loss_epoch=583.0]"
     ]
    },
    {
     "name": "stderr",
     "output_type": "stream",
     "text": [
      "     15        100         410.007           8.166         401.841           0.975           1.278           1.499           2.057\n"
     ]
    },
    {
     "name": "stdout",
     "output_type": "stream",
     "text": [
      "Epoch 15:  55%|█████▌    | 110/200 [00:24<00:19,  4.52it/s, v_num=32, train_total_loss_step=421.0, train_energy_loss_step=74.80, train_forces_loss_step=346.0, val_total_loss_step=904.0, val_energy_loss_step=248.0, val_forces_loss_step=656.0, val_total_loss_epoch=905.0, val_energy_loss_epoch=254.0, val_forces_loss_epoch=651.0, train_total_loss_epoch=650.0, train_energy_loss_epoch=66.20, train_forces_loss_epoch=583.0]"
     ]
    },
    {
     "name": "stderr",
     "output_type": "stream",
     "text": [
      "     15        110         478.143          19.547         458.596           1.900           1.977           1.553           2.197\n"
     ]
    },
    {
     "name": "stdout",
     "output_type": "stream",
     "text": [
      "Epoch 15:  60%|██████    | 120/200 [00:26<00:17,  4.50it/s, v_num=32, train_total_loss_step=676.0, train_energy_loss_step=53.40, train_forces_loss_step=623.0, val_total_loss_step=904.0, val_energy_loss_step=248.0, val_forces_loss_step=656.0, val_total_loss_epoch=905.0, val_energy_loss_epoch=254.0, val_forces_loss_epoch=651.0, train_total_loss_epoch=650.0, train_energy_loss_epoch=66.20, train_forces_loss_epoch=583.0]"
     ]
    },
    {
     "name": "stderr",
     "output_type": "stream",
     "text": [
      "     15        120         961.246         322.274         638.971           8.006           8.028           1.893           2.593\n"
     ]
    },
    {
     "name": "stdout",
     "output_type": "stream",
     "text": [
      "Epoch 15:  65%|██████▌   | 130/200 [00:29<00:15,  4.48it/s, v_num=32, train_total_loss_step=505.0, train_energy_loss_step=2.220, train_forces_loss_step=503.0, val_total_loss_step=904.0, val_energy_loss_step=248.0, val_forces_loss_step=656.0, val_total_loss_epoch=905.0, val_energy_loss_epoch=254.0, val_forces_loss_epoch=651.0, train_total_loss_epoch=650.0, train_energy_loss_epoch=66.20, train_forces_loss_epoch=583.0]"
     ]
    },
    {
     "name": "stderr",
     "output_type": "stream",
     "text": [
      "     15        130         544.519          56.109         488.410           3.312           3.350           1.724           2.267\n"
     ]
    },
    {
     "name": "stdout",
     "output_type": "stream",
     "text": [
      "Epoch 15:  70%|███████   | 140/200 [00:31<00:13,  4.47it/s, v_num=32, train_total_loss_step=442.0, train_energy_loss_step=66.30, train_forces_loss_step=376.0, val_total_loss_step=904.0, val_energy_loss_step=248.0, val_forces_loss_step=656.0, val_total_loss_epoch=905.0, val_energy_loss_epoch=254.0, val_forces_loss_epoch=651.0, train_total_loss_epoch=650.0, train_energy_loss_epoch=66.20, train_forces_loss_epoch=583.0]"
     ]
    },
    {
     "name": "stderr",
     "output_type": "stream",
     "text": [
      "     15        140         915.488         157.913         757.575           5.594           5.620           2.150           2.824\n"
     ]
    },
    {
     "name": "stdout",
     "output_type": "stream",
     "text": [
      "Epoch 15:  75%|███████▌  | 150/200 [00:33<00:11,  4.46it/s, v_num=32, train_total_loss_step=897.0, train_energy_loss_step=298.0, train_forces_loss_step=599.0, val_total_loss_step=904.0, val_energy_loss_step=248.0, val_forces_loss_step=656.0, val_total_loss_epoch=905.0, val_energy_loss_epoch=254.0, val_forces_loss_epoch=651.0, train_total_loss_epoch=650.0, train_energy_loss_epoch=66.20, train_forces_loss_epoch=583.0]   "
     ]
    },
    {
     "name": "stderr",
     "output_type": "stream",
     "text": [
      "     15        150         536.015           3.543         532.472           0.688           0.842           1.641           2.367\n"
     ]
    },
    {
     "name": "stdout",
     "output_type": "stream",
     "text": [
      "Epoch 15:  80%|████████  | 160/200 [00:35<00:08,  4.45it/s, v_num=32, train_total_loss_step=726.0, train_energy_loss_step=24.90, train_forces_loss_step=701.0, val_total_loss_step=904.0, val_energy_loss_step=248.0, val_forces_loss_step=656.0, val_total_loss_epoch=905.0, val_energy_loss_epoch=254.0, val_forces_loss_epoch=651.0, train_total_loss_epoch=650.0, train_energy_loss_epoch=66.20, train_forces_loss_epoch=583.0]"
     ]
    },
    {
     "name": "stderr",
     "output_type": "stream",
     "text": [
      "     15        160         679.317         253.425         425.892           7.081           7.119           1.520           2.117\n"
     ]
    },
    {
     "name": "stdout",
     "output_type": "stream",
     "text": [
      "Epoch 15:  85%|████████▌ | 170/200 [00:38<00:06,  4.45it/s, v_num=32, train_total_loss_step=634.0, train_energy_loss_step=33.70, train_forces_loss_step=601.0, val_total_loss_step=904.0, val_energy_loss_step=248.0, val_forces_loss_step=656.0, val_total_loss_epoch=905.0, val_energy_loss_epoch=254.0, val_forces_loss_epoch=651.0, train_total_loss_epoch=650.0, train_energy_loss_epoch=66.20, train_forces_loss_epoch=583.0]"
     ]
    },
    {
     "name": "stderr",
     "output_type": "stream",
     "text": [
      "     15        170         489.990         106.188         383.803           4.512           4.608           1.443           2.010\n"
     ]
    },
    {
     "name": "stdout",
     "output_type": "stream",
     "text": [
      "Epoch 15:  90%|█████████ | 180/200 [00:40<00:04,  4.44it/s, v_num=32, train_total_loss_step=464.0, train_energy_loss_step=6.050, train_forces_loss_step=458.0, val_total_loss_step=904.0, val_energy_loss_step=248.0, val_forces_loss_step=656.0, val_total_loss_epoch=905.0, val_energy_loss_epoch=254.0, val_forces_loss_epoch=651.0, train_total_loss_epoch=650.0, train_energy_loss_epoch=66.20, train_forces_loss_epoch=583.0]"
     ]
    },
    {
     "name": "stderr",
     "output_type": "stream",
     "text": [
      "     15        180         504.628          34.214         470.414           2.519           2.616           1.601           2.225\n"
     ]
    },
    {
     "name": "stdout",
     "output_type": "stream",
     "text": [
      "Epoch 15:  95%|█████████▌| 190/200 [00:42<00:02,  4.44it/s, v_num=32, train_total_loss_step=659.0, train_energy_loss_step=107.0, train_forces_loss_step=551.0, val_total_loss_step=904.0, val_energy_loss_step=248.0, val_forces_loss_step=656.0, val_total_loss_epoch=905.0, val_energy_loss_epoch=254.0, val_forces_loss_epoch=651.0, train_total_loss_epoch=650.0, train_energy_loss_epoch=66.20, train_forces_loss_epoch=583.0]"
     ]
    },
    {
     "name": "stderr",
     "output_type": "stream",
     "text": [
      "     15        190         627.691          17.719         609.972           1.700           1.882           1.965           2.534\n"
     ]
    },
    {
     "name": "stdout",
     "output_type": "stream",
     "text": [
      "Epoch 15: 100%|██████████| 200/200 [00:45<00:00,  4.43it/s, v_num=32, train_total_loss_step=553.0, train_energy_loss_step=35.60, train_forces_loss_step=518.0, val_total_loss_step=904.0, val_energy_loss_step=248.0, val_forces_loss_step=656.0, val_total_loss_epoch=905.0, val_energy_loss_epoch=254.0, val_forces_loss_epoch=651.0, train_total_loss_epoch=650.0, train_energy_loss_epoch=66.20, train_forces_loss_epoch=583.0]"
     ]
    },
    {
     "name": "stderr",
     "output_type": "stream",
     "text": [
      "\n",
      "\n",
      "Validating\n",
      "# epoch      batch      total_loss     energy_loss     forces_loss      energy_mae     energy_rmse      forces_mae     forces_rmse\n"
     ]
    },
    {
     "name": "stdout",
     "output_type": "stream",
     "text": []
    },
    {
     "name": "stderr",
     "output_type": "stream",
     "text": [
      "     15          0         629.579           7.681         621.898           0.879           1.239           1.892           2.559\n"
     ]
    },
    {
     "name": "stdout",
     "output_type": "stream",
     "text": []
    },
    {
     "name": "stderr",
     "output_type": "stream",
     "text": [
      "     15         10         499.587          12.650         486.937           1.441           1.591           1.715           2.264\n"
     ]
    },
    {
     "name": "stdout",
     "output_type": "stream",
     "text": []
    },
    {
     "name": "stderr",
     "output_type": "stream",
     "text": [
      "     15         20         504.878           5.365         499.513           0.906           1.036           1.754           2.293\n"
     ]
    },
    {
     "name": "stdout",
     "output_type": "stream",
     "text": []
    },
    {
     "name": "stderr",
     "output_type": "stream",
     "text": [
      "     15         30         545.279          13.267         532.012           1.473           1.629           1.783           2.366\n"
     ]
    },
    {
     "name": "stdout",
     "output_type": "stream",
     "text": []
    },
    {
     "name": "stderr",
     "output_type": "stream",
     "text": [
      "     15         40         611.964          24.230         587.734           1.867           2.201           1.883           2.487\n"
     ]
    },
    {
     "name": "stdout",
     "output_type": "stream",
     "text": []
    },
    {
     "name": "stderr",
     "output_type": "stream",
     "text": [
      "     15         50         666.709          23.600         643.109           1.898           2.173           1.932           2.602\n"
     ]
    },
    {
     "name": "stdout",
     "output_type": "stream",
     "text": []
    },
    {
     "name": "stderr",
     "output_type": "stream",
     "text": [
      "     15         60         617.712          16.082         601.631           1.461           1.793           1.850           2.517\n"
     ]
    },
    {
     "name": "stdout",
     "output_type": "stream",
     "text": []
    },
    {
     "name": "stderr",
     "output_type": "stream",
     "text": [
      "     15         70         504.892          17.756         487.135           1.758           1.884           1.771           2.264\n"
     ]
    },
    {
     "name": "stdout",
     "output_type": "stream",
     "text": []
    },
    {
     "name": "stderr",
     "output_type": "stream",
     "text": [
      "     15         80         581.451          20.972         560.479           1.797           2.048           1.827           2.429\n"
     ]
    },
    {
     "name": "stdout",
     "output_type": "stream",
     "text": []
    },
    {
     "name": "stderr",
     "output_type": "stream",
     "text": [
      "     15         90         462.783          11.827         450.956           1.281           1.538           1.673           2.179\n"
     ]
    },
    {
     "name": "stdout",
     "output_type": "stream",
     "text": []
    },
    {
     "name": "stderr",
     "output_type": "stream",
     "text": [
      "     15        100         829.329          14.248         815.081           1.469           1.688           1.929           2.929\n"
     ]
    },
    {
     "name": "stdout",
     "output_type": "stream",
     "text": []
    },
    {
     "name": "stderr",
     "output_type": "stream",
     "text": [
      "     15        110         601.672          21.171         580.501           2.027           2.058           1.812           2.472\n"
     ]
    },
    {
     "name": "stdout",
     "output_type": "stream",
     "text": []
    },
    {
     "name": "stderr",
     "output_type": "stream",
     "text": [
      "     15        120         527.134          12.278         514.856           1.262           1.567           1.811           2.328\n"
     ]
    },
    {
     "name": "stdout",
     "output_type": "stream",
     "text": []
    },
    {
     "name": "stderr",
     "output_type": "stream",
     "text": [
      "\n",
      "\n",
      "Epoch summary:\n",
      "Validation  # epoch      total_loss     energy_loss     forces_loss      energy_mae     energy_rmse      forces_mae     forces_rmse\n",
      "                 15         610.903          19.559         591.344           1.723           1.978           1.844           2.495\n"
     ]
    },
    {
     "name": "stdout",
     "output_type": "stream",
     "text": [
      "Epoch 15: 100%|██████████| 200/200 [01:08<00:00,  2.93it/s, v_num=32, train_total_loss_step=553.0, train_energy_loss_step=35.60, train_forces_loss_step=518.0, val_total_loss_step=589.0, val_energy_loss_step=21.80, val_forces_loss_step=567.0, val_total_loss_epoch=611.0, val_energy_loss_epoch=19.60, val_forces_loss_epoch=591.0, train_total_loss_epoch=610.0, train_energy_loss_epoch=67.50, train_forces_loss_epoch=543.0]"
     ]
    },
    {
     "name": "stderr",
     "output_type": "stream",
     "text": [
      "Train       # epoch      total_loss     energy_loss     forces_loss      energy_mae     energy_rmse      forces_mae     forces_rmse\n",
      "                 15         610.150          67.497         542.653           2.975           3.674           1.750           2.390\n"
     ]
    },
    {
     "name": "stdout",
     "output_type": "stream",
     "text": [
      "Epoch 16:   0%|          | 0/200 [00:00<?, ?it/s, v_num=32, train_total_loss_step=553.0, train_energy_loss_step=35.60, train_forces_loss_step=518.0, val_total_loss_step=589.0, val_energy_loss_step=21.80, val_forces_loss_step=567.0, val_total_loss_epoch=611.0, val_energy_loss_epoch=19.60, val_forces_loss_epoch=591.0, train_total_loss_epoch=610.0, train_energy_loss_epoch=67.50, train_forces_loss_epoch=543.0]          "
     ]
    },
    {
     "name": "stderr",
     "output_type": "stream",
     "text": [
      "\n",
      "\n",
      "Training\n",
      "# epoch      batch      total_loss     energy_loss     forces_loss      energy_mae     energy_rmse      forces_mae     forces_rmse\n",
      "     16          0         557.467          18.188         539.280           1.750           1.907           1.785           2.383\n"
     ]
    },
    {
     "name": "stdout",
     "output_type": "stream",
     "text": [
      "Epoch 16:   5%|▌         | 10/200 [00:02<00:46,  4.11it/s, v_num=32, train_total_loss_step=461.0, train_energy_loss_step=13.90, train_forces_loss_step=447.0, val_total_loss_step=589.0, val_energy_loss_step=21.80, val_forces_loss_step=567.0, val_total_loss_epoch=611.0, val_energy_loss_epoch=19.60, val_forces_loss_epoch=591.0, train_total_loss_epoch=610.0, train_energy_loss_epoch=67.50, train_forces_loss_epoch=543.0]"
     ]
    },
    {
     "name": "stderr",
     "output_type": "stream",
     "text": [
      "     16         10         499.928           1.774         498.153           0.494           0.596           1.772           2.290\n"
     ]
    },
    {
     "name": "stdout",
     "output_type": "stream",
     "text": [
      "Epoch 16:  10%|█         | 20/200 [00:04<00:42,  4.22it/s, v_num=32, train_total_loss_step=310.0, train_energy_loss_step=5.210, train_forces_loss_step=304.0, val_total_loss_step=589.0, val_energy_loss_step=21.80, val_forces_loss_step=567.0, val_total_loss_epoch=611.0, val_energy_loss_epoch=19.60, val_forces_loss_epoch=591.0, train_total_loss_epoch=610.0, train_energy_loss_epoch=67.50, train_forces_loss_epoch=543.0]"
     ]
    },
    {
     "name": "stderr",
     "output_type": "stream",
     "text": [
      "     16         20         336.205           1.854         334.350           0.569           0.609           1.364           1.876\n"
     ]
    },
    {
     "name": "stdout",
     "output_type": "stream",
     "text": [
      "Epoch 16:  15%|█▌        | 30/200 [00:07<00:39,  4.26it/s, v_num=32, train_total_loss_step=359.0, train_energy_loss_step=3.900, train_forces_loss_step=355.0, val_total_loss_step=589.0, val_energy_loss_step=21.80, val_forces_loss_step=567.0, val_total_loss_epoch=611.0, val_energy_loss_epoch=19.60, val_forces_loss_epoch=591.0, train_total_loss_epoch=610.0, train_energy_loss_epoch=67.50, train_forces_loss_epoch=543.0]"
     ]
    },
    {
     "name": "stderr",
     "output_type": "stream",
     "text": [
      "     16         30         383.407           4.576         378.831           0.863           0.957           1.520           1.997\n"
     ]
    },
    {
     "name": "stdout",
     "output_type": "stream",
     "text": [
      "Epoch 16:  20%|██        | 40/200 [00:09<00:37,  4.29it/s, v_num=32, train_total_loss_step=517.0, train_energy_loss_step=12.20, train_forces_loss_step=505.0, val_total_loss_step=589.0, val_energy_loss_step=21.80, val_forces_loss_step=567.0, val_total_loss_epoch=611.0, val_energy_loss_epoch=19.60, val_forces_loss_epoch=591.0, train_total_loss_epoch=610.0, train_energy_loss_epoch=67.50, train_forces_loss_epoch=543.0]"
     ]
    },
    {
     "name": "stderr",
     "output_type": "stream",
     "text": [
      "     16         40         890.785          93.205         797.580           4.238           4.318           1.888           2.898\n"
     ]
    },
    {
     "name": "stdout",
     "output_type": "stream",
     "text": [
      "Epoch 16:  25%|██▌       | 50/200 [00:11<00:34,  4.30it/s, v_num=32, train_total_loss_step=437.0, train_energy_loss_step=9.570, train_forces_loss_step=427.0, val_total_loss_step=589.0, val_energy_loss_step=21.80, val_forces_loss_step=567.0, val_total_loss_epoch=611.0, val_energy_loss_epoch=19.60, val_forces_loss_epoch=591.0, train_total_loss_epoch=610.0, train_energy_loss_epoch=67.50, train_forces_loss_epoch=543.0]"
     ]
    },
    {
     "name": "stderr",
     "output_type": "stream",
     "text": [
      "     16         50         492.645          21.209         471.436           1.788           2.060           1.676           2.228\n"
     ]
    },
    {
     "name": "stdout",
     "output_type": "stream",
     "text": [
      "Epoch 16:  30%|███       | 60/200 [00:13<00:32,  4.31it/s, v_num=32, train_total_loss_step=394.0, train_energy_loss_step=2.210, train_forces_loss_step=392.0, val_total_loss_step=589.0, val_energy_loss_step=21.80, val_forces_loss_step=567.0, val_total_loss_epoch=611.0, val_energy_loss_epoch=19.60, val_forces_loss_epoch=591.0, train_total_loss_epoch=610.0, train_energy_loss_epoch=67.50, train_forces_loss_epoch=543.0]"
     ]
    },
    {
     "name": "stderr",
     "output_type": "stream",
     "text": [
      "     16         60         440.606           5.483         435.123           0.906           1.047           1.524           2.140\n"
     ]
    },
    {
     "name": "stdout",
     "output_type": "stream",
     "text": [
      "Epoch 16:  35%|███▌      | 70/200 [00:16<00:30,  4.32it/s, v_num=32, train_total_loss_step=397.0, train_energy_loss_step=36.40, train_forces_loss_step=361.0, val_total_loss_step=589.0, val_energy_loss_step=21.80, val_forces_loss_step=567.0, val_total_loss_epoch=611.0, val_energy_loss_epoch=19.60, val_forces_loss_epoch=591.0, train_total_loss_epoch=610.0, train_energy_loss_epoch=67.50, train_forces_loss_epoch=543.0]"
     ]
    },
    {
     "name": "stderr",
     "output_type": "stream",
     "text": [
      "     16         70         479.399          64.131         415.268           3.550           3.581           1.539           2.091\n"
     ]
    },
    {
     "name": "stdout",
     "output_type": "stream",
     "text": [
      "Epoch 16:  40%|████      | 80/200 [00:18<00:27,  4.32it/s, v_num=32, train_total_loss_step=567.0, train_energy_loss_step=14.40, train_forces_loss_step=553.0, val_total_loss_step=589.0, val_energy_loss_step=21.80, val_forces_loss_step=567.0, val_total_loss_epoch=611.0, val_energy_loss_epoch=19.60, val_forces_loss_epoch=591.0, train_total_loss_epoch=610.0, train_energy_loss_epoch=67.50, train_forces_loss_epoch=543.0]"
     ]
    },
    {
     "name": "stderr",
     "output_type": "stream",
     "text": [
      "     16         80         508.156         120.457         387.699           4.812           4.908           1.572           2.020\n"
     ]
    },
    {
     "name": "stdout",
     "output_type": "stream",
     "text": [
      "Epoch 16:  45%|████▌     | 90/200 [00:20<00:25,  4.33it/s, v_num=32, train_total_loss_step=548.0, train_energy_loss_step=10.90, train_forces_loss_step=537.0, val_total_loss_step=589.0, val_energy_loss_step=21.80, val_forces_loss_step=567.0, val_total_loss_epoch=611.0, val_energy_loss_epoch=19.60, val_forces_loss_epoch=591.0, train_total_loss_epoch=610.0, train_energy_loss_epoch=67.50, train_forces_loss_epoch=543.0]"
     ]
    },
    {
     "name": "stderr",
     "output_type": "stream",
     "text": [
      "     16         90         505.027          21.280         483.747           1.606           2.063           1.684           2.257\n"
     ]
    },
    {
     "name": "stdout",
     "output_type": "stream",
     "text": [
      "Epoch 16:  50%|█████     | 100/200 [00:23<00:23,  4.33it/s, v_num=32, train_total_loss_step=531.0, train_energy_loss_step=30.00, train_forces_loss_step=501.0, val_total_loss_step=589.0, val_energy_loss_step=21.80, val_forces_loss_step=567.0, val_total_loss_epoch=611.0, val_energy_loss_epoch=19.60, val_forces_loss_epoch=591.0, train_total_loss_epoch=610.0, train_energy_loss_epoch=67.50, train_forces_loss_epoch=543.0]"
     ]
    },
    {
     "name": "stderr",
     "output_type": "stream",
     "text": [
      "     16        100         585.568          22.109         563.459           1.975           2.103           1.727           2.435\n"
     ]
    },
    {
     "name": "stdout",
     "output_type": "stream",
     "text": [
      "Epoch 16:  55%|█████▌    | 110/200 [00:25<00:20,  4.33it/s, v_num=32, train_total_loss_step=435.0, train_energy_loss_step=26.80, train_forces_loss_step=408.0, val_total_loss_step=589.0, val_energy_loss_step=21.80, val_forces_loss_step=567.0, val_total_loss_epoch=611.0, val_energy_loss_epoch=19.60, val_forces_loss_epoch=591.0, train_total_loss_epoch=610.0, train_energy_loss_epoch=67.50, train_forces_loss_epoch=543.0]"
     ]
    },
    {
     "name": "stderr",
     "output_type": "stream",
     "text": [
      "     16        110         443.291           1.990         441.301           0.438           0.631           1.617           2.155\n"
     ]
    },
    {
     "name": "stdout",
     "output_type": "stream",
     "text": [
      "Epoch 16:  60%|██████    | 120/200 [00:27<00:18,  4.33it/s, v_num=32, train_total_loss_step=543.0, train_energy_loss_step=5.970, train_forces_loss_step=537.0, val_total_loss_step=589.0, val_energy_loss_step=21.80, val_forces_loss_step=567.0, val_total_loss_epoch=611.0, val_energy_loss_epoch=19.60, val_forces_loss_epoch=591.0, train_total_loss_epoch=610.0, train_energy_loss_epoch=67.50, train_forces_loss_epoch=543.0]"
     ]
    },
    {
     "name": "stderr",
     "output_type": "stream",
     "text": [
      "     16        120         428.405           8.730         419.675           1.138           1.321           1.590           2.102\n"
     ]
    },
    {
     "name": "stdout",
     "output_type": "stream",
     "text": [
      "Epoch 16:  65%|██████▌   | 130/200 [00:30<00:16,  4.33it/s, v_num=32, train_total_loss_step=529.0, train_energy_loss_step=2.390, train_forces_loss_step=527.0, val_total_loss_step=589.0, val_energy_loss_step=21.80, val_forces_loss_step=567.0, val_total_loss_epoch=611.0, val_energy_loss_epoch=19.60, val_forces_loss_epoch=591.0, train_total_loss_epoch=610.0, train_energy_loss_epoch=67.50, train_forces_loss_epoch=543.0]"
     ]
    },
    {
     "name": "stderr",
     "output_type": "stream",
     "text": [
      "     16        130         470.541          27.554         442.987           2.169           2.347           1.630           2.159\n"
     ]
    },
    {
     "name": "stdout",
     "output_type": "stream",
     "text": [
      "Epoch 16:  70%|███████   | 140/200 [00:32<00:13,  4.33it/s, v_num=32, train_total_loss_step=573.0, train_energy_loss_step=20.90, train_forces_loss_step=552.0, val_total_loss_step=589.0, val_energy_loss_step=21.80, val_forces_loss_step=567.0, val_total_loss_epoch=611.0, val_energy_loss_epoch=19.60, val_forces_loss_epoch=591.0, train_total_loss_epoch=610.0, train_energy_loss_epoch=67.50, train_forces_loss_epoch=543.0]"
     ]
    },
    {
     "name": "stderr",
     "output_type": "stream",
     "text": [
      "     16        140         577.236          39.022         538.214           2.756           2.794           1.733           2.380\n"
     ]
    },
    {
     "name": "stdout",
     "output_type": "stream",
     "text": [
      "Epoch 16:  75%|███████▌  | 150/200 [00:34<00:11,  4.33it/s, v_num=32, train_total_loss_step=1.05e+3, train_energy_loss_step=350.0, train_forces_loss_step=703.0, val_total_loss_step=589.0, val_energy_loss_step=21.80, val_forces_loss_step=567.0, val_total_loss_epoch=611.0, val_energy_loss_epoch=19.60, val_forces_loss_epoch=591.0, train_total_loss_epoch=610.0, train_energy_loss_epoch=67.50, train_forces_loss_epoch=543.0]"
     ]
    },
    {
     "name": "stderr",
     "output_type": "stream",
     "text": [
      "     16        150         545.469          45.018         500.452           2.987           3.001           1.660           2.295\n"
     ]
    },
    {
     "name": "stdout",
     "output_type": "stream",
     "text": [
      "Epoch 16:  80%|████████  | 160/200 [00:36<00:09,  4.34it/s, v_num=32, train_total_loss_step=725.0, train_energy_loss_step=196.0, train_forces_loss_step=529.0, val_total_loss_step=589.0, val_energy_loss_step=21.80, val_forces_loss_step=567.0, val_total_loss_epoch=611.0, val_energy_loss_epoch=19.60, val_forces_loss_epoch=591.0, train_total_loss_epoch=610.0, train_energy_loss_epoch=67.50, train_forces_loss_epoch=543.0]  "
     ]
    },
    {
     "name": "stderr",
     "output_type": "stream",
     "text": [
      "     16        160         913.872         385.402         528.469           8.738           8.780           1.659           2.359\n"
     ]
    },
    {
     "name": "stdout",
     "output_type": "stream",
     "text": [
      "Epoch 16:  85%|████████▌ | 170/200 [00:39<00:06,  4.34it/s, v_num=32, train_total_loss_step=468.0, train_energy_loss_step=17.30, train_forces_loss_step=451.0, val_total_loss_step=589.0, val_energy_loss_step=21.80, val_forces_loss_step=567.0, val_total_loss_epoch=611.0, val_energy_loss_epoch=19.60, val_forces_loss_epoch=591.0, train_total_loss_epoch=610.0, train_energy_loss_epoch=67.50, train_forces_loss_epoch=543.0]"
     ]
    },
    {
     "name": "stderr",
     "output_type": "stream",
     "text": [
      "     16        170         683.029         140.488         542.541           5.250           5.301           1.778           2.390\n"
     ]
    },
    {
     "name": "stdout",
     "output_type": "stream",
     "text": [
      "Epoch 16:  90%|█████████ | 180/200 [00:41<00:04,  4.34it/s, v_num=32, train_total_loss_step=477.0, train_energy_loss_step=24.90, train_forces_loss_step=452.0, val_total_loss_step=589.0, val_energy_loss_step=21.80, val_forces_loss_step=567.0, val_total_loss_epoch=611.0, val_energy_loss_epoch=19.60, val_forces_loss_epoch=591.0, train_total_loss_epoch=610.0, train_energy_loss_epoch=67.50, train_forces_loss_epoch=543.0]"
     ]
    },
    {
     "name": "stderr",
     "output_type": "stream",
     "text": [
      "     16        180         486.676          30.225         456.451           2.175           2.459           1.653           2.192\n"
     ]
    },
    {
     "name": "stdout",
     "output_type": "stream",
     "text": [
      "Epoch 16:  95%|█████████▌| 190/200 [00:43<00:02,  4.34it/s, v_num=32, train_total_loss_step=461.0, train_energy_loss_step=15.70, train_forces_loss_step=445.0, val_total_loss_step=589.0, val_energy_loss_step=21.80, val_forces_loss_step=567.0, val_total_loss_epoch=611.0, val_energy_loss_epoch=19.60, val_forces_loss_epoch=591.0, train_total_loss_epoch=610.0, train_energy_loss_epoch=67.50, train_forces_loss_epoch=543.0]"
     ]
    },
    {
     "name": "stderr",
     "output_type": "stream",
     "text": [
      "     16        190         517.572           1.862         515.710           0.456           0.610           1.724           2.330\n"
     ]
    },
    {
     "name": "stdout",
     "output_type": "stream",
     "text": [
      "Epoch 16: 100%|██████████| 200/200 [00:46<00:00,  4.34it/s, v_num=32, train_total_loss_step=634.0, train_energy_loss_step=71.00, train_forces_loss_step=563.0, val_total_loss_step=589.0, val_energy_loss_step=21.80, val_forces_loss_step=567.0, val_total_loss_epoch=611.0, val_energy_loss_epoch=19.60, val_forces_loss_epoch=591.0, train_total_loss_epoch=610.0, train_energy_loss_epoch=67.50, train_forces_loss_epoch=543.0]"
     ]
    },
    {
     "name": "stderr",
     "output_type": "stream",
     "text": [
      "\n",
      "\n",
      "Validating\n",
      "# epoch      batch      total_loss     energy_loss     forces_loss      energy_mae     energy_rmse      forces_mae     forces_rmse\n"
     ]
    },
    {
     "name": "stdout",
     "output_type": "stream",
     "text": []
    },
    {
     "name": "stderr",
     "output_type": "stream",
     "text": [
      "     16          0         665.138          72.280         592.858           3.789           3.802           1.820           2.498\n"
     ]
    },
    {
     "name": "stdout",
     "output_type": "stream",
     "text": []
    },
    {
     "name": "stderr",
     "output_type": "stream",
     "text": [
      "     16         10         583.202          51.165         532.038           3.062           3.199           1.741           2.367\n"
     ]
    },
    {
     "name": "stdout",
     "output_type": "stream",
     "text": []
    },
    {
     "name": "stderr",
     "output_type": "stream",
     "text": [
      "     16         20         569.604          68.544         501.060           3.566           3.703           1.699           2.297\n"
     ]
    },
    {
     "name": "stdout",
     "output_type": "stream",
     "text": []
    },
    {
     "name": "stderr",
     "output_type": "stream",
     "text": [
      "     16         30         586.379          53.967         532.412           3.168           3.285           1.723           2.367\n"
     ]
    },
    {
     "name": "stdout",
     "output_type": "stream",
     "text": []
    },
    {
     "name": "stderr",
     "output_type": "stream",
     "text": [
      "     16         40         646.152          42.922         603.230           2.688           2.930           1.813           2.520\n"
     ]
    },
    {
     "name": "stdout",
     "output_type": "stream",
     "text": []
    },
    {
     "name": "stderr",
     "output_type": "stream",
     "text": [
      "     16         50         652.819          41.755         611.064           2.691           2.890           1.838           2.536\n"
     ]
    },
    {
     "name": "stdout",
     "output_type": "stream",
     "text": []
    },
    {
     "name": "stderr",
     "output_type": "stream",
     "text": [
      "     16         60         649.156          68.661         580.495           3.574           3.706           1.843           2.472\n"
     ]
    },
    {
     "name": "stdout",
     "output_type": "stream",
     "text": []
    },
    {
     "name": "stderr",
     "output_type": "stream",
     "text": [
      "     16         70         556.601          48.550         508.051           3.055           3.116           1.706           2.313\n"
     ]
    },
    {
     "name": "stdout",
     "output_type": "stream",
     "text": []
    },
    {
     "name": "stderr",
     "output_type": "stream",
     "text": [
      "     16         80         649.847          49.305         600.542           2.980           3.140           1.794           2.514\n"
     ]
    },
    {
     "name": "stdout",
     "output_type": "stream",
     "text": []
    },
    {
     "name": "stderr",
     "output_type": "stream",
     "text": [
      "     16         90         559.011          55.679         503.332           3.176           3.337           1.689           2.302\n"
     ]
    },
    {
     "name": "stdout",
     "output_type": "stream",
     "text": []
    },
    {
     "name": "stderr",
     "output_type": "stream",
     "text": [
      "     16        100         812.680          57.935         754.744           3.176           3.404           2.012           2.819\n"
     ]
    },
    {
     "name": "stdout",
     "output_type": "stream",
     "text": []
    },
    {
     "name": "stderr",
     "output_type": "stream",
     "text": [
      "     16        110         632.548          36.431         596.116           2.645           2.699           1.811           2.505\n"
     ]
    },
    {
     "name": "stdout",
     "output_type": "stream",
     "text": []
    },
    {
     "name": "stderr",
     "output_type": "stream",
     "text": [
      "     16        120         587.645          70.101         517.544           3.676           3.744           1.709           2.334\n"
     ]
    },
    {
     "name": "stdout",
     "output_type": "stream",
     "text": []
    },
    {
     "name": "stderr",
     "output_type": "stream",
     "text": [
      "\n",
      "\n",
      "Epoch summary:\n",
      "Validation  # epoch      total_loss     energy_loss     forces_loss      energy_mae     energy_rmse      forces_mae     forces_rmse\n",
      "                 16         631.352          48.385         582.968           2.937           3.111           1.801           2.477\n"
     ]
    },
    {
     "name": "stdout",
     "output_type": "stream",
     "text": [
      "Epoch 16: 100%|██████████| 200/200 [01:09<00:00,  2.88it/s, v_num=32, train_total_loss_step=634.0, train_energy_loss_step=71.00, train_forces_loss_step=563.0, val_total_loss_step=605.0, val_energy_loss_step=40.10, val_forces_loss_step=565.0, val_total_loss_epoch=631.0, val_energy_loss_epoch=48.40, val_forces_loss_epoch=583.0, train_total_loss_epoch=532.0, train_energy_loss_epoch=47.10, train_forces_loss_epoch=485.0]"
     ]
    },
    {
     "name": "stderr",
     "output_type": "stream",
     "text": [
      "Train       # epoch      total_loss     energy_loss     forces_loss      energy_mae     energy_rmse      forces_mae     forces_rmse\n",
      "                 16         532.314          47.072         485.242           2.338           3.068           1.659           2.260\n"
     ]
    },
    {
     "name": "stdout",
     "output_type": "stream",
     "text": [
      "Epoch 17:   0%|          | 0/200 [00:00<?, ?it/s, v_num=32, train_total_loss_step=634.0, train_energy_loss_step=71.00, train_forces_loss_step=563.0, val_total_loss_step=605.0, val_energy_loss_step=40.10, val_forces_loss_step=565.0, val_total_loss_epoch=631.0, val_energy_loss_epoch=48.40, val_forces_loss_epoch=583.0, train_total_loss_epoch=532.0, train_energy_loss_epoch=47.10, train_forces_loss_epoch=485.0]          "
     ]
    },
    {
     "name": "stderr",
     "output_type": "stream",
     "text": [
      "\n",
      "\n",
      "Training\n",
      "# epoch      batch      total_loss     energy_loss     forces_loss      energy_mae     energy_rmse      forces_mae     forces_rmse\n",
      "     17          0         692.318          19.219         673.100           1.775           1.961           1.892           2.662\n"
     ]
    },
    {
     "name": "stdout",
     "output_type": "stream",
     "text": [
      "Epoch 17:   5%|▌         | 10/200 [00:02<00:45,  4.16it/s, v_num=32, train_total_loss_step=494.0, train_energy_loss_step=35.70, train_forces_loss_step=458.0, val_total_loss_step=605.0, val_energy_loss_step=40.10, val_forces_loss_step=565.0, val_total_loss_epoch=631.0, val_energy_loss_epoch=48.40, val_forces_loss_epoch=583.0, train_total_loss_epoch=532.0, train_energy_loss_epoch=47.10, train_forces_loss_epoch=485.0]"
     ]
    },
    {
     "name": "stderr",
     "output_type": "stream",
     "text": [
      "     17         10         527.776          52.735         475.040           2.894           3.248           1.723           2.236\n"
     ]
    },
    {
     "name": "stdout",
     "output_type": "stream",
     "text": [
      "Epoch 17:  10%|█         | 20/200 [00:04<00:42,  4.25it/s, v_num=32, train_total_loss_step=472.0, train_energy_loss_step=1.780, train_forces_loss_step=470.0, val_total_loss_step=605.0, val_energy_loss_step=40.10, val_forces_loss_step=565.0, val_total_loss_epoch=631.0, val_energy_loss_epoch=48.40, val_forces_loss_epoch=583.0, train_total_loss_epoch=532.0, train_energy_loss_epoch=47.10, train_forces_loss_epoch=485.0]"
     ]
    },
    {
     "name": "stderr",
     "output_type": "stream",
     "text": [
      "     17         20         583.072           1.909         581.163           0.494           0.618           1.875           2.473\n"
     ]
    },
    {
     "name": "stdout",
     "output_type": "stream",
     "text": [
      "Epoch 17:  15%|█▌        | 30/200 [00:07<00:39,  4.28it/s, v_num=32, train_total_loss_step=434.0, train_energy_loss_step=30.60, train_forces_loss_step=404.0, val_total_loss_step=605.0, val_energy_loss_step=40.10, val_forces_loss_step=565.0, val_total_loss_epoch=631.0, val_energy_loss_epoch=48.40, val_forces_loss_epoch=583.0, train_total_loss_epoch=532.0, train_energy_loss_epoch=47.10, train_forces_loss_epoch=485.0]"
     ]
    },
    {
     "name": "stderr",
     "output_type": "stream",
     "text": [
      "     17         30         608.896           8.645         600.251           1.163           1.315           1.768           2.514\n"
     ]
    },
    {
     "name": "stdout",
     "output_type": "stream",
     "text": [
      "Epoch 17:  20%|██        | 40/200 [00:09<00:37,  4.30it/s, v_num=32, train_total_loss_step=524.0, train_energy_loss_step=9.960, train_forces_loss_step=514.0, val_total_loss_step=605.0, val_energy_loss_step=40.10, val_forces_loss_step=565.0, val_total_loss_epoch=631.0, val_energy_loss_epoch=48.40, val_forces_loss_epoch=583.0, train_total_loss_epoch=532.0, train_energy_loss_epoch=47.10, train_forces_loss_epoch=485.0]"
     ]
    },
    {
     "name": "stderr",
     "output_type": "stream",
     "text": [
      "     17         40        1073.739         132.516         941.223           5.100           5.148           2.250           3.148\n"
     ]
    },
    {
     "name": "stdout",
     "output_type": "stream",
     "text": [
      "Epoch 17:  25%|██▌       | 50/200 [00:11<00:34,  4.31it/s, v_num=32, train_total_loss_step=586.0, train_energy_loss_step=10.00, train_forces_loss_step=576.0, val_total_loss_step=605.0, val_energy_loss_step=40.10, val_forces_loss_step=565.0, val_total_loss_epoch=631.0, val_energy_loss_epoch=48.40, val_forces_loss_epoch=583.0, train_total_loss_epoch=532.0, train_energy_loss_epoch=47.10, train_forces_loss_epoch=485.0]    "
     ]
    },
    {
     "name": "stderr",
     "output_type": "stream",
     "text": [
      "     17         50        1558.896          18.102        1540.795           1.625           1.903           2.967           4.027\n"
     ]
    },
    {
     "name": "stdout",
     "output_type": "stream",
     "text": [
      "Epoch 17:  30%|███       | 60/200 [00:13<00:32,  4.32it/s, v_num=32, train_total_loss_step=756.0, train_energy_loss_step=93.20, train_forces_loss_step=663.0, val_total_loss_step=605.0, val_energy_loss_step=40.10, val_forces_loss_step=565.0, val_total_loss_epoch=631.0, val_energy_loss_epoch=48.40, val_forces_loss_epoch=583.0, train_total_loss_epoch=532.0, train_energy_loss_epoch=47.10, train_forces_loss_epoch=485.0]    "
     ]
    },
    {
     "name": "stderr",
     "output_type": "stream",
     "text": [
      "     17         60        1265.646          57.486        1208.160           3.375           3.391           2.765           3.566\n"
     ]
    },
    {
     "name": "stdout",
     "output_type": "stream",
     "text": [
      "Epoch 17:  35%|███▌      | 70/200 [00:16<00:30,  4.32it/s, v_num=32, train_total_loss_step=867.0, train_energy_loss_step=216.0, train_forces_loss_step=651.0, val_total_loss_step=605.0, val_energy_loss_step=40.10, val_forces_loss_step=565.0, val_total_loss_epoch=631.0, val_energy_loss_epoch=48.40, val_forces_loss_epoch=583.0, train_total_loss_epoch=532.0, train_energy_loss_epoch=47.10, train_forces_loss_epoch=485.0]    "
     ]
    },
    {
     "name": "stderr",
     "output_type": "stream",
     "text": [
      "     17         70         680.935          37.146         643.790           2.444           2.726           1.925           2.603\n"
     ]
    },
    {
     "name": "stdout",
     "output_type": "stream",
     "text": [
      "Epoch 17:  40%|████      | 80/200 [00:18<00:27,  4.33it/s, v_num=32, train_total_loss_step=759.0, train_energy_loss_step=18.40, train_forces_loss_step=740.0, val_total_loss_step=605.0, val_energy_loss_step=40.10, val_forces_loss_step=565.0, val_total_loss_epoch=631.0, val_energy_loss_epoch=48.40, val_forces_loss_epoch=583.0, train_total_loss_epoch=532.0, train_energy_loss_epoch=47.10, train_forces_loss_epoch=485.0]  "
     ]
    },
    {
     "name": "stderr",
     "output_type": "stream",
     "text": [
      "     17         80         682.622           6.507         676.115           0.869           1.141           2.013           2.668\n"
     ]
    },
    {
     "name": "stdout",
     "output_type": "stream",
     "text": [
      "Epoch 17:  45%|████▌     | 90/200 [00:20<00:25,  4.33it/s, v_num=32, train_total_loss_step=453.0, train_energy_loss_step=22.80, train_forces_loss_step=431.0, val_total_loss_step=605.0, val_energy_loss_step=40.10, val_forces_loss_step=565.0, val_total_loss_epoch=631.0, val_energy_loss_epoch=48.40, val_forces_loss_epoch=583.0, train_total_loss_epoch=532.0, train_energy_loss_epoch=47.10, train_forces_loss_epoch=485.0]"
     ]
    },
    {
     "name": "stderr",
     "output_type": "stream",
     "text": [
      "     17         90         406.624           1.851         404.773           0.469           0.608           1.477           2.064\n"
     ]
    },
    {
     "name": "stdout",
     "output_type": "stream",
     "text": [
      "Epoch 17:  50%|█████     | 100/200 [00:23<00:23,  4.33it/s, v_num=32, train_total_loss_step=430.0, train_energy_loss_step=9.790, train_forces_loss_step=420.0, val_total_loss_step=605.0, val_energy_loss_step=40.10, val_forces_loss_step=565.0, val_total_loss_epoch=631.0, val_energy_loss_epoch=48.40, val_forces_loss_epoch=583.0, train_total_loss_epoch=532.0, train_energy_loss_epoch=47.10, train_forces_loss_epoch=485.0]"
     ]
    },
    {
     "name": "stderr",
     "output_type": "stream",
     "text": [
      "     17        100         595.269           9.350         585.920           1.225           1.367           1.789           2.483\n"
     ]
    },
    {
     "name": "stdout",
     "output_type": "stream",
     "text": [
      "Epoch 17:  55%|█████▌    | 110/200 [00:25<00:20,  4.33it/s, v_num=32, train_total_loss_step=523.0, train_energy_loss_step=6.690, train_forces_loss_step=517.0, val_total_loss_step=605.0, val_energy_loss_step=40.10, val_forces_loss_step=565.0, val_total_loss_epoch=631.0, val_energy_loss_epoch=48.40, val_forces_loss_epoch=583.0, train_total_loss_epoch=532.0, train_energy_loss_epoch=47.10, train_forces_loss_epoch=485.0]"
     ]
    },
    {
     "name": "stderr",
     "output_type": "stream",
     "text": [
      "     17        110         675.228           2.209         673.019           0.600           0.665           2.042           2.662\n"
     ]
    },
    {
     "name": "stdout",
     "output_type": "stream",
     "text": [
      "Epoch 17:  60%|██████    | 120/200 [00:27<00:18,  4.33it/s, v_num=32, train_total_loss_step=448.0, train_energy_loss_step=40.10, train_forces_loss_step=408.0, val_total_loss_step=605.0, val_energy_loss_step=40.10, val_forces_loss_step=565.0, val_total_loss_epoch=631.0, val_energy_loss_epoch=48.40, val_forces_loss_epoch=583.0, train_total_loss_epoch=532.0, train_energy_loss_epoch=47.10, train_forces_loss_epoch=485.0]"
     ]
    },
    {
     "name": "stderr",
     "output_type": "stream",
     "text": [
      "     17        120         404.836           7.785         397.050           1.013           1.248           1.512           2.044\n"
     ]
    },
    {
     "name": "stdout",
     "output_type": "stream",
     "text": [
      "Epoch 17:  65%|██████▌   | 130/200 [00:30<00:16,  4.33it/s, v_num=32, train_total_loss_step=642.0, train_energy_loss_step=49.20, train_forces_loss_step=593.0, val_total_loss_step=605.0, val_energy_loss_step=40.10, val_forces_loss_step=565.0, val_total_loss_epoch=631.0, val_energy_loss_epoch=48.40, val_forces_loss_epoch=583.0, train_total_loss_epoch=532.0, train_energy_loss_epoch=47.10, train_forces_loss_epoch=485.0]"
     ]
    },
    {
     "name": "stderr",
     "output_type": "stream",
     "text": [
      "     17        130         657.424          46.015         611.410           2.531           3.034           1.796           2.537\n"
     ]
    },
    {
     "name": "stdout",
     "output_type": "stream",
     "text": [
      "Epoch 17:  70%|███████   | 140/200 [00:32<00:13,  4.34it/s, v_num=32, train_total_loss_step=563.0, train_energy_loss_step=15.00, train_forces_loss_step=548.0, val_total_loss_step=605.0, val_energy_loss_step=40.10, val_forces_loss_step=565.0, val_total_loss_epoch=631.0, val_energy_loss_epoch=48.40, val_forces_loss_epoch=583.0, train_total_loss_epoch=532.0, train_energy_loss_epoch=47.10, train_forces_loss_epoch=485.0]"
     ]
    },
    {
     "name": "stderr",
     "output_type": "stream",
     "text": [
      "     17        140         354.474           5.604         348.869           0.944           1.059           1.364           1.916\n"
     ]
    },
    {
     "name": "stdout",
     "output_type": "stream",
     "text": [
      "Epoch 17:  75%|███████▌  | 150/200 [00:34<00:11,  4.34it/s, v_num=32, train_total_loss_step=470.0, train_energy_loss_step=10.90, train_forces_loss_step=459.0, val_total_loss_step=605.0, val_energy_loss_step=40.10, val_forces_loss_step=565.0, val_total_loss_epoch=631.0, val_energy_loss_epoch=48.40, val_forces_loss_epoch=583.0, train_total_loss_epoch=532.0, train_energy_loss_epoch=47.10, train_forces_loss_epoch=485.0]"
     ]
    },
    {
     "name": "stderr",
     "output_type": "stream",
     "text": [
      "     17        150         659.394         156.620         502.774           5.494           5.597           1.666           2.301\n"
     ]
    },
    {
     "name": "stdout",
     "output_type": "stream",
     "text": [
      "Epoch 17:  80%|████████  | 160/200 [00:36<00:09,  4.34it/s, v_num=32, train_total_loss_step=445.0, train_energy_loss_step=11.60, train_forces_loss_step=433.0, val_total_loss_step=605.0, val_energy_loss_step=40.10, val_forces_loss_step=565.0, val_total_loss_epoch=631.0, val_energy_loss_epoch=48.40, val_forces_loss_epoch=583.0, train_total_loss_epoch=532.0, train_energy_loss_epoch=47.10, train_forces_loss_epoch=485.0]"
     ]
    },
    {
     "name": "stderr",
     "output_type": "stream",
     "text": [
      "     17        160         646.061          48.512         597.549           2.925           3.115           1.930           2.508\n"
     ]
    },
    {
     "name": "stdout",
     "output_type": "stream",
     "text": [
      "Epoch 17:  85%|████████▌ | 170/200 [00:39<00:06,  4.34it/s, v_num=32, train_total_loss_step=545.0, train_energy_loss_step=34.10, train_forces_loss_step=511.0, val_total_loss_step=605.0, val_energy_loss_step=40.10, val_forces_loss_step=565.0, val_total_loss_epoch=631.0, val_energy_loss_epoch=48.40, val_forces_loss_epoch=583.0, train_total_loss_epoch=532.0, train_energy_loss_epoch=47.10, train_forces_loss_epoch=485.0]"
     ]
    },
    {
     "name": "stderr",
     "output_type": "stream",
     "text": [
      "     17        170         508.377           7.173         501.204           0.956           1.198           1.641           2.297\n"
     ]
    },
    {
     "name": "stdout",
     "output_type": "stream",
     "text": [
      "Epoch 17:  90%|█████████ | 180/200 [00:41<00:04,  4.35it/s, v_num=32, train_total_loss_step=471.0, train_energy_loss_step=11.50, train_forces_loss_step=460.0, val_total_loss_step=605.0, val_energy_loss_step=40.10, val_forces_loss_step=565.0, val_total_loss_epoch=631.0, val_energy_loss_epoch=48.40, val_forces_loss_epoch=583.0, train_total_loss_epoch=532.0, train_energy_loss_epoch=47.10, train_forces_loss_epoch=485.0]"
     ]
    },
    {
     "name": "stderr",
     "output_type": "stream",
     "text": [
      "     17        180         625.369          37.173         588.197           2.631           2.727           1.891           2.488\n"
     ]
    },
    {
     "name": "stdout",
     "output_type": "stream",
     "text": [
      "Epoch 17:  95%|█████████▌| 190/200 [00:43<00:02,  4.35it/s, v_num=32, train_total_loss_step=458.0, train_energy_loss_step=2.930, train_forces_loss_step=455.0, val_total_loss_step=605.0, val_energy_loss_step=40.10, val_forces_loss_step=565.0, val_total_loss_epoch=631.0, val_energy_loss_epoch=48.40, val_forces_loss_epoch=583.0, train_total_loss_epoch=532.0, train_energy_loss_epoch=47.10, train_forces_loss_epoch=485.0]"
     ]
    },
    {
     "name": "stderr",
     "output_type": "stream",
     "text": [
      "     17        190         640.276          32.840         607.436           2.338           2.563           1.913           2.529\n"
     ]
    },
    {
     "name": "stdout",
     "output_type": "stream",
     "text": [
      "Epoch 17: 100%|██████████| 200/200 [00:45<00:00,  4.35it/s, v_num=32, train_total_loss_step=480.0, train_energy_loss_step=102.0, train_forces_loss_step=378.0, val_total_loss_step=605.0, val_energy_loss_step=40.10, val_forces_loss_step=565.0, val_total_loss_epoch=631.0, val_energy_loss_epoch=48.40, val_forces_loss_epoch=583.0, train_total_loss_epoch=532.0, train_energy_loss_epoch=47.10, train_forces_loss_epoch=485.0]"
     ]
    },
    {
     "name": "stderr",
     "output_type": "stream",
     "text": [
      "\n",
      "\n",
      "Validating\n",
      "# epoch      batch      total_loss     energy_loss     forces_loss      energy_mae     energy_rmse      forces_mae     forces_rmse\n"
     ]
    },
    {
     "name": "stdout",
     "output_type": "stream",
     "text": []
    },
    {
     "name": "stderr",
     "output_type": "stream",
     "text": [
      "     17          0         548.541          55.943         492.598           3.238           3.345           1.684           2.277\n"
     ]
    },
    {
     "name": "stdout",
     "output_type": "stream",
     "text": []
    },
    {
     "name": "stderr",
     "output_type": "stream",
     "text": [
      "     17         10         512.839          39.600         473.239           2.742           2.814           1.603           2.232\n"
     ]
    },
    {
     "name": "stdout",
     "output_type": "stream",
     "text": []
    },
    {
     "name": "stderr",
     "output_type": "stream",
     "text": [
      "     17         20         594.956          52.964         541.992           3.113           3.255           1.758           2.389\n"
     ]
    },
    {
     "name": "stdout",
     "output_type": "stream",
     "text": []
    },
    {
     "name": "stderr",
     "output_type": "stream",
     "text": [
      "     17         30         523.349          43.904         479.445           2.840           2.963           1.712           2.247\n"
     ]
    },
    {
     "name": "stdout",
     "output_type": "stream",
     "text": []
    },
    {
     "name": "stderr",
     "output_type": "stream",
     "text": [
      "     17         40         664.508          42.095         622.413           2.711           2.902           1.862           2.560\n"
     ]
    },
    {
     "name": "stdout",
     "output_type": "stream",
     "text": []
    },
    {
     "name": "stderr",
     "output_type": "stream",
     "text": [
      "     17         50         663.907          36.631         627.275           2.504           2.707           1.869           2.570\n"
     ]
    },
    {
     "name": "stdout",
     "output_type": "stream",
     "text": []
    },
    {
     "name": "stderr",
     "output_type": "stream",
     "text": [
      "     17         60         560.385          44.478         515.907           2.766           2.983           1.756           2.330\n"
     ]
    },
    {
     "name": "stdout",
     "output_type": "stream",
     "text": []
    },
    {
     "name": "stderr",
     "output_type": "stream",
     "text": [
      "     17         70         552.026          24.373         527.653           2.148           2.208           1.735           2.357\n"
     ]
    },
    {
     "name": "stdout",
     "output_type": "stream",
     "text": []
    },
    {
     "name": "stderr",
     "output_type": "stream",
     "text": [
      "     17         80         584.850          49.895         534.955           2.914           3.159           1.754           2.373\n"
     ]
    },
    {
     "name": "stdout",
     "output_type": "stream",
     "text": []
    },
    {
     "name": "stderr",
     "output_type": "stream",
     "text": [
      "     17         90         598.279          52.264         546.014           3.148           3.233           1.699           2.397\n"
     ]
    },
    {
     "name": "stdout",
     "output_type": "stream",
     "text": []
    },
    {
     "name": "stderr",
     "output_type": "stream",
     "text": [
      "     17        100         731.790          50.203         681.587           2.945           3.169           1.885           2.679\n"
     ]
    },
    {
     "name": "stdout",
     "output_type": "stream",
     "text": []
    },
    {
     "name": "stderr",
     "output_type": "stream",
     "text": [
      "     17        110         499.322          34.161         465.160           2.523           2.614           1.600           2.213\n"
     ]
    },
    {
     "name": "stdout",
     "output_type": "stream",
     "text": []
    },
    {
     "name": "stderr",
     "output_type": "stream",
     "text": [
      "     17        120         487.488          58.760         428.729           3.305           3.428           1.612           2.124\n"
     ]
    },
    {
     "name": "stdout",
     "output_type": "stream",
     "text": []
    },
    {
     "name": "stderr",
     "output_type": "stream",
     "text": [
      "\n",
      "\n",
      "Epoch summary:\n",
      "Validation  # epoch      total_loss     energy_loss     forces_loss      energy_mae     energy_rmse      forces_mae     forces_rmse\n",
      "                 17         569.261          39.073         530.187           2.604           2.795           1.722           2.362\n"
     ]
    },
    {
     "name": "stdout",
     "output_type": "stream",
     "text": [
      "Epoch 17: 100%|██████████| 200/200 [01:09<00:00,  2.88it/s, v_num=32, train_total_loss_step=480.0, train_energy_loss_step=102.0, train_forces_loss_step=378.0, val_total_loss_step=539.0, val_energy_loss_step=47.00, val_forces_loss_step=492.0, val_total_loss_epoch=569.0, val_energy_loss_epoch=39.10, val_forces_loss_epoch=530.0, train_total_loss_epoch=612.0, train_energy_loss_epoch=41.70, train_forces_loss_epoch=570.0]"
     ]
    },
    {
     "name": "stderr",
     "output_type": "stream",
     "text": [
      "Train       # epoch      total_loss     energy_loss     forces_loss      energy_mae     energy_rmse      forces_mae     forces_rmse\n",
      "                 17         612.036          41.679         570.357           2.191           2.887           1.793           2.450\n"
     ]
    },
    {
     "name": "stdout",
     "output_type": "stream",
     "text": [
      "Epoch 18:   0%|          | 0/200 [00:00<?, ?it/s, v_num=32, train_total_loss_step=480.0, train_energy_loss_step=102.0, train_forces_loss_step=378.0, val_total_loss_step=539.0, val_energy_loss_step=47.00, val_forces_loss_step=492.0, val_total_loss_epoch=569.0, val_energy_loss_epoch=39.10, val_forces_loss_epoch=530.0, train_total_loss_epoch=612.0, train_energy_loss_epoch=41.70, train_forces_loss_epoch=570.0]          "
     ]
    },
    {
     "name": "stderr",
     "output_type": "stream",
     "text": [
      "\n",
      "\n",
      "Training\n",
      "# epoch      batch      total_loss     energy_loss     forces_loss      energy_mae     energy_rmse      forces_mae     forces_rmse\n",
      "     18          0         579.123          29.494         549.629           2.250           2.429           1.765           2.405\n"
     ]
    },
    {
     "name": "stdout",
     "output_type": "stream",
     "text": [
      "Epoch 18:   5%|▌         | 10/200 [00:02<00:45,  4.19it/s, v_num=32, train_total_loss_step=612.0, train_energy_loss_step=50.50, train_forces_loss_step=562.0, val_total_loss_step=539.0, val_energy_loss_step=47.00, val_forces_loss_step=492.0, val_total_loss_epoch=569.0, val_energy_loss_epoch=39.10, val_forces_loss_epoch=530.0, train_total_loss_epoch=612.0, train_energy_loss_epoch=41.70, train_forces_loss_epoch=570.0]"
     ]
    },
    {
     "name": "stderr",
     "output_type": "stream",
     "text": [
      "     18         10         685.284          12.840         672.444           1.362           1.602           1.888           2.661\n"
     ]
    },
    {
     "name": "stdout",
     "output_type": "stream",
     "text": [
      "Epoch 18:  10%|█         | 20/200 [00:04<00:42,  4.27it/s, v_num=32, train_total_loss_step=703.0, train_energy_loss_step=66.70, train_forces_loss_step=637.0, val_total_loss_step=539.0, val_energy_loss_step=47.00, val_forces_loss_step=492.0, val_total_loss_epoch=569.0, val_energy_loss_epoch=39.10, val_forces_loss_epoch=530.0, train_total_loss_epoch=612.0, train_energy_loss_epoch=41.70, train_forces_loss_epoch=570.0]  "
     ]
    },
    {
     "name": "stderr",
     "output_type": "stream",
     "text": [
      "     18         20        1329.952          75.854        1254.098           3.850           3.895           2.501           3.633\n"
     ]
    },
    {
     "name": "stdout",
     "output_type": "stream",
     "text": [
      "Epoch 18:  15%|█▌        | 30/200 [00:06<00:39,  4.29it/s, v_num=32, train_total_loss_step=725.0, train_energy_loss_step=79.10, train_forces_loss_step=645.0, val_total_loss_step=539.0, val_energy_loss_step=47.00, val_forces_loss_step=492.0, val_total_loss_epoch=569.0, val_energy_loss_epoch=39.10, val_forces_loss_epoch=530.0, train_total_loss_epoch=612.0, train_energy_loss_epoch=41.70, train_forces_loss_epoch=570.0]    "
     ]
    },
    {
     "name": "stderr",
     "output_type": "stream",
     "text": [
      "     18         30         539.090         102.881         436.209           4.312           4.536           1.635           2.143\n"
     ]
    },
    {
     "name": "stdout",
     "output_type": "stream",
     "text": [
      "Epoch 18:  20%|██        | 40/200 [00:09<00:37,  4.31it/s, v_num=32, train_total_loss_step=532.0, train_energy_loss_step=19.80, train_forces_loss_step=512.0, val_total_loss_step=539.0, val_energy_loss_step=47.00, val_forces_loss_step=492.0, val_total_loss_epoch=569.0, val_energy_loss_epoch=39.10, val_forces_loss_epoch=530.0, train_total_loss_epoch=612.0, train_energy_loss_epoch=41.70, train_forces_loss_epoch=570.0]"
     ]
    },
    {
     "name": "stderr",
     "output_type": "stream",
     "text": [
      "     18         40         564.982           4.029         560.952           0.775           0.898           1.850           2.430\n"
     ]
    },
    {
     "name": "stdout",
     "output_type": "stream",
     "text": [
      "Epoch 18:  25%|██▌       | 50/200 [00:11<00:34,  4.33it/s, v_num=32, train_total_loss_step=508.0, train_energy_loss_step=5.370, train_forces_loss_step=503.0, val_total_loss_step=539.0, val_energy_loss_step=47.00, val_forces_loss_step=492.0, val_total_loss_epoch=569.0, val_energy_loss_epoch=39.10, val_forces_loss_epoch=530.0, train_total_loss_epoch=612.0, train_energy_loss_epoch=41.70, train_forces_loss_epoch=570.0]"
     ]
    },
    {
     "name": "stderr",
     "output_type": "stream",
     "text": [
      "     18         50         402.848           4.193         398.655           0.738           0.916           1.487           2.049\n"
     ]
    },
    {
     "name": "stdout",
     "output_type": "stream",
     "text": [
      "Epoch 18:  30%|███       | 60/200 [00:13<00:32,  4.33it/s, v_num=32, train_total_loss_step=871.0, train_energy_loss_step=231.0, train_forces_loss_step=640.0, val_total_loss_step=539.0, val_energy_loss_step=47.00, val_forces_loss_step=492.0, val_total_loss_epoch=569.0, val_energy_loss_epoch=39.10, val_forces_loss_epoch=530.0, train_total_loss_epoch=612.0, train_energy_loss_epoch=41.70, train_forces_loss_epoch=570.0]"
     ]
    },
    {
     "name": "stderr",
     "output_type": "stream",
     "text": [
      "     18         60         598.989          78.991         519.998           3.881           3.975           1.668           2.340\n"
     ]
    },
    {
     "name": "stdout",
     "output_type": "stream",
     "text": [
      "Epoch 18:  35%|███▌      | 70/200 [00:16<00:29,  4.34it/s, v_num=32, train_total_loss_step=394.0, train_energy_loss_step=7.580, train_forces_loss_step=387.0, val_total_loss_step=539.0, val_energy_loss_step=47.00, val_forces_loss_step=492.0, val_total_loss_epoch=569.0, val_energy_loss_epoch=39.10, val_forces_loss_epoch=530.0, train_total_loss_epoch=612.0, train_energy_loss_epoch=41.70, train_forces_loss_epoch=570.0]"
     ]
    },
    {
     "name": "stderr",
     "output_type": "stream",
     "text": [
      "     18         70         382.828          20.058         362.770           1.769           2.003           1.487           1.954\n"
     ]
    },
    {
     "name": "stdout",
     "output_type": "stream",
     "text": [
      "Epoch 18:  40%|████      | 80/200 [00:18<00:27,  4.34it/s, v_num=32, train_total_loss_step=367.0, train_energy_loss_step=12.90, train_forces_loss_step=354.0, val_total_loss_step=539.0, val_energy_loss_step=47.00, val_forces_loss_step=492.0, val_total_loss_epoch=569.0, val_energy_loss_epoch=39.10, val_forces_loss_epoch=530.0, train_total_loss_epoch=612.0, train_energy_loss_epoch=41.70, train_forces_loss_epoch=570.0]"
     ]
    },
    {
     "name": "stderr",
     "output_type": "stream",
     "text": [
      "     18         80         428.352          39.891         388.461           2.612           2.825           1.494           2.022\n"
     ]
    },
    {
     "name": "stdout",
     "output_type": "stream",
     "text": [
      "Epoch 18:  45%|████▌     | 90/200 [00:20<00:25,  4.35it/s, v_num=32, train_total_loss_step=496.0, train_energy_loss_step=14.90, train_forces_loss_step=481.0, val_total_loss_step=539.0, val_energy_loss_step=47.00, val_forces_loss_step=492.0, val_total_loss_epoch=569.0, val_energy_loss_epoch=39.10, val_forces_loss_epoch=530.0, train_total_loss_epoch=612.0, train_energy_loss_epoch=41.70, train_forces_loss_epoch=570.0]"
     ]
    },
    {
     "name": "stderr",
     "output_type": "stream",
     "text": [
      "     18         90         672.830          45.580         627.250           2.675           3.019           1.832           2.570\n"
     ]
    },
    {
     "name": "stdout",
     "output_type": "stream",
     "text": [
      "Epoch 18:  50%|█████     | 100/200 [00:23<00:23,  4.35it/s, v_num=32, train_total_loss_step=641.0, train_energy_loss_step=13.00, train_forces_loss_step=628.0, val_total_loss_step=539.0, val_energy_loss_step=47.00, val_forces_loss_step=492.0, val_total_loss_epoch=569.0, val_energy_loss_epoch=39.10, val_forces_loss_epoch=530.0, train_total_loss_epoch=612.0, train_energy_loss_epoch=41.70, train_forces_loss_epoch=570.0]"
     ]
    },
    {
     "name": "stderr",
     "output_type": "stream",
     "text": [
      "     18        100         524.909         105.631         419.278           4.550           4.596           1.543           2.101\n"
     ]
    },
    {
     "name": "stdout",
     "output_type": "stream",
     "text": [
      "Epoch 18:  55%|█████▌    | 110/200 [00:25<00:20,  4.34it/s, v_num=32, train_total_loss_step=545.0, train_energy_loss_step=22.80, train_forces_loss_step=522.0, val_total_loss_step=539.0, val_energy_loss_step=47.00, val_forces_loss_step=492.0, val_total_loss_epoch=569.0, val_energy_loss_epoch=39.10, val_forces_loss_epoch=530.0, train_total_loss_epoch=612.0, train_energy_loss_epoch=41.70, train_forces_loss_epoch=570.0]"
     ]
    },
    {
     "name": "stderr",
     "output_type": "stream",
     "text": [
      "     18        110         394.907          15.818         379.088           1.538           1.779           1.527           1.998\n"
     ]
    },
    {
     "name": "stdout",
     "output_type": "stream",
     "text": [
      "Epoch 18:  60%|██████    | 120/200 [00:27<00:18,  4.34it/s, v_num=32, train_total_loss_step=627.0, train_energy_loss_step=126.0, train_forces_loss_step=501.0, val_total_loss_step=539.0, val_energy_loss_step=47.00, val_forces_loss_step=492.0, val_total_loss_epoch=569.0, val_energy_loss_epoch=39.10, val_forces_loss_epoch=530.0, train_total_loss_epoch=612.0, train_energy_loss_epoch=41.70, train_forces_loss_epoch=570.0]"
     ]
    },
    {
     "name": "stderr",
     "output_type": "stream",
     "text": [
      "     18        120         812.719          46.530         766.189           2.819           3.051           2.076           2.840\n"
     ]
    },
    {
     "name": "stdout",
     "output_type": "stream",
     "text": [
      "Epoch 18:  65%|██████▌   | 130/200 [00:29<00:16,  4.34it/s, v_num=32, train_total_loss_step=676.0, train_energy_loss_step=1.730, train_forces_loss_step=674.0, val_total_loss_step=539.0, val_energy_loss_step=47.00, val_forces_loss_step=492.0, val_total_loss_epoch=569.0, val_energy_loss_epoch=39.10, val_forces_loss_epoch=530.0, train_total_loss_epoch=612.0, train_energy_loss_epoch=41.70, train_forces_loss_epoch=570.0]"
     ]
    },
    {
     "name": "stderr",
     "output_type": "stream",
     "text": [
      "     18        130         363.882           3.897         359.985           0.719           0.883           1.491           1.947\n"
     ]
    },
    {
     "name": "stdout",
     "output_type": "stream",
     "text": [
      "Epoch 18:  70%|███████   | 140/200 [00:32<00:13,  4.34it/s, v_num=32, train_total_loss_step=517.0, train_energy_loss_step=8.290, train_forces_loss_step=508.0, val_total_loss_step=539.0, val_energy_loss_step=47.00, val_forces_loss_step=492.0, val_total_loss_epoch=569.0, val_energy_loss_epoch=39.10, val_forces_loss_epoch=530.0, train_total_loss_epoch=612.0, train_energy_loss_epoch=41.70, train_forces_loss_epoch=570.0]"
     ]
    },
    {
     "name": "stderr",
     "output_type": "stream",
     "text": [
      "     18        140         321.506           6.331         315.175           0.844           1.125           1.325           1.821\n"
     ]
    },
    {
     "name": "stdout",
     "output_type": "stream",
     "text": [
      "Epoch 18:  75%|███████▌  | 150/200 [00:34<00:11,  4.35it/s, v_num=32, train_total_loss_step=622.0, train_energy_loss_step=7.120, train_forces_loss_step=615.0, val_total_loss_step=539.0, val_energy_loss_step=47.00, val_forces_loss_step=492.0, val_total_loss_epoch=569.0, val_energy_loss_epoch=39.10, val_forces_loss_epoch=530.0, train_total_loss_epoch=612.0, train_energy_loss_epoch=41.70, train_forces_loss_epoch=570.0]"
     ]
    },
    {
     "name": "stderr",
     "output_type": "stream",
     "text": [
      "     18        150         507.902           2.014         505.888           0.512           0.635           1.683           2.308\n"
     ]
    },
    {
     "name": "stdout",
     "output_type": "stream",
     "text": [
      "Epoch 18:  80%|████████  | 160/200 [00:36<00:09,  4.35it/s, v_num=32, train_total_loss_step=514.0, train_energy_loss_step=31.40, train_forces_loss_step=483.0, val_total_loss_step=539.0, val_energy_loss_step=47.00, val_forces_loss_step=492.0, val_total_loss_epoch=569.0, val_energy_loss_epoch=39.10, val_forces_loss_epoch=530.0, train_total_loss_epoch=612.0, train_energy_loss_epoch=41.70, train_forces_loss_epoch=570.0]"
     ]
    },
    {
     "name": "stderr",
     "output_type": "stream",
     "text": [
      "     18        160         516.155           7.651         508.503           0.894           1.237           1.661           2.314\n"
     ]
    },
    {
     "name": "stdout",
     "output_type": "stream",
     "text": [
      "Epoch 18:  85%|████████▌ | 170/200 [00:39<00:06,  4.35it/s, v_num=32, train_total_loss_step=516.0, train_energy_loss_step=15.90, train_forces_loss_step=500.0, val_total_loss_step=539.0, val_energy_loss_step=47.00, val_forces_loss_step=492.0, val_total_loss_epoch=569.0, val_energy_loss_epoch=39.10, val_forces_loss_epoch=530.0, train_total_loss_epoch=612.0, train_energy_loss_epoch=41.70, train_forces_loss_epoch=570.0]"
     ]
    },
    {
     "name": "stderr",
     "output_type": "stream",
     "text": [
      "     18        170         496.742          27.838         468.904           2.287           2.360           1.712           2.222\n"
     ]
    },
    {
     "name": "stdout",
     "output_type": "stream",
     "text": [
      "Epoch 18:  90%|█████████ | 180/200 [00:41<00:04,  4.35it/s, v_num=32, train_total_loss_step=637.0, train_energy_loss_step=24.70, train_forces_loss_step=613.0, val_total_loss_step=539.0, val_energy_loss_step=47.00, val_forces_loss_step=492.0, val_total_loss_epoch=569.0, val_energy_loss_epoch=39.10, val_forces_loss_epoch=530.0, train_total_loss_epoch=612.0, train_energy_loss_epoch=41.70, train_forces_loss_epoch=570.0]"
     ]
    },
    {
     "name": "stderr",
     "output_type": "stream",
     "text": [
      "     18        180         468.317          24.518         443.799           2.062           2.214           1.635           2.161\n"
     ]
    },
    {
     "name": "stdout",
     "output_type": "stream",
     "text": [
      "Epoch 18:  95%|█████████▌| 190/200 [00:43<00:02,  4.35it/s, v_num=32, train_total_loss_step=347.0, train_energy_loss_step=7.660, train_forces_loss_step=339.0, val_total_loss_step=539.0, val_energy_loss_step=47.00, val_forces_loss_step=492.0, val_total_loss_epoch=569.0, val_energy_loss_epoch=39.10, val_forces_loss_epoch=530.0, train_total_loss_epoch=612.0, train_energy_loss_epoch=41.70, train_forces_loss_epoch=570.0]"
     ]
    },
    {
     "name": "stderr",
     "output_type": "stream",
     "text": [
      "     18        190         511.677           4.855         506.821           0.762           0.985           1.720           2.310\n"
     ]
    },
    {
     "name": "stdout",
     "output_type": "stream",
     "text": [
      "Epoch 18: 100%|██████████| 200/200 [00:45<00:00,  4.35it/s, v_num=32, train_total_loss_step=530.0, train_energy_loss_step=65.50, train_forces_loss_step=464.0, val_total_loss_step=539.0, val_energy_loss_step=47.00, val_forces_loss_step=492.0, val_total_loss_epoch=569.0, val_energy_loss_epoch=39.10, val_forces_loss_epoch=530.0, train_total_loss_epoch=612.0, train_energy_loss_epoch=41.70, train_forces_loss_epoch=570.0]"
     ]
    },
    {
     "name": "stderr",
     "output_type": "stream",
     "text": [
      "\n",
      "\n",
      "Validating\n",
      "# epoch      batch      total_loss     energy_loss     forces_loss      energy_mae     energy_rmse      forces_mae     forces_rmse\n"
     ]
    },
    {
     "name": "stdout",
     "output_type": "stream",
     "text": []
    },
    {
     "name": "stderr",
     "output_type": "stream",
     "text": [
      "     18          0         591.352          93.179         498.173           4.273           4.317           1.700           2.290\n"
     ]
    },
    {
     "name": "stdout",
     "output_type": "stream",
     "text": []
    },
    {
     "name": "stderr",
     "output_type": "stream",
     "text": [
      "     18         10         443.730          69.907         373.823           3.684           3.739           1.460           1.984\n"
     ]
    },
    {
     "name": "stdout",
     "output_type": "stream",
     "text": []
    },
    {
     "name": "stderr",
     "output_type": "stream",
     "text": [
      "     18         20         539.605          92.906         446.699           4.246           4.311           1.603           2.168\n"
     ]
    },
    {
     "name": "stdout",
     "output_type": "stream",
     "text": []
    },
    {
     "name": "stderr",
     "output_type": "stream",
     "text": [
      "     18         30         493.303          84.341         408.962           4.047           4.107           1.580           2.075\n"
     ]
    },
    {
     "name": "stdout",
     "output_type": "stream",
     "text": []
    },
    {
     "name": "stderr",
     "output_type": "stream",
     "text": [
      "     18         40         630.693          67.656         563.037           3.441           3.678           1.707           2.434\n"
     ]
    },
    {
     "name": "stdout",
     "output_type": "stream",
     "text": []
    },
    {
     "name": "stderr",
     "output_type": "stream",
     "text": [
      "     18         50         589.604          65.400         524.203           3.445           3.617           1.708           2.349\n"
     ]
    },
    {
     "name": "stdout",
     "output_type": "stream",
     "text": []
    },
    {
     "name": "stderr",
     "output_type": "stream",
     "text": [
      "     18         60         472.663          72.656         400.007           3.664           3.812           1.554           2.052\n"
     ]
    },
    {
     "name": "stdout",
     "output_type": "stream",
     "text": []
    },
    {
     "name": "stderr",
     "output_type": "stream",
     "text": [
      "     18         70         408.383          61.638         346.745           3.449           3.511           1.426           1.910\n"
     ]
    },
    {
     "name": "stdout",
     "output_type": "stream",
     "text": []
    },
    {
     "name": "stderr",
     "output_type": "stream",
     "text": [
      "     18         80         603.031          76.684         526.347           3.777           3.916           1.717           2.354\n"
     ]
    },
    {
     "name": "stdout",
     "output_type": "stream",
     "text": []
    },
    {
     "name": "stderr",
     "output_type": "stream",
     "text": [
      "     18         90         512.410          81.694         430.716           3.996           4.042           1.542           2.129\n"
     ]
    },
    {
     "name": "stdout",
     "output_type": "stream",
     "text": []
    },
    {
     "name": "stderr",
     "output_type": "stream",
     "text": [
      "     18        100         667.828          82.467         585.361           3.930           4.061           1.728           2.482\n"
     ]
    },
    {
     "name": "stdout",
     "output_type": "stream",
     "text": []
    },
    {
     "name": "stderr",
     "output_type": "stream",
     "text": [
      "     18        110         455.452          62.181         393.271           3.430           3.527           1.498           2.035\n"
     ]
    },
    {
     "name": "stdout",
     "output_type": "stream",
     "text": []
    },
    {
     "name": "stderr",
     "output_type": "stream",
     "text": [
      "     18        120         469.300          89.677         379.624           4.164           4.235           1.477           1.999\n"
     ]
    },
    {
     "name": "stdout",
     "output_type": "stream",
     "text": []
    },
    {
     "name": "stderr",
     "output_type": "stream",
     "text": [
      "\n",
      "\n",
      "Epoch summary:\n",
      "Validation  # epoch      total_loss     energy_loss     forces_loss      energy_mae     energy_rmse      forces_mae     forces_rmse\n",
      "                 18         529.977          67.792         462.185           3.551           3.682           1.595           2.206\n"
     ]
    },
    {
     "name": "stdout",
     "output_type": "stream",
     "text": [
      "Epoch 18: 100%|██████████| 200/200 [01:09<00:00,  2.87it/s, v_num=32, train_total_loss_step=530.0, train_energy_loss_step=65.50, train_forces_loss_step=464.0, val_total_loss_step=560.0, val_energy_loss_step=66.10, val_forces_loss_step=494.0, val_total_loss_epoch=530.0, val_energy_loss_epoch=67.80, val_forces_loss_epoch=462.0, train_total_loss_epoch=545.0, train_energy_loss_epoch=36.70, train_forces_loss_epoch=508.0]"
     ]
    },
    {
     "name": "stderr",
     "output_type": "stream",
     "text": [
      "Train       # epoch      total_loss     energy_loss     forces_loss      energy_mae     energy_rmse      forces_mae     forces_rmse\n",
      "                 18         544.587          36.662         507.925           2.186           2.708           1.692           2.312\n"
     ]
    },
    {
     "name": "stdout",
     "output_type": "stream",
     "text": [
      "Epoch 19:   0%|          | 0/200 [00:00<?, ?it/s, v_num=32, train_total_loss_step=530.0, train_energy_loss_step=65.50, train_forces_loss_step=464.0, val_total_loss_step=560.0, val_energy_loss_step=66.10, val_forces_loss_step=494.0, val_total_loss_epoch=530.0, val_energy_loss_epoch=67.80, val_forces_loss_epoch=462.0, train_total_loss_epoch=545.0, train_energy_loss_epoch=36.70, train_forces_loss_epoch=508.0]          "
     ]
    },
    {
     "name": "stderr",
     "output_type": "stream",
     "text": [
      "\n",
      "\n",
      "Training\n",
      "# epoch      batch      total_loss     energy_loss     forces_loss      energy_mae     energy_rmse      forces_mae     forces_rmse\n",
      "     19          0         478.470          69.912         408.558           3.713           3.739           1.560           2.074\n"
     ]
    },
    {
     "name": "stdout",
     "output_type": "stream",
     "text": [
      "Epoch 19:   5%|▌         | 10/200 [00:02<00:45,  4.16it/s, v_num=32, train_total_loss_step=514.0, train_energy_loss_step=34.90, train_forces_loss_step=479.0, val_total_loss_step=560.0, val_energy_loss_step=66.10, val_forces_loss_step=494.0, val_total_loss_epoch=530.0, val_energy_loss_epoch=67.80, val_forces_loss_epoch=462.0, train_total_loss_epoch=545.0, train_energy_loss_epoch=36.70, train_forces_loss_epoch=508.0]"
     ]
    },
    {
     "name": "stderr",
     "output_type": "stream",
     "text": [
      "     19         10         395.252          23.472         371.781           2.006           2.167           1.474           1.978\n"
     ]
    },
    {
     "name": "stdout",
     "output_type": "stream",
     "text": [
      "Epoch 19:  10%|█         | 20/200 [00:04<00:42,  4.26it/s, v_num=32, train_total_loss_step=509.0, train_energy_loss_step=6.080, train_forces_loss_step=502.0, val_total_loss_step=560.0, val_energy_loss_step=66.10, val_forces_loss_step=494.0, val_total_loss_epoch=530.0, val_energy_loss_epoch=67.80, val_forces_loss_epoch=462.0, train_total_loss_epoch=545.0, train_energy_loss_epoch=36.70, train_forces_loss_epoch=508.0]"
     ]
    },
    {
     "name": "stderr",
     "output_type": "stream",
     "text": [
      "     19         20         337.972          24.597         313.375           2.106           2.218           1.296           1.816\n"
     ]
    },
    {
     "name": "stdout",
     "output_type": "stream",
     "text": [
      "Epoch 19:  15%|█▌        | 30/200 [00:07<00:39,  4.28it/s, v_num=32, train_total_loss_step=323.0, train_energy_loss_step=0.680, train_forces_loss_step=322.0, val_total_loss_step=560.0, val_energy_loss_step=66.10, val_forces_loss_step=494.0, val_total_loss_epoch=530.0, val_energy_loss_epoch=67.80, val_forces_loss_epoch=462.0, train_total_loss_epoch=545.0, train_energy_loss_epoch=36.70, train_forces_loss_epoch=508.0]"
     ]
    },
    {
     "name": "stderr",
     "output_type": "stream",
     "text": [
      "     19         30         487.678         101.399         386.279           4.406           4.503           1.388           2.016\n"
     ]
    },
    {
     "name": "stdout",
     "output_type": "stream",
     "text": [
      "Epoch 19:  20%|██        | 40/200 [00:09<00:37,  4.30it/s, v_num=32, train_total_loss_step=572.0, train_energy_loss_step=40.20, train_forces_loss_step=532.0, val_total_loss_step=560.0, val_energy_loss_step=66.10, val_forces_loss_step=494.0, val_total_loss_epoch=530.0, val_energy_loss_epoch=67.80, val_forces_loss_epoch=462.0, train_total_loss_epoch=545.0, train_energy_loss_epoch=36.70, train_forces_loss_epoch=508.0]"
     ]
    },
    {
     "name": "stderr",
     "output_type": "stream",
     "text": [
      "     19         40         375.718          12.445         363.273           1.425           1.578           1.437           1.955\n"
     ]
    },
    {
     "name": "stdout",
     "output_type": "stream",
     "text": [
      "Epoch 19:  25%|██▌       | 50/200 [00:11<00:34,  4.31it/s, v_num=32, train_total_loss_step=472.0, train_energy_loss_step=14.20, train_forces_loss_step=458.0, val_total_loss_step=560.0, val_energy_loss_step=66.10, val_forces_loss_step=494.0, val_total_loss_epoch=530.0, val_energy_loss_epoch=67.80, val_forces_loss_epoch=462.0, train_total_loss_epoch=545.0, train_energy_loss_epoch=36.70, train_forces_loss_epoch=508.0]"
     ]
    },
    {
     "name": "stderr",
     "output_type": "stream",
     "text": [
      "     19         50         626.534          37.804         588.730           2.606           2.750           1.894           2.489\n"
     ]
    },
    {
     "name": "stdout",
     "output_type": "stream",
     "text": [
      "Epoch 19:  30%|███       | 60/200 [00:13<00:32,  4.32it/s, v_num=32, train_total_loss_step=527.0, train_energy_loss_step=57.80, train_forces_loss_step=469.0, val_total_loss_step=560.0, val_energy_loss_step=66.10, val_forces_loss_step=494.0, val_total_loss_epoch=530.0, val_energy_loss_epoch=67.80, val_forces_loss_epoch=462.0, train_total_loss_epoch=545.0, train_energy_loss_epoch=36.70, train_forces_loss_epoch=508.0]"
     ]
    },
    {
     "name": "stderr",
     "output_type": "stream",
     "text": [
      "     19         60         690.158          21.015         669.144           1.869           2.050           2.099           2.654\n"
     ]
    },
    {
     "name": "stdout",
     "output_type": "stream",
     "text": [
      "Epoch 19:  35%|███▌      | 70/200 [00:16<00:30,  4.31it/s, v_num=32, train_total_loss_step=656.0, train_energy_loss_step=132.0, train_forces_loss_step=524.0, val_total_loss_step=560.0, val_energy_loss_step=66.10, val_forces_loss_step=494.0, val_total_loss_epoch=530.0, val_energy_loss_epoch=67.80, val_forces_loss_epoch=462.0, train_total_loss_epoch=545.0, train_energy_loss_epoch=36.70, train_forces_loss_epoch=508.0]"
     ]
    },
    {
     "name": "stderr",
     "output_type": "stream",
     "text": [
      "     19         70         567.935          34.047         533.889           2.375           2.609           1.813           2.371\n"
     ]
    },
    {
     "name": "stdout",
     "output_type": "stream",
     "text": [
      "Epoch 19:  40%|████      | 80/200 [00:18<00:27,  4.31it/s, v_num=32, train_total_loss_step=505.0, train_energy_loss_step=7.560, train_forces_loss_step=497.0, val_total_loss_step=560.0, val_energy_loss_step=66.10, val_forces_loss_step=494.0, val_total_loss_epoch=530.0, val_energy_loss_epoch=67.80, val_forces_loss_epoch=462.0, train_total_loss_epoch=545.0, train_energy_loss_epoch=36.70, train_forces_loss_epoch=508.0]"
     ]
    },
    {
     "name": "stderr",
     "output_type": "stream",
     "text": [
      "     19         80        1005.348          43.888         961.461           2.819           2.963           2.293           3.181\n"
     ]
    },
    {
     "name": "stdout",
     "output_type": "stream",
     "text": [
      "Epoch 19:  45%|████▌     | 90/200 [00:20<00:25,  4.31it/s, v_num=32, train_total_loss_step=365.0, train_energy_loss_step=27.80, train_forces_loss_step=337.0, val_total_loss_step=560.0, val_energy_loss_step=66.10, val_forces_loss_step=494.0, val_total_loss_epoch=530.0, val_energy_loss_epoch=67.80, val_forces_loss_epoch=462.0, train_total_loss_epoch=545.0, train_energy_loss_epoch=36.70, train_forces_loss_epoch=508.0]  "
     ]
    },
    {
     "name": "stderr",
     "output_type": "stream",
     "text": [
      "     19         90         401.199           7.318         393.880           1.038           1.210           1.493           2.036\n"
     ]
    },
    {
     "name": "stdout",
     "output_type": "stream",
     "text": [
      "Epoch 19:  50%|█████     | 100/200 [00:23<00:23,  4.32it/s, v_num=32, train_total_loss_step=436.0, train_energy_loss_step=53.40, train_forces_loss_step=383.0, val_total_loss_step=560.0, val_energy_loss_step=66.10, val_forces_loss_step=494.0, val_total_loss_epoch=530.0, val_energy_loss_epoch=67.80, val_forces_loss_epoch=462.0, train_total_loss_epoch=545.0, train_energy_loss_epoch=36.70, train_forces_loss_epoch=508.0]"
     ]
    },
    {
     "name": "stderr",
     "output_type": "stream",
     "text": [
      "     19        100         599.893         135.353         464.541           5.169           5.203           1.646           2.211\n"
     ]
    },
    {
     "name": "stdout",
     "output_type": "stream",
     "text": [
      "Epoch 19:  55%|█████▌    | 110/200 [00:25<00:20,  4.31it/s, v_num=32, train_total_loss_step=706.0, train_energy_loss_step=49.70, train_forces_loss_step=656.0, val_total_loss_step=560.0, val_energy_loss_step=66.10, val_forces_loss_step=494.0, val_total_loss_epoch=530.0, val_energy_loss_epoch=67.80, val_forces_loss_epoch=462.0, train_total_loss_epoch=545.0, train_energy_loss_epoch=36.70, train_forces_loss_epoch=508.0]"
     ]
    },
    {
     "name": "stderr",
     "output_type": "stream",
     "text": [
      "     19        110         841.389         111.076         730.313           4.637           4.713           2.079           2.773\n"
     ]
    },
    {
     "name": "stdout",
     "output_type": "stream",
     "text": [
      "Epoch 19:  60%|██████    | 120/200 [00:27<00:18,  4.31it/s, v_num=32, train_total_loss_step=628.0, train_energy_loss_step=101.0, train_forces_loss_step=527.0, val_total_loss_step=560.0, val_energy_loss_step=66.10, val_forces_loss_step=494.0, val_total_loss_epoch=530.0, val_energy_loss_epoch=67.80, val_forces_loss_epoch=462.0, train_total_loss_epoch=545.0, train_energy_loss_epoch=36.70, train_forces_loss_epoch=508.0]    "
     ]
    },
    {
     "name": "stderr",
     "output_type": "stream",
     "text": [
      "     19        120         820.781         313.960         506.822           7.894           7.924           1.691           2.310\n"
     ]
    },
    {
     "name": "stdout",
     "output_type": "stream",
     "text": [
      "Epoch 19:  65%|██████▌   | 130/200 [00:30<00:16,  4.32it/s, v_num=32, train_total_loss_step=809.0, train_energy_loss_step=250.0, train_forces_loss_step=559.0, val_total_loss_step=560.0, val_energy_loss_step=66.10, val_forces_loss_step=494.0, val_total_loss_epoch=530.0, val_energy_loss_epoch=67.80, val_forces_loss_epoch=462.0, train_total_loss_epoch=545.0, train_energy_loss_epoch=36.70, train_forces_loss_epoch=508.0]  "
     ]
    },
    {
     "name": "stderr",
     "output_type": "stream",
     "text": [
      "     19        130         500.345          13.022         487.323           1.556           1.614           1.708           2.265\n"
     ]
    },
    {
     "name": "stdout",
     "output_type": "stream",
     "text": [
      "Epoch 19:  70%|███████   | 140/200 [00:32<00:13,  4.31it/s, v_num=32, train_total_loss_step=541.0, train_energy_loss_step=33.80, train_forces_loss_step=507.0, val_total_loss_step=560.0, val_energy_loss_step=66.10, val_forces_loss_step=494.0, val_total_loss_epoch=530.0, val_energy_loss_epoch=67.80, val_forces_loss_epoch=462.0, train_total_loss_epoch=545.0, train_energy_loss_epoch=36.70, train_forces_loss_epoch=508.0]"
     ]
    },
    {
     "name": "stderr",
     "output_type": "stream",
     "text": [
      "     19        140         658.608          11.986         646.622           1.375           1.548           1.978           2.609\n"
     ]
    },
    {
     "name": "stdout",
     "output_type": "stream",
     "text": [
      "Epoch 19:  75%|███████▌  | 150/200 [00:34<00:11,  4.31it/s, v_num=32, train_total_loss_step=513.0, train_energy_loss_step=7.000, train_forces_loss_step=506.0, val_total_loss_step=560.0, val_energy_loss_step=66.10, val_forces_loss_step=494.0, val_total_loss_epoch=530.0, val_energy_loss_epoch=67.80, val_forces_loss_epoch=462.0, train_total_loss_epoch=545.0, train_energy_loss_epoch=36.70, train_forces_loss_epoch=508.0]"
     ]
    },
    {
     "name": "stderr",
     "output_type": "stream",
     "text": [
      "     19        150         433.726          17.995         415.731           1.706           1.897           1.524           2.092\n"
     ]
    },
    {
     "name": "stdout",
     "output_type": "stream",
     "text": [
      "Epoch 19:  80%|████████  | 160/200 [00:37<00:09,  4.31it/s, v_num=32, train_total_loss_step=352.0, train_energy_loss_step=33.10, train_forces_loss_step=319.0, val_total_loss_step=560.0, val_energy_loss_step=66.10, val_forces_loss_step=494.0, val_total_loss_epoch=530.0, val_energy_loss_epoch=67.80, val_forces_loss_epoch=462.0, train_total_loss_epoch=545.0, train_energy_loss_epoch=36.70, train_forces_loss_epoch=508.0]"
     ]
    },
    {
     "name": "stderr",
     "output_type": "stream",
     "text": [
      "     19        160         432.237          41.242         390.994           2.800           2.872           1.543           2.029\n"
     ]
    },
    {
     "name": "stdout",
     "output_type": "stream",
     "text": [
      "Epoch 19:  85%|████████▌ | 170/200 [00:39<00:06,  4.31it/s, v_num=32, train_total_loss_step=418.0, train_energy_loss_step=5.820, train_forces_loss_step=413.0, val_total_loss_step=560.0, val_energy_loss_step=66.10, val_forces_loss_step=494.0, val_total_loss_epoch=530.0, val_energy_loss_epoch=67.80, val_forces_loss_epoch=462.0, train_total_loss_epoch=545.0, train_energy_loss_epoch=36.70, train_forces_loss_epoch=508.0]"
     ]
    },
    {
     "name": "stderr",
     "output_type": "stream",
     "text": [
      "     19        170         665.413          32.711         632.702           2.412           2.558           1.978           2.581\n"
     ]
    },
    {
     "name": "stdout",
     "output_type": "stream",
     "text": [
      "Epoch 19:  90%|█████████ | 180/200 [00:41<00:04,  4.31it/s, v_num=32, train_total_loss_step=459.0, train_energy_loss_step=52.70, train_forces_loss_step=406.0, val_total_loss_step=560.0, val_energy_loss_step=66.10, val_forces_loss_step=494.0, val_total_loss_epoch=530.0, val_energy_loss_epoch=67.80, val_forces_loss_epoch=462.0, train_total_loss_epoch=545.0, train_energy_loss_epoch=36.70, train_forces_loss_epoch=508.0]"
     ]
    },
    {
     "name": "stderr",
     "output_type": "stream",
     "text": [
      "     19        180         492.961          86.320         406.641           3.963           4.155           1.444           2.069\n"
     ]
    },
    {
     "name": "stdout",
     "output_type": "stream",
     "text": [
      "Epoch 19:  95%|█████████▌| 190/200 [00:44<00:02,  4.32it/s, v_num=32, train_total_loss_step=317.0, train_energy_loss_step=2.670, train_forces_loss_step=315.0, val_total_loss_step=560.0, val_energy_loss_step=66.10, val_forces_loss_step=494.0, val_total_loss_epoch=530.0, val_energy_loss_epoch=67.80, val_forces_loss_epoch=462.0, train_total_loss_epoch=545.0, train_energy_loss_epoch=36.70, train_forces_loss_epoch=508.0]"
     ]
    },
    {
     "name": "stderr",
     "output_type": "stream",
     "text": [
      "     19        190         437.582          27.503         410.079           2.081           2.345           1.551           2.078\n"
     ]
    },
    {
     "name": "stdout",
     "output_type": "stream",
     "text": [
      "Epoch 19: 100%|██████████| 200/200 [00:46<00:00,  4.32it/s, v_num=32, train_total_loss_step=567.0, train_energy_loss_step=11.10, train_forces_loss_step=556.0, val_total_loss_step=560.0, val_energy_loss_step=66.10, val_forces_loss_step=494.0, val_total_loss_epoch=530.0, val_energy_loss_epoch=67.80, val_forces_loss_epoch=462.0, train_total_loss_epoch=545.0, train_energy_loss_epoch=36.70, train_forces_loss_epoch=508.0]"
     ]
    },
    {
     "name": "stderr",
     "output_type": "stream",
     "text": [
      "\n",
      "\n",
      "Validating\n",
      "# epoch      batch      total_loss     energy_loss     forces_loss      energy_mae     energy_rmse      forces_mae     forces_rmse\n"
     ]
    },
    {
     "name": "stdout",
     "output_type": "stream",
     "text": []
    },
    {
     "name": "stderr",
     "output_type": "stream",
     "text": [
      "     19          0         462.696           6.580         456.116           0.965           1.147           1.628           2.191\n"
     ]
    },
    {
     "name": "stdout",
     "output_type": "stream",
     "text": []
    },
    {
     "name": "stderr",
     "output_type": "stream",
     "text": [
      "     19         10         372.758          17.263         355.495           1.734           1.858           1.416           1.934\n"
     ]
    },
    {
     "name": "stdout",
     "output_type": "stream",
     "text": []
    },
    {
     "name": "stderr",
     "output_type": "stream",
     "text": [
      "     19         20         459.496          13.719         445.777           1.371           1.656           1.522           2.166\n"
     ]
    },
    {
     "name": "stdout",
     "output_type": "stream",
     "text": []
    },
    {
     "name": "stderr",
     "output_type": "stream",
     "text": [
      "     19         30         502.420          17.943         484.477           1.598           1.894           1.690           2.258\n"
     ]
    },
    {
     "name": "stdout",
     "output_type": "stream",
     "text": []
    },
    {
     "name": "stderr",
     "output_type": "stream",
     "text": [
      "     19         40         536.822          29.968         506.855           2.129           2.448           1.682           2.310\n"
     ]
    },
    {
     "name": "stdout",
     "output_type": "stream",
     "text": []
    },
    {
     "name": "stderr",
     "output_type": "stream",
     "text": [
      "     19         50         544.058          21.899         522.159           1.914           2.093           1.685           2.344\n"
     ]
    },
    {
     "name": "stdout",
     "output_type": "stream",
     "text": []
    },
    {
     "name": "stderr",
     "output_type": "stream",
     "text": [
      "     19         60         511.058          19.341         491.717           1.633           1.967           1.645           2.275\n"
     ]
    },
    {
     "name": "stdout",
     "output_type": "stream",
     "text": []
    },
    {
     "name": "stderr",
     "output_type": "stream",
     "text": [
      "     19         70         433.365          28.500         404.866           2.266           2.387           1.505           2.064\n"
     ]
    },
    {
     "name": "stdout",
     "output_type": "stream",
     "text": []
    },
    {
     "name": "stderr",
     "output_type": "stream",
     "text": [
      "     19         80         404.940          20.085         384.855           1.738           2.004           1.477           2.013\n"
     ]
    },
    {
     "name": "stdout",
     "output_type": "stream",
     "text": []
    },
    {
     "name": "stderr",
     "output_type": "stream",
     "text": [
      "     19         90         438.896          12.824         426.072           1.449           1.602           1.512           2.118\n"
     ]
    },
    {
     "name": "stdout",
     "output_type": "stream",
     "text": []
    },
    {
     "name": "stderr",
     "output_type": "stream",
     "text": [
      "     19        100         594.647          18.383         576.264           1.746           1.917           1.648           2.463\n"
     ]
    },
    {
     "name": "stdout",
     "output_type": "stream",
     "text": []
    },
    {
     "name": "stderr",
     "output_type": "stream",
     "text": [
      "     19        110         348.847          21.167         327.680           1.844           2.058           1.348           1.857\n"
     ]
    },
    {
     "name": "stdout",
     "output_type": "stream",
     "text": []
    },
    {
     "name": "stderr",
     "output_type": "stream",
     "text": [
      "     19        120         395.055          12.510         382.544           1.270           1.582           1.445           2.007\n"
     ]
    },
    {
     "name": "stdout",
     "output_type": "stream",
     "text": []
    },
    {
     "name": "stderr",
     "output_type": "stream",
     "text": [
      "\n",
      "\n",
      "Epoch summary:\n",
      "Validation  # epoch      total_loss     energy_loss     forces_loss      energy_mae     energy_rmse      forces_mae     forces_rmse\n",
      "                 19         473.322          21.637         451.686           1.843           2.080           1.561           2.181\n"
     ]
    },
    {
     "name": "stdout",
     "output_type": "stream",
     "text": [
      "Epoch 19: 100%|██████████| 200/200 [01:10<00:00,  2.85it/s, v_num=32, train_total_loss_step=567.0, train_energy_loss_step=11.10, train_forces_loss_step=556.0, val_total_loss_step=540.0, val_energy_loss_step=15.20, val_forces_loss_step=525.0, val_total_loss_epoch=473.0, val_energy_loss_epoch=21.60, val_forces_loss_epoch=452.0, train_total_loss_epoch=548.0, train_energy_loss_epoch=61.80, train_forces_loss_epoch=486.0]"
     ]
    },
    {
     "name": "stderr",
     "output_type": "stream",
     "text": [
      "Train       # epoch      total_loss     energy_loss     forces_loss      energy_mae     energy_rmse      forces_mae     forces_rmse\n",
      "                 19         548.035          61.759         486.276           2.837           3.515           1.660           2.262\n"
     ]
    },
    {
     "name": "stdout",
     "output_type": "stream",
     "text": [
      "Epoch 20:   0%|          | 0/200 [00:00<?, ?it/s, v_num=32, train_total_loss_step=567.0, train_energy_loss_step=11.10, train_forces_loss_step=556.0, val_total_loss_step=540.0, val_energy_loss_step=15.20, val_forces_loss_step=525.0, val_total_loss_epoch=473.0, val_energy_loss_epoch=21.60, val_forces_loss_epoch=452.0, train_total_loss_epoch=548.0, train_energy_loss_epoch=61.80, train_forces_loss_epoch=486.0]          "
     ]
    },
    {
     "name": "stderr",
     "output_type": "stream",
     "text": [
      "\n",
      "\n",
      "Training\n",
      "# epoch      batch      total_loss     energy_loss     forces_loss      energy_mae     energy_rmse      forces_mae     forces_rmse\n",
      "     20          0         471.769          20.655         451.113           1.831           2.032           1.598           2.179\n"
     ]
    },
    {
     "name": "stdout",
     "output_type": "stream",
     "text": [
      "Epoch 20:   5%|▌         | 10/200 [00:02<00:45,  4.14it/s, v_num=32, train_total_loss_step=485.0, train_energy_loss_step=60.20, train_forces_loss_step=425.0, val_total_loss_step=540.0, val_energy_loss_step=15.20, val_forces_loss_step=525.0, val_total_loss_epoch=473.0, val_energy_loss_epoch=21.60, val_forces_loss_epoch=452.0, train_total_loss_epoch=548.0, train_energy_loss_epoch=61.80, train_forces_loss_epoch=486.0]"
     ]
    },
    {
     "name": "stderr",
     "output_type": "stream",
     "text": [
      "     20         10         485.395           2.830         482.565           0.587           0.752           1.620           2.254\n"
     ]
    },
    {
     "name": "stdout",
     "output_type": "stream",
     "text": [
      "Epoch 20:  10%|█         | 20/200 [00:04<00:42,  4.24it/s, v_num=32, train_total_loss_step=572.0, train_energy_loss_step=50.00, train_forces_loss_step=522.0, val_total_loss_step=540.0, val_energy_loss_step=15.20, val_forces_loss_step=525.0, val_total_loss_epoch=473.0, val_energy_loss_epoch=21.60, val_forces_loss_epoch=452.0, train_total_loss_epoch=548.0, train_energy_loss_epoch=61.80, train_forces_loss_epoch=486.0]"
     ]
    },
    {
     "name": "stderr",
     "output_type": "stream",
     "text": [
      "     20         20         651.080           1.833         649.247           0.556           0.605           1.819           2.614\n"
     ]
    },
    {
     "name": "stdout",
     "output_type": "stream",
     "text": [
      "Epoch 20:  15%|█▌        | 30/200 [00:07<00:39,  4.28it/s, v_num=32, train_total_loss_step=470.0, train_energy_loss_step=62.50, train_forces_loss_step=407.0, val_total_loss_step=540.0, val_energy_loss_step=15.20, val_forces_loss_step=525.0, val_total_loss_epoch=473.0, val_energy_loss_epoch=21.60, val_forces_loss_epoch=452.0, train_total_loss_epoch=548.0, train_energy_loss_epoch=61.80, train_forces_loss_epoch=486.0]"
     ]
    },
    {
     "name": "stderr",
     "output_type": "stream",
     "text": [
      "     20         30         665.102           9.117         655.984           1.150           1.350           1.896           2.628\n"
     ]
    },
    {
     "name": "stdout",
     "output_type": "stream",
     "text": [
      "Epoch 20:  20%|██        | 40/200 [00:09<00:37,  4.30it/s, v_num=32, train_total_loss_step=585.0, train_energy_loss_step=51.00, train_forces_loss_step=534.0, val_total_loss_step=540.0, val_energy_loss_step=15.20, val_forces_loss_step=525.0, val_total_loss_epoch=473.0, val_energy_loss_epoch=21.60, val_forces_loss_epoch=452.0, train_total_loss_epoch=548.0, train_energy_loss_epoch=61.80, train_forces_loss_epoch=486.0]    "
     ]
    },
    {
     "name": "stderr",
     "output_type": "stream",
     "text": [
      "     20         40        1288.244         187.148        1101.096           6.075           6.118           2.502           3.404\n"
     ]
    },
    {
     "name": "stdout",
     "output_type": "stream",
     "text": [
      "Epoch 20:  25%|██▌       | 50/200 [00:11<00:34,  4.31it/s, v_num=32, train_total_loss_step=991.0, train_energy_loss_step=247.0, train_forces_loss_step=744.0, val_total_loss_step=540.0, val_energy_loss_step=15.20, val_forces_loss_step=525.0, val_total_loss_epoch=473.0, val_energy_loss_epoch=21.60, val_forces_loss_epoch=452.0, train_total_loss_epoch=548.0, train_energy_loss_epoch=61.80, train_forces_loss_epoch=486.0]   "
     ]
    },
    {
     "name": "stderr",
     "output_type": "stream",
     "text": [
      "     20         50         599.281          91.663         507.618           4.269           4.282           1.728           2.312\n"
     ]
    },
    {
     "name": "stdout",
     "output_type": "stream",
     "text": [
      "Epoch 20:  30%|███       | 60/200 [00:13<00:32,  4.31it/s, v_num=32, train_total_loss_step=872.0, train_energy_loss_step=194.0, train_forces_loss_step=678.0, val_total_loss_step=540.0, val_energy_loss_step=15.20, val_forces_loss_step=525.0, val_total_loss_epoch=473.0, val_energy_loss_epoch=21.60, val_forces_loss_epoch=452.0, train_total_loss_epoch=548.0, train_energy_loss_epoch=61.80, train_forces_loss_epoch=486.0]"
     ]
    },
    {
     "name": "stderr",
     "output_type": "stream",
     "text": [
      "     20         60         594.208          13.604         580.604           1.494           1.650           1.848           2.472\n"
     ]
    },
    {
     "name": "stdout",
     "output_type": "stream",
     "text": [
      "Epoch 20:  35%|███▌      | 70/200 [00:16<00:30,  4.31it/s, v_num=32, train_total_loss_step=628.0, train_energy_loss_step=131.0, train_forces_loss_step=497.0, val_total_loss_step=540.0, val_energy_loss_step=15.20, val_forces_loss_step=525.0, val_total_loss_epoch=473.0, val_energy_loss_epoch=21.60, val_forces_loss_epoch=452.0, train_total_loss_epoch=548.0, train_energy_loss_epoch=61.80, train_forces_loss_epoch=486.0]  "
     ]
    },
    {
     "name": "stderr",
     "output_type": "stream",
     "text": [
      "     20         70         863.529         158.173         705.356           5.406           5.624           1.890           2.725\n"
     ]
    },
    {
     "name": "stdout",
     "output_type": "stream",
     "text": [
      "Epoch 20:  40%|████      | 80/200 [00:18<00:27,  4.32it/s, v_num=32, train_total_loss_step=480.0, train_energy_loss_step=27.00, train_forces_loss_step=453.0, val_total_loss_step=540.0, val_energy_loss_step=15.20, val_forces_loss_step=525.0, val_total_loss_epoch=473.0, val_energy_loss_epoch=21.60, val_forces_loss_epoch=452.0, train_total_loss_epoch=548.0, train_energy_loss_epoch=61.80, train_forces_loss_epoch=486.0]"
     ]
    },
    {
     "name": "stderr",
     "output_type": "stream",
     "text": [
      "     20         80         553.241         154.998         398.243           5.450           5.568           1.485           2.047\n"
     ]
    },
    {
     "name": "stdout",
     "output_type": "stream",
     "text": [
      "Epoch 20:  45%|████▌     | 90/200 [00:20<00:25,  4.32it/s, v_num=32, train_total_loss_step=515.0, train_energy_loss_step=6.050, train_forces_loss_step=509.0, val_total_loss_step=540.0, val_energy_loss_step=15.20, val_forces_loss_step=525.0, val_total_loss_epoch=473.0, val_energy_loss_epoch=21.60, val_forces_loss_epoch=452.0, train_total_loss_epoch=548.0, train_energy_loss_epoch=61.80, train_forces_loss_epoch=486.0]"
     ]
    },
    {
     "name": "stderr",
     "output_type": "stream",
     "text": [
      "     20         90         332.268           2.547         329.721           0.688           0.714           1.461           1.863\n"
     ]
    },
    {
     "name": "stdout",
     "output_type": "stream",
     "text": [
      "Epoch 20:  50%|█████     | 100/200 [00:23<00:23,  4.33it/s, v_num=32, train_total_loss_step=518.0, train_energy_loss_step=27.20, train_forces_loss_step=491.0, val_total_loss_step=540.0, val_energy_loss_step=15.20, val_forces_loss_step=525.0, val_total_loss_epoch=473.0, val_energy_loss_epoch=21.60, val_forces_loss_epoch=452.0, train_total_loss_epoch=548.0, train_energy_loss_epoch=61.80, train_forces_loss_epoch=486.0]"
     ]
    },
    {
     "name": "stderr",
     "output_type": "stream",
     "text": [
      "     20        100         444.688          42.435         402.254           2.869           2.913           1.460           2.058\n"
     ]
    },
    {
     "name": "stdout",
     "output_type": "stream",
     "text": [
      "Epoch 20:  55%|█████▌    | 110/200 [00:25<00:20,  4.32it/s, v_num=32, train_total_loss_step=566.0, train_energy_loss_step=43.90, train_forces_loss_step=522.0, val_total_loss_step=540.0, val_energy_loss_step=15.20, val_forces_loss_step=525.0, val_total_loss_epoch=473.0, val_energy_loss_epoch=21.60, val_forces_loss_epoch=452.0, train_total_loss_epoch=548.0, train_energy_loss_epoch=61.80, train_forces_loss_epoch=486.0]"
     ]
    },
    {
     "name": "stderr",
     "output_type": "stream",
     "text": [
      "     20        110         442.413          81.975         360.438           4.025           4.049           1.423           1.948\n"
     ]
    },
    {
     "name": "stdout",
     "output_type": "stream",
     "text": [
      "Epoch 20:  60%|██████    | 120/200 [00:27<00:18,  4.33it/s, v_num=32, train_total_loss_step=482.0, train_energy_loss_step=28.40, train_forces_loss_step=454.0, val_total_loss_step=540.0, val_energy_loss_step=15.20, val_forces_loss_step=525.0, val_total_loss_epoch=473.0, val_energy_loss_epoch=21.60, val_forces_loss_epoch=452.0, train_total_loss_epoch=548.0, train_energy_loss_epoch=61.80, train_forces_loss_epoch=486.0] "
     ]
    },
    {
     "name": "stderr",
     "output_type": "stream",
     "text": [
      "     20        120         508.434           8.109         500.324           0.975           1.274           1.745           2.295\n"
     ]
    },
    {
     "name": "stdout",
     "output_type": "stream",
     "text": [
      "Epoch 20:  65%|██████▌   | 130/200 [00:30<00:16,  4.33it/s, v_num=32, train_total_loss_step=450.0, train_energy_loss_step=14.90, train_forces_loss_step=435.0, val_total_loss_step=540.0, val_energy_loss_step=15.20, val_forces_loss_step=525.0, val_total_loss_epoch=473.0, val_energy_loss_epoch=21.60, val_forces_loss_epoch=452.0, train_total_loss_epoch=548.0, train_energy_loss_epoch=61.80, train_forces_loss_epoch=486.0]"
     ]
    },
    {
     "name": "stderr",
     "output_type": "stream",
     "text": [
      "     20        130         355.220          25.516         329.705           2.150           2.259           1.323           1.863\n"
     ]
    },
    {
     "name": "stdout",
     "output_type": "stream",
     "text": [
      "Epoch 20:  70%|███████   | 140/200 [00:32<00:13,  4.34it/s, v_num=32, train_total_loss_step=396.0, train_energy_loss_step=25.60, train_forces_loss_step=370.0, val_total_loss_step=540.0, val_energy_loss_step=15.20, val_forces_loss_step=525.0, val_total_loss_epoch=473.0, val_energy_loss_epoch=21.60, val_forces_loss_epoch=452.0, train_total_loss_epoch=548.0, train_energy_loss_epoch=61.80, train_forces_loss_epoch=486.0]"
     ]
    },
    {
     "name": "stderr",
     "output_type": "stream",
     "text": [
      "     20        140         418.226           2.226         416.001           0.556           0.667           1.563           2.093\n"
     ]
    },
    {
     "name": "stdout",
     "output_type": "stream",
     "text": [
      "Epoch 20:  75%|███████▌  | 150/200 [00:34<00:11,  4.34it/s, v_num=32, train_total_loss_step=560.0, train_energy_loss_step=82.40, train_forces_loss_step=478.0, val_total_loss_step=540.0, val_energy_loss_step=15.20, val_forces_loss_step=525.0, val_total_loss_epoch=473.0, val_energy_loss_epoch=21.60, val_forces_loss_epoch=452.0, train_total_loss_epoch=548.0, train_energy_loss_epoch=61.80, train_forces_loss_epoch=486.0]"
     ]
    },
    {
     "name": "stderr",
     "output_type": "stream",
     "text": [
      "     20        150         490.223          60.441         429.781           3.362           3.477           1.648           2.127\n"
     ]
    },
    {
     "name": "stdout",
     "output_type": "stream",
     "text": [
      "Epoch 20:  80%|████████  | 160/200 [00:36<00:09,  4.34it/s, v_num=32, train_total_loss_step=473.0, train_energy_loss_step=30.80, train_forces_loss_step=443.0, val_total_loss_step=540.0, val_energy_loss_step=15.20, val_forces_loss_step=525.0, val_total_loss_epoch=473.0, val_energy_loss_epoch=21.60, val_forces_loss_epoch=452.0, train_total_loss_epoch=548.0, train_energy_loss_epoch=61.80, train_forces_loss_epoch=486.0]"
     ]
    },
    {
     "name": "stderr",
     "output_type": "stream",
     "text": [
      "     20        160         582.161          41.073         541.088           2.619           2.866           1.745           2.387\n"
     ]
    },
    {
     "name": "stdout",
     "output_type": "stream",
     "text": [
      "Epoch 20:  85%|████████▌ | 170/200 [00:39<00:06,  4.34it/s, v_num=32, train_total_loss_step=480.0, train_energy_loss_step=24.10, train_forces_loss_step=456.0, val_total_loss_step=540.0, val_energy_loss_step=15.20, val_forces_loss_step=525.0, val_total_loss_epoch=473.0, val_energy_loss_epoch=21.60, val_forces_loss_epoch=452.0, train_total_loss_epoch=548.0, train_energy_loss_epoch=61.80, train_forces_loss_epoch=486.0]"
     ]
    },
    {
     "name": "stderr",
     "output_type": "stream",
     "text": [
      "     20        170         644.383          86.663         557.720           3.831           4.163           1.754           2.423\n"
     ]
    },
    {
     "name": "stdout",
     "output_type": "stream",
     "text": [
      "Epoch 20:  90%|█████████ | 180/200 [00:41<00:04,  4.34it/s, v_num=32, train_total_loss_step=355.0, train_energy_loss_step=23.70, train_forces_loss_step=331.0, val_total_loss_step=540.0, val_energy_loss_step=15.20, val_forces_loss_step=525.0, val_total_loss_epoch=473.0, val_energy_loss_epoch=21.60, val_forces_loss_epoch=452.0, train_total_loss_epoch=548.0, train_energy_loss_epoch=61.80, train_forces_loss_epoch=486.0]"
     ]
    },
    {
     "name": "stderr",
     "output_type": "stream",
     "text": [
      "     20        180         437.055          29.361         407.693           2.225           2.423           1.518           2.072\n"
     ]
    },
    {
     "name": "stdout",
     "output_type": "stream",
     "text": [
      "Epoch 20:  95%|█████████▌| 190/200 [00:43<00:02,  4.34it/s, v_num=32, train_total_loss_step=580.0, train_energy_loss_step=65.30, train_forces_loss_step=515.0, val_total_loss_step=540.0, val_energy_loss_step=15.20, val_forces_loss_step=525.0, val_total_loss_epoch=473.0, val_energy_loss_epoch=21.60, val_forces_loss_epoch=452.0, train_total_loss_epoch=548.0, train_energy_loss_epoch=61.80, train_forces_loss_epoch=486.0]"
     ]
    },
    {
     "name": "stderr",
     "output_type": "stream",
     "text": [
      "     20        190         498.934           7.450         491.484           1.131           1.221           1.746           2.275\n"
     ]
    },
    {
     "name": "stdout",
     "output_type": "stream",
     "text": [
      "Epoch 20: 100%|██████████| 200/200 [00:46<00:00,  4.34it/s, v_num=32, train_total_loss_step=395.0, train_energy_loss_step=5.760, train_forces_loss_step=389.0, val_total_loss_step=540.0, val_energy_loss_step=15.20, val_forces_loss_step=525.0, val_total_loss_epoch=473.0, val_energy_loss_epoch=21.60, val_forces_loss_epoch=452.0, train_total_loss_epoch=548.0, train_energy_loss_epoch=61.80, train_forces_loss_epoch=486.0]"
     ]
    },
    {
     "name": "stderr",
     "output_type": "stream",
     "text": [
      "\n",
      "\n",
      "Validating\n",
      "# epoch      batch      total_loss     energy_loss     forces_loss      energy_mae     energy_rmse      forces_mae     forces_rmse\n"
     ]
    },
    {
     "name": "stdout",
     "output_type": "stream",
     "text": []
    },
    {
     "name": "stderr",
     "output_type": "stream",
     "text": [
      "     20          0         546.528           9.482         537.045           1.070           1.377           1.746           2.378\n"
     ]
    },
    {
     "name": "stdout",
     "output_type": "stream",
     "text": []
    },
    {
     "name": "stderr",
     "output_type": "stream",
     "text": [
      "     20         10         438.364           2.468         435.895           0.578           0.703           1.600           2.142\n"
     ]
    },
    {
     "name": "stdout",
     "output_type": "stream",
     "text": []
    },
    {
     "name": "stderr",
     "output_type": "stream",
     "text": [
      "     20         20         536.226           8.588         527.639           1.117           1.311           1.693           2.357\n"
     ]
    },
    {
     "name": "stdout",
     "output_type": "stream",
     "text": []
    },
    {
     "name": "stderr",
     "output_type": "stream",
     "text": [
      "     20         30         573.949           6.911         567.038           1.098           1.176           1.873           2.443\n"
     ]
    },
    {
     "name": "stdout",
     "output_type": "stream",
     "text": []
    },
    {
     "name": "stderr",
     "output_type": "stream",
     "text": [
      "     20         40         597.196           5.349         591.848           0.793           1.034           1.848           2.496\n"
     ]
    },
    {
     "name": "stdout",
     "output_type": "stream",
     "text": []
    },
    {
     "name": "stderr",
     "output_type": "stream",
     "text": [
      "     20         50         567.573           4.531         563.042           0.855           0.952           1.771           2.434\n"
     ]
    },
    {
     "name": "stdout",
     "output_type": "stream",
     "text": []
    },
    {
     "name": "stderr",
     "output_type": "stream",
     "text": [
      "     20         60         566.450           6.121         560.329           1.020           1.106           1.811           2.429\n"
     ]
    },
    {
     "name": "stdout",
     "output_type": "stream",
     "text": []
    },
    {
     "name": "stderr",
     "output_type": "stream",
     "text": [
      "     20         70         441.273           1.069         440.204           0.379           0.462           1.591           2.153\n"
     ]
    },
    {
     "name": "stdout",
     "output_type": "stream",
     "text": []
    },
    {
     "name": "stderr",
     "output_type": "stream",
     "text": [
      "     20         80         489.543           6.176         483.367           0.680           1.111           1.651           2.256\n"
     ]
    },
    {
     "name": "stdout",
     "output_type": "stream",
     "text": []
    },
    {
     "name": "stderr",
     "output_type": "stream",
     "text": [
      "     20         90         533.820           5.885         527.935           0.836           1.085           1.730           2.357\n"
     ]
    },
    {
     "name": "stdout",
     "output_type": "stream",
     "text": []
    },
    {
     "name": "stderr",
     "output_type": "stream",
     "text": [
      "     20        100         702.171           6.274         695.897           0.773           1.120           1.918           2.707\n"
     ]
    },
    {
     "name": "stdout",
     "output_type": "stream",
     "text": []
    },
    {
     "name": "stderr",
     "output_type": "stream",
     "text": [
      "     20        110         428.480           4.862         423.618           0.797           0.986           1.564           2.112\n"
     ]
    },
    {
     "name": "stdout",
     "output_type": "stream",
     "text": []
    },
    {
     "name": "stderr",
     "output_type": "stream",
     "text": [
      "     20        120         406.128           9.589         396.539           1.160           1.385           1.537           2.043\n"
     ]
    },
    {
     "name": "stdout",
     "output_type": "stream",
     "text": []
    },
    {
     "name": "stderr",
     "output_type": "stream",
     "text": [
      "\n",
      "\n",
      "Epoch summary:\n",
      "Validation  # epoch      total_loss     energy_loss     forces_loss      energy_mae     energy_rmse      forces_mae     forces_rmse\n",
      "                 20         527.037           5.530         521.507           0.816           1.052           1.708           2.343\n"
     ]
    },
    {
     "name": "stdout",
     "output_type": "stream",
     "text": [
      "Epoch 20: 100%|██████████| 200/200 [01:09<00:00,  2.86it/s, v_num=32, train_total_loss_step=395.0, train_energy_loss_step=5.760, train_forces_loss_step=389.0, val_total_loss_step=570.0, val_energy_loss_step=4.250, val_forces_loss_step=566.0, val_total_loss_epoch=527.0, val_energy_loss_epoch=5.530, val_forces_loss_epoch=522.0, train_total_loss_epoch=553.0, train_energy_loss_epoch=57.00, train_forces_loss_epoch=496.0]"
     ]
    },
    {
     "name": "stderr",
     "output_type": "stream",
     "text": [
      "Train       # epoch      total_loss     energy_loss     forces_loss      energy_mae     energy_rmse      forces_mae     forces_rmse\n",
      "                 20         552.676          56.961         495.715           2.703           3.375           1.677           2.284\n"
     ]
    },
    {
     "name": "stdout",
     "output_type": "stream",
     "text": [
      "Epoch 21:   0%|          | 0/200 [00:00<?, ?it/s, v_num=32, train_total_loss_step=395.0, train_energy_loss_step=5.760, train_forces_loss_step=389.0, val_total_loss_step=570.0, val_energy_loss_step=4.250, val_forces_loss_step=566.0, val_total_loss_epoch=527.0, val_energy_loss_epoch=5.530, val_forces_loss_epoch=522.0, train_total_loss_epoch=553.0, train_energy_loss_epoch=57.00, train_forces_loss_epoch=496.0]          "
     ]
    },
    {
     "name": "stderr",
     "output_type": "stream",
     "text": [
      "\n",
      "\n",
      "Training\n",
      "# epoch      batch      total_loss     energy_loss     forces_loss      energy_mae     energy_rmse      forces_mae     forces_rmse\n",
      "     21          0         409.976           5.374         404.602           0.894           1.037           1.578           2.064\n"
     ]
    },
    {
     "name": "stdout",
     "output_type": "stream",
     "text": [
      "Epoch 21:   5%|▌         | 10/200 [00:02<00:45,  4.19it/s, v_num=32, train_total_loss_step=435.0, train_energy_loss_step=101.0, train_forces_loss_step=334.0, val_total_loss_step=570.0, val_energy_loss_step=4.250, val_forces_loss_step=566.0, val_total_loss_epoch=527.0, val_energy_loss_epoch=5.530, val_forces_loss_epoch=522.0, train_total_loss_epoch=553.0, train_energy_loss_epoch=57.00, train_forces_loss_epoch=496.0]"
     ]
    },
    {
     "name": "stderr",
     "output_type": "stream",
     "text": [
      "     21         10         430.831          12.565         418.265           1.319           1.585           1.565           2.098\n"
     ]
    },
    {
     "name": "stdout",
     "output_type": "stream",
     "text": [
      "Epoch 21:  10%|█         | 20/200 [00:04<00:42,  4.28it/s, v_num=32, train_total_loss_step=530.0, train_energy_loss_step=38.80, train_forces_loss_step=492.0, val_total_loss_step=570.0, val_energy_loss_step=4.250, val_forces_loss_step=566.0, val_total_loss_epoch=527.0, val_energy_loss_epoch=5.530, val_forces_loss_epoch=522.0, train_total_loss_epoch=553.0, train_energy_loss_epoch=57.00, train_forces_loss_epoch=496.0]"
     ]
    },
    {
     "name": "stderr",
     "output_type": "stream",
     "text": [
      "     21         20         666.358          67.176         599.183           3.388           3.665           1.746           2.511\n"
     ]
    },
    {
     "name": "stdout",
     "output_type": "stream",
     "text": [
      "Epoch 21:  15%|█▌        | 30/200 [00:06<00:39,  4.30it/s, v_num=32, train_total_loss_step=427.0, train_energy_loss_step=8.330, train_forces_loss_step=419.0, val_total_loss_step=570.0, val_energy_loss_step=4.250, val_forces_loss_step=566.0, val_total_loss_epoch=527.0, val_energy_loss_epoch=5.530, val_forces_loss_epoch=522.0, train_total_loss_epoch=553.0, train_energy_loss_epoch=57.00, train_forces_loss_epoch=496.0]"
     ]
    },
    {
     "name": "stderr",
     "output_type": "stream",
     "text": [
      "     21         30         908.025          75.229         832.797           3.688           3.879           2.052           2.961\n"
     ]
    },
    {
     "name": "stdout",
     "output_type": "stream",
     "text": [
      "Epoch 21:  20%|██        | 40/200 [00:09<00:37,  4.29it/s, v_num=32, train_total_loss_step=514.0, train_energy_loss_step=22.80, train_forces_loss_step=491.0, val_total_loss_step=570.0, val_energy_loss_step=4.250, val_forces_loss_step=566.0, val_total_loss_epoch=527.0, val_energy_loss_epoch=5.530, val_forces_loss_epoch=522.0, train_total_loss_epoch=553.0, train_energy_loss_epoch=57.00, train_forces_loss_epoch=496.0]"
     ]
    },
    {
     "name": "stderr",
     "output_type": "stream",
     "text": [
      "     21         40         553.748           5.178         548.570           0.938           1.018           1.717           2.403\n"
     ]
    },
    {
     "name": "stdout",
     "output_type": "stream",
     "text": [
      "Epoch 21:  25%|██▌       | 50/200 [00:11<00:34,  4.29it/s, v_num=32, train_total_loss_step=665.0, train_energy_loss_step=75.30, train_forces_loss_step=590.0, val_total_loss_step=570.0, val_energy_loss_step=4.250, val_forces_loss_step=566.0, val_total_loss_epoch=527.0, val_energy_loss_epoch=5.530, val_forces_loss_epoch=522.0, train_total_loss_epoch=553.0, train_energy_loss_epoch=57.00, train_forces_loss_epoch=496.0]"
     ]
    },
    {
     "name": "stderr",
     "output_type": "stream",
     "text": [
      "     21         50         390.913           7.161         383.751           1.056           1.197           1.488           2.010\n"
     ]
    },
    {
     "name": "stdout",
     "output_type": "stream",
     "text": [
      "Epoch 21:  30%|███       | 60/200 [00:13<00:32,  4.31it/s, v_num=32, train_total_loss_step=545.0, train_energy_loss_step=15.10, train_forces_loss_step=530.0, val_total_loss_step=570.0, val_energy_loss_step=4.250, val_forces_loss_step=566.0, val_total_loss_epoch=527.0, val_energy_loss_epoch=5.530, val_forces_loss_epoch=522.0, train_total_loss_epoch=553.0, train_energy_loss_epoch=57.00, train_forces_loss_epoch=496.0]  "
     ]
    },
    {
     "name": "stderr",
     "output_type": "stream",
     "text": [
      "     21         60         660.772           2.060         658.712           0.544           0.642           1.961           2.633\n"
     ]
    },
    {
     "name": "stdout",
     "output_type": "stream",
     "text": [
      "Epoch 21:  35%|███▌      | 70/200 [00:16<00:30,  4.32it/s, v_num=32, train_total_loss_step=645.0, train_energy_loss_step=25.80, train_forces_loss_step=619.0, val_total_loss_step=570.0, val_energy_loss_step=4.250, val_forces_loss_step=566.0, val_total_loss_epoch=527.0, val_energy_loss_epoch=5.530, val_forces_loss_epoch=522.0, train_total_loss_epoch=553.0, train_energy_loss_epoch=57.00, train_forces_loss_epoch=496.0]"
     ]
    },
    {
     "name": "stderr",
     "output_type": "stream",
     "text": [
      "     21         70         989.706         175.403         814.303           5.831           5.923           2.149           2.928\n"
     ]
    },
    {
     "name": "stdout",
     "output_type": "stream",
     "text": [
      "Epoch 21:  40%|████      | 80/200 [00:18<00:27,  4.34it/s, v_num=32, train_total_loss_step=450.0, train_energy_loss_step=9.100, train_forces_loss_step=441.0, val_total_loss_step=570.0, val_energy_loss_step=4.250, val_forces_loss_step=566.0, val_total_loss_epoch=527.0, val_energy_loss_epoch=5.530, val_forces_loss_epoch=522.0, train_total_loss_epoch=553.0, train_energy_loss_epoch=57.00, train_forces_loss_epoch=496.0]  "
     ]
    },
    {
     "name": "stderr",
     "output_type": "stream",
     "text": [
      "     21         80        1124.843          99.983        1024.859           4.469           4.472           2.391           3.285\n"
     ]
    },
    {
     "name": "stdout",
     "output_type": "stream",
     "text": [
      "Epoch 21:  45%|████▌     | 90/200 [00:20<00:25,  4.35it/s, v_num=32, train_total_loss_step=459.0, train_energy_loss_step=73.30, train_forces_loss_step=386.0, val_total_loss_step=570.0, val_energy_loss_step=4.250, val_forces_loss_step=566.0, val_total_loss_epoch=527.0, val_energy_loss_epoch=5.530, val_forces_loss_epoch=522.0, train_total_loss_epoch=553.0, train_energy_loss_epoch=57.00, train_forces_loss_epoch=496.0]    "
     ]
    },
    {
     "name": "stderr",
     "output_type": "stream",
     "text": [
      "     21         90         624.666         123.794         500.872           4.969           4.976           1.677           2.296\n"
     ]
    },
    {
     "name": "stdout",
     "output_type": "stream",
     "text": [
      "Epoch 21:  50%|█████     | 100/200 [00:22<00:22,  4.36it/s, v_num=32, train_total_loss_step=718.0, train_energy_loss_step=75.50, train_forces_loss_step=643.0, val_total_loss_step=570.0, val_energy_loss_step=4.250, val_forces_loss_step=566.0, val_total_loss_epoch=527.0, val_energy_loss_epoch=5.530, val_forces_loss_epoch=522.0, train_total_loss_epoch=553.0, train_energy_loss_epoch=57.00, train_forces_loss_epoch=496.0]"
     ]
    },
    {
     "name": "stderr",
     "output_type": "stream",
     "text": [
      "     21        100         658.775         123.419         535.356           4.869           4.968           1.859           2.374\n"
     ]
    },
    {
     "name": "stdout",
     "output_type": "stream",
     "text": [
      "Epoch 21:  55%|█████▌    | 110/200 [00:25<00:20,  4.36it/s, v_num=32, train_total_loss_step=457.0, train_energy_loss_step=17.30, train_forces_loss_step=440.0, val_total_loss_step=570.0, val_energy_loss_step=4.250, val_forces_loss_step=566.0, val_total_loss_epoch=527.0, val_energy_loss_epoch=5.530, val_forces_loss_epoch=522.0, train_total_loss_epoch=553.0, train_energy_loss_epoch=57.00, train_forces_loss_epoch=496.0]"
     ]
    },
    {
     "name": "stderr",
     "output_type": "stream",
     "text": [
      "     21        110         510.706          21.612         489.094           1.806           2.079           1.666           2.269\n"
     ]
    },
    {
     "name": "stdout",
     "output_type": "stream",
     "text": [
      "Epoch 21:  60%|██████    | 120/200 [00:27<00:18,  4.37it/s, v_num=32, train_total_loss_step=455.0, train_energy_loss_step=119.0, train_forces_loss_step=336.0, val_total_loss_step=570.0, val_energy_loss_step=4.250, val_forces_loss_step=566.0, val_total_loss_epoch=527.0, val_energy_loss_epoch=5.530, val_forces_loss_epoch=522.0, train_total_loss_epoch=553.0, train_energy_loss_epoch=57.00, train_forces_loss_epoch=496.0]"
     ]
    },
    {
     "name": "stderr",
     "output_type": "stream",
     "text": [
      "     21        120         670.922         148.938         521.983           5.406           5.458           1.731           2.344\n"
     ]
    },
    {
     "name": "stdout",
     "output_type": "stream",
     "text": [
      "Epoch 21:  65%|██████▌   | 130/200 [00:29<00:16,  4.37it/s, v_num=32, train_total_loss_step=646.0, train_energy_loss_step=99.10, train_forces_loss_step=546.0, val_total_loss_step=570.0, val_energy_loss_step=4.250, val_forces_loss_step=566.0, val_total_loss_epoch=527.0, val_energy_loss_epoch=5.530, val_forces_loss_epoch=522.0, train_total_loss_epoch=553.0, train_energy_loss_epoch=57.00, train_forces_loss_epoch=496.0]"
     ]
    },
    {
     "name": "stderr",
     "output_type": "stream",
     "text": [
      "     21        130         453.268          25.793         427.475           1.975           2.271           1.673           2.121\n"
     ]
    },
    {
     "name": "stdout",
     "output_type": "stream",
     "text": [
      "Epoch 21:  70%|███████   | 140/200 [00:32<00:13,  4.37it/s, v_num=32, train_total_loss_step=701.0, train_energy_loss_step=73.90, train_forces_loss_step=628.0, val_total_loss_step=570.0, val_energy_loss_step=4.250, val_forces_loss_step=566.0, val_total_loss_epoch=527.0, val_energy_loss_epoch=5.530, val_forces_loss_epoch=522.0, train_total_loss_epoch=553.0, train_energy_loss_epoch=57.00, train_forces_loss_epoch=496.0]"
     ]
    },
    {
     "name": "stderr",
     "output_type": "stream",
     "text": [
      "     21        140         480.864           7.815         473.049           1.006           1.250           1.642           2.231\n"
     ]
    },
    {
     "name": "stdout",
     "output_type": "stream",
     "text": [
      "Epoch 21:  75%|███████▌  | 150/200 [00:34<00:11,  4.38it/s, v_num=32, train_total_loss_step=380.0, train_energy_loss_step=3.140, train_forces_loss_step=377.0, val_total_loss_step=570.0, val_energy_loss_step=4.250, val_forces_loss_step=566.0, val_total_loss_epoch=527.0, val_energy_loss_epoch=5.530, val_forces_loss_epoch=522.0, train_total_loss_epoch=553.0, train_energy_loss_epoch=57.00, train_forces_loss_epoch=496.0]"
     ]
    },
    {
     "name": "stderr",
     "output_type": "stream",
     "text": [
      "     21        150         391.492          31.765         359.727           2.131           2.521           1.394           1.946\n"
     ]
    },
    {
     "name": "stdout",
     "output_type": "stream",
     "text": [
      "Epoch 21:  80%|████████  | 160/200 [00:36<00:09,  4.38it/s, v_num=32, train_total_loss_step=484.0, train_energy_loss_step=63.70, train_forces_loss_step=420.0, val_total_loss_step=570.0, val_energy_loss_step=4.250, val_forces_loss_step=566.0, val_total_loss_epoch=527.0, val_energy_loss_epoch=5.530, val_forces_loss_epoch=522.0, train_total_loss_epoch=553.0, train_energy_loss_epoch=57.00, train_forces_loss_epoch=496.0]"
     ]
    },
    {
     "name": "stderr",
     "output_type": "stream",
     "text": [
      "     21        160         659.222           7.009         652.213           1.081           1.184           1.959           2.620\n"
     ]
    },
    {
     "name": "stdout",
     "output_type": "stream",
     "text": [
      "Epoch 21:  85%|████████▌ | 170/200 [00:38<00:06,  4.39it/s, v_num=32, train_total_loss_step=348.0, train_energy_loss_step=8.430, train_forces_loss_step=340.0, val_total_loss_step=570.0, val_energy_loss_step=4.250, val_forces_loss_step=566.0, val_total_loss_epoch=527.0, val_energy_loss_epoch=5.530, val_forces_loss_epoch=522.0, train_total_loss_epoch=553.0, train_energy_loss_epoch=57.00, train_forces_loss_epoch=496.0]"
     ]
    },
    {
     "name": "stderr",
     "output_type": "stream",
     "text": [
      "     21        170         465.270          42.963         422.307           2.675           2.931           1.440           2.108\n"
     ]
    },
    {
     "name": "stdout",
     "output_type": "stream",
     "text": [
      "Epoch 21:  90%|█████████ | 180/200 [00:41<00:04,  4.39it/s, v_num=32, train_total_loss_step=403.0, train_energy_loss_step=3.930, train_forces_loss_step=399.0, val_total_loss_step=570.0, val_energy_loss_step=4.250, val_forces_loss_step=566.0, val_total_loss_epoch=527.0, val_energy_loss_epoch=5.530, val_forces_loss_epoch=522.0, train_total_loss_epoch=553.0, train_energy_loss_epoch=57.00, train_forces_loss_epoch=496.0]"
     ]
    },
    {
     "name": "stderr",
     "output_type": "stream",
     "text": [
      "     21        180         241.600          31.474         210.126           2.456           2.509           1.108           1.487\n"
     ]
    },
    {
     "name": "stdout",
     "output_type": "stream",
     "text": [
      "Epoch 21:  95%|█████████▌| 190/200 [00:43<00:02,  4.39it/s, v_num=32, train_total_loss_step=465.0, train_energy_loss_step=16.10, train_forces_loss_step=449.0, val_total_loss_step=570.0, val_energy_loss_step=4.250, val_forces_loss_step=566.0, val_total_loss_epoch=527.0, val_energy_loss_epoch=5.530, val_forces_loss_epoch=522.0, train_total_loss_epoch=553.0, train_energy_loss_epoch=57.00, train_forces_loss_epoch=496.0]"
     ]
    },
    {
     "name": "stderr",
     "output_type": "stream",
     "text": [
      "     21        190         438.408          54.059         384.350           3.162           3.288           1.413           2.011\n"
     ]
    },
    {
     "name": "stdout",
     "output_type": "stream",
     "text": [
      "Epoch 21: 100%|██████████| 200/200 [00:45<00:00,  4.39it/s, v_num=32, train_total_loss_step=495.0, train_energy_loss_step=18.20, train_forces_loss_step=476.0, val_total_loss_step=570.0, val_energy_loss_step=4.250, val_forces_loss_step=566.0, val_total_loss_epoch=527.0, val_energy_loss_epoch=5.530, val_forces_loss_epoch=522.0, train_total_loss_epoch=553.0, train_energy_loss_epoch=57.00, train_forces_loss_epoch=496.0]"
     ]
    },
    {
     "name": "stderr",
     "output_type": "stream",
     "text": [
      "\n",
      "\n",
      "Validating\n",
      "# epoch      batch      total_loss     energy_loss     forces_loss      energy_mae     energy_rmse      forces_mae     forces_rmse\n"
     ]
    },
    {
     "name": "stdout",
     "output_type": "stream",
     "text": []
    },
    {
     "name": "stderr",
     "output_type": "stream",
     "text": [
      "     21          0         499.320          82.488         416.832           4.031           4.062           1.572           2.095\n"
     ]
    },
    {
     "name": "stdout",
     "output_type": "stream",
     "text": []
    },
    {
     "name": "stderr",
     "output_type": "stream",
     "text": [
      "     21         10         413.279          63.999         349.280           3.500           3.578           1.395           1.917\n"
     ]
    },
    {
     "name": "stdout",
     "output_type": "stream",
     "text": []
    },
    {
     "name": "stderr",
     "output_type": "stream",
     "text": [
      "     21         20         456.706          77.405         379.300           3.902           3.935           1.471           1.998\n"
     ]
    },
    {
     "name": "stdout",
     "output_type": "stream",
     "text": []
    },
    {
     "name": "stderr",
     "output_type": "stream",
     "text": [
      "     21         30         512.314          70.657         441.658           3.695           3.759           1.603           2.156\n"
     ]
    },
    {
     "name": "stdout",
     "output_type": "stream",
     "text": []
    },
    {
     "name": "stderr",
     "output_type": "stream",
     "text": [
      "     21         40         513.096          58.940         454.157           3.309           3.433           1.616           2.186\n"
     ]
    },
    {
     "name": "stdout",
     "output_type": "stream",
     "text": []
    },
    {
     "name": "stderr",
     "output_type": "stream",
     "text": [
      "     21         50         569.897          60.143         509.754           3.383           3.468           1.728           2.316\n"
     ]
    },
    {
     "name": "stdout",
     "output_type": "stream",
     "text": []
    },
    {
     "name": "stderr",
     "output_type": "stream",
     "text": [
      "     21         60         533.685          69.019         464.666           3.598           3.715           1.612           2.212\n"
     ]
    },
    {
     "name": "stdout",
     "output_type": "stream",
     "text": []
    },
    {
     "name": "stderr",
     "output_type": "stream",
     "text": [
      "     21         70         423.160          57.978         365.182           3.355           3.405           1.486           1.961\n"
     ]
    },
    {
     "name": "stdout",
     "output_type": "stream",
     "text": []
    },
    {
     "name": "stderr",
     "output_type": "stream",
     "text": [
      "     21         80         444.266          68.282         375.985           3.543           3.695           1.530           1.989\n"
     ]
    },
    {
     "name": "stdout",
     "output_type": "stream",
     "text": []
    },
    {
     "name": "stderr",
     "output_type": "stream",
     "text": [
      "     21         90         470.713          67.977         402.735           3.625           3.687           1.465           2.059\n"
     ]
    },
    {
     "name": "stdout",
     "output_type": "stream",
     "text": []
    },
    {
     "name": "stderr",
     "output_type": "stream",
     "text": [
      "     21        100         725.603          75.107         650.496           3.703           3.876           1.766           2.617\n"
     ]
    },
    {
     "name": "stdout",
     "output_type": "stream",
     "text": []
    },
    {
     "name": "stderr",
     "output_type": "stream",
     "text": [
      "     21        110         418.492          52.996         365.496           3.168           3.256           1.448           1.961\n"
     ]
    },
    {
     "name": "stdout",
     "output_type": "stream",
     "text": []
    },
    {
     "name": "stderr",
     "output_type": "stream",
     "text": [
      "     21        120         468.792          85.396         383.396           4.043           4.133           1.506           2.009\n"
     ]
    },
    {
     "name": "stdout",
     "output_type": "stream",
     "text": []
    },
    {
     "name": "stderr",
     "output_type": "stream",
     "text": [
      "\n",
      "\n",
      "Epoch summary:\n",
      "Validation  # epoch      total_loss     energy_loss     forces_loss      energy_mae     energy_rmse      forces_mae     forces_rmse\n",
      "                 21         494.711          61.667         433.044           3.394           3.512           1.556           2.135\n"
     ]
    },
    {
     "name": "stdout",
     "output_type": "stream",
     "text": [
      "Epoch 21: 100%|██████████| 200/200 [01:09<00:00,  2.89it/s, v_num=32, train_total_loss_step=495.0, train_energy_loss_step=18.20, train_forces_loss_step=476.0, val_total_loss_step=458.0, val_energy_loss_step=60.60, val_forces_loss_step=397.0, val_total_loss_epoch=495.0, val_energy_loss_epoch=61.70, val_forces_loss_epoch=433.0, train_total_loss_epoch=556.0, train_energy_loss_epoch=61.10, train_forces_loss_epoch=495.0]"
     ]
    },
    {
     "name": "stderr",
     "output_type": "stream",
     "text": [
      "Train       # epoch      total_loss     energy_loss     forces_loss      energy_mae     energy_rmse      forces_mae     forces_rmse\n",
      "                 21         556.295          61.084         495.212           2.762           3.495           1.671           2.283\n"
     ]
    },
    {
     "name": "stdout",
     "output_type": "stream",
     "text": [
      "Epoch 22:   0%|          | 0/200 [00:00<?, ?it/s, v_num=32, train_total_loss_step=495.0, train_energy_loss_step=18.20, train_forces_loss_step=476.0, val_total_loss_step=458.0, val_energy_loss_step=60.60, val_forces_loss_step=397.0, val_total_loss_epoch=495.0, val_energy_loss_epoch=61.70, val_forces_loss_epoch=433.0, train_total_loss_epoch=556.0, train_energy_loss_epoch=61.10, train_forces_loss_epoch=495.0]          "
     ]
    },
    {
     "name": "stderr",
     "output_type": "stream",
     "text": [
      "\n",
      "\n",
      "Training\n",
      "# epoch      batch      total_loss     energy_loss     forces_loss      energy_mae     energy_rmse      forces_mae     forces_rmse\n",
      "     22          0         398.022          55.826         342.195           3.275           3.341           1.353           1.898\n"
     ]
    },
    {
     "name": "stdout",
     "output_type": "stream",
     "text": [
      "Epoch 22:   5%|▌         | 10/200 [00:02<00:44,  4.28it/s, v_num=32, train_total_loss_step=321.0, train_energy_loss_step=20.10, train_forces_loss_step=301.0, val_total_loss_step=458.0, val_energy_loss_step=60.60, val_forces_loss_step=397.0, val_total_loss_epoch=495.0, val_energy_loss_epoch=61.70, val_forces_loss_epoch=433.0, train_total_loss_epoch=556.0, train_energy_loss_epoch=61.10, train_forces_loss_epoch=495.0]"
     ]
    },
    {
     "name": "stderr",
     "output_type": "stream",
     "text": [
      "     22         10         332.242           5.538         326.704           0.944           1.052           1.397           1.854\n"
     ]
    },
    {
     "name": "stdout",
     "output_type": "stream",
     "text": [
      "Epoch 22:  10%|█         | 20/200 [00:04<00:41,  4.37it/s, v_num=32, train_total_loss_step=464.0, train_energy_loss_step=13.10, train_forces_loss_step=451.0, val_total_loss_step=458.0, val_energy_loss_step=60.60, val_forces_loss_step=397.0, val_total_loss_epoch=495.0, val_energy_loss_epoch=61.70, val_forces_loss_epoch=433.0, train_total_loss_epoch=556.0, train_energy_loss_epoch=61.10, train_forces_loss_epoch=495.0]"
     ]
    },
    {
     "name": "stderr",
     "output_type": "stream",
     "text": [
      "     22         20         422.837           6.476         416.361           0.844           1.138           1.566           2.094\n"
     ]
    },
    {
     "name": "stdout",
     "output_type": "stream",
     "text": [
      "Epoch 22:  15%|█▌        | 30/200 [00:06<00:38,  4.38it/s, v_num=32, train_total_loss_step=479.0, train_energy_loss_step=25.90, train_forces_loss_step=453.0, val_total_loss_step=458.0, val_energy_loss_step=60.60, val_forces_loss_step=397.0, val_total_loss_epoch=495.0, val_energy_loss_epoch=61.70, val_forces_loss_epoch=433.0, train_total_loss_epoch=556.0, train_energy_loss_epoch=61.10, train_forces_loss_epoch=495.0]"
     ]
    },
    {
     "name": "stderr",
     "output_type": "stream",
     "text": [
      "     22         30         433.123          16.479         416.644           1.681           1.815           1.564           2.094\n"
     ]
    },
    {
     "name": "stdout",
     "output_type": "stream",
     "text": [
      "Epoch 22:  20%|██        | 40/200 [00:09<00:36,  4.39it/s, v_num=32, train_total_loss_step=363.0, train_energy_loss_step=11.60, train_forces_loss_step=352.0, val_total_loss_step=458.0, val_energy_loss_step=60.60, val_forces_loss_step=397.0, val_total_loss_epoch=495.0, val_energy_loss_epoch=61.70, val_forces_loss_epoch=433.0, train_total_loss_epoch=556.0, train_energy_loss_epoch=61.10, train_forces_loss_epoch=495.0]"
     ]
    },
    {
     "name": "stderr",
     "output_type": "stream",
     "text": [
      "     22         40         314.366           5.425         308.942           0.769           1.042           1.352           1.803\n"
     ]
    },
    {
     "name": "stdout",
     "output_type": "stream",
     "text": [
      "Epoch 22:  25%|██▌       | 50/200 [00:11<00:34,  4.40it/s, v_num=32, train_total_loss_step=515.0, train_energy_loss_step=29.70, train_forces_loss_step=485.0, val_total_loss_step=458.0, val_energy_loss_step=60.60, val_forces_loss_step=397.0, val_total_loss_epoch=495.0, val_energy_loss_epoch=61.70, val_forces_loss_epoch=433.0, train_total_loss_epoch=556.0, train_energy_loss_epoch=61.10, train_forces_loss_epoch=495.0]"
     ]
    },
    {
     "name": "stderr",
     "output_type": "stream",
     "text": [
      "     22         50         790.916          32.605         758.311           2.287           2.554           2.116           2.825\n"
     ]
    },
    {
     "name": "stdout",
     "output_type": "stream",
     "text": [
      "Epoch 22:  30%|███       | 60/200 [00:13<00:31,  4.41it/s, v_num=32, train_total_loss_step=599.0, train_energy_loss_step=28.80, train_forces_loss_step=570.0, val_total_loss_step=458.0, val_energy_loss_step=60.60, val_forces_loss_step=397.0, val_total_loss_epoch=495.0, val_energy_loss_epoch=61.70, val_forces_loss_epoch=433.0, train_total_loss_epoch=556.0, train_energy_loss_epoch=61.10, train_forces_loss_epoch=495.0]"
     ]
    },
    {
     "name": "stderr",
     "output_type": "stream",
     "text": [
      "     22         60         781.524          18.554         762.970           1.569           1.926           2.100           2.834\n"
     ]
    },
    {
     "name": "stdout",
     "output_type": "stream",
     "text": [
      "Epoch 22:  35%|███▌      | 70/200 [00:15<00:29,  4.41it/s, v_num=32, train_total_loss_step=667.0, train_energy_loss_step=81.30, train_forces_loss_step=586.0, val_total_loss_step=458.0, val_energy_loss_step=60.60, val_forces_loss_step=397.0, val_total_loss_epoch=495.0, val_energy_loss_epoch=61.70, val_forces_loss_epoch=433.0, train_total_loss_epoch=556.0, train_energy_loss_epoch=61.10, train_forces_loss_epoch=495.0]"
     ]
    },
    {
     "name": "stderr",
     "output_type": "stream",
     "text": [
      "     22         70         427.804          33.003         394.801           2.481           2.569           1.586           2.039\n"
     ]
    },
    {
     "name": "stdout",
     "output_type": "stream",
     "text": [
      "Epoch 22:  40%|████      | 80/200 [00:18<00:27,  4.41it/s, v_num=32, train_total_loss_step=403.0, train_energy_loss_step=20.60, train_forces_loss_step=382.0, val_total_loss_step=458.0, val_energy_loss_step=60.60, val_forces_loss_step=397.0, val_total_loss_epoch=495.0, val_energy_loss_epoch=61.70, val_forces_loss_epoch=433.0, train_total_loss_epoch=556.0, train_energy_loss_epoch=61.10, train_forces_loss_epoch=495.0]"
     ]
    },
    {
     "name": "stderr",
     "output_type": "stream",
     "text": [
      "     22         80         443.483           1.374         442.109           0.419           0.524           1.557           2.157\n"
     ]
    },
    {
     "name": "stdout",
     "output_type": "stream",
     "text": [
      "Epoch 22:  45%|████▌     | 90/200 [00:20<00:24,  4.41it/s, v_num=32, train_total_loss_step=304.0, train_energy_loss_step=13.10, train_forces_loss_step=291.0, val_total_loss_step=458.0, val_energy_loss_step=60.60, val_forces_loss_step=397.0, val_total_loss_epoch=495.0, val_energy_loss_epoch=61.70, val_forces_loss_epoch=433.0, train_total_loss_epoch=556.0, train_energy_loss_epoch=61.10, train_forces_loss_epoch=495.0]"
     ]
    },
    {
     "name": "stderr",
     "output_type": "stream",
     "text": [
      "     22         90         353.958           7.479         346.478           1.156           1.223           1.363           1.910\n"
     ]
    },
    {
     "name": "stdout",
     "output_type": "stream",
     "text": [
      "Epoch 22:  50%|█████     | 100/200 [00:22<00:22,  4.42it/s, v_num=32, train_total_loss_step=366.0, train_energy_loss_step=6.220, train_forces_loss_step=360.0, val_total_loss_step=458.0, val_energy_loss_step=60.60, val_forces_loss_step=397.0, val_total_loss_epoch=495.0, val_energy_loss_epoch=61.70, val_forces_loss_epoch=433.0, train_total_loss_epoch=556.0, train_energy_loss_epoch=61.10, train_forces_loss_epoch=495.0]"
     ]
    },
    {
     "name": "stderr",
     "output_type": "stream",
     "text": [
      "     22        100         420.923          18.551         402.372           1.712           1.926           1.421           2.058\n"
     ]
    },
    {
     "name": "stdout",
     "output_type": "stream",
     "text": [
      "Epoch 22:  55%|█████▌    | 110/200 [00:24<00:20,  4.41it/s, v_num=32, train_total_loss_step=406.0, train_energy_loss_step=54.10, train_forces_loss_step=351.0, val_total_loss_step=458.0, val_energy_loss_step=60.60, val_forces_loss_step=397.0, val_total_loss_epoch=495.0, val_energy_loss_epoch=61.70, val_forces_loss_epoch=433.0, train_total_loss_epoch=556.0, train_energy_loss_epoch=61.10, train_forces_loss_epoch=495.0]"
     ]
    },
    {
     "name": "stderr",
     "output_type": "stream",
     "text": [
      "     22        110         384.488          11.482         373.006           1.300           1.515           1.505           1.982\n"
     ]
    },
    {
     "name": "stdout",
     "output_type": "stream",
     "text": [
      "Epoch 22:  60%|██████    | 120/200 [00:27<00:18,  4.41it/s, v_num=32, train_total_loss_step=556.0, train_energy_loss_step=59.20, train_forces_loss_step=497.0, val_total_loss_step=458.0, val_energy_loss_step=60.60, val_forces_loss_step=397.0, val_total_loss_epoch=495.0, val_energy_loss_epoch=61.70, val_forces_loss_epoch=433.0, train_total_loss_epoch=556.0, train_energy_loss_epoch=61.10, train_forces_loss_epoch=495.0]"
     ]
    },
    {
     "name": "stderr",
     "output_type": "stream",
     "text": [
      "     22        120         375.659          38.312         337.347           2.644           2.768           1.427           1.884\n"
     ]
    },
    {
     "name": "stdout",
     "output_type": "stream",
     "text": [
      "Epoch 22:  65%|██████▌   | 130/200 [00:29<00:15,  4.42it/s, v_num=32, train_total_loss_step=397.0, train_energy_loss_step=9.250, train_forces_loss_step=387.0, val_total_loss_step=458.0, val_energy_loss_step=60.60, val_forces_loss_step=397.0, val_total_loss_epoch=495.0, val_energy_loss_epoch=61.70, val_forces_loss_epoch=433.0, train_total_loss_epoch=556.0, train_energy_loss_epoch=61.10, train_forces_loss_epoch=495.0]"
     ]
    },
    {
     "name": "stderr",
     "output_type": "stream",
     "text": [
      "     22        130         475.262          48.777         426.484           2.963           3.123           1.617           2.119\n"
     ]
    },
    {
     "name": "stdout",
     "output_type": "stream",
     "text": [
      "Epoch 22:  70%|███████   | 140/200 [00:31<00:13,  4.42it/s, v_num=32, train_total_loss_step=634.0, train_energy_loss_step=20.80, train_forces_loss_step=613.0, val_total_loss_step=458.0, val_energy_loss_step=60.60, val_forces_loss_step=397.0, val_total_loss_epoch=495.0, val_energy_loss_epoch=61.70, val_forces_loss_epoch=433.0, train_total_loss_epoch=556.0, train_energy_loss_epoch=61.10, train_forces_loss_epoch=495.0]"
     ]
    },
    {
     "name": "stderr",
     "output_type": "stream",
     "text": [
      "     22        140         571.278          61.980         509.298           3.487           3.521           1.779           2.315\n"
     ]
    },
    {
     "name": "stdout",
     "output_type": "stream",
     "text": [
      "Epoch 22:  75%|███████▌  | 150/200 [00:33<00:11,  4.42it/s, v_num=32, train_total_loss_step=358.0, train_energy_loss_step=14.80, train_forces_loss_step=343.0, val_total_loss_step=458.0, val_energy_loss_step=60.60, val_forces_loss_step=397.0, val_total_loss_epoch=495.0, val_energy_loss_epoch=61.70, val_forces_loss_epoch=433.0, train_total_loss_epoch=556.0, train_energy_loss_epoch=61.10, train_forces_loss_epoch=495.0]"
     ]
    },
    {
     "name": "stderr",
     "output_type": "stream",
     "text": [
      "     22        150         351.093           3.047         348.046           0.650           0.781           1.359           1.914\n"
     ]
    },
    {
     "name": "stdout",
     "output_type": "stream",
     "text": [
      "Epoch 22:  80%|████████  | 160/200 [00:36<00:09,  4.42it/s, v_num=32, train_total_loss_step=441.0, train_energy_loss_step=87.60, train_forces_loss_step=354.0, val_total_loss_step=458.0, val_energy_loss_step=60.60, val_forces_loss_step=397.0, val_total_loss_epoch=495.0, val_energy_loss_epoch=61.70, val_forces_loss_epoch=433.0, train_total_loss_epoch=556.0, train_energy_loss_epoch=61.10, train_forces_loss_epoch=495.0]"
     ]
    },
    {
     "name": "stderr",
     "output_type": "stream",
     "text": [
      "     22        160         443.461           8.667         434.794           1.269           1.317           1.590           2.139\n"
     ]
    },
    {
     "name": "stdout",
     "output_type": "stream",
     "text": [
      "Epoch 22:  85%|████████▌ | 170/200 [00:38<00:06,  4.42it/s, v_num=32, train_total_loss_step=454.0, train_energy_loss_step=22.90, train_forces_loss_step=431.0, val_total_loss_step=458.0, val_energy_loss_step=60.60, val_forces_loss_step=397.0, val_total_loss_epoch=495.0, val_energy_loss_epoch=61.70, val_forces_loss_epoch=433.0, train_total_loss_epoch=556.0, train_energy_loss_epoch=61.10, train_forces_loss_epoch=495.0]"
     ]
    },
    {
     "name": "stderr",
     "output_type": "stream",
     "text": [
      "     22        170         626.148         162.693         463.455           5.438           5.704           1.587           2.209\n"
     ]
    },
    {
     "name": "stdout",
     "output_type": "stream",
     "text": [
      "Epoch 22:  90%|█████████ | 180/200 [00:40<00:04,  4.42it/s, v_num=32, train_total_loss_step=492.0, train_energy_loss_step=11.10, train_forces_loss_step=481.0, val_total_loss_step=458.0, val_energy_loss_step=60.60, val_forces_loss_step=397.0, val_total_loss_epoch=495.0, val_energy_loss_epoch=61.70, val_forces_loss_epoch=433.0, train_total_loss_epoch=556.0, train_energy_loss_epoch=61.10, train_forces_loss_epoch=495.0]"
     ]
    },
    {
     "name": "stderr",
     "output_type": "stream",
     "text": [
      "     22        180         447.331           3.522         443.809           0.569           0.839           1.676           2.161\n"
     ]
    },
    {
     "name": "stdout",
     "output_type": "stream",
     "text": [
      "Epoch 22:  95%|█████████▌| 190/200 [00:43<00:02,  4.42it/s, v_num=32, train_total_loss_step=563.0, train_energy_loss_step=41.60, train_forces_loss_step=522.0, val_total_loss_step=458.0, val_energy_loss_step=60.60, val_forces_loss_step=397.0, val_total_loss_epoch=495.0, val_energy_loss_epoch=61.70, val_forces_loss_epoch=433.0, train_total_loss_epoch=556.0, train_energy_loss_epoch=61.10, train_forces_loss_epoch=495.0]"
     ]
    },
    {
     "name": "stderr",
     "output_type": "stream",
     "text": [
      "     22        190         418.681          52.265         366.416           3.169           3.233           1.444           1.964\n"
     ]
    },
    {
     "name": "stdout",
     "output_type": "stream",
     "text": [
      "Epoch 22: 100%|██████████| 200/200 [00:45<00:00,  4.42it/s, v_num=32, train_total_loss_step=478.0, train_energy_loss_step=3.710, train_forces_loss_step=474.0, val_total_loss_step=458.0, val_energy_loss_step=60.60, val_forces_loss_step=397.0, val_total_loss_epoch=495.0, val_energy_loss_epoch=61.70, val_forces_loss_epoch=433.0, train_total_loss_epoch=556.0, train_energy_loss_epoch=61.10, train_forces_loss_epoch=495.0]"
     ]
    },
    {
     "name": "stderr",
     "output_type": "stream",
     "text": [
      "\n",
      "\n",
      "Validating\n",
      "# epoch      batch      total_loss     energy_loss     forces_loss      energy_mae     energy_rmse      forces_mae     forces_rmse\n"
     ]
    },
    {
     "name": "stdout",
     "output_type": "stream",
     "text": []
    },
    {
     "name": "stderr",
     "output_type": "stream",
     "text": [
      "     22          0         557.279          62.968         494.311           3.512           3.549           1.661           2.281\n"
     ]
    },
    {
     "name": "stdout",
     "output_type": "stream",
     "text": []
    },
    {
     "name": "stderr",
     "output_type": "stream",
     "text": [
      "     22         10         486.733          92.358         394.375           4.242           4.298           1.462           2.037\n"
     ]
    },
    {
     "name": "stdout",
     "output_type": "stream",
     "text": []
    },
    {
     "name": "stderr",
     "output_type": "stream",
     "text": [
      "     22         20         526.603          83.540         443.063           3.969           4.088           1.587           2.160\n"
     ]
    },
    {
     "name": "stdout",
     "output_type": "stream",
     "text": []
    },
    {
     "name": "stderr",
     "output_type": "stream",
     "text": [
      "     22         30         545.052          87.603         457.450           4.133           4.186           1.592           2.194\n"
     ]
    },
    {
     "name": "stdout",
     "output_type": "stream",
     "text": []
    },
    {
     "name": "stderr",
     "output_type": "stream",
     "text": [
      "     22         40         674.730         103.113         571.618           4.453           4.541           1.779           2.453\n"
     ]
    },
    {
     "name": "stdout",
     "output_type": "stream",
     "text": []
    },
    {
     "name": "stderr",
     "output_type": "stream",
     "text": [
      "     22         50         565.278         105.786         459.492           4.551           4.600           1.609           2.199\n"
     ]
    },
    {
     "name": "stdout",
     "output_type": "stream",
     "text": []
    },
    {
     "name": "stderr",
     "output_type": "stream",
     "text": [
      "     22         60         545.418          91.360         454.058           4.195           4.275           1.629           2.186\n"
     ]
    },
    {
     "name": "stdout",
     "output_type": "stream",
     "text": []
    },
    {
     "name": "stderr",
     "output_type": "stream",
     "text": [
      "     22         70         480.293          97.266         383.028           4.375           4.411           1.490           2.008\n"
     ]
    },
    {
     "name": "stdout",
     "output_type": "stream",
     "text": []
    },
    {
     "name": "stderr",
     "output_type": "stream",
     "text": [
      "     22         80         536.594          80.314         456.280           3.918           4.008           1.623           2.192\n"
     ]
    },
    {
     "name": "stdout",
     "output_type": "stream",
     "text": []
    },
    {
     "name": "stderr",
     "output_type": "stream",
     "text": [
      "     22         90         551.399          81.493         469.906           3.992           4.037           1.539           2.224\n"
     ]
    },
    {
     "name": "stdout",
     "output_type": "stream",
     "text": []
    },
    {
     "name": "stderr",
     "output_type": "stream",
     "text": [
      "     22        100         705.931          88.422         617.509           4.066           4.205           1.792           2.550\n"
     ]
    },
    {
     "name": "stdout",
     "output_type": "stream",
     "text": []
    },
    {
     "name": "stderr",
     "output_type": "stream",
     "text": [
      "     22        110         499.981         109.727         390.254           4.605           4.685           1.475           2.027\n"
     ]
    },
    {
     "name": "stdout",
     "output_type": "stream",
     "text": []
    },
    {
     "name": "stderr",
     "output_type": "stream",
     "text": [
      "     22        120         404.211          76.776         327.435           3.848           3.919           1.397           1.857\n"
     ]
    },
    {
     "name": "stdout",
     "output_type": "stream",
     "text": []
    },
    {
     "name": "stderr",
     "output_type": "stream",
     "text": [
      "\n",
      "\n",
      "Epoch summary:\n",
      "Validation  # epoch      total_loss     energy_loss     forces_loss      energy_mae     energy_rmse      forces_mae     forces_rmse\n",
      "                 22         574.618         101.357         473.260           4.403           4.502           1.613           2.232\n"
     ]
    },
    {
     "name": "stdout",
     "output_type": "stream",
     "text": [
      "Epoch 22: 100%|██████████| 200/200 [01:09<00:00,  2.89it/s, v_num=32, train_total_loss_step=478.0, train_energy_loss_step=3.710, train_forces_loss_step=474.0, val_total_loss_step=592.0, val_energy_loss_step=98.30, val_forces_loss_step=494.0, val_total_loss_epoch=575.0, val_energy_loss_epoch=101.0, val_forces_loss_epoch=473.0, train_total_loss_epoch=466.0, train_energy_loss_epoch=35.40, train_forces_loss_epoch=430.0]"
     ]
    },
    {
     "name": "stderr",
     "output_type": "stream",
     "text": [
      "Train       # epoch      total_loss     energy_loss     forces_loss      energy_mae     energy_rmse      forces_mae     forces_rmse\n",
      "                 22         465.909          35.420         430.489           2.173           2.662           1.571           2.129\n"
     ]
    },
    {
     "name": "stdout",
     "output_type": "stream",
     "text": [
      "Epoch 23:   0%|          | 0/200 [00:00<?, ?it/s, v_num=32, train_total_loss_step=478.0, train_energy_loss_step=3.710, train_forces_loss_step=474.0, val_total_loss_step=592.0, val_energy_loss_step=98.30, val_forces_loss_step=494.0, val_total_loss_epoch=575.0, val_energy_loss_epoch=101.0, val_forces_loss_epoch=473.0, train_total_loss_epoch=466.0, train_energy_loss_epoch=35.40, train_forces_loss_epoch=430.0]          "
     ]
    },
    {
     "name": "stderr",
     "output_type": "stream",
     "text": [
      "\n",
      "\n",
      "Training\n",
      "# epoch      batch      total_loss     energy_loss     forces_loss      energy_mae     energy_rmse      forces_mae     forces_rmse\n",
      "     23          0         425.741          83.186         342.556           4.000           4.079           1.291           1.899\n"
     ]
    },
    {
     "name": "stdout",
     "output_type": "stream",
     "text": [
      "Epoch 23:   5%|▌         | 10/200 [00:02<00:45,  4.19it/s, v_num=32, train_total_loss_step=559.0, train_energy_loss_step=18.90, train_forces_loss_step=540.0, val_total_loss_step=592.0, val_energy_loss_step=98.30, val_forces_loss_step=494.0, val_total_loss_epoch=575.0, val_energy_loss_epoch=101.0, val_forces_loss_epoch=473.0, train_total_loss_epoch=466.0, train_energy_loss_epoch=35.40, train_forces_loss_epoch=430.0]"
     ]
    },
    {
     "name": "stderr",
     "output_type": "stream",
     "text": [
      "     23         10         425.251          11.654         413.597           1.388           1.527           1.509           2.087\n"
     ]
    },
    {
     "name": "stdout",
     "output_type": "stream",
     "text": [
      "Epoch 23:  10%|█         | 20/200 [00:04<00:41,  4.30it/s, v_num=32, train_total_loss_step=427.0, train_energy_loss_step=43.90, train_forces_loss_step=383.0, val_total_loss_step=592.0, val_energy_loss_step=98.30, val_forces_loss_step=494.0, val_total_loss_epoch=575.0, val_energy_loss_epoch=101.0, val_forces_loss_epoch=473.0, train_total_loss_epoch=466.0, train_energy_loss_epoch=35.40, train_forces_loss_epoch=430.0]"
     ]
    },
    {
     "name": "stderr",
     "output_type": "stream",
     "text": [
      "     23         20         419.917           3.929         415.988           0.794           0.886           1.575           2.093\n"
     ]
    },
    {
     "name": "stdout",
     "output_type": "stream",
     "text": [
      "Epoch 23:  15%|█▌        | 30/200 [00:06<00:39,  4.34it/s, v_num=32, train_total_loss_step=388.0, train_energy_loss_step=5.870, train_forces_loss_step=382.0, val_total_loss_step=592.0, val_energy_loss_step=98.30, val_forces_loss_step=494.0, val_total_loss_epoch=575.0, val_energy_loss_epoch=101.0, val_forces_loss_epoch=473.0, train_total_loss_epoch=466.0, train_energy_loss_epoch=35.40, train_forces_loss_epoch=430.0]"
     ]
    },
    {
     "name": "stderr",
     "output_type": "stream",
     "text": [
      "     23         30         459.580          46.998         412.582           3.050           3.066           1.563           2.084\n"
     ]
    },
    {
     "name": "stdout",
     "output_type": "stream",
     "text": [
      "Epoch 23:  20%|██        | 40/200 [00:09<00:36,  4.36it/s, v_num=32, train_total_loss_step=461.0, train_energy_loss_step=42.80, train_forces_loss_step=418.0, val_total_loss_step=592.0, val_energy_loss_step=98.30, val_forces_loss_step=494.0, val_total_loss_epoch=575.0, val_energy_loss_epoch=101.0, val_forces_loss_epoch=473.0, train_total_loss_epoch=466.0, train_energy_loss_epoch=35.40, train_forces_loss_epoch=430.0]"
     ]
    },
    {
     "name": "stderr",
     "output_type": "stream",
     "text": [
      "     23         40         475.476          30.347         445.130           2.344           2.464           1.580           2.165\n"
     ]
    },
    {
     "name": "stdout",
     "output_type": "stream",
     "text": [
      "Epoch 23:  25%|██▌       | 50/200 [00:11<00:34,  4.37it/s, v_num=32, train_total_loss_step=646.0, train_energy_loss_step=16.00, train_forces_loss_step=630.0, val_total_loss_step=592.0, val_energy_loss_step=98.30, val_forces_loss_step=494.0, val_total_loss_epoch=575.0, val_energy_loss_epoch=101.0, val_forces_loss_epoch=473.0, train_total_loss_epoch=466.0, train_energy_loss_epoch=35.40, train_forces_loss_epoch=430.0]"
     ]
    },
    {
     "name": "stderr",
     "output_type": "stream",
     "text": [
      "     23         50         626.308          14.424         611.884           1.425           1.698           1.870           2.538\n"
     ]
    },
    {
     "name": "stdout",
     "output_type": "stream",
     "text": [
      "Epoch 23:  30%|███       | 60/200 [00:13<00:32,  4.37it/s, v_num=32, train_total_loss_step=403.0, train_energy_loss_step=77.00, train_forces_loss_step=326.0, val_total_loss_step=592.0, val_energy_loss_step=98.30, val_forces_loss_step=494.0, val_total_loss_epoch=575.0, val_energy_loss_epoch=101.0, val_forces_loss_epoch=473.0, train_total_loss_epoch=466.0, train_energy_loss_epoch=35.40, train_forces_loss_epoch=430.0]"
     ]
    },
    {
     "name": "stderr",
     "output_type": "stream",
     "text": [
      "     23         60         553.650         141.976         411.675           5.294           5.329           1.573           2.082\n"
     ]
    },
    {
     "name": "stdout",
     "output_type": "stream",
     "text": [
      "Epoch 23:  35%|███▌      | 70/200 [00:15<00:29,  4.38it/s, v_num=32, train_total_loss_step=722.0, train_energy_loss_step=236.0, train_forces_loss_step=486.0, val_total_loss_step=592.0, val_energy_loss_step=98.30, val_forces_loss_step=494.0, val_total_loss_epoch=575.0, val_energy_loss_epoch=101.0, val_forces_loss_epoch=473.0, train_total_loss_epoch=466.0, train_energy_loss_epoch=35.40, train_forces_loss_epoch=430.0]"
     ]
    },
    {
     "name": "stderr",
     "output_type": "stream",
     "text": [
      "     23         70         555.093          25.885         529.208           2.125           2.275           1.778           2.360\n"
     ]
    },
    {
     "name": "stdout",
     "output_type": "stream",
     "text": [
      "Epoch 23:  40%|████      | 80/200 [00:18<00:27,  4.39it/s, v_num=32, train_total_loss_step=630.0, train_energy_loss_step=192.0, train_forces_loss_step=439.0, val_total_loss_step=592.0, val_energy_loss_step=98.30, val_forces_loss_step=494.0, val_total_loss_epoch=575.0, val_energy_loss_epoch=101.0, val_forces_loss_epoch=473.0, train_total_loss_epoch=466.0, train_energy_loss_epoch=35.40, train_forces_loss_epoch=430.0]"
     ]
    },
    {
     "name": "stderr",
     "output_type": "stream",
     "text": [
      "     23         80         610.465         105.998         504.467           4.600           4.604           1.679           2.304\n"
     ]
    },
    {
     "name": "stdout",
     "output_type": "stream",
     "text": [
      "Epoch 23:  45%|████▌     | 90/200 [00:20<00:25,  4.39it/s, v_num=32, train_total_loss_step=500.0, train_energy_loss_step=4.560, train_forces_loss_step=495.0, val_total_loss_step=592.0, val_energy_loss_step=98.30, val_forces_loss_step=494.0, val_total_loss_epoch=575.0, val_energy_loss_epoch=101.0, val_forces_loss_epoch=473.0, train_total_loss_epoch=466.0, train_energy_loss_epoch=35.40, train_forces_loss_epoch=430.0]"
     ]
    },
    {
     "name": "stderr",
     "output_type": "stream",
     "text": [
      "     23         90         379.213           5.833         373.380           0.856           1.080           1.354           1.983\n"
     ]
    },
    {
     "name": "stdout",
     "output_type": "stream",
     "text": [
      "Epoch 23:  50%|█████     | 100/200 [00:22<00:22,  4.40it/s, v_num=32, train_total_loss_step=636.0, train_energy_loss_step=137.0, train_forces_loss_step=499.0, val_total_loss_step=592.0, val_energy_loss_step=98.30, val_forces_loss_step=494.0, val_total_loss_epoch=575.0, val_energy_loss_epoch=101.0, val_forces_loss_epoch=473.0, train_total_loss_epoch=466.0, train_energy_loss_epoch=35.40, train_forces_loss_epoch=430.0]"
     ]
    },
    {
     "name": "stderr",
     "output_type": "stream",
     "text": [
      "     23        100         285.911           5.038         280.873           0.881           1.004           1.288           1.719\n"
     ]
    },
    {
     "name": "stdout",
     "output_type": "stream",
     "text": [
      "Epoch 23:  55%|█████▌    | 110/200 [00:25<00:20,  4.39it/s, v_num=32, train_total_loss_step=528.0, train_energy_loss_step=141.0, train_forces_loss_step=386.0, val_total_loss_step=592.0, val_energy_loss_step=98.30, val_forces_loss_step=494.0, val_total_loss_epoch=575.0, val_energy_loss_epoch=101.0, val_forces_loss_epoch=473.0, train_total_loss_epoch=466.0, train_energy_loss_epoch=35.40, train_forces_loss_epoch=430.0]"
     ]
    },
    {
     "name": "stderr",
     "output_type": "stream",
     "text": [
      "     23        110         416.281         144.432         271.849           5.287           5.375           1.274           1.692\n"
     ]
    },
    {
     "name": "stdout",
     "output_type": "stream",
     "text": [
      "Epoch 23:  60%|██████    | 120/200 [00:27<00:18,  4.39it/s, v_num=32, train_total_loss_step=398.0, train_energy_loss_step=66.60, train_forces_loss_step=331.0, val_total_loss_step=592.0, val_energy_loss_step=98.30, val_forces_loss_step=494.0, val_total_loss_epoch=575.0, val_energy_loss_epoch=101.0, val_forces_loss_epoch=473.0, train_total_loss_epoch=466.0, train_energy_loss_epoch=35.40, train_forces_loss_epoch=430.0]"
     ]
    },
    {
     "name": "stderr",
     "output_type": "stream",
     "text": [
      "     23        120         517.786         126.597         391.189           5.006           5.032           1.490           2.029\n"
     ]
    },
    {
     "name": "stdout",
     "output_type": "stream",
     "text": [
      "Epoch 23:  65%|██████▌   | 130/200 [00:29<00:15,  4.40it/s, v_num=32, train_total_loss_step=387.0, train_energy_loss_step=81.10, train_forces_loss_step=306.0, val_total_loss_step=592.0, val_energy_loss_step=98.30, val_forces_loss_step=494.0, val_total_loss_epoch=575.0, val_energy_loss_epoch=101.0, val_forces_loss_epoch=473.0, train_total_loss_epoch=466.0, train_energy_loss_epoch=35.40, train_forces_loss_epoch=430.0]"
     ]
    },
    {
     "name": "stderr",
     "output_type": "stream",
     "text": [
      "     23        130         526.687          22.116         504.570           1.956           2.103           1.653           2.305\n"
     ]
    },
    {
     "name": "stdout",
     "output_type": "stream",
     "text": [
      "Epoch 23:  70%|███████   | 140/200 [00:31<00:13,  4.40it/s, v_num=32, train_total_loss_step=328.0, train_energy_loss_step=4.220, train_forces_loss_step=324.0, val_total_loss_step=592.0, val_energy_loss_step=98.30, val_forces_loss_step=494.0, val_total_loss_epoch=575.0, val_energy_loss_epoch=101.0, val_forces_loss_epoch=473.0, train_total_loss_epoch=466.0, train_energy_loss_epoch=35.40, train_forces_loss_epoch=430.0]"
     ]
    },
    {
     "name": "stderr",
     "output_type": "stream",
     "text": [
      "     23        140         309.648          47.688         261.961           2.950           3.088           1.258           1.661\n"
     ]
    },
    {
     "name": "stdout",
     "output_type": "stream",
     "text": [
      "Epoch 23:  75%|███████▌  | 150/200 [00:34<00:11,  4.40it/s, v_num=32, train_total_loss_step=499.0, train_energy_loss_step=103.0, train_forces_loss_step=397.0, val_total_loss_step=592.0, val_energy_loss_step=98.30, val_forces_loss_step=494.0, val_total_loss_epoch=575.0, val_energy_loss_epoch=101.0, val_forces_loss_epoch=473.0, train_total_loss_epoch=466.0, train_energy_loss_epoch=35.40, train_forces_loss_epoch=430.0]"
     ]
    },
    {
     "name": "stderr",
     "output_type": "stream",
     "text": [
      "     23        150         591.713          37.247         554.466           2.544           2.729           1.734           2.416\n"
     ]
    },
    {
     "name": "stdout",
     "output_type": "stream",
     "text": [
      "Epoch 23:  80%|████████  | 160/200 [00:36<00:09,  4.40it/s, v_num=32, train_total_loss_step=458.0, train_energy_loss_step=7.040, train_forces_loss_step=451.0, val_total_loss_step=592.0, val_energy_loss_step=98.30, val_forces_loss_step=494.0, val_total_loss_epoch=575.0, val_energy_loss_epoch=101.0, val_forces_loss_epoch=473.0, train_total_loss_epoch=466.0, train_energy_loss_epoch=35.40, train_forces_loss_epoch=430.0]"
     ]
    },
    {
     "name": "stderr",
     "output_type": "stream",
     "text": [
      "     23        160         625.703         281.506         344.197           7.450           7.503           1.354           1.903\n"
     ]
    },
    {
     "name": "stdout",
     "output_type": "stream",
     "text": [
      "Epoch 23:  85%|████████▌ | 170/200 [00:38<00:06,  4.40it/s, v_num=32, train_total_loss_step=479.0, train_energy_loss_step=15.00, train_forces_loss_step=464.0, val_total_loss_step=592.0, val_energy_loss_step=98.30, val_forces_loss_step=494.0, val_total_loss_epoch=575.0, val_energy_loss_epoch=101.0, val_forces_loss_epoch=473.0, train_total_loss_epoch=466.0, train_energy_loss_epoch=35.40, train_forces_loss_epoch=430.0]"
     ]
    },
    {
     "name": "stderr",
     "output_type": "stream",
     "text": [
      "     23        170         463.184           8.513         454.671           1.131           1.305           1.689           2.188\n"
     ]
    },
    {
     "name": "stdout",
     "output_type": "stream",
     "text": [
      "Epoch 23:  90%|█████████ | 180/200 [00:40<00:04,  4.40it/s, v_num=32, train_total_loss_step=436.0, train_energy_loss_step=40.30, train_forces_loss_step=396.0, val_total_loss_step=592.0, val_energy_loss_step=98.30, val_forces_loss_step=494.0, val_total_loss_epoch=575.0, val_energy_loss_epoch=101.0, val_forces_loss_epoch=473.0, train_total_loss_epoch=466.0, train_energy_loss_epoch=35.40, train_forces_loss_epoch=430.0]"
     ]
    },
    {
     "name": "stderr",
     "output_type": "stream",
     "text": [
      "     23        180         528.801           2.894         525.907           0.494           0.761           1.715           2.353\n"
     ]
    },
    {
     "name": "stdout",
     "output_type": "stream",
     "text": [
      "Epoch 23:  95%|█████████▌| 190/200 [00:43<00:02,  4.41it/s, v_num=32, train_total_loss_step=559.0, train_energy_loss_step=66.80, train_forces_loss_step=492.0, val_total_loss_step=592.0, val_energy_loss_step=98.30, val_forces_loss_step=494.0, val_total_loss_epoch=575.0, val_energy_loss_epoch=101.0, val_forces_loss_epoch=473.0, train_total_loss_epoch=466.0, train_energy_loss_epoch=35.40, train_forces_loss_epoch=430.0]"
     ]
    },
    {
     "name": "stderr",
     "output_type": "stream",
     "text": [
      "     23        190         388.152         118.515         269.637           4.756           4.869           1.269           1.685\n"
     ]
    },
    {
     "name": "stdout",
     "output_type": "stream",
     "text": [
      "Epoch 23: 100%|██████████| 200/200 [00:45<00:00,  4.41it/s, v_num=32, train_total_loss_step=650.0, train_energy_loss_step=41.20, train_forces_loss_step=608.0, val_total_loss_step=592.0, val_energy_loss_step=98.30, val_forces_loss_step=494.0, val_total_loss_epoch=575.0, val_energy_loss_epoch=101.0, val_forces_loss_epoch=473.0, train_total_loss_epoch=466.0, train_energy_loss_epoch=35.40, train_forces_loss_epoch=430.0]"
     ]
    },
    {
     "name": "stderr",
     "output_type": "stream",
     "text": [
      "\n",
      "\n",
      "Validating\n",
      "# epoch      batch      total_loss     energy_loss     forces_loss      energy_mae     energy_rmse      forces_mae     forces_rmse\n"
     ]
    },
    {
     "name": "stdout",
     "output_type": "stream",
     "text": []
    },
    {
     "name": "stderr",
     "output_type": "stream",
     "text": [
      "     23          0         513.033          31.894         481.139           2.449           2.526           1.720           2.250\n"
     ]
    },
    {
     "name": "stdout",
     "output_type": "stream",
     "text": []
    },
    {
     "name": "stderr",
     "output_type": "stream",
     "text": [
      "     23         10         467.526          57.166         410.360           3.301           3.381           1.618           2.078\n"
     ]
    },
    {
     "name": "stdout",
     "output_type": "stream",
     "text": []
    },
    {
     "name": "stderr",
     "output_type": "stream",
     "text": [
      "     23         20         575.825          44.761         531.063           2.879           2.992           1.770           2.364\n"
     ]
    },
    {
     "name": "stdout",
     "output_type": "stream",
     "text": []
    },
    {
     "name": "stderr",
     "output_type": "stream",
     "text": [
      "     23         30         507.935          42.912         465.023           2.863           2.930           1.631           2.212\n"
     ]
    },
    {
     "name": "stdout",
     "output_type": "stream",
     "text": []
    },
    {
     "name": "stderr",
     "output_type": "stream",
     "text": [
      "     23         40         606.555          52.805         553.750           3.051           3.250           1.835           2.414\n"
     ]
    },
    {
     "name": "stdout",
     "output_type": "stream",
     "text": []
    },
    {
     "name": "stderr",
     "output_type": "stream",
     "text": [
      "     23         50         571.091          59.440         511.651           3.367           3.448           1.701           2.321\n"
     ]
    },
    {
     "name": "stdout",
     "output_type": "stream",
     "text": []
    },
    {
     "name": "stderr",
     "output_type": "stream",
     "text": [
      "     23         60         512.417          49.183         463.233           2.961           3.136           1.648           2.208\n"
     ]
    },
    {
     "name": "stdout",
     "output_type": "stream",
     "text": []
    },
    {
     "name": "stderr",
     "output_type": "stream",
     "text": [
      "     23         70         446.266          50.020         396.246           3.055           3.163           1.545           2.042\n"
     ]
    },
    {
     "name": "stdout",
     "output_type": "stream",
     "text": []
    },
    {
     "name": "stderr",
     "output_type": "stream",
     "text": [
      "     23         80         544.879          47.793         497.086           2.969           3.092           1.729           2.287\n"
     ]
    },
    {
     "name": "stdout",
     "output_type": "stream",
     "text": []
    },
    {
     "name": "stderr",
     "output_type": "stream",
     "text": [
      "     23         90         519.667          44.753         474.914           2.887           2.992           1.694           2.236\n"
     ]
    },
    {
     "name": "stdout",
     "output_type": "stream",
     "text": []
    },
    {
     "name": "stderr",
     "output_type": "stream",
     "text": [
      "     23        100         627.044          51.382         575.663           3.008           3.206           1.830           2.462\n"
     ]
    },
    {
     "name": "stdout",
     "output_type": "stream",
     "text": []
    },
    {
     "name": "stderr",
     "output_type": "stream",
     "text": [
      "     23        110         444.358          56.055         388.303           3.266           3.348           1.514           2.022\n"
     ]
    },
    {
     "name": "stdout",
     "output_type": "stream",
     "text": []
    },
    {
     "name": "stderr",
     "output_type": "stream",
     "text": [
      "     23        120         434.494          41.768         392.726           2.770           2.890           1.543           2.033\n"
     ]
    },
    {
     "name": "stdout",
     "output_type": "stream",
     "text": []
    },
    {
     "name": "stderr",
     "output_type": "stream",
     "text": [
      "\n",
      "\n",
      "Epoch summary:\n",
      "Validation  # epoch      total_loss     energy_loss     forces_loss      energy_mae     energy_rmse      forces_mae     forces_rmse\n",
      "                 23         558.759          57.303         501.456           3.243           3.385           1.713           2.297\n"
     ]
    },
    {
     "name": "stdout",
     "output_type": "stream",
     "text": [
      "Epoch 23: 100%|██████████| 200/200 [01:09<00:00,  2.87it/s, v_num=32, train_total_loss_step=650.0, train_energy_loss_step=41.20, train_forces_loss_step=608.0, val_total_loss_step=543.0, val_energy_loss_step=54.00, val_forces_loss_step=489.0, val_total_loss_epoch=559.0, val_energy_loss_epoch=57.30, val_forces_loss_epoch=501.0, train_total_loss_epoch=470.0, train_energy_loss_epoch=53.80, train_forces_loss_epoch=416.0]"
     ]
    },
    {
     "name": "stderr",
     "output_type": "stream",
     "text": [
      "Train       # epoch      total_loss     energy_loss     forces_loss      energy_mae     energy_rmse      forces_mae     forces_rmse\n",
      "                 23         470.236          53.839         416.397           2.683           3.281           1.539           2.094\n"
     ]
    },
    {
     "name": "stdout",
     "output_type": "stream",
     "text": [
      "Epoch 24:   0%|          | 0/200 [00:00<?, ?it/s, v_num=32, train_total_loss_step=650.0, train_energy_loss_step=41.20, train_forces_loss_step=608.0, val_total_loss_step=543.0, val_energy_loss_step=54.00, val_forces_loss_step=489.0, val_total_loss_epoch=559.0, val_energy_loss_epoch=57.30, val_forces_loss_epoch=501.0, train_total_loss_epoch=470.0, train_energy_loss_epoch=53.80, train_forces_loss_epoch=416.0]          "
     ]
    },
    {
     "name": "stderr",
     "output_type": "stream",
     "text": [
      "\n",
      "\n",
      "Training\n",
      "# epoch      batch      total_loss     energy_loss     forces_loss      energy_mae     energy_rmse      forces_mae     forces_rmse\n",
      "     24          0         546.542          58.781         487.761           3.388           3.429           1.665           2.266\n"
     ]
    },
    {
     "name": "stdout",
     "output_type": "stream",
     "text": [
      "Epoch 24:   5%|▌         | 10/200 [00:02<00:45,  4.20it/s, v_num=32, train_total_loss_step=541.0, train_energy_loss_step=20.20, train_forces_loss_step=521.0, val_total_loss_step=543.0, val_energy_loss_step=54.00, val_forces_loss_step=489.0, val_total_loss_epoch=559.0, val_energy_loss_epoch=57.30, val_forces_loss_epoch=501.0, train_total_loss_epoch=470.0, train_energy_loss_epoch=53.80, train_forces_loss_epoch=416.0]"
     ]
    },
    {
     "name": "stderr",
     "output_type": "stream",
     "text": [
      "     24         10         826.982           1.857         825.125           0.488           0.609           2.058           2.947\n"
     ]
    },
    {
     "name": "stdout",
     "output_type": "stream",
     "text": [
      "Epoch 24:  10%|█         | 20/200 [00:04<00:41,  4.30it/s, v_num=32, train_total_loss_step=517.0, train_energy_loss_step=30.80, train_forces_loss_step=486.0, val_total_loss_step=543.0, val_energy_loss_step=54.00, val_forces_loss_step=489.0, val_total_loss_epoch=559.0, val_energy_loss_epoch=57.30, val_forces_loss_epoch=501.0, train_total_loss_epoch=470.0, train_energy_loss_epoch=53.80, train_forces_loss_epoch=416.0]"
     ]
    },
    {
     "name": "stderr",
     "output_type": "stream",
     "text": [
      "     24         20         505.308          34.596         470.712           2.513           2.630           1.714           2.226\n"
     ]
    },
    {
     "name": "stdout",
     "output_type": "stream",
     "text": [
      "Epoch 24:  15%|█▌        | 30/200 [00:06<00:39,  4.33it/s, v_num=32, train_total_loss_step=503.0, train_energy_loss_step=27.00, train_forces_loss_step=476.0, val_total_loss_step=543.0, val_energy_loss_step=54.00, val_forces_loss_step=489.0, val_total_loss_epoch=559.0, val_energy_loss_epoch=57.30, val_forces_loss_epoch=501.0, train_total_loss_epoch=470.0, train_energy_loss_epoch=53.80, train_forces_loss_epoch=416.0]"
     ]
    },
    {
     "name": "stderr",
     "output_type": "stream",
     "text": [
      "     24         30         473.377          49.844         423.534           3.075           3.157           1.549           2.111\n"
     ]
    },
    {
     "name": "stdout",
     "output_type": "stream",
     "text": [
      "Epoch 24:  20%|██        | 40/200 [00:09<00:36,  4.36it/s, v_num=32, train_total_loss_step=463.0, train_energy_loss_step=125.0, train_forces_loss_step=338.0, val_total_loss_step=543.0, val_energy_loss_step=54.00, val_forces_loss_step=489.0, val_total_loss_epoch=559.0, val_energy_loss_epoch=57.30, val_forces_loss_epoch=501.0, train_total_loss_epoch=470.0, train_energy_loss_epoch=53.80, train_forces_loss_epoch=416.0]"
     ]
    },
    {
     "name": "stderr",
     "output_type": "stream",
     "text": [
      "     24         40         342.708           3.057         339.651           0.625           0.782           1.433           1.891\n"
     ]
    },
    {
     "name": "stdout",
     "output_type": "stream",
     "text": [
      "Epoch 24:  25%|██▌       | 50/200 [00:11<00:34,  4.37it/s, v_num=32, train_total_loss_step=511.0, train_energy_loss_step=60.40, train_forces_loss_step=450.0, val_total_loss_step=543.0, val_energy_loss_step=54.00, val_forces_loss_step=489.0, val_total_loss_epoch=559.0, val_energy_loss_epoch=57.30, val_forces_loss_epoch=501.0, train_total_loss_epoch=470.0, train_energy_loss_epoch=53.80, train_forces_loss_epoch=416.0]"
     ]
    },
    {
     "name": "stderr",
     "output_type": "stream",
     "text": [
      "     24         50         624.309          89.646         534.664           4.181           4.234           1.825           2.372\n"
     ]
    },
    {
     "name": "stdout",
     "output_type": "stream",
     "text": [
      "Epoch 24:  30%|███       | 60/200 [00:13<00:31,  4.38it/s, v_num=32, train_total_loss_step=510.0, train_energy_loss_step=109.0, train_forces_loss_step=401.0, val_total_loss_step=543.0, val_energy_loss_step=54.00, val_forces_loss_step=489.0, val_total_loss_epoch=559.0, val_energy_loss_epoch=57.30, val_forces_loss_epoch=501.0, train_total_loss_epoch=470.0, train_energy_loss_epoch=53.80, train_forces_loss_epoch=416.0]"
     ]
    },
    {
     "name": "stderr",
     "output_type": "stream",
     "text": [
      "     24         60         385.717          13.164         372.553           1.413           1.623           1.468           1.980\n"
     ]
    },
    {
     "name": "stdout",
     "output_type": "stream",
     "text": [
      "Epoch 24:  35%|███▌      | 70/200 [00:15<00:29,  4.38it/s, v_num=32, train_total_loss_step=375.0, train_energy_loss_step=112.0, train_forces_loss_step=263.0, val_total_loss_step=543.0, val_energy_loss_step=54.00, val_forces_loss_step=489.0, val_total_loss_epoch=559.0, val_energy_loss_epoch=57.30, val_forces_loss_epoch=501.0, train_total_loss_epoch=470.0, train_energy_loss_epoch=53.80, train_forces_loss_epoch=416.0]"
     ]
    },
    {
     "name": "stderr",
     "output_type": "stream",
     "text": [
      "     24         70         474.273           8.214         466.059           1.119           1.282           1.612           2.215\n"
     ]
    },
    {
     "name": "stdout",
     "output_type": "stream",
     "text": [
      "Epoch 24:  40%|████      | 80/200 [00:18<00:27,  4.39it/s, v_num=32, train_total_loss_step=765.0, train_energy_loss_step=110.0, train_forces_loss_step=655.0, val_total_loss_step=543.0, val_energy_loss_step=54.00, val_forces_loss_step=489.0, val_total_loss_epoch=559.0, val_energy_loss_epoch=57.30, val_forces_loss_epoch=501.0, train_total_loss_epoch=470.0, train_energy_loss_epoch=53.80, train_forces_loss_epoch=416.0]"
     ]
    },
    {
     "name": "stderr",
     "output_type": "stream",
     "text": [
      "     24         80         723.794         377.599         346.196           8.656           8.690           1.374           1.909\n"
     ]
    },
    {
     "name": "stdout",
     "output_type": "stream",
     "text": [
      "Epoch 24:  45%|████▌     | 90/200 [00:20<00:25,  4.39it/s, v_num=32, train_total_loss_step=348.0, train_energy_loss_step=43.10, train_forces_loss_step=304.0, val_total_loss_step=543.0, val_energy_loss_step=54.00, val_forces_loss_step=489.0, val_total_loss_epoch=559.0, val_energy_loss_epoch=57.30, val_forces_loss_epoch=501.0, train_total_loss_epoch=470.0, train_energy_loss_epoch=53.80, train_forces_loss_epoch=416.0]"
     ]
    },
    {
     "name": "stderr",
     "output_type": "stream",
     "text": [
      "     24         90         661.171         295.592         365.580           7.675           7.689           1.442           1.962\n"
     ]
    },
    {
     "name": "stdout",
     "output_type": "stream",
     "text": [
      "Epoch 24:  50%|█████     | 100/200 [00:22<00:22,  4.40it/s, v_num=32, train_total_loss_step=351.0, train_energy_loss_step=6.240, train_forces_loss_step=344.0, val_total_loss_step=543.0, val_energy_loss_step=54.00, val_forces_loss_step=489.0, val_total_loss_epoch=559.0, val_energy_loss_epoch=57.30, val_forces_loss_epoch=501.0, train_total_loss_epoch=470.0, train_energy_loss_epoch=53.80, train_forces_loss_epoch=416.0]"
     ]
    },
    {
     "name": "stderr",
     "output_type": "stream",
     "text": [
      "     24        100         561.942          91.193         470.749           4.238           4.271           1.680           2.226\n"
     ]
    },
    {
     "name": "stdout",
     "output_type": "stream",
     "text": [
      "Epoch 24:  55%|█████▌    | 110/200 [00:25<00:20,  4.39it/s, v_num=32, train_total_loss_step=452.0, train_energy_loss_step=13.90, train_forces_loss_step=438.0, val_total_loss_step=543.0, val_energy_loss_step=54.00, val_forces_loss_step=489.0, val_total_loss_epoch=559.0, val_energy_loss_epoch=57.30, val_forces_loss_epoch=501.0, train_total_loss_epoch=470.0, train_energy_loss_epoch=53.80, train_forces_loss_epoch=416.0]"
     ]
    },
    {
     "name": "stderr",
     "output_type": "stream",
     "text": [
      "     24        110         533.441         153.003         380.438           5.469           5.532           1.509           2.001\n"
     ]
    },
    {
     "name": "stdout",
     "output_type": "stream",
     "text": [
      "Epoch 24:  60%|██████    | 120/200 [00:27<00:18,  4.39it/s, v_num=32, train_total_loss_step=374.0, train_energy_loss_step=5.250, train_forces_loss_step=368.0, val_total_loss_step=543.0, val_energy_loss_step=54.00, val_forces_loss_step=489.0, val_total_loss_epoch=559.0, val_energy_loss_epoch=57.30, val_forces_loss_epoch=501.0, train_total_loss_epoch=470.0, train_energy_loss_epoch=53.80, train_forces_loss_epoch=416.0]"
     ]
    },
    {
     "name": "stderr",
     "output_type": "stream",
     "text": [
      "     24        120         363.161          48.924         314.237           3.112           3.128           1.350           1.819\n"
     ]
    },
    {
     "name": "stdout",
     "output_type": "stream",
     "text": [
      "Epoch 24:  65%|██████▌   | 130/200 [00:29<00:15,  4.40it/s, v_num=32, train_total_loss_step=382.0, train_energy_loss_step=3.930, train_forces_loss_step=378.0, val_total_loss_step=543.0, val_energy_loss_step=54.00, val_forces_loss_step=489.0, val_total_loss_epoch=559.0, val_energy_loss_epoch=57.30, val_forces_loss_epoch=501.0, train_total_loss_epoch=470.0, train_energy_loss_epoch=53.80, train_forces_loss_epoch=416.0]"
     ]
    },
    {
     "name": "stderr",
     "output_type": "stream",
     "text": [
      "     24        130         438.016          51.979         386.036           3.131           3.224           1.517           2.016\n"
     ]
    },
    {
     "name": "stdout",
     "output_type": "stream",
     "text": [
      "Epoch 24:  70%|███████   | 140/200 [00:31<00:13,  4.40it/s, v_num=32, train_total_loss_step=592.0, train_energy_loss_step=18.40, train_forces_loss_step=573.0, val_total_loss_step=543.0, val_energy_loss_step=54.00, val_forces_loss_step=489.0, val_total_loss_epoch=559.0, val_energy_loss_epoch=57.30, val_forces_loss_epoch=501.0, train_total_loss_epoch=470.0, train_energy_loss_epoch=53.80, train_forces_loss_epoch=416.0]"
     ]
    },
    {
     "name": "stderr",
     "output_type": "stream",
     "text": [
      "     24        140         502.543          35.448         467.095           2.406           2.663           1.630           2.217\n"
     ]
    },
    {
     "name": "stdout",
     "output_type": "stream",
     "text": [
      "Epoch 24:  75%|███████▌  | 150/200 [00:34<00:11,  4.40it/s, v_num=32, train_total_loss_step=323.0, train_energy_loss_step=50.20, train_forces_loss_step=273.0, val_total_loss_step=543.0, val_energy_loss_step=54.00, val_forces_loss_step=489.0, val_total_loss_epoch=559.0, val_energy_loss_epoch=57.30, val_forces_loss_epoch=501.0, train_total_loss_epoch=470.0, train_energy_loss_epoch=53.80, train_forces_loss_epoch=416.0]"
     ]
    },
    {
     "name": "stderr",
     "output_type": "stream",
     "text": [
      "     24        150         343.856          20.884         322.972           1.881           2.044           1.372           1.844\n"
     ]
    },
    {
     "name": "stdout",
     "output_type": "stream",
     "text": [
      "Epoch 24:  80%|████████  | 160/200 [00:36<00:09,  4.40it/s, v_num=32, train_total_loss_step=679.0, train_energy_loss_step=43.80, train_forces_loss_step=635.0, val_total_loss_step=543.0, val_energy_loss_step=54.00, val_forces_loss_step=489.0, val_total_loss_epoch=559.0, val_energy_loss_epoch=57.30, val_forces_loss_epoch=501.0, train_total_loss_epoch=470.0, train_energy_loss_epoch=53.80, train_forces_loss_epoch=416.0]"
     ]
    },
    {
     "name": "stderr",
     "output_type": "stream",
     "text": [
      "     24        160         552.256           7.768         544.488           1.050           1.246           1.762           2.394\n"
     ]
    },
    {
     "name": "stdout",
     "output_type": "stream",
     "text": [
      "Epoch 24:  85%|████████▌ | 170/200 [00:38<00:06,  4.40it/s, v_num=32, train_total_loss_step=347.0, train_energy_loss_step=15.40, train_forces_loss_step=332.0, val_total_loss_step=543.0, val_energy_loss_step=54.00, val_forces_loss_step=489.0, val_total_loss_epoch=559.0, val_energy_loss_epoch=57.30, val_forces_loss_epoch=501.0, train_total_loss_epoch=470.0, train_energy_loss_epoch=53.80, train_forces_loss_epoch=416.0]"
     ]
    },
    {
     "name": "stderr",
     "output_type": "stream",
     "text": [
      "     24        170         402.823          12.397         390.426           1.281           1.575           1.563           2.027\n"
     ]
    },
    {
     "name": "stdout",
     "output_type": "stream",
     "text": [
      "Epoch 24:  90%|█████████ | 180/200 [00:40<00:04,  4.40it/s, v_num=32, train_total_loss_step=493.0, train_energy_loss_step=2.370, train_forces_loss_step=490.0, val_total_loss_step=543.0, val_energy_loss_step=54.00, val_forces_loss_step=489.0, val_total_loss_epoch=559.0, val_energy_loss_epoch=57.30, val_forces_loss_epoch=501.0, train_total_loss_epoch=470.0, train_energy_loss_epoch=53.80, train_forces_loss_epoch=416.0]"
     ]
    },
    {
     "name": "stderr",
     "output_type": "stream",
     "text": [
      "     24        180         310.383          12.977         297.406           1.513           1.611           1.378           1.769\n"
     ]
    },
    {
     "name": "stdout",
     "output_type": "stream",
     "text": [
      "Epoch 24:  95%|█████████▌| 190/200 [00:43<00:02,  4.40it/s, v_num=32, train_total_loss_step=322.0, train_energy_loss_step=15.30, train_forces_loss_step=307.0, val_total_loss_step=543.0, val_energy_loss_step=54.00, val_forces_loss_step=489.0, val_total_loss_epoch=559.0, val_energy_loss_epoch=57.30, val_forces_loss_epoch=501.0, train_total_loss_epoch=470.0, train_energy_loss_epoch=53.80, train_forces_loss_epoch=416.0]"
     ]
    },
    {
     "name": "stderr",
     "output_type": "stream",
     "text": [
      "     24        190         513.468           3.590         509.879           0.775           0.847           1.710           2.317\n"
     ]
    },
    {
     "name": "stdout",
     "output_type": "stream",
     "text": [
      "Epoch 24: 100%|██████████| 200/200 [00:45<00:00,  4.41it/s, v_num=32, train_total_loss_step=502.0, train_energy_loss_step=32.40, train_forces_loss_step=469.0, val_total_loss_step=543.0, val_energy_loss_step=54.00, val_forces_loss_step=489.0, val_total_loss_epoch=559.0, val_energy_loss_epoch=57.30, val_forces_loss_epoch=501.0, train_total_loss_epoch=470.0, train_energy_loss_epoch=53.80, train_forces_loss_epoch=416.0]"
     ]
    },
    {
     "name": "stderr",
     "output_type": "stream",
     "text": [
      "\n",
      "\n",
      "Validating\n",
      "# epoch      batch      total_loss     energy_loss     forces_loss      energy_mae     energy_rmse      forces_mae     forces_rmse\n"
     ]
    },
    {
     "name": "stdout",
     "output_type": "stream",
     "text": []
    },
    {
     "name": "stderr",
     "output_type": "stream",
     "text": [
      "     24          0         747.805          13.987         733.818           1.414           1.673           2.066           2.779\n"
     ]
    },
    {
     "name": "stdout",
     "output_type": "stream",
     "text": []
    },
    {
     "name": "stderr",
     "output_type": "stream",
     "text": [
      "     24         10         590.963           5.102         585.861           0.824           1.010           1.864           2.483\n"
     ]
    },
    {
     "name": "stdout",
     "output_type": "stream",
     "text": []
    },
    {
     "name": "stderr",
     "output_type": "stream",
     "text": [
      "     24         20         687.582           9.479         678.103           1.078           1.377           1.976           2.672\n"
     ]
    },
    {
     "name": "stdout",
     "output_type": "stream",
     "text": []
    },
    {
     "name": "stderr",
     "output_type": "stream",
     "text": [
      "     24         30         688.067           6.941         681.126           0.969           1.178           1.980           2.678\n"
     ]
    },
    {
     "name": "stdout",
     "output_type": "stream",
     "text": []
    },
    {
     "name": "stderr",
     "output_type": "stream",
     "text": [
      "     24         40         698.432           3.873         694.558           0.703           0.880           1.991           2.704\n"
     ]
    },
    {
     "name": "stdout",
     "output_type": "stream",
     "text": []
    },
    {
     "name": "stderr",
     "output_type": "stream",
     "text": [
      "     24         50         669.329           7.047         662.282           0.746           1.187           1.999           2.640\n"
     ]
    },
    {
     "name": "stdout",
     "output_type": "stream",
     "text": []
    },
    {
     "name": "stderr",
     "output_type": "stream",
     "text": [
      "     24         60         593.925           3.405         590.520           0.703           0.825           1.886           2.493\n"
     ]
    },
    {
     "name": "stdout",
     "output_type": "stream",
     "text": []
    },
    {
     "name": "stderr",
     "output_type": "stream",
     "text": [
      "     24         70         572.991           0.997         571.995           0.309           0.446           1.794           2.454\n"
     ]
    },
    {
     "name": "stdout",
     "output_type": "stream",
     "text": []
    },
    {
     "name": "stderr",
     "output_type": "stream",
     "text": [
      "     24         80         772.125           5.768         766.357           0.777           1.074           2.126           2.840\n"
     ]
    },
    {
     "name": "stdout",
     "output_type": "stream",
     "text": []
    },
    {
     "name": "stderr",
     "output_type": "stream",
     "text": [
      "     24         90         683.461           6.160         677.300           0.965           1.110           1.968           2.670\n"
     ]
    },
    {
     "name": "stdout",
     "output_type": "stream",
     "text": []
    },
    {
     "name": "stderr",
     "output_type": "stream",
     "text": [
      "     24        100         772.337           6.011         766.326           0.664           1.096           2.076           2.840\n"
     ]
    },
    {
     "name": "stdout",
     "output_type": "stream",
     "text": []
    },
    {
     "name": "stderr",
     "output_type": "stream",
     "text": [
      "     24        110         630.821           3.646         627.176           0.637           0.854           1.932           2.569\n"
     ]
    },
    {
     "name": "stdout",
     "output_type": "stream",
     "text": []
    },
    {
     "name": "stderr",
     "output_type": "stream",
     "text": [
      "     24        120         563.119           6.808         556.310           0.996           1.167           1.858           2.420\n"
     ]
    },
    {
     "name": "stdout",
     "output_type": "stream",
     "text": []
    },
    {
     "name": "stderr",
     "output_type": "stream",
     "text": [
      "\n",
      "\n",
      "Epoch summary:\n",
      "Validation  # epoch      total_loss     energy_loss     forces_loss      energy_mae     energy_rmse      forces_mae     forces_rmse\n",
      "                 24         699.925           6.282         693.643           0.862           1.121           1.994           2.702\n"
     ]
    },
    {
     "name": "stdout",
     "output_type": "stream",
     "text": [
      "Epoch 24: 100%|██████████| 200/200 [01:09<00:00,  2.87it/s, v_num=32, train_total_loss_step=502.0, train_energy_loss_step=32.40, train_forces_loss_step=469.0, val_total_loss_step=745.0, val_energy_loss_step=5.300, val_forces_loss_step=740.0, val_total_loss_epoch=700.0, val_energy_loss_epoch=6.280, val_forces_loss_epoch=694.0, train_total_loss_epoch=491.0, train_energy_loss_epoch=56.60, train_forces_loss_epoch=435.0]"
     ]
    },
    {
     "name": "stderr",
     "output_type": "stream",
     "text": [
      "Train       # epoch      total_loss     energy_loss     forces_loss      energy_mae     energy_rmse      forces_mae     forces_rmse\n",
      "                 24         491.184          56.648         434.536           2.747           3.366           1.575           2.139\n"
     ]
    },
    {
     "name": "stdout",
     "output_type": "stream",
     "text": [
      "Epoch 25:   0%|          | 0/200 [00:00<?, ?it/s, v_num=32, train_total_loss_step=502.0, train_energy_loss_step=32.40, train_forces_loss_step=469.0, val_total_loss_step=745.0, val_energy_loss_step=5.300, val_forces_loss_step=740.0, val_total_loss_epoch=700.0, val_energy_loss_epoch=6.280, val_forces_loss_epoch=694.0, train_total_loss_epoch=491.0, train_energy_loss_epoch=56.60, train_forces_loss_epoch=435.0]          "
     ]
    },
    {
     "name": "stderr",
     "output_type": "stream",
     "text": [
      "\n",
      "\n",
      "Training\n",
      "# epoch      batch      total_loss     energy_loss     forces_loss      energy_mae     energy_rmse      forces_mae     forces_rmse\n",
      "     25          0         637.033          15.899         621.134           1.319           1.783           1.905           2.557\n"
     ]
    },
    {
     "name": "stdout",
     "output_type": "stream",
     "text": [
      "Epoch 25:   5%|▌         | 10/200 [00:02<00:44,  4.24it/s, v_num=32, train_total_loss_step=512.0, train_energy_loss_step=9.580, train_forces_loss_step=502.0, val_total_loss_step=745.0, val_energy_loss_step=5.300, val_forces_loss_step=740.0, val_total_loss_epoch=700.0, val_energy_loss_epoch=6.280, val_forces_loss_epoch=694.0, train_total_loss_epoch=491.0, train_energy_loss_epoch=56.60, train_forces_loss_epoch=435.0]"
     ]
    },
    {
     "name": "stderr",
     "output_type": "stream",
     "text": [
      "     25         10         403.634          16.892         386.742           1.669           1.838           1.449           2.018\n"
     ]
    },
    {
     "name": "stdout",
     "output_type": "stream",
     "text": [
      "Epoch 25:  10%|█         | 20/200 [00:04<00:41,  4.32it/s, v_num=32, train_total_loss_step=563.0, train_energy_loss_step=66.00, train_forces_loss_step=497.0, val_total_loss_step=745.0, val_energy_loss_step=5.300, val_forces_loss_step=740.0, val_total_loss_epoch=700.0, val_energy_loss_epoch=6.280, val_forces_loss_epoch=694.0, train_total_loss_epoch=491.0, train_energy_loss_epoch=56.60, train_forces_loss_epoch=435.0]"
     ]
    },
    {
     "name": "stderr",
     "output_type": "stream",
     "text": [
      "     25         20         756.637           8.619         748.018           1.175           1.313           1.955           2.806\n"
     ]
    },
    {
     "name": "stdout",
     "output_type": "stream",
     "text": [
      "Epoch 25:  15%|█▌        | 30/200 [00:06<00:39,  4.31it/s, v_num=32, train_total_loss_step=404.0, train_energy_loss_step=4.740, train_forces_loss_step=399.0, val_total_loss_step=745.0, val_energy_loss_step=5.300, val_forces_loss_step=740.0, val_total_loss_epoch=700.0, val_energy_loss_epoch=6.280, val_forces_loss_epoch=694.0, train_total_loss_epoch=491.0, train_energy_loss_epoch=56.60, train_forces_loss_epoch=435.0]"
     ]
    },
    {
     "name": "stderr",
     "output_type": "stream",
     "text": [
      "     25         30         460.825          23.328         437.497           2.000           2.160           1.534           2.146\n"
     ]
    },
    {
     "name": "stdout",
     "output_type": "stream",
     "text": [
      "Epoch 25:  20%|██        | 40/200 [00:09<00:37,  4.30it/s, v_num=32, train_total_loss_step=361.0, train_energy_loss_step=9.670, train_forces_loss_step=351.0, val_total_loss_step=745.0, val_energy_loss_step=5.300, val_forces_loss_step=740.0, val_total_loss_epoch=700.0, val_energy_loss_epoch=6.280, val_forces_loss_epoch=694.0, train_total_loss_epoch=491.0, train_energy_loss_epoch=56.60, train_forces_loss_epoch=435.0]"
     ]
    },
    {
     "name": "stderr",
     "output_type": "stream",
     "text": [
      "     25         40         515.552          36.884         478.668           2.531           2.716           1.683           2.245\n"
     ]
    },
    {
     "name": "stdout",
     "output_type": "stream",
     "text": [
      "Epoch 25:  25%|██▌       | 50/200 [00:11<00:34,  4.31it/s, v_num=32, train_total_loss_step=499.0, train_energy_loss_step=38.00, train_forces_loss_step=461.0, val_total_loss_step=745.0, val_energy_loss_step=5.300, val_forces_loss_step=740.0, val_total_loss_epoch=700.0, val_energy_loss_epoch=6.280, val_forces_loss_epoch=694.0, train_total_loss_epoch=491.0, train_energy_loss_epoch=56.60, train_forces_loss_epoch=435.0]"
     ]
    },
    {
     "name": "stderr",
     "output_type": "stream",
     "text": [
      "     25         50         429.898           1.525         428.373           0.463           0.552           1.538           2.123\n"
     ]
    },
    {
     "name": "stdout",
     "output_type": "stream",
     "text": [
      "Epoch 25:  30%|███       | 60/200 [00:13<00:32,  4.32it/s, v_num=32, train_total_loss_step=518.0, train_energy_loss_step=54.90, train_forces_loss_step=463.0, val_total_loss_step=745.0, val_energy_loss_step=5.300, val_forces_loss_step=740.0, val_total_loss_epoch=700.0, val_energy_loss_epoch=6.280, val_forces_loss_epoch=694.0, train_total_loss_epoch=491.0, train_energy_loss_epoch=56.60, train_forces_loss_epoch=435.0]"
     ]
    },
    {
     "name": "stderr",
     "output_type": "stream",
     "text": [
      "     25         60         359.740          29.380         330.360           2.344           2.424           1.450           1.865\n"
     ]
    },
    {
     "name": "stdout",
     "output_type": "stream",
     "text": [
      "Epoch 25:  35%|███▌      | 70/200 [00:16<00:30,  4.32it/s, v_num=32, train_total_loss_step=379.0, train_energy_loss_step=4.010, train_forces_loss_step=375.0, val_total_loss_step=745.0, val_energy_loss_step=5.300, val_forces_loss_step=740.0, val_total_loss_epoch=700.0, val_energy_loss_epoch=6.280, val_forces_loss_epoch=694.0, train_total_loss_epoch=491.0, train_energy_loss_epoch=56.60, train_forces_loss_epoch=435.0]"
     ]
    },
    {
     "name": "stderr",
     "output_type": "stream",
     "text": [
      "     25         70         610.724         133.702         477.022           5.081           5.171           1.658           2.241\n"
     ]
    },
    {
     "name": "stdout",
     "output_type": "stream",
     "text": [
      "Epoch 25:  40%|████      | 80/200 [00:18<00:27,  4.32it/s, v_num=32, train_total_loss_step=535.0, train_energy_loss_step=32.70, train_forces_loss_step=502.0, val_total_loss_step=745.0, val_energy_loss_step=5.300, val_forces_loss_step=740.0, val_total_loss_epoch=700.0, val_energy_loss_epoch=6.280, val_forces_loss_epoch=694.0, train_total_loss_epoch=491.0, train_energy_loss_epoch=56.60, train_forces_loss_epoch=435.0]"
     ]
    },
    {
     "name": "stderr",
     "output_type": "stream",
     "text": [
      "     25         80         458.407           5.703         452.704           0.825           1.068           1.607           2.183\n"
     ]
    },
    {
     "name": "stdout",
     "output_type": "stream",
     "text": [
      "Epoch 25:  45%|████▌     | 90/200 [00:20<00:25,  4.32it/s, v_num=32, train_total_loss_step=425.0, train_energy_loss_step=35.40, train_forces_loss_step=390.0, val_total_loss_step=745.0, val_energy_loss_step=5.300, val_forces_loss_step=740.0, val_total_loss_epoch=700.0, val_energy_loss_epoch=6.280, val_forces_loss_epoch=694.0, train_total_loss_epoch=491.0, train_energy_loss_epoch=56.60, train_forces_loss_epoch=435.0]"
     ]
    },
    {
     "name": "stderr",
     "output_type": "stream",
     "text": [
      "     25         90         497.379         137.696         359.683           5.169           5.248           1.405           1.946\n"
     ]
    },
    {
     "name": "stdout",
     "output_type": "stream",
     "text": [
      "Epoch 25:  48%|████▊     | 96/200 [00:22<00:24,  4.31it/s, v_num=32, train_total_loss_step=463.0, train_energy_loss_step=59.50, train_forces_loss_step=404.0, val_total_loss_step=745.0, val_energy_loss_step=5.300, val_forces_loss_step=740.0, val_total_loss_epoch=700.0, val_energy_loss_epoch=6.280, val_forces_loss_epoch=694.0, train_total_loss_epoch=491.0, train_energy_loss_epoch=56.60, train_forces_loss_epoch=435.0]"
     ]
    },
    {
     "name": "stderr",
     "output_type": "stream",
     "text": [
      "/home/xinyang/miniconda3/lib/python3.11/site-packages/pytorch_lightning/trainer/call.py:52: UserWarning: Detected KeyboardInterrupt, attempting graceful shutdown...\n",
      "  rank_zero_warn(\"Detected KeyboardInterrupt, attempting graceful shutdown...\")\n"
     ]
    }
   ],
   "source": [
    "trainer.fit(task, data)"
   ]
  },
  {
   "cell_type": "code",
   "execution_count": 5,
   "metadata": {},
   "outputs": [],
   "source": [
    "state_dict = torch.load('model_path/best_model_epoch=0-step=200-val_total_loss=4915.70.ckpt')"
   ]
  },
  {
   "cell_type": "code",
   "execution_count": 15,
   "metadata": {},
   "outputs": [
    {
     "data": {
      "text/plain": [
       "tensor(19.0259, device='cuda:0')"
      ]
     },
     "execution_count": 15,
     "metadata": {},
     "output_type": "execute_result"
    }
   ],
   "source": [
    "state_dict['outputs'][0].train_metrics['mae'].compute()"
   ]
  },
  {
   "cell_type": "code",
   "execution_count": null,
   "metadata": {},
   "outputs": [],
   "source": []
  },
  {
   "cell_type": "code",
   "execution_count": null,
   "metadata": {},
   "outputs": [],
   "source": []
  },
  {
   "cell_type": "code",
   "execution_count": null,
   "metadata": {},
   "outputs": [],
   "source": []
  },
  {
   "cell_type": "code",
   "execution_count": 6,
   "metadata": {},
   "outputs": [],
   "source": [
    "trainer._results"
   ]
  },
  {
   "cell_type": "code",
   "execution_count": null,
   "metadata": {},
   "outputs": [],
   "source": []
  },
  {
   "cell_type": "code",
   "execution_count": 4,
   "metadata": {},
   "outputs": [],
   "source": [
    "from mace.calculators import mace_mp"
   ]
  },
  {
   "cell_type": "code",
   "execution_count": 5,
   "metadata": {},
   "outputs": [
    {
     "name": "stdout",
     "output_type": "stream",
     "text": [
      "Using Materials Project MACE for MACECalculator with /home/xinyang/.cache/mace/43hjdekn\n",
      "Using float32 for MACECalculator, which is faster but less accurate. Recommended for MD. Use float64 for geometry optimization.\n",
      "Default dtype float32 does not match model dtype float64, converting models to float32.\n"
     ]
    }
   ],
   "source": [
    "mace_calc = mace_mp(model='large')\n",
    "mace_model = mace_calc.models[0]"
   ]
  },
  {
   "cell_type": "code",
   "execution_count": 6,
   "metadata": {},
   "outputs": [],
   "source": [
    "# load mace foundation model\n",
    "\n",
    "for readout in mace_model.readouts:\n",
    "    if readout.__class__.__name__ == 'NonLinearReadoutBlock':\n",
    "        MLP_irreps = readout.hidden_irreps\n",
    "        gate = readout.non_linearity.acts[0]\n",
    "        break\n",
    "\n",
    "num_interactions = len(mace_model.interactions)\n",
    "curator_mace = curator.model.MACE(\n",
    "    cutoff=float(mace_model.r_max),\n",
    "    num_interactions=num_interactions,\n",
    "    correlation=[prod.symmetric_contractions.contractions[0].correlation for prod in mace_model.products],\n",
    "    species=[chemical_symbols[i] for i in mace_model.atomic_numbers],\n",
    "    num_elements=len(mace_model.atomic_numbers),\n",
    "    hidden_irreps=mace_model.interactions[0].hidden_irreps,\n",
    "    edge_sh_irreps=mace_model.spherical_harmonics.irreps_out,\n",
    "    # node_irreps: Union[o3.Irreps, str, None] = None,\n",
    "    MLP_irreps=MLP_irreps,\n",
    "    avg_num_neighbors=mace_model.interactions[0].avg_num_neighbors,\n",
    "    num_basis=len(mace_model.radial_embedding.bessel_fn.bessel_weights),\n",
    "    power=int(mace_model.radial_embedding.cutoff_fn.p),\n",
    "    gate=gate,\n",
    ")"
   ]
  },
  {
   "cell_type": "code",
   "execution_count": 8,
   "metadata": {},
   "outputs": [
    {
     "data": {
      "text/plain": [
       "61.964672446250916"
      ]
     },
     "execution_count": 8,
     "metadata": {},
     "output_type": "execute_result"
    }
   ],
   "source": [
    "mace_model.interactions[0].avg_num_neighbors"
   ]
  },
  {
   "cell_type": "code",
   "execution_count": 11,
   "metadata": {},
   "outputs": [
    {
     "data": {
      "text/plain": [
       "tensor([61.9647])"
      ]
     },
     "execution_count": 11,
     "metadata": {},
     "output_type": "execute_result"
    }
   ],
   "source": [
    "curator_mace.interactions[0].avg_num_neighbors"
   ]
  },
  {
   "cell_type": "code",
   "execution_count": 11,
   "metadata": {},
   "outputs": [],
   "source": [
    "curator_mace.embeddings.chemical_embedding.load_state_dict(mace_model.node_embedding.state_dict())\n",
    "for i in range(num_interactions):\n",
    "    # load interaction layers\n",
    "    avg = curator_mace.interactions[i].avg_num_neighbors\n",
    "    curator_mace.interactions[i].avg_num_neighbors = torch.tensor([mace_model.interactions[i].avg_num_neighbors], dtype=avg.dtype, device=avg.device)\n",
    "    curator_mace.interactions[i].linear_1.load_state_dict(mace_model.interactions[i].linear_up.state_dict())\n",
    "    curator_mace.interactions[i].linear_2.load_state_dict(mace_model.interactions[i].linear.state_dict())\n",
    "\n",
    "    # load product layers\n",
    "    curator_mace.products[i].load_state_dict(mace_model.products[i].state_dict())\n",
    "    \n",
    "    if mace_model.readouts[i].__class__.__name__ == 'NonLinearReadoutBlock':\n",
    "        curator_mace.readouts[i].load_state_dict(mace_model.readouts[i].state_dict())\n",
    "    else:\n",
    "        curator_mace.readouts[i].load_state_dict(mace_model.readouts[i].linear.state_dict())"
   ]
  },
  {
   "cell_type": "code",
   "execution_count": 17,
   "metadata": {},
   "outputs": [],
   "source": [
    "input_modules = [curator.layer.PairwiseDistance()]\n",
    "output_modules = [curator.layer.AtomwiseReduce()]"
   ]
  },
  {
   "cell_type": "code",
   "execution_count": 19,
   "metadata": {},
   "outputs": [],
   "source": [
    "atoms = read('/home/xinyang/Au-water_test.traj', -1)"
   ]
  },
  {
   "cell_type": "code",
   "execution_count": 20,
   "metadata": {},
   "outputs": [
    {
     "data": {
      "text/plain": [
       "Atoms(symbols='H113Au64O59', pbc=True, cell=[11.5889, 11.5889, 35.0], momenta=..., calculator=SinglePointCalculator(...))"
      ]
     },
     "execution_count": 20,
     "metadata": {},
     "output_type": "execute_result"
    }
   ],
   "source": [
    "atoms"
   ]
  },
  {
   "cell_type": "code",
   "execution_count": 21,
   "metadata": {},
   "outputs": [
    {
     "data": {
      "text/plain": [
       "Configuration(atomic_numbers=array([79, 79, 79, 79, 79, 79, 79, 79, 79, 79, 79, 79, 79, 79, 79, 79, 79,\n",
       "       79, 79, 79, 79, 79, 79, 79, 79, 79, 79, 79, 79, 79, 79, 79, 79, 79,\n",
       "       79, 79, 79, 79, 79, 79, 79, 79, 79, 79, 79, 79, 79, 79, 79, 79, 79,\n",
       "       79, 79, 79, 79, 79, 79, 79, 79, 79, 79, 79, 79, 79,  8,  8,  8,  8,\n",
       "        8,  8,  8,  8,  8,  8,  8,  8,  8,  8,  8,  8,  8,  8,  8,  8,  8,\n",
       "        8,  8,  8,  8,  8,  8,  8,  8,  8,  8,  8,  8,  8,  8,  8,  8,  8,\n",
       "        8,  8,  8,  8,  8,  8,  8,  8,  8,  8,  8,  8,  8,  8,  8,  8,  8,\n",
       "        8,  8,  8,  8,  1,  1,  1,  1,  1,  1,  1,  1,  1,  1,  1,  1,  1,\n",
       "        1,  1,  1,  1,  1,  1,  1,  1,  1,  1,  1,  1,  1,  1,  1,  1,  1,\n",
       "        1,  1,  1,  1,  1,  1,  1,  1,  1,  1,  1,  1,  1,  1,  1,  1,  1,\n",
       "        1,  1,  1,  1,  1,  1,  1,  1,  1,  1,  1,  1,  1,  1,  1,  1,  1,\n",
       "        1,  1,  1,  1,  1,  1,  1,  1,  1,  1,  1,  1,  1,  1,  1,  1,  1,\n",
       "        1,  1,  1,  1,  1,  1,  1,  1,  1,  1,  1,  1,  1,  1,  1,  1,  1,\n",
       "        1,  1,  1,  1,  1,  1,  1,  1,  1,  1,  1,  1,  1,  1,  1]), positions=array([[ 0.00000e+00,  0.00000e+00,  3.50000e+00],\n",
       "       [ 1.44861e+00,  1.44861e+00,  5.54855e+00],\n",
       "       [ 1.14184e+01,  1.15536e+01,  7.77246e+00],\n",
       "       [ 7.26745e+00,  4.22211e+00,  9.56449e+00],\n",
       "       [ 0.00000e+00,  2.89723e+00,  3.50000e+00],\n",
       "       [ 1.44861e+00,  4.34584e+00,  5.54855e+00],\n",
       "       [ 4.60861e-01,  2.92426e+00,  7.77956e+00],\n",
       "       [ 1.82379e+00,  4.34008e+00,  9.93273e+00],\n",
       "       [ 0.00000e+00,  5.79445e+00,  3.50000e+00],\n",
       "       [ 1.44861e+00,  7.24306e+00,  5.54855e+00],\n",
       "       [ 1.45296e-01,  5.84322e+00,  7.62812e+00],\n",
       "       [ 1.59413e+00,  7.24439e+00,  9.82514e+00],\n",
       "       [ 0.00000e+00,  8.69168e+00,  3.50000e+00],\n",
       "       [ 1.44861e+00,  1.01403e+01,  5.54855e+00],\n",
       "       [ 1.15407e+01,  8.56570e+00,  7.56895e+00],\n",
       "       [ 4.79149e+00,  5.16116e+00,  1.00501e+01],\n",
       "       [ 2.89723e+00,  0.00000e+00,  3.50000e+00],\n",
       "       [ 4.34584e+00,  1.44861e+00,  5.54855e+00],\n",
       "       [ 2.71149e+00,  1.15881e+01,  7.61773e+00],\n",
       "       [ 6.91130e+00,  1.03982e+01,  9.64009e+00],\n",
       "       [ 2.89723e+00,  2.89723e+00,  3.50000e+00],\n",
       "       [ 4.34584e+00,  4.34584e+00,  5.54855e+00],\n",
       "       [ 3.30803e+00,  2.77386e+00,  7.84250e+00],\n",
       "       [ 4.06084e+00,  8.47126e+00,  1.01157e+01],\n",
       "       [ 2.89723e+00,  5.79445e+00,  3.50000e+00],\n",
       "       [ 4.34584e+00,  7.24306e+00,  5.54855e+00],\n",
       "       [ 3.06469e+00,  5.83041e+00,  7.74448e+00],\n",
       "       [ 4.83157e+00,  2.36110e+00,  1.01275e+01],\n",
       "       [ 2.89723e+00,  8.69168e+00,  3.50000e+00],\n",
       "       [ 4.34584e+00,  1.01403e+01,  5.54855e+00],\n",
       "       [ 2.89524e+00,  8.56856e+00,  7.62039e+00],\n",
       "       [ 1.01676e+01,  1.54630e+00,  9.74160e+00],\n",
       "       [ 5.79445e+00,  0.00000e+00,  3.50000e+00],\n",
       "       [ 7.24306e+00,  1.44861e+00,  5.54855e+00],\n",
       "       [ 5.43602e+00, -5.18122e-05,  7.66446e+00],\n",
       "       [ 1.61713e+00,  1.52277e+00,  9.87825e+00],\n",
       "       [ 5.79445e+00,  2.89723e+00,  3.50000e+00],\n",
       "       [ 7.24306e+00,  4.34584e+00,  5.54855e+00],\n",
       "       [ 5.95036e+00,  2.83508e+00,  7.67407e+00],\n",
       "       [ 7.15977e+00,  7.51713e+00,  9.87045e+00],\n",
       "       [ 5.79445e+00,  5.79445e+00,  3.50000e+00],\n",
       "       [ 7.24306e+00,  7.24306e+00,  5.54855e+00],\n",
       "       [ 6.11103e+00,  5.85022e+00,  7.69420e+00],\n",
       "       [ 9.99079e+00,  7.45763e+00,  9.54931e+00],\n",
       "       [ 5.79445e+00,  8.69168e+00,  3.50000e+00],\n",
       "       [ 7.24306e+00,  1.01403e+01,  5.54855e+00],\n",
       "       [ 5.68382e+00,  8.57456e+00,  7.69401e+00],\n",
       "       [ 9.70942e+00,  1.03501e+01,  9.77021e+00],\n",
       "       [ 8.69168e+00,  0.00000e+00,  3.50000e+00],\n",
       "       [ 1.01403e+01,  1.44861e+00,  5.54855e+00],\n",
       "       [ 8.40635e+00,  1.15138e+01,  7.51564e+00],\n",
       "       [ 4.25836e+00,  1.12677e+01,  1.01759e+01],\n",
       "       [ 8.69168e+00,  2.89723e+00,  3.50000e+00],\n",
       "       [ 1.01403e+01,  4.34584e+00,  5.54855e+00],\n",
       "       [ 9.10329e+00,  2.98338e+00,  7.65850e+00],\n",
       "       [ 1.58861e+00,  1.00187e+01,  9.61538e+00],\n",
       "       [ 8.69168e+00,  5.79445e+00,  3.50000e+00],\n",
       "       [ 1.01403e+01,  7.24306e+00,  5.54855e+00],\n",
       "       [ 8.79361e+00,  5.75296e+00,  7.67314e+00],\n",
       "       [ 1.01277e+01,  4.60086e+00,  9.83484e+00],\n",
       "       [ 8.69168e+00,  8.69168e+00,  3.50000e+00],\n",
       "       [ 1.01403e+01,  1.01403e+01,  5.54855e+00],\n",
       "       [ 8.62618e+00,  8.68936e+00,  7.53981e+00],\n",
       "       [ 7.49096e+00,  1.51574e+00,  9.72052e+00],\n",
       "       [ 9.35307e+00,  1.85325e+00,  1.60131e+01],\n",
       "       [ 6.84006e+00,  7.46065e+00,  1.42509e+01],\n",
       "       [ 9.77863e+00,  6.62072e+00,  1.79608e+01],\n",
       "       [ 4.73977e+00,  1.10379e+01,  1.99215e+01],\n",
       "       [ 9.54182e-01,  5.43546e+00,  1.53598e+01],\n",
       "       [ 4.51684e+00,  4.02615e+00,  1.61177e+01],\n",
       "       [ 7.19673e-01,  4.68912e+00,  2.09029e+01],\n",
       "       [ 6.94552e+00,  3.29028e+00,  1.53508e+01],\n",
       "       [ 8.08011e+00,  5.25894e+00,  1.27185e+01],\n",
       "       [ 4.59647e+00,  1.16064e+01,  1.26489e+01],\n",
       "       [ 1.03649e+01,  2.08613e+00,  1.83649e+01],\n",
       "       [ 2.59151e+00,  7.86126e+00,  2.00078e+01],\n",
       "       [ 1.14614e+01,  1.08955e+01,  1.78081e+01],\n",
       "       [ 8.31784e+00,  3.36026e+00,  1.97441e+01],\n",
       "       [ 3.92681e-01,  8.44159e-01,  2.05050e+01],\n",
       "       [ 4.62415e+00,  8.09355e+00,  1.22751e+01],\n",
       "       [ 2.85221e+00,  1.06057e+01,  1.77431e+01],\n",
       "       [ 6.85503e+00,  9.84150e+00,  1.56099e+01],\n",
       "       [ 2.21823e+00,  8.54688e+00,  1.36239e+01],\n",
       "       [ 5.32956e+00,  1.11860e+00,  1.80203e+01],\n",
       "       [ 2.73594e+00,  4.74559e+00,  1.81137e+01],\n",
       "       [ 1.42535e+00,  2.35223e+00,  1.85750e+01],\n",
       "       [ 9.19336e+00,  1.01376e+01,  1.95239e+01],\n",
       "       [ 1.46965e+00,  1.27612e+00,  1.20930e+01],\n",
       "       [ 7.68548e+00,  8.11911e+00,  1.19657e+01],\n",
       "       [ 6.77012e-01, -1.92748e-02,  1.52616e+01],\n",
       "       [ 5.04791e+00,  5.61772e+00,  1.20427e+01],\n",
       "       [ 2.35883e+00,  2.23748e+00,  1.59699e+01],\n",
       "       [ 3.20230e+00,  2.25137e+00,  1.35302e+01],\n",
       "       [ 9.94969e+00,  5.44466e+00,  2.01670e+01],\n",
       "       [ 5.36898e-01,  7.27039e+00,  1.74854e+01],\n",
       "       [ 1.05761e+01,  8.05865e+00,  1.25005e+01],\n",
       "       [ 1.08391e+01,  4.97190e+00,  1.18221e+01],\n",
       "       [ 7.94791e+00,  6.02313e+00,  1.61638e+01],\n",
       "       [ 6.18126e+00,  3.56220e+00,  1.81915e+01],\n",
       "       [ 4.92334e+00,  5.62670e+00,  1.96150e+01],\n",
       "       [ 1.14726e+01,  3.14877e+00,  1.52435e+01],\n",
       "       [ 1.02132e+01,  1.07063e+01,  1.22210e+01],\n",
       "       [ 2.65562e+00,  4.78099e+00,  1.34244e+01],\n",
       "       [ 1.06872e+01,  2.34196e+00,  1.28424e+01],\n",
       "       [ 4.38128e+00,  8.54992e+00,  1.79720e+01],\n",
       "       [ 1.40336e+00,  1.02061e+01,  1.19881e+01],\n",
       "       [ 2.11296e+00,  1.05424e+01,  2.10089e+01],\n",
       "       [ 8.15743e-03,  8.92525e+00,  1.52720e+01],\n",
       "       [ 1.01628e+01,  6.52973e+00,  1.43925e+01],\n",
       "       [ 7.42435e+00,  7.98090e-01,  2.06136e+01],\n",
       "       [ 5.45362e+00,  8.68653e+00,  2.09926e+01],\n",
       "       [ 7.15163e+00,  1.05346e+01,  1.21439e+01],\n",
       "       [ 5.70025e+00,  3.03287e+00,  1.25076e+01],\n",
       "       [ 4.22947e+00,  7.12295e+00,  1.56232e+01],\n",
       "       [ 8.17792e+00,  7.74102e+00,  2.08994e+01],\n",
       "       [ 8.00769e+00,  1.40796e+00,  1.29042e+01],\n",
       "       [ 9.15142e+00,  1.10299e+01,  1.52954e+01],\n",
       "       [ 6.63589e+00,  7.16146e+00,  1.83541e+01],\n",
       "       [ 1.19815e+00,  6.82974e+00,  1.18438e+01],\n",
       "       [ 2.96006e+00,  6.29787e+00,  2.22392e+01],\n",
       "       [ 6.84617e+00,  1.02615e+01,  1.81870e+01],\n",
       "       [ 5.42915e+00,  6.16145e-01,  1.56059e+01],\n",
       "       [ 3.14681e+00,  1.07417e+01,  1.50285e+01],\n",
       "       [ 9.22321e+00,  5.95217e+00,  1.74079e+01],\n",
       "       [ 9.83097e+00,  6.22028e+00,  1.89133e+01],\n",
       "       [ 2.32562e+00,  1.08074e+01,  2.19262e+01],\n",
       "       [ 5.32949e+00,  8.90621e+00,  1.79245e+01],\n",
       "       [ 1.87436e+00,  3.27877e+00,  1.85924e+01],\n",
       "       [ 8.94354e+00,  2.82202e+00,  1.91300e+01],\n",
       "       [ 5.45232e+00,  8.51858e+00,  2.00287e+01],\n",
       "       [ 7.84241e+00,  4.71092e-01,  1.24773e+01],\n",
       "       [ 1.07465e+01,  2.61914e+00,  1.38074e+01],\n",
       "       [ 7.30522e+00,  6.89392e+00,  1.76343e+01],\n",
       "       [ 6.89691e+00,  1.12672e+01,  1.83430e+01],\n",
       "       [ 1.70401e+00,  1.11683e+01,  1.21579e+01],\n",
       "       [ 1.86531e+00,  1.05702e+01,  1.78056e+01],\n",
       "       [ 5.82755e+00,  7.46684e+00,  1.44174e+01],\n",
       "       [ 1.00429e+01,  1.78536e+00,  1.73733e+01],\n",
       "       [ 7.02160e-01,  5.99896e+00,  1.18420e+01],\n",
       "       [ 1.39906e+00,  1.11884e+01,  2.08395e+01],\n",
       "       [ 6.24009e+00,  2.24706e+00,  1.25640e+01],\n",
       "       [ 3.06110e+00,  1.06700e+01,  1.68123e+01],\n",
       "       [ 8.90081e-01,  6.27959e+00,  1.58520e+01],\n",
       "       [ 2.41993e+00,  5.55794e+00,  1.77221e+01],\n",
       "       [ 2.20392e-01,  8.57543e+00,  1.62549e+01],\n",
       "       [ 6.41717e+00,  8.72426e+00,  2.12129e+01],\n",
       "       [ 3.79593e+00,  1.14631e+01,  1.51818e+01],\n",
       "       [ 4.38340e+00,  9.85806e-01,  1.30026e+01],\n",
       "       [ 2.89445e+00,  2.04222e+00,  1.44494e+01],\n",
       "       [ 7.26775e+00,  9.46509e+00,  1.21985e+01],\n",
       "       [ 2.77063e-01,  1.07011e+01,  1.51347e+01],\n",
       "       [ 2.18807e+00,  8.68668e+00,  2.03402e+01],\n",
       "       [ 1.59862e+00,  8.51158e+00,  1.44142e+01],\n",
       "       [ 6.86423e+00,  8.94480e+00,  1.51698e+01],\n",
       "       [ 5.14182e+00,  4.04898e-01,  1.87295e+01],\n",
       "       [ 5.69202e+00,  4.99707e+00,  1.24896e+01],\n",
       "       [ 1.68719e+00,  1.97986e+00,  1.76885e+01],\n",
       "       [ 1.11565e+01,  2.54437e+00,  1.82658e+01],\n",
       "       [ 7.71184e+00,  2.65423e+00,  2.02196e+01],\n",
       "       [ 4.26882e+00,  4.43097e+00,  1.69891e+01],\n",
       "       [ 1.62007e-01,  4.04790e+00,  1.53155e+01],\n",
       "       [ 1.77340e+00,  5.41258e+00,  1.47253e+01],\n",
       "       [ 5.33563e+00,  8.33480e-01,  1.66770e+01],\n",
       "       [ 2.91641e-01,  4.30169e-01,  1.44636e+01],\n",
       "       [ 7.54916e+00,  5.21384e+00,  1.58538e+01],\n",
       "       [ 3.36317e+00,  5.14275e+00,  1.88030e+01],\n",
       "       [ 8.78029e+00,  5.07106e+00,  1.21035e+01],\n",
       "       [ 5.60896e+00,  1.53059e+00,  1.53295e+01],\n",
       "       [ 1.08924e+01,  8.27374e+00,  1.49592e+01],\n",
       "       [ 7.18265e-01,  1.48003e+00,  1.98315e+01],\n",
       "       [ 7.70557e+00,  1.31979e+00,  1.38587e+01],\n",
       "       [ 4.39727e+00,  7.59501e+00,  1.64912e+01],\n",
       "       [ 1.66818e+00,  9.59695e+00,  1.27996e+01],\n",
       "       [ 3.29862e+00,  7.42747e+00,  1.53763e+01],\n",
       "       [ 1.02806e+01,  9.72340e+00,  1.22327e+01],\n",
       "       [ 3.79453e+00,  8.37422e+00,  1.28665e+01],\n",
       "       [ 1.08360e+01,  5.24426e+00,  2.07106e+01],\n",
       "       [ 3.18457e+00,  7.15543e+00,  2.18025e+01],\n",
       "       [ 4.96992e+00,  1.01724e+01,  2.01731e+01],\n",
       "       [ 3.72260e+00,  9.38475e+00,  1.79393e+01],\n",
       "       [ 2.29603e+00,  1.12202e+01,  1.49280e+01],\n",
       "       [ 6.55435e+00,  3.55839e-01,  2.06619e+01],\n",
       "       [ 1.14040e+01,  7.62636e+00,  1.21540e+01],\n",
       "       [ 1.11697e+01,  6.99356e+00,  1.77759e+01],\n",
       "       [ 7.08532e+00,  7.22701e+00,  1.92343e+01],\n",
       "       [ 1.12282e+01,  1.09312e+01,  1.21048e+01],\n",
       "       [ 9.46264e+00,  4.63414e+00,  2.02597e+01],\n",
       "       [ 5.65087e+00,  2.10277e+00,  1.82071e+01],\n",
       "       [ 8.73171e+00,  8.07892e+00,  1.19237e+01],\n",
       "       [ 2.87440e+00,  3.73517e+00,  1.32702e+01],\n",
       "       [ 4.89939e+00,  5.84732e+00,  2.05584e+01],\n",
       "       [ 7.05855e+00,  7.68586e+00,  1.32843e+01],\n",
       "       [ 2.40992e+00,  1.71988e+00,  1.27518e+01],\n",
       "       [ 1.02357e+01,  7.36129e+00,  1.31991e+01],\n",
       "       [ 4.08609e+00,  1.09221e+01,  1.31292e+01],\n",
       "       [ 6.13454e+00,  1.06415e+01,  1.21584e+01],\n",
       "       [ 7.88889e+00,  6.73855e+00,  1.54766e+01],\n",
       "       [ 1.43383e+00,  4.87831e+00,  2.15750e+01],\n",
       "       [ 1.03959e+00,  7.61457e+00,  1.83479e+01],\n",
       "       [ 6.88192e+00,  3.66693e+00,  1.44426e+01],\n",
       "       [ 1.09981e+01,  1.08802e+01,  1.69441e+01],\n",
       "       [ 3.46981e+00,  5.14902e+00,  1.30114e+01],\n",
       "       [ 8.76644e+00,  6.93009e+00,  2.10657e+01],\n",
       "       [ 6.82262e+00,  1.01575e+01,  1.72321e+01],\n",
       "       [ 1.09341e+01,  5.91304e+00,  1.45378e+01],\n",
       "       [ 8.13574e+00,  1.11902e-01,  2.06363e+01],\n",
       "       [ 4.26121e+00,  4.74615e+00,  1.55371e+01],\n",
       "       [ 8.57096e+00,  2.39945e+00,  1.59164e+01],\n",
       "       [ 7.28848e+00,  5.77030e+00,  1.23961e+01],\n",
       "       [ 1.11747e+01,  1.60789e-01,  1.82784e+01],\n",
       "       [ 3.34876e+00,  8.07009e+00,  1.93721e+01],\n",
       "       [ 5.98735e-01,  1.50144e+00,  1.24550e+01],\n",
       "       [ 8.71096e+00,  8.41296e+00,  2.04420e+01],\n",
       "       [ 9.43531e+00,  5.90871e+00,  1.41443e+01],\n",
       "       [ 1.07124e+01,  4.04787e+00,  1.22027e+01],\n",
       "       [ 4.89239e+00,  2.89363e+00,  1.30392e+01],\n",
       "       [ 7.00683e+00,  3.50130e+00,  1.87496e+01],\n",
       "       [ 6.13919e+00,  3.55566e+00,  1.57321e+01],\n",
       "       [ 4.78192e+00,  6.97384e+00,  1.22405e+01],\n",
       "       [ 8.44812e+00,  1.00560e+01,  1.88759e+01],\n",
       "       [ 3.75136e+00,  1.11212e+01,  2.01294e+01],\n",
       "       [ 1.09109e+01,  3.01382e+00,  1.59929e+01],\n",
       "       [ 1.46376e+00,  2.49909e+00,  1.57211e+01],\n",
       "       [ 9.69756e+00,  2.04597e+00,  1.26683e+01],\n",
       "       [ 5.37716e+00,  6.36436e+00,  1.90988e+01],\n",
       "       [ 1.73317e+00,  7.89448e+00,  1.30633e+01],\n",
       "       [ 6.18519e+00,  1.04070e+01,  1.51191e+01],\n",
       "       [ 9.06410e+00,  8.78014e-01,  1.57760e+01],\n",
       "       [ 9.92988e+00,  1.04990e+01,  1.89446e+01],\n",
       "       [ 1.14204e+01,  1.26273e+00,  2.11706e+01],\n",
       "       [ 1.20285e+00,  4.90658e+00,  2.01187e+01],\n",
       "       [ 9.13991e+00,  1.09497e+01,  1.43259e+01],\n",
       "       [ 8.38169e+00,  1.04540e+01,  1.55043e+01],\n",
       "       [ 3.13184e+00,  6.42449e+00,  2.31622e+01],\n",
       "       [ 2.93891e+00,  3.02381e+00,  1.62002e+01],\n",
       "       [ 5.67743e+00,  4.34474e+00,  1.86299e+01]]), energy=0.0, forces=array([[0., 0., 0.],\n",
       "       [0., 0., 0.],\n",
       "       [0., 0., 0.],\n",
       "       [0., 0., 0.],\n",
       "       [0., 0., 0.],\n",
       "       [0., 0., 0.],\n",
       "       [0., 0., 0.],\n",
       "       [0., 0., 0.],\n",
       "       [0., 0., 0.],\n",
       "       [0., 0., 0.],\n",
       "       [0., 0., 0.],\n",
       "       [0., 0., 0.],\n",
       "       [0., 0., 0.],\n",
       "       [0., 0., 0.],\n",
       "       [0., 0., 0.],\n",
       "       [0., 0., 0.],\n",
       "       [0., 0., 0.],\n",
       "       [0., 0., 0.],\n",
       "       [0., 0., 0.],\n",
       "       [0., 0., 0.],\n",
       "       [0., 0., 0.],\n",
       "       [0., 0., 0.],\n",
       "       [0., 0., 0.],\n",
       "       [0., 0., 0.],\n",
       "       [0., 0., 0.],\n",
       "       [0., 0., 0.],\n",
       "       [0., 0., 0.],\n",
       "       [0., 0., 0.],\n",
       "       [0., 0., 0.],\n",
       "       [0., 0., 0.],\n",
       "       [0., 0., 0.],\n",
       "       [0., 0., 0.],\n",
       "       [0., 0., 0.],\n",
       "       [0., 0., 0.],\n",
       "       [0., 0., 0.],\n",
       "       [0., 0., 0.],\n",
       "       [0., 0., 0.],\n",
       "       [0., 0., 0.],\n",
       "       [0., 0., 0.],\n",
       "       [0., 0., 0.],\n",
       "       [0., 0., 0.],\n",
       "       [0., 0., 0.],\n",
       "       [0., 0., 0.],\n",
       "       [0., 0., 0.],\n",
       "       [0., 0., 0.],\n",
       "       [0., 0., 0.],\n",
       "       [0., 0., 0.],\n",
       "       [0., 0., 0.],\n",
       "       [0., 0., 0.],\n",
       "       [0., 0., 0.],\n",
       "       [0., 0., 0.],\n",
       "       [0., 0., 0.],\n",
       "       [0., 0., 0.],\n",
       "       [0., 0., 0.],\n",
       "       [0., 0., 0.],\n",
       "       [0., 0., 0.],\n",
       "       [0., 0., 0.],\n",
       "       [0., 0., 0.],\n",
       "       [0., 0., 0.],\n",
       "       [0., 0., 0.],\n",
       "       [0., 0., 0.],\n",
       "       [0., 0., 0.],\n",
       "       [0., 0., 0.],\n",
       "       [0., 0., 0.],\n",
       "       [0., 0., 0.],\n",
       "       [0., 0., 0.],\n",
       "       [0., 0., 0.],\n",
       "       [0., 0., 0.],\n",
       "       [0., 0., 0.],\n",
       "       [0., 0., 0.],\n",
       "       [0., 0., 0.],\n",
       "       [0., 0., 0.],\n",
       "       [0., 0., 0.],\n",
       "       [0., 0., 0.],\n",
       "       [0., 0., 0.],\n",
       "       [0., 0., 0.],\n",
       "       [0., 0., 0.],\n",
       "       [0., 0., 0.],\n",
       "       [0., 0., 0.],\n",
       "       [0., 0., 0.],\n",
       "       [0., 0., 0.],\n",
       "       [0., 0., 0.],\n",
       "       [0., 0., 0.],\n",
       "       [0., 0., 0.],\n",
       "       [0., 0., 0.],\n",
       "       [0., 0., 0.],\n",
       "       [0., 0., 0.],\n",
       "       [0., 0., 0.],\n",
       "       [0., 0., 0.],\n",
       "       [0., 0., 0.],\n",
       "       [0., 0., 0.],\n",
       "       [0., 0., 0.],\n",
       "       [0., 0., 0.],\n",
       "       [0., 0., 0.],\n",
       "       [0., 0., 0.],\n",
       "       [0., 0., 0.],\n",
       "       [0., 0., 0.],\n",
       "       [0., 0., 0.],\n",
       "       [0., 0., 0.],\n",
       "       [0., 0., 0.],\n",
       "       [0., 0., 0.],\n",
       "       [0., 0., 0.],\n",
       "       [0., 0., 0.],\n",
       "       [0., 0., 0.],\n",
       "       [0., 0., 0.],\n",
       "       [0., 0., 0.],\n",
       "       [0., 0., 0.],\n",
       "       [0., 0., 0.],\n",
       "       [0., 0., 0.],\n",
       "       [0., 0., 0.],\n",
       "       [0., 0., 0.],\n",
       "       [0., 0., 0.],\n",
       "       [0., 0., 0.],\n",
       "       [0., 0., 0.],\n",
       "       [0., 0., 0.],\n",
       "       [0., 0., 0.],\n",
       "       [0., 0., 0.],\n",
       "       [0., 0., 0.],\n",
       "       [0., 0., 0.],\n",
       "       [0., 0., 0.],\n",
       "       [0., 0., 0.],\n",
       "       [0., 0., 0.],\n",
       "       [0., 0., 0.],\n",
       "       [0., 0., 0.],\n",
       "       [0., 0., 0.],\n",
       "       [0., 0., 0.],\n",
       "       [0., 0., 0.],\n",
       "       [0., 0., 0.],\n",
       "       [0., 0., 0.],\n",
       "       [0., 0., 0.],\n",
       "       [0., 0., 0.],\n",
       "       [0., 0., 0.],\n",
       "       [0., 0., 0.],\n",
       "       [0., 0., 0.],\n",
       "       [0., 0., 0.],\n",
       "       [0., 0., 0.],\n",
       "       [0., 0., 0.],\n",
       "       [0., 0., 0.],\n",
       "       [0., 0., 0.],\n",
       "       [0., 0., 0.],\n",
       "       [0., 0., 0.],\n",
       "       [0., 0., 0.],\n",
       "       [0., 0., 0.],\n",
       "       [0., 0., 0.],\n",
       "       [0., 0., 0.],\n",
       "       [0., 0., 0.],\n",
       "       [0., 0., 0.],\n",
       "       [0., 0., 0.],\n",
       "       [0., 0., 0.],\n",
       "       [0., 0., 0.],\n",
       "       [0., 0., 0.],\n",
       "       [0., 0., 0.],\n",
       "       [0., 0., 0.],\n",
       "       [0., 0., 0.],\n",
       "       [0., 0., 0.],\n",
       "       [0., 0., 0.],\n",
       "       [0., 0., 0.],\n",
       "       [0., 0., 0.],\n",
       "       [0., 0., 0.],\n",
       "       [0., 0., 0.],\n",
       "       [0., 0., 0.],\n",
       "       [0., 0., 0.],\n",
       "       [0., 0., 0.],\n",
       "       [0., 0., 0.],\n",
       "       [0., 0., 0.],\n",
       "       [0., 0., 0.],\n",
       "       [0., 0., 0.],\n",
       "       [0., 0., 0.],\n",
       "       [0., 0., 0.],\n",
       "       [0., 0., 0.],\n",
       "       [0., 0., 0.],\n",
       "       [0., 0., 0.],\n",
       "       [0., 0., 0.],\n",
       "       [0., 0., 0.],\n",
       "       [0., 0., 0.],\n",
       "       [0., 0., 0.],\n",
       "       [0., 0., 0.],\n",
       "       [0., 0., 0.],\n",
       "       [0., 0., 0.],\n",
       "       [0., 0., 0.],\n",
       "       [0., 0., 0.],\n",
       "       [0., 0., 0.],\n",
       "       [0., 0., 0.],\n",
       "       [0., 0., 0.],\n",
       "       [0., 0., 0.],\n",
       "       [0., 0., 0.],\n",
       "       [0., 0., 0.],\n",
       "       [0., 0., 0.],\n",
       "       [0., 0., 0.],\n",
       "       [0., 0., 0.],\n",
       "       [0., 0., 0.],\n",
       "       [0., 0., 0.],\n",
       "       [0., 0., 0.],\n",
       "       [0., 0., 0.],\n",
       "       [0., 0., 0.],\n",
       "       [0., 0., 0.],\n",
       "       [0., 0., 0.],\n",
       "       [0., 0., 0.],\n",
       "       [0., 0., 0.],\n",
       "       [0., 0., 0.],\n",
       "       [0., 0., 0.],\n",
       "       [0., 0., 0.],\n",
       "       [0., 0., 0.],\n",
       "       [0., 0., 0.],\n",
       "       [0., 0., 0.],\n",
       "       [0., 0., 0.],\n",
       "       [0., 0., 0.],\n",
       "       [0., 0., 0.],\n",
       "       [0., 0., 0.],\n",
       "       [0., 0., 0.],\n",
       "       [0., 0., 0.],\n",
       "       [0., 0., 0.],\n",
       "       [0., 0., 0.],\n",
       "       [0., 0., 0.],\n",
       "       [0., 0., 0.],\n",
       "       [0., 0., 0.],\n",
       "       [0., 0., 0.],\n",
       "       [0., 0., 0.],\n",
       "       [0., 0., 0.],\n",
       "       [0., 0., 0.],\n",
       "       [0., 0., 0.],\n",
       "       [0., 0., 0.],\n",
       "       [0., 0., 0.],\n",
       "       [0., 0., 0.],\n",
       "       [0., 0., 0.],\n",
       "       [0., 0., 0.],\n",
       "       [0., 0., 0.],\n",
       "       [0., 0., 0.],\n",
       "       [0., 0., 0.],\n",
       "       [0., 0., 0.],\n",
       "       [0., 0., 0.],\n",
       "       [0., 0., 0.],\n",
       "       [0., 0., 0.],\n",
       "       [0., 0., 0.],\n",
       "       [0., 0., 0.],\n",
       "       [0., 0., 0.]]), stress=array([0., 0., 0., 0., 0., 0.]), virials=array([[0., 0., 0.],\n",
       "       [0., 0., 0.],\n",
       "       [0., 0., 0.]]), dipole=None, charges=array([0., 0., 0., 0., 0., 0., 0., 0., 0., 0., 0., 0., 0., 0., 0., 0., 0.,\n",
       "       0., 0., 0., 0., 0., 0., 0., 0., 0., 0., 0., 0., 0., 0., 0., 0., 0.,\n",
       "       0., 0., 0., 0., 0., 0., 0., 0., 0., 0., 0., 0., 0., 0., 0., 0., 0.,\n",
       "       0., 0., 0., 0., 0., 0., 0., 0., 0., 0., 0., 0., 0., 0., 0., 0., 0.,\n",
       "       0., 0., 0., 0., 0., 0., 0., 0., 0., 0., 0., 0., 0., 0., 0., 0., 0.,\n",
       "       0., 0., 0., 0., 0., 0., 0., 0., 0., 0., 0., 0., 0., 0., 0., 0., 0.,\n",
       "       0., 0., 0., 0., 0., 0., 0., 0., 0., 0., 0., 0., 0., 0., 0., 0., 0.,\n",
       "       0., 0., 0., 0., 0., 0., 0., 0., 0., 0., 0., 0., 0., 0., 0., 0., 0.,\n",
       "       0., 0., 0., 0., 0., 0., 0., 0., 0., 0., 0., 0., 0., 0., 0., 0., 0.,\n",
       "       0., 0., 0., 0., 0., 0., 0., 0., 0., 0., 0., 0., 0., 0., 0., 0., 0.,\n",
       "       0., 0., 0., 0., 0., 0., 0., 0., 0., 0., 0., 0., 0., 0., 0., 0., 0.,\n",
       "       0., 0., 0., 0., 0., 0., 0., 0., 0., 0., 0., 0., 0., 0., 0., 0., 0.,\n",
       "       0., 0., 0., 0., 0., 0., 0., 0., 0., 0., 0., 0., 0., 0., 0., 0., 0.,\n",
       "       0., 0., 0., 0., 0., 0., 0., 0., 0., 0., 0., 0., 0., 0., 0.]), cell=array([[11.5889,  0.    ,  0.    ],\n",
       "       [ 0.    , 11.5889,  0.    ],\n",
       "       [ 0.    ,  0.    , 35.    ]]), pbc=(True, True, True), weight=1.0, energy_weight=0.0, forces_weight=0.0, stress_weight=0.0, virials_weight=0.0, config_type='Default')"
      ]
     },
     "execution_count": 21,
     "metadata": {},
     "output_type": "execute_result"
    }
   ],
   "source": [
    "mace.data.config_from_atoms(atoms)"
   ]
  },
  {
   "cell_type": "code",
   "execution_count": null,
   "metadata": {},
   "outputs": [],
   "source": []
  },
  {
   "cell_type": "code",
   "execution_count": 15,
   "metadata": {},
   "outputs": [
    {
     "data": {
      "text/plain": [
       "tensor(0.1641, device='cuda:0')"
      ]
     },
     "execution_count": 15,
     "metadata": {},
     "output_type": "execute_result"
    }
   ],
   "source": [
    "mace_model.scale_shift.shift"
   ]
  },
  {
   "cell_type": "code",
   "execution_count": null,
   "metadata": {},
   "outputs": [],
   "source": []
  },
  {
   "cell_type": "code",
   "execution_count": null,
   "metadata": {},
   "outputs": [],
   "source": []
  },
  {
   "cell_type": "code",
   "execution_count": 9,
   "metadata": {},
   "outputs": [
    {
     "data": {
      "text/plain": [
       "ModuleList(\n",
       "  (0): Linear(128x0e+128x1o+128x2e -> 1x0e | 128 weights)\n",
       "  (1): AtomwiseNonLinear(\n",
       "    (linear_1): Linear(128x0e -> 16x0e | 2048 weights)\n",
       "    (non_linearity): Activation [x] (16x0e -> 16x0e)\n",
       "    (linear_2): Linear(16x0e -> 1x0e | 16 weights)\n",
       "  )\n",
       ")"
      ]
     },
     "execution_count": 9,
     "metadata": {},
     "output_type": "execute_result"
    }
   ],
   "source": [
    "curator_mace.readouts"
   ]
  },
  {
   "cell_type": "code",
   "execution_count": 8,
   "metadata": {},
   "outputs": [
    {
     "data": {
      "text/plain": [
       "ModuleList(\n",
       "  (0): LinearReadoutBlock(\n",
       "    (linear): Linear(128x0e+128x1o+128x2e -> 1x0e | 128 weights)\n",
       "  )\n",
       "  (1): NonLinearReadoutBlock(\n",
       "    (linear_1): Linear(128x0e -> 16x0e | 2048 weights)\n",
       "    (non_linearity): Activation [x] (16x0e -> 16x0e)\n",
       "    (linear_2): Linear(16x0e -> 1x0e | 16 weights)\n",
       "  )\n",
       ")"
      ]
     },
     "execution_count": 8,
     "metadata": {},
     "output_type": "execute_result"
    }
   ],
   "source": [
    "mace_model.readouts"
   ]
  },
  {
   "cell_type": "code",
   "execution_count": 19,
   "metadata": {},
   "outputs": [
    {
     "ename": "AttributeError",
     "evalue": "'MACE' object has no attribute 'readouts'",
     "output_type": "error",
     "traceback": [
      "\u001b[0;31m---------------------------------------------------------------------------\u001b[0m",
      "\u001b[0;31mAttributeError\u001b[0m                            Traceback (most recent call last)",
      "Cell \u001b[0;32mIn[19], line 1\u001b[0m\n\u001b[0;32m----> 1\u001b[0m curator_mace\u001b[38;5;241m.\u001b[39mreadouts\n",
      "File \u001b[0;32m~/miniconda3/lib/python3.11/site-packages/torch/nn/modules/module.py:1614\u001b[0m, in \u001b[0;36mModule.__getattr__\u001b[0;34m(self, name)\u001b[0m\n\u001b[1;32m   1612\u001b[0m     \u001b[38;5;28;01mif\u001b[39;00m name \u001b[38;5;129;01min\u001b[39;00m modules:\n\u001b[1;32m   1613\u001b[0m         \u001b[38;5;28;01mreturn\u001b[39;00m modules[name]\n\u001b[0;32m-> 1614\u001b[0m \u001b[38;5;28;01mraise\u001b[39;00m \u001b[38;5;167;01mAttributeError\u001b[39;00m(\u001b[38;5;124m\"\u001b[39m\u001b[38;5;124m'\u001b[39m\u001b[38;5;132;01m{}\u001b[39;00m\u001b[38;5;124m'\u001b[39m\u001b[38;5;124m object has no attribute \u001b[39m\u001b[38;5;124m'\u001b[39m\u001b[38;5;132;01m{}\u001b[39;00m\u001b[38;5;124m'\u001b[39m\u001b[38;5;124m\"\u001b[39m\u001b[38;5;241m.\u001b[39mformat(\n\u001b[1;32m   1615\u001b[0m     \u001b[38;5;28mtype\u001b[39m(\u001b[38;5;28mself\u001b[39m)\u001b[38;5;241m.\u001b[39m\u001b[38;5;18m__name__\u001b[39m, name))\n",
      "\u001b[0;31mAttributeError\u001b[0m: 'MACE' object has no attribute 'readouts'"
     ]
    }
   ],
   "source": []
  },
  {
   "cell_type": "code",
   "execution_count": null,
   "metadata": {},
   "outputs": [],
   "source": []
  },
  {
   "cell_type": "code",
   "execution_count": null,
   "metadata": {},
   "outputs": [],
   "source": []
  },
  {
   "cell_type": "code",
   "execution_count": 15,
   "metadata": {},
   "outputs": [
    {
     "data": {
      "text/plain": [
       "ModuleList(\n",
       "  (0): EquivariantProductBasisBlock(\n",
       "    (symmetric_contractions): SymmetricContraction(\n",
       "      (contractions): ModuleList(\n",
       "        (0): Contraction(\n",
       "          (contractions_weighting): ModuleList(\n",
       "            (0-1): 2 x GraphModule()\n",
       "          )\n",
       "          (contractions_features): ModuleList(\n",
       "            (0-1): 2 x GraphModule()\n",
       "          )\n",
       "          (weights): ParameterList(\n",
       "              (0): Parameter containing: [torch.float32 of size 89x4x128 (GPU 0)]\n",
       "              (1): Parameter containing: [torch.float32 of size 89x1x128 (GPU 0)]\n",
       "          )\n",
       "          (graph_opt_main): GraphModule()\n",
       "        )\n",
       "        (1): Contraction(\n",
       "          (contractions_weighting): ModuleList(\n",
       "            (0-1): 2 x GraphModule()\n",
       "          )\n",
       "          (contractions_features): ModuleList(\n",
       "            (0-1): 2 x GraphModule()\n",
       "          )\n",
       "          (weights): ParameterList(\n",
       "              (0): Parameter containing: [torch.float32 of size 89x6x128 (GPU 0)]\n",
       "              (1): Parameter containing: [torch.float32 of size 89x1x128 (GPU 0)]\n",
       "          )\n",
       "          (graph_opt_main): GraphModule()\n",
       "        )\n",
       "        (2): Contraction(\n",
       "          (contractions_weighting): ModuleList(\n",
       "            (0-1): 2 x GraphModule()\n",
       "          )\n",
       "          (contractions_features): ModuleList(\n",
       "            (0-1): 2 x GraphModule()\n",
       "          )\n",
       "          (weights): ParameterList(\n",
       "              (0): Parameter containing: [torch.float32 of size 89x7x128 (GPU 0)]\n",
       "              (1): Parameter containing: [torch.float32 of size 89x1x128 (GPU 0)]\n",
       "          )\n",
       "          (graph_opt_main): GraphModule()\n",
       "        )\n",
       "      )\n",
       "    )\n",
       "    (linear): Linear(128x0e+128x1o+128x2e -> 128x0e+128x1o+128x2e | 49152 weights)\n",
       "  )\n",
       "  (1): EquivariantProductBasisBlock(\n",
       "    (symmetric_contractions): SymmetricContraction(\n",
       "      (contractions): ModuleList(\n",
       "        (0): Contraction(\n",
       "          (contractions_weighting): ModuleList(\n",
       "            (0-1): 2 x GraphModule()\n",
       "          )\n",
       "          (contractions_features): ModuleList(\n",
       "            (0-1): 2 x GraphModule()\n",
       "          )\n",
       "          (weights): ParameterList(\n",
       "              (0): Parameter containing: [torch.float32 of size 89x4x128 (GPU 0)]\n",
       "              (1): Parameter containing: [torch.float32 of size 89x1x128 (GPU 0)]\n",
       "          )\n",
       "          (graph_opt_main): GraphModule()\n",
       "        )\n",
       "      )\n",
       "    )\n",
       "    (linear): Linear(128x0e -> 128x0e | 16384 weights)\n",
       "  )\n",
       ")"
      ]
     },
     "execution_count": 15,
     "metadata": {},
     "output_type": "execute_result"
    }
   ],
   "source": [
    "mace_model.products"
   ]
  },
  {
   "cell_type": "code",
   "execution_count": 7,
   "metadata": {},
   "outputs": [
    {
     "data": {
      "text/plain": [
       "MACE(\n",
       "  (embeddings): ModuleDict(\n",
       "    (onehot_embedding): OneHotAtomEncoding(\n",
       "      (type_mapper): TypeMapper()\n",
       "    )\n",
       "    (radial_basis): RadialBasisEdgeEncoding(\n",
       "      (basis): BesselBasis()\n",
       "      (cutoff_fn): PolynomialCutoff()\n",
       "    )\n",
       "    (sphere_harmonics): SphericalHarmonicEdgeAttrs(\n",
       "      (sh): SphericalHarmonics()\n",
       "    )\n",
       "    (chemical_embedding): AtomwiseLinear(\n",
       "      (linear): Linear(89x0e -> 128x0e | 11392 weights)\n",
       "    )\n",
       "  )\n",
       "  (interactions): ModuleList(\n",
       "    (0): RealAgnosticResidualInteractionBlock(\n",
       "      (linear_1): Linear(128x0e -> 128x0e | 16384 weights)\n",
       "      (conv_tp): TensorProduct(128x0e x 1x0e+1x1o+1x2e+1x3o -> 128x0e+128x1o+128x2e+128x3o | 512 paths | 512 weights)\n",
       "      (conv_tp_weights): FullyConnectedNet[10, 64, 64, 64, 512]\n",
       "      (linear_2): Linear(128x0e+128x1o+128x2e+128x3o -> 128x0e+128x1o+128x2e+128x3o | 65536 weights)\n",
       "      (skip_tp): FullyConnectedTensorProduct(128x0e x 89x0e -> 128x0e+128x1o+128x2e | 1458176 paths | 1458176 weights)\n",
       "      (reshape): reshape_irreps()\n",
       "    )\n",
       "    (1): RealAgnosticResidualInteractionBlock(\n",
       "      (linear_1): Linear(128x0e+128x1o+128x2e -> 128x0e+128x1o+128x2e | 49152 weights)\n",
       "      (conv_tp): TensorProduct(128x0e+128x1o+128x2e x 1x0e+1x1o+1x2e+1x3o -> 384x0e+640x1o+640x2e+512x3o | 2176 paths | 2176 weights)\n",
       "      (conv_tp_weights): FullyConnectedNet[10, 64, 64, 64, 2176]\n",
       "      (linear_2): Linear(384x0e+640x1o+640x2e+512x3o -> 128x0e+128x1o+128x2e+128x3o | 278528 weights)\n",
       "      (skip_tp): FullyConnectedTensorProduct(128x0e+128x1o+128x2e x 89x0e -> 128x0e | 1458176 paths | 1458176 weights)\n",
       "      (reshape): reshape_irreps()\n",
       "    )\n",
       "  )\n",
       "  (products): ModuleList(\n",
       "    (0): EquivariantProductBasisBlock(\n",
       "      (symmetric_contractions): SymmetricContraction(\n",
       "        (contractions): ModuleList(\n",
       "          (0): Contraction(\n",
       "            (contractions_weighting): ModuleList(\n",
       "              (0-1): 2 x GraphModule()\n",
       "            )\n",
       "            (contractions_features): ModuleList(\n",
       "              (0-1): 2 x GraphModule()\n",
       "            )\n",
       "            (weights): ParameterList(\n",
       "                (0): Parameter containing: [torch.float32 of size 89x4x128]\n",
       "                (1): Parameter containing: [torch.float32 of size 89x1x128]\n",
       "            )\n",
       "            (graph_opt_main): GraphModule()\n",
       "          )\n",
       "          (1): Contraction(\n",
       "            (contractions_weighting): ModuleList(\n",
       "              (0-1): 2 x GraphModule()\n",
       "            )\n",
       "            (contractions_features): ModuleList(\n",
       "              (0-1): 2 x GraphModule()\n",
       "            )\n",
       "            (weights): ParameterList(\n",
       "                (0): Parameter containing: [torch.float32 of size 89x6x128]\n",
       "                (1): Parameter containing: [torch.float32 of size 89x1x128]\n",
       "            )\n",
       "            (graph_opt_main): GraphModule()\n",
       "          )\n",
       "          (2): Contraction(\n",
       "            (contractions_weighting): ModuleList(\n",
       "              (0-1): 2 x GraphModule()\n",
       "            )\n",
       "            (contractions_features): ModuleList(\n",
       "              (0-1): 2 x GraphModule()\n",
       "            )\n",
       "            (weights): ParameterList(\n",
       "                (0): Parameter containing: [torch.float32 of size 89x7x128]\n",
       "                (1): Parameter containing: [torch.float32 of size 89x1x128]\n",
       "            )\n",
       "            (graph_opt_main): GraphModule()\n",
       "          )\n",
       "        )\n",
       "      )\n",
       "      (linear): Linear(128x0e+128x1o+128x2e -> 128x0e+128x1o+128x2e | 49152 weights)\n",
       "    )\n",
       "    (1): EquivariantProductBasisBlock(\n",
       "      (symmetric_contractions): SymmetricContraction(\n",
       "        (contractions): ModuleList(\n",
       "          (0): Contraction(\n",
       "            (contractions_weighting): ModuleList(\n",
       "              (0-1): 2 x GraphModule()\n",
       "            )\n",
       "            (contractions_features): ModuleList(\n",
       "              (0-1): 2 x GraphModule()\n",
       "            )\n",
       "            (weights): ParameterList(\n",
       "                (0): Parameter containing: [torch.float32 of size 89x4x128]\n",
       "                (1): Parameter containing: [torch.float32 of size 89x1x128]\n",
       "            )\n",
       "            (graph_opt_main): GraphModule()\n",
       "          )\n",
       "        )\n",
       "      )\n",
       "      (linear): Linear(128x0e -> 128x0e | 16384 weights)\n",
       "    )\n",
       "  )\n",
       "  (readout_mlp): ModuleList(\n",
       "    (0): Linear(128x0e+128x1o+128x2e -> 1x0e | 128 weights)\n",
       "    (1): AtomwiseNonLinear(\n",
       "      (linear_1): Linear(128x0e -> 16x0e | 2048 weights)\n",
       "      (non_linearity): Activation [x] (16x0e -> 16x0e)\n",
       "      (linear_2): Linear(16x0e -> 1x0e | 16 weights)\n",
       "    )\n",
       "  )\n",
       ")"
      ]
     },
     "execution_count": 7,
     "metadata": {},
     "output_type": "execute_result"
    }
   ],
   "source": [
    "curator_mace"
   ]
  },
  {
   "cell_type": "code",
   "execution_count": 12,
   "metadata": {},
   "outputs": [
    {
     "data": {
      "text/plain": [
       "RealAgnosticResidualInteractionBlock(\n",
       "  (linear_1): Linear(128x0e -> 128x0e | 16384 weights)\n",
       "  (conv_tp): TensorProduct(128x0e x 1x0e+1x1o+1x2e+1x3o -> 128x0e+128x1o+128x2e+128x3o | 512 paths | 512 weights)\n",
       "  (conv_tp_weights): FullyConnectedNet[10, 64, 64, 64, 512]\n",
       "  (linear_2): Linear(128x0e+128x1o+128x2e+128x3o -> 128x0e+128x1o+128x2e+128x3o | 65536 weights)\n",
       "  (skip_tp): FullyConnectedTensorProduct(128x0e x 89x0e -> 128x0e+128x1o+128x2e | 1458176 paths | 1458176 weights)\n",
       "  (reshape): reshape_irreps()\n",
       ")"
      ]
     },
     "execution_count": 12,
     "metadata": {},
     "output_type": "execute_result"
    }
   ],
   "source": [
    "curator_mace.interactions[i]"
   ]
  },
  {
   "cell_type": "code",
   "execution_count": 13,
   "metadata": {},
   "outputs": [
    {
     "data": {
      "text/plain": [
       "RealAgnosticResidualInteractionBlock(\n",
       "  (linear_up): Linear(128x0e -> 128x0e | 16384 weights)\n",
       "  (conv_tp): TensorProduct(128x0e x 1x0e+1x1o+1x2e+1x3o -> 128x0e+128x1o+128x2e+128x3o | 512 paths | 512 weights)\n",
       "  (conv_tp_weights): FullyConnectedNet[10, 64, 64, 64, 512]\n",
       "  (linear): Linear(128x0e+128x1o+128x2e+128x3o -> 128x0e+128x1o+128x2e+128x3o | 65536 weights)\n",
       "  (skip_tp): FullyConnectedTensorProduct(128x0e x 89x0e -> 128x0e+128x1o+128x2e | 1458176 paths | 1458176 weights)\n",
       "  (reshape): reshape_irreps()\n",
       ")"
      ]
     },
     "execution_count": 13,
     "metadata": {},
     "output_type": "execute_result"
    }
   ],
   "source": [
    "mace_model.interactions[i]"
   ]
  },
  {
   "cell_type": "code",
   "execution_count": null,
   "metadata": {},
   "outputs": [],
   "source": []
  },
  {
   "cell_type": "code",
   "execution_count": 11,
   "metadata": {},
   "outputs": [
    {
     "ename": "RuntimeError",
     "evalue": "Error(s) in loading state_dict for RealAgnosticResidualInteractionBlock:\n\tMissing key(s) in state_dict: \"avg_num_neighbors\", \"linear_1.weight\", \"linear_1.bias\", \"linear_1.output_mask\", \"linear_2.weight\", \"linear_2.bias\", \"linear_2.output_mask\". \n\tUnexpected key(s) in state_dict: \"linear_up.weight\", \"linear_up.bias\", \"linear_up.output_mask\", \"linear.weight\", \"linear.bias\", \"linear.output_mask\". ",
     "output_type": "error",
     "traceback": [
      "\u001b[0;31m---------------------------------------------------------------------------\u001b[0m",
      "\u001b[0;31mRuntimeError\u001b[0m                              Traceback (most recent call last)",
      "Cell \u001b[0;32mIn[11], line 3\u001b[0m\n\u001b[1;32m      1\u001b[0m curator_mace\u001b[38;5;241m.\u001b[39membeddings\u001b[38;5;241m.\u001b[39mchemical_embedding\u001b[38;5;241m.\u001b[39mload_state_dict(mace_model\u001b[38;5;241m.\u001b[39mnode_embedding\u001b[38;5;241m.\u001b[39mstate_dict())\n\u001b[1;32m      2\u001b[0m \u001b[38;5;28;01mfor\u001b[39;00m i \u001b[38;5;129;01min\u001b[39;00m \u001b[38;5;28mrange\u001b[39m(num_interactions):\n\u001b[0;32m----> 3\u001b[0m     curator_mace\u001b[38;5;241m.\u001b[39minteractions[i]\u001b[38;5;241m.\u001b[39mload_state_dict(mace_model\u001b[38;5;241m.\u001b[39minteractions[i]\u001b[38;5;241m.\u001b[39mstate_dict())\n",
      "File \u001b[0;32m~/miniconda3/lib/python3.11/site-packages/torch/nn/modules/module.py:2041\u001b[0m, in \u001b[0;36mModule.load_state_dict\u001b[0;34m(self, state_dict, strict)\u001b[0m\n\u001b[1;32m   2036\u001b[0m         error_msgs\u001b[38;5;241m.\u001b[39minsert(\n\u001b[1;32m   2037\u001b[0m             \u001b[38;5;241m0\u001b[39m, \u001b[38;5;124m'\u001b[39m\u001b[38;5;124mMissing key(s) in state_dict: \u001b[39m\u001b[38;5;132;01m{}\u001b[39;00m\u001b[38;5;124m. \u001b[39m\u001b[38;5;124m'\u001b[39m\u001b[38;5;241m.\u001b[39mformat(\n\u001b[1;32m   2038\u001b[0m                 \u001b[38;5;124m'\u001b[39m\u001b[38;5;124m, \u001b[39m\u001b[38;5;124m'\u001b[39m\u001b[38;5;241m.\u001b[39mjoin(\u001b[38;5;124m'\u001b[39m\u001b[38;5;124m\"\u001b[39m\u001b[38;5;132;01m{}\u001b[39;00m\u001b[38;5;124m\"\u001b[39m\u001b[38;5;124m'\u001b[39m\u001b[38;5;241m.\u001b[39mformat(k) \u001b[38;5;28;01mfor\u001b[39;00m k \u001b[38;5;129;01min\u001b[39;00m missing_keys)))\n\u001b[1;32m   2040\u001b[0m \u001b[38;5;28;01mif\u001b[39;00m \u001b[38;5;28mlen\u001b[39m(error_msgs) \u001b[38;5;241m>\u001b[39m \u001b[38;5;241m0\u001b[39m:\n\u001b[0;32m-> 2041\u001b[0m     \u001b[38;5;28;01mraise\u001b[39;00m \u001b[38;5;167;01mRuntimeError\u001b[39;00m(\u001b[38;5;124m'\u001b[39m\u001b[38;5;124mError(s) in loading state_dict for \u001b[39m\u001b[38;5;132;01m{}\u001b[39;00m\u001b[38;5;124m:\u001b[39m\u001b[38;5;130;01m\\n\u001b[39;00m\u001b[38;5;130;01m\\t\u001b[39;00m\u001b[38;5;132;01m{}\u001b[39;00m\u001b[38;5;124m'\u001b[39m\u001b[38;5;241m.\u001b[39mformat(\n\u001b[1;32m   2042\u001b[0m                        \u001b[38;5;28mself\u001b[39m\u001b[38;5;241m.\u001b[39m\u001b[38;5;18m__class__\u001b[39m\u001b[38;5;241m.\u001b[39m\u001b[38;5;18m__name__\u001b[39m, \u001b[38;5;124m\"\u001b[39m\u001b[38;5;130;01m\\n\u001b[39;00m\u001b[38;5;130;01m\\t\u001b[39;00m\u001b[38;5;124m\"\u001b[39m\u001b[38;5;241m.\u001b[39mjoin(error_msgs)))\n\u001b[1;32m   2043\u001b[0m \u001b[38;5;28;01mreturn\u001b[39;00m _IncompatibleKeys(missing_keys, unexpected_keys)\n",
      "\u001b[0;31mRuntimeError\u001b[0m: Error(s) in loading state_dict for RealAgnosticResidualInteractionBlock:\n\tMissing key(s) in state_dict: \"avg_num_neighbors\", \"linear_1.weight\", \"linear_1.bias\", \"linear_1.output_mask\", \"linear_2.weight\", \"linear_2.bias\", \"linear_2.output_mask\". \n\tUnexpected key(s) in state_dict: \"linear_up.weight\", \"linear_up.bias\", \"linear_up.output_mask\", \"linear.weight\", \"linear.bias\", \"linear.output_mask\". "
     ]
    }
   ],
   "source": []
  },
  {
   "cell_type": "code",
   "execution_count": 8,
   "metadata": {},
   "outputs": [
    {
     "data": {
      "text/plain": [
       "ScaleShiftMACE(\n",
       "  (node_embedding): LinearNodeEmbeddingBlock(\n",
       "    (linear): Linear(89x0e -> 128x0e | 11392 weights)\n",
       "  )\n",
       "  (radial_embedding): RadialEmbeddingBlock(\n",
       "    (bessel_fn): BesselBasis(r_max=6.0, num_basis=10, trainable=False)\n",
       "    (cutoff_fn): PolynomialCutoff(p=5.0, r_max=6.0)\n",
       "  )\n",
       "  (spherical_harmonics): SphericalHarmonics()\n",
       "  (atomic_energies_fn): AtomicEnergiesBlock(energies=[-3.6672, -1.3321, -3.4821, -4.7367, -7.7249, -8.4056, -7.3601, -7.2846, -4.8965, 0.0000, -2.7594, -2.8140, -4.8469, -7.6948, -6.9633, -4.6726, -2.8117, -0.0626, -2.6176, -5.3905, -7.8858, -10.2684, -8.6651, -9.2331, -8.3050, -7.0490, -5.5774, -5.1727, -3.2521, -1.2902, -3.5271, -4.7085, -3.9765, -3.8862, -2.5185, 6.7669, -2.5635, -4.9380, -10.1498, -11.8469, -12.1389, -8.7917, -8.7869, -7.7809, -6.8500, -4.8910, -2.0634, -0.6396, -2.7887, -3.8186, -3.5871, -2.8804, -1.6356, 9.8467, -2.7653, -4.9910, -8.9337, -8.7356, -8.0190, -8.2515, -7.5917, -8.1697, -13.5927, -18.5175, -7.6474, -8.1230, -7.6078, -6.8503, -7.8269, -3.5848, -7.4554, -12.7963, -14.1081, -9.3549, -11.3875, -9.6219, -7.3244, -5.3047, -2.3801, 0.2495, -2.3240, -3.7300, -3.4388, -5.0629, -11.0246, -12.2656, -13.8556, -14.9331, -15.2828])\n",
       "  (interactions): ModuleList(\n",
       "    (0): RealAgnosticResidualInteractionBlock(\n",
       "      (linear_up): Linear(128x0e -> 128x0e | 16384 weights)\n",
       "      (conv_tp): TensorProduct(128x0e x 1x0e+1x1o+1x2e+1x3o -> 128x0e+128x1o+128x2e+128x3o | 512 paths | 512 weights)\n",
       "      (conv_tp_weights): FullyConnectedNet[10, 64, 64, 64, 512]\n",
       "      (linear): Linear(128x0e+128x1o+128x2e+128x3o -> 128x0e+128x1o+128x2e+128x3o | 65536 weights)\n",
       "      (skip_tp): FullyConnectedTensorProduct(128x0e x 89x0e -> 128x0e+128x1o+128x2e | 1458176 paths | 1458176 weights)\n",
       "      (reshape): reshape_irreps()\n",
       "    )\n",
       "    (1): RealAgnosticResidualInteractionBlock(\n",
       "      (linear_up): Linear(128x0e+128x1o+128x2e -> 128x0e+128x1o+128x2e | 49152 weights)\n",
       "      (conv_tp): TensorProduct(128x0e+128x1o+128x2e x 1x0e+1x1o+1x2e+1x3o -> 384x0e+640x1o+640x2e+512x3o | 2176 paths | 2176 weights)\n",
       "      (conv_tp_weights): FullyConnectedNet[10, 64, 64, 64, 2176]\n",
       "      (linear): Linear(384x0e+640x1o+640x2e+512x3o -> 128x0e+128x1o+128x2e+128x3o | 278528 weights)\n",
       "      (skip_tp): FullyConnectedTensorProduct(128x0e+128x1o+128x2e x 89x0e -> 128x0e | 1458176 paths | 1458176 weights)\n",
       "      (reshape): reshape_irreps()\n",
       "    )\n",
       "  )\n",
       "  (products): ModuleList(\n",
       "    (0): EquivariantProductBasisBlock(\n",
       "      (symmetric_contractions): SymmetricContraction(\n",
       "        (contractions): ModuleList(\n",
       "          (0): Contraction(\n",
       "            (contractions_weighting): ModuleList(\n",
       "              (0-1): 2 x GraphModule()\n",
       "            )\n",
       "            (contractions_features): ModuleList(\n",
       "              (0-1): 2 x GraphModule()\n",
       "            )\n",
       "            (weights): ParameterList(\n",
       "                (0): Parameter containing: [torch.float32 of size 89x4x128 (GPU 0)]\n",
       "                (1): Parameter containing: [torch.float32 of size 89x1x128 (GPU 0)]\n",
       "            )\n",
       "            (graph_opt_main): GraphModule()\n",
       "          )\n",
       "          (1): Contraction(\n",
       "            (contractions_weighting): ModuleList(\n",
       "              (0-1): 2 x GraphModule()\n",
       "            )\n",
       "            (contractions_features): ModuleList(\n",
       "              (0-1): 2 x GraphModule()\n",
       "            )\n",
       "            (weights): ParameterList(\n",
       "                (0): Parameter containing: [torch.float32 of size 89x6x128 (GPU 0)]\n",
       "                (1): Parameter containing: [torch.float32 of size 89x1x128 (GPU 0)]\n",
       "            )\n",
       "            (graph_opt_main): GraphModule()\n",
       "          )\n",
       "          (2): Contraction(\n",
       "            (contractions_weighting): ModuleList(\n",
       "              (0-1): 2 x GraphModule()\n",
       "            )\n",
       "            (contractions_features): ModuleList(\n",
       "              (0-1): 2 x GraphModule()\n",
       "            )\n",
       "            (weights): ParameterList(\n",
       "                (0): Parameter containing: [torch.float32 of size 89x7x128 (GPU 0)]\n",
       "                (1): Parameter containing: [torch.float32 of size 89x1x128 (GPU 0)]\n",
       "            )\n",
       "            (graph_opt_main): GraphModule()\n",
       "          )\n",
       "        )\n",
       "      )\n",
       "      (linear): Linear(128x0e+128x1o+128x2e -> 128x0e+128x1o+128x2e | 49152 weights)\n",
       "    )\n",
       "    (1): EquivariantProductBasisBlock(\n",
       "      (symmetric_contractions): SymmetricContraction(\n",
       "        (contractions): ModuleList(\n",
       "          (0): Contraction(\n",
       "            (contractions_weighting): ModuleList(\n",
       "              (0-1): 2 x GraphModule()\n",
       "            )\n",
       "            (contractions_features): ModuleList(\n",
       "              (0-1): 2 x GraphModule()\n",
       "            )\n",
       "            (weights): ParameterList(\n",
       "                (0): Parameter containing: [torch.float32 of size 89x4x128 (GPU 0)]\n",
       "                (1): Parameter containing: [torch.float32 of size 89x1x128 (GPU 0)]\n",
       "            )\n",
       "            (graph_opt_main): GraphModule()\n",
       "          )\n",
       "        )\n",
       "      )\n",
       "      (linear): Linear(128x0e -> 128x0e | 16384 weights)\n",
       "    )\n",
       "  )\n",
       "  (readouts): ModuleList(\n",
       "    (0): LinearReadoutBlock(\n",
       "      (linear): Linear(128x0e+128x1o+128x2e -> 1x0e | 128 weights)\n",
       "    )\n",
       "    (1): NonLinearReadoutBlock(\n",
       "      (linear_1): Linear(128x0e -> 16x0e | 2048 weights)\n",
       "      (non_linearity): Activation [x] (16x0e -> 16x0e)\n",
       "      (linear_2): Linear(16x0e -> 1x0e | 16 weights)\n",
       "    )\n",
       "  )\n",
       "  (scale_shift): ScaleShiftBlock(scale=0.804154, shift=0.164097)\n",
       ")"
      ]
     },
     "execution_count": 8,
     "metadata": {},
     "output_type": "execute_result"
    }
   ],
   "source": [
    "mace_model"
   ]
  },
  {
   "cell_type": "code",
   "execution_count": 107,
   "metadata": {},
   "outputs": [
    {
     "data": {
      "text/plain": [
       "MACE(\n",
       "  (embeddings): ModuleDict(\n",
       "    (onehot_embedding): OneHotAtomEncoding(\n",
       "      (type_mapper): TypeMapper()\n",
       "    )\n",
       "    (radial_basis): RadialBasisEdgeEncoding(\n",
       "      (basis): BesselBasis()\n",
       "      (cutoff_fn): PolynomialCutoff()\n",
       "    )\n",
       "    (sphere_harmonics): SphericalHarmonicEdgeAttrs(\n",
       "      (sh): SphericalHarmonics()\n",
       "    )\n",
       "    (chemical_embedding): AtomwiseLinear(\n",
       "      (linear): Linear(89x0e -> 128x0e | 11392 weights)\n",
       "    )\n",
       "  )\n",
       "  (interactions): ModuleList(\n",
       "    (0): RealAgnosticResidualInteractionBlock(\n",
       "      (linear_1): Linear(128x0e -> 128x0e | 16384 weights)\n",
       "      (conv_tp): TensorProduct(128x0e x 1x0e+1x1o+1x2e+1x3o -> 128x0e+128x1o+128x2e+128x3o | 512 paths | 512 weights)\n",
       "      (conv_tp_weights): FullyConnectedNet[10, 64, 64, 64, 512]\n",
       "      (linear_2): Linear(128x0e+128x1o+128x2e+128x3o -> 128x0e+128x1o+128x2e+128x3o | 65536 weights)\n",
       "      (skip_tp): FullyConnectedTensorProduct(128x0e x 89x0e -> 128x0e+128x1o+128x2e | 1458176 paths | 1458176 weights)\n",
       "      (reshape): reshape_irreps()\n",
       "    )\n",
       "    (1): RealAgnosticResidualInteractionBlock(\n",
       "      (linear_1): Linear(128x0e+128x1o+128x2e -> 128x0e+128x1o+128x2e | 49152 weights)\n",
       "      (conv_tp): TensorProduct(128x0e+128x1o+128x2e x 1x0e+1x1o+1x2e+1x3o -> 384x0e+640x1o+640x2e+512x3o | 2176 paths | 2176 weights)\n",
       "      (conv_tp_weights): FullyConnectedNet[10, 64, 64, 64, 2176]\n",
       "      (linear_2): Linear(384x0e+640x1o+640x2e+512x3o -> 128x0e+128x1o+128x2e+128x3o | 278528 weights)\n",
       "      (skip_tp): FullyConnectedTensorProduct(128x0e+128x1o+128x2e x 89x0e -> 128x0e | 1458176 paths | 1458176 weights)\n",
       "      (reshape): reshape_irreps()\n",
       "    )\n",
       "  )\n",
       "  (products): ModuleList(\n",
       "    (0): EquivariantProductBasisBlock(\n",
       "      (symmetric_contractions): SymmetricContraction(\n",
       "        (contractions): ModuleList(\n",
       "          (0): Contraction(\n",
       "            (contractions_weighting): ModuleList(\n",
       "              (0-1): 2 x GraphModule()\n",
       "            )\n",
       "            (contractions_features): ModuleList(\n",
       "              (0-1): 2 x GraphModule()\n",
       "            )\n",
       "            (weights): ParameterList(\n",
       "                (0): Parameter containing: [torch.float32 of size 89x4x128]\n",
       "                (1): Parameter containing: [torch.float32 of size 89x1x128]\n",
       "            )\n",
       "            (graph_opt_main): GraphModule()\n",
       "          )\n",
       "          (1): Contraction(\n",
       "            (contractions_weighting): ModuleList(\n",
       "              (0-1): 2 x GraphModule()\n",
       "            )\n",
       "            (contractions_features): ModuleList(\n",
       "              (0-1): 2 x GraphModule()\n",
       "            )\n",
       "            (weights): ParameterList(\n",
       "                (0): Parameter containing: [torch.float32 of size 89x6x128]\n",
       "                (1): Parameter containing: [torch.float32 of size 89x1x128]\n",
       "            )\n",
       "            (graph_opt_main): GraphModule()\n",
       "          )\n",
       "          (2): Contraction(\n",
       "            (contractions_weighting): ModuleList(\n",
       "              (0-1): 2 x GraphModule()\n",
       "            )\n",
       "            (contractions_features): ModuleList(\n",
       "              (0-1): 2 x GraphModule()\n",
       "            )\n",
       "            (weights): ParameterList(\n",
       "                (0): Parameter containing: [torch.float32 of size 89x7x128]\n",
       "                (1): Parameter containing: [torch.float32 of size 89x1x128]\n",
       "            )\n",
       "            (graph_opt_main): GraphModule()\n",
       "          )\n",
       "        )\n",
       "      )\n",
       "      (linear): Linear(128x0e+128x1o+128x2e -> 128x0e+128x1o+128x2e | 49152 weights)\n",
       "    )\n",
       "    (1): EquivariantProductBasisBlock(\n",
       "      (symmetric_contractions): SymmetricContraction(\n",
       "        (contractions): ModuleList(\n",
       "          (0): Contraction(\n",
       "            (contractions_weighting): ModuleList(\n",
       "              (0-1): 2 x GraphModule()\n",
       "            )\n",
       "            (contractions_features): ModuleList(\n",
       "              (0-1): 2 x GraphModule()\n",
       "            )\n",
       "            (weights): ParameterList(\n",
       "                (0): Parameter containing: [torch.float32 of size 89x4x128]\n",
       "                (1): Parameter containing: [torch.float32 of size 89x1x128]\n",
       "            )\n",
       "            (graph_opt_main): GraphModule()\n",
       "          )\n",
       "        )\n",
       "      )\n",
       "      (linear): Linear(128x0e -> 128x0e | 16384 weights)\n",
       "    )\n",
       "  )\n",
       "  (readout_mlp): ModuleList(\n",
       "    (0): Linear(128x0e+128x1o+128x2e -> 1x0e | 128 weights)\n",
       "    (1): AtomwiseNonLinear(\n",
       "      (linear_1): Linear(128x0e -> 16x0e | 2048 weights)\n",
       "      (non_linearity): Activation [x] (16x0e -> 16x0e)\n",
       "      (linear_2): Linear(16x0e -> 1x0e | 16 weights)\n",
       "    )\n",
       "  )\n",
       ")"
      ]
     },
     "execution_count": 107,
     "metadata": {},
     "output_type": "execute_result"
    }
   ],
   "source": [
    "curator_mace"
   ]
  },
  {
   "cell_type": "code",
   "execution_count": 110,
   "metadata": {},
   "outputs": [
    {
     "data": {
      "text/plain": [
       "5725072"
      ]
     },
     "execution_count": 110,
     "metadata": {},
     "output_type": "execute_result"
    }
   ],
   "source": [
    "sum(p.numel() for p in mace_model.parameters())"
   ]
  },
  {
   "cell_type": "code",
   "execution_count": 111,
   "metadata": {},
   "outputs": [
    {
     "data": {
      "text/plain": [
       "5725082"
      ]
     },
     "execution_count": 111,
     "metadata": {},
     "output_type": "execute_result"
    }
   ],
   "source": [
    "sum(p.numel() for p in curator_mace.parameters())"
   ]
  },
  {
   "cell_type": "code",
   "execution_count": 106,
   "metadata": {},
   "outputs": [
    {
     "data": {
      "text/plain": [
       "ScaleShiftMACE(\n",
       "  (node_embedding): LinearNodeEmbeddingBlock(\n",
       "    (linear): Linear(89x0e -> 128x0e | 11392 weights)\n",
       "  )\n",
       "  (radial_embedding): RadialEmbeddingBlock(\n",
       "    (bessel_fn): BesselBasis(r_max=6.0, num_basis=10, trainable=False)\n",
       "    (cutoff_fn): PolynomialCutoff(p=5.0, r_max=6.0)\n",
       "  )\n",
       "  (spherical_harmonics): SphericalHarmonics()\n",
       "  (atomic_energies_fn): AtomicEnergiesBlock(energies=[-3.6672, -1.3321, -3.4821, -4.7367, -7.7249, -8.4056, -7.3601, -7.2846, -4.8965, 0.0000, -2.7594, -2.8140, -4.8469, -7.6948, -6.9633, -4.6726, -2.8117, -0.0626, -2.6176, -5.3905, -7.8858, -10.2684, -8.6651, -9.2331, -8.3050, -7.0490, -5.5774, -5.1727, -3.2521, -1.2902, -3.5271, -4.7085, -3.9765, -3.8862, -2.5185, 6.7669, -2.5635, -4.9380, -10.1498, -11.8469, -12.1389, -8.7917, -8.7869, -7.7809, -6.8500, -4.8910, -2.0634, -0.6396, -2.7887, -3.8186, -3.5871, -2.8804, -1.6356, 9.8467, -2.7653, -4.9910, -8.9337, -8.7356, -8.0190, -8.2515, -7.5917, -8.1697, -13.5927, -18.5175, -7.6474, -8.1230, -7.6078, -6.8503, -7.8269, -3.5848, -7.4554, -12.7963, -14.1081, -9.3549, -11.3875, -9.6219, -7.3244, -5.3047, -2.3801, 0.2495, -2.3240, -3.7300, -3.4388, -5.0629, -11.0246, -12.2656, -13.8556, -14.9331, -15.2828])\n",
       "  (interactions): ModuleList(\n",
       "    (0): RealAgnosticResidualInteractionBlock(\n",
       "      (linear_up): Linear(128x0e -> 128x0e | 16384 weights)\n",
       "      (conv_tp): TensorProduct(128x0e x 1x0e+1x1o+1x2e+1x3o -> 128x0e+128x1o+128x2e+128x3o | 512 paths | 512 weights)\n",
       "      (conv_tp_weights): FullyConnectedNet[10, 64, 64, 64, 512]\n",
       "      (linear): Linear(128x0e+128x1o+128x2e+128x3o -> 128x0e+128x1o+128x2e+128x3o | 65536 weights)\n",
       "      (skip_tp): FullyConnectedTensorProduct(128x0e x 89x0e -> 128x0e+128x1o+128x2e | 1458176 paths | 1458176 weights)\n",
       "      (reshape): reshape_irreps()\n",
       "    )\n",
       "    (1): RealAgnosticResidualInteractionBlock(\n",
       "      (linear_up): Linear(128x0e+128x1o+128x2e -> 128x0e+128x1o+128x2e | 49152 weights)\n",
       "      (conv_tp): TensorProduct(128x0e+128x1o+128x2e x 1x0e+1x1o+1x2e+1x3o -> 384x0e+640x1o+640x2e+512x3o | 2176 paths | 2176 weights)\n",
       "      (conv_tp_weights): FullyConnectedNet[10, 64, 64, 64, 2176]\n",
       "      (linear): Linear(384x0e+640x1o+640x2e+512x3o -> 128x0e+128x1o+128x2e+128x3o | 278528 weights)\n",
       "      (skip_tp): FullyConnectedTensorProduct(128x0e+128x1o+128x2e x 89x0e -> 128x0e | 1458176 paths | 1458176 weights)\n",
       "      (reshape): reshape_irreps()\n",
       "    )\n",
       "  )\n",
       "  (products): ModuleList(\n",
       "    (0): EquivariantProductBasisBlock(\n",
       "      (symmetric_contractions): SymmetricContraction(\n",
       "        (contractions): ModuleList(\n",
       "          (0): Contraction(\n",
       "            (contractions_weighting): ModuleList(\n",
       "              (0-1): 2 x GraphModule()\n",
       "            )\n",
       "            (contractions_features): ModuleList(\n",
       "              (0-1): 2 x GraphModule()\n",
       "            )\n",
       "            (weights): ParameterList(\n",
       "                (0): Parameter containing: [torch.float32 of size 89x4x128 (GPU 0)]\n",
       "                (1): Parameter containing: [torch.float32 of size 89x1x128 (GPU 0)]\n",
       "            )\n",
       "            (graph_opt_main): GraphModule()\n",
       "          )\n",
       "          (1): Contraction(\n",
       "            (contractions_weighting): ModuleList(\n",
       "              (0-1): 2 x GraphModule()\n",
       "            )\n",
       "            (contractions_features): ModuleList(\n",
       "              (0-1): 2 x GraphModule()\n",
       "            )\n",
       "            (weights): ParameterList(\n",
       "                (0): Parameter containing: [torch.float32 of size 89x6x128 (GPU 0)]\n",
       "                (1): Parameter containing: [torch.float32 of size 89x1x128 (GPU 0)]\n",
       "            )\n",
       "            (graph_opt_main): GraphModule()\n",
       "          )\n",
       "          (2): Contraction(\n",
       "            (contractions_weighting): ModuleList(\n",
       "              (0-1): 2 x GraphModule()\n",
       "            )\n",
       "            (contractions_features): ModuleList(\n",
       "              (0-1): 2 x GraphModule()\n",
       "            )\n",
       "            (weights): ParameterList(\n",
       "                (0): Parameter containing: [torch.float32 of size 89x7x128 (GPU 0)]\n",
       "                (1): Parameter containing: [torch.float32 of size 89x1x128 (GPU 0)]\n",
       "            )\n",
       "            (graph_opt_main): GraphModule()\n",
       "          )\n",
       "        )\n",
       "      )\n",
       "      (linear): Linear(128x0e+128x1o+128x2e -> 128x0e+128x1o+128x2e | 49152 weights)\n",
       "    )\n",
       "    (1): EquivariantProductBasisBlock(\n",
       "      (symmetric_contractions): SymmetricContraction(\n",
       "        (contractions): ModuleList(\n",
       "          (0): Contraction(\n",
       "            (contractions_weighting): ModuleList(\n",
       "              (0-1): 2 x GraphModule()\n",
       "            )\n",
       "            (contractions_features): ModuleList(\n",
       "              (0-1): 2 x GraphModule()\n",
       "            )\n",
       "            (weights): ParameterList(\n",
       "                (0): Parameter containing: [torch.float32 of size 89x4x128 (GPU 0)]\n",
       "                (1): Parameter containing: [torch.float32 of size 89x1x128 (GPU 0)]\n",
       "            )\n",
       "            (graph_opt_main): GraphModule()\n",
       "          )\n",
       "        )\n",
       "      )\n",
       "      (linear): Linear(128x0e -> 128x0e | 16384 weights)\n",
       "    )\n",
       "  )\n",
       "  (readouts): ModuleList(\n",
       "    (0): LinearReadoutBlock(\n",
       "      (linear): Linear(128x0e+128x1o+128x2e -> 1x0e | 128 weights)\n",
       "    )\n",
       "    (1): NonLinearReadoutBlock(\n",
       "      (linear_1): Linear(128x0e -> 16x0e | 2048 weights)\n",
       "      (non_linearity): Activation [x] (16x0e -> 16x0e)\n",
       "      (linear_2): Linear(16x0e -> 1x0e | 16 weights)\n",
       "    )\n",
       "  )\n",
       "  (scale_shift): ScaleShiftBlock(scale=0.804154, shift=0.164097)\n",
       ")"
      ]
     },
     "execution_count": 106,
     "metadata": {},
     "output_type": "execute_result"
    }
   ],
   "source": [
    "mace_model"
   ]
  },
  {
   "cell_type": "code",
   "execution_count": 15,
   "metadata": {},
   "outputs": [
    {
     "data": {
      "text/plain": [
       "Contraction(\n",
       "  (contractions_weighting): ModuleList(\n",
       "    (0-1): 2 x GraphModule()\n",
       "  )\n",
       "  (contractions_features): ModuleList(\n",
       "    (0-1): 2 x GraphModule()\n",
       "  )\n",
       "  (weights): ParameterList(\n",
       "      (0): Parameter containing: [torch.float32 of size 3x4x128]\n",
       "      (1): Parameter containing: [torch.float32 of size 3x1x128]\n",
       "  )\n",
       "  (graph_opt_main): GraphModule()\n",
       ")"
      ]
     },
     "execution_count": 15,
     "metadata": {},
     "output_type": "execute_result"
    }
   ],
   "source": [
    "model.representation.products[0].symmetric_contractions.contractions[0]"
   ]
  },
  {
   "cell_type": "code",
   "execution_count": 57,
   "metadata": {},
   "outputs": [],
   "source": [
    "from curator.layer._symmetric_contraction import Contraction, SymmetricContraction"
   ]
  },
  {
   "cell_type": "code",
   "execution_count": 103,
   "metadata": {},
   "outputs": [
    {
     "name": "stderr",
     "output_type": "stream",
     "text": [
      "/home/xinyang/miniconda3/lib/python3.11/site-packages/torch/jit/_check.py:172: UserWarning: The TorchScript type system doesn't support instance-level annotations on empty non-base types in `__init__`. Instead, either 1) use a type annotation in the class body, or 2) wrap the type in `torch.jit.Attribute`.\n",
      "  warnings.warn(\"The TorchScript type system doesn't support \"\n"
     ]
    }
   ],
   "source": [
    "from curator.layer import (\n",
    "    OneHotAtomEncoding,\n",
    "    AtomwiseLinear,\n",
    "    AtomwiseNonLinear,\n",
    "    RadialBasisEdgeEncoding,\n",
    "    SphericalHarmonicEdgeAttrs,\n",
    "    RealAgnosticResidualInteractionBlock,\n",
    "    EquivariantProductBasisBlock,\n",
    ")\n",
    "\n",
    "cutoff=float(mace_model.r_max)\n",
    "num_interactions=len(mace_model.interactions)\n",
    "correlation=3\n",
    "species=[chemical_symbols[i] for i in mace_model.atomic_numbers]\n",
    "num_elements=len(mace_model.atomic_numbers)\n",
    "hidden_irreps=mace_model.interactions[0].hidden_irreps\n",
    "edge_sh_irreps=mace_model.spherical_harmonics.irreps_out\n",
    "node_irreps=None\n",
    "MLP_irreps=MLP_irreps\n",
    "avg_num_neighbors=mace_model.interactions[0].avg_num_neighbors\n",
    "num_basis=len(mace_model.radial_embedding.bessel_fn.bessel_weights)\n",
    "power=int(mace_model.radial_embedding.cutoff_fn.p)\n",
    "gate=gate\n",
    "\n",
    "if num_elements is None:\n",
    "    num_elements = len(species)\n",
    "\n",
    "# hidden feature irreps\n",
    "if hidden_irreps is not None:\n",
    "    hidden_irreps = o3.Irreps(hidden_irreps) if isinstance(hidden_irreps, str) else hidden_irreps\n",
    "else:\n",
    "    hidden_irreps = o3.Irreps(\n",
    "        [\n",
    "            (num_features, (l, p))\n",
    "            for p in ((1, -1) if parity else (1,))\n",
    "            for l in range(lmax + 1)\n",
    "        ]\n",
    "    )\n",
    "# MACE prohibits some irreps like 0e, 1e to be used\n",
    "forbidden_ir = ['0o', '1e', '2o', '3e', '4o']\n",
    "hidden_irreps = o3.Irreps([irrep for irrep in hidden_irreps if str(irrep.ir) not in forbidden_ir])\n",
    "num_features = hidden_irreps.count(o3.Irrep(0, 1))\n",
    "\n",
    "## handling irreps\n",
    "# chemical embedding irreps\n",
    "if node_irreps is None:\n",
    "    node_irreps = o3.Irreps([(num_features, (0, 1))])\n",
    "elif isinstance(node_irreps, str):\n",
    "    node_irreps = o3.Irreps(node_irreps)\n",
    "else:\n",
    "    node_irreps = node_irreps\n",
    "# edge sphere harmonic irreps\n",
    "if edge_sh_irreps is None:\n",
    "    edge_sh_irreps = o3.Irreps.spherical_harmonics(lmax, p=-1 if parity else 1)\n",
    "elif isinstance(edge_sh_irreps, str):\n",
    "    edge_sh_irreps = o3.Irreps(edge_sh_irreps)\n",
    "else:\n",
    "    edge_sh_irreps = edge_sh_irreps\n",
    "\n",
    "# MLP_irreps\n",
    "if MLP_irreps is None:\n",
    "    MLP_irreps = o3.Irreps([(max(1, num_features // 2), (0, 1))])\n",
    "elif isinstance(MLP_irreps, str):\n",
    "    MLP_irreps = o3.Irreps(MLP_irreps)\n",
    "else:\n",
    "    MLP_irreps = MLP_irreps\n",
    "    \n",
    "embeddings = nn.ModuleDict()\n",
    "embeddings['onehot_embedding'] = OneHotAtomEncoding(num_elements=num_elements, species=species)\n",
    "embeddings['radial_basis'] = RadialBasisEdgeEncoding(\n",
    "    cutoff=cutoff,\n",
    "    basis_kwargs={'num_basis': num_basis},\n",
    "    cutoff_kwargs={'power': power},\n",
    ")\n",
    "embeddings['sphere_harmonics'] = SphericalHarmonicEdgeAttrs(edge_sh_irreps=edge_sh_irreps)\n",
    "\n",
    "irreps_in = {\n",
    "    properties.edge_diff_embedding: embeddings.sphere_harmonics.irreps_out,\n",
    "    properties.edge_dist_embedding: embeddings.radial_basis.irreps_out,\n",
    "}\n",
    "irreps_in.update(embeddings.onehot_embedding.irreps_out)\n",
    "\n",
    "embeddings['chemical_embedding'] = AtomwiseLinear(\n",
    "    irreps_in=irreps_in[properties.node_attr],\n",
    "    irreps_out=node_irreps,\n",
    ")\n",
    "irreps_in[properties.node_feat] = embeddings.chemical_embedding.irreps_out\n",
    "\n",
    "interaction_irreps = (edge_sh_irreps * num_features).sort()[0].simplify()\n",
    "\n",
    "interactions = torch.nn.ModuleList()\n",
    "products = torch.nn.ModuleList()\n",
    "readout_mlp = torch.nn.ModuleList()\n",
    "gate_fn = activation_fn[gate] if isinstance(gate, str) else gate\n",
    "# interaction blocks\n",
    "for i in range(num_interactions):\n",
    "    hidden_irreps_out = str(hidden_irreps[0]) if i == num_interactions - 1 else hidden_irreps\n",
    "    if i > 0:\n",
    "        irreps_in[properties.node_feat] = hidden_irreps\n",
    "    inter = RealAgnosticResidualInteractionBlock(\n",
    "        irreps_in=irreps_in,\n",
    "        target_irreps=interaction_irreps,\n",
    "        hidden_irreps=hidden_irreps_out,\n",
    "        avg_num_neighbors=avg_num_neighbors,\n",
    "    )\n",
    "    interactions.append(inter)\n",
    "    \n",
    "    prod = EquivariantProductBasisBlock(\n",
    "        node_feats_irreps=inter.target_irreps if i == 0 else interaction_irreps,\n",
    "        target_irreps=hidden_irreps_out,\n",
    "        correlation=correlation,\n",
    "        num_elements=num_elements,\n",
    "        use_sc=True,\n",
    "    )\n",
    "    products.append(prod)\n",
    "    \n",
    "    if i == num_interactions - 1:\n",
    "        readout = AtomwiseNonLinear(\n",
    "            irreps_in=hidden_irreps_out, \n",
    "            MLP_irreps=MLP_irreps,\n",
    "            gate=gate_fn,\n",
    "        )\n",
    "    else:\n",
    "        readout = o3.Linear(irreps_in=hidden_irreps_out, irreps_out=o3.Irreps('1x0e'))\n",
    "    readout_mlp.append(readout)"
   ]
  },
  {
   "cell_type": "code",
   "execution_count": 5,
   "metadata": {},
   "outputs": [],
   "source": [
    "cfg = read_user_config(\"user_cfg.yaml\", config_path=\"../curator/configs\")\n",
    "OmegaConf.save(cfg, 'config.yaml', resolve=True)\n",
    "\n",
    "data = instantiate(cfg.data)\n",
    "model = instantiate(cfg.model)\n",
    "task = instantiate(cfg.task, model=model)\n",
    "trainer = instantiate(cfg.trainer)\n",
    "task.save_configuration(cfg)\n",
    "# set up logger\n",
    "console_logger = logging.getLogger(\"console\")\n",
    "console_logger.setLevel(logging.DEBUG)\n",
    "fh = logging.FileHandler(os.path.join(cfg.run_path, \"training.log\"), mode=\"w\")\n",
    "fh.setFormatter(logging.Formatter(\"%(message)s\"))\n",
    "sh = logging.StreamHandler()\n",
    "sh.setFormatter(logging.Formatter(\"%(message)s\"))\n",
    "\n",
    "console_logger.addHandler(fh)\n",
    "console_logger.addHandler(sh)\n",
    "console_logger.info(\"Initiating console logger\")\n",
    "\n",
    "trainer.fit(task, data)"
   ]
  },
  {
   "cell_type": "code",
   "execution_count": 6,
   "metadata": {},
   "outputs": [],
   "source": []
  },
  {
   "cell_type": "code",
   "execution_count": 7,
   "metadata": {},
   "outputs": [
    {
     "name": "stderr",
     "output_type": "stream",
     "text": [
      "/home/xinyang/miniconda3/lib/python3.11/site-packages/torch/jit/_check.py:172: UserWarning: The TorchScript type system doesn't support instance-level annotations on empty non-base types in `__init__`. Instead, either 1) use a type annotation in the class body, or 2) wrap the type in `torch.jit.Attribute`.\n",
      "  warnings.warn(\"The TorchScript type system doesn't support \"\n",
      "GPU available: True (cuda), used: True\n",
      "TPU available: False, using: 0 TPU cores\n",
      "IPU available: False, using: 0 IPUs\n",
      "HPU available: False, using: 0 HPUs\n",
      "`Trainer(limit_train_batches=1.0)` was configured so 100% of the batches per epoch will be used..\n",
      "`Trainer(limit_val_batches=1.0)` was configured so 100% of the batches will be used..\n",
      "`Trainer(limit_test_batches=1.0)` was configured so 100% of the batches will be used..\n",
      "`Trainer(val_check_interval=1.0)` was configured so validation will run at the end of the training epoch..\n",
      "Initiating console logger\n"
     ]
    }
   ],
   "source": []
  },
  {
   "cell_type": "code",
   "execution_count": 8,
   "metadata": {},
   "outputs": [
    {
     "name": "stderr",
     "output_type": "stream",
     "text": [
      "/home/xinyang/miniconda3/lib/python3.11/site-packages/pytorch_lightning/callbacks/model_checkpoint.py:615: UserWarning: Checkpoint directory /home/xinyang/xin_test/Curator/gnn-active_learning/model_path exists and is not empty.\n",
      "  rank_zero_warn(f\"Checkpoint directory {dirpath} exists and is not empty.\")\n",
      "LOCAL_RANK: 0 - CUDA_VISIBLE_DEVICES: [0]\n",
      "\n",
      "  | Name    | Type                   | Params\n",
      "---------------------------------------------------\n",
      "0 | model   | NeuralNetworkPotential | 1.1 M \n",
      "1 | outputs | ModuleList             | 0     \n",
      "---------------------------------------------------\n",
      "1.1 M     Trainable params\n",
      "0         Non-trainable params\n",
      "1.1 M     Total params\n",
      "4.224     Total estimated model params size (MB)\n",
      "/home/xinyang/miniconda3/lib/python3.11/site-packages/pytorch_lightning/trainer/connectors/data_connector.py:432: PossibleUserWarning: The dataloader, train_dataloader, does not have many workers which may be a bottleneck. Consider increasing the value of the `num_workers` argument` (try 12 which is the number of cpus on this machine) in the `DataLoader` init to improve performance.\n",
      "  rank_zero_warn(\n",
      "/home/xinyang/miniconda3/lib/python3.11/site-packages/pytorch_lightning/trainer/connectors/data_connector.py:432: PossibleUserWarning: The dataloader, val_dataloader, does not have many workers which may be a bottleneck. Consider increasing the value of the `num_workers` argument` (try 12 which is the number of cpus on this machine) in the `DataLoader` init to improve performance.\n",
      "  rank_zero_warn(\n"
     ]
    },
    {
     "name": "stdout",
     "output_type": "stream",
     "text": [
      "Training: 0it [00:00, ?it/s]"
     ]
    },
    {
     "name": "stderr",
     "output_type": "stream",
     "text": [
      "\n",
      "\n",
      "Start training model\n"
     ]
    },
    {
     "name": "stdout",
     "output_type": "stream",
     "text": [
      "Epoch 0:   0%|          | 0/200 [00:00<?, ?it/s] "
     ]
    },
    {
     "name": "stderr",
     "output_type": "stream",
     "text": [
      "\n",
      "\n",
      "Training\n",
      "    0          0      269794.000      196575.453       73218.531         197.969         198.280          20.779          27.762\n",
      "training_step.train_loss: 269794.000      training_step.energy_loss: 196575.453      training_step.forces_loss: 73218.531       training_step.train_energy_mae: 197.969         training_step.train_energy_rmse: 198.280         training_step.train_forces_mae: 20.779          training_step.train_forces_rmse: 27.762          \n"
     ]
    },
    {
     "name": "stdout",
     "output_type": "stream",
     "text": [
      "Epoch 0:   5%|▌         | 10/200 [00:16<05:08,  1.62s/it, v_num=8, train_loss=1.4e+5, energy_loss=4.89e+4, forces_loss=9.14e+4] "
     ]
    },
    {
     "name": "stderr",
     "output_type": "stream",
     "text": [
      "    0         10      143513.344       56758.055       86755.281         106.469         106.544          21.577          30.219\n",
      "training_step.train_loss: 143513.344      training_step.energy_loss: 56758.055       training_step.forces_loss: 86755.281       training_step.train_energy_mae: 106.469         training_step.train_energy_rmse: 106.544         training_step.train_forces_mae: 21.577          training_step.train_forces_rmse: 30.219          \n"
     ]
    },
    {
     "name": "stdout",
     "output_type": "stream",
     "text": [
      "Epoch 0:  10%|█         | 20/200 [00:18<02:46,  1.08it/s, v_num=8, train_loss=6.66e+4, energy_loss=2.55e+3, forces_loss=6.41e+4]"
     ]
    },
    {
     "name": "stderr",
     "output_type": "stream",
     "text": [
      "    0         20      100731.594       15488.139       85243.453          55.556          55.656          22.851          29.955\n",
      "training_step.train_loss: 100731.594      training_step.energy_loss: 15488.139       training_step.forces_loss: 85243.453       training_step.train_energy_mae: 55.556          training_step.train_energy_rmse: 55.656          training_step.train_forces_mae: 22.851          training_step.train_forces_rmse: 29.955          \n"
     ]
    },
    {
     "name": "stdout",
     "output_type": "stream",
     "text": [
      "Epoch 0:  15%|█▌        | 30/200 [00:20<01:57,  1.45it/s, v_num=8, train_loss=5.75e+4, energy_loss=998.0, forces_loss=5.65e+4]  "
     ]
    },
    {
     "name": "stderr",
     "output_type": "stream",
     "text": [
      "    0         30       48953.023         360.264       48592.762           6.738           8.488          16.904          22.616\n",
      "training_step.train_loss: 48953.023       training_step.energy_loss: 360.264         training_step.forces_loss: 48592.762       training_step.train_energy_mae: 6.738           training_step.train_energy_rmse: 8.488           training_step.train_forces_mae: 16.904          training_step.train_forces_rmse: 22.616          \n"
     ]
    },
    {
     "name": "stdout",
     "output_type": "stream",
     "text": [
      "Epoch 0:  20%|██        | 40/200 [00:23<01:32,  1.74it/s, v_num=8, train_loss=4.44e+4, energy_loss=859.0, forces_loss=4.35e+4]  "
     ]
    },
    {
     "name": "stderr",
     "output_type": "stream",
     "text": [
      "    0         40       52293.309          30.237       52263.070           1.919           2.459          16.312          23.455\n",
      "training_step.train_loss: 52293.309       training_step.energy_loss: 30.237          training_step.forces_loss: 52263.070       training_step.train_energy_mae: 1.919           training_step.train_energy_rmse: 2.459           training_step.train_forces_mae: 16.312          training_step.train_forces_rmse: 23.455          \n"
     ]
    },
    {
     "name": "stdout",
     "output_type": "stream",
     "text": [
      "Epoch 0:  25%|██▌       | 50/200 [00:25<01:15,  1.98it/s, v_num=8, train_loss=3.99e+4, energy_loss=62.40, forces_loss=3.98e+4]  "
     ]
    },
    {
     "name": "stderr",
     "output_type": "stream",
     "text": [
      "    0         50       31949.979         204.299       31745.680           5.637           6.392          12.715          18.280\n",
      "training_step.train_loss: 31949.979       training_step.energy_loss: 204.299         training_step.forces_loss: 31745.680       training_step.train_energy_mae: 5.637           training_step.train_energy_rmse: 6.392           training_step.train_forces_mae: 12.715          training_step.train_forces_rmse: 18.280          \n"
     ]
    },
    {
     "name": "stdout",
     "output_type": "stream",
     "text": [
      "Epoch 0:  30%|███       | 60/200 [00:27<01:04,  2.18it/s, v_num=8, train_loss=3.25e+4, energy_loss=764.0, forces_loss=3.17e+4]  "
     ]
    },
    {
     "name": "stderr",
     "output_type": "stream",
     "text": [
      "    0         60       26149.693         302.283       25847.410           6.975           7.775          11.968          16.495\n",
      "training_step.train_loss: 26149.693       training_step.energy_loss: 302.283         training_step.forces_loss: 25847.410       training_step.train_energy_mae: 6.975           training_step.train_energy_rmse: 7.775           training_step.train_forces_mae: 11.968          training_step.train_forces_rmse: 16.495          \n"
     ]
    },
    {
     "name": "stdout",
     "output_type": "stream",
     "text": [
      "Epoch 0:  35%|███▌      | 70/200 [00:29<00:55,  2.35it/s, v_num=8, train_loss=2.76e+4, energy_loss=192.0, forces_loss=2.74e+4]  "
     ]
    },
    {
     "name": "stderr",
     "output_type": "stream",
     "text": [
      "    0         70       20544.127          78.703       20465.424           3.088           3.967          10.885          14.677\n",
      "training_step.train_loss: 20544.127       training_step.energy_loss: 78.703          training_step.forces_loss: 20465.424       training_step.train_energy_mae: 3.088           training_step.train_energy_rmse: 3.967           training_step.train_forces_mae: 10.885          training_step.train_forces_rmse: 14.677          \n"
     ]
    },
    {
     "name": "stdout",
     "output_type": "stream",
     "text": [
      "Epoch 0:  40%|████      | 80/200 [00:32<00:48,  2.49it/s, v_num=8, train_loss=1.91e+4, energy_loss=1.03e+3, forces_loss=1.81e+4]"
     ]
    },
    {
     "name": "stderr",
     "output_type": "stream",
     "text": [
      "    0         80       18983.715         705.240       18278.475          10.675          11.876          10.814          13.871\n",
      "training_step.train_loss: 18983.715       training_step.energy_loss: 705.240         training_step.forces_loss: 18278.475       training_step.train_energy_mae: 10.675          training_step.train_energy_rmse: 11.876          training_step.train_forces_mae: 10.814          training_step.train_forces_rmse: 13.871          \n"
     ]
    },
    {
     "name": "stdout",
     "output_type": "stream",
     "text": [
      "Epoch 0:  45%|████▌     | 90/200 [00:34<00:41,  2.63it/s, v_num=8, train_loss=1.81e+4, energy_loss=330.0, forces_loss=1.78e+4]  "
     ]
    },
    {
     "name": "stderr",
     "output_type": "stream",
     "text": [
      "    0         90       19632.398        1240.866       18391.533          15.356          15.754          10.251          13.914\n",
      "training_step.train_loss: 19632.398       training_step.energy_loss: 1240.866        training_step.forces_loss: 18391.533       training_step.train_energy_mae: 15.356          training_step.train_energy_rmse: 15.754          training_step.train_forces_mae: 10.251          training_step.train_forces_rmse: 13.914          \n"
     ]
    },
    {
     "name": "stdout",
     "output_type": "stream",
     "text": [
      "Epoch 0:  50%|█████     | 100/200 [00:36<00:36,  2.74it/s, v_num=8, train_loss=1.76e+4, energy_loss=1.55e+3, forces_loss=1.6e+4]"
     ]
    },
    {
     "name": "stderr",
     "output_type": "stream",
     "text": [
      "    0        100       17293.734         219.878       17073.857           5.219           6.631           9.841          13.406\n",
      "training_step.train_loss: 17293.734       training_step.energy_loss: 219.878         training_step.forces_loss: 17073.857       training_step.train_energy_mae: 5.219           training_step.train_energy_rmse: 6.631           training_step.train_forces_mae: 9.841           training_step.train_forces_rmse: 13.406          \n"
     ]
    },
    {
     "name": "stdout",
     "output_type": "stream",
     "text": [
      "Epoch 0:  55%|█████▌    | 110/200 [00:38<00:31,  2.85it/s, v_num=8, train_loss=1.47e+4, energy_loss=580.0, forces_loss=1.41e+4]  "
     ]
    },
    {
     "name": "stderr",
     "output_type": "stream",
     "text": [
      "    0        110       14581.686         226.912       14354.773           4.300           6.737           9.096          12.292\n",
      "training_step.train_loss: 14581.686       training_step.energy_loss: 226.912         training_step.forces_loss: 14354.773       training_step.train_energy_mae: 4.300           training_step.train_energy_rmse: 6.737           training_step.train_forces_mae: 9.096           training_step.train_forces_rmse: 12.292          \n"
     ]
    },
    {
     "name": "stdout",
     "output_type": "stream",
     "text": [
      "Epoch 0:  60%|██████    | 120/200 [00:40<00:27,  2.95it/s, v_num=8, train_loss=9.85e+3, energy_loss=111.0, forces_loss=9.74e+3]  "
     ]
    },
    {
     "name": "stderr",
     "output_type": "stream",
     "text": [
      "    0        120       16653.090        1541.498       15111.593          16.763          17.558           9.465          12.612\n",
      "training_step.train_loss: 16653.090       training_step.energy_loss: 1541.498        training_step.forces_loss: 15111.593       training_step.train_energy_mae: 16.763          training_step.train_energy_rmse: 17.558          training_step.train_forces_mae: 9.465           training_step.train_forces_rmse: 12.612          \n"
     ]
    },
    {
     "name": "stdout",
     "output_type": "stream",
     "text": [
      "Epoch 0:  65%|██████▌   | 130/200 [00:42<00:23,  3.04it/s, v_num=8, train_loss=7.02e+3, energy_loss=178.0, forces_loss=6.84e+3]  "
     ]
    },
    {
     "name": "stderr",
     "output_type": "stream",
     "text": [
      "    0        130        8799.908         219.874        8580.034           5.219           6.631           7.366           9.503\n",
      "training_step.train_loss: 8799.908        training_step.energy_loss: 219.874         training_step.forces_loss: 8580.034        training_step.train_energy_mae: 5.219           training_step.train_energy_rmse: 6.631           training_step.train_forces_mae: 7.366           training_step.train_forces_rmse: 9.503           \n"
     ]
    },
    {
     "name": "stdout",
     "output_type": "stream",
     "text": [
      "Epoch 0:  70%|███████   | 140/200 [00:44<00:19,  3.12it/s, v_num=8, train_loss=6.32e+3, energy_loss=116.0, forces_loss=6.2e+3] "
     ]
    },
    {
     "name": "stderr",
     "output_type": "stream",
     "text": [
      "    0        140        6935.908          57.134        6878.774           2.944           3.380           6.581           8.509\n",
      "training_step.train_loss: 6935.908        training_step.energy_loss: 57.134          training_step.forces_loss: 6878.774        training_step.train_energy_mae: 2.944           training_step.train_energy_rmse: 3.380           training_step.train_forces_mae: 6.581           training_step.train_forces_rmse: 8.509           \n"
     ]
    },
    {
     "name": "stdout",
     "output_type": "stream",
     "text": [
      "Epoch 0:  75%|███████▌  | 150/200 [00:47<00:15,  3.19it/s, v_num=8, train_loss=7.8e+3, energy_loss=411.0, forces_loss=7.39e+3] "
     ]
    },
    {
     "name": "stderr",
     "output_type": "stream",
     "text": [
      "    0        150        8529.375          74.471        8454.904           3.425           3.859           6.943           9.434\n",
      "training_step.train_loss: 8529.375        training_step.energy_loss: 74.471          training_step.forces_loss: 8454.904        training_step.train_energy_mae: 3.425           training_step.train_energy_rmse: 3.859           training_step.train_forces_mae: 6.943           training_step.train_forces_rmse: 9.434           \n"
     ]
    },
    {
     "name": "stdout",
     "output_type": "stream",
     "text": [
      "Epoch 0:  80%|████████  | 160/200 [00:49<00:12,  3.26it/s, v_num=8, train_loss=6.1e+3, energy_loss=427.0, forces_loss=5.67e+3] "
     ]
    },
    {
     "name": "stderr",
     "output_type": "stream",
     "text": [
      "    0        160        6751.105         113.354        6637.752           4.537           4.761           5.999           8.359\n",
      "training_step.train_loss: 6751.105        training_step.energy_loss: 113.354         training_step.forces_loss: 6637.752        training_step.train_energy_mae: 4.537           training_step.train_energy_rmse: 4.761           training_step.train_forces_mae: 5.999           training_step.train_forces_rmse: 8.359           \n"
     ]
    },
    {
     "name": "stdout",
     "output_type": "stream",
     "text": [
      "Epoch 0:  85%|████████▌ | 170/200 [00:51<00:09,  3.32it/s, v_num=8, train_loss=7.11e+3, energy_loss=39.40, forces_loss=7.07e+3]"
     ]
    },
    {
     "name": "stderr",
     "output_type": "stream",
     "text": [
      "    0        170        6793.923          51.694        6742.229           2.806           3.215           6.468           8.424\n",
      "training_step.train_loss: 6793.923        training_step.energy_loss: 51.694          training_step.forces_loss: 6742.229        training_step.train_energy_mae: 2.806           training_step.train_energy_rmse: 3.215           training_step.train_forces_mae: 6.468           training_step.train_forces_rmse: 8.424           \n"
     ]
    },
    {
     "name": "stdout",
     "output_type": "stream",
     "text": [
      "Epoch 0:  90%|█████████ | 180/200 [00:53<00:05,  3.38it/s, v_num=8, train_loss=5.57e+3, energy_loss=115.0, forces_loss=5.45e+3]"
     ]
    },
    {
     "name": "stderr",
     "output_type": "stream",
     "text": [
      "    0        180        7229.015         671.315        6557.700          11.119          11.587           5.931           8.308\n",
      "training_step.train_loss: 7229.015        training_step.energy_loss: 671.315         training_step.forces_loss: 6557.700        training_step.train_energy_mae: 11.119          training_step.train_energy_rmse: 11.587          training_step.train_forces_mae: 5.931           training_step.train_forces_rmse: 8.308           \n"
     ]
    },
    {
     "name": "stdout",
     "output_type": "stream",
     "text": [
      "Epoch 0:  95%|█████████▌| 190/200 [00:55<00:02,  3.43it/s, v_num=8, train_loss=7.17e+3, energy_loss=721.0, forces_loss=6.45e+3]"
     ]
    },
    {
     "name": "stderr",
     "output_type": "stream",
     "text": [
      "    0        190        6222.728         110.071        6112.656           3.419           4.692           5.862           8.021\n",
      "training_step.train_loss: 6222.728        training_step.energy_loss: 110.071         training_step.forces_loss: 6112.656        training_step.train_energy_mae: 3.419           training_step.train_energy_rmse: 4.692           training_step.train_forces_mae: 5.862           training_step.train_forces_rmse: 8.021           \n"
     ]
    },
    {
     "name": "stdout",
     "output_type": "stream",
     "text": [
      "Epoch 0: 100%|██████████| 200/200 [00:57<00:00,  3.48it/s, v_num=8, train_loss=4.46e+3, energy_loss=111.0, forces_loss=4.35e+3]"
     ]
    },
    {
     "name": "stderr",
     "output_type": "stream",
     "text": [
      "\n",
      "\n",
      "Validating\n",
      "# epoch      batch      total_loss     energy_loss     forces_loss      energy_mae     energy_rmse      forces_mae     forces_rmse\n"
     ]
    },
    {
     "name": "stdout",
     "output_type": "stream",
     "text": []
    },
    {
     "ename": "TypeError",
     "evalue": "unsupported format string passed to MeanAbsoluteError.__format__",
     "output_type": "error",
     "traceback": [
      "\u001b[0;31m---------------------------------------------------------------------------\u001b[0m",
      "\u001b[0;31mTypeError\u001b[0m                                 Traceback (most recent call last)",
      "Cell \u001b[0;32mIn[8], line 1\u001b[0m\n\u001b[0;32m----> 1\u001b[0m trainer\u001b[38;5;241m.\u001b[39mfit(task, data)\n",
      "File \u001b[0;32m~/miniconda3/lib/python3.11/site-packages/pytorch_lightning/trainer/trainer.py:529\u001b[0m, in \u001b[0;36mTrainer.fit\u001b[0;34m(self, model, train_dataloaders, val_dataloaders, datamodule, ckpt_path)\u001b[0m\n\u001b[1;32m    527\u001b[0m model \u001b[38;5;241m=\u001b[39m _maybe_unwrap_optimized(model)\n\u001b[1;32m    528\u001b[0m \u001b[38;5;28mself\u001b[39m\u001b[38;5;241m.\u001b[39mstrategy\u001b[38;5;241m.\u001b[39m_lightning_module \u001b[38;5;241m=\u001b[39m model\n\u001b[0;32m--> 529\u001b[0m call\u001b[38;5;241m.\u001b[39m_call_and_handle_interrupt(\n\u001b[1;32m    530\u001b[0m     \u001b[38;5;28mself\u001b[39m, \u001b[38;5;28mself\u001b[39m\u001b[38;5;241m.\u001b[39m_fit_impl, model, train_dataloaders, val_dataloaders, datamodule, ckpt_path\n\u001b[1;32m    531\u001b[0m )\n",
      "File \u001b[0;32m~/miniconda3/lib/python3.11/site-packages/pytorch_lightning/trainer/call.py:42\u001b[0m, in \u001b[0;36m_call_and_handle_interrupt\u001b[0;34m(trainer, trainer_fn, *args, **kwargs)\u001b[0m\n\u001b[1;32m     40\u001b[0m     \u001b[38;5;28;01mif\u001b[39;00m trainer\u001b[38;5;241m.\u001b[39mstrategy\u001b[38;5;241m.\u001b[39mlauncher \u001b[38;5;129;01mis\u001b[39;00m \u001b[38;5;129;01mnot\u001b[39;00m \u001b[38;5;28;01mNone\u001b[39;00m:\n\u001b[1;32m     41\u001b[0m         \u001b[38;5;28;01mreturn\u001b[39;00m trainer\u001b[38;5;241m.\u001b[39mstrategy\u001b[38;5;241m.\u001b[39mlauncher\u001b[38;5;241m.\u001b[39mlaunch(trainer_fn, \u001b[38;5;241m*\u001b[39margs, trainer\u001b[38;5;241m=\u001b[39mtrainer, \u001b[38;5;241m*\u001b[39m\u001b[38;5;241m*\u001b[39mkwargs)\n\u001b[0;32m---> 42\u001b[0m     \u001b[38;5;28;01mreturn\u001b[39;00m trainer_fn(\u001b[38;5;241m*\u001b[39margs, \u001b[38;5;241m*\u001b[39m\u001b[38;5;241m*\u001b[39mkwargs)\n\u001b[1;32m     44\u001b[0m \u001b[38;5;28;01mexcept\u001b[39;00m _TunerExitException:\n\u001b[1;32m     45\u001b[0m     _call_teardown_hook(trainer)\n",
      "File \u001b[0;32m~/miniconda3/lib/python3.11/site-packages/pytorch_lightning/trainer/trainer.py:568\u001b[0m, in \u001b[0;36mTrainer._fit_impl\u001b[0;34m(self, model, train_dataloaders, val_dataloaders, datamodule, ckpt_path)\u001b[0m\n\u001b[1;32m    558\u001b[0m \u001b[38;5;28mself\u001b[39m\u001b[38;5;241m.\u001b[39m_data_connector\u001b[38;5;241m.\u001b[39mattach_data(\n\u001b[1;32m    559\u001b[0m     model, train_dataloaders\u001b[38;5;241m=\u001b[39mtrain_dataloaders, val_dataloaders\u001b[38;5;241m=\u001b[39mval_dataloaders, datamodule\u001b[38;5;241m=\u001b[39mdatamodule\n\u001b[1;32m    560\u001b[0m )\n\u001b[1;32m    562\u001b[0m ckpt_path \u001b[38;5;241m=\u001b[39m \u001b[38;5;28mself\u001b[39m\u001b[38;5;241m.\u001b[39m_checkpoint_connector\u001b[38;5;241m.\u001b[39m_select_ckpt_path(\n\u001b[1;32m    563\u001b[0m     \u001b[38;5;28mself\u001b[39m\u001b[38;5;241m.\u001b[39mstate\u001b[38;5;241m.\u001b[39mfn,\n\u001b[1;32m    564\u001b[0m     ckpt_path,\n\u001b[1;32m    565\u001b[0m     model_provided\u001b[38;5;241m=\u001b[39m\u001b[38;5;28;01mTrue\u001b[39;00m,\n\u001b[1;32m    566\u001b[0m     model_connected\u001b[38;5;241m=\u001b[39m\u001b[38;5;28mself\u001b[39m\u001b[38;5;241m.\u001b[39mlightning_module \u001b[38;5;129;01mis\u001b[39;00m \u001b[38;5;129;01mnot\u001b[39;00m \u001b[38;5;28;01mNone\u001b[39;00m,\n\u001b[1;32m    567\u001b[0m )\n\u001b[0;32m--> 568\u001b[0m \u001b[38;5;28mself\u001b[39m\u001b[38;5;241m.\u001b[39m_run(model, ckpt_path\u001b[38;5;241m=\u001b[39mckpt_path)\n\u001b[1;32m    570\u001b[0m \u001b[38;5;28;01massert\u001b[39;00m \u001b[38;5;28mself\u001b[39m\u001b[38;5;241m.\u001b[39mstate\u001b[38;5;241m.\u001b[39mstopped\n\u001b[1;32m    571\u001b[0m \u001b[38;5;28mself\u001b[39m\u001b[38;5;241m.\u001b[39mtraining \u001b[38;5;241m=\u001b[39m \u001b[38;5;28;01mFalse\u001b[39;00m\n",
      "File \u001b[0;32m~/miniconda3/lib/python3.11/site-packages/pytorch_lightning/trainer/trainer.py:973\u001b[0m, in \u001b[0;36mTrainer._run\u001b[0;34m(self, model, ckpt_path)\u001b[0m\n\u001b[1;32m    968\u001b[0m \u001b[38;5;28mself\u001b[39m\u001b[38;5;241m.\u001b[39m_signal_connector\u001b[38;5;241m.\u001b[39mregister_signal_handlers()\n\u001b[1;32m    970\u001b[0m \u001b[38;5;66;03m# ----------------------------\u001b[39;00m\n\u001b[1;32m    971\u001b[0m \u001b[38;5;66;03m# RUN THE TRAINER\u001b[39;00m\n\u001b[1;32m    972\u001b[0m \u001b[38;5;66;03m# ----------------------------\u001b[39;00m\n\u001b[0;32m--> 973\u001b[0m results \u001b[38;5;241m=\u001b[39m \u001b[38;5;28mself\u001b[39m\u001b[38;5;241m.\u001b[39m_run_stage()\n\u001b[1;32m    975\u001b[0m \u001b[38;5;66;03m# ----------------------------\u001b[39;00m\n\u001b[1;32m    976\u001b[0m \u001b[38;5;66;03m# POST-Training CLEAN UP\u001b[39;00m\n\u001b[1;32m    977\u001b[0m \u001b[38;5;66;03m# ----------------------------\u001b[39;00m\n\u001b[1;32m    978\u001b[0m log\u001b[38;5;241m.\u001b[39mdebug(\u001b[38;5;124mf\u001b[39m\u001b[38;5;124m\"\u001b[39m\u001b[38;5;132;01m{\u001b[39;00m\u001b[38;5;28mself\u001b[39m\u001b[38;5;241m.\u001b[39m\u001b[38;5;18m__class__\u001b[39m\u001b[38;5;241m.\u001b[39m\u001b[38;5;18m__name__\u001b[39m\u001b[38;5;132;01m}\u001b[39;00m\u001b[38;5;124m: trainer tearing down\u001b[39m\u001b[38;5;124m\"\u001b[39m)\n",
      "File \u001b[0;32m~/miniconda3/lib/python3.11/site-packages/pytorch_lightning/trainer/trainer.py:1016\u001b[0m, in \u001b[0;36mTrainer._run_stage\u001b[0;34m(self)\u001b[0m\n\u001b[1;32m   1014\u001b[0m         \u001b[38;5;28mself\u001b[39m\u001b[38;5;241m.\u001b[39m_run_sanity_check()\n\u001b[1;32m   1015\u001b[0m     \u001b[38;5;28;01mwith\u001b[39;00m torch\u001b[38;5;241m.\u001b[39mautograd\u001b[38;5;241m.\u001b[39mset_detect_anomaly(\u001b[38;5;28mself\u001b[39m\u001b[38;5;241m.\u001b[39m_detect_anomaly):\n\u001b[0;32m-> 1016\u001b[0m         \u001b[38;5;28mself\u001b[39m\u001b[38;5;241m.\u001b[39mfit_loop\u001b[38;5;241m.\u001b[39mrun()\n\u001b[1;32m   1017\u001b[0m     \u001b[38;5;28;01mreturn\u001b[39;00m \u001b[38;5;28;01mNone\u001b[39;00m\n\u001b[1;32m   1018\u001b[0m \u001b[38;5;28;01mraise\u001b[39;00m \u001b[38;5;167;01mRuntimeError\u001b[39;00m(\u001b[38;5;124mf\u001b[39m\u001b[38;5;124m\"\u001b[39m\u001b[38;5;124mUnexpected state \u001b[39m\u001b[38;5;132;01m{\u001b[39;00m\u001b[38;5;28mself\u001b[39m\u001b[38;5;241m.\u001b[39mstate\u001b[38;5;132;01m}\u001b[39;00m\u001b[38;5;124m\"\u001b[39m)\n",
      "File \u001b[0;32m~/miniconda3/lib/python3.11/site-packages/pytorch_lightning/loops/fit_loop.py:201\u001b[0m, in \u001b[0;36m_FitLoop.run\u001b[0;34m(self)\u001b[0m\n\u001b[1;32m    199\u001b[0m \u001b[38;5;28;01mtry\u001b[39;00m:\n\u001b[1;32m    200\u001b[0m     \u001b[38;5;28mself\u001b[39m\u001b[38;5;241m.\u001b[39mon_advance_start()\n\u001b[0;32m--> 201\u001b[0m     \u001b[38;5;28mself\u001b[39m\u001b[38;5;241m.\u001b[39madvance()\n\u001b[1;32m    202\u001b[0m     \u001b[38;5;28mself\u001b[39m\u001b[38;5;241m.\u001b[39mon_advance_end()\n\u001b[1;32m    203\u001b[0m     \u001b[38;5;28mself\u001b[39m\u001b[38;5;241m.\u001b[39m_restarting \u001b[38;5;241m=\u001b[39m \u001b[38;5;28;01mFalse\u001b[39;00m\n",
      "File \u001b[0;32m~/miniconda3/lib/python3.11/site-packages/pytorch_lightning/loops/fit_loop.py:354\u001b[0m, in \u001b[0;36m_FitLoop.advance\u001b[0;34m(self)\u001b[0m\n\u001b[1;32m    352\u001b[0m \u001b[38;5;28mself\u001b[39m\u001b[38;5;241m.\u001b[39m_data_fetcher\u001b[38;5;241m.\u001b[39msetup(combined_loader)\n\u001b[1;32m    353\u001b[0m \u001b[38;5;28;01mwith\u001b[39;00m \u001b[38;5;28mself\u001b[39m\u001b[38;5;241m.\u001b[39mtrainer\u001b[38;5;241m.\u001b[39mprofiler\u001b[38;5;241m.\u001b[39mprofile(\u001b[38;5;124m\"\u001b[39m\u001b[38;5;124mrun_training_epoch\u001b[39m\u001b[38;5;124m\"\u001b[39m):\n\u001b[0;32m--> 354\u001b[0m     \u001b[38;5;28mself\u001b[39m\u001b[38;5;241m.\u001b[39mepoch_loop\u001b[38;5;241m.\u001b[39mrun(\u001b[38;5;28mself\u001b[39m\u001b[38;5;241m.\u001b[39m_data_fetcher)\n",
      "File \u001b[0;32m~/miniconda3/lib/python3.11/site-packages/pytorch_lightning/loops/training_epoch_loop.py:134\u001b[0m, in \u001b[0;36m_TrainingEpochLoop.run\u001b[0;34m(self, data_fetcher)\u001b[0m\n\u001b[1;32m    132\u001b[0m \u001b[38;5;28;01mtry\u001b[39;00m:\n\u001b[1;32m    133\u001b[0m     \u001b[38;5;28mself\u001b[39m\u001b[38;5;241m.\u001b[39madvance(data_fetcher)\n\u001b[0;32m--> 134\u001b[0m     \u001b[38;5;28mself\u001b[39m\u001b[38;5;241m.\u001b[39mon_advance_end()\n\u001b[1;32m    135\u001b[0m     \u001b[38;5;28mself\u001b[39m\u001b[38;5;241m.\u001b[39m_restarting \u001b[38;5;241m=\u001b[39m \u001b[38;5;28;01mFalse\u001b[39;00m\n\u001b[1;32m    136\u001b[0m \u001b[38;5;28;01mexcept\u001b[39;00m \u001b[38;5;167;01mStopIteration\u001b[39;00m:\n",
      "File \u001b[0;32m~/miniconda3/lib/python3.11/site-packages/pytorch_lightning/loops/training_epoch_loop.py:248\u001b[0m, in \u001b[0;36m_TrainingEpochLoop.on_advance_end\u001b[0;34m(self)\u001b[0m\n\u001b[1;32m    246\u001b[0m \u001b[38;5;28;01mif\u001b[39;00m should_check_val:\n\u001b[1;32m    247\u001b[0m     \u001b[38;5;28mself\u001b[39m\u001b[38;5;241m.\u001b[39mtrainer\u001b[38;5;241m.\u001b[39mvalidating \u001b[38;5;241m=\u001b[39m \u001b[38;5;28;01mTrue\u001b[39;00m\n\u001b[0;32m--> 248\u001b[0m     \u001b[38;5;28mself\u001b[39m\u001b[38;5;241m.\u001b[39mval_loop\u001b[38;5;241m.\u001b[39mrun()\n\u001b[1;32m    249\u001b[0m     \u001b[38;5;28mself\u001b[39m\u001b[38;5;241m.\u001b[39mtrainer\u001b[38;5;241m.\u001b[39mtraining \u001b[38;5;241m=\u001b[39m \u001b[38;5;28;01mTrue\u001b[39;00m\n\u001b[1;32m    251\u001b[0m \u001b[38;5;66;03m# update plateau LR scheduler after metrics are logged\u001b[39;00m\n",
      "File \u001b[0;32m~/miniconda3/lib/python3.11/site-packages/pytorch_lightning/loops/utilities.py:177\u001b[0m, in \u001b[0;36m_no_grad_context.<locals>._decorator\u001b[0;34m(self, *args, **kwargs)\u001b[0m\n\u001b[1;32m    175\u001b[0m     context_manager \u001b[38;5;241m=\u001b[39m torch\u001b[38;5;241m.\u001b[39mno_grad\n\u001b[1;32m    176\u001b[0m \u001b[38;5;28;01mwith\u001b[39;00m context_manager():\n\u001b[0;32m--> 177\u001b[0m     \u001b[38;5;28;01mreturn\u001b[39;00m loop_run(\u001b[38;5;28mself\u001b[39m, \u001b[38;5;241m*\u001b[39margs, \u001b[38;5;241m*\u001b[39m\u001b[38;5;241m*\u001b[39mkwargs)\n",
      "File \u001b[0;32m~/miniconda3/lib/python3.11/site-packages/pytorch_lightning/loops/evaluation_loop.py:115\u001b[0m, in \u001b[0;36m_EvaluationLoop.run\u001b[0;34m(self)\u001b[0m\n\u001b[1;32m    113\u001b[0m     previous_dataloader_idx \u001b[38;5;241m=\u001b[39m dataloader_idx\n\u001b[1;32m    114\u001b[0m     \u001b[38;5;66;03m# run step hooks\u001b[39;00m\n\u001b[0;32m--> 115\u001b[0m     \u001b[38;5;28mself\u001b[39m\u001b[38;5;241m.\u001b[39m_evaluation_step(batch, batch_idx, dataloader_idx)\n\u001b[1;32m    116\u001b[0m \u001b[38;5;28;01mexcept\u001b[39;00m \u001b[38;5;167;01mStopIteration\u001b[39;00m:\n\u001b[1;32m    117\u001b[0m     \u001b[38;5;66;03m# this needs to wrap the `*_step` call too (not just `next`) for `dataloader_iter` support\u001b[39;00m\n\u001b[1;32m    118\u001b[0m     \u001b[38;5;28;01mbreak\u001b[39;00m\n",
      "File \u001b[0;32m~/miniconda3/lib/python3.11/site-packages/pytorch_lightning/loops/evaluation_loop.py:375\u001b[0m, in \u001b[0;36m_EvaluationLoop._evaluation_step\u001b[0;34m(self, batch, batch_idx, dataloader_idx)\u001b[0m\n\u001b[1;32m    372\u001b[0m \u001b[38;5;28mself\u001b[39m\u001b[38;5;241m.\u001b[39mbatch_progress\u001b[38;5;241m.\u001b[39mincrement_started()\n\u001b[1;32m    374\u001b[0m hook_name \u001b[38;5;241m=\u001b[39m \u001b[38;5;124m\"\u001b[39m\u001b[38;5;124mtest_step\u001b[39m\u001b[38;5;124m\"\u001b[39m \u001b[38;5;28;01mif\u001b[39;00m trainer\u001b[38;5;241m.\u001b[39mtesting \u001b[38;5;28;01melse\u001b[39;00m \u001b[38;5;124m\"\u001b[39m\u001b[38;5;124mvalidation_step\u001b[39m\u001b[38;5;124m\"\u001b[39m\n\u001b[0;32m--> 375\u001b[0m output \u001b[38;5;241m=\u001b[39m call\u001b[38;5;241m.\u001b[39m_call_strategy_hook(trainer, hook_name, \u001b[38;5;241m*\u001b[39mstep_kwargs\u001b[38;5;241m.\u001b[39mvalues())\n\u001b[1;32m    377\u001b[0m \u001b[38;5;28mself\u001b[39m\u001b[38;5;241m.\u001b[39mbatch_progress\u001b[38;5;241m.\u001b[39mincrement_processed()\n\u001b[1;32m    379\u001b[0m hook_name \u001b[38;5;241m=\u001b[39m \u001b[38;5;124m\"\u001b[39m\u001b[38;5;124mon_test_batch_end\u001b[39m\u001b[38;5;124m\"\u001b[39m \u001b[38;5;28;01mif\u001b[39;00m trainer\u001b[38;5;241m.\u001b[39mtesting \u001b[38;5;28;01melse\u001b[39;00m \u001b[38;5;124m\"\u001b[39m\u001b[38;5;124mon_validation_batch_end\u001b[39m\u001b[38;5;124m\"\u001b[39m\n",
      "File \u001b[0;32m~/miniconda3/lib/python3.11/site-packages/pytorch_lightning/trainer/call.py:291\u001b[0m, in \u001b[0;36m_call_strategy_hook\u001b[0;34m(trainer, hook_name, *args, **kwargs)\u001b[0m\n\u001b[1;32m    288\u001b[0m     \u001b[38;5;28;01mreturn\u001b[39;00m \u001b[38;5;28;01mNone\u001b[39;00m\n\u001b[1;32m    290\u001b[0m \u001b[38;5;28;01mwith\u001b[39;00m trainer\u001b[38;5;241m.\u001b[39mprofiler\u001b[38;5;241m.\u001b[39mprofile(\u001b[38;5;124mf\u001b[39m\u001b[38;5;124m\"\u001b[39m\u001b[38;5;124m[Strategy]\u001b[39m\u001b[38;5;132;01m{\u001b[39;00mtrainer\u001b[38;5;241m.\u001b[39mstrategy\u001b[38;5;241m.\u001b[39m\u001b[38;5;18m__class__\u001b[39m\u001b[38;5;241m.\u001b[39m\u001b[38;5;18m__name__\u001b[39m\u001b[38;5;132;01m}\u001b[39;00m\u001b[38;5;124m.\u001b[39m\u001b[38;5;132;01m{\u001b[39;00mhook_name\u001b[38;5;132;01m}\u001b[39;00m\u001b[38;5;124m\"\u001b[39m):\n\u001b[0;32m--> 291\u001b[0m     output \u001b[38;5;241m=\u001b[39m fn(\u001b[38;5;241m*\u001b[39margs, \u001b[38;5;241m*\u001b[39m\u001b[38;5;241m*\u001b[39mkwargs)\n\u001b[1;32m    293\u001b[0m \u001b[38;5;66;03m# restore current_fx when nested context\u001b[39;00m\n\u001b[1;32m    294\u001b[0m pl_module\u001b[38;5;241m.\u001b[39m_current_fx_name \u001b[38;5;241m=\u001b[39m prev_fx_name\n",
      "File \u001b[0;32m~/miniconda3/lib/python3.11/site-packages/pytorch_lightning/strategies/strategy.py:379\u001b[0m, in \u001b[0;36mStrategy.validation_step\u001b[0;34m(self, *args, **kwargs)\u001b[0m\n\u001b[1;32m    377\u001b[0m \u001b[38;5;28;01mwith\u001b[39;00m \u001b[38;5;28mself\u001b[39m\u001b[38;5;241m.\u001b[39mprecision_plugin\u001b[38;5;241m.\u001b[39mval_step_context():\n\u001b[1;32m    378\u001b[0m     \u001b[38;5;28;01massert\u001b[39;00m \u001b[38;5;28misinstance\u001b[39m(\u001b[38;5;28mself\u001b[39m\u001b[38;5;241m.\u001b[39mmodel, ValidationStep)\n\u001b[0;32m--> 379\u001b[0m     \u001b[38;5;28;01mreturn\u001b[39;00m \u001b[38;5;28mself\u001b[39m\u001b[38;5;241m.\u001b[39mmodel\u001b[38;5;241m.\u001b[39mvalidation_step(\u001b[38;5;241m*\u001b[39margs, \u001b[38;5;241m*\u001b[39m\u001b[38;5;241m*\u001b[39mkwargs)\n",
      "File \u001b[0;32m~/xin_test/Curator/curator/model/base.py:342\u001b[0m, in \u001b[0;36mLitNNP.validation_step\u001b[0;34m(self, batch, batch_idx)\u001b[0m\n\u001b[1;32m    340\u001b[0m     batch_metrics \u001b[38;5;241m=\u001b[39m output\u001b[38;5;241m.\u001b[39mcalculate_metrics(pred, targets, \u001b[38;5;124m'\u001b[39m\u001b[38;5;124mval\u001b[39m\u001b[38;5;124m'\u001b[39m)\n\u001b[1;32m    341\u001b[0m     \u001b[38;5;28mself\u001b[39m\u001b[38;5;241m.\u001b[39mlog_dict(batch_metrics, prog_bar\u001b[38;5;241m=\u001b[39m\u001b[38;5;28;01mFalse\u001b[39;00m)\n\u001b[0;32m--> 342\u001b[0m     msgs \u001b[38;5;241m+\u001b[39m\u001b[38;5;241m=\u001b[39m [\u001b[38;5;124mf\u001b[39m\u001b[38;5;124m'\u001b[39m\u001b[38;5;132;01m{\u001b[39;00mmetric\u001b[38;5;132;01m:\u001b[39;00m\u001b[38;5;124m>16.3f\u001b[39m\u001b[38;5;132;01m}\u001b[39;00m\u001b[38;5;124m'\u001b[39m \u001b[38;5;28;01mfor\u001b[39;00m metric \u001b[38;5;129;01min\u001b[39;00m batch_metrics\u001b[38;5;241m.\u001b[39mvalues()]\n\u001b[1;32m    344\u001b[0m \u001b[38;5;28;01mif\u001b[39;00m batch_idx \u001b[38;5;241m%\u001b[39m \u001b[38;5;28mself\u001b[39m\u001b[38;5;241m.\u001b[39mtrainer\u001b[38;5;241m.\u001b[39mlog_every_n_steps \u001b[38;5;241m==\u001b[39m \u001b[38;5;241m0\u001b[39m:\n\u001b[1;32m    345\u001b[0m     logger\u001b[38;5;241m.\u001b[39minfo(\u001b[38;5;124m\"\u001b[39m\u001b[38;5;124m\"\u001b[39m\u001b[38;5;241m.\u001b[39mjoin(msgs))\n",
      "File \u001b[0;32m~/xin_test/Curator/curator/model/base.py:342\u001b[0m, in \u001b[0;36m<listcomp>\u001b[0;34m(.0)\u001b[0m\n\u001b[1;32m    340\u001b[0m     batch_metrics \u001b[38;5;241m=\u001b[39m output\u001b[38;5;241m.\u001b[39mcalculate_metrics(pred, targets, \u001b[38;5;124m'\u001b[39m\u001b[38;5;124mval\u001b[39m\u001b[38;5;124m'\u001b[39m)\n\u001b[1;32m    341\u001b[0m     \u001b[38;5;28mself\u001b[39m\u001b[38;5;241m.\u001b[39mlog_dict(batch_metrics, prog_bar\u001b[38;5;241m=\u001b[39m\u001b[38;5;28;01mFalse\u001b[39;00m)\n\u001b[0;32m--> 342\u001b[0m     msgs \u001b[38;5;241m+\u001b[39m\u001b[38;5;241m=\u001b[39m [\u001b[38;5;124mf\u001b[39m\u001b[38;5;124m'\u001b[39m\u001b[38;5;132;01m{\u001b[39;00mmetric\u001b[38;5;132;01m:\u001b[39;00m\u001b[38;5;124m>16.3f\u001b[39m\u001b[38;5;132;01m}\u001b[39;00m\u001b[38;5;124m'\u001b[39m \u001b[38;5;28;01mfor\u001b[39;00m metric \u001b[38;5;129;01min\u001b[39;00m batch_metrics\u001b[38;5;241m.\u001b[39mvalues()]\n\u001b[1;32m    344\u001b[0m \u001b[38;5;28;01mif\u001b[39;00m batch_idx \u001b[38;5;241m%\u001b[39m \u001b[38;5;28mself\u001b[39m\u001b[38;5;241m.\u001b[39mtrainer\u001b[38;5;241m.\u001b[39mlog_every_n_steps \u001b[38;5;241m==\u001b[39m \u001b[38;5;241m0\u001b[39m:\n\u001b[1;32m    345\u001b[0m     logger\u001b[38;5;241m.\u001b[39minfo(\u001b[38;5;124m\"\u001b[39m\u001b[38;5;124m\"\u001b[39m\u001b[38;5;241m.\u001b[39mjoin(msgs))\n",
      "\u001b[0;31mTypeError\u001b[0m: unsupported format string passed to MeanAbsoluteError.__format__"
     ]
    }
   ],
   "source": []
  },
  {
   "cell_type": "code",
   "execution_count": 9,
   "metadata": {},
   "outputs": [
    {
     "ename": "AttributeError",
     "evalue": "'LitNNP' object has no attribute 'batch_size'",
     "output_type": "error",
     "traceback": [
      "\u001b[0;31m---------------------------------------------------------------------------\u001b[0m",
      "\u001b[0;31mAttributeError\u001b[0m                            Traceback (most recent call last)",
      "Cell \u001b[0;32mIn[9], line 1\u001b[0m\n\u001b[0;32m----> 1\u001b[0m task\u001b[38;5;241m.\u001b[39mbatch_size\n",
      "File \u001b[0;32m~/miniconda3/lib/python3.11/site-packages/torch/nn/modules/module.py:1614\u001b[0m, in \u001b[0;36mModule.__getattr__\u001b[0;34m(self, name)\u001b[0m\n\u001b[1;32m   1612\u001b[0m     \u001b[38;5;28;01mif\u001b[39;00m name \u001b[38;5;129;01min\u001b[39;00m modules:\n\u001b[1;32m   1613\u001b[0m         \u001b[38;5;28;01mreturn\u001b[39;00m modules[name]\n\u001b[0;32m-> 1614\u001b[0m \u001b[38;5;28;01mraise\u001b[39;00m \u001b[38;5;167;01mAttributeError\u001b[39;00m(\u001b[38;5;124m\"\u001b[39m\u001b[38;5;124m'\u001b[39m\u001b[38;5;132;01m{}\u001b[39;00m\u001b[38;5;124m'\u001b[39m\u001b[38;5;124m object has no attribute \u001b[39m\u001b[38;5;124m'\u001b[39m\u001b[38;5;132;01m{}\u001b[39;00m\u001b[38;5;124m'\u001b[39m\u001b[38;5;124m\"\u001b[39m\u001b[38;5;241m.\u001b[39mformat(\n\u001b[1;32m   1615\u001b[0m     \u001b[38;5;28mtype\u001b[39m(\u001b[38;5;28mself\u001b[39m)\u001b[38;5;241m.\u001b[39m\u001b[38;5;18m__name__\u001b[39m, name))\n",
      "\u001b[0;31mAttributeError\u001b[0m: 'LitNNP' object has no attribute 'batch_size'"
     ]
    }
   ],
   "source": [
    "task.batch_size"
   ]
  },
  {
   "cell_type": "code",
   "execution_count": 11,
   "metadata": {},
   "outputs": [
    {
     "data": {
      "text/plain": [
       "ModuleDict(\n",
       "  (mae): MeanAbsoluteError()\n",
       "  (rmse): MeanSquaredError()\n",
       ")"
      ]
     },
     "execution_count": 11,
     "metadata": {},
     "output_type": "execute_result"
    }
   ],
   "source": [
    "task.outputs[0].metrics['train']"
   ]
  },
  {
   "cell_type": "code",
   "execution_count": 13,
   "metadata": {},
   "outputs": [
    {
     "ename": "TypeError",
     "evalue": "Subscripted generics cannot be used with class and instance checks",
     "output_type": "error",
     "traceback": [
      "\u001b[0;31m---------------------------------------------------------------------------\u001b[0m",
      "\u001b[0;31mTypeError\u001b[0m                                 Traceback (most recent call last)",
      "Cell \u001b[0;32mIn[13], line 1\u001b[0m\n\u001b[0;32m----> 1\u001b[0m \u001b[38;5;28misinstance\u001b[39m(task\u001b[38;5;241m.\u001b[39moutputs[\u001b[38;5;241m0\u001b[39m]\u001b[38;5;241m.\u001b[39mmetrics[\u001b[38;5;124m'\u001b[39m\u001b[38;5;124mtrain\u001b[39m\u001b[38;5;124m'\u001b[39m], Dict[\u001b[38;5;28mstr\u001b[39m, Metric])\n",
      "File \u001b[0;32m~/miniconda3/lib/python3.11/typing.py:1298\u001b[0m, in \u001b[0;36m_BaseGenericAlias.__instancecheck__\u001b[0;34m(self, obj)\u001b[0m\n\u001b[1;32m   1297\u001b[0m \u001b[38;5;28;01mdef\u001b[39;00m \u001b[38;5;21m__instancecheck__\u001b[39m(\u001b[38;5;28mself\u001b[39m, obj):\n\u001b[0;32m-> 1298\u001b[0m     \u001b[38;5;28;01mreturn\u001b[39;00m \u001b[38;5;28mself\u001b[39m\u001b[38;5;241m.\u001b[39m\u001b[38;5;21m__subclasscheck__\u001b[39m(\u001b[38;5;28mtype\u001b[39m(obj))\n",
      "File \u001b[0;32m~/miniconda3/lib/python3.11/typing.py:1301\u001b[0m, in \u001b[0;36m_BaseGenericAlias.__subclasscheck__\u001b[0;34m(self, cls)\u001b[0m\n\u001b[1;32m   1300\u001b[0m \u001b[38;5;28;01mdef\u001b[39;00m \u001b[38;5;21m__subclasscheck__\u001b[39m(\u001b[38;5;28mself\u001b[39m, \u001b[38;5;28mcls\u001b[39m):\n\u001b[0;32m-> 1301\u001b[0m     \u001b[38;5;28;01mraise\u001b[39;00m \u001b[38;5;167;01mTypeError\u001b[39;00m(\u001b[38;5;124m\"\u001b[39m\u001b[38;5;124mSubscripted generics cannot be used with\u001b[39m\u001b[38;5;124m\"\u001b[39m\n\u001b[1;32m   1302\u001b[0m                     \u001b[38;5;124m\"\u001b[39m\u001b[38;5;124m class and instance checks\u001b[39m\u001b[38;5;124m\"\u001b[39m)\n",
      "\u001b[0;31mTypeError\u001b[0m: Subscripted generics cannot be used with class and instance checks"
     ]
    }
   ],
   "source": [
    "isinstance(task.outputs[0].metrics['train'], Dict[str, Metric])"
   ]
  },
  {
   "cell_type": "code",
   "execution_count": null,
   "metadata": {},
   "outputs": [],
   "source": [
    "nn.ModuleDict"
   ]
  },
  {
   "cell_type": "code",
   "execution_count": null,
   "metadata": {},
   "outputs": [],
   "source": []
  },
  {
   "cell_type": "code",
   "execution_count": null,
   "metadata": {},
   "outputs": [],
   "source": [
    "a = {'a': 1, 'b': 2}"
   ]
  },
  {
   "cell_type": "code",
   "execution_count": null,
   "metadata": {},
   "outputs": [],
   "source": [
    "a.get('c', 3)"
   ]
  },
  {
   "cell_type": "code",
   "execution_count": null,
   "metadata": {},
   "outputs": [],
   "source": [
    "a"
   ]
  },
  {
   "cell_type": "code",
   "execution_count": null,
   "metadata": {},
   "outputs": [],
   "source": [
    "for k in a:\n",
    "    print(a[k])"
   ]
  },
  {
   "cell_type": "code",
   "execution_count": null,
   "metadata": {},
   "outputs": [],
   "source": [
    "cfg = read_user_config('nequip.yaml')"
   ]
  },
  {
   "cell_type": "code",
   "execution_count": null,
   "metadata": {},
   "outputs": [],
   "source": [
    "import logging\n",
    "logger = logging.getLogger(\"simple_example\")\n",
    "logger.setLevel(logging.DEBUG)\n",
    "# 建立一个filehandler来把日志记录在文件里，级别为debug以上\n",
    "fh = logging.FileHandler(\"spam.log\")\n",
    "fh.setLevel(logging.DEBUG)\n",
    "# 建立一个streamhandler来把日志打在CMD窗口上，级别为error以上\n",
    "ch = logging.StreamHandler()\n",
    "ch.setLevel(logging.DEBUG)\n",
    "# 设置日志格式\n",
    "formatter = logging.Formatter(\"%(asctime)s - %(name)s - %(levelname)s - %(message)s\")\n",
    "ch.setFormatter(formatter)\n",
    "fh.setFormatter(formatter)\n",
    "#将相应的handler添加在logger对象中\n",
    "logger.addHandler(ch)\n",
    "# logger.addHandler(fh)\n",
    "# 开始打日志\n",
    "logger.debug(\"debug message\")\n",
    "logger.info(\"info message\")\n",
    "logger.warn(\"warn message\")\n",
    "logger.error(\"error message\")\n",
    "logger.critical(\"critical message\")"
   ]
  },
  {
   "cell_type": "code",
   "execution_count": null,
   "metadata": {},
   "outputs": [],
   "source": [
    "model = instantiate(cfg.model)"
   ]
  },
  {
   "cell_type": "code",
   "execution_count": null,
   "metadata": {},
   "outputs": [],
   "source": [
    "script(model)"
   ]
  },
  {
   "cell_type": "code",
   "execution_count": null,
   "metadata": {},
   "outputs": [],
   "source": [
    "cfg.new = 'new'"
   ]
  },
  {
   "cell_type": "code",
   "execution_count": null,
   "metadata": {},
   "outputs": [],
   "source": []
  },
  {
   "cell_type": "code",
   "execution_count": null,
   "metadata": {},
   "outputs": [],
   "source": [
    "config"
   ]
  },
  {
   "cell_type": "code",
   "execution_count": null,
   "metadata": {},
   "outputs": [],
   "source": [
    "config.new = 'new'"
   ]
  },
  {
   "cell_type": "code",
   "execution_count": null,
   "metadata": {},
   "outputs": [],
   "source": [
    "cfg.model"
   ]
  },
  {
   "cell_type": "code",
   "execution_count": null,
   "metadata": {},
   "outputs": [],
   "source": []
  },
  {
   "cell_type": "code",
   "execution_count": null,
   "metadata": {},
   "outputs": [],
   "source": []
  },
  {
   "cell_type": "code",
   "execution_count": null,
   "metadata": {},
   "outputs": [],
   "source": [
    "model_path = [str(f) for f in Path(f\"/home/xinyang\").rglob(\"best_model_epoch*\")]\n",
    "val_loss = float('inf')\n",
    "index = 0\n",
    "for i, p in enumerate(model_path):\n",
    "    loss = float(p.split('=')[-1].rstrip('.ckpt'))\n",
    "    if loss < val_loss:\n",
    "        val_loss = loss\n",
    "        index = i\n",
    "model_path = model_path[index]  \n",
    "log.info(f\"Deploy trained model from {model_path}\")\n",
    "task = task.load_from_checkpoint(checkpoint_path=f\"{model_path}\", model=model)\n",
    "model_compiled = script(task.model)\n",
    "metadata = {\n",
    "    \"cutoff\": str(model_compiled.representation.cutoff).encode(\"ascii\"),\n",
    "    \n",
    "}\n",
    "model_compiled.save(f\"{config.run_path}/compiled_model.pt\", _extra_files=metadata)\n",
    "log.info(f\"Deploying compiled model at <{config.run_path}/compiled_model.pt>\")"
   ]
  },
  {
   "cell_type": "code",
   "execution_count": null,
   "metadata": {},
   "outputs": [],
   "source": [
    "for name, param in model.named_parameters():\n",
    "    if isinstance(param, float):\n",
    "        print(name)"
   ]
  },
  {
   "cell_type": "code",
   "execution_count": null,
   "metadata": {},
   "outputs": [],
   "source": [
    "for k, v in model.named_modules():\n",
    "    print(k)"
   ]
  },
  {
   "cell_type": "code",
   "execution_count": null,
   "metadata": {},
   "outputs": [],
   "source": [
    "module_dict = dict(model.named_modules())"
   ]
  },
  {
   "cell_type": "code",
   "execution_count": null,
   "metadata": {},
   "outputs": [],
   "source": [
    "model.representation.interaction[0]"
   ]
  },
  {
   "cell_type": "code",
   "execution_count": null,
   "metadata": {},
   "outputs": [],
   "source": [
    "torch.zeros((1,))"
   ]
  },
  {
   "cell_type": "code",
   "execution_count": null,
   "metadata": {},
   "outputs": [],
   "source": [
    "for name, param in module_dict['representation.interactions.0.conv'].named_buffers():\n",
    "    print(name, param)"
   ]
  },
  {
   "cell_type": "code",
   "execution_count": null,
   "metadata": {},
   "outputs": [],
   "source": [
    "module_dict['representation.interactions.0.conv'].avg_num_neighbors"
   ]
  },
  {
   "cell_type": "code",
   "execution_count": null,
   "metadata": {},
   "outputs": [],
   "source": [
    "import e3nn"
   ]
  },
  {
   "cell_type": "code",
   "execution_count": null,
   "metadata": {},
   "outputs": [],
   "source": [
    "new_dict = dict(module_dict['representation.interactions.0.conv'].named_modules())"
   ]
  },
  {
   "cell_type": "code",
   "execution_count": null,
   "metadata": {},
   "outputs": [],
   "source": [
    "new_dict.keys()"
   ]
  },
  {
   "cell_type": "code",
   "execution_count": null,
   "metadata": {},
   "outputs": [],
   "source": [
    "e3nn.util.jit.script(module_dict['representation.interactions.0.conv.linear_1'])"
   ]
  },
  {
   "cell_type": "code",
   "execution_count": null,
   "metadata": {},
   "outputs": [],
   "source": []
  },
  {
   "cell_type": "code",
   "execution_count": null,
   "metadata": {},
   "outputs": [],
   "source": [
    "e3nn.util.jit.script(module_dict['representation.interactions.0.conv'])"
   ]
  },
  {
   "cell_type": "code",
   "execution_count": null,
   "metadata": {},
   "outputs": [],
   "source": []
  },
  {
   "cell_type": "code",
   "execution_count": null,
   "metadata": {},
   "outputs": [],
   "source": []
  },
  {
   "cell_type": "code",
   "execution_count": null,
   "metadata": {},
   "outputs": [],
   "source": [
    "for modules in model.\n",
    "script(model)"
   ]
  },
  {
   "cell_type": "code",
   "execution_count": null,
   "metadata": {},
   "outputs": [],
   "source": [
    "for name, param in model.named_buffers():\n",
    "    print(name, type(param))"
   ]
  },
  {
   "cell_type": "code",
   "execution_count": null,
   "metadata": {},
   "outputs": [],
   "source": []
  },
  {
   "cell_type": "code",
   "execution_count": null,
   "metadata": {},
   "outputs": [],
   "source": [
    "model_path = [str(f) for f in Path(f\"/home/xinyang\").glob(\"best_model_epoch*\")]\n",
    "val_loss = float('inf')\n",
    "index = 0\n",
    "for i, p in enumerate(model_path):\n",
    "    loss = float(p.split('=')[-1].rstrip('.ckpt'))\n",
    "    if loss < val_loss:\n",
    "        val_loss = loss\n",
    "        index = i\n",
    "model_path = model_path[index]\n",
    "\n",
    "task = task.load_from_checkpoint(model_path, model=model, strict=False)\n",
    "# model_compiled = script(task.model)\n",
    "\n",
    "# metadata = {\n",
    "#     \"cutoff\": str(model_compiled.representation.cutoff).encode(\"ascii\"),\n",
    "#     \"model_config\": cfg.model,\n",
    "# }\n",
    "\n",
    "# model_compiled.save('/home/xinyang/compiled_model.pt', _extra_files=metadata)"
   ]
  },
  {
   "cell_type": "code",
   "execution_count": null,
   "metadata": {},
   "outputs": [],
   "source": []
  },
  {
   "cell_type": "code",
   "execution_count": null,
   "metadata": {},
   "outputs": [],
   "source": [
    "cfg = read_user_config('nequip.yaml')"
   ]
  },
  {
   "cell_type": "code",
   "execution_count": null,
   "metadata": {},
   "outputs": [],
   "source": [
    "model = instantiate(cfg.model)"
   ]
  },
  {
   "cell_type": "code",
   "execution_count": null,
   "metadata": {},
   "outputs": [],
   "source": [
    "script(model)"
   ]
  },
  {
   "cell_type": "code",
   "execution_count": null,
   "metadata": {},
   "outputs": [],
   "source": [
    "model.representation.embeddings.onehot_embedding.species"
   ]
  },
  {
   "cell_type": "code",
   "execution_count": null,
   "metadata": {},
   "outputs": [],
   "source": [
    "task = instantiate(cfg.task, model=model)"
   ]
  },
  {
   "cell_type": "code",
   "execution_count": null,
   "metadata": {},
   "outputs": [],
   "source": [
    "module_dict.keys()"
   ]
  },
  {
   "cell_type": "code",
   "execution_count": null,
   "metadata": {},
   "outputs": [],
   "source": [
    "model.representation.interaction[0]"
   ]
  },
  {
   "cell_type": "code",
   "execution_count": null,
   "metadata": {},
   "outputs": [],
   "source": [
    "script(model.representation.interactions[0].conv.tp)"
   ]
  },
  {
   "cell_type": "code",
   "execution_count": null,
   "metadata": {},
   "outputs": [],
   "source": [
    "task = task.load_from_checkpoint(model_path, model=model, strict=False)"
   ]
  },
  {
   "cell_type": "code",
   "execution_count": null,
   "metadata": {},
   "outputs": [],
   "source": [
    "task"
   ]
  },
  {
   "cell_type": "code",
   "execution_count": null,
   "metadata": {},
   "outputs": [],
   "source": [
    "state_dict = torch.load(model_path)"
   ]
  },
  {
   "cell_type": "code",
   "execution_count": null,
   "metadata": {},
   "outputs": [],
   "source": [
    "state_dict['state_dict']['model.output_modules.2.atomic_energies'] = torch.zeros((119,), dtype=torch.float, device='cuda:0')"
   ]
  },
  {
   "cell_type": "code",
   "execution_count": null,
   "metadata": {},
   "outputs": [],
   "source": [
    "torch.save(state_dict, model_path)"
   ]
  },
  {
   "cell_type": "code",
   "execution_count": null,
   "metadata": {},
   "outputs": [],
   "source": [
    "model.cutoff"
   ]
  },
  {
   "cell_type": "code",
   "execution_count": null,
   "metadata": {},
   "outputs": [],
   "source": [
    "cfg"
   ]
  },
  {
   "cell_type": "code",
   "execution_count": null,
   "metadata": {},
   "outputs": [],
   "source": [
    "datamodule = instantiate(cfg.data)"
   ]
  },
  {
   "cell_type": "code",
   "execution_count": null,
   "metadata": {},
   "outputs": [],
   "source": [
    "datamodule.setup()"
   ]
  },
  {
   "cell_type": "code",
   "execution_count": null,
   "metadata": {},
   "outputs": [],
   "source": [
    "optim = instantiate(cfg.task.optimizer)(model.parameters())"
   ]
  },
  {
   "cell_type": "code",
   "execution_count": null,
   "metadata": {},
   "outputs": [],
   "source": []
  },
  {
   "cell_type": "code",
   "execution_count": null,
   "metadata": {},
   "outputs": [],
   "source": [
    "sample = next(iter(datamodule.train_dataset))"
   ]
  },
  {
   "cell_type": "code",
   "execution_count": null,
   "metadata": {},
   "outputs": [],
   "source": [
    "sample[\"_node_feat\"].shape"
   ]
  },
  {
   "cell_type": "code",
   "execution_count": null,
   "metadata": {},
   "outputs": [],
   "source": [
    "sample[\"_node_attr\"].shape"
   ]
  },
  {
   "cell_type": "code",
   "execution_count": null,
   "metadata": {},
   "outputs": [],
   "source": [
    "model.representation.interactions[1].skip_tp"
   ]
  },
  {
   "cell_type": "code",
   "execution_count": null,
   "metadata": {},
   "outputs": [],
   "source": [
    "model(sample)"
   ]
  },
  {
   "cell_type": "code",
   "execution_count": null,
   "metadata": {},
   "outputs": [],
   "source": [
    "model = instantiate(cfg.model)"
   ]
  },
  {
   "cell_type": "code",
   "execution_count": null,
   "metadata": {},
   "outputs": [],
   "source": [
    "optimizer = torch.optim.Adam(\n",
    "    net.parameters(), \n",
    "    lr=args.initial_lr,\n",
    ")\n",
    "criterion = torch.nn.MSELoss()"
   ]
  },
  {
   "cell_type": "code",
   "execution_count": null,
   "metadata": {},
   "outputs": [],
   "source": []
  },
  {
   "cell_type": "code",
   "execution_count": null,
   "metadata": {},
   "outputs": [],
   "source": []
  },
  {
   "cell_type": "code",
   "execution_count": null,
   "metadata": {},
   "outputs": [],
   "source": []
  },
  {
   "cell_type": "code",
   "execution_count": null,
   "metadata": {},
   "outputs": [],
   "source": []
  },
  {
   "cell_type": "code",
   "execution_count": null,
   "metadata": {},
   "outputs": [],
   "source": [
    "task = instantiate(cfg.task, model=model)"
   ]
  },
  {
   "cell_type": "code",
   "execution_count": null,
   "metadata": {},
   "outputs": [],
   "source": [
    "trainer = instantiate(cfg.trainer)"
   ]
  },
  {
   "cell_type": "code",
   "execution_count": null,
   "metadata": {},
   "outputs": [],
   "source": [
    "trainer.fit(task, datamodule=datamodule)"
   ]
  },
  {
   "cell_type": "code",
   "execution_count": null,
   "metadata": {},
   "outputs": [],
   "source": [
    "file_path = \"models/Au_100/96_node_3_layer.pth\"\n",
    "num_interactions = int(file_path.split('/')[-1].split('_')[2])\n",
    "num_features = int(file_path.split('/')[-1].split('_')[0])\n",
    "\n",
    "cfg.model.representation.num_features = num_features\n",
    "cfg.model.representation.num_interactions = num_interactions\n",
    "model = instantiate(cfg.model)\n",
    "\n",
    "# load old model\n",
    "old_model = PainnModel(\n",
    "    num_interactions=num_interactions,\n",
    "    node_size=num_features,\n",
    "    cutoff=5.0,\n",
    ")\n",
    "state_dict = torch.load(file_path) \n",
    "old_model.load_state_dict(state_dict[\"model\"])\n",
    "\n",
    "# load new model\n",
    "cfg.model.representation.num_features = num_features\n",
    "cfg.model.representation.num_interactions = num_interactions\n",
    "model = instantiate(cfg.model)\n",
    "\n",
    "representation = OrderedDict()\n",
    "del_keys = ['normalization', 'atomwise_normalization', 'normalize_stddev', 'normalize_mean']\n",
    "for k, v in state_dict[\"model\"].items():\n",
    "    if k not in del_keys:\n",
    "        representation[k] = v\n",
    "\n",
    "rescale = OrderedDict([\n",
    "    ('atomwise_normalization', state_dict[\"model\"]['atomwise_normalization']),\n",
    "    ('scale', state_dict[\"model\"]['normalize_stddev'].unsqueeze(-1)),\n",
    "    ('shift', state_dict[\"model\"]['normalize_mean'].unsqueeze(-1)),\n",
    "])\n",
    "\n",
    "model.representation.load_state_dict(representation)\n",
    "model.output_modules[1].load_state_dict(rescale, strict=False)\n",
    "compiled_model = script(model)\n",
    "metadata = {\"cutoff\": str(compiled_model.representation.cutoff).encode(\"ascii\")}\n",
    "compiled_model.save(f\"models/compiled_model/{num_features}_node_{num_interactions}_layer.pt\", _extra_files=metadata)"
   ]
  },
  {
   "cell_type": "code",
   "execution_count": null,
   "metadata": {},
   "outputs": [],
   "source": [
    "class EnsembleModel(nn.Module):\n",
    "    \"\"\"\n",
    "    Ensemble model of PaiNN. This is used to get uncertainty informations.\n",
    "    \"\"\"\n",
    "    def __init__(self, models: List[NeuralNetworkPotential]) -> None:\n",
    "        super().__init__()\n",
    "        self.models = nn.ModuleList([model for model in models])\n",
    "\n",
    "    def forward(self, data: properties.Type) -> properties.Type:\n",
    "        energy = []\n",
    "        forces = []\n",
    "        for model in self.models:\n",
    "            out = model(data)\n",
    "            energy.append(out[properties.energy].detach())\n",
    "            forces.append(out[properties.forces].detach())\n",
    "        \n",
    "        energy = torch.stack(energy)\n",
    "        forces = torch.stack(forces)\n",
    "        f_scatter = torch.zeros(data[properties.n_atoms].shape[0], device=out[properties.energy].device)\n",
    "        result_dict ={\n",
    "            'energy': torch.mean(energy, dim=0),\n",
    "            'forces': torch.mean(forces, dim=0),\n",
    "            'e_var': torch.var(energy, dim=0),\n",
    "            'e_sd': torch.std(energy, dim=0),\n",
    "            'f_var': f_scatter.index_add(0, data[properties.image_idx], torch.var(forces, dim=0).mean(dim=1)) / data[properties.n_atoms],\n",
    "        }\n",
    "        \n",
    "        result_dict['f_sd'] = result_dict['f_var'].sqrt()\n",
    "        if 'energy' in data.keys():\n",
    "            e_diff = result_dict['energy'] - data['energy']\n",
    "            f_diff = result_dict['forces'] - data['forces']\n",
    "            result_dict['e_ae'] = torch.abs(e_diff)\n",
    "            result_dict['e_se'] = torch.square(e_diff)\n",
    "            result_dict['f_ae'] = f_scatter.index_add(0, data[properties.image_idx], torch.abs(f_diff).mean(dim=1)) / data[properties.n_atoms]\n",
    "            result_dict['f_se'] = f_scatter.index_add(0, data[properties.image_idx], torch.square(f_diff).mean(dim=1)) / data[properties.n_atoms]\n",
    "\n",
    "        return result_dict "
   ]
  },
  {
   "cell_type": "code",
   "execution_count": null,
   "metadata": {},
   "outputs": [],
   "source": [
    "models = []\n",
    "for path in Path('models').rglob('compiled_model/*.pt'):\n",
    "    models.append(torch.jit.load(path))"
   ]
  },
  {
   "cell_type": "code",
   "execution_count": null,
   "metadata": {},
   "outputs": [],
   "source": [
    "ensemble = EnsembleModel(models)"
   ]
  },
  {
   "cell_type": "code",
   "execution_count": null,
   "metadata": {},
   "outputs": [],
   "source": [
    "datamodule.setup()\n",
    "batch = next(iter(datamodule.train_dataset))\n",
    "new_batch = copy.deepcopy(batch)\n",
    "\n",
    "batch[\"num_atoms\"] = batch.pop(\"_n_atoms\")\n",
    "batch[\"elems\"] = batch.pop(\"_atomic_number\")\n",
    "batch[\"coord\"] = batch.pop(\"_positions\")\n",
    "batch[\"pairs\"] = batch.pop(\"_edge_idx\")\n",
    "batch[\"n_diff\"] = batch.pop(\"_edge_diff\")\n",
    "batch[\"cell\"] = batch.pop(\"_cell\")\n",
    "batch[\"num_pairs\"] = batch.pop(\"_n_pairs\")\n",
    "\n",
    "# old_results = old_model(batch)\n",
    "# new_results = model(new_batch)\n",
    "# torch.allclose(old_results[\"forces\"], new_results[\"forces\"], atol=1e-4)"
   ]
  },
  {
   "cell_type": "code",
   "execution_count": null,
   "metadata": {},
   "outputs": [],
   "source": [
    "nequip_model = torch.jit.load(\"/home/xinyang/deployed_model.pth\")"
   ]
  },
  {
   "cell_type": "code",
   "execution_count": null,
   "metadata": {},
   "outputs": [],
   "source": [
    "with open(\"/home/xinyang/full.yaml\") as f:\n",
    "    config = yaml.safe_load(f)"
   ]
  },
  {
   "cell_type": "code",
   "execution_count": null,
   "metadata": {},
   "outputs": [],
   "source": [
    "aspirin = np.load('./benchmark_data/small_aspirin_dataset.npz')\n",
    "np.savez(\n",
    "    \"small_aspirin_dataset.npz\", \n",
    "    E=aspirin[\"E\"][:1000],\n",
    "    name=aspirin[\"name\"],\n",
    "    F=aspirin[\"F\"][:1000],\n",
    "    theory=aspirin[\"theory\"],\n",
    "    R=aspirin[\"R\"][:1000],\n",
    "    z=aspirin[\"z\"],\n",
    "    type=aspirin[\"type\"],\n",
    "    md5=aspirin[\"md5\"],\n",
    ")"
   ]
  },
  {
   "cell_type": "code",
   "execution_count": null,
   "metadata": {},
   "outputs": [],
   "source": [
    "model.representation.embeddings.radial_basis.load_state_dict(nequip_model.model.func.radial_basis.state_dict())\n",
    "model.representation.embeddings.chemical_embedding.load_state_dict(nequip_model.model.func.chemical_embedding.state_dict())\n",
    "\n",
    "model.representation.interactions[0].load_state_dict(nequip_model.model.func.layer0_convnet.state_dict(), strict=False)\n",
    "model.representation.interactions[1].load_state_dict(nequip_model.model.func.layer1_convnet.state_dict(), strict=False)\n",
    "model.representation.interactions[2].load_state_dict(nequip_model.model.func.layer2_convnet.state_dict(), strict=False)\n",
    "model.representation.interactions[3].load_state_dict(nequip_model.model.func.layer3_convnet.state_dict(), strict=False)\n",
    "model.representation.interactions[4].load_state_dict(nequip_model.model.func.layer4_convnet.state_dict(), strict=False)\n",
    "\n",
    "\n",
    "model.representation.readout_mlp[0].load_state_dict(nequip_model.model.func.conv_to_output_hidden.linear.state_dict())\n",
    "model.representation.readout_mlp[1].load_state_dict(nequip_model.model.func.output_hidden_to_scalar.linear.state_dict())\n",
    "\n",
    "model.representation.interactions[0].conv.avg_num_neighbors = torch.tensor([nequip_model.model.func.layer0_convnet.conv.avg_num_neighbors])\n",
    "model.representation.interactions[1].conv.avg_num_neighbors = torch.tensor([nequip_model.model.func.layer1_convnet.conv.avg_num_neighbors])\n",
    "model.representation.interactions[2].conv.avg_num_neighbors = torch.tensor([nequip_model.model.func.layer2_convnet.conv.avg_num_neighbors])\n",
    "model.representation.interactions[3].conv.avg_num_neighbors = torch.tensor([nequip_model.model.func.layer3_convnet.conv.avg_num_neighbors])\n",
    "model.representation.interactions[4].conv.avg_num_neighbors = torch.tensor([nequip_model.model.func.layer4_convnet.conv.avg_num_neighbors])\n",
    "\n",
    "model.output_modules[-1].scale = nequip_model.scale_by.unsqueeze(-1)\n",
    "model.output_modules[-1].shift = nequip_model.shift_by.unsqueeze(-1)\n",
    "model.output_modules[-1].has_scale = True\n",
    "model.output_modules[-1].has_shift = True\n",
    "model.output_modules[-1].atomwise_normalization = torch.tensor(False)"
   ]
  },
  {
   "cell_type": "code",
   "execution_count": null,
   "metadata": {},
   "outputs": [],
   "source": [
    "dataset = dataset_from_config(config)\n",
    "datamodule.setup()"
   ]
  },
  {
   "cell_type": "code",
   "execution_count": null,
   "metadata": {},
   "outputs": [],
   "source": [
    "sample = dataset[0]\n",
    "sample = AtomicData.to_AtomicDataDict(sample)\n",
    "sample_2 = next(iter(datamodule.dataset))"
   ]
  },
  {
   "cell_type": "code",
   "execution_count": null,
   "metadata": {},
   "outputs": [],
   "source": [
    "model(sample_2)"
   ]
  },
  {
   "cell_type": "code",
   "execution_count": null,
   "metadata": {},
   "outputs": [],
   "source": [
    "results = nequip_model(sample)"
   ]
  },
  {
   "cell_type": "code",
   "execution_count": null,
   "metadata": {},
   "outputs": [],
   "source": [
    "results['total_energy']"
   ]
  },
  {
   "cell_type": "code",
   "execution_count": null,
   "metadata": {},
   "outputs": [],
   "source": [
    "modules = []\n",
    "modules.append(model.input_modules[0])\n",
    "for k, v in model.representation.embeddings.items():\n",
    "    modules.append(v)\n",
    "modules.append(model.representation.interactions[0])\n",
    "modules.append(model.representation.interactions[1])\n",
    "modules.append(model.representation.interactions[2])\n",
    "modules.append(model.representation.interactions[3])\n",
    "modules.append(model.representation.interactions[4])"
   ]
  },
  {
   "cell_type": "code",
   "execution_count": null,
   "metadata": {},
   "outputs": [],
   "source": [
    "for m in modules:\n",
    "    sample_2 = m(sample_2)\n",
    "\n",
    "sample_2[properties.atomic_energy] = model.representation.readout_mlp(sample_2[properties.node_feat]).squeeze()\n",
    "sample_2 = model.output_modules[0](sample_2)\n",
    "sample_2 = model.output_modules[1](sample_2)\n",
    "# sample_2 = model.output_modules[2](sample_2)"
   ]
  },
  {
   "cell_type": "code",
   "execution_count": null,
   "metadata": {},
   "outputs": [],
   "source": [
    "sample_2[\"energy\"]"
   ]
  },
  {
   "cell_type": "code",
   "execution_count": null,
   "metadata": {},
   "outputs": [],
   "source": [
    "embeddings = [\n",
    "    nequip_model.model.func.one_hot,\n",
    "    nequip_model.model.func.spharm_edges,\n",
    "    nequip_model.model.func.radial_basis,\n",
    "    nequip_model.model.func.chemical_embedding,\n",
    "    nequip_model.model.func.layer0_convnet,\n",
    "    nequip_model.model.func.layer1_convnet,\n",
    "    nequip_model.model.func.layer2_convnet,\n",
    "    nequip_model.model.func.layer3_convnet,\n",
    "    nequip_model.model.func.layer4_convnet,\n",
    "    nequip_model.model.func.conv_to_output_hidden,\n",
    "    nequip_model.model.func.output_hidden_to_scalar,\n",
    "    # nequip_model.model.func.per_species_rescale,\n",
    "    nequip_model.model.func.total_energy_sum,\n",
    "]"
   ]
  },
  {
   "cell_type": "code",
   "execution_count": null,
   "metadata": {},
   "outputs": [],
   "source": [
    "for m in embeddings:\n",
    "    sample = m(sample)"
   ]
  },
  {
   "cell_type": "code",
   "execution_count": null,
   "metadata": {},
   "outputs": [],
   "source": [
    "sample['total_energy']"
   ]
  },
  {
   "cell_type": "code",
   "execution_count": null,
   "metadata": {},
   "outputs": [],
   "source": [
    "for m in nequip_model.named_modules():\n",
    "    print(m[0])"
   ]
  },
  {
   "cell_type": "code",
   "execution_count": null,
   "metadata": {},
   "outputs": [],
   "source": [
    "update_metrics"
   ]
  },
  {
   "cell_type": "code",
   "execution_count": null,
   "metadata": {},
   "outputs": [],
   "source": [
    "results = nequip_model(sample)"
   ]
  },
  {
   "cell_type": "code",
   "execution_count": null,
   "metadata": {},
   "outputs": [],
   "source": [
    "sample_2['energy']"
   ]
  },
  {
   "cell_type": "code",
   "execution_count": null,
   "metadata": {},
   "outputs": [],
   "source": [
    "sample[\"total_energy\"]"
   ]
  },
  {
   "cell_type": "code",
   "execution_count": null,
   "metadata": {},
   "outputs": [],
   "source": [
    "nequip_model.model.func"
   ]
  },
  {
   "cell_type": "code",
   "execution_count": null,
   "metadata": {},
   "outputs": [],
   "source": [
    "sample_2[\"energy\"]"
   ]
  },
  {
   "cell_type": "code",
   "execution_count": null,
   "metadata": {},
   "outputs": [],
   "source": [
    "sample = nequip_model.model(sample)"
   ]
  },
  {
   "cell_type": "code",
   "execution_count": null,
   "metadata": {},
   "outputs": [],
   "source": []
  },
  {
   "cell_type": "code",
   "execution_count": null,
   "metadata": {},
   "outputs": [],
   "source": [
    "results[\"total_energy\"]"
   ]
  },
  {
   "cell_type": "code",
   "execution_count": null,
   "metadata": {},
   "outputs": [],
   "source": [
    "sample_2[\"energy\"]"
   ]
  },
  {
   "cell_type": "code",
   "execution_count": null,
   "metadata": {},
   "outputs": [],
   "source": [
    "sample[\"total_energy\"] * nequip_model.scale_by + nequip_model.shift_by"
   ]
  },
  {
   "cell_type": "code",
   "execution_count": null,
   "metadata": {},
   "outputs": [],
   "source": [
    "sample_2[properties.node_feat]"
   ]
  },
  {
   "cell_type": "code",
   "execution_count": null,
   "metadata": {},
   "outputs": [],
   "source": [
    "sample[AtomicDataDict.NODE_FEATURES_KEY]"
   ]
  },
  {
   "cell_type": "code",
   "execution_count": null,
   "metadata": {},
   "outputs": [],
   "source": [
    "from e3nn.nn import FullyConnectedNet\n",
    "from curator.layer import ShiftedSoftPlus"
   ]
  },
  {
   "cell_type": "code",
   "execution_count": null,
   "metadata": {},
   "outputs": [],
   "source": [
    "fc = FullyConnectedNet(\n",
    "    [8, 64, 64, 64],\n",
    "    {\n",
    "        \"ssp\": ShiftedSoftPlus,\n",
    "        \"silu\": torch.nn.functional.silu,\n",
    "    }[\"silu\"],\n",
    ")"
   ]
  },
  {
   "cell_type": "code",
   "execution_count": null,
   "metadata": {},
   "outputs": [],
   "source": [
    "fc.load_state_dict(nequip_model.model.func.layer0_convnet.conv.fc.state_dict())"
   ]
  },
  {
   "cell_type": "code",
   "execution_count": null,
   "metadata": {},
   "outputs": [],
   "source": [
    "fc(sample_2[properties.edge_dist_embedding])"
   ]
  },
  {
   "cell_type": "code",
   "execution_count": null,
   "metadata": {},
   "outputs": [],
   "source": [
    "nequip_model.model.func.layer0_convnet.conv.fc(sample_2[properties.edge_dist_embedding])"
   ]
  },
  {
   "cell_type": "code",
   "execution_count": null,
   "metadata": {},
   "outputs": [],
   "source": [
    "weight = model.representation.interactions[0].conv.fc(sample_2[properties.edge_dist_embedding])\n",
    "\n",
    "x = sample_2[properties.node_feat]\n",
    "edge_idx = sample_2[properties.edge_idx]  # i, j index\n",
    "\n",
    "if model.representation.interactions[0].conv.sc is not None:\n",
    "    sc = model.representation.interactions[0].conv.sc(x, sample_2[properties.node_attr])\n",
    "\n",
    "x = model.representation.interactions[0].conv.linear_1(x)\n",
    "edge_features_2 = model.representation.interactions[0].conv.tp(\n",
    "    x[edge_idx[:, 1]], sample_2[properties.edge_diff_embedding], weight\n",
    ")\n",
    "x = scatter_add(edge_features_2, edge_idx[:, 0], dim_size=len(x), dim=0)\n",
    "\n",
    "# Necessary to get TorchScript to be able to type infer when its not None\n",
    "# avg_num_neigh: Optional[float] = self.avg_num_neighbors\n",
    "# if avg_num_neigh is not None:\n",
    "x = x.div(model.representation.interactions[0].conv.avg_num_neighbors**0.5)\n",
    "\n",
    "x = model.representation.interactions[0].conv.linear_2(x)\n",
    "\n",
    "if model.representation.interactions[0].conv.sc is not None:\n",
    "    x = x + sc\n",
    "\n",
    "sample_2[properties.node_feat] = x"
   ]
  },
  {
   "cell_type": "code",
   "execution_count": null,
   "metadata": {},
   "outputs": [],
   "source": [
    "weight = nequip_model.model.func.layer0_convnet.conv.fc(sample[AtomicDataDict.EDGE_EMBEDDING_KEY])\n",
    "\n",
    "x = sample[AtomicDataDict.NODE_FEATURES_KEY]\n",
    "edge_src = sample[AtomicDataDict.EDGE_INDEX_KEY][1]\n",
    "edge_dst = sample[AtomicDataDict.EDGE_INDEX_KEY][0]\n",
    "\n",
    "if nequip_model.model.func.layer0_convnet.conv.sc is not None:\n",
    "    sc = nequip_model.model.func.layer0_convnet.conv.sc(x, sample[AtomicDataDict.NODE_ATTRS_KEY])\n",
    "\n",
    "x = nequip_model.model.func.layer0_convnet.conv.linear_1(x)\n",
    "edge_features = nequip_model.model.func.layer0_convnet.conv.tp(\n",
    "    x[edge_src], sample[AtomicDataDict.EDGE_ATTRS_KEY], weight\n",
    ")\n",
    "x = scatter(edge_features, edge_dst, dim=0, dim_size=len(x))\n",
    "\n",
    "# Necessary to get TorchScript to be able to type infer when its not None\n",
    "avg_num_neigh: Optional[float] = nequip_model.model.func.layer0_convnet.conv.avg_num_neighbors\n",
    "if avg_num_neigh is not None:\n",
    "    x = x.div(avg_num_neigh**0.5)\n",
    "\n",
    "x = nequip_model.model.func.layer0_convnet.conv.linear_2(x)\n",
    "\n",
    "if nequip_model.model.func.layer0_convnet.conv.sc is not None:\n",
    "    x = x + sc\n",
    "\n",
    "sample[AtomicDataDict.NODE_FEATURES_KEY] = x"
   ]
  },
  {
   "cell_type": "code",
   "execution_count": null,
   "metadata": {},
   "outputs": [],
   "source": []
  },
  {
   "cell_type": "code",
   "execution_count": 12,
   "metadata": {},
   "outputs": [],
   "source": [
    "import torch\n",
    "from torch import nn\n",
    "import torch.nn.functional as F\n",
    "from torch_ema import ExponentialMovingAverage\n",
    "from typing import List, Optional, Dict, Type, Any\n",
    "from curator.data import properties\n",
    "from pytorch_lightning.utilities.types import STEP_OUTPUT\n",
    "import warnings\n",
    "import pytorch_lightning as pl\n",
    "import torchmetrics\n",
    "from torchmetrics import Metric\n",
    "import copy\n",
    "from pytorch_lightning import LightningDataModule\n",
    "from omegaconf import DictConfig\n",
    "import logging\n",
    "from collections import OrderedDict, defaultdict"
   ]
  },
  {
   "cell_type": "code",
   "execution_count": 13,
   "metadata": {},
   "outputs": [],
   "source": [
    "class ModelOutput(nn.Module):\n",
    "    \"\"\" Base class for model outputs.\"\"\"\n",
    "    def __init__(\n",
    "        self,\n",
    "        name: str,\n",
    "        loss_fn: Optional[nn.Module] = None,\n",
    "        loss_weight: float = 1.0,\n",
    "        metrics: Optional[Dict[str, Metric]] = None,\n",
    "        target_property: Optional[str]=None,\n",
    "    ) -> None:\n",
    "        \"\"\" Base class for model outputs. \n",
    "\n",
    "        Args:\n",
    "            name (str): Name of the output\n",
    "            loss_fn (Optional[nn.Module], optional): Loss function. Defaults to None.\n",
    "            loss_weight (float, optional): Loss weight. Defaults to 1.0.\n",
    "            metrics (Optional[Dict[str, Metric]], optional): Metrics. Defaults to None.\n",
    "            target_property (Optional[str], optional): Target property. Defaults to None.\n",
    "        \"\"\"\n",
    "        super().__init__()\n",
    "        self.name = name\n",
    "        self.target_property = target_property or name\n",
    "        self.loss_fn = loss_fn\n",
    "        self.loss_weight = loss_weight\n",
    "        self.train_metrics = nn.ModuleDict(metrics)\n",
    "        self.val_metrics = nn.ModuleDict({k: copy.copy(v) for k, v in metrics.items()})\n",
    "        self.test_metrics = nn.ModuleDict({k: copy.copy(v) for k, v in metrics.items()})\n",
    "        \n",
    "        # here we found a serious bug that deepcopy is not working in hydra instantiate!!!\n",
    "        self.metrics = {\n",
    "            \"train\": self.train_metrics,\n",
    "            \"val\": self.val_metrics,\n",
    "            \"test\": self.test_metrics,\n",
    "        }\n",
    "        \n",
    "        # accumulated loss\n",
    "        self.loss = defaultdict(lambda: 0.0)\n",
    "        self.num_obs = defaultdict(lambda: 0)\n",
    "    \n",
    "    def calculate_loss(self, pred: Dict, target: Dict, return_num_obs=True, subset: str='train') -> torch.Tensor:\n",
    "        if self.loss_weight == 0 or self.loss_fn is None:\n",
    "            return 0.0\n",
    "\n",
    "        loss = self.loss_weight * self.loss_fn(\n",
    "            pred[self.name], target[self.target_property]\n",
    "        )\n",
    "        num_obs = target[self.target_property].view(-1).shape[0]\n",
    "\n",
    "        self.loss[subset] += loss.detach()\n",
    "        self.num_obs[subset] += num_obs\n",
    "        \n",
    "        if return_num_obs:\n",
    "            return loss, num_obs\n",
    "        \n",
    "        return loss\n",
    "\n",
    "    def calculate_metrics(self, pred: Dict, target: Dict, subset: str) -> None:\n",
    "        batch_val = OrderedDict()\n",
    "        for k in self.metrics[subset]:\n",
    "            batch_val[f\"{subset}_{self.name}_{k}\"] = self.metrics[subset][k](pred[self.name], target[self.target_property])\n",
    "        return batch_val\n",
    "    \n",
    "    def reset_loss(self, subset: Optional[str]=None) -> None:\n",
    "        if subset is None:\n",
    "            for k in self.loss:\n",
    "                self.loss[k] = 0.0\n",
    "                self.num_obs[k] = 0\n",
    "        else:\n",
    "            self.loss[subset] = 0.0\n",
    "            self.num_obs[subset] = 0\n",
    "    \n",
    "    def reset_metrics(self, subset: Optional[str]=None) -> None:\n",
    "        if subset is None:\n",
    "            for k1 in self.metrics:\n",
    "                for k2 in self.metrics[k1]:\n",
    "                    self.metrics[k1][k2].reset()\n",
    "        else:\n",
    "            for k in self.metrics[subset]:\n",
    "                self.metrics[subset][k].reset()"
   ]
  },
  {
   "cell_type": "code",
   "execution_count": null,
   "metadata": {},
   "outputs": [],
   "source": []
  },
  {
   "cell_type": "code",
   "execution_count": null,
   "metadata": {},
   "outputs": [],
   "source": []
  },
  {
   "cell_type": "code",
   "execution_count": null,
   "metadata": {},
   "outputs": [],
   "source": []
  },
  {
   "cell_type": "code",
   "execution_count": null,
   "metadata": {},
   "outputs": [],
   "source": []
  }
 ],
 "metadata": {
  "kernelspec": {
   "display_name": "base",
   "language": "python",
   "name": "python3"
  },
  "language_info": {
   "codemirror_mode": {
    "name": "ipython",
    "version": 3
   },
   "file_extension": ".py",
   "mimetype": "text/x-python",
   "name": "python",
   "nbconvert_exporter": "python",
   "pygments_lexer": "ipython3",
   "version": "3.11.4"
  },
  "orig_nbformat": 4
 },
 "nbformat": 4,
 "nbformat_minor": 2
}
