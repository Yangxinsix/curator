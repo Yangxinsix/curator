{
 "cells": [
  {
   "cell_type": "code",
   "execution_count": 16,
   "metadata": {},
   "outputs": [],
   "source": [
    "from IPython.display import Image, display\n",
    "from ase.data.colors import jmol_colors\n",
    "from ase.visualize import view\n",
    "import subprocess, os\n",
    "from ase.io import read, write, Trajectory\n",
    "import asap3\n",
    "import numpy as np\n",
    "from ase.io.pov import get_bondpairs\n",
    "\n",
    "rotation = '-90x,90y,0z'\n",
    "#rotation = '-80x,0y,0z'\n",
    "#rotation = '0x,0y,0z'\n",
    "# (x1, y1, x2, y2), x1, y1 is the position of left-bottom corner, x2, y2 is the position of right-up corner\n",
    "bbox = (-15, -15, 15, 15)\n",
    "generic_settings = {\n",
    "    'rotation'       : rotation, # text string with rotation (default='' )\n",
    "    'bbox'           : bbox,\n",
    "    'radii'          : .95, # float, or a list with one float per atom\n",
    "    'show_unit_cell' : 1,   # 0, 1, or 2 to not show, show, and show all of cell\n",
    "#    'colors'         : colors,\n",
    "#    'scale'          : scale,\n",
    "#    'extra_offset'   : (0., 0.)\n",
    "}\n",
    "\n",
    "povray_settings = {\n",
    "#    'run_povray'     : False, # Run povray or just write .pov + .ini files\n",
    "    'display'        : False,# Display while rendering\n",
    "    'pause'          : True, # Pause when done rendering (only if display)\n",
    "    'transparent'    : False,# Transparent background\n",
    "    'canvas_width'   : 1000, # Width of canvas in pixels\n",
    "    'canvas_height'  : None, # Height of canvas in pixels\n",
    "    'camera_dist'    : 50.,  # Distance from camera to front atom\n",
    "    'image_plane'    : None, # Distance from front atom to image plane\n",
    "    'camera_type'    : 'orthographic', #'orthographic', #'perspective', # perspective, ultra_wide_angle\n",
    "    'point_lights'   : [],             # [[loc1, color1], [loc2, color2],...]\n",
    "    'area_light'     : [(2., 3., 40.), # location\n",
    "                        'White',       # color\n",
    "                        .7, .7, 3, 3], # width, height, Nlamps_x, Nlamps_y\n",
    "    'background'     : 'White',        # color\n",
    "    'celllinewidth'  : 0.0,  # Radius of the cylinders representing the cell\n",
    "    'textures'       : None, \n",
    "    'transmittances' : None,\n",
    "    'bondlinewidth'  : 0.1,\n",
    "    'bondatoms'      : [],\n",
    "}\n",
    "\n",
    "def plot_atoms(plt_atoms, name, render=True, remove_pov=True):\n",
    "    atoms = plt_atoms.copy()\n",
    "    atoms.translate((1.5, -1.5, 0))\n",
    "    atoms.wrap()\n",
    "    \n",
    "    bond_pairs = []\n",
    "    O2_idx = []\n",
    "    water_idx = []\n",
    "    hydro_idx = []\n",
    "    O1_idx = []\n",
    "    \n",
    "    O_idx = np.where(atoms.get_atomic_numbers() == 8)[0]\n",
    "    H_idx = np.where(atoms.get_atomic_numbers() == 1)[0]\n",
    "    # deal with periodic image problem\n",
    "    nl =  asap3.FullNeighborList(2, atoms)\n",
    "    for i in O_idx:\n",
    "        n_idx, n_diff, _ = nl.get_neighbors(i)\n",
    "        n_dist = np.linalg.norm(n_diff, axis=1)\n",
    "        \n",
    "        # get bond pairs, water indices, OH indices, O2 indices\n",
    "        n_idx_idx = [x for x in np.where((n_dist < 1.23) & (n_dist > 0.1))[0] if atoms.numbers[n_idx[x]] == 1]\n",
    "        OH_idx = n_idx[n_idx_idx]\n",
    "        \n",
    "        # deal with periodic image problem\n",
    "        rel_diff = atoms.positions[OH_idx] - atoms.positions[i]\n",
    "        atoms.positions[OH_idx] -= rel_diff - n_diff[n_idx_idx]\n",
    "        OO_idx = [n_idx[x] for x in np.where((n_dist < 1.9) & (n_dist > 0.1))[0] if atoms.numbers[n_idx[x]] == 8]\n",
    "        if OH_idx.size > 0:\n",
    "            for idx in OH_idx:\n",
    "                bond_pairs.append([i, idx, (0, 0, 0), 1])\n",
    "            if len(OH_idx) == 2:\n",
    "                water_idx.append((i, OH_idx[0], OH_idx[1]))\n",
    "            if len(OH_idx) == 1:\n",
    "                hydro_idx.append((i, OH_idx[0]))\n",
    "        elif len(OH_idx) == 0: \n",
    "            O1_idx.append(i)\n",
    "        if len(OO_idx) == 1:\n",
    "            O2_idx.append((i, OO_idx[0]))\n",
    "            \n",
    "    for o2 in O2_idx:\n",
    "        bond_pairs.append([o2[0], o2[1], (0, 0, 0), 2, (0.2, 0.2, 0)])\n",
    "\n",
    "    O2_idx = np.asarray(O2_idx)\n",
    "    water_idx = np.asarray(water_idx)\n",
    "    hydro_idx = np.asarray(hydro_idx)\n",
    "    O1_idx = np.asarray(O1_idx)\n",
    "    \n",
    "    # control radii\n",
    "    Z = atoms.get_atomic_numbers()\n",
    "    colors = jmol_colors[Z]\n",
    "    radii = np.ones_like(atoms.get_atomic_numbers(), dtype=float)\n",
    "    transmit = np.zeros_like(atoms.get_atomic_numbers(), dtype=float)\n",
    "    radii += 0.3\n",
    "    radii[O_idx] = 0.1\n",
    "    radii[H_idx] = 0.1\n",
    "    if O2_idx.size > 0:\n",
    "        radii[O2_idx.reshape(-1)] = .5\n",
    "    # radii[water_idx[:, 0]] = .5\n",
    "    # radii[water_idx[:, 1:].reshape(-1)] = .3\n",
    "#     surf_water = water_idx[atoms.positions[:,2][water_idx[:, 0]] < 13.5]\n",
    "#     radii[surf_water[:, 0]] = .5\n",
    "#     radii[surf_water[:, 1]] = .3\n",
    "#     radii[surf_water[:, 2]] = .3\n",
    "    if O1_idx.size > 0:\n",
    "        radii[O1_idx] = 0.5\n",
    "    \n",
    "#    radii[87] = .5\n",
    "    textures = ['jmol'] * len(atoms)\n",
    "    transmit[water_idx.reshape(-1)] = 0\n",
    "    if hydro_idx.size > 0:\n",
    "        radii[hydro_idx[:, 0]] = .5\n",
    "        radii[hydro_idx[:, 1]] = .3\n",
    "        colors[hydro_idx[:, 0]] = [0, 0, 1]\n",
    "        \n",
    "    # plot things\n",
    "    ase_settings = generic_settings.copy()\n",
    "    pov_settings = povray_settings.copy()\n",
    "\n",
    "    ase_settings['colors'] = colors\n",
    "    ase_settings['radii'] = radii\n",
    "    pov_settings['bondatoms'] = bond_pairs\n",
    "    pov_settings['transmittances'] = transmit\n",
    "    pov_settings['textures'] = textures\n",
    "    write('{}.pov'.format(name), atoms, povray_settings=pov_settings, **ase_settings)\n",
    "    if render:\n",
    "        pov_run = subprocess.run('povray {}.ini'.format(name), \n",
    "                                 shell=True, \n",
    "                                 stdout=subprocess.DEVNULL, \n",
    "                                 stderr=subprocess.DEVNULL)\n",
    "    if remove_pov:\n",
    "        os.remove('{}.ini'.format(name))\n",
    "        os.remove('{}.pov'.format(name))\n",
    "\n",
    "    # return water_idx"
   ]
  },
  {
   "cell_type": "code",
   "execution_count": 4,
   "metadata": {},
   "outputs": [],
   "source": [
    "atoms = read(\"../../aspirin_dft.traj\", 150000)"
   ]
  },
  {
   "cell_type": "code",
   "execution_count": 19,
   "metadata": {},
   "outputs": [
    {
     "data": {
      "text/plain": [
       "<Popen: returncode: None args: ['/home/xinyang/miniconda3/bin/python', '-m',...>"
      ]
     },
     "execution_count": 19,
     "metadata": {},
     "output_type": "execute_result"
    }
   ],
   "source": [
    "view(atoms)"
   ]
  },
  {
   "cell_type": "code",
   "execution_count": 11,
   "metadata": {},
   "outputs": [],
   "source": []
  },
  {
   "cell_type": "code",
   "execution_count": 17,
   "metadata": {},
   "outputs": [
    {
     "data": {
      "text/plain": [
       "<ase.io.pov.POVRAYInputs at 0x7f3d44491690>"
      ]
     },
     "execution_count": 17,
     "metadata": {},
     "output_type": "execute_result"
    }
   ],
   "source": [
    "bond_pairs = get_bondpairs(atoms, radius=1.1)\n",
    "ase_settings = generic_settings.copy()\n",
    "pov_settings = povray_settings.copy()\n",
    "\n",
    "pov_settings[\"bondatoms\"] = bond_pairs\n",
    "write('test.pov', atoms, povray_settings=pov_settings, **ase_settings)"
   ]
  },
  {
   "cell_type": "code",
   "execution_count": 5,
   "metadata": {},
   "outputs": [
    {
     "data": {
      "text/plain": [
       "<Popen: returncode: None args: ['/home/xinyang/miniconda3/bin/python', '-m',...>"
      ]
     },
     "execution_count": 5,
     "metadata": {},
     "output_type": "execute_result"
    }
   ],
   "source": [
    "view(atoms)"
   ]
  },
  {
   "cell_type": "code",
   "execution_count": null,
   "metadata": {},
   "outputs": [],
   "source": []
  },
  {
   "cell_type": "code",
   "execution_count": null,
   "metadata": {},
   "outputs": [],
   "source": [
    "def find_bonds(atoms):\n",
    "    "
   ]
  }
 ],
 "metadata": {
  "kernelspec": {
   "display_name": "base",
   "language": "python",
   "name": "python3"
  },
  "language_info": {
   "codemirror_mode": {
    "name": "ipython",
    "version": 3
   },
   "file_extension": ".py",
   "mimetype": "text/x-python",
   "name": "python",
   "nbconvert_exporter": "python",
   "pygments_lexer": "ipython3",
   "version": "3.11.4"
  },
  "orig_nbformat": 4
 },
 "nbformat": 4,
 "nbformat_minor": 2
}
